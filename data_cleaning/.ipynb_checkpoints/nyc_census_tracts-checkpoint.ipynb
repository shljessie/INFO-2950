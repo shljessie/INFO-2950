{
 "cells": [
  {
   "cell_type": "code",
   "execution_count": 1,
   "metadata": {},
   "outputs": [],
   "source": [
    "import numpy as np \n",
    "import pandas as pd "
   ]
  },
  {
   "cell_type": "markdown",
   "metadata": {},
   "source": [
    "The purpose of this Notebook, is to get a final table with the columns:\n",
    "Geoid, TractID, Central Longitude, and Central latitude \n",
    "For Geoids that corresponds to Census Tracts in NYC. "
   ]
  },
  {
   "cell_type": "markdown",
   "metadata": {},
   "source": [
    "The first step is to load all the required tables, as there is no single table that contains all of the information that we need. "
   ]
  },
  {
   "cell_type": "code",
   "execution_count": 2,
   "metadata": {},
   "outputs": [],
   "source": [
    "#This table provides the median income, and racial distribution of all nyc tracts from 2012-2017\n",
    "#Not used for the purposes of this notebook. \n",
    "race_and_income = pd.read_csv('race_and_income_data.csv')  "
   ]
  },
  {
   "cell_type": "code",
   "execution_count": 3,
   "metadata": {},
   "outputs": [],
   "source": [
    "#This table gives the conversions between the GeoID and tract number, although we mainly use GeoId in this project \n",
    "#More importantly, this table gives for each tract the central longitude and latitude \n",
    "x = pd.read_html(\"https://tigerweb.geo.census.gov/tigerwebmain/Files/tab10/tigerweb_tab10_tract_2010_ny.html\")\n",
    "geoid_location_table = x[0]"
   ]
  },
  {
   "cell_type": "code",
   "execution_count": 4,
   "metadata": {},
   "outputs": [],
   "source": [
    "#This table gives the conversions between a group of tract ids and their corresponding neighborhood names corresponding to the NTA.\n",
    "#This table is not used in this notebook. (Kept here for future reference)\n",
    "census_tract_to_neighborhood = pd.read_excel('nyc2010census_tabulation_equiv.xlsx')"
   ]
  },
  {
   "cell_type": "code",
   "execution_count": 5,
   "metadata": {},
   "outputs": [],
   "source": [
    "#This table maps each geo_id to their corresponding county names \n",
    "#This table is used to find all of the geoids in NYC. \n",
    "geo_id_to_county_name = pd.read_csv('geo_id_to_county_name.csv')"
   ]
  },
  {
   "cell_type": "markdown",
   "metadata": {},
   "source": [
    "The Next step is to use the tables that are loaded to get our ideal table, which has the columns: Geoid, TractID, Central Longitude, and Central latitude "
   ]
  },
  {
   "cell_type": "code",
   "execution_count": 6,
   "metadata": {},
   "outputs": [],
   "source": [
    "#Get all of the county names in the table geo_id_to_county_name \n",
    "county_name_list = list(geo_id_to_county_name['GEO.display-label'])\n",
    "#Get all of the county names in the table geo_id_to_county_name that are in NYC. \n",
    "result = []\n",
    "nyc_counties = ['New York County','Kings County', 'Bronx County','Richmond County','Queens County']\n",
    "for county in county_name_list:\n",
    "    for desired_county in nyc_counties:\n",
    "        if desired_county in county:\n",
    "            result.append(county)\n",
    "#Convert all of the county names in the table geo_id_to_county_name into True or False depending on wether it is located in NYC. \n",
    "nyc_selector = geo_id_to_county_name['GEO.display-label'].apply(lambda county_name: True if county_name in result else False)"
   ]
  },
  {
   "cell_type": "code",
   "execution_count": 13,
   "metadata": {},
   "outputs": [],
   "source": [
    "#Gets a list of all of the geoids located in NYC from the geo_id_to_county_name table \n",
    "nyc_geoids = list(geo_id_to_county_name[nyc_selector]['GEO.id2'])"
   ]
  },
  {
   "cell_type": "code",
   "execution_count": 14,
   "metadata": {},
   "outputs": [],
   "source": [
    "#Converts all of the geoids in the geoid_location_table to True or False depending on wether their geoid is located in NYC.\n",
    "nyc_selector_geoid_location_table = geoid_location_table['GEOID'].apply(lambda x: True if x in nyc_geoids else False) "
   ]
  },
  {
   "cell_type": "code",
   "execution_count": 15,
   "metadata": {},
   "outputs": [],
   "source": [
    "#Selects all of the rows of the geoid_location_nyc_table for tracts that are located in NYC. \n",
    "geoid_location_nyc_table = geoid_location_table[nyc_selector_geoid_location_table]  "
   ]
  },
  {
   "cell_type": "code",
   "execution_count": 17,
   "metadata": {},
   "outputs": [
    {
     "data": {
      "text/plain": [
       "(2167, 19)"
      ]
     },
     "execution_count": 17,
     "metadata": {},
     "output_type": "execute_result"
    }
   ],
   "source": [
    "geoid_location_nyc_table.shape #2167 rows is correct as there are 2168 census tracts in NYC meaning that we are only missing 1 NYC tract. "
   ]
  },
  {
   "cell_type": "code",
   "execution_count": 20,
   "metadata": {},
   "outputs": [],
   "source": [
    "#Here we write the desired table to a CSV file \n",
    "geoid_location_nyc_table[['GEOID','TRACT','CENTLAT','CENTLON']].to_csv('nyc_geoid_long_lat.csv',index=False)"
   ]
  }
 ],
 "metadata": {
  "kernelspec": {
   "display_name": "Python 3",
   "language": "python",
   "name": "python3"
  },
  "language_info": {
   "codemirror_mode": {
    "name": "ipython",
    "version": 3
   },
   "file_extension": ".py",
   "mimetype": "text/x-python",
   "name": "python",
   "nbconvert_exporter": "python",
   "pygments_lexer": "ipython3",
   "version": "3.8.5"
  }
 },
 "nbformat": 4,
 "nbformat_minor": 4
}
