{
 "cells": [
  {
   "cell_type": "markdown",
   "metadata": {},
   "source": [
    "## Adding geoid to the Collision Data"
   ]
  },
  {
   "cell_type": "markdown",
   "metadata": {},
   "source": [
    "Add geoid to the collision data classify where each accident occurred. \n",
    "The purpose of this Notebook, is to add a column to the collisions dataset with the geoid corresponding to the census tract which the collision occured in. "
   ]
  },
  {
   "cell_type": "markdown",
   "metadata": {},
   "source": [
    "In doing this we will be importing from the requests and urllib module"
   ]
  },
  {
   "cell_type": "code",
   "execution_count": 23,
   "metadata": {},
   "outputs": [],
   "source": [
    "import pandas as pd \n",
    "import numpy as np\n",
    "import requests\n",
    "import urllib"
   ]
  },
  {
   "cell_type": "markdown",
   "metadata": {},
   "source": [
    "#### Import dataset"
   ]
  },
  {
   "cell_type": "code",
   "execution_count": 24,
   "metadata": {},
   "outputs": [],
   "source": [
    "#This is a table containing all of the collisions that occurred in NYC from 2015 to 2019.\n",
    "#This data was cleaned first and the cleaning process can be found in collisionClean.ipynb\n",
    "collisions_raw = pd.read_csv('./collisions.csv')"
   ]
  },
  {
   "cell_type": "code",
   "execution_count": 25,
   "metadata": {},
   "outputs": [
    {
     "data": {
      "text/plain": [
       "(17152, 30)"
      ]
     },
     "execution_count": 25,
     "metadata": {},
     "output_type": "execute_result"
    }
   ],
   "source": [
    "collisions_raw.shape"
   ]
  },
  {
   "cell_type": "markdown",
   "metadata": {},
   "source": [
    "#### Get Latitude Longitude "
   ]
  },
  {
   "cell_type": "code",
   "execution_count": 26,
   "metadata": {},
   "outputs": [
    {
     "data": {
      "text/plain": [
       "Index(['Unnamed: 0', 'CRASH DATE', 'CRASH TIME', 'BOROUGH', 'ZIP CODE',\n",
       "       'LATITUDE', 'LONGITUDE', 'LOCATION', 'ON STREET NAME',\n",
       "       'CROSS STREET NAME', 'OFF STREET NAME', 'NUMBER OF PERSONS INJURED',\n",
       "       'NUMBER OF PERSONS KILLED', 'NUMBER OF PEDESTRIANS INJURED',\n",
       "       'NUMBER OF PEDESTRIANS KILLED', 'NUMBER OF CYCLIST INJURED',\n",
       "       'NUMBER OF CYCLIST KILLED', 'NUMBER OF MOTORIST INJURED',\n",
       "       'NUMBER OF MOTORIST KILLED', 'CONTRIBUTING FACTOR VEHICLE 1',\n",
       "       'CONTRIBUTING FACTOR VEHICLE 2', 'CONTRIBUTING FACTOR VEHICLE 3',\n",
       "       'CONTRIBUTING FACTOR VEHICLE 4', 'CONTRIBUTING FACTOR VEHICLE 5',\n",
       "       'COLLISION_ID', 'VEHICLE TYPE CODE 1', 'VEHICLE TYPE CODE 2',\n",
       "       'VEHICLE TYPE CODE 3', 'VEHICLE TYPE CODE 4', 'VEHICLE TYPE CODE 5'],\n",
       "      dtype='object')"
      ]
     },
     "execution_count": 26,
     "metadata": {},
     "output_type": "execute_result"
    }
   ],
   "source": [
    "collisions_raw .columns"
   ]
  },
  {
   "cell_type": "markdown",
   "metadata": {},
   "source": [
    "The latitude longitude of the columns is located in the columns named  'LATITUDE', 'LONGITUDE'"
   ]
  },
  {
   "cell_type": "code",
   "execution_count": 27,
   "metadata": {},
   "outputs": [],
   "source": [
    "#This gets the (lat,lon) of all of the collisions in NYC \n",
    "collisions_lat = list(collisions_raw['LATITUDE'])\n",
    "collisions_lon = list(collisions_raw['LONGITUDE'])\n",
    "\n",
    "#create the latitude longitude into a list array\n",
    "collisions_lat_lon = [(collisions_lat[i],collisions_lon[i]) for i in range(len(collisions_lat))]"
   ]
  },
  {
   "cell_type": "code",
   "execution_count": 28,
   "metadata": {},
   "outputs": [
    {
     "data": {
      "text/plain": [
       "[(40.6383073, -73.9945377),\n",
       " (40.727846, -73.9822272),\n",
       " (40.738325, -73.8855916),\n",
       " (40.6853239, -73.9807025)]"
      ]
     },
     "execution_count": 28,
     "metadata": {},
     "output_type": "execute_result"
    }
   ],
   "source": [
    "#check the array of latitude longitudes.\n",
    "collisions_lat_lon[1:5]"
   ]
  },
  {
   "cell_type": "code",
   "execution_count": 29,
   "metadata": {},
   "outputs": [
    {
     "data": {
      "text/plain": [
       "17152"
      ]
     },
     "execution_count": 29,
     "metadata": {},
     "output_type": "execute_result"
    }
   ],
   "source": [
    "len(collisions_lat_lon)"
   ]
  },
  {
   "cell_type": "markdown",
   "metadata": {},
   "source": [
    "The number of latitdue longitude arrays in the data are the same as the ones in "
   ]
  },
  {
   "cell_type": "markdown",
   "metadata": {},
   "source": [
    "\n",
    "\n",
    "#### Use API to find geoid through latitude, longitude"
   ]
  },
  {
   "cell_type": "markdown",
   "metadata": {},
   "source": [
    "This uses a freely available goverment API that allows us to get the geoid based on the (lat,lon) of each collision"
   ]
  },
  {
   "cell_type": "markdown",
   "metadata": {},
   "source": [
    "Since the data is pretty big, I decided to divide it by thousands and go thorough the for loop"
   ]
  },
  {
   "cell_type": "markdown",
   "metadata": {},
   "source": [
    "In running through this for loop, we found that some of the latitude and longitude was not filtered out properly. There were some values in the \n",
    "\n",
    "So to solve this problem, we created an if statement inside of our for loop that would printout"
   ]
  },
  {
   "cell_type": "code",
   "execution_count": 38,
   "metadata": {},
   "outputs": [
    {
     "name": "stdout",
     "output_type": "stream",
     "text": [
      "0.0 0.0\n",
      "0.0 0.0\n",
      "0.0 0.0\n",
      "0.0 0.0\n",
      "0.0 0.0\n",
      "0.0 0.0\n",
      "0.0 0.0\n",
      "0.0 0.0\n",
      "0.0 0.0\n",
      "0.0 0.0\n",
      "0.0 0.0\n",
      "0.0 0.0\n",
      "0.0 0.0\n",
      "0.0 0.0\n",
      "0.0 0.0\n",
      "0.0 0.0\n",
      "0.0 0.0\n"
     ]
    }
   ],
   "source": [
    "#empty list that will recieve the geoids of the latitude longitude\n",
    "collisions_geoid = []\n",
    "\n",
    "#loop through the list of \n",
    "for lat, lon in collisions_lat_lon: \n",
    "    #Encode parameters \n",
    "    params = urllib.parse.urlencode({'latitude': lat, 'longitude':lon, 'format':'json'})\n",
    "    #Contruct request URL\n",
    "    url = 'https://geo.fcc.gov/api/census/block/find?' + params\n",
    "\n",
    "    #Get response from API\n",
    "    response = requests.get(url)\n",
    "\n",
    "    #Parse json in response\n",
    "    data = response.json()\n",
    "    \n",
    "    returned_FIPS = (data['Block']['FIPS'])\n",
    "    if returned_FIPS == None:\n",
    "         print(lat,lon)\n",
    "         collisions_geoid.append(None)\n",
    "    else:\n",
    "        geoid= returned_FIPS[:11]\n",
    "        collisions_geoid.append(geoid)"
   ]
  },
  {
   "cell_type": "markdown",
   "metadata": {},
   "source": [
    "#### Add the geo-id to the original dataset"
   ]
  },
  {
   "cell_type": "code",
   "execution_count": 46,
   "metadata": {},
   "outputs": [],
   "source": [
    "collisions_test= collisions_raw.copy()s"
   ]
  },
  {
   "cell_type": "code",
   "execution_count": 63,
   "metadata": {},
   "outputs": [
    {
     "data": {
      "text/plain": [
       "(17152, 31)"
      ]
     },
     "execution_count": 63,
     "metadata": {},
     "output_type": "execute_result"
    }
   ],
   "source": [
    "collisions_test.shape"
   ]
  },
  {
   "cell_type": "code",
   "execution_count": 47,
   "metadata": {},
   "outputs": [],
   "source": [
    "collisions_test['geoid']=collisions_geoid"
   ]
  },
  {
   "cell_type": "code",
   "execution_count": 48,
   "metadata": {},
   "outputs": [
    {
     "data": {
      "text/html": [
       "<div>\n",
       "<style scoped>\n",
       "    .dataframe tbody tr th:only-of-type {\n",
       "        vertical-align: middle;\n",
       "    }\n",
       "\n",
       "    .dataframe tbody tr th {\n",
       "        vertical-align: top;\n",
       "    }\n",
       "\n",
       "    .dataframe thead th {\n",
       "        text-align: right;\n",
       "    }\n",
       "</style>\n",
       "<table border=\"1\" class=\"dataframe\">\n",
       "  <thead>\n",
       "    <tr style=\"text-align: right;\">\n",
       "      <th></th>\n",
       "      <th>Unnamed: 0</th>\n",
       "      <th>CRASH DATE</th>\n",
       "      <th>CRASH TIME</th>\n",
       "      <th>BOROUGH</th>\n",
       "      <th>ZIP CODE</th>\n",
       "      <th>LATITUDE</th>\n",
       "      <th>LONGITUDE</th>\n",
       "      <th>LOCATION</th>\n",
       "      <th>ON STREET NAME</th>\n",
       "      <th>CROSS STREET NAME</th>\n",
       "      <th>...</th>\n",
       "      <th>CONTRIBUTING FACTOR VEHICLE 3</th>\n",
       "      <th>CONTRIBUTING FACTOR VEHICLE 4</th>\n",
       "      <th>CONTRIBUTING FACTOR VEHICLE 5</th>\n",
       "      <th>COLLISION_ID</th>\n",
       "      <th>VEHICLE TYPE CODE 1</th>\n",
       "      <th>VEHICLE TYPE CODE 2</th>\n",
       "      <th>VEHICLE TYPE CODE 3</th>\n",
       "      <th>VEHICLE TYPE CODE 4</th>\n",
       "      <th>VEHICLE TYPE CODE 5</th>\n",
       "      <th>geoid</th>\n",
       "    </tr>\n",
       "  </thead>\n",
       "  <tbody>\n",
       "    <tr>\n",
       "      <th>0</th>\n",
       "      <td>344</td>\n",
       "      <td>2015-01-01</td>\n",
       "      <td>2:39</td>\n",
       "      <td>BROOKLYN</td>\n",
       "      <td>11232.0</td>\n",
       "      <td>40.647486</td>\n",
       "      <td>-74.000663</td>\n",
       "      <td>(40.647486, -74.0006631)</td>\n",
       "      <td>7 AVENUE</td>\n",
       "      <td>41 STREET</td>\n",
       "      <td>...</td>\n",
       "      <td>NaN</td>\n",
       "      <td>NaN</td>\n",
       "      <td>NaN</td>\n",
       "      <td>3145993</td>\n",
       "      <td>PASSENGER VEHICLE</td>\n",
       "      <td>BICYCLE</td>\n",
       "      <td>NaN</td>\n",
       "      <td>NaN</td>\n",
       "      <td>NaN</td>\n",
       "      <td>36047008600</td>\n",
       "    </tr>\n",
       "    <tr>\n",
       "      <th>1</th>\n",
       "      <td>428</td>\n",
       "      <td>2015-01-02</td>\n",
       "      <td>1:50</td>\n",
       "      <td>BROOKLYN</td>\n",
       "      <td>11219.0</td>\n",
       "      <td>40.638307</td>\n",
       "      <td>-73.994538</td>\n",
       "      <td>(40.6383073, -73.9945377)</td>\n",
       "      <td>NEW UTRECHT AVENUE</td>\n",
       "      <td>47 STREET</td>\n",
       "      <td>...</td>\n",
       "      <td>NaN</td>\n",
       "      <td>NaN</td>\n",
       "      <td>NaN</td>\n",
       "      <td>3146315</td>\n",
       "      <td>PASSENGER VEHICLE</td>\n",
       "      <td>BICYCLE</td>\n",
       "      <td>NaN</td>\n",
       "      <td>NaN</td>\n",
       "      <td>NaN</td>\n",
       "      <td>36047022200</td>\n",
       "    </tr>\n",
       "    <tr>\n",
       "      <th>2</th>\n",
       "      <td>435</td>\n",
       "      <td>2015-01-02</td>\n",
       "      <td>20:00</td>\n",
       "      <td>MANHATTAN</td>\n",
       "      <td>10009.0</td>\n",
       "      <td>40.727846</td>\n",
       "      <td>-73.982227</td>\n",
       "      <td>(40.727846, -73.9822272)</td>\n",
       "      <td>EAST 10 STREET</td>\n",
       "      <td>AVENUE A</td>\n",
       "      <td>...</td>\n",
       "      <td>NaN</td>\n",
       "      <td>NaN</td>\n",
       "      <td>NaN</td>\n",
       "      <td>3146150</td>\n",
       "      <td>PASSENGER VEHICLE</td>\n",
       "      <td>BICYCLE</td>\n",
       "      <td>NaN</td>\n",
       "      <td>NaN</td>\n",
       "      <td>NaN</td>\n",
       "      <td>36061003400</td>\n",
       "    </tr>\n",
       "    <tr>\n",
       "      <th>3</th>\n",
       "      <td>554</td>\n",
       "      <td>2015-01-02</td>\n",
       "      <td>22:00</td>\n",
       "      <td>QUEENS</td>\n",
       "      <td>11373.0</td>\n",
       "      <td>40.738325</td>\n",
       "      <td>-73.885592</td>\n",
       "      <td>(40.738325, -73.8855916)</td>\n",
       "      <td>QUEENS BOULEVARD</td>\n",
       "      <td>ALBION AVENUE</td>\n",
       "      <td>...</td>\n",
       "      <td>NaN</td>\n",
       "      <td>NaN</td>\n",
       "      <td>NaN</td>\n",
       "      <td>3146904</td>\n",
       "      <td>PASSENGER VEHICLE</td>\n",
       "      <td>BICYCLE</td>\n",
       "      <td>NaN</td>\n",
       "      <td>NaN</td>\n",
       "      <td>NaN</td>\n",
       "      <td>36081047900</td>\n",
       "    </tr>\n",
       "    <tr>\n",
       "      <th>4</th>\n",
       "      <td>662</td>\n",
       "      <td>2015-01-02</td>\n",
       "      <td>11:30</td>\n",
       "      <td>BROOKLYN</td>\n",
       "      <td>11217.0</td>\n",
       "      <td>40.685324</td>\n",
       "      <td>-73.980703</td>\n",
       "      <td>(40.6853239, -73.9807025)</td>\n",
       "      <td>ATLANTIC AVENUE</td>\n",
       "      <td>3 AVENUE</td>\n",
       "      <td>...</td>\n",
       "      <td>NaN</td>\n",
       "      <td>NaN</td>\n",
       "      <td>NaN</td>\n",
       "      <td>3147234</td>\n",
       "      <td>PASSENGER VEHICLE</td>\n",
       "      <td>BICYCLE</td>\n",
       "      <td>NaN</td>\n",
       "      <td>NaN</td>\n",
       "      <td>NaN</td>\n",
       "      <td>36047003900</td>\n",
       "    </tr>\n",
       "  </tbody>\n",
       "</table>\n",
       "<p>5 rows × 31 columns</p>\n",
       "</div>"
      ],
      "text/plain": [
       "   Unnamed: 0  CRASH DATE CRASH TIME    BOROUGH  ZIP CODE   LATITUDE  \\\n",
       "0         344  2015-01-01       2:39   BROOKLYN   11232.0  40.647486   \n",
       "1         428  2015-01-02       1:50   BROOKLYN   11219.0  40.638307   \n",
       "2         435  2015-01-02      20:00  MANHATTAN   10009.0  40.727846   \n",
       "3         554  2015-01-02      22:00     QUEENS   11373.0  40.738325   \n",
       "4         662  2015-01-02      11:30   BROOKLYN   11217.0  40.685324   \n",
       "\n",
       "   LONGITUDE                   LOCATION                    ON STREET NAME  \\\n",
       "0 -74.000663   (40.647486, -74.0006631)  7 AVENUE                           \n",
       "1 -73.994538  (40.6383073, -73.9945377)  NEW UTRECHT AVENUE                 \n",
       "2 -73.982227   (40.727846, -73.9822272)  EAST 10 STREET                     \n",
       "3 -73.885592   (40.738325, -73.8855916)  QUEENS BOULEVARD                   \n",
       "4 -73.980703  (40.6853239, -73.9807025)  ATLANTIC AVENUE                    \n",
       "\n",
       "                  CROSS STREET NAME  ... CONTRIBUTING FACTOR VEHICLE 3  \\\n",
       "0  41 STREET                         ...                           NaN   \n",
       "1  47 STREET                         ...                           NaN   \n",
       "2  AVENUE A                          ...                           NaN   \n",
       "3  ALBION AVENUE                     ...                           NaN   \n",
       "4  3 AVENUE                          ...                           NaN   \n",
       "\n",
       "   CONTRIBUTING FACTOR VEHICLE 4  CONTRIBUTING FACTOR VEHICLE 5  COLLISION_ID  \\\n",
       "0                            NaN                            NaN       3145993   \n",
       "1                            NaN                            NaN       3146315   \n",
       "2                            NaN                            NaN       3146150   \n",
       "3                            NaN                            NaN       3146904   \n",
       "4                            NaN                            NaN       3147234   \n",
       "\n",
       "   VEHICLE TYPE CODE 1  VEHICLE TYPE CODE 2  VEHICLE TYPE CODE 3  \\\n",
       "0    PASSENGER VEHICLE              BICYCLE                  NaN   \n",
       "1    PASSENGER VEHICLE              BICYCLE                  NaN   \n",
       "2    PASSENGER VEHICLE              BICYCLE                  NaN   \n",
       "3    PASSENGER VEHICLE              BICYCLE                  NaN   \n",
       "4    PASSENGER VEHICLE              BICYCLE                  NaN   \n",
       "\n",
       "   VEHICLE TYPE CODE 4  VEHICLE TYPE CODE 5        geoid  \n",
       "0                  NaN                  NaN  36047008600  \n",
       "1                  NaN                  NaN  36047022200  \n",
       "2                  NaN                  NaN  36061003400  \n",
       "3                  NaN                  NaN  36081047900  \n",
       "4                  NaN                  NaN  36047003900  \n",
       "\n",
       "[5 rows x 31 columns]"
      ]
     },
     "execution_count": 48,
     "metadata": {},
     "output_type": "execute_result"
    }
   ],
   "source": [
    "collisions_test.head()"
   ]
  },
  {
   "cell_type": "code",
   "execution_count": 61,
   "metadata": {},
   "outputs": [
    {
     "data": {
      "text/plain": [
       "(17135, 31)"
      ]
     },
     "execution_count": 61,
     "metadata": {},
     "output_type": "execute_result"
    }
   ],
   "source": [
    "#delete nonetype argumentsfor geoid column where latitude or longitude is 0 \n",
    "collisions_test_new = collisions_test[collisions_test['LATITUDE']!=0]\n",
    "collisions_test_new.shape"
   ]
  },
  {
   "cell_type": "code",
   "execution_count": 62,
   "metadata": {},
   "outputs": [
    {
     "data": {
      "text/plain": [
       "(17135, 31)"
      ]
     },
     "execution_count": 62,
     "metadata": {},
     "output_type": "execute_result"
    }
   ],
   "source": [
    "collisions_test_new = collisions_test_new[collisions_test_new['LONGITUDE']!=0]\n",
    "collisions_test_new.shape"
   ]
  },
  {
   "cell_type": "code",
   "execution_count": 67,
   "metadata": {},
   "outputs": [
    {
     "data": {
      "text/html": [
       "<div>\n",
       "<style scoped>\n",
       "    .dataframe tbody tr th:only-of-type {\n",
       "        vertical-align: middle;\n",
       "    }\n",
       "\n",
       "    .dataframe tbody tr th {\n",
       "        vertical-align: top;\n",
       "    }\n",
       "\n",
       "    .dataframe thead th {\n",
       "        text-align: right;\n",
       "    }\n",
       "</style>\n",
       "<table border=\"1\" class=\"dataframe\">\n",
       "  <thead>\n",
       "    <tr style=\"text-align: right;\">\n",
       "      <th></th>\n",
       "      <th>Unnamed: 0</th>\n",
       "      <th>CRASH DATE</th>\n",
       "      <th>CRASH TIME</th>\n",
       "      <th>BOROUGH</th>\n",
       "      <th>ZIP CODE</th>\n",
       "      <th>LATITUDE</th>\n",
       "      <th>LONGITUDE</th>\n",
       "      <th>LOCATION</th>\n",
       "      <th>ON STREET NAME</th>\n",
       "      <th>CROSS STREET NAME</th>\n",
       "      <th>...</th>\n",
       "      <th>CONTRIBUTING FACTOR VEHICLE 3</th>\n",
       "      <th>CONTRIBUTING FACTOR VEHICLE 4</th>\n",
       "      <th>CONTRIBUTING FACTOR VEHICLE 5</th>\n",
       "      <th>COLLISION_ID</th>\n",
       "      <th>VEHICLE TYPE CODE 1</th>\n",
       "      <th>VEHICLE TYPE CODE 2</th>\n",
       "      <th>VEHICLE TYPE CODE 3</th>\n",
       "      <th>VEHICLE TYPE CODE 4</th>\n",
       "      <th>VEHICLE TYPE CODE 5</th>\n",
       "      <th>geoid</th>\n",
       "    </tr>\n",
       "  </thead>\n",
       "  <tbody>\n",
       "    <tr>\n",
       "      <th>0</th>\n",
       "      <td>344</td>\n",
       "      <td>2015-01-01</td>\n",
       "      <td>2:39</td>\n",
       "      <td>BROOKLYN</td>\n",
       "      <td>11232.0</td>\n",
       "      <td>40.647486</td>\n",
       "      <td>-74.000663</td>\n",
       "      <td>(40.647486, -74.0006631)</td>\n",
       "      <td>7 AVENUE</td>\n",
       "      <td>41 STREET</td>\n",
       "      <td>...</td>\n",
       "      <td>NaN</td>\n",
       "      <td>NaN</td>\n",
       "      <td>NaN</td>\n",
       "      <td>3145993</td>\n",
       "      <td>PASSENGER VEHICLE</td>\n",
       "      <td>BICYCLE</td>\n",
       "      <td>NaN</td>\n",
       "      <td>NaN</td>\n",
       "      <td>NaN</td>\n",
       "      <td>36047008600</td>\n",
       "    </tr>\n",
       "    <tr>\n",
       "      <th>1</th>\n",
       "      <td>428</td>\n",
       "      <td>2015-01-02</td>\n",
       "      <td>1:50</td>\n",
       "      <td>BROOKLYN</td>\n",
       "      <td>11219.0</td>\n",
       "      <td>40.638307</td>\n",
       "      <td>-73.994538</td>\n",
       "      <td>(40.6383073, -73.9945377)</td>\n",
       "      <td>NEW UTRECHT AVENUE</td>\n",
       "      <td>47 STREET</td>\n",
       "      <td>...</td>\n",
       "      <td>NaN</td>\n",
       "      <td>NaN</td>\n",
       "      <td>NaN</td>\n",
       "      <td>3146315</td>\n",
       "      <td>PASSENGER VEHICLE</td>\n",
       "      <td>BICYCLE</td>\n",
       "      <td>NaN</td>\n",
       "      <td>NaN</td>\n",
       "      <td>NaN</td>\n",
       "      <td>36047022200</td>\n",
       "    </tr>\n",
       "    <tr>\n",
       "      <th>2</th>\n",
       "      <td>435</td>\n",
       "      <td>2015-01-02</td>\n",
       "      <td>20:00</td>\n",
       "      <td>MANHATTAN</td>\n",
       "      <td>10009.0</td>\n",
       "      <td>40.727846</td>\n",
       "      <td>-73.982227</td>\n",
       "      <td>(40.727846, -73.9822272)</td>\n",
       "      <td>EAST 10 STREET</td>\n",
       "      <td>AVENUE A</td>\n",
       "      <td>...</td>\n",
       "      <td>NaN</td>\n",
       "      <td>NaN</td>\n",
       "      <td>NaN</td>\n",
       "      <td>3146150</td>\n",
       "      <td>PASSENGER VEHICLE</td>\n",
       "      <td>BICYCLE</td>\n",
       "      <td>NaN</td>\n",
       "      <td>NaN</td>\n",
       "      <td>NaN</td>\n",
       "      <td>36061003400</td>\n",
       "    </tr>\n",
       "    <tr>\n",
       "      <th>3</th>\n",
       "      <td>554</td>\n",
       "      <td>2015-01-02</td>\n",
       "      <td>22:00</td>\n",
       "      <td>QUEENS</td>\n",
       "      <td>11373.0</td>\n",
       "      <td>40.738325</td>\n",
       "      <td>-73.885592</td>\n",
       "      <td>(40.738325, -73.8855916)</td>\n",
       "      <td>QUEENS BOULEVARD</td>\n",
       "      <td>ALBION AVENUE</td>\n",
       "      <td>...</td>\n",
       "      <td>NaN</td>\n",
       "      <td>NaN</td>\n",
       "      <td>NaN</td>\n",
       "      <td>3146904</td>\n",
       "      <td>PASSENGER VEHICLE</td>\n",
       "      <td>BICYCLE</td>\n",
       "      <td>NaN</td>\n",
       "      <td>NaN</td>\n",
       "      <td>NaN</td>\n",
       "      <td>36081047900</td>\n",
       "    </tr>\n",
       "    <tr>\n",
       "      <th>4</th>\n",
       "      <td>662</td>\n",
       "      <td>2015-01-02</td>\n",
       "      <td>11:30</td>\n",
       "      <td>BROOKLYN</td>\n",
       "      <td>11217.0</td>\n",
       "      <td>40.685324</td>\n",
       "      <td>-73.980703</td>\n",
       "      <td>(40.6853239, -73.9807025)</td>\n",
       "      <td>ATLANTIC AVENUE</td>\n",
       "      <td>3 AVENUE</td>\n",
       "      <td>...</td>\n",
       "      <td>NaN</td>\n",
       "      <td>NaN</td>\n",
       "      <td>NaN</td>\n",
       "      <td>3147234</td>\n",
       "      <td>PASSENGER VEHICLE</td>\n",
       "      <td>BICYCLE</td>\n",
       "      <td>NaN</td>\n",
       "      <td>NaN</td>\n",
       "      <td>NaN</td>\n",
       "      <td>36047003900</td>\n",
       "    </tr>\n",
       "  </tbody>\n",
       "</table>\n",
       "<p>5 rows × 31 columns</p>\n",
       "</div>"
      ],
      "text/plain": [
       "   Unnamed: 0  CRASH DATE CRASH TIME    BOROUGH  ZIP CODE   LATITUDE  \\\n",
       "0         344  2015-01-01       2:39   BROOKLYN   11232.0  40.647486   \n",
       "1         428  2015-01-02       1:50   BROOKLYN   11219.0  40.638307   \n",
       "2         435  2015-01-02      20:00  MANHATTAN   10009.0  40.727846   \n",
       "3         554  2015-01-02      22:00     QUEENS   11373.0  40.738325   \n",
       "4         662  2015-01-02      11:30   BROOKLYN   11217.0  40.685324   \n",
       "\n",
       "   LONGITUDE                   LOCATION                    ON STREET NAME  \\\n",
       "0 -74.000663   (40.647486, -74.0006631)  7 AVENUE                           \n",
       "1 -73.994538  (40.6383073, -73.9945377)  NEW UTRECHT AVENUE                 \n",
       "2 -73.982227   (40.727846, -73.9822272)  EAST 10 STREET                     \n",
       "3 -73.885592   (40.738325, -73.8855916)  QUEENS BOULEVARD                   \n",
       "4 -73.980703  (40.6853239, -73.9807025)  ATLANTIC AVENUE                    \n",
       "\n",
       "                  CROSS STREET NAME  ... CONTRIBUTING FACTOR VEHICLE 3  \\\n",
       "0  41 STREET                         ...                           NaN   \n",
       "1  47 STREET                         ...                           NaN   \n",
       "2  AVENUE A                          ...                           NaN   \n",
       "3  ALBION AVENUE                     ...                           NaN   \n",
       "4  3 AVENUE                          ...                           NaN   \n",
       "\n",
       "   CONTRIBUTING FACTOR VEHICLE 4  CONTRIBUTING FACTOR VEHICLE 5  COLLISION_ID  \\\n",
       "0                            NaN                            NaN       3145993   \n",
       "1                            NaN                            NaN       3146315   \n",
       "2                            NaN                            NaN       3146150   \n",
       "3                            NaN                            NaN       3146904   \n",
       "4                            NaN                            NaN       3147234   \n",
       "\n",
       "   VEHICLE TYPE CODE 1  VEHICLE TYPE CODE 2  VEHICLE TYPE CODE 3  \\\n",
       "0    PASSENGER VEHICLE              BICYCLE                  NaN   \n",
       "1    PASSENGER VEHICLE              BICYCLE                  NaN   \n",
       "2    PASSENGER VEHICLE              BICYCLE                  NaN   \n",
       "3    PASSENGER VEHICLE              BICYCLE                  NaN   \n",
       "4    PASSENGER VEHICLE              BICYCLE                  NaN   \n",
       "\n",
       "   VEHICLE TYPE CODE 4  VEHICLE TYPE CODE 5        geoid  \n",
       "0                  NaN                  NaN  36047008600  \n",
       "1                  NaN                  NaN  36047022200  \n",
       "2                  NaN                  NaN  36061003400  \n",
       "3                  NaN                  NaN  36081047900  \n",
       "4                  NaN                  NaN  36047003900  \n",
       "\n",
       "[5 rows x 31 columns]"
      ]
     },
     "execution_count": 67,
     "metadata": {},
     "output_type": "execute_result"
    }
   ],
   "source": [
    "# int conversion if it works it works\n",
    "collisions_test_new['geoid'] = collisions_test_new['geoid'].astype(int)\n",
    "collisions_test_new.head()"
   ]
  },
  {
   "cell_type": "code",
   "execution_count": 68,
   "metadata": {},
   "outputs": [],
   "source": [
    "#save to csv\n",
    "collisions_test_new.to_csv('./collisions_geoid.csv',index=False)"
   ]
  }
 ],
 "metadata": {
  "kernelspec": {
   "display_name": "Python 3",
   "language": "python",
   "name": "python3"
  },
  "language_info": {
   "codemirror_mode": {
    "name": "ipython",
    "version": 3
   },
   "file_extension": ".py",
   "mimetype": "text/x-python",
   "name": "python",
   "nbconvert_exporter": "python",
   "pygments_lexer": "ipython3",
   "version": "3.8.5"
  }
 },
 "nbformat": 4,
 "nbformat_minor": 4
}
