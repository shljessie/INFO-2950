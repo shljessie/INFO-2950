{
 "cells": [
  {
   "cell_type": "code",
   "execution_count": 1,
   "metadata": {},
   "outputs": [],
   "source": [
    "import pandas as pd \n",
    "import numpy as np "
   ]
  },
  {
   "cell_type": "code",
   "execution_count": 2,
   "metadata": {},
   "outputs": [],
   "source": [
    "race_and_income = pd.read_csv('race_and_income_data.csv')"
   ]
  },
  {
   "cell_type": "code",
   "execution_count": 3,
   "metadata": {},
   "outputs": [],
   "source": [
    "#only interested in 2017 data \n",
    "race_and_income = race_and_income[['geoid','2017 median income','2017 median income margin of error', \n",
    "     '2017 race: total households', '2017 race: total households margin of error', '2017 race: White',\n",
    "    '2017 race: Black', '2017 race: Asian', '2017 race: Other', '2017 race: 2 or more races']]"
   ]
  },
  {
   "cell_type": "code",
   "execution_count": 4,
   "metadata": {},
   "outputs": [],
   "source": [
    "#removing rows with non-integer median income values\n",
    "race_and_income = race_and_income[race_and_income['2017 median income'] != '-']\n",
    "race_and_income['2017 median income'] = race_and_income['2017 median income'].apply(lambda x: 250000 if x=='250,000+' else x)\n",
    "race_and_income = race_and_income[race_and_income['2017 median income margin of error'] != '***']\n",
    "race_and_income = race_and_income.astype({'2017 median income': 'int64', '2017 median income margin of error':'int64'})"
   ]
  },
  {
   "cell_type": "code",
   "execution_count": 5,
   "metadata": {},
   "outputs": [],
   "source": [
    "race_and_income.to_csv('race_and_income_final.csv',index=False)"
   ]
  },
  {
   "cell_type": "code",
   "execution_count": null,
   "metadata": {},
   "outputs": [],
   "source": []
  }
 ],
 "metadata": {
  "kernelspec": {
   "display_name": "Python 3",
   "language": "python",
   "name": "python3"
  },
  "language_info": {
   "codemirror_mode": {
    "name": "ipython",
    "version": 3
   },
   "file_extension": ".py",
   "mimetype": "text/x-python",
   "name": "python",
   "nbconvert_exporter": "python",
   "pygments_lexer": "ipython3",
   "version": "3.8.5"
  }
 },
 "nbformat": 4,
 "nbformat_minor": 4
}
