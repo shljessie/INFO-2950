{
 "cells": [
  {
   "cell_type": "markdown",
   "metadata": {},
   "source": [
    "# The purpose of this notebook is to filter trip data to be prepared for appending station id data to the corresponding geo ID. "
   ]
  },
  {
   "cell_type": "markdown",
   "metadata": {},
   "source": [
    "Source of the trip data: https://s3.amazonaws.com/tripdata/index.html"
   ]
  },
  {
   "cell_type": "markdown",
   "metadata": {},
   "source": [
    "We are cleaning and using data from January, 2017 to December, 2017"
   ]
  },
  {
   "cell_type": "code",
   "execution_count": 116,
   "metadata": {},
   "outputs": [
    {
     "data": {
      "text/html": [
       "<div>\n",
       "<style scoped>\n",
       "    .dataframe tbody tr th:only-of-type {\n",
       "        vertical-align: middle;\n",
       "    }\n",
       "\n",
       "    .dataframe tbody tr th {\n",
       "        vertical-align: top;\n",
       "    }\n",
       "\n",
       "    .dataframe thead th {\n",
       "        text-align: right;\n",
       "    }\n",
       "</style>\n",
       "<table border=\"1\" class=\"dataframe\">\n",
       "  <thead>\n",
       "    <tr style=\"text-align: right;\">\n",
       "      <th></th>\n",
       "      <th>tripduration</th>\n",
       "      <th>starttime</th>\n",
       "      <th>stoptime</th>\n",
       "      <th>start station id</th>\n",
       "      <th>start station name</th>\n",
       "      <th>start station latitude</th>\n",
       "      <th>start station longitude</th>\n",
       "      <th>end station id</th>\n",
       "      <th>end station name</th>\n",
       "      <th>end station latitude</th>\n",
       "      <th>end station longitude</th>\n",
       "      <th>bikeid</th>\n",
       "      <th>usertype</th>\n",
       "      <th>birth year</th>\n",
       "      <th>gender</th>\n",
       "    </tr>\n",
       "  </thead>\n",
       "  <tbody>\n",
       "    <tr>\n",
       "      <th>0</th>\n",
       "      <td>195</td>\n",
       "      <td>2017-04-01 00:00:58</td>\n",
       "      <td>2017-04-01 00:04:14</td>\n",
       "      <td>217</td>\n",
       "      <td>Old Fulton St</td>\n",
       "      <td>40.702772</td>\n",
       "      <td>-73.993836</td>\n",
       "      <td>430</td>\n",
       "      <td>York St &amp; Jay St</td>\n",
       "      <td>40.701485</td>\n",
       "      <td>-73.986569</td>\n",
       "      <td>25454</td>\n",
       "      <td>Subscriber</td>\n",
       "      <td>1966.0</td>\n",
       "      <td>1</td>\n",
       "    </tr>\n",
       "    <tr>\n",
       "      <th>1</th>\n",
       "      <td>585</td>\n",
       "      <td>2017-04-01 00:01:54</td>\n",
       "      <td>2017-04-01 00:11:40</td>\n",
       "      <td>490</td>\n",
       "      <td>8 Ave &amp; W 33 St</td>\n",
       "      <td>40.751551</td>\n",
       "      <td>-73.993934</td>\n",
       "      <td>3158</td>\n",
       "      <td>W 63 St &amp; Broadway</td>\n",
       "      <td>40.771639</td>\n",
       "      <td>-73.982614</td>\n",
       "      <td>25930</td>\n",
       "      <td>Subscriber</td>\n",
       "      <td>1995.0</td>\n",
       "      <td>1</td>\n",
       "    </tr>\n",
       "    <tr>\n",
       "      <th>2</th>\n",
       "      <td>665</td>\n",
       "      <td>2017-04-01 00:01:56</td>\n",
       "      <td>2017-04-01 00:13:01</td>\n",
       "      <td>504</td>\n",
       "      <td>1 Ave &amp; E 16 St</td>\n",
       "      <td>40.732219</td>\n",
       "      <td>-73.981656</td>\n",
       "      <td>412</td>\n",
       "      <td>Forsyth St &amp; Canal St</td>\n",
       "      <td>40.715816</td>\n",
       "      <td>-73.994224</td>\n",
       "      <td>27110</td>\n",
       "      <td>Subscriber</td>\n",
       "      <td>1987.0</td>\n",
       "      <td>1</td>\n",
       "    </tr>\n",
       "    <tr>\n",
       "      <th>3</th>\n",
       "      <td>262</td>\n",
       "      <td>2017-04-01 00:02:24</td>\n",
       "      <td>2017-04-01 00:06:47</td>\n",
       "      <td>445</td>\n",
       "      <td>E 10 St &amp; Avenue A</td>\n",
       "      <td>40.727408</td>\n",
       "      <td>-73.981420</td>\n",
       "      <td>411</td>\n",
       "      <td>E 6 St &amp; Avenue D</td>\n",
       "      <td>40.722281</td>\n",
       "      <td>-73.976687</td>\n",
       "      <td>28392</td>\n",
       "      <td>Subscriber</td>\n",
       "      <td>1961.0</td>\n",
       "      <td>1</td>\n",
       "    </tr>\n",
       "    <tr>\n",
       "      <th>4</th>\n",
       "      <td>134</td>\n",
       "      <td>2017-04-01 00:02:36</td>\n",
       "      <td>2017-04-01 00:04:50</td>\n",
       "      <td>3423</td>\n",
       "      <td>West Drive &amp; Prospect Park West</td>\n",
       "      <td>40.661063</td>\n",
       "      <td>-73.979453</td>\n",
       "      <td>3300</td>\n",
       "      <td>Prospect Park West &amp; 8 St</td>\n",
       "      <td>40.665147</td>\n",
       "      <td>-73.976376</td>\n",
       "      <td>19316</td>\n",
       "      <td>Subscriber</td>\n",
       "      <td>1967.0</td>\n",
       "      <td>2</td>\n",
       "    </tr>\n",
       "  </tbody>\n",
       "</table>\n",
       "</div>"
      ],
      "text/plain": [
       "   tripduration            starttime             stoptime  start station id  \\\n",
       "0           195  2017-04-01 00:00:58  2017-04-01 00:04:14               217   \n",
       "1           585  2017-04-01 00:01:54  2017-04-01 00:11:40               490   \n",
       "2           665  2017-04-01 00:01:56  2017-04-01 00:13:01               504   \n",
       "3           262  2017-04-01 00:02:24  2017-04-01 00:06:47               445   \n",
       "4           134  2017-04-01 00:02:36  2017-04-01 00:04:50              3423   \n",
       "\n",
       "                start station name  start station latitude  \\\n",
       "0                    Old Fulton St               40.702772   \n",
       "1                  8 Ave & W 33 St               40.751551   \n",
       "2                  1 Ave & E 16 St               40.732219   \n",
       "3               E 10 St & Avenue A               40.727408   \n",
       "4  West Drive & Prospect Park West               40.661063   \n",
       "\n",
       "   start station longitude  end station id           end station name  \\\n",
       "0               -73.993836             430           York St & Jay St   \n",
       "1               -73.993934            3158         W 63 St & Broadway   \n",
       "2               -73.981656             412      Forsyth St & Canal St   \n",
       "3               -73.981420             411          E 6 St & Avenue D   \n",
       "4               -73.979453            3300  Prospect Park West & 8 St   \n",
       "\n",
       "   end station latitude  end station longitude  bikeid    usertype  \\\n",
       "0             40.701485             -73.986569   25454  Subscriber   \n",
       "1             40.771639             -73.982614   25930  Subscriber   \n",
       "2             40.715816             -73.994224   27110  Subscriber   \n",
       "3             40.722281             -73.976687   28392  Subscriber   \n",
       "4             40.665147             -73.976376   19316  Subscriber   \n",
       "\n",
       "   birth year  gender  \n",
       "0      1966.0       1  \n",
       "1      1995.0       1  \n",
       "2      1987.0       1  \n",
       "3      1961.0       1  \n",
       "4      1967.0       2  "
      ]
     },
     "execution_count": 116,
     "metadata": {},
     "output_type": "execute_result"
    }
   ],
   "source": [
    "import pandas as pd \n",
    "import numpy as np \n",
    "import matplotlib.pyplot as plt\n",
    "#csv file from October 2013\n",
    "raw_data = pd.read_csv('2017-4.csv')\n",
    "raw_data.head()"
   ]
  },
  {
   "cell_type": "code",
   "execution_count": 117,
   "metadata": {},
   "outputs": [
    {
     "data": {
      "text/plain": [
       "(1315404, 15)"
      ]
     },
     "execution_count": 117,
     "metadata": {},
     "output_type": "execute_result"
    }
   ],
   "source": [
    "raw_data.shape"
   ]
  },
  {
   "cell_type": "code",
   "execution_count": 118,
   "metadata": {},
   "outputs": [
    {
     "data": {
      "text/plain": [
       "Index(['tripduration', 'starttime', 'stoptime', 'start station id',\n",
       "       'start station name', 'start station latitude',\n",
       "       'start station longitude', 'end station id', 'end station name',\n",
       "       'end station latitude', 'end station longitude', 'bikeid', 'usertype',\n",
       "       'birth year', 'gender'],\n",
       "      dtype='object')"
      ]
     },
     "execution_count": 118,
     "metadata": {},
     "output_type": "execute_result"
    }
   ],
   "source": [
    "raw_data.columns"
   ]
  },
  {
   "cell_type": "code",
   "execution_count": 119,
   "metadata": {},
   "outputs": [
    {
     "data": {
      "text/plain": [
       "(1315404, 15)"
      ]
     },
     "execution_count": 119,
     "metadata": {},
     "output_type": "execute_result"
    }
   ],
   "source": [
    "raw_data.shape"
   ]
  },
  {
   "cell_type": "code",
   "execution_count": 120,
   "metadata": {},
   "outputs": [
    {
     "data": {
      "text/html": [
       "<div>\n",
       "<style scoped>\n",
       "    .dataframe tbody tr th:only-of-type {\n",
       "        vertical-align: middle;\n",
       "    }\n",
       "\n",
       "    .dataframe tbody tr th {\n",
       "        vertical-align: top;\n",
       "    }\n",
       "\n",
       "    .dataframe thead th {\n",
       "        text-align: right;\n",
       "    }\n",
       "</style>\n",
       "<table border=\"1\" class=\"dataframe\">\n",
       "  <thead>\n",
       "    <tr style=\"text-align: right;\">\n",
       "      <th></th>\n",
       "      <th>Unnamed: 0</th>\n",
       "      <th>id</th>\n",
       "      <th>name</th>\n",
       "      <th>lat</th>\n",
       "      <th>lon</th>\n",
       "      <th>first</th>\n",
       "      <th>last</th>\n",
       "      <th>rides</th>\n",
       "      <th>geoid</th>\n",
       "    </tr>\n",
       "  </thead>\n",
       "  <tbody>\n",
       "    <tr>\n",
       "      <th>0</th>\n",
       "      <td>0</td>\n",
       "      <td>254.0</td>\n",
       "      <td>W 11 St &amp; 6 Ave</td>\n",
       "      <td>40.735324</td>\n",
       "      <td>-73.998004</td>\n",
       "      <td>2013-06-01</td>\n",
       "      <td>2019-07-31</td>\n",
       "      <td>168076</td>\n",
       "      <td>36061006300</td>\n",
       "    </tr>\n",
       "    <tr>\n",
       "      <th>1</th>\n",
       "      <td>1</td>\n",
       "      <td>151.0</td>\n",
       "      <td>Cleveland Pl &amp; Spring St</td>\n",
       "      <td>40.721816</td>\n",
       "      <td>-73.997203</td>\n",
       "      <td>2013-06-01</td>\n",
       "      <td>2019-07-31</td>\n",
       "      <td>445639</td>\n",
       "      <td>36061004100</td>\n",
       "    </tr>\n",
       "    <tr>\n",
       "      <th>2</th>\n",
       "      <td>2</td>\n",
       "      <td>352.0</td>\n",
       "      <td>W 56 St &amp; 6 Ave</td>\n",
       "      <td>40.763406</td>\n",
       "      <td>-73.977225</td>\n",
       "      <td>2013-06-01</td>\n",
       "      <td>2016-12-31</td>\n",
       "      <td>122203</td>\n",
       "      <td>36061010400</td>\n",
       "    </tr>\n",
       "    <tr>\n",
       "      <th>3</th>\n",
       "      <td>3</td>\n",
       "      <td>490.0</td>\n",
       "      <td>8 Ave &amp; W 33 St</td>\n",
       "      <td>40.751551</td>\n",
       "      <td>-73.993934</td>\n",
       "      <td>2013-06-01</td>\n",
       "      <td>2019-07-31</td>\n",
       "      <td>480463</td>\n",
       "      <td>36061010300</td>\n",
       "    </tr>\n",
       "    <tr>\n",
       "      <th>4</th>\n",
       "      <td>4</td>\n",
       "      <td>236.0</td>\n",
       "      <td>St Marks Pl &amp; 2 Ave</td>\n",
       "      <td>40.728419</td>\n",
       "      <td>-73.987140</td>\n",
       "      <td>2013-06-01</td>\n",
       "      <td>2019-07-31</td>\n",
       "      <td>292217</td>\n",
       "      <td>36061003800</td>\n",
       "    </tr>\n",
       "  </tbody>\n",
       "</table>\n",
       "</div>"
      ],
      "text/plain": [
       "   Unnamed: 0     id                      name        lat        lon  \\\n",
       "0           0  254.0           W 11 St & 6 Ave  40.735324 -73.998004   \n",
       "1           1  151.0  Cleveland Pl & Spring St  40.721816 -73.997203   \n",
       "2           2  352.0           W 56 St & 6 Ave  40.763406 -73.977225   \n",
       "3           3  490.0           8 Ave & W 33 St  40.751551 -73.993934   \n",
       "4           4  236.0       St Marks Pl & 2 Ave  40.728419 -73.987140   \n",
       "\n",
       "        first        last   rides        geoid  \n",
       "0  2013-06-01  2019-07-31  168076  36061006300  \n",
       "1  2013-06-01  2019-07-31  445639  36061004100  \n",
       "2  2013-06-01  2016-12-31  122203  36061010400  \n",
       "3  2013-06-01  2019-07-31  480463  36061010300  \n",
       "4  2013-06-01  2019-07-31  292217  36061003800  "
      ]
     },
     "execution_count": 120,
     "metadata": {},
     "output_type": "execute_result"
    }
   ],
   "source": [
    "st_geo_id = pd.read_csv('citibike_stations_geoid.csv')\n",
    "st_geo_id.head()"
   ]
  },
  {
   "cell_type": "markdown",
   "metadata": {},
   "source": [
    "Joining the geo id from the station data to raw january data"
   ]
  },
  {
   "cell_type": "code",
   "execution_count": 122,
   "metadata": {},
   "outputs": [
    {
     "data": {
      "text/plain": [
       "(1315404, 12)"
      ]
     },
     "execution_count": 122,
     "metadata": {},
     "output_type": "execute_result"
    }
   ],
   "source": [
    "# Matching the geoids to the start station ID \n",
    "new_data = raw_data.join(st_geo_id.set_index(['id']), on=['start station id'], how='left').copy()\n",
    "\n",
    "# Changing the column to start station geo ID\n",
    "new_data.rename(columns = {'geoid': 'start_station_geoid'}, inplace = True)\n",
    "\n",
    "# Dropping the columns carried over from station ID\n",
    "new_data = new_data.drop(['Unnamed: 0', 'name', 'lat', 'lon', 'first', 'last', 'rides'], axis = 1).copy()\n",
    "\n",
    "# Matching the geoids to the end station ID\n",
    "new_data = new_data.join(st_geo_id.set_index(['id']), on=['end station id'], how='left').copy()\n",
    "new_data = new_data.drop(['Unnamed: 0', 'name', 'lat', 'lon', 'first', 'last', 'rides'], axis = 1).copy()\n",
    "new_data.rename(columns = {'geoid': 'end_station_geoid'}, inplace = True)\n",
    "\n",
    "# Making all columns lower case\n",
    "new_data.columns = map(str.lower, new_data.columns)\n",
    "# Dropping columns we're not going to use\n",
    "new_data = new_data.drop(['start station latitude','start station longitude','end station latitude', 'end station longitude', 'bikeid'], axis = 1).copy()\n",
    "new_data.shape"
   ]
  },
  {
   "cell_type": "code",
   "execution_count": 123,
   "metadata": {},
   "outputs": [],
   "source": [
    "jan_geoids = new_data.to_csv('./2017_4_new.csv')"
   ]
  },
  {
   "cell_type": "code",
   "execution_count": null,
   "metadata": {},
   "outputs": [],
   "source": []
  },
  {
   "cell_type": "code",
   "execution_count": null,
   "metadata": {},
   "outputs": [],
   "source": []
  }
 ],
 "metadata": {
  "kernelspec": {
   "display_name": "Python 3",
   "language": "python",
   "name": "python3"
  },
  "language_info": {
   "codemirror_mode": {
    "name": "ipython",
    "version": 3
   },
   "file_extension": ".py",
   "mimetype": "text/x-python",
   "name": "python",
   "nbconvert_exporter": "python",
   "pygments_lexer": "ipython3",
   "version": "3.6.8"
  }
 },
 "nbformat": 4,
 "nbformat_minor": 2
}
