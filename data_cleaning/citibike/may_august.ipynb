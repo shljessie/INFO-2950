{
 "cells": [
  {
   "cell_type": "markdown",
   "metadata": {},
   "source": [
    "## Citibike May-August Cleaning & adding geoid"
   ]
  },
  {
   "cell_type": "markdown",
   "metadata": {},
   "source": [
    "This notebook was made to remove unused columns in our citibike dataset\n",
    "the original dataset is"
   ]
  },
  {
   "cell_type": "code",
   "execution_count": 29,
   "metadata": {},
   "outputs": [],
   "source": [
    "import pandas as pd \n",
    "import numpy as np\n",
    "import requests\n",
    "import urllib"
   ]
  },
  {
   "cell_type": "markdown",
   "metadata": {},
   "source": [
    "### May - August"
   ]
  },
  {
   "cell_type": "code",
   "execution_count": 12,
   "metadata": {},
   "outputs": [],
   "source": [
    "#May\n",
    "may_raw = pd.read_csv('./201705-citibike-tripdata.csv')\n",
    "june_raw = pd.read_csv('./201706-citibike-tripdata.csv')\n",
    "july_raw = pd.read_csv('./201707-citibike-tripdata.csv')\n",
    "august_raw = pd.read_csv('./201708-citibike-tripdata.csv')"
   ]
  },
  {
   "cell_type": "code",
   "execution_count": 41,
   "metadata": {},
   "outputs": [
    {
     "data": {
      "text/plain": [
       "Index(['tripduration', 'starttime', 'stoptime', 'start station id',\n",
       "       'start station name', 'start station latitude',\n",
       "       'start station longitude', 'end station id', 'end station name',\n",
       "       'end station latitude', 'end station longitude', 'bikeid', 'usertype',\n",
       "       'birth year', 'gender'],\n",
       "      dtype='object')"
      ]
     },
     "execution_count": 41,
     "metadata": {},
     "output_type": "execute_result"
    }
   ],
   "source": [
    "may_raw.columns"
   ]
  },
  {
   "cell_type": "markdown",
   "metadata": {},
   "source": [
    "## Read Stations csv file"
   ]
  },
  {
   "cell_type": "code",
   "execution_count": 42,
   "metadata": {},
   "outputs": [
    {
     "data": {
      "text/html": [
       "<div>\n",
       "<style scoped>\n",
       "    .dataframe tbody tr th:only-of-type {\n",
       "        vertical-align: middle;\n",
       "    }\n",
       "\n",
       "    .dataframe tbody tr th {\n",
       "        vertical-align: top;\n",
       "    }\n",
       "\n",
       "    .dataframe thead th {\n",
       "        text-align: right;\n",
       "    }\n",
       "</style>\n",
       "<table border=\"1\" class=\"dataframe\">\n",
       "  <thead>\n",
       "    <tr style=\"text-align: right;\">\n",
       "      <th></th>\n",
       "      <th>Unnamed: 0</th>\n",
       "      <th>id</th>\n",
       "      <th>name</th>\n",
       "      <th>lat</th>\n",
       "      <th>lon</th>\n",
       "      <th>first</th>\n",
       "      <th>last</th>\n",
       "      <th>rides</th>\n",
       "      <th>geoid</th>\n",
       "    </tr>\n",
       "  </thead>\n",
       "  <tbody>\n",
       "    <tr>\n",
       "      <th>0</th>\n",
       "      <td>0</td>\n",
       "      <td>254.0</td>\n",
       "      <td>W 11 St &amp; 6 Ave</td>\n",
       "      <td>40.735324</td>\n",
       "      <td>-73.998004</td>\n",
       "      <td>2013-06-01</td>\n",
       "      <td>2019-07-31</td>\n",
       "      <td>168076</td>\n",
       "      <td>36061006300</td>\n",
       "    </tr>\n",
       "    <tr>\n",
       "      <th>1</th>\n",
       "      <td>1</td>\n",
       "      <td>151.0</td>\n",
       "      <td>Cleveland Pl &amp; Spring St</td>\n",
       "      <td>40.721816</td>\n",
       "      <td>-73.997203</td>\n",
       "      <td>2013-06-01</td>\n",
       "      <td>2019-07-31</td>\n",
       "      <td>445639</td>\n",
       "      <td>36061004100</td>\n",
       "    </tr>\n",
       "    <tr>\n",
       "      <th>2</th>\n",
       "      <td>2</td>\n",
       "      <td>352.0</td>\n",
       "      <td>W 56 St &amp; 6 Ave</td>\n",
       "      <td>40.763406</td>\n",
       "      <td>-73.977225</td>\n",
       "      <td>2013-06-01</td>\n",
       "      <td>2016-12-31</td>\n",
       "      <td>122203</td>\n",
       "      <td>36061010400</td>\n",
       "    </tr>\n",
       "    <tr>\n",
       "      <th>3</th>\n",
       "      <td>3</td>\n",
       "      <td>490.0</td>\n",
       "      <td>8 Ave &amp; W 33 St</td>\n",
       "      <td>40.751551</td>\n",
       "      <td>-73.993934</td>\n",
       "      <td>2013-06-01</td>\n",
       "      <td>2019-07-31</td>\n",
       "      <td>480463</td>\n",
       "      <td>36061010300</td>\n",
       "    </tr>\n",
       "    <tr>\n",
       "      <th>4</th>\n",
       "      <td>4</td>\n",
       "      <td>236.0</td>\n",
       "      <td>St Marks Pl &amp; 2 Ave</td>\n",
       "      <td>40.728419</td>\n",
       "      <td>-73.987140</td>\n",
       "      <td>2013-06-01</td>\n",
       "      <td>2019-07-31</td>\n",
       "      <td>292217</td>\n",
       "      <td>36061003800</td>\n",
       "    </tr>\n",
       "  </tbody>\n",
       "</table>\n",
       "</div>"
      ],
      "text/plain": [
       "   Unnamed: 0     id                      name        lat        lon  \\\n",
       "0           0  254.0           W 11 St & 6 Ave  40.735324 -73.998004   \n",
       "1           1  151.0  Cleveland Pl & Spring St  40.721816 -73.997203   \n",
       "2           2  352.0           W 56 St & 6 Ave  40.763406 -73.977225   \n",
       "3           3  490.0           8 Ave & W 33 St  40.751551 -73.993934   \n",
       "4           4  236.0       St Marks Pl & 2 Ave  40.728419 -73.987140   \n",
       "\n",
       "        first        last   rides        geoid  \n",
       "0  2013-06-01  2019-07-31  168076  36061006300  \n",
       "1  2013-06-01  2019-07-31  445639  36061004100  \n",
       "2  2013-06-01  2016-12-31  122203  36061010400  \n",
       "3  2013-06-01  2019-07-31  480463  36061010300  \n",
       "4  2013-06-01  2019-07-31  292217  36061003800  "
      ]
     },
     "execution_count": 42,
     "metadata": {},
     "output_type": "execute_result"
    }
   ],
   "source": [
    "st_geo_id = pd.read_csv('../citbike stations/citibike_stations_geoid.csv')\n",
    "st_geo_id.head()"
   ]
  },
  {
   "cell_type": "markdown",
   "metadata": {},
   "source": [
    "Joining the geo id from the station data to raw may data"
   ]
  },
  {
   "cell_type": "markdown",
   "metadata": {},
   "source": [
    "## May"
   ]
  },
  {
   "cell_type": "code",
   "execution_count": 43,
   "metadata": {},
   "outputs": [
    {
     "data": {
      "text/plain": [
       "(1523268, 12)"
      ]
     },
     "execution_count": 43,
     "metadata": {},
     "output_type": "execute_result"
    }
   ],
   "source": [
    "# Matching the geoids to the start station ID \n",
    "new_data = may_raw.join(st_geo_id.set_index(['id']), on=['start station id'], how='left').copy()\n",
    "\n",
    "# Changing the column to start station geo ID\n",
    "new_data.rename(columns = {'geoid': 'start_station_geoid'}, inplace = True)\n",
    "\n",
    "# Dropping the columns carried over from station ID\n",
    "new_data = new_data.drop(['Unnamed: 0', 'name', 'lat', 'lon', 'first', 'last', 'rides'], axis = 1).copy()\n",
    "\n",
    "# Matching the geoids to the end station ID\n",
    "new_data = new_data.join(st_geo_id.set_index(['id']), on=['end station id'], how='left').copy()\n",
    "new_data = new_data.drop(['Unnamed: 0', 'name', 'lat', 'lon', 'first', 'last', 'rides'], axis = 1).copy()\n",
    "new_data.rename(columns = {'geoid': 'end_station_geoid'}, inplace = True)\n",
    "\n",
    "# Making all columns lower case\n",
    "new_data.columns = map(str.lower, new_data.columns)\n",
    "\n",
    "# Dropping columns we're not going to use\n",
    "new_data = new_data.drop(['start station latitude','start station longitude','end station latitude', 'end station longitude', 'bikeid'], axis = 1).copy()\n",
    "new_data.shape"
   ]
  },
  {
   "cell_type": "code",
   "execution_count": 45,
   "metadata": {},
   "outputs": [
    {
     "data": {
      "text/plain": [
       "Index(['tripduration', 'starttime', 'stoptime', 'start station id',\n",
       "       'start station name', 'end station id', 'end station name', 'usertype',\n",
       "       'birth year', 'gender', 'start_station_geoid', 'end_station_geoid'],\n",
       "      dtype='object')"
      ]
     },
     "execution_count": 45,
     "metadata": {},
     "output_type": "execute_result"
    }
   ],
   "source": [
    "may_final = new_data\n",
    "may_final.columns"
   ]
  },
  {
   "cell_type": "markdown",
   "metadata": {},
   "source": [
    "## June"
   ]
  },
  {
   "cell_type": "code",
   "execution_count": 48,
   "metadata": {},
   "outputs": [
    {
     "data": {
      "text/plain": [
       "(1731594, 12)"
      ]
     },
     "execution_count": 48,
     "metadata": {},
     "output_type": "execute_result"
    }
   ],
   "source": [
    "# Matching the geoids to the start station ID \n",
    "new_data = june_raw.join(st_geo_id.set_index(['id']), on=['start station id'], how='left').copy()\n",
    "\n",
    "# Changing the column to start station geo ID\n",
    "new_data.rename(columns = {'geoid': 'start_station_geoid'}, inplace = True)\n",
    "\n",
    "# Dropping the columns carried over from station ID\n",
    "new_data = new_data.drop(['Unnamed: 0', 'name', 'lat', 'lon', 'first', 'last', 'rides'], axis = 1).copy()\n",
    "\n",
    "# Matching the geoids to the end station ID\n",
    "new_data = new_data.join(st_geo_id.set_index(['id']), on=['end station id'], how='left').copy()\n",
    "new_data = new_data.drop(['Unnamed: 0', 'name', 'lat', 'lon', 'first', 'last', 'rides'], axis = 1).copy()\n",
    "new_data.rename(columns = {'geoid': 'end_station_geoid'}, inplace = True)\n",
    "\n",
    "# Making all columns lower case\n",
    "new_data.columns = map(str.lower, new_data.columns)\n",
    "\n",
    "# Dropping columns we're not going to use\n",
    "new_data = new_data.drop(['start station latitude','start station longitude','end station latitude', 'end station longitude', 'bikeid'], axis = 1).copy()\n",
    "new_data.shape"
   ]
  },
  {
   "cell_type": "code",
   "execution_count": 49,
   "metadata": {},
   "outputs": [
    {
     "data": {
      "text/plain": [
       "Index(['tripduration', 'starttime', 'stoptime', 'start station id',\n",
       "       'start station name', 'end station id', 'end station name', 'usertype',\n",
       "       'birth year', 'gender', 'start_station_geoid', 'end_station_geoid'],\n",
       "      dtype='object')"
      ]
     },
     "execution_count": 49,
     "metadata": {},
     "output_type": "execute_result"
    }
   ],
   "source": [
    "june_final = new_data\n",
    "june_final.columns"
   ]
  },
  {
   "cell_type": "code",
   "execution_count": 51,
   "metadata": {},
   "outputs": [
    {
     "data": {
      "text/html": [
       "<div>\n",
       "<style scoped>\n",
       "    .dataframe tbody tr th:only-of-type {\n",
       "        vertical-align: middle;\n",
       "    }\n",
       "\n",
       "    .dataframe tbody tr th {\n",
       "        vertical-align: top;\n",
       "    }\n",
       "\n",
       "    .dataframe thead th {\n",
       "        text-align: right;\n",
       "    }\n",
       "</style>\n",
       "<table border=\"1\" class=\"dataframe\">\n",
       "  <thead>\n",
       "    <tr style=\"text-align: right;\">\n",
       "      <th></th>\n",
       "      <th>tripduration</th>\n",
       "      <th>starttime</th>\n",
       "      <th>stoptime</th>\n",
       "      <th>start station id</th>\n",
       "      <th>start station name</th>\n",
       "      <th>end station id</th>\n",
       "      <th>end station name</th>\n",
       "      <th>usertype</th>\n",
       "      <th>birth year</th>\n",
       "      <th>gender</th>\n",
       "      <th>start_station_geoid</th>\n",
       "      <th>end_station_geoid</th>\n",
       "    </tr>\n",
       "  </thead>\n",
       "  <tbody>\n",
       "    <tr>\n",
       "      <th>0</th>\n",
       "      <td>1397</td>\n",
       "      <td>2017-06-01 00:00:02</td>\n",
       "      <td>2017-06-01 00:23:19</td>\n",
       "      <td>515</td>\n",
       "      <td>W 43 St &amp; 10 Ave</td>\n",
       "      <td>3285</td>\n",
       "      <td>W 87 St  &amp; Amsterdam Ave</td>\n",
       "      <td>Subscriber</td>\n",
       "      <td>1967.0</td>\n",
       "      <td>1</td>\n",
       "      <td>3.606101e+10</td>\n",
       "      <td>3.606102e+10</td>\n",
       "    </tr>\n",
       "    <tr>\n",
       "      <th>1</th>\n",
       "      <td>1103</td>\n",
       "      <td>2017-06-01 00:00:13</td>\n",
       "      <td>2017-06-01 00:18:37</td>\n",
       "      <td>488</td>\n",
       "      <td>W 39 St &amp; 9 Ave</td>\n",
       "      <td>297</td>\n",
       "      <td>E 15 St &amp; 3 Ave</td>\n",
       "      <td>Subscriber</td>\n",
       "      <td>1981.0</td>\n",
       "      <td>1</td>\n",
       "      <td>3.606101e+10</td>\n",
       "      <td>3.606100e+10</td>\n",
       "    </tr>\n",
       "    <tr>\n",
       "      <th>2</th>\n",
       "      <td>1810</td>\n",
       "      <td>2017-06-01 00:00:20</td>\n",
       "      <td>2017-06-01 00:30:31</td>\n",
       "      <td>461</td>\n",
       "      <td>E 20 St &amp; 2 Ave</td>\n",
       "      <td>465</td>\n",
       "      <td>Broadway &amp; W 41 St</td>\n",
       "      <td>Subscriber</td>\n",
       "      <td>1982.0</td>\n",
       "      <td>1</td>\n",
       "      <td>3.606101e+10</td>\n",
       "      <td>3.606101e+10</td>\n",
       "    </tr>\n",
       "    <tr>\n",
       "      <th>3</th>\n",
       "      <td>1760</td>\n",
       "      <td>2017-06-01 00:00:24</td>\n",
       "      <td>2017-06-01 00:29:45</td>\n",
       "      <td>2009</td>\n",
       "      <td>Catherine St &amp; Monroe St</td>\n",
       "      <td>527</td>\n",
       "      <td>E 33 St &amp; 2 Ave</td>\n",
       "      <td>Subscriber</td>\n",
       "      <td>1973.0</td>\n",
       "      <td>2</td>\n",
       "      <td>3.606100e+10</td>\n",
       "      <td>3.606101e+10</td>\n",
       "    </tr>\n",
       "    <tr>\n",
       "      <th>4</th>\n",
       "      <td>2165</td>\n",
       "      <td>2017-06-01 00:00:33</td>\n",
       "      <td>2017-06-01 00:36:38</td>\n",
       "      <td>360</td>\n",
       "      <td>William St &amp; Pine St</td>\n",
       "      <td>474</td>\n",
       "      <td>5 Ave &amp; E 29 St</td>\n",
       "      <td>Subscriber</td>\n",
       "      <td>1985.0</td>\n",
       "      <td>1</td>\n",
       "      <td>3.606100e+10</td>\n",
       "      <td>3.606101e+10</td>\n",
       "    </tr>\n",
       "  </tbody>\n",
       "</table>\n",
       "</div>"
      ],
      "text/plain": [
       "   tripduration            starttime             stoptime  start station id  \\\n",
       "0          1397  2017-06-01 00:00:02  2017-06-01 00:23:19               515   \n",
       "1          1103  2017-06-01 00:00:13  2017-06-01 00:18:37               488   \n",
       "2          1810  2017-06-01 00:00:20  2017-06-01 00:30:31               461   \n",
       "3          1760  2017-06-01 00:00:24  2017-06-01 00:29:45              2009   \n",
       "4          2165  2017-06-01 00:00:33  2017-06-01 00:36:38               360   \n",
       "\n",
       "         start station name  end station id          end station name  \\\n",
       "0          W 43 St & 10 Ave            3285  W 87 St  & Amsterdam Ave   \n",
       "1           W 39 St & 9 Ave             297           E 15 St & 3 Ave   \n",
       "2           E 20 St & 2 Ave             465        Broadway & W 41 St   \n",
       "3  Catherine St & Monroe St             527           E 33 St & 2 Ave   \n",
       "4      William St & Pine St             474           5 Ave & E 29 St   \n",
       "\n",
       "     usertype  birth year  gender  start_station_geoid  end_station_geoid  \n",
       "0  Subscriber      1967.0       1         3.606101e+10       3.606102e+10  \n",
       "1  Subscriber      1981.0       1         3.606101e+10       3.606100e+10  \n",
       "2  Subscriber      1982.0       1         3.606101e+10       3.606101e+10  \n",
       "3  Subscriber      1973.0       2         3.606100e+10       3.606101e+10  \n",
       "4  Subscriber      1985.0       1         3.606100e+10       3.606101e+10  "
      ]
     },
     "execution_count": 51,
     "metadata": {},
     "output_type": "execute_result"
    }
   ],
   "source": [
    "june_final.head()"
   ]
  },
  {
   "cell_type": "markdown",
   "metadata": {},
   "source": [
    "## July"
   ]
  },
  {
   "cell_type": "code",
   "execution_count": 52,
   "metadata": {},
   "outputs": [
    {
     "data": {
      "text/plain": [
       "(1735599, 12)"
      ]
     },
     "execution_count": 52,
     "metadata": {},
     "output_type": "execute_result"
    }
   ],
   "source": [
    "# Matching the geoids to the start station ID \n",
    "new_data = july_raw.join(st_geo_id.set_index(['id']), on=['start station id'], how='left').copy()\n",
    "\n",
    "# Changing the column to start station geo ID\n",
    "new_data.rename(columns = {'geoid': 'start_station_geoid'}, inplace = True)\n",
    "\n",
    "# Dropping the columns carried over from station ID\n",
    "new_data = new_data.drop(['Unnamed: 0', 'name', 'lat', 'lon', 'first', 'last', 'rides'], axis = 1).copy()\n",
    "\n",
    "# Matching the geoids to the end station ID\n",
    "new_data = new_data.join(st_geo_id.set_index(['id']), on=['end station id'], how='left').copy()\n",
    "new_data = new_data.drop(['Unnamed: 0', 'name', 'lat', 'lon', 'first', 'last', 'rides'], axis = 1).copy()\n",
    "new_data.rename(columns = {'geoid': 'end_station_geoid'}, inplace = True)\n",
    "\n",
    "# Making all columns lower case\n",
    "new_data.columns = map(str.lower, new_data.columns)\n",
    "\n",
    "# Dropping columns we're not going to use\n",
    "new_data = new_data.drop(['start station latitude','start station longitude','end station latitude', 'end station longitude', 'bikeid'], axis = 1).copy()\n",
    "new_data.shape"
   ]
  },
  {
   "cell_type": "code",
   "execution_count": 53,
   "metadata": {},
   "outputs": [
    {
     "data": {
      "text/plain": [
       "Index(['tripduration', 'starttime', 'stoptime', 'start station id',\n",
       "       'start station name', 'end station id', 'end station name', 'usertype',\n",
       "       'birth year', 'gender', 'start_station_geoid', 'end_station_geoid'],\n",
       "      dtype='object')"
      ]
     },
     "execution_count": 53,
     "metadata": {},
     "output_type": "execute_result"
    }
   ],
   "source": [
    "july_final = new_data\n",
    "july_final.columns"
   ]
  },
  {
   "cell_type": "code",
   "execution_count": 54,
   "metadata": {},
   "outputs": [
    {
     "data": {
      "text/html": [
       "<div>\n",
       "<style scoped>\n",
       "    .dataframe tbody tr th:only-of-type {\n",
       "        vertical-align: middle;\n",
       "    }\n",
       "\n",
       "    .dataframe tbody tr th {\n",
       "        vertical-align: top;\n",
       "    }\n",
       "\n",
       "    .dataframe thead th {\n",
       "        text-align: right;\n",
       "    }\n",
       "</style>\n",
       "<table border=\"1\" class=\"dataframe\">\n",
       "  <thead>\n",
       "    <tr style=\"text-align: right;\">\n",
       "      <th></th>\n",
       "      <th>tripduration</th>\n",
       "      <th>starttime</th>\n",
       "      <th>stoptime</th>\n",
       "      <th>start station id</th>\n",
       "      <th>start station name</th>\n",
       "      <th>end station id</th>\n",
       "      <th>end station name</th>\n",
       "      <th>usertype</th>\n",
       "      <th>birth year</th>\n",
       "      <th>gender</th>\n",
       "      <th>start_station_geoid</th>\n",
       "      <th>end_station_geoid</th>\n",
       "    </tr>\n",
       "  </thead>\n",
       "  <tbody>\n",
       "    <tr>\n",
       "      <th>0</th>\n",
       "      <td>364</td>\n",
       "      <td>2017-07-01 00:00:00</td>\n",
       "      <td>2017-07-01 00:06:05</td>\n",
       "      <td>539</td>\n",
       "      <td>Metropolitan Ave &amp; Bedford Ave</td>\n",
       "      <td>3107</td>\n",
       "      <td>Bedford Ave &amp; Nassau Ave</td>\n",
       "      <td>Subscriber</td>\n",
       "      <td>1986.0</td>\n",
       "      <td>1</td>\n",
       "      <td>3.604706e+10</td>\n",
       "      <td>3.604705e+10</td>\n",
       "    </tr>\n",
       "    <tr>\n",
       "      <th>1</th>\n",
       "      <td>2142</td>\n",
       "      <td>2017-07-01 00:00:03</td>\n",
       "      <td>2017-07-01 00:35:46</td>\n",
       "      <td>293</td>\n",
       "      <td>Lafayette St &amp; E 8 St</td>\n",
       "      <td>3425</td>\n",
       "      <td>2 Ave  &amp; E 104 St</td>\n",
       "      <td>Subscriber</td>\n",
       "      <td>1981.0</td>\n",
       "      <td>1</td>\n",
       "      <td>3.606101e+10</td>\n",
       "      <td>3.606102e+10</td>\n",
       "    </tr>\n",
       "    <tr>\n",
       "      <th>2</th>\n",
       "      <td>328</td>\n",
       "      <td>2017-07-01 00:00:08</td>\n",
       "      <td>2017-07-01 00:05:37</td>\n",
       "      <td>3242</td>\n",
       "      <td>Schermerhorn St &amp; Court St</td>\n",
       "      <td>3397</td>\n",
       "      <td>Court St &amp; Nelson St</td>\n",
       "      <td>Subscriber</td>\n",
       "      <td>1984.0</td>\n",
       "      <td>2</td>\n",
       "      <td>3.604700e+10</td>\n",
       "      <td>3.604701e+10</td>\n",
       "    </tr>\n",
       "    <tr>\n",
       "      <th>3</th>\n",
       "      <td>2530</td>\n",
       "      <td>2017-07-01 00:00:11</td>\n",
       "      <td>2017-07-01 00:42:22</td>\n",
       "      <td>2002</td>\n",
       "      <td>Wythe Ave &amp; Metropolitan Ave</td>\n",
       "      <td>398</td>\n",
       "      <td>Atlantic Ave &amp; Furman St</td>\n",
       "      <td>Subscriber</td>\n",
       "      <td>1985.0</td>\n",
       "      <td>1</td>\n",
       "      <td>3.604706e+10</td>\n",
       "      <td>3.604700e+10</td>\n",
       "    </tr>\n",
       "    <tr>\n",
       "      <th>4</th>\n",
       "      <td>2534</td>\n",
       "      <td>2017-07-01 00:00:15</td>\n",
       "      <td>2017-07-01 00:42:29</td>\n",
       "      <td>2002</td>\n",
       "      <td>Wythe Ave &amp; Metropolitan Ave</td>\n",
       "      <td>398</td>\n",
       "      <td>Atlantic Ave &amp; Furman St</td>\n",
       "      <td>Subscriber</td>\n",
       "      <td>1982.0</td>\n",
       "      <td>2</td>\n",
       "      <td>3.604706e+10</td>\n",
       "      <td>3.604700e+10</td>\n",
       "    </tr>\n",
       "  </tbody>\n",
       "</table>\n",
       "</div>"
      ],
      "text/plain": [
       "   tripduration            starttime             stoptime  start station id  \\\n",
       "0           364  2017-07-01 00:00:00  2017-07-01 00:06:05               539   \n",
       "1          2142  2017-07-01 00:00:03  2017-07-01 00:35:46               293   \n",
       "2           328  2017-07-01 00:00:08  2017-07-01 00:05:37              3242   \n",
       "3          2530  2017-07-01 00:00:11  2017-07-01 00:42:22              2002   \n",
       "4          2534  2017-07-01 00:00:15  2017-07-01 00:42:29              2002   \n",
       "\n",
       "               start station name  end station id          end station name  \\\n",
       "0  Metropolitan Ave & Bedford Ave            3107  Bedford Ave & Nassau Ave   \n",
       "1           Lafayette St & E 8 St            3425         2 Ave  & E 104 St   \n",
       "2      Schermerhorn St & Court St            3397      Court St & Nelson St   \n",
       "3    Wythe Ave & Metropolitan Ave             398  Atlantic Ave & Furman St   \n",
       "4    Wythe Ave & Metropolitan Ave             398  Atlantic Ave & Furman St   \n",
       "\n",
       "     usertype  birth year  gender  start_station_geoid  end_station_geoid  \n",
       "0  Subscriber      1986.0       1         3.604706e+10       3.604705e+10  \n",
       "1  Subscriber      1981.0       1         3.606101e+10       3.606102e+10  \n",
       "2  Subscriber      1984.0       2         3.604700e+10       3.604701e+10  \n",
       "3  Subscriber      1985.0       1         3.604706e+10       3.604700e+10  \n",
       "4  Subscriber      1982.0       2         3.604706e+10       3.604700e+10  "
      ]
     },
     "execution_count": 54,
     "metadata": {},
     "output_type": "execute_result"
    }
   ],
   "source": [
    "july_final.head()"
   ]
  },
  {
   "cell_type": "markdown",
   "metadata": {},
   "source": [
    "## August"
   ]
  },
  {
   "cell_type": "code",
   "execution_count": 55,
   "metadata": {},
   "outputs": [
    {
     "data": {
      "text/plain": [
       "(1816498, 12)"
      ]
     },
     "execution_count": 55,
     "metadata": {},
     "output_type": "execute_result"
    }
   ],
   "source": [
    "# Matching the geoids to the start station ID \n",
    "new_data = august_raw.join(st_geo_id.set_index(['id']), on=['start station id'], how='left').copy()\n",
    "\n",
    "# Changing the column to start station geo ID\n",
    "new_data.rename(columns = {'geoid': 'start_station_geoid'}, inplace = True)\n",
    "\n",
    "# Dropping the columns carried over from station ID\n",
    "new_data = new_data.drop(['Unnamed: 0', 'name', 'lat', 'lon', 'first', 'last', 'rides'], axis = 1).copy()\n",
    "\n",
    "# Matching the geoids to the end station ID\n",
    "new_data = new_data.join(st_geo_id.set_index(['id']), on=['end station id'], how='left').copy()\n",
    "new_data = new_data.drop(['Unnamed: 0', 'name', 'lat', 'lon', 'first', 'last', 'rides'], axis = 1).copy()\n",
    "new_data.rename(columns = {'geoid': 'end_station_geoid'}, inplace = True)\n",
    "\n",
    "# Making all columns lower case\n",
    "new_data.columns = map(str.lower, new_data.columns)\n",
    "\n",
    "# Dropping columns we're not going to use\n",
    "new_data = new_data.drop(['start station latitude','start station longitude','end station latitude', 'end station longitude', 'bikeid'], axis = 1).copy()\n",
    "new_data.shape"
   ]
  },
  {
   "cell_type": "code",
   "execution_count": 56,
   "metadata": {},
   "outputs": [
    {
     "data": {
      "text/plain": [
       "Index(['tripduration', 'starttime', 'stoptime', 'start station id',\n",
       "       'start station name', 'end station id', 'end station name', 'usertype',\n",
       "       'birth year', 'gender', 'start_station_geoid', 'end_station_geoid'],\n",
       "      dtype='object')"
      ]
     },
     "execution_count": 56,
     "metadata": {},
     "output_type": "execute_result"
    }
   ],
   "source": [
    "august_final = new_data\n",
    "august_final.columns"
   ]
  },
  {
   "cell_type": "markdown",
   "metadata": {},
   "source": [
    "## Save to csv"
   ]
  },
  {
   "cell_type": "code",
   "execution_count": 46,
   "metadata": {},
   "outputs": [],
   "source": [
    "may_final = may_final.to_csv('./may_final.csv')"
   ]
  },
  {
   "cell_type": "code",
   "execution_count": 57,
   "metadata": {},
   "outputs": [],
   "source": [
    "june_final = june_final.to_csv('./june_final.csv')\n",
    "july_final = july_final .to_csv('./july_final.csv')\n",
    "august_final = august_final.to_csv('./august_final.csv')"
   ]
  },
  {
   "cell_type": "code",
   "execution_count": null,
   "metadata": {},
   "outputs": [],
   "source": []
  }
 ],
 "metadata": {
  "kernelspec": {
   "display_name": "Python 3",
   "language": "python",
   "name": "python3"
  },
  "language_info": {
   "codemirror_mode": {
    "name": "ipython",
    "version": 3
   },
   "file_extension": ".py",
   "mimetype": "text/x-python",
   "name": "python",
   "nbconvert_exporter": "python",
   "pygments_lexer": "ipython3",
   "version": "3.8.5"
  }
 },
 "nbformat": 4,
 "nbformat_minor": 4
}
