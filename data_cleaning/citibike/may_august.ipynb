{
 "cells": [
  {
   "cell_type": "markdown",
   "metadata": {},
   "source": [
    "## Citibike Data Analysis "
   ]
  },
  {
   "cell_type": "markdown",
   "metadata": {},
   "source": [
    "This notebook was made to remove unused columns in our citibike dataset\n",
    "the original dataset is very large so we are shrinking it"
   ]
  },
  {
   "cell_type": "code",
   "execution_count": 1,
   "metadata": {},
   "outputs": [],
   "source": [
    "import pandas as pd \n",
    "import numpy as np"
   ]
  },
  {
   "cell_type": "markdown",
   "metadata": {},
   "source": [
    "### May - August"
   ]
  },
  {
   "cell_type": "code",
   "execution_count": 2,
   "metadata": {},
   "outputs": [],
   "source": [
    "#May\n",
    "may_raw = pd.read_csv('./raw/201705-citibike-tripdata.csv')\n",
    "june_raw = pd.read_csv('./raw/201706-citibike-tripdata.csv')\n",
    "july_raw = pd.read_csv('./raw/201707-citibike-tripdata.csv')\n",
    "august_raw = pd.read_csv('./raw/201708-citibike-tripdata.csv')"
   ]
  },
  {
   "cell_type": "code",
   "execution_count": 3,
   "metadata": {},
   "outputs": [
    {
     "data": {
      "text/plain": [
       "(1523268, 15)"
      ]
     },
     "execution_count": 3,
     "metadata": {},
     "output_type": "execute_result"
    }
   ],
   "source": [
    "may_raw.shape"
   ]
  },
  {
   "cell_type": "code",
   "execution_count": 4,
   "metadata": {},
   "outputs": [
    {
     "data": {
      "text/plain": [
       "(1731594, 15)"
      ]
     },
     "execution_count": 4,
     "metadata": {},
     "output_type": "execute_result"
    }
   ],
   "source": [
    "june_raw.shape"
   ]
  },
  {
   "cell_type": "code",
   "execution_count": 5,
   "metadata": {},
   "outputs": [
    {
     "data": {
      "text/plain": [
       "(1735599, 15)"
      ]
     },
     "execution_count": 5,
     "metadata": {},
     "output_type": "execute_result"
    }
   ],
   "source": [
    "july_raw.shape"
   ]
  },
  {
   "cell_type": "code",
   "execution_count": 6,
   "metadata": {},
   "outputs": [
    {
     "data": {
      "text/plain": [
       "(1816498, 15)"
      ]
     },
     "execution_count": 6,
     "metadata": {},
     "output_type": "execute_result"
    }
   ],
   "source": [
    "august_raw.shape"
   ]
  },
  {
   "cell_type": "code",
   "execution_count": 7,
   "metadata": {},
   "outputs": [
    {
     "data": {
      "text/html": [
       "<div>\n",
       "<style scoped>\n",
       "    .dataframe tbody tr th:only-of-type {\n",
       "        vertical-align: middle;\n",
       "    }\n",
       "\n",
       "    .dataframe tbody tr th {\n",
       "        vertical-align: top;\n",
       "    }\n",
       "\n",
       "    .dataframe thead th {\n",
       "        text-align: right;\n",
       "    }\n",
       "</style>\n",
       "<table border=\"1\" class=\"dataframe\">\n",
       "  <thead>\n",
       "    <tr style=\"text-align: right;\">\n",
       "      <th></th>\n",
       "      <th>tripduration</th>\n",
       "      <th>starttime</th>\n",
       "      <th>stoptime</th>\n",
       "      <th>start station id</th>\n",
       "      <th>start station name</th>\n",
       "      <th>start station latitude</th>\n",
       "      <th>start station longitude</th>\n",
       "      <th>end station id</th>\n",
       "      <th>end station name</th>\n",
       "      <th>end station latitude</th>\n",
       "      <th>end station longitude</th>\n",
       "      <th>bikeid</th>\n",
       "      <th>usertype</th>\n",
       "      <th>birth year</th>\n",
       "      <th>gender</th>\n",
       "    </tr>\n",
       "  </thead>\n",
       "  <tbody>\n",
       "    <tr>\n",
       "      <th>0</th>\n",
       "      <td>254</td>\n",
       "      <td>2017-05-01 00:00:13</td>\n",
       "      <td>2017-05-01 00:04:27</td>\n",
       "      <td>511</td>\n",
       "      <td>E 14 St &amp; Avenue B</td>\n",
       "      <td>40.729387</td>\n",
       "      <td>-73.977724</td>\n",
       "      <td>394</td>\n",
       "      <td>E 9 St &amp; Avenue C</td>\n",
       "      <td>40.725213</td>\n",
       "      <td>-73.977688</td>\n",
       "      <td>27695</td>\n",
       "      <td>Subscriber</td>\n",
       "      <td>1996.0</td>\n",
       "      <td>2</td>\n",
       "    </tr>\n",
       "    <tr>\n",
       "      <th>1</th>\n",
       "      <td>248</td>\n",
       "      <td>2017-05-01 00:00:19</td>\n",
       "      <td>2017-05-01 00:04:28</td>\n",
       "      <td>511</td>\n",
       "      <td>E 14 St &amp; Avenue B</td>\n",
       "      <td>40.729387</td>\n",
       "      <td>-73.977724</td>\n",
       "      <td>394</td>\n",
       "      <td>E 9 St &amp; Avenue C</td>\n",
       "      <td>40.725213</td>\n",
       "      <td>-73.977688</td>\n",
       "      <td>15869</td>\n",
       "      <td>Subscriber</td>\n",
       "      <td>1996.0</td>\n",
       "      <td>1</td>\n",
       "    </tr>\n",
       "    <tr>\n",
       "      <th>2</th>\n",
       "      <td>1120</td>\n",
       "      <td>2017-05-01 00:00:19</td>\n",
       "      <td>2017-05-01 00:19:00</td>\n",
       "      <td>242</td>\n",
       "      <td>Carlton Ave &amp; Flushing Ave</td>\n",
       "      <td>40.697787</td>\n",
       "      <td>-73.973736</td>\n",
       "      <td>3083</td>\n",
       "      <td>Bushwick Ave &amp; Powers St</td>\n",
       "      <td>40.712477</td>\n",
       "      <td>-73.941000</td>\n",
       "      <td>18700</td>\n",
       "      <td>Subscriber</td>\n",
       "      <td>1985.0</td>\n",
       "      <td>2</td>\n",
       "    </tr>\n",
       "    <tr>\n",
       "      <th>3</th>\n",
       "      <td>212</td>\n",
       "      <td>2017-05-01 00:00:24</td>\n",
       "      <td>2017-05-01 00:03:56</td>\n",
       "      <td>168</td>\n",
       "      <td>W 18 St &amp; 6 Ave</td>\n",
       "      <td>40.739713</td>\n",
       "      <td>-73.994564</td>\n",
       "      <td>116</td>\n",
       "      <td>W 17 St &amp; 8 Ave</td>\n",
       "      <td>40.741776</td>\n",
       "      <td>-74.001497</td>\n",
       "      <td>24981</td>\n",
       "      <td>Subscriber</td>\n",
       "      <td>1993.0</td>\n",
       "      <td>1</td>\n",
       "    </tr>\n",
       "    <tr>\n",
       "      <th>4</th>\n",
       "      <td>686</td>\n",
       "      <td>2017-05-01 00:00:29</td>\n",
       "      <td>2017-05-01 00:11:55</td>\n",
       "      <td>494</td>\n",
       "      <td>W 26 St &amp; 8 Ave</td>\n",
       "      <td>40.747348</td>\n",
       "      <td>-73.997236</td>\n",
       "      <td>527</td>\n",
       "      <td>E 33 St &amp; 2 Ave</td>\n",
       "      <td>40.744023</td>\n",
       "      <td>-73.976056</td>\n",
       "      <td>25407</td>\n",
       "      <td>Subscriber</td>\n",
       "      <td>1964.0</td>\n",
       "      <td>1</td>\n",
       "    </tr>\n",
       "  </tbody>\n",
       "</table>\n",
       "</div>"
      ],
      "text/plain": [
       "   tripduration            starttime             stoptime  start station id  \\\n",
       "0           254  2017-05-01 00:00:13  2017-05-01 00:04:27               511   \n",
       "1           248  2017-05-01 00:00:19  2017-05-01 00:04:28               511   \n",
       "2          1120  2017-05-01 00:00:19  2017-05-01 00:19:00               242   \n",
       "3           212  2017-05-01 00:00:24  2017-05-01 00:03:56               168   \n",
       "4           686  2017-05-01 00:00:29  2017-05-01 00:11:55               494   \n",
       "\n",
       "           start station name  start station latitude  \\\n",
       "0          E 14 St & Avenue B               40.729387   \n",
       "1          E 14 St & Avenue B               40.729387   \n",
       "2  Carlton Ave & Flushing Ave               40.697787   \n",
       "3             W 18 St & 6 Ave               40.739713   \n",
       "4             W 26 St & 8 Ave               40.747348   \n",
       "\n",
       "   start station longitude  end station id          end station name  \\\n",
       "0               -73.977724             394         E 9 St & Avenue C   \n",
       "1               -73.977724             394         E 9 St & Avenue C   \n",
       "2               -73.973736            3083  Bushwick Ave & Powers St   \n",
       "3               -73.994564             116           W 17 St & 8 Ave   \n",
       "4               -73.997236             527           E 33 St & 2 Ave   \n",
       "\n",
       "   end station latitude  end station longitude  bikeid    usertype  \\\n",
       "0             40.725213             -73.977688   27695  Subscriber   \n",
       "1             40.725213             -73.977688   15869  Subscriber   \n",
       "2             40.712477             -73.941000   18700  Subscriber   \n",
       "3             40.741776             -74.001497   24981  Subscriber   \n",
       "4             40.744023             -73.976056   25407  Subscriber   \n",
       "\n",
       "   birth year  gender  \n",
       "0      1996.0       2  \n",
       "1      1996.0       1  \n",
       "2      1985.0       2  \n",
       "3      1993.0       1  \n",
       "4      1964.0       1  "
      ]
     },
     "execution_count": 7,
     "metadata": {},
     "output_type": "execute_result"
    }
   ],
   "source": [
    "may_raw.head()"
   ]
  },
  {
   "cell_type": "code",
   "execution_count": 8,
   "metadata": {},
   "outputs": [
    {
     "data": {
      "text/plain": [
       "Index(['tripduration', 'starttime', 'stoptime', 'start station id',\n",
       "       'start station name', 'start station latitude',\n",
       "       'start station longitude', 'end station id', 'end station name',\n",
       "       'end station latitude', 'end station longitude', 'bikeid', 'usertype',\n",
       "       'birth year', 'gender'],\n",
       "      dtype='object')"
      ]
     },
     "execution_count": 8,
     "metadata": {},
     "output_type": "execute_result"
    }
   ],
   "source": [
    "may_raw.columns"
   ]
  },
  {
   "cell_type": "code",
   "execution_count": 9,
   "metadata": {},
   "outputs": [],
   "source": [
    "final_may= may_raw.drop(columns=[ 'start station longitude','bikeid','end station longitude','end station latitude','start station latitude'])\n"
   ]
  },
  {
   "cell_type": "code",
   "execution_count": 10,
   "metadata": {},
   "outputs": [],
   "source": [
    "final_june= june_raw.drop(columns=[ 'start station longitude','bikeid','end station longitude','end station latitude','start station latitude'])\n"
   ]
  },
  {
   "cell_type": "code",
   "execution_count": 11,
   "metadata": {},
   "outputs": [],
   "source": [
    "final_july= july_raw.drop(columns=[ 'start station longitude','bikeid','end station longitude','end station latitude','start station latitude'])\n"
   ]
  },
  {
   "cell_type": "code",
   "execution_count": 12,
   "metadata": {},
   "outputs": [],
   "source": [
    "final_august= august_raw.drop(columns=[ 'start station longitude','bikeid','end station longitude','end station latitude','start station latitude'])\n"
   ]
  },
  {
   "cell_type": "code",
   "execution_count": 13,
   "metadata": {},
   "outputs": [
    {
     "data": {
      "text/html": [
       "<div>\n",
       "<style scoped>\n",
       "    .dataframe tbody tr th:only-of-type {\n",
       "        vertical-align: middle;\n",
       "    }\n",
       "\n",
       "    .dataframe tbody tr th {\n",
       "        vertical-align: top;\n",
       "    }\n",
       "\n",
       "    .dataframe thead th {\n",
       "        text-align: right;\n",
       "    }\n",
       "</style>\n",
       "<table border=\"1\" class=\"dataframe\">\n",
       "  <thead>\n",
       "    <tr style=\"text-align: right;\">\n",
       "      <th></th>\n",
       "      <th>tripduration</th>\n",
       "      <th>starttime</th>\n",
       "      <th>stoptime</th>\n",
       "      <th>start station id</th>\n",
       "      <th>start station name</th>\n",
       "      <th>end station id</th>\n",
       "      <th>end station name</th>\n",
       "      <th>usertype</th>\n",
       "      <th>birth year</th>\n",
       "      <th>gender</th>\n",
       "    </tr>\n",
       "  </thead>\n",
       "  <tbody>\n",
       "    <tr>\n",
       "      <th>0</th>\n",
       "      <td>254</td>\n",
       "      <td>2017-05-01 00:00:13</td>\n",
       "      <td>2017-05-01 00:04:27</td>\n",
       "      <td>511</td>\n",
       "      <td>E 14 St &amp; Avenue B</td>\n",
       "      <td>394</td>\n",
       "      <td>E 9 St &amp; Avenue C</td>\n",
       "      <td>Subscriber</td>\n",
       "      <td>1996.0</td>\n",
       "      <td>2</td>\n",
       "    </tr>\n",
       "    <tr>\n",
       "      <th>1</th>\n",
       "      <td>248</td>\n",
       "      <td>2017-05-01 00:00:19</td>\n",
       "      <td>2017-05-01 00:04:28</td>\n",
       "      <td>511</td>\n",
       "      <td>E 14 St &amp; Avenue B</td>\n",
       "      <td>394</td>\n",
       "      <td>E 9 St &amp; Avenue C</td>\n",
       "      <td>Subscriber</td>\n",
       "      <td>1996.0</td>\n",
       "      <td>1</td>\n",
       "    </tr>\n",
       "    <tr>\n",
       "      <th>2</th>\n",
       "      <td>1120</td>\n",
       "      <td>2017-05-01 00:00:19</td>\n",
       "      <td>2017-05-01 00:19:00</td>\n",
       "      <td>242</td>\n",
       "      <td>Carlton Ave &amp; Flushing Ave</td>\n",
       "      <td>3083</td>\n",
       "      <td>Bushwick Ave &amp; Powers St</td>\n",
       "      <td>Subscriber</td>\n",
       "      <td>1985.0</td>\n",
       "      <td>2</td>\n",
       "    </tr>\n",
       "    <tr>\n",
       "      <th>3</th>\n",
       "      <td>212</td>\n",
       "      <td>2017-05-01 00:00:24</td>\n",
       "      <td>2017-05-01 00:03:56</td>\n",
       "      <td>168</td>\n",
       "      <td>W 18 St &amp; 6 Ave</td>\n",
       "      <td>116</td>\n",
       "      <td>W 17 St &amp; 8 Ave</td>\n",
       "      <td>Subscriber</td>\n",
       "      <td>1993.0</td>\n",
       "      <td>1</td>\n",
       "    </tr>\n",
       "    <tr>\n",
       "      <th>4</th>\n",
       "      <td>686</td>\n",
       "      <td>2017-05-01 00:00:29</td>\n",
       "      <td>2017-05-01 00:11:55</td>\n",
       "      <td>494</td>\n",
       "      <td>W 26 St &amp; 8 Ave</td>\n",
       "      <td>527</td>\n",
       "      <td>E 33 St &amp; 2 Ave</td>\n",
       "      <td>Subscriber</td>\n",
       "      <td>1964.0</td>\n",
       "      <td>1</td>\n",
       "    </tr>\n",
       "  </tbody>\n",
       "</table>\n",
       "</div>"
      ],
      "text/plain": [
       "   tripduration            starttime             stoptime  start station id  \\\n",
       "0           254  2017-05-01 00:00:13  2017-05-01 00:04:27               511   \n",
       "1           248  2017-05-01 00:00:19  2017-05-01 00:04:28               511   \n",
       "2          1120  2017-05-01 00:00:19  2017-05-01 00:19:00               242   \n",
       "3           212  2017-05-01 00:00:24  2017-05-01 00:03:56               168   \n",
       "4           686  2017-05-01 00:00:29  2017-05-01 00:11:55               494   \n",
       "\n",
       "           start station name  end station id          end station name  \\\n",
       "0          E 14 St & Avenue B             394         E 9 St & Avenue C   \n",
       "1          E 14 St & Avenue B             394         E 9 St & Avenue C   \n",
       "2  Carlton Ave & Flushing Ave            3083  Bushwick Ave & Powers St   \n",
       "3             W 18 St & 6 Ave             116           W 17 St & 8 Ave   \n",
       "4             W 26 St & 8 Ave             527           E 33 St & 2 Ave   \n",
       "\n",
       "     usertype  birth year  gender  \n",
       "0  Subscriber      1996.0       2  \n",
       "1  Subscriber      1996.0       1  \n",
       "2  Subscriber      1985.0       2  \n",
       "3  Subscriber      1993.0       1  \n",
       "4  Subscriber      1964.0       1  "
      ]
     },
     "execution_count": 13,
     "metadata": {},
     "output_type": "execute_result"
    }
   ],
   "source": [
    "final_may.head()"
   ]
  },
  {
   "cell_type": "markdown",
   "metadata": {},
   "source": [
    "## Save to csv"
   ]
  },
  {
   "cell_type": "code",
   "execution_count": null,
   "metadata": {},
   "outputs": [],
   "source": [
    "may_final = final_may.to_csv('./may_final.csv')"
   ]
  },
  {
   "cell_type": "code",
   "execution_count": null,
   "metadata": {},
   "outputs": [],
   "source": [
    "june_final = final_june.to_csv('./june_final.csv')\n",
    "july_final = final_july.to_csv('./july_final.csv')\n",
    "august_final = final_august.to_csv('./august_final.csv')"
   ]
  }
 ],
 "metadata": {
  "kernelspec": {
   "display_name": "Python 3",
   "language": "python",
   "name": "python3"
  },
  "language_info": {
   "codemirror_mode": {
    "name": "ipython",
    "version": 3
   },
   "file_extension": ".py",
   "mimetype": "text/x-python",
   "name": "python",
   "nbconvert_exporter": "python",
   "pygments_lexer": "ipython3",
   "version": "3.8.5"
  }
 },
 "nbformat": 4,
 "nbformat_minor": 4
}
