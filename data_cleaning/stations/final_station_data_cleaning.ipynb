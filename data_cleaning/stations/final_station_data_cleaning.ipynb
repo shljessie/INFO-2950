{
 "cells": [
  {
   "cell_type": "code",
   "execution_count": 8,
   "metadata": {},
   "outputs": [],
   "source": [
    "import pandas as pd \n",
    "import numpy as np\n",
    "import datetime"
   ]
  },
  {
   "cell_type": "code",
   "execution_count": 9,
   "metadata": {},
   "outputs": [],
   "source": [
    "stations_geoid = pd.read_csv('citibike_stations_geoid.csv')"
   ]
  },
  {
   "cell_type": "code",
   "execution_count": 10,
   "metadata": {},
   "outputs": [],
   "source": [
    "stations_geoid = stations_geoid.drop('Unnamed: 0',axis=1)\n",
    "stations_geoid.rename(columns={'id':'station_id', 'name':'station_name','first':'first_trip','last':'last_trip'},inplace=True)\n",
    "stations_geoid['first_trip'] = pd.to_datetime(stations_geoid['first_trip'])\n",
    "stations_geoid['last_trip'] = pd.to_datetime(stations_geoid['last_trip'])\n",
    "#only select stations made during or before 2017 \n",
    "stations_geoid = stations_geoid[stations_geoid['first_trip'] <= datetime.datetime(2017,12,30)]"
   ]
  },
  {
   "cell_type": "code",
   "execution_count": 13,
   "metadata": {},
   "outputs": [],
   "source": [
    "stations_geoid.to_csv('citibike_stations_geoid_final.csv',index=False)"
   ]
  }
 ],
 "metadata": {
  "kernelspec": {
   "display_name": "Python 3",
   "language": "python",
   "name": "python3"
  },
  "language_info": {
   "codemirror_mode": {
    "name": "ipython",
    "version": 3
   },
   "file_extension": ".py",
   "mimetype": "text/x-python",
   "name": "python",
   "nbconvert_exporter": "python",
   "pygments_lexer": "ipython3",
   "version": "3.8.5"
  }
 },
 "nbformat": 4,
 "nbformat_minor": 4
}
