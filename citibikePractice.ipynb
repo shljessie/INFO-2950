{
 "cells": [
  {
   "cell_type": "code",
   "execution_count": 87,
   "metadata": {},
   "outputs": [],
   "source": [
    "#import libraries\n",
    "import pandas as pd\n",
    "import numpy as np\n",
    "import matplotlib.pyplot as plt\n",
    "import seaborn as sns"
   ]
  },
  {
   "cell_type": "code",
   "execution_count": 88,
   "metadata": {},
   "outputs": [],
   "source": [
    "#get the citibike trip data\n",
    "path_one = 'Desktop/citibike.csv'\n",
    "path_two = 'Desktop/citibike2.csv'"
   ]
  },
  {
   "cell_type": "code",
   "execution_count": 89,
   "metadata": {},
   "outputs": [],
   "source": [
    "df1 = pd.read_csv(path_one)\n",
    "df2 = pd.read_csv(path_two)"
   ]
  },
  {
   "cell_type": "code",
   "execution_count": 90,
   "metadata": {},
   "outputs": [],
   "source": [
    "#add two \n",
    "df = pd.concat([df1,df2])"
   ]
  },
  {
   "cell_type": "code",
   "execution_count": 91,
   "metadata": {},
   "outputs": [
    {
     "data": {
      "text/html": [
       "<div>\n",
       "<style scoped>\n",
       "    .dataframe tbody tr th:only-of-type {\n",
       "        vertical-align: middle;\n",
       "    }\n",
       "\n",
       "    .dataframe tbody tr th {\n",
       "        vertical-align: top;\n",
       "    }\n",
       "\n",
       "    .dataframe thead th {\n",
       "        text-align: right;\n",
       "    }\n",
       "</style>\n",
       "<table border=\"1\" class=\"dataframe\">\n",
       "  <thead>\n",
       "    <tr style=\"text-align: right;\">\n",
       "      <th></th>\n",
       "      <th>tripduration</th>\n",
       "      <th>starttime</th>\n",
       "      <th>stoptime</th>\n",
       "      <th>start station id</th>\n",
       "      <th>start station name</th>\n",
       "      <th>start station latitude</th>\n",
       "      <th>start station longitude</th>\n",
       "      <th>end station id</th>\n",
       "      <th>end station name</th>\n",
       "      <th>end station latitude</th>\n",
       "      <th>end station longitude</th>\n",
       "      <th>bikeid</th>\n",
       "      <th>usertype</th>\n",
       "      <th>birth year</th>\n",
       "      <th>gender</th>\n",
       "    </tr>\n",
       "  </thead>\n",
       "  <tbody>\n",
       "    <tr>\n",
       "      <th>0</th>\n",
       "      <td>316</td>\n",
       "      <td>2019-06-01 00:05:55.7210</td>\n",
       "      <td>2019-06-01 00:11:11.9940</td>\n",
       "      <td>3187</td>\n",
       "      <td>Warren St</td>\n",
       "      <td>40.721124</td>\n",
       "      <td>-74.038051</td>\n",
       "      <td>3199</td>\n",
       "      <td>Newport Pkwy</td>\n",
       "      <td>40.728745</td>\n",
       "      <td>-74.032108</td>\n",
       "      <td>29677</td>\n",
       "      <td>Subscriber</td>\n",
       "      <td>1993</td>\n",
       "      <td>1</td>\n",
       "    </tr>\n",
       "    <tr>\n",
       "      <th>1</th>\n",
       "      <td>280</td>\n",
       "      <td>2019-06-01 00:08:09.0920</td>\n",
       "      <td>2019-06-01 00:12:50.0730</td>\n",
       "      <td>3185</td>\n",
       "      <td>City Hall</td>\n",
       "      <td>40.717733</td>\n",
       "      <td>-74.043845</td>\n",
       "      <td>3267</td>\n",
       "      <td>Morris Canal</td>\n",
       "      <td>40.712419</td>\n",
       "      <td>-74.038526</td>\n",
       "      <td>29571</td>\n",
       "      <td>Subscriber</td>\n",
       "      <td>1984</td>\n",
       "      <td>1</td>\n",
       "    </tr>\n",
       "    <tr>\n",
       "      <th>2</th>\n",
       "      <td>2162</td>\n",
       "      <td>2019-06-01 00:13:11.8800</td>\n",
       "      <td>2019-06-01 00:49:14.3640</td>\n",
       "      <td>3199</td>\n",
       "      <td>Newport Pkwy</td>\n",
       "      <td>40.728745</td>\n",
       "      <td>-74.032108</td>\n",
       "      <td>3199</td>\n",
       "      <td>Newport Pkwy</td>\n",
       "      <td>40.728745</td>\n",
       "      <td>-74.032108</td>\n",
       "      <td>26208</td>\n",
       "      <td>Customer</td>\n",
       "      <td>1969</td>\n",
       "      <td>0</td>\n",
       "    </tr>\n",
       "    <tr>\n",
       "      <th>3</th>\n",
       "      <td>2184</td>\n",
       "      <td>2019-06-01 00:13:30.1110</td>\n",
       "      <td>2019-06-01 00:49:54.2250</td>\n",
       "      <td>3199</td>\n",
       "      <td>Newport Pkwy</td>\n",
       "      <td>40.728745</td>\n",
       "      <td>-74.032108</td>\n",
       "      <td>3199</td>\n",
       "      <td>Newport Pkwy</td>\n",
       "      <td>40.728745</td>\n",
       "      <td>-74.032108</td>\n",
       "      <td>29487</td>\n",
       "      <td>Customer</td>\n",
       "      <td>1969</td>\n",
       "      <td>0</td>\n",
       "    </tr>\n",
       "    <tr>\n",
       "      <th>4</th>\n",
       "      <td>139</td>\n",
       "      <td>2019-06-01 00:13:31.8520</td>\n",
       "      <td>2019-06-01 00:15:51.7880</td>\n",
       "      <td>3207</td>\n",
       "      <td>Oakland Ave</td>\n",
       "      <td>40.737604</td>\n",
       "      <td>-74.052478</td>\n",
       "      <td>3207</td>\n",
       "      <td>Oakland Ave</td>\n",
       "      <td>40.737604</td>\n",
       "      <td>-74.052478</td>\n",
       "      <td>29592</td>\n",
       "      <td>Subscriber</td>\n",
       "      <td>1994</td>\n",
       "      <td>1</td>\n",
       "    </tr>\n",
       "    <tr>\n",
       "      <th>...</th>\n",
       "      <td>...</td>\n",
       "      <td>...</td>\n",
       "      <td>...</td>\n",
       "      <td>...</td>\n",
       "      <td>...</td>\n",
       "      <td>...</td>\n",
       "      <td>...</td>\n",
       "      <td>...</td>\n",
       "      <td>...</td>\n",
       "      <td>...</td>\n",
       "      <td>...</td>\n",
       "      <td>...</td>\n",
       "      <td>...</td>\n",
       "      <td>...</td>\n",
       "      <td>...</td>\n",
       "    </tr>\n",
       "    <tr>\n",
       "      <th>43741</th>\n",
       "      <td>673</td>\n",
       "      <td>2019-07-31 23:39:13.1800</td>\n",
       "      <td>2019-07-31 23:50:26.6520</td>\n",
       "      <td>3681</td>\n",
       "      <td>Grand St</td>\n",
       "      <td>40.715178</td>\n",
       "      <td>-74.037683</td>\n",
       "      <td>3277</td>\n",
       "      <td>Communipaw &amp; Berry Lane</td>\n",
       "      <td>40.714358</td>\n",
       "      <td>-74.066611</td>\n",
       "      <td>26284</td>\n",
       "      <td>Subscriber</td>\n",
       "      <td>1987</td>\n",
       "      <td>1</td>\n",
       "    </tr>\n",
       "    <tr>\n",
       "      <th>43742</th>\n",
       "      <td>161</td>\n",
       "      <td>2019-07-31 23:41:24.1110</td>\n",
       "      <td>2019-07-31 23:44:05.4090</td>\n",
       "      <td>3211</td>\n",
       "      <td>Newark Ave</td>\n",
       "      <td>40.721525</td>\n",
       "      <td>-74.046305</td>\n",
       "      <td>3203</td>\n",
       "      <td>Hamilton Park</td>\n",
       "      <td>40.727596</td>\n",
       "      <td>-74.044247</td>\n",
       "      <td>29570</td>\n",
       "      <td>Subscriber</td>\n",
       "      <td>1998</td>\n",
       "      <td>1</td>\n",
       "    </tr>\n",
       "    <tr>\n",
       "      <th>43743</th>\n",
       "      <td>310</td>\n",
       "      <td>2019-07-31 23:47:27.3940</td>\n",
       "      <td>2019-07-31 23:52:37.4870</td>\n",
       "      <td>3195</td>\n",
       "      <td>Sip Ave</td>\n",
       "      <td>40.730897</td>\n",
       "      <td>-74.063913</td>\n",
       "      <td>3678</td>\n",
       "      <td>Fairmount Ave</td>\n",
       "      <td>40.725726</td>\n",
       "      <td>-74.071959</td>\n",
       "      <td>26237</td>\n",
       "      <td>Subscriber</td>\n",
       "      <td>1977</td>\n",
       "      <td>1</td>\n",
       "    </tr>\n",
       "    <tr>\n",
       "      <th>43744</th>\n",
       "      <td>137</td>\n",
       "      <td>2019-07-31 23:59:29.9300</td>\n",
       "      <td>2019-08-01 00:01:47.1970</td>\n",
       "      <td>3199</td>\n",
       "      <td>Newport Pkwy</td>\n",
       "      <td>40.728745</td>\n",
       "      <td>-74.032108</td>\n",
       "      <td>3638</td>\n",
       "      <td>Washington St</td>\n",
       "      <td>40.724294</td>\n",
       "      <td>-74.035483</td>\n",
       "      <td>29121</td>\n",
       "      <td>Subscriber</td>\n",
       "      <td>1993</td>\n",
       "      <td>1</td>\n",
       "    </tr>\n",
       "    <tr>\n",
       "      <th>43745</th>\n",
       "      <td>463</td>\n",
       "      <td>2019-07-31 23:59:54.9470</td>\n",
       "      <td>2019-08-01 00:07:37.9750</td>\n",
       "      <td>3199</td>\n",
       "      <td>Newport Pkwy</td>\n",
       "      <td>40.728745</td>\n",
       "      <td>-74.032108</td>\n",
       "      <td>3203</td>\n",
       "      <td>Hamilton Park</td>\n",
       "      <td>40.727596</td>\n",
       "      <td>-74.044247</td>\n",
       "      <td>29259</td>\n",
       "      <td>Subscriber</td>\n",
       "      <td>1988</td>\n",
       "      <td>1</td>\n",
       "    </tr>\n",
       "  </tbody>\n",
       "</table>\n",
       "<p>83176 rows × 15 columns</p>\n",
       "</div>"
      ],
      "text/plain": [
       "       tripduration                 starttime                  stoptime  \\\n",
       "0               316  2019-06-01 00:05:55.7210  2019-06-01 00:11:11.9940   \n",
       "1               280  2019-06-01 00:08:09.0920  2019-06-01 00:12:50.0730   \n",
       "2              2162  2019-06-01 00:13:11.8800  2019-06-01 00:49:14.3640   \n",
       "3              2184  2019-06-01 00:13:30.1110  2019-06-01 00:49:54.2250   \n",
       "4               139  2019-06-01 00:13:31.8520  2019-06-01 00:15:51.7880   \n",
       "...             ...                       ...                       ...   \n",
       "43741           673  2019-07-31 23:39:13.1800  2019-07-31 23:50:26.6520   \n",
       "43742           161  2019-07-31 23:41:24.1110  2019-07-31 23:44:05.4090   \n",
       "43743           310  2019-07-31 23:47:27.3940  2019-07-31 23:52:37.4870   \n",
       "43744           137  2019-07-31 23:59:29.9300  2019-08-01 00:01:47.1970   \n",
       "43745           463  2019-07-31 23:59:54.9470  2019-08-01 00:07:37.9750   \n",
       "\n",
       "       start station id start station name  start station latitude  \\\n",
       "0                  3187          Warren St               40.721124   \n",
       "1                  3185          City Hall               40.717733   \n",
       "2                  3199       Newport Pkwy               40.728745   \n",
       "3                  3199       Newport Pkwy               40.728745   \n",
       "4                  3207        Oakland Ave               40.737604   \n",
       "...                 ...                ...                     ...   \n",
       "43741              3681           Grand St               40.715178   \n",
       "43742              3211         Newark Ave               40.721525   \n",
       "43743              3195            Sip Ave               40.730897   \n",
       "43744              3199       Newport Pkwy               40.728745   \n",
       "43745              3199       Newport Pkwy               40.728745   \n",
       "\n",
       "       start station longitude  end station id         end station name  \\\n",
       "0                   -74.038051            3199             Newport Pkwy   \n",
       "1                   -74.043845            3267             Morris Canal   \n",
       "2                   -74.032108            3199             Newport Pkwy   \n",
       "3                   -74.032108            3199             Newport Pkwy   \n",
       "4                   -74.052478            3207              Oakland Ave   \n",
       "...                        ...             ...                      ...   \n",
       "43741               -74.037683            3277  Communipaw & Berry Lane   \n",
       "43742               -74.046305            3203            Hamilton Park   \n",
       "43743               -74.063913            3678            Fairmount Ave   \n",
       "43744               -74.032108            3638            Washington St   \n",
       "43745               -74.032108            3203            Hamilton Park   \n",
       "\n",
       "       end station latitude  end station longitude  bikeid    usertype  \\\n",
       "0                 40.728745             -74.032108   29677  Subscriber   \n",
       "1                 40.712419             -74.038526   29571  Subscriber   \n",
       "2                 40.728745             -74.032108   26208    Customer   \n",
       "3                 40.728745             -74.032108   29487    Customer   \n",
       "4                 40.737604             -74.052478   29592  Subscriber   \n",
       "...                     ...                    ...     ...         ...   \n",
       "43741             40.714358             -74.066611   26284  Subscriber   \n",
       "43742             40.727596             -74.044247   29570  Subscriber   \n",
       "43743             40.725726             -74.071959   26237  Subscriber   \n",
       "43744             40.724294             -74.035483   29121  Subscriber   \n",
       "43745             40.727596             -74.044247   29259  Subscriber   \n",
       "\n",
       "       birth year  gender  \n",
       "0            1993       1  \n",
       "1            1984       1  \n",
       "2            1969       0  \n",
       "3            1969       0  \n",
       "4            1994       1  \n",
       "...           ...     ...  \n",
       "43741        1987       1  \n",
       "43742        1998       1  \n",
       "43743        1977       1  \n",
       "43744        1993       1  \n",
       "43745        1988       1  \n",
       "\n",
       "[83176 rows x 15 columns]"
      ]
     },
     "execution_count": 91,
     "metadata": {},
     "output_type": "execute_result"
    }
   ],
   "source": [
    "df"
   ]
  },
  {
   "cell_type": "code",
   "execution_count": 92,
   "metadata": {},
   "outputs": [
    {
     "data": {
      "text/plain": [
       "Index(['tripduration', 'starttime', 'stoptime', 'start station id',\n",
       "       'start station name', 'start station latitude',\n",
       "       'start station longitude', 'end station id', 'end station name',\n",
       "       'end station latitude', 'end station longitude', 'bikeid', 'usertype',\n",
       "       'birth year', 'gender'],\n",
       "      dtype='object')"
      ]
     },
     "execution_count": 92,
     "metadata": {},
     "output_type": "execute_result"
    }
   ],
   "source": [
    "#check out the columns in the dataframe\n",
    "df.columns"
   ]
  },
  {
   "cell_type": "markdown",
   "metadata": {},
   "source": [
    "#### Explanation of the data types\n",
    "\n",
    "- Trip Duration (seconds)\n",
    "- Start Time and Date\n",
    "- Stop Time and Date\n",
    "- Start Station Name\n",
    "- End Station Name\n",
    "- Station ID\n",
    "- Station Lat/Long\n",
    "- Bike ID\n",
    "- User Type (Customer = 24-hour pass or 3-day pass user; Subscriber = Annual Member)\n",
    "- Gender (Zero=unknown; 1=male; 2=female)\n",
    "- Year of Birth"
   ]
  },
  {
   "cell_type": "markdown",
   "metadata": {},
   "source": [
    "#### Things we could potentially do with these data values\n",
    "\n",
    "- Trip duration : calculate average, plot scatterplot to see the distribution of trip durations\n",
    "- Start Time and Date: \n",
    "- Start Station, End Station : combine with start time to see at what time people started their bike rides\n",
    "- user type : gender, birthdate (data cleaning of unknown values of gender. male female bar graph) \n",
    "- Customer vs Subscriber \n"
   ]
  },
  {
   "cell_type": "markdown",
   "metadata": {},
   "source": [
    "## Data Cleaning"
   ]
  },
  {
   "cell_type": "markdown",
   "metadata": {},
   "source": [
    "#### Things that I removed from this dataset\n",
    "1. gender values that were unknown (0)\n",
    "2. tripdurations that were less than 70sec.. non are less than 60sec \n",
    "   - should we have a standard for this? \n",
    "   \n",
    " ...\n",
    " more values that we could possibly remove?\n",
    " "
   ]
  },
  {
   "cell_type": "code",
   "execution_count": 93,
   "metadata": {},
   "outputs": [
    {
     "name": "stdout",
     "output_type": "stream",
     "text": [
      "The Original citibike travel Dataset Size :  83176\n",
      "Datavalues after Nan values are removed :  83176\n",
      "Datavalues after unknown genders removed :  76379\n",
      "Datavalues after tripdurations less than 70sec are removed :  76249\n"
     ]
    }
   ],
   "source": [
    "# get original dataset size \n",
    "print('The Original citibike travel Dataset Size : ', len(df))\n",
    "\n",
    "# remove Nan data values\n",
    "df = df.dropna()\n",
    "print('Datavalues after Nan values are removed : ', len(df))\n",
    "#hmmm ... seems there are not missing data values yet..\n",
    "\n",
    "#remove unknown user gender values\n",
    "df = df[df.gender != 0]\n",
    "\n",
    "#get female user rows (getting rows with certain column values)\n",
    "# df.loc[df['gender'] == 2]\n",
    "print('Datavalues after unknown genders removed : ', len(df))\n",
    "\n",
    "#remove travel times that are too short \n",
    "# df.loc[df['tripduration'] <= 60] ==> no values are less than \n",
    "# did the above code, no tripdurations were less than 60\n",
    "lessThan70 = df.loc[df['tripduration'] <= 70]\n",
    "len(lessThan70)\n",
    "\n",
    "#removing trip durations less than 70seconds\n",
    "df = df[df.tripduration >= 70]\n",
    "print('Datavalues after tripdurations less than 70sec are removed : ', len(df))\n",
    "\n",
    "# think of more values that we could possibly rem"
   ]
  },
  {
   "cell_type": "code",
   "execution_count": 100,
   "metadata": {},
   "outputs": [
    {
     "data": {
      "text/plain": [
       "array([1, 2])"
      ]
     },
     "execution_count": 100,
     "metadata": {},
     "output_type": "execute_result"
    }
   ],
   "source": [
    "# get unique values of a column\n",
    "df['gender'].unique()"
   ]
  },
  {
   "cell_type": "code",
   "execution_count": 99,
   "metadata": {},
   "outputs": [
    {
     "data": {
      "text/plain": [
       "52"
      ]
     },
     "execution_count": 99,
     "metadata": {},
     "output_type": "execute_result"
    }
   ],
   "source": [
    "#unique values of start station\n",
    "df['start station name'].unique()\n",
    "len(df['start station name'].unique())"
   ]
  },
  {
   "cell_type": "code",
   "execution_count": 102,
   "metadata": {},
   "outputs": [
    {
     "data": {
      "text/plain": [
       "69"
      ]
     },
     "execution_count": 102,
     "metadata": {},
     "output_type": "execute_result"
    }
   ],
   "source": [
    "#unique values of end station\n",
    "df['end station name'].unique()\n",
    "len(df['end station name'].unique())"
   ]
  },
  {
   "cell_type": "markdown",
   "metadata": {},
   "source": [
    "Where do people go on bikes? Why are there more end stations than start stations?"
   ]
  },
  {
   "cell_type": "code",
   "execution_count": 104,
   "metadata": {},
   "outputs": [
    {
     "data": {
      "text/plain": [
       "array(['Subscriber', 'Customer'], dtype=object)"
      ]
     },
     "execution_count": 104,
     "metadata": {},
     "output_type": "execute_result"
    }
   ],
   "source": [
    "# subscriber vs customer \n",
    "df['usertype']"
   ]
  },
  {
   "cell_type": "code",
   "execution_count": null,
   "metadata": {},
   "outputs": [],
   "source": []
  }
 ],
 "metadata": {
  "kernelspec": {
   "display_name": "Python 3",
   "language": "python",
   "name": "python3"
  },
  "language_info": {
   "codemirror_mode": {
    "name": "ipython",
    "version": 3
   },
   "file_extension": ".py",
   "mimetype": "text/x-python",
   "name": "python",
   "nbconvert_exporter": "python",
   "pygments_lexer": "ipython3",
   "version": "3.8.5"
  }
 },
 "nbformat": 4,
 "nbformat_minor": 4
}
