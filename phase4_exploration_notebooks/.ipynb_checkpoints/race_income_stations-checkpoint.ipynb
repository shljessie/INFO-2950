{
 "cells": [
  {
   "cell_type": "markdown",
   "metadata": {},
   "source": [
    "## The Goal of this Notebook is to Explore How Race/Income Affects Station Data"
   ]
  },
  {
   "cell_type": "code",
   "execution_count": 14,
   "metadata": {},
   "outputs": [],
   "source": [
    "## Load libraries\n",
    "import pandas as pd\n",
    "import matplotlib.pyplot as plt\n",
    "import seaborn as sns\n",
    "import numpy as np\n",
    "from sklearn.linear_model import LinearRegression\n",
    "from sklearn.linear_model import LogisticRegression"
   ]
  },
  {
   "cell_type": "markdown",
   "metadata": {},
   "source": [
    "#### Importing the CSVs for Usage"
   ]
  },
  {
   "cell_type": "code",
   "execution_count": 132,
   "metadata": {},
   "outputs": [
    {
     "data": {
      "text/html": [
       "<div>\n",
       "<style scoped>\n",
       "    .dataframe tbody tr th:only-of-type {\n",
       "        vertical-align: middle;\n",
       "    }\n",
       "\n",
       "    .dataframe tbody tr th {\n",
       "        vertical-align: top;\n",
       "    }\n",
       "\n",
       "    .dataframe thead th {\n",
       "        text-align: right;\n",
       "    }\n",
       "</style>\n",
       "<table border=\"1\" class=\"dataframe\">\n",
       "  <thead>\n",
       "    <tr style=\"text-align: right;\">\n",
       "      <th></th>\n",
       "      <th>station_id</th>\n",
       "      <th>station_name</th>\n",
       "      <th>lat</th>\n",
       "      <th>lon</th>\n",
       "      <th>first_trip</th>\n",
       "      <th>last_trip</th>\n",
       "      <th>rides</th>\n",
       "      <th>geoid</th>\n",
       "    </tr>\n",
       "  </thead>\n",
       "  <tbody>\n",
       "    <tr>\n",
       "      <th>0</th>\n",
       "      <td>254.0</td>\n",
       "      <td>W 11 St &amp; 6 Ave</td>\n",
       "      <td>40.735324</td>\n",
       "      <td>-73.998004</td>\n",
       "      <td>2013-06-01</td>\n",
       "      <td>2019-07-31</td>\n",
       "      <td>168076</td>\n",
       "      <td>36061006300</td>\n",
       "    </tr>\n",
       "    <tr>\n",
       "      <th>1</th>\n",
       "      <td>151.0</td>\n",
       "      <td>Cleveland Pl &amp; Spring St</td>\n",
       "      <td>40.721816</td>\n",
       "      <td>-73.997203</td>\n",
       "      <td>2013-06-01</td>\n",
       "      <td>2019-07-31</td>\n",
       "      <td>445639</td>\n",
       "      <td>36061004100</td>\n",
       "    </tr>\n",
       "    <tr>\n",
       "      <th>2</th>\n",
       "      <td>352.0</td>\n",
       "      <td>W 56 St &amp; 6 Ave</td>\n",
       "      <td>40.763406</td>\n",
       "      <td>-73.977225</td>\n",
       "      <td>2013-06-01</td>\n",
       "      <td>2016-12-31</td>\n",
       "      <td>122203</td>\n",
       "      <td>36061010400</td>\n",
       "    </tr>\n",
       "    <tr>\n",
       "      <th>3</th>\n",
       "      <td>490.0</td>\n",
       "      <td>8 Ave &amp; W 33 St</td>\n",
       "      <td>40.751551</td>\n",
       "      <td>-73.993934</td>\n",
       "      <td>2013-06-01</td>\n",
       "      <td>2019-07-31</td>\n",
       "      <td>480463</td>\n",
       "      <td>36061010300</td>\n",
       "    </tr>\n",
       "    <tr>\n",
       "      <th>4</th>\n",
       "      <td>236.0</td>\n",
       "      <td>St Marks Pl &amp; 2 Ave</td>\n",
       "      <td>40.728419</td>\n",
       "      <td>-73.987140</td>\n",
       "      <td>2013-06-01</td>\n",
       "      <td>2019-07-31</td>\n",
       "      <td>292217</td>\n",
       "      <td>36061003800</td>\n",
       "    </tr>\n",
       "  </tbody>\n",
       "</table>\n",
       "</div>"
      ],
      "text/plain": [
       "   station_id              station_name        lat        lon  first_trip  \\\n",
       "0       254.0           W 11 St & 6 Ave  40.735324 -73.998004  2013-06-01   \n",
       "1       151.0  Cleveland Pl & Spring St  40.721816 -73.997203  2013-06-01   \n",
       "2       352.0           W 56 St & 6 Ave  40.763406 -73.977225  2013-06-01   \n",
       "3       490.0           8 Ave & W 33 St  40.751551 -73.993934  2013-06-01   \n",
       "4       236.0       St Marks Pl & 2 Ave  40.728419 -73.987140  2013-06-01   \n",
       "\n",
       "    last_trip   rides        geoid  \n",
       "0  2019-07-31  168076  36061006300  \n",
       "1  2019-07-31  445639  36061004100  \n",
       "2  2016-12-31  122203  36061010400  \n",
       "3  2019-07-31  480463  36061010300  \n",
       "4  2019-07-31  292217  36061003800  "
      ]
     },
     "execution_count": 132,
     "metadata": {},
     "output_type": "execute_result"
    }
   ],
   "source": [
    "st_df = pd.read_csv(\"citibike_stations_geoid_final.csv\")\n",
    "st_df.head()"
   ]
  },
  {
   "cell_type": "code",
   "execution_count": 131,
   "metadata": {},
   "outputs": [
    {
     "data": {
      "text/html": [
       "<div>\n",
       "<style scoped>\n",
       "    .dataframe tbody tr th:only-of-type {\n",
       "        vertical-align: middle;\n",
       "    }\n",
       "\n",
       "    .dataframe tbody tr th {\n",
       "        vertical-align: top;\n",
       "    }\n",
       "\n",
       "    .dataframe thead th {\n",
       "        text-align: right;\n",
       "    }\n",
       "</style>\n",
       "<table border=\"1\" class=\"dataframe\">\n",
       "  <thead>\n",
       "    <tr style=\"text-align: right;\">\n",
       "      <th></th>\n",
       "      <th>geoid</th>\n",
       "      <th>2017 median income</th>\n",
       "      <th>2017 median income margin of error</th>\n",
       "      <th>2017 race: total households</th>\n",
       "      <th>2017 race: total households margin of error</th>\n",
       "      <th>2017 race: White</th>\n",
       "      <th>2017 race: Black</th>\n",
       "      <th>2017 race: Asian</th>\n",
       "      <th>2017 race: Other</th>\n",
       "      <th>2017 race: 2 or more races</th>\n",
       "    </tr>\n",
       "  </thead>\n",
       "  <tbody>\n",
       "    <tr>\n",
       "      <th>0</th>\n",
       "      <td>36001000100</td>\n",
       "      <td>27250</td>\n",
       "      <td>10262</td>\n",
       "      <td>1939</td>\n",
       "      <td>260</td>\n",
       "      <td>502</td>\n",
       "      <td>1142</td>\n",
       "      <td>16</td>\n",
       "      <td>112</td>\n",
       "      <td>167</td>\n",
       "    </tr>\n",
       "    <tr>\n",
       "      <th>1</th>\n",
       "      <td>36001000200</td>\n",
       "      <td>24091</td>\n",
       "      <td>6623</td>\n",
       "      <td>4731</td>\n",
       "      <td>676</td>\n",
       "      <td>710</td>\n",
       "      <td>3474</td>\n",
       "      <td>104</td>\n",
       "      <td>32</td>\n",
       "      <td>411</td>\n",
       "    </tr>\n",
       "    <tr>\n",
       "      <th>2</th>\n",
       "      <td>36001000300</td>\n",
       "      <td>33454</td>\n",
       "      <td>15095</td>\n",
       "      <td>5558</td>\n",
       "      <td>646</td>\n",
       "      <td>2589</td>\n",
       "      <td>1539</td>\n",
       "      <td>559</td>\n",
       "      <td>291</td>\n",
       "      <td>580</td>\n",
       "    </tr>\n",
       "    <tr>\n",
       "      <th>3</th>\n",
       "      <td>36001000401</td>\n",
       "      <td>74255</td>\n",
       "      <td>7279</td>\n",
       "      <td>2459</td>\n",
       "      <td>266</td>\n",
       "      <td>2183</td>\n",
       "      <td>131</td>\n",
       "      <td>92</td>\n",
       "      <td>28</td>\n",
       "      <td>25</td>\n",
       "    </tr>\n",
       "    <tr>\n",
       "      <th>4</th>\n",
       "      <td>36001000403</td>\n",
       "      <td>70815</td>\n",
       "      <td>10428</td>\n",
       "      <td>4695</td>\n",
       "      <td>456</td>\n",
       "      <td>3256</td>\n",
       "      <td>714</td>\n",
       "      <td>416</td>\n",
       "      <td>79</td>\n",
       "      <td>230</td>\n",
       "    </tr>\n",
       "    <tr>\n",
       "      <th>...</th>\n",
       "      <td>...</td>\n",
       "      <td>...</td>\n",
       "      <td>...</td>\n",
       "      <td>...</td>\n",
       "      <td>...</td>\n",
       "      <td>...</td>\n",
       "      <td>...</td>\n",
       "      <td>...</td>\n",
       "      <td>...</td>\n",
       "      <td>...</td>\n",
       "    </tr>\n",
       "    <tr>\n",
       "      <th>4782</th>\n",
       "      <td>36123150100</td>\n",
       "      <td>48303</td>\n",
       "      <td>3633</td>\n",
       "      <td>6229</td>\n",
       "      <td>361</td>\n",
       "      <td>6031</td>\n",
       "      <td>39</td>\n",
       "      <td>9</td>\n",
       "      <td>59</td>\n",
       "      <td>91</td>\n",
       "    </tr>\n",
       "    <tr>\n",
       "      <th>4783</th>\n",
       "      <td>36123150200</td>\n",
       "      <td>43684</td>\n",
       "      <td>7069</td>\n",
       "      <td>5434</td>\n",
       "      <td>257</td>\n",
       "      <td>5228</td>\n",
       "      <td>88</td>\n",
       "      <td>16</td>\n",
       "      <td>21</td>\n",
       "      <td>81</td>\n",
       "    </tr>\n",
       "    <tr>\n",
       "      <th>4784</th>\n",
       "      <td>36123150300</td>\n",
       "      <td>52285</td>\n",
       "      <td>4681</td>\n",
       "      <td>5292</td>\n",
       "      <td>302</td>\n",
       "      <td>5153</td>\n",
       "      <td>33</td>\n",
       "      <td>3</td>\n",
       "      <td>14</td>\n",
       "      <td>89</td>\n",
       "    </tr>\n",
       "    <tr>\n",
       "      <th>4785</th>\n",
       "      <td>36123150400</td>\n",
       "      <td>68452</td>\n",
       "      <td>4636</td>\n",
       "      <td>3662</td>\n",
       "      <td>276</td>\n",
       "      <td>3373</td>\n",
       "      <td>64</td>\n",
       "      <td>128</td>\n",
       "      <td>87</td>\n",
       "      <td>10</td>\n",
       "    </tr>\n",
       "    <tr>\n",
       "      <th>4786</th>\n",
       "      <td>36123150500</td>\n",
       "      <td>47468</td>\n",
       "      <td>7736</td>\n",
       "      <td>4466</td>\n",
       "      <td>313</td>\n",
       "      <td>4377</td>\n",
       "      <td>50</td>\n",
       "      <td>9</td>\n",
       "      <td>6</td>\n",
       "      <td>24</td>\n",
       "    </tr>\n",
       "  </tbody>\n",
       "</table>\n",
       "<p>4787 rows × 10 columns</p>\n",
       "</div>"
      ],
      "text/plain": [
       "            geoid  2017 median income  2017 median income margin of error  \\\n",
       "0     36001000100               27250                               10262   \n",
       "1     36001000200               24091                                6623   \n",
       "2     36001000300               33454                               15095   \n",
       "3     36001000401               74255                                7279   \n",
       "4     36001000403               70815                               10428   \n",
       "...           ...                 ...                                 ...   \n",
       "4782  36123150100               48303                                3633   \n",
       "4783  36123150200               43684                                7069   \n",
       "4784  36123150300               52285                                4681   \n",
       "4785  36123150400               68452                                4636   \n",
       "4786  36123150500               47468                                7736   \n",
       "\n",
       "      2017 race: total households  \\\n",
       "0                            1939   \n",
       "1                            4731   \n",
       "2                            5558   \n",
       "3                            2459   \n",
       "4                            4695   \n",
       "...                           ...   \n",
       "4782                         6229   \n",
       "4783                         5434   \n",
       "4784                         5292   \n",
       "4785                         3662   \n",
       "4786                         4466   \n",
       "\n",
       "      2017 race: total households margin of error  2017 race: White  \\\n",
       "0                                             260               502   \n",
       "1                                             676               710   \n",
       "2                                             646              2589   \n",
       "3                                             266              2183   \n",
       "4                                             456              3256   \n",
       "...                                           ...               ...   \n",
       "4782                                          361              6031   \n",
       "4783                                          257              5228   \n",
       "4784                                          302              5153   \n",
       "4785                                          276              3373   \n",
       "4786                                          313              4377   \n",
       "\n",
       "      2017 race: Black  2017 race: Asian  2017 race: Other  \\\n",
       "0                 1142                16               112   \n",
       "1                 3474               104                32   \n",
       "2                 1539               559               291   \n",
       "3                  131                92                28   \n",
       "4                  714               416                79   \n",
       "...                ...               ...               ...   \n",
       "4782                39                 9                59   \n",
       "4783                88                16                21   \n",
       "4784                33                 3                14   \n",
       "4785                64               128                87   \n",
       "4786                50                 9                 6   \n",
       "\n",
       "      2017 race: 2 or more races  \n",
       "0                            167  \n",
       "1                            411  \n",
       "2                            580  \n",
       "3                             25  \n",
       "4                            230  \n",
       "...                          ...  \n",
       "4782                          91  \n",
       "4783                          81  \n",
       "4784                          89  \n",
       "4785                          10  \n",
       "4786                          24  \n",
       "\n",
       "[4787 rows x 10 columns]"
      ]
     },
     "execution_count": 131,
     "metadata": {},
     "output_type": "execute_result"
    }
   ],
   "source": [
    "race_df = pd.read_csv(\"race_and_income_final.csv\")\n",
    "race_df"
   ]
  },
  {
   "cell_type": "code",
   "execution_count": 194,
   "metadata": {},
   "outputs": [],
   "source": [
    "cmbnd = (st_df.set_index('geoid')).join((race_df.set_index('geoid')),how='inner')"
   ]
  },
  {
   "cell_type": "code",
   "execution_count": 195,
   "metadata": {},
   "outputs": [],
   "source": [
    "cmbnd['geoid'] = cmbnd.index\n",
    "cmbnd.reset_index(drop=True,inplace=True)"
   ]
  },
  {
   "cell_type": "markdown",
   "metadata": {},
   "source": [
    "### Looking at Number of Stations vs. Number of Households"
   ]
  },
  {
   "cell_type": "markdown",
   "metadata": {},
   "source": [
    "#### Creating a column with the number of stations "
   ]
  },
  {
   "cell_type": "code",
   "execution_count": 210,
   "metadata": {},
   "outputs": [],
   "source": [
    "new_cmbnd =  cmbnd.groupby('geoid')[['station_id']].count()\n",
    "new_cmbnd.rename(columns={'station_id':'num_stations'},inplace=True)\n",
    "new_cmbnd.reset_index(inplace=True)"
   ]
  },
  {
   "cell_type": "code",
   "execution_count": 216,
   "metadata": {},
   "outputs": [],
   "source": [
    "total_cmbnd = cmbnd.set_index('geoid').join(new_cmbnd.set_index('geoid'),how='inner')"
   ]
  },
  {
   "cell_type": "code",
   "execution_count": 219,
   "metadata": {},
   "outputs": [
    {
     "data": {
      "text/html": [
       "<div>\n",
       "<style scoped>\n",
       "    .dataframe tbody tr th:only-of-type {\n",
       "        vertical-align: middle;\n",
       "    }\n",
       "\n",
       "    .dataframe tbody tr th {\n",
       "        vertical-align: top;\n",
       "    }\n",
       "\n",
       "    .dataframe thead th {\n",
       "        text-align: right;\n",
       "    }\n",
       "</style>\n",
       "<table border=\"1\" class=\"dataframe\">\n",
       "  <thead>\n",
       "    <tr style=\"text-align: right;\">\n",
       "      <th></th>\n",
       "      <th>station_id</th>\n",
       "      <th>station_name</th>\n",
       "      <th>lat</th>\n",
       "      <th>lon</th>\n",
       "      <th>first_trip</th>\n",
       "      <th>last_trip</th>\n",
       "      <th>rides</th>\n",
       "      <th>2017 median income</th>\n",
       "      <th>2017 median income margin of error</th>\n",
       "      <th>2017 race: total households</th>\n",
       "      <th>2017 race: total households margin of error</th>\n",
       "      <th>2017 race: White</th>\n",
       "      <th>2017 race: Black</th>\n",
       "      <th>2017 race: Asian</th>\n",
       "      <th>2017 race: Other</th>\n",
       "      <th>2017 race: 2 or more races</th>\n",
       "      <th>num_stations</th>\n",
       "    </tr>\n",
       "    <tr>\n",
       "      <th>geoid</th>\n",
       "      <th></th>\n",
       "      <th></th>\n",
       "      <th></th>\n",
       "      <th></th>\n",
       "      <th></th>\n",
       "      <th></th>\n",
       "      <th></th>\n",
       "      <th></th>\n",
       "      <th></th>\n",
       "      <th></th>\n",
       "      <th></th>\n",
       "      <th></th>\n",
       "      <th></th>\n",
       "      <th></th>\n",
       "      <th></th>\n",
       "      <th></th>\n",
       "      <th></th>\n",
       "    </tr>\n",
       "  </thead>\n",
       "  <tbody>\n",
       "    <tr>\n",
       "      <th>36047000100</th>\n",
       "      <td>407.0</td>\n",
       "      <td>Henry St &amp; Poplar St</td>\n",
       "      <td>40.700469</td>\n",
       "      <td>-73.991454</td>\n",
       "      <td>2013-06-01</td>\n",
       "      <td>2019-05-31</td>\n",
       "      <td>46995</td>\n",
       "      <td>88238</td>\n",
       "      <td>10981</td>\n",
       "      <td>4116</td>\n",
       "      <td>366</td>\n",
       "      <td>2878</td>\n",
       "      <td>369</td>\n",
       "      <td>419</td>\n",
       "      <td>272</td>\n",
       "      <td>178</td>\n",
       "      <td>2</td>\n",
       "    </tr>\n",
       "    <tr>\n",
       "      <th>36047000100</th>\n",
       "      <td>216.0</td>\n",
       "      <td>Columbia Heights &amp; Cranberry St</td>\n",
       "      <td>40.700379</td>\n",
       "      <td>-73.995481</td>\n",
       "      <td>2013-06-01</td>\n",
       "      <td>2019-07-31</td>\n",
       "      <td>43550</td>\n",
       "      <td>88238</td>\n",
       "      <td>10981</td>\n",
       "      <td>4116</td>\n",
       "      <td>366</td>\n",
       "      <td>2878</td>\n",
       "      <td>369</td>\n",
       "      <td>419</td>\n",
       "      <td>272</td>\n",
       "      <td>178</td>\n",
       "      <td>2</td>\n",
       "    </tr>\n",
       "    <tr>\n",
       "      <th>36047000301</th>\n",
       "      <td>406.0</td>\n",
       "      <td>Hicks St &amp; Montague St</td>\n",
       "      <td>40.695128</td>\n",
       "      <td>-73.995951</td>\n",
       "      <td>2013-06-01</td>\n",
       "      <td>2019-07-31</td>\n",
       "      <td>102765</td>\n",
       "      <td>130063</td>\n",
       "      <td>23922</td>\n",
       "      <td>4340</td>\n",
       "      <td>480</td>\n",
       "      <td>3615</td>\n",
       "      <td>121</td>\n",
       "      <td>244</td>\n",
       "      <td>106</td>\n",
       "      <td>254</td>\n",
       "      <td>2</td>\n",
       "    </tr>\n",
       "    <tr>\n",
       "      <th>36047000301</th>\n",
       "      <td>3180.0</td>\n",
       "      <td>Brooklyn Bridge Park - Pier 2</td>\n",
       "      <td>40.698780</td>\n",
       "      <td>-73.997120</td>\n",
       "      <td>2015-07-01</td>\n",
       "      <td>2018-09-30</td>\n",
       "      <td>36326</td>\n",
       "      <td>130063</td>\n",
       "      <td>23922</td>\n",
       "      <td>4340</td>\n",
       "      <td>480</td>\n",
       "      <td>3615</td>\n",
       "      <td>121</td>\n",
       "      <td>244</td>\n",
       "      <td>106</td>\n",
       "      <td>254</td>\n",
       "      <td>2</td>\n",
       "    </tr>\n",
       "    <tr>\n",
       "      <th>36047000501</th>\n",
       "      <td>391.0</td>\n",
       "      <td>Clark St &amp; Henry St</td>\n",
       "      <td>40.697601</td>\n",
       "      <td>-73.993446</td>\n",
       "      <td>2013-06-01</td>\n",
       "      <td>2019-07-31</td>\n",
       "      <td>131636</td>\n",
       "      <td>129107</td>\n",
       "      <td>14153</td>\n",
       "      <td>4536</td>\n",
       "      <td>299</td>\n",
       "      <td>3448</td>\n",
       "      <td>221</td>\n",
       "      <td>482</td>\n",
       "      <td>128</td>\n",
       "      <td>257</td>\n",
       "      <td>1</td>\n",
       "    </tr>\n",
       "  </tbody>\n",
       "</table>\n",
       "</div>"
      ],
      "text/plain": [
       "             station_id                     station_name        lat  \\\n",
       "geoid                                                                 \n",
       "36047000100       407.0             Henry St & Poplar St  40.700469   \n",
       "36047000100       216.0  Columbia Heights & Cranberry St  40.700379   \n",
       "36047000301       406.0           Hicks St & Montague St  40.695128   \n",
       "36047000301      3180.0    Brooklyn Bridge Park - Pier 2  40.698780   \n",
       "36047000501       391.0              Clark St & Henry St  40.697601   \n",
       "\n",
       "                   lon  first_trip   last_trip   rides  2017 median income  \\\n",
       "geoid                                                                        \n",
       "36047000100 -73.991454  2013-06-01  2019-05-31   46995               88238   \n",
       "36047000100 -73.995481  2013-06-01  2019-07-31   43550               88238   \n",
       "36047000301 -73.995951  2013-06-01  2019-07-31  102765              130063   \n",
       "36047000301 -73.997120  2015-07-01  2018-09-30   36326              130063   \n",
       "36047000501 -73.993446  2013-06-01  2019-07-31  131636              129107   \n",
       "\n",
       "             2017 median income margin of error  2017 race: total households  \\\n",
       "geoid                                                                          \n",
       "36047000100                               10981                         4116   \n",
       "36047000100                               10981                         4116   \n",
       "36047000301                               23922                         4340   \n",
       "36047000301                               23922                         4340   \n",
       "36047000501                               14153                         4536   \n",
       "\n",
       "             2017 race: total households margin of error  2017 race: White  \\\n",
       "geoid                                                                        \n",
       "36047000100                                          366              2878   \n",
       "36047000100                                          366              2878   \n",
       "36047000301                                          480              3615   \n",
       "36047000301                                          480              3615   \n",
       "36047000501                                          299              3448   \n",
       "\n",
       "             2017 race: Black  2017 race: Asian  2017 race: Other  \\\n",
       "geoid                                                               \n",
       "36047000100               369               419               272   \n",
       "36047000100               369               419               272   \n",
       "36047000301               121               244               106   \n",
       "36047000301               121               244               106   \n",
       "36047000501               221               482               128   \n",
       "\n",
       "             2017 race: 2 or more races  num_stations  \n",
       "geoid                                                  \n",
       "36047000100                         178             2  \n",
       "36047000100                         178             2  \n",
       "36047000301                         254             2  \n",
       "36047000301                         254             2  \n",
       "36047000501                         257             1  "
      ]
     },
     "execution_count": 219,
     "metadata": {},
     "output_type": "execute_result"
    }
   ],
   "source": [
    "total_cmbnd.reset_index()\n",
    "total_cmbnd.head()"
   ]
  },
  {
   "cell_type": "markdown",
   "metadata": {},
   "source": [
    "### Normalizing the Data"
   ]
  },
  {
   "cell_type": "code",
   "execution_count": 226,
   "metadata": {},
   "outputs": [],
   "source": [
    "total_cmbnd[\"white_percentage\"] = total_cmbnd[\"2017 race: White\"]/total_cmbnd[\"2017 race: total households\"]\n",
    "total_cmbnd[\"black_percentage\"] = total_cmbnd[\"2017 race: Black\"]/total_cmbnd[\"2017 race: total households\"]\n",
    "total_cmbnd[\"asian_percentage\"] = total_cmbnd[\"2017 race: Asian\"]/total_cmbnd[\"2017 race: total households\"]\n",
    "total_cmbnd[\"other_percentage\"] = total_cmbnd[\"2017 race: Other\"]/total_cmbnd[\"2017 race: total households\"]\n",
    "total_cmbnd[\"2_or_more\"] = total_cmbnd[\"2017 race: 2 or more races\"]/total_cmbnd[\"2017 race: total households\"]"
   ]
  },
  {
   "cell_type": "markdown",
   "metadata": {},
   "source": [
    "## Multiplying the decimals by 100"
   ]
  },
  {
   "cell_type": "code",
   "execution_count": 227,
   "metadata": {},
   "outputs": [],
   "source": [
    "total_cmbnd[\"white_percentage\"] = total_cmbnd[\"white_percentage\"] * 100\n",
    "total_cmbnd[\"black_percentage\"] = total_cmbnd[\"black_percentage\"] * 100\n",
    "total_cmbnd[\"asian_percentage\"] = total_cmbnd[\"asian_percentage\"] * 100\n",
    "total_cmbnd[\"other_percentage\"] = total_cmbnd[\"other_percentage\"] * 100\n",
    "total_cmbnd[\"2_or_more\"] = total_cmbnd[\"2_or_more\"] * 100"
   ]
  },
  {
   "cell_type": "markdown",
   "metadata": {},
   "source": [
    "## Classifying Census Tract as majority race group"
   ]
  },
  {
   "cell_type": "code",
   "execution_count": 334,
   "metadata": {},
   "outputs": [],
   "source": [
    "total_cmbnd['majority_race'] = total_cmbnd[['white_percentage','black_percentage','asian_percentage','other_percentage','2_or_more']].idxmax(axis=1)"
   ]
  },
  {
   "cell_type": "code",
   "execution_count": 335,
   "metadata": {},
   "outputs": [
    {
     "data": {
      "text/plain": [
       "array(['white_percentage', 'black_percentage', 'other_percentage',\n",
       "       'asian_percentage'], dtype=object)"
      ]
     },
     "execution_count": 335,
     "metadata": {},
     "output_type": "execute_result"
    }
   ],
   "source": [
    "total_cmbnd['majority_race'].unique()"
   ]
  },
  {
   "cell_type": "markdown",
   "metadata": {},
   "source": [
    "#### From this we can see that 2 or more races never make up the majority of one census tract, and that there are certain neighborhoods where one race does not make up the majority of the neighborhood"
   ]
  },
  {
   "cell_type": "markdown",
   "metadata": {},
   "source": [
    "## Color Gradient of Race and Income"
   ]
  },
  {
   "cell_type": "code",
   "execution_count": 336,
   "metadata": {},
   "outputs": [
    {
     "data": {
      "text/html": [
       "<style  type=\"text/css\" >\n",
       "#T_689262cc_a048_11eb_9340_60f81db29d74row0_col0,#T_689262cc_a048_11eb_9340_60f81db29d74row1_col1,#T_689262cc_a048_11eb_9340_60f81db29d74row2_col2,#T_689262cc_a048_11eb_9340_60f81db29d74row3_col3,#T_689262cc_a048_11eb_9340_60f81db29d74row4_col4,#T_689262cc_a048_11eb_9340_60f81db29d74row5_col5,#T_689262cc_a048_11eb_9340_60f81db29d74row6_col6{\n",
       "            background-color:  #006837;\n",
       "            color:  #f1f1f1;\n",
       "        }#T_689262cc_a048_11eb_9340_60f81db29d74row0_col1,#T_689262cc_a048_11eb_9340_60f81db29d74row1_col0,#T_689262cc_a048_11eb_9340_60f81db29d74row4_col5,#T_689262cc_a048_11eb_9340_60f81db29d74row5_col4{\n",
       "            background-color:  #e2f397;\n",
       "            color:  #000000;\n",
       "        }#T_689262cc_a048_11eb_9340_60f81db29d74row0_col2,#T_689262cc_a048_11eb_9340_60f81db29d74row2_col0{\n",
       "            background-color:  #fedc88;\n",
       "            color:  #000000;\n",
       "        }#T_689262cc_a048_11eb_9340_60f81db29d74row0_col3,#T_689262cc_a048_11eb_9340_60f81db29d74row3_col0{\n",
       "            background-color:  #eef8a8;\n",
       "            color:  #000000;\n",
       "        }#T_689262cc_a048_11eb_9340_60f81db29d74row0_col4,#T_689262cc_a048_11eb_9340_60f81db29d74row4_col0{\n",
       "            background-color:  #fff3ac;\n",
       "            color:  #000000;\n",
       "        }#T_689262cc_a048_11eb_9340_60f81db29d74row0_col5,#T_689262cc_a048_11eb_9340_60f81db29d74row5_col0{\n",
       "            background-color:  #e6f59d;\n",
       "            color:  #000000;\n",
       "        }#T_689262cc_a048_11eb_9340_60f81db29d74row0_col6,#T_689262cc_a048_11eb_9340_60f81db29d74row6_col0{\n",
       "            background-color:  #cfeb85;\n",
       "            color:  #000000;\n",
       "        }#T_689262cc_a048_11eb_9340_60f81db29d74row1_col2,#T_689262cc_a048_11eb_9340_60f81db29d74row2_col1{\n",
       "            background-color:  #a50026;\n",
       "            color:  #f1f1f1;\n",
       "        }#T_689262cc_a048_11eb_9340_60f81db29d74row1_col3,#T_689262cc_a048_11eb_9340_60f81db29d74row3_col1{\n",
       "            background-color:  #feca79;\n",
       "            color:  #000000;\n",
       "        }#T_689262cc_a048_11eb_9340_60f81db29d74row1_col4,#T_689262cc_a048_11eb_9340_60f81db29d74row4_col1{\n",
       "            background-color:  #eb5a3a;\n",
       "            color:  #000000;\n",
       "        }#T_689262cc_a048_11eb_9340_60f81db29d74row1_col5,#T_689262cc_a048_11eb_9340_60f81db29d74row5_col1{\n",
       "            background-color:  #fee491;\n",
       "            color:  #000000;\n",
       "        }#T_689262cc_a048_11eb_9340_60f81db29d74row1_col6,#T_689262cc_a048_11eb_9340_60f81db29d74row6_col1{\n",
       "            background-color:  #108647;\n",
       "            color:  #000000;\n",
       "        }#T_689262cc_a048_11eb_9340_60f81db29d74row2_col3,#T_689262cc_a048_11eb_9340_60f81db29d74row3_col2{\n",
       "            background-color:  #fdbf6f;\n",
       "            color:  #000000;\n",
       "        }#T_689262cc_a048_11eb_9340_60f81db29d74row2_col4,#T_689262cc_a048_11eb_9340_60f81db29d74row4_col2{\n",
       "            background-color:  #bbe278;\n",
       "            color:  #000000;\n",
       "        }#T_689262cc_a048_11eb_9340_60f81db29d74row2_col5,#T_689262cc_a048_11eb_9340_60f81db29d74row5_col2{\n",
       "            background-color:  #f7fcb4;\n",
       "            color:  #000000;\n",
       "        }#T_689262cc_a048_11eb_9340_60f81db29d74row2_col6,#T_689262cc_a048_11eb_9340_60f81db29d74row6_col2{\n",
       "            background-color:  #e75337;\n",
       "            color:  #000000;\n",
       "        }#T_689262cc_a048_11eb_9340_60f81db29d74row3_col4,#T_689262cc_a048_11eb_9340_60f81db29d74row4_col3{\n",
       "            background-color:  #fee08b;\n",
       "            color:  #000000;\n",
       "        }#T_689262cc_a048_11eb_9340_60f81db29d74row3_col5,#T_689262cc_a048_11eb_9340_60f81db29d74row5_col3{\n",
       "            background-color:  #fff0a6;\n",
       "            color:  #000000;\n",
       "        }#T_689262cc_a048_11eb_9340_60f81db29d74row3_col6,#T_689262cc_a048_11eb_9340_60f81db29d74row6_col3{\n",
       "            background-color:  #fffcba;\n",
       "            color:  #000000;\n",
       "        }#T_689262cc_a048_11eb_9340_60f81db29d74row4_col6,#T_689262cc_a048_11eb_9340_60f81db29d74row6_col4{\n",
       "            background-color:  #de402e;\n",
       "            color:  #f1f1f1;\n",
       "        }#T_689262cc_a048_11eb_9340_60f81db29d74row5_col6,#T_689262cc_a048_11eb_9340_60f81db29d74row6_col5{\n",
       "            background-color:  #fff5ae;\n",
       "            color:  #000000;\n",
       "        }</style><table id=\"T_689262cc_a048_11eb_9340_60f81db29d74\" ><thead>    <tr>        <th class=\"blank level0\" ></th>        <th class=\"col_heading level0 col0\" >num_stations</th>        <th class=\"col_heading level0 col1\" >white_percentage</th>        <th class=\"col_heading level0 col2\" >black_percentage</th>        <th class=\"col_heading level0 col3\" >asian_percentage</th>        <th class=\"col_heading level0 col4\" >other_percentage</th>        <th class=\"col_heading level0 col5\" >2_or_more</th>        <th class=\"col_heading level0 col6\" >2017 median income</th>    </tr></thead><tbody>\n",
       "                <tr>\n",
       "                        <th id=\"T_689262cc_a048_11eb_9340_60f81db29d74level0_row0\" class=\"row_heading level0 row0\" >num_stations</th>\n",
       "                        <td id=\"T_689262cc_a048_11eb_9340_60f81db29d74row0_col0\" class=\"data row0 col0\" >1.000000</td>\n",
       "                        <td id=\"T_689262cc_a048_11eb_9340_60f81db29d74row0_col1\" class=\"data row0 col1\" >0.119827</td>\n",
       "                        <td id=\"T_689262cc_a048_11eb_9340_60f81db29d74row0_col2\" class=\"data row0 col2\" >-0.172581</td>\n",
       "                        <td id=\"T_689262cc_a048_11eb_9340_60f81db29d74row0_col3\" class=\"data row0 col3\" >0.070996</td>\n",
       "                        <td id=\"T_689262cc_a048_11eb_9340_60f81db29d74row0_col4\" class=\"data row0 col4\" >-0.059902</td>\n",
       "                        <td id=\"T_689262cc_a048_11eb_9340_60f81db29d74row0_col5\" class=\"data row0 col5\" >0.100789</td>\n",
       "                        <td id=\"T_689262cc_a048_11eb_9340_60f81db29d74row0_col6\" class=\"data row0 col6\" >0.193542</td>\n",
       "            </tr>\n",
       "            <tr>\n",
       "                        <th id=\"T_689262cc_a048_11eb_9340_60f81db29d74level0_row1\" class=\"row_heading level0 row1\" >white_percentage</th>\n",
       "                        <td id=\"T_689262cc_a048_11eb_9340_60f81db29d74row1_col0\" class=\"data row1 col0\" >0.119827</td>\n",
       "                        <td id=\"T_689262cc_a048_11eb_9340_60f81db29d74row1_col1\" class=\"data row1 col1\" >1.000000</td>\n",
       "                        <td id=\"T_689262cc_a048_11eb_9340_60f81db29d74row1_col2\" class=\"data row1 col2\" >-0.796163</td>\n",
       "                        <td id=\"T_689262cc_a048_11eb_9340_60f81db29d74row1_col3\" class=\"data row1 col3\" >-0.228367</td>\n",
       "                        <td id=\"T_689262cc_a048_11eb_9340_60f81db29d74row1_col4\" class=\"data row1 col4\" >-0.528877</td>\n",
       "                        <td id=\"T_689262cc_a048_11eb_9340_60f81db29d74row1_col5\" class=\"data row1 col5\" >-0.138974</td>\n",
       "                        <td id=\"T_689262cc_a048_11eb_9340_60f81db29d74row1_col6\" class=\"data row1 col6\" >0.698471</td>\n",
       "            </tr>\n",
       "            <tr>\n",
       "                        <th id=\"T_689262cc_a048_11eb_9340_60f81db29d74level0_row2\" class=\"row_heading level0 row2\" >black_percentage</th>\n",
       "                        <td id=\"T_689262cc_a048_11eb_9340_60f81db29d74row2_col0\" class=\"data row2 col0\" >-0.172581</td>\n",
       "                        <td id=\"T_689262cc_a048_11eb_9340_60f81db29d74row2_col1\" class=\"data row2 col1\" >-0.796163</td>\n",
       "                        <td id=\"T_689262cc_a048_11eb_9340_60f81db29d74row2_col2\" class=\"data row2 col2\" >1.000000</td>\n",
       "                        <td id=\"T_689262cc_a048_11eb_9340_60f81db29d74row2_col3\" class=\"data row2 col3\" >-0.267167</td>\n",
       "                        <td id=\"T_689262cc_a048_11eb_9340_60f81db29d74row2_col4\" class=\"data row2 col4\" >0.256016</td>\n",
       "                        <td id=\"T_689262cc_a048_11eb_9340_60f81db29d74row2_col5\" class=\"data row2 col5\" >0.037290</td>\n",
       "                        <td id=\"T_689262cc_a048_11eb_9340_60f81db29d74row2_col6\" class=\"data row2 col6\" >-0.545877</td>\n",
       "            </tr>\n",
       "            <tr>\n",
       "                        <th id=\"T_689262cc_a048_11eb_9340_60f81db29d74level0_row3\" class=\"row_heading level0 row3\" >asian_percentage</th>\n",
       "                        <td id=\"T_689262cc_a048_11eb_9340_60f81db29d74row3_col0\" class=\"data row3 col0\" >0.070996</td>\n",
       "                        <td id=\"T_689262cc_a048_11eb_9340_60f81db29d74row3_col1\" class=\"data row3 col1\" >-0.228367</td>\n",
       "                        <td id=\"T_689262cc_a048_11eb_9340_60f81db29d74row3_col2\" class=\"data row3 col2\" >-0.267167</td>\n",
       "                        <td id=\"T_689262cc_a048_11eb_9340_60f81db29d74row3_col3\" class=\"data row3 col3\" >1.000000</td>\n",
       "                        <td id=\"T_689262cc_a048_11eb_9340_60f81db29d74row3_col4\" class=\"data row3 col4\" >-0.160122</td>\n",
       "                        <td id=\"T_689262cc_a048_11eb_9340_60f81db29d74row3_col5\" class=\"data row3 col5\" >-0.075427</td>\n",
       "                        <td id=\"T_689262cc_a048_11eb_9340_60f81db29d74row3_col6\" class=\"data row3 col6\" >-0.014957</td>\n",
       "            </tr>\n",
       "            <tr>\n",
       "                        <th id=\"T_689262cc_a048_11eb_9340_60f81db29d74level0_row4\" class=\"row_heading level0 row4\" >other_percentage</th>\n",
       "                        <td id=\"T_689262cc_a048_11eb_9340_60f81db29d74row4_col0\" class=\"data row4 col0\" >-0.059902</td>\n",
       "                        <td id=\"T_689262cc_a048_11eb_9340_60f81db29d74row4_col1\" class=\"data row4 col1\" >-0.528877</td>\n",
       "                        <td id=\"T_689262cc_a048_11eb_9340_60f81db29d74row4_col2\" class=\"data row4 col2\" >0.256016</td>\n",
       "                        <td id=\"T_689262cc_a048_11eb_9340_60f81db29d74row4_col3\" class=\"data row4 col3\" >-0.160122</td>\n",
       "                        <td id=\"T_689262cc_a048_11eb_9340_60f81db29d74row4_col4\" class=\"data row4 col4\" >1.000000</td>\n",
       "                        <td id=\"T_689262cc_a048_11eb_9340_60f81db29d74row4_col5\" class=\"data row4 col5\" >0.122261</td>\n",
       "                        <td id=\"T_689262cc_a048_11eb_9340_60f81db29d74row4_col6\" class=\"data row4 col6\" >-0.596405</td>\n",
       "            </tr>\n",
       "            <tr>\n",
       "                        <th id=\"T_689262cc_a048_11eb_9340_60f81db29d74level0_row5\" class=\"row_heading level0 row5\" >2_or_more</th>\n",
       "                        <td id=\"T_689262cc_a048_11eb_9340_60f81db29d74row5_col0\" class=\"data row5 col0\" >0.100789</td>\n",
       "                        <td id=\"T_689262cc_a048_11eb_9340_60f81db29d74row5_col1\" class=\"data row5 col1\" >-0.138974</td>\n",
       "                        <td id=\"T_689262cc_a048_11eb_9340_60f81db29d74row5_col2\" class=\"data row5 col2\" >0.037290</td>\n",
       "                        <td id=\"T_689262cc_a048_11eb_9340_60f81db29d74row5_col3\" class=\"data row5 col3\" >-0.075427</td>\n",
       "                        <td id=\"T_689262cc_a048_11eb_9340_60f81db29d74row5_col4\" class=\"data row5 col4\" >0.122261</td>\n",
       "                        <td id=\"T_689262cc_a048_11eb_9340_60f81db29d74row5_col5\" class=\"data row5 col5\" >1.000000</td>\n",
       "                        <td id=\"T_689262cc_a048_11eb_9340_60f81db29d74row5_col6\" class=\"data row5 col6\" >-0.055904</td>\n",
       "            </tr>\n",
       "            <tr>\n",
       "                        <th id=\"T_689262cc_a048_11eb_9340_60f81db29d74level0_row6\" class=\"row_heading level0 row6\" >2017 median income</th>\n",
       "                        <td id=\"T_689262cc_a048_11eb_9340_60f81db29d74row6_col0\" class=\"data row6 col0\" >0.193542</td>\n",
       "                        <td id=\"T_689262cc_a048_11eb_9340_60f81db29d74row6_col1\" class=\"data row6 col1\" >0.698471</td>\n",
       "                        <td id=\"T_689262cc_a048_11eb_9340_60f81db29d74row6_col2\" class=\"data row6 col2\" >-0.545877</td>\n",
       "                        <td id=\"T_689262cc_a048_11eb_9340_60f81db29d74row6_col3\" class=\"data row6 col3\" >-0.014957</td>\n",
       "                        <td id=\"T_689262cc_a048_11eb_9340_60f81db29d74row6_col4\" class=\"data row6 col4\" >-0.596405</td>\n",
       "                        <td id=\"T_689262cc_a048_11eb_9340_60f81db29d74row6_col5\" class=\"data row6 col5\" >-0.055904</td>\n",
       "                        <td id=\"T_689262cc_a048_11eb_9340_60f81db29d74row6_col6\" class=\"data row6 col6\" >1.000000</td>\n",
       "            </tr>\n",
       "    </tbody></table>"
      ],
      "text/plain": [
       "<pandas.io.formats.style.Styler at 0x7fb958bf4ee0>"
      ]
     },
     "execution_count": 336,
     "metadata": {},
     "output_type": "execute_result"
    }
   ],
   "source": [
    "# a few columns of interest\n",
    "cols = ['num_stations', 'white_percentage', 'black_percentage', 'asian_percentage', 'other_percentage', '2_or_more', '2017 median income']\n",
    "\n",
    "# correlations (w/ color coding)\n",
    "total_cmbnd[cols].corr().style.background_gradient(\n",
    "    cmap='RdYlGn', \n",
    "    axis=None, \n",
    "    vmin=-0.8, \n",
    "    vmax=0.8\n",
    ")"
   ]
  },
  {
   "cell_type": "markdown",
   "metadata": {},
   "source": [
    "## Looking at Race vs Number of Stations"
   ]
  },
  {
   "cell_type": "code",
   "execution_count": 337,
   "metadata": {},
   "outputs": [
    {
     "data": {
      "image/png": "[encoded data removed]",
      "text/plain": [
       "<Figure size 432x288 with 1 Axes>"
      ]
     },
     "metadata": {
      "needs_background": "light"
     },
     "output_type": "display_data"
    }
   ],
   "source": [
    "plt.scatter(x = total_cmbnd['num_stations'], y = total_cmbnd['2017 race: White'], color = \"red\", s = 80, alpha= .3, label = \"White\") \n",
    "plt.scatter(x = total_cmbnd['num_stations'], y = total_cmbnd['2017 race: Black'], color = \"blue\", s = 80, alpha = .3, label = \"Black\")\n",
    "plt.scatter(x = total_cmbnd['num_stations'], y = total_cmbnd['2017 race: Asian'], color = \"green\", s = 80, alpha = .3, label = \"Asian\")\n",
    "plt.xlabel(\"Number of Stations in Census Tract\")\n",
    "plt.ylabel(\"Number of Housholds in Census Tract\")\n",
    "plt.title(\"The Number of Stations in Census Tract vs. Number of HouseHolds \")\n",
    "plt.legend()\n",
    "plt.show()"
   ]
  },
  {
   "cell_type": "markdown",
   "metadata": {},
   "source": [
    "##### From the scatterplot, we can see that there are much higher numbers of white households in census tracts with higher number of stations. This is consistent with the correlation we saw earlier where Asian Households and White households had the highest positive correlation with number of stations per census tract"
   ]
  },
  {
   "cell_type": "markdown",
   "metadata": {},
   "source": [
    "## Normalized Race vs Number of Stations"
   ]
  },
  {
   "cell_type": "code",
   "execution_count": 341,
   "metadata": {},
   "outputs": [
    {
     "data": {
      "image/png": "[encoded data removed]",
      "text/plain": [
       "<Figure size 432x288 with 1 Axes>"
      ]
     },
     "metadata": {
      "needs_background": "light"
     },
     "output_type": "display_data"
    }
   ],
   "source": [
    "plt.scatter(x = total_cmbnd['num_stations'], y = total_cmbnd['white_percentage'], color = \"red\", s = 80, alpha= .3, label = \"White\") \n",
    "plt.xlabel(\"Number of Stations in Census Tract\")\n",
    "plt.ylabel(\"Percentage of White Race in Census Tract\")\n",
    "plt.title(\"The Number of Stations in Census Tract vs. Percentage of Households \")\n",
    "plt.legend()\n",
    "plt.show()"
   ]
  },
  {
   "cell_type": "code",
   "execution_count": 339,
   "metadata": {},
   "outputs": [
    {
     "data": {
      "image/png": "[encoded data removed]",
      "text/plain": [
       "<Figure size 432x288 with 1 Axes>"
      ]
     },
     "metadata": {
      "needs_background": "light"
     },
     "output_type": "display_data"
    }
   ],
   "source": [
    "plt.scatter(x = total_cmbnd['num_stations'], y = total_cmbnd['black_percentage'], color = \"blue\", s = 80, alpha = .3, label = \"Black\")\n",
    "plt.xlabel(\"Number of Stations in Census Tract\")\n",
    "plt.ylabel(\"Percentage of Black Race in Census Tract\")\n",
    "plt.title(\"The Number of Stations in Census Tract vs. Percentage of HouseHolds \")\n",
    "plt.legend()\n",
    "plt.show()"
   ]
  },
  {
   "cell_type": "code",
   "execution_count": 340,
   "metadata": {},
   "outputs": [
    {
     "data": {
      "image/png": "[encoded data removed]",
      "text/plain": [
       "<Figure size 432x288 with 1 Axes>"
      ]
     },
     "metadata": {
      "needs_background": "light"
     },
     "output_type": "display_data"
    }
   ],
   "source": [
    "plt.scatter(x = total_cmbnd['num_stations'], y = total_cmbnd['asian_percentage'], color = \"green\", s = 80, alpha = .3, label = \"Asian\")\n",
    "plt.xlabel(\"Number of Stations in Census Tract\")\n",
    "plt.ylabel(\"Percentage of Asian Race in Census Tract\")\n",
    "plt.title(\"The Number of Stations in Census Tract vs. Percentage of HouseHolds \")\n",
    "plt.legend()\n",
    "plt.show()"
   ]
  },
  {
   "cell_type": "markdown",
   "metadata": {},
   "source": [
    "##### From the normalized data we can see that white households make up a much greater percentage of the census tracts that have higher number of stations"
   ]
  },
  {
   "cell_type": "markdown",
   "metadata": {},
   "source": [
    "## Number of Stations Based on Majority Race in Neighborhood"
   ]
  },
  {
   "cell_type": "code",
   "execution_count": 286,
   "metadata": {},
   "outputs": [
    {
     "name": "stdout",
     "output_type": "stream",
     "text": [
      "The average number of stations for majority white tracts is: 3.07\n",
      "The average number of stations for majority black tracts is: 2.1\n",
      "The average numbre of stations for majority asian tracts is: 3.1\n"
     ]
    }
   ],
   "source": [
    "w_major = total_cmbnd[total_cmbnd['majority_race'] == 'white']\n",
    "print(\"The average number of stations for majority white tracts is:\", round(w_major.num_stations.mean(),2))\n",
    "b_major = total_cmbnd[total_cmbnd['majority_race'] == 'black']\n",
    "print(\"The average number of stations for majority black tracts is:\", round(b_major.num_stations.mean(),2))\n",
    "a_major = total_cmbnd[total_cmbnd['majority_race'] == 'asian']\n",
    "print(\"The average numbre of stations for majority asian tracts is:\", round(a_major.num_stations.mean(),2))\n",
    "o_major = total_cmbnd[total_cmbnd['majority_race'] == 'other' ]"
   ]
  },
  {
   "cell_type": "code",
   "execution_count": 293,
   "metadata": {},
   "outputs": [
    {
     "data": {
      "image/png": "[encoded data removed]",
      "text/plain": [
       "<Figure size 432x288 with 1 Axes>"
      ]
     },
     "metadata": {
      "needs_background": "light"
     },
     "output_type": "display_data"
    }
   ],
   "source": [
    "fig = plt.figure()\n",
    "ax = fig.add_axes([0,0,1,1])\n",
    "y = ['Majority White', 'Majority Black', 'Majority Asian', 'Majority Other']\n",
    "x = [w_major.num_stations.mean(), b_major.num_stations.mean(), a_major.num_stations.mean(), o_major.num_stations.mean()]\n",
    "plt.bar(data,x)\n",
    "plt.title('The Average Number of Stations by Majority Race')\n",
    "plt.xlabel('Majority Race in Census Tract')\n",
    "plt.ylabel('Average Number of Stations')\n",
    "plt.show()"
   ]
  },
  {
   "cell_type": "markdown",
   "metadata": {},
   "source": [
    "#### From this we can see that majority asian and majority white neighborhoods have fairly similar average number of stations in their census tracts"
   ]
  },
  {
   "cell_type": "markdown",
   "metadata": {},
   "source": [
    "#### After confirming the trend seen with white households and number of stations, let's look at whether the number of white households can predict the number of stations."
   ]
  },
  {
   "cell_type": "markdown",
   "metadata": {},
   "source": [
    "## White Households Predicting Number of Stations"
   ]
  },
  {
   "cell_type": "code",
   "execution_count": 268,
   "metadata": {},
   "outputs": [
    {
     "data": {
      "image/png": "[encoded data removed]",
      "text/plain": [
       "<Figure size 432x288 with 1 Axes>"
      ]
     },
     "metadata": {
      "needs_background": "light"
     },
     "output_type": "display_data"
    }
   ],
   "source": [
    "racevsstations_w = LinearRegression().fit(total_cmbnd[['white_percentage']],total_cmbnd['num_stations'])\n",
    "predict_num_stations_w = racevsstations_w.predict(total_cmbnd[['num_stations']])\n",
    "#sns.barplot(x = 'white_percentage', y ='num_stations', data = total_cmbnd)\n",
    "plt.scatter(x = total_cmbnd['white_percentage'], y = total_cmbnd['num_stations'], c = \"red\", label = \"Original Data\")\n",
    "plt.plot(total_cmbnd['white_percentage'],predict_num_stations_w, c = \"green\", label = \"Predicted Num Stations\")\n",
    "plt.legend()\n",
    "plt.xlabel(\"Percentage of White Households\")\n",
    "plt.ylabel(\"Number of Stations\")\n",
    "plt.show()"
   ]
  },
  {
   "cell_type": "markdown",
   "metadata": {},
   "source": [
    "### r^2 value, or how much of the data is explained by this variable"
   ]
  },
  {
   "cell_type": "code",
   "execution_count": 269,
   "metadata": {},
   "outputs": [
    {
     "name": "stdout",
     "output_type": "stream",
     "text": [
      "The r^2 value of percentage white race and number of stations 0.014358546036811526\n"
     ]
    }
   ],
   "source": [
    "w_r_sqr = racevsstations_w.score(total_cmbnd[['white_percentage']],total_cmbnd['num_stations'])\n",
    "print('The r^2 value of percentage white race and number of stations', w_r_sqr)"
   ]
  },
  {
   "cell_type": "markdown",
   "metadata": {},
   "source": [
    "##### The r^2 value is fairly low. Only 1% of the data is explained by the white percentage of households"
   ]
  },
  {
   "cell_type": "markdown",
   "metadata": {},
   "source": [
    "## Black Households Predicting Number of Stations"
   ]
  },
  {
   "cell_type": "code",
   "execution_count": 270,
   "metadata": {},
   "outputs": [
    {
     "data": {
      "image/png": "[encoded data removed]",
      "text/plain": [
       "<Figure size 432x288 with 1 Axes>"
      ]
     },
     "metadata": {
      "needs_background": "light"
     },
     "output_type": "display_data"
    }
   ],
   "source": [
    "racevsstations_b = LinearRegression().fit(total_cmbnd[['black_percentage']],total_cmbnd['num_stations'])\n",
    "predict_num_stations_b = racevsstations_b.predict(total_cmbnd[['num_stations']])\n",
    "plt.scatter(x = total_cmbnd['black_percentage'], y = total_cmbnd['num_stations'], c = \"blue\", label = \"Original Data\")\n",
    "plt.plot(total_cmbnd['black_percentage'],predict_num_stations_b, c = \"red\", label= \"Predicted Num Stations\")\n",
    "plt.legend()\n",
    "plt.xlabel(\"Percentage of Black Households\")\n",
    "plt.ylabel(\"Number of Stations\")\n",
    "plt.show()"
   ]
  },
  {
   "cell_type": "markdown",
   "metadata": {},
   "source": [
    "### r^2 value, or how much of the data is explained by this variable"
   ]
  },
  {
   "cell_type": "code",
   "execution_count": 271,
   "metadata": {},
   "outputs": [
    {
     "name": "stdout",
     "output_type": "stream",
     "text": [
      "The r^2 value of percentage black race and number of stations 0.02978431763582845\n"
     ]
    }
   ],
   "source": [
    "b_r_sqr = racevsstations_b.score(total_cmbnd[['black_percentage']],total_cmbnd['num_stations'])\n",
    "print('The r^2 value of percentage black race and number of stations', b_r_sqr)"
   ]
  },
  {
   "cell_type": "markdown",
   "metadata": {},
   "source": [
    "##### The r^2 value is actually higher here than in the white race neighborhoods"
   ]
  },
  {
   "cell_type": "markdown",
   "metadata": {},
   "source": [
    "## **What is the predicted number of stations in majority neighborhoods?**"
   ]
  },
  {
   "cell_type": "markdown",
   "metadata": {},
   "source": [
    "### Majority White Census Tracts"
   ]
  },
  {
   "cell_type": "code",
   "execution_count": 309,
   "metadata": {},
   "outputs": [
    {
     "name": "stdout",
     "output_type": "stream",
     "text": [
      "The predicted average number of stations in majority white census tracts is : 4.74\n"
     ]
    }
   ],
   "source": [
    "major_predict_stations = LinearRegression().fit(w_major[['white_percentage']], w_major['num_stations'])\n",
    "predict_s_major_w = major_predict_stations.predict(w_major[['num_stations']])\n",
    "print(\"The predicted average number of stations in majority white census tracts is : {:0.2f}\".format(predict_s_major_w.mean()))"
   ]
  },
  {
   "cell_type": "markdown",
   "metadata": {},
   "source": [
    "#### When only looking at areas with majority white households, the predicted number of stations is much higher than it is when looking at the overall population."
   ]
  },
  {
   "cell_type": "markdown",
   "metadata": {},
   "source": [
    "### How Well do White Majority Census Tracts predict number of stations?"
   ]
  },
  {
   "cell_type": "code",
   "execution_count": 314,
   "metadata": {},
   "outputs": [
    {
     "name": "stdout",
     "output_type": "stream",
     "text": [
      "The r^2 value of white majority census tracts predicting number of stations 0.01943374202400916\n"
     ]
    }
   ],
   "source": [
    "wmajor_r_sqr = major_predict_stations.score(w_major[['white_percentage']],w_major['num_stations'])\n",
    "print('The r^2 value of white majority census tracts predicting number of stations', wmajor_r_sqr)"
   ]
  },
  {
   "cell_type": "markdown",
   "metadata": {},
   "source": [
    "### Majority Black Census Tracts"
   ]
  },
  {
   "cell_type": "code",
   "execution_count": 312,
   "metadata": {},
   "outputs": [
    {
     "name": "stdout",
     "output_type": "stream",
     "text": [
      "The predicted average number of stations in majority black census tracts is : 2.26\n"
     ]
    }
   ],
   "source": [
    "major_predict_stations_b = LinearRegression().fit(b_major[['black_percentage']], b_major['num_stations'])\n",
    "predict_s_major_b = major_predict_stations_b.predict(b_major[['num_stations']])\n",
    "print(\"The predicted average number of stations in majority black census tracts is : {:0.2f}\".format(predict_s_major_b.mean()))"
   ]
  },
  {
   "cell_type": "markdown",
   "metadata": {},
   "source": [
    "### How well do Black Majority Census Tracts Predict Number of Stations?"
   ]
  },
  {
   "cell_type": "code",
   "execution_count": 315,
   "metadata": {},
   "outputs": [
    {
     "name": "stdout",
     "output_type": "stream",
     "text": [
      "The r^2 value of black majority census tracts predicting number of stations 0.000817498491684665\n"
     ]
    }
   ],
   "source": [
    "bmajor_r_sqr = major_predict_stations_b.score(b_major[['black_percentage']],b_major['num_stations'])\n",
    "print('The r^2 value of black majority census tracts predicting number of stations', bmajor_r_sqr)"
   ]
  },
  {
   "cell_type": "markdown",
   "metadata": {},
   "source": [
    "## MultiLinear progression "
   ]
  },
  {
   "cell_type": "markdown",
   "metadata": {},
   "source": [
    "#### After seeing that Asian neighborhoods and White neighborhoods predict a similar number of stations, let's look at multi linear progression"
   ]
  },
  {
   "cell_type": "markdown",
   "metadata": {},
   "source": [
    "### Asian and White "
   ]
  },
  {
   "cell_type": "code",
   "execution_count": 265,
   "metadata": {},
   "outputs": [
    {
     "name": "stdout",
     "output_type": "stream",
     "text": [
      "The r^2 value of a multi linear regression using race percentage to predict number of stations: \n",
      "0.024565700380785316\n"
     ]
    }
   ],
   "source": [
    "num_stat_a_and_w = LinearRegression().fit(total_cmbnd[['white_percentage','asian_percentage']],total_cmbnd['num_stations'])\n",
    "print('The r^2 value of a multi linear regression using race percentage to predict number of stations: ')\n",
    "print(num_stat_a_and_w.score(total_cmbnd[['white_percentage','asian_percentage']],total_cmbnd['num_stations']))"
   ]
  },
  {
   "cell_type": "markdown",
   "metadata": {},
   "source": [
    "##### Using white and asian percentages to predict number of stations still predicts less of the data compared to black neighborhood percentages"
   ]
  },
  {
   "cell_type": "markdown",
   "metadata": {},
   "source": [
    "#### Race does not predict the number of stations that well. However, when looking at the whole data set, it would seem that the black percentage of the population has a greater influence on the number of stations compared to white percentage in census tracts."
   ]
  },
  {
   "cell_type": "markdown",
   "metadata": {},
   "source": [
    "### Black and other "
   ]
  },
  {
   "cell_type": "code",
   "execution_count": 319,
   "metadata": {},
   "outputs": [
    {
     "name": "stdout",
     "output_type": "stream",
     "text": [
      "The r^2 value of a multi linear regression using black and other race percentage to predict number of stations: \n",
      "-0.20519487206700604\n"
     ]
    }
   ],
   "source": [
    "num_stat_b_and_o = LinearRegression().fit(total_cmbnd[['black_percentage','other_percentage']],total_cmbnd['num_stations'])\n",
    "print('The r^2 value of a multi linear regression using black and other race percentage to predict number of stations: ')\n",
    "print(num_stat_a_and_w.score(total_cmbnd[['black_percentage','other_percentage']],total_cmbnd['num_stations']))"
   ]
  },
  {
   "cell_type": "markdown",
   "metadata": {},
   "source": [
    "#### Black and the other race category are extremely poor for predicting the number of stations"
   ]
  },
  {
   "cell_type": "markdown",
   "metadata": {},
   "source": [
    "## **Number of Stations Predicting White Household Percentage**"
   ]
  },
  {
   "cell_type": "code",
   "execution_count": 295,
   "metadata": {},
   "outputs": [
    {
     "data": {
      "image/png": "[encoded data removed]",
      "text/plain": [
       "<Figure size 432x288 with 1 Axes>"
      ]
     },
     "metadata": {
      "needs_background": "light"
     },
     "output_type": "display_data"
    }
   ],
   "source": [
    "racevsstations_predictw = LinearRegression().fit(total_cmbnd[['num_stations']],total_cmbnd['white_percentage'])\n",
    "predict_race_w = racevsstations_predictw.predict(total_cmbnd[['white_percentage']])\n",
    "plt.scatter(x = total_cmbnd['num_stations'], y = total_cmbnd['white_percentage'], c = \"green\", label = \"OG Data\")\n",
    "plt.plot(total_cmbnd['num_stations'],predict_race_w, c = \"black\", label = \"Predicted White Percentage\")\n",
    "plt.legend()\n",
    "plt.xlabel(\"Number of Stations\")\n",
    "plt.ylabel(\"Percentage of White Households\")\n",
    "plt.show()"
   ]
  },
  {
   "cell_type": "code",
   "execution_count": 177,
   "metadata": {},
   "outputs": [
    {
     "data": {
      "text/plain": [
       "224.36240441041411"
      ]
     },
     "execution_count": 177,
     "metadata": {},
     "output_type": "execute_result"
    }
   ],
   "source": [
    "predict_race_w.max()"
   ]
  },
  {
   "cell_type": "markdown",
   "metadata": {},
   "source": [
    "## Number of Stations Predicting Black Household Percentage"
   ]
  },
  {
   "cell_type": "code",
   "execution_count": 178,
   "metadata": {},
   "outputs": [],
   "source": [
    "racevsstations = LinearRegression().fit(total_cmbnd[['num_stations']],total_cmbnd['black_percentage'])\n",
    "predict_race_b = racevsstations.predict(total_cmbnd[['black_percentage']])"
   ]
  },
  {
   "cell_type": "code",
   "execution_count": 179,
   "metadata": {},
   "outputs": [
    {
     "data": {
      "text/plain": [
       "19.412778538801934"
      ]
     },
     "execution_count": 179,
     "metadata": {},
     "output_type": "execute_result"
    }
   ],
   "source": [
    "predict_race_b.max()"
   ]
  },
  {
   "cell_type": "markdown",
   "metadata": {},
   "source": [
    "## Income Statistics based on majority race in Census Tract"
   ]
  },
  {
   "cell_type": "code",
   "execution_count": 258,
   "metadata": {},
   "outputs": [
    {
     "name": "stdout",
     "output_type": "stream",
     "text": [
      "The Summary Statistics for Income in majority white tracts is: \n",
      "count       576.0\n",
      "mean     114890.2\n",
      "std       36871.4\n",
      "min       33709.0\n",
      "25%       88924.8\n",
      "50%      116517.5\n",
      "75%      135938.0\n",
      "max      233646.0\n",
      "Name: 2017 median income, dtype: float64\n"
     ]
    }
   ],
   "source": [
    "w_major = total_cmbnd[total_cmbnd['majority_race'] == 'white']\n",
    "print(\"The Summary Statistics for Income in majority white tracts is: \")\n",
    "print(round(w_major['2017 median income'].describe(),1))"
   ]
  },
  {
   "cell_type": "code",
   "execution_count": 259,
   "metadata": {},
   "outputs": [
    {
     "name": "stdout",
     "output_type": "stream",
     "text": [
      "The Summary Statistics for Income in majority black tracts is: \n",
      "count       62.0\n",
      "mean     46284.0\n",
      "std      18827.7\n",
      "min      13207.0\n",
      "25%      33324.0\n",
      "50%      45900.0\n",
      "75%      62125.0\n",
      "max      76549.0\n",
      "Name: 2017 median income, dtype: float64\n"
     ]
    }
   ],
   "source": [
    "b_major = total_cmbnd[total_cmbnd['majority_race'] == 'black']\n",
    "print(\"The Summary Statistics for Income in majority black tracts is: \")\n",
    "print(round(b_major['2017 median income'].describe(),1))"
   ]
  },
  {
   "cell_type": "code",
   "execution_count": 260,
   "metadata": {},
   "outputs": [
    {
     "name": "stdout",
     "output_type": "stream",
     "text": [
      "The Summary Statistics for Income in majority asian tracts is: \n",
      "count        21.0\n",
      "mean      61393.0\n",
      "std       31199.9\n",
      "min       19778.0\n",
      "25%       32313.0\n",
      "50%       65223.0\n",
      "75%       80909.0\n",
      "max      110000.0\n",
      "Name: 2017 median income, dtype: float64\n"
     ]
    }
   ],
   "source": [
    "a_major = total_cmbnd[total_cmbnd['majority_race'] == 'asian']\n",
    "print(\"The Summary Statistics for Income in majority asian tracts is: \")\n",
    "print(round(a_major['2017 median income'].describe(),1))"
   ]
  },
  {
   "cell_type": "markdown",
   "metadata": {},
   "source": [
    "#### From these summary statistics of median income, we can conclude that areas with a majority white population have an average higher median income than other races."
   ]
  },
  {
   "cell_type": "markdown",
   "metadata": {},
   "source": [
    "- Connect with trip data, the majority race neighborhoods\n",
    "- "
   ]
  },
  {
   "cell_type": "code",
   "execution_count": null,
   "metadata": {},
   "outputs": [],
   "source": [
    "- "
   ]
  }
 ],
 "metadata": {
  "kernelspec": {
   "display_name": "Python 3",
   "language": "python",
   "name": "python3"
  },
  "language_info": {
   "codemirror_mode": {
    "name": "ipython",
    "version": 3
   },
   "file_extension": ".py",
   "mimetype": "text/x-python",
   "name": "python",
   "nbconvert_exporter": "python",
   "pygments_lexer": "ipython3",
   "version": "3.8.5"
  }
 },
 "nbformat": 4,
 "nbformat_minor": 4
}
