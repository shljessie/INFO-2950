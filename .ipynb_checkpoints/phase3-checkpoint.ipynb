{
 "cells": [
  {
   "cell_type": "markdown",
   "metadata": {},
   "source": [
    "## Project Phase 3"
   ]
  },
  {
   "cell_type": "markdown",
   "metadata": {},
   "source": [
    "Research Question : How is citibike representing NYC demographics? (in 2017)"
   ]
  },
  {
   "cell_type": "markdown",
   "metadata": {},
   "source": [
    "#### Team Members \n",
    "- Seonghee Lee (sl994) \n",
    "- Nicholas Rahardja (nmr73)\n",
    "- Chelsea Choi (cc2583)\n",
    " "
   ]
  },
  {
   "cell_type": "markdown",
   "metadata": {},
   "source": [
    "#### Two analyses\n",
    "\n",
    "1. What is the relationship between usage and number of stations? (Trips vs Stations)\n",
    "    - compute usage by geoid and stations by geoid. \n",
    "    - see how citibike usage & number of stations differ between geoid. \n",
    "    - look at the overall population in a geoid and normalize\n",
    "    - Thinking of computiung linear regression to see of the number of stations correlate with the usage(this might change depending on what we find in the data)\n",
    "    - compare this to overall population. \n",
    "    - choose a few geoid's of interest to look further into\n",
    "       \n",
    "2. How is station placement by geoid representing NYC race & income demographics? (Stations vs Race/Income) \n",
    "      - After question 1, looking at geoid ares of interest, we could look in to race & income demographics of those areas? \n",
    "      - Thinking of trying out multiple linear regression with different geoids, race, and income factors included. (this might change depending on what we find in the data)\n"
   ]
  },
  {
   "cell_type": "markdown",
   "metadata": {},
   "source": [
    "#### Questions for Reviewers\n",
    "\n",
    "- What kind of analysis do you suggest should we do other than linear/multiple regression or correlation?\n",
    "- Is the final report graded more on using sophisticated methods? Or having a cohesive argument backed by data even if we use less sophisticated methods>\n",
    "- Is our research question to broad? Should we add the 2017 limitation? Our data is limited to 2017. \n",
    "\n",
    "\n",
    "\n",
    "\n"
   ]
  },
  {
   "cell_type": "markdown",
   "metadata": {},
   "source": [
    "#### Team Github\n",
    "- https://github.com/shljessie/citibike-nyc\n",
    "\n",
    "#### Team Raw Data Google Drive \n",
    "- https://drive.google.com/drive/folders/197_d1BwPHXmVuyKA6I7UEyEw4Nqo8dAk\n"
   ]
  },
  {
   "cell_type": "markdown",
   "metadata": {},
   "source": [
    "#### Work divided\n",
    "\n",
    "Can race/income predict stations? (Chelsea)\n",
    "Can race/income predict trips? (Nicholas)\n",
    "\n",
    "Can the number of stations predict race/income? (Chelsea)\n",
    "Can the number of trips predict race/income? (Seonghee)"
   ]
  }
 ],
 "metadata": {
  "kernelspec": {
   "display_name": "Python 3",
   "language": "python",
   "name": "python3"
  },
  "language_info": {
   "codemirror_mode": {
    "name": "ipython",
    "version": 3
   },
   "file_extension": ".py",
   "mimetype": "text/x-python",
   "name": "python",
   "nbconvert_exporter": "python",
   "pygments_lexer": "ipython3",
   "version": "3.8.5"
  }
 },
 "nbformat": 4,
 "nbformat_minor": 4
}
