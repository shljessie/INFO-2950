{
 "cells": [
  {
   "cell_type": "markdown",
   "metadata": {},
   "source": [
    "## Project Phase 3"
   ]
  },
  {
   "cell_type": "markdown",
   "metadata": {},
   "source": [
    "Research Question : How is citibike representing NYC demographics? "
   ]
  },
  {
   "cell_type": "markdown",
   "metadata": {},
   "source": [
    "#### Team Members \n",
    "- Seonghee Lee (sl994) \n",
    "- Nicholas Rahardja (nmr73)\n",
    "- Chelsea Choi (cc2583)\n",
    "\n",
    "#### Team Github\n",
    "- https://github.com/shljessie/citibike-nyc\n",
    "\n",
    "#### Team Raw Data Google Drive \n",
    "- https://drive.google.com/drive/folders/197_d1BwPHXmVuyKA6I7UEyEw4Nqo8dAk\n",
    "\n",
    " "
   ]
  },
  {
   "cell_type": "markdown",
   "metadata": {},
   "source": [
    "#### Two analyses\n",
    "\n",
    "1. What is the relationship between usage and number of stations? (Trips vs Stations)\n",
    "    - Correlation? \n",
    "    - Linear regression on num stations predict usage viceversa\n",
    "    - Which areas are not fairly represented by stations based on num of trips? \n",
    "    - Do most stations correlate with most trips? \n",
    "    - looking into the correlation will give us insight into \n",
    "    - Do most stations correlate with most trips? \n",
    "    \n",
    "    \n",
    "    \n",
    "    \n",
    "2. How is station placement by geoid representing NYC race & income demographics? (Stations vs Race/Income) \n",
    "      - After question 1, looking at geoid ares of interest, we could look in to race & income demographics of those areas? \n",
    "      - Maybe general look to confirm \n",
    "      - Normalize here!!! (Household) \n",
    "      - Which geoid has usage is riding citibike?\n",
    "        - geoid ; race + income \n"
   ]
  },
  {
   "cell_type": "markdown",
   "metadata": {},
   "source": [
    "#### Questions for Reviewers\n",
    "\n",
    "- How should we better incoporate tripdata to answer our research question? \n",
    "- What kind of analysis should we do linear regression/ probability/ ...etc ? \n",
    "- Is our research question to broad\n",
    "- Method of Normalization ? \n",
    "- Score Metric? \n",
    "\n",
    "\n",
    "\n"
   ]
  }
 ],
 "metadata": {
  "kernelspec": {
   "display_name": "Python 3",
   "language": "python",
   "name": "python3"
  },
  "language_info": {
   "codemirror_mode": {
    "name": "ipython",
    "version": 3
   },
   "file_extension": ".py",
   "mimetype": "text/x-python",
   "name": "python",
   "nbconvert_exporter": "python",
   "pygments_lexer": "ipython3",
   "version": "3.8.5"
  }
 },
 "nbformat": 4,
 "nbformat_minor": 4
}
