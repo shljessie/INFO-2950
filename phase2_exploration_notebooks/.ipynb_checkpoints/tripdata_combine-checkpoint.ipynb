{
 "cells": [
  {
   "cell_type": "markdown",
   "metadata": {},
   "source": [
    "## Citibike Data Combining"
   ]
  },
  {
   "cell_type": "markdown",
   "metadata": {},
   "source": [
    "This is a notebook about the results of citibike tripdata exploration.\n",
    "We are looking at citibike trips in 2017. \n",
    "Here I will analyze the user types, and citibike tripdata trends I found."
   ]
  },
  {
   "cell_type": "code",
   "execution_count": 37,
   "metadata": {},
   "outputs": [],
   "source": [
    "import pandas as pd \n",
    "import numpy as np\n",
    "import matplotlib.pyplot as plt\n",
    "import seaborn as sns"
   ]
  },
  {
   "cell_type": "code",
   "execution_count": 71,
   "metadata": {},
   "outputs": [],
   "source": [
    "jan_raw = pd.read_csv('./final/jan_final.csv')\n",
    "feb_raw = pd.read_csv('./final/feb_final.csv')\n",
    "march_raw = pd.read_csv('./final/march_final.csv')\n",
    "april_raw = pd.read_csv('./final/april_final.csv')"
   ]
  },
  {
   "cell_type": "code",
   "execution_count": 72,
   "metadata": {},
   "outputs": [],
   "source": [
    "may_raw = pd.read_csv('./final/may_final.csv')\n",
    "june_raw = pd.read_csv('./final/june_final.csv')\n",
    "july_raw = pd.read_csv('./final/july_final.csv')\n",
    "august_raw = pd.read_csv('./final/august_final.csv')"
   ]
  },
  {
   "cell_type": "code",
   "execution_count": 73,
   "metadata": {},
   "outputs": [],
   "source": [
    "sep_raw = pd.read_csv('./final/sep.csv')\n",
    "oct_raw = pd.read_csv('./final/oct.csv')\n",
    "nov_raw = pd.read_csv('./final/nov.csv')\n",
    "dec_raw = pd.read_csv('./final/dec.csv')"
   ]
  },
  {
   "cell_type": "markdown",
   "metadata": {},
   "source": [
    "### Additional Data Cleaning"
   ]
  },
  {
   "cell_type": "code",
   "execution_count": 81,
   "metadata": {},
   "outputs": [
    {
     "data": {
      "text/plain": [
       "Index(['Unnamed: 0', 'tripduration', 'starttime', 'stoptime',\n",
       "       'start station id', 'start station name', 'end station id',\n",
       "       'end station name', 'usertype', 'birth year', 'gender',\n",
       "       'start_station_geoid', 'end_station_geoid'],\n",
       "      dtype='object')"
      ]
     },
     "execution_count": 81,
     "metadata": {},
     "output_type": "execute_result"
    }
   ],
   "source": [
    "jan_raw.columns"
   ]
  },
  {
   "cell_type": "code",
   "execution_count": 82,
   "metadata": {},
   "outputs": [
    {
     "data": {
      "text/plain": [
       "Index(['Unnamed: 0', 'tripduration', 'starttime', 'stoptime',\n",
       "       'start station id', 'start station name', 'end station id',\n",
       "       'end station name', 'usertype', 'birth year', 'gender',\n",
       "       'start_station_geoid', 'end_station_geoid'],\n",
       "      dtype='object')"
      ]
     },
     "execution_count": 82,
     "metadata": {},
     "output_type": "execute_result"
    }
   ],
   "source": [
    "may_raw.columns"
   ]
  },
  {
   "cell_type": "code",
   "execution_count": 83,
   "metadata": {},
   "outputs": [
    {
     "data": {
      "text/plain": [
       "Index(['tripduration', 'starttime', 'stoptime', 'start station name',\n",
       "       'end station name', 'usertype', 'birth year', 'gender',\n",
       "       'start_station_geoid', 'end_station_geoid'],\n",
       "      dtype='object')"
      ]
     },
     "execution_count": 83,
     "metadata": {},
     "output_type": "execute_result"
    }
   ],
   "source": [
    "dec_raw.columns"
   ]
  },
  {
   "cell_type": "markdown",
   "metadata": {},
   "source": [
    "For Jan - April the columns are named 'start time' 'stop time' 'trip duration''user type' while for May-Dec the columns are named 'starttime' 'stoptime''tripduration''usertype'. I will clean the Jan-April data so that the columns are 'starttime' 'stoptime' 'tripduration'' usertype'.  (Without the space in between)"
   ]
  },
  {
   "cell_type": "code",
   "execution_count": 84,
   "metadata": {},
   "outputs": [],
   "source": [
    "jan_raw = jan_raw.rename(columns={'start time': 'starttime', 'stop time': 'stoptime', 'trip duration': 'tripduration','user type': 'usertype'})"
   ]
  },
  {
   "cell_type": "code",
   "execution_count": 85,
   "metadata": {},
   "outputs": [],
   "source": [
    "feb_raw = feb_raw.rename(columns={'start time': 'starttime', 'stop time': 'stoptime', 'trip duration': 'tripduration','user type': 'usertype'})"
   ]
  },
  {
   "cell_type": "code",
   "execution_count": 86,
   "metadata": {},
   "outputs": [],
   "source": [
    "march_raw = march_raw.rename(columns={'start time': 'starttime', 'stop time': 'stoptime', 'trip duration': 'tripduration','user type': 'usertype'})"
   ]
  },
  {
   "cell_type": "code",
   "execution_count": 87,
   "metadata": {},
   "outputs": [],
   "source": [
    "april_raw = april_raw.rename(columns={'start time': 'starttime', 'stop time': 'stoptime', 'trip duration': 'tripduration','user type': 'usertype'})"
   ]
  },
  {
   "cell_type": "markdown",
   "metadata": {},
   "source": [
    "### Combine all the months together"
   ]
  },
  {
   "cell_type": "markdown",
   "metadata": {},
   "source": [
    "In this step we will combine all of the citibike trip data together. \n",
    "We cleaned and added geoid data of 4months each. "
   ]
  },
  {
   "cell_type": "code",
   "execution_count": 88,
   "metadata": {},
   "outputs": [],
   "source": [
    "frames = [jan_raw,feb_raw, march_raw, april_raw, may_raw, june_raw ,july_raw,august_raw ,sep_raw ,oct_raw,nov_raw,dec_raw]\n",
    "result = pd.concat(frames,ignore_index=True)"
   ]
  },
  {
   "cell_type": "code",
   "execution_count": 89,
   "metadata": {},
   "outputs": [
    {
     "data": {
      "text/plain": [
       "Index(['Unnamed: 0', 'tripduration', 'starttime', 'stoptime',\n",
       "       'start station id', 'start station name', 'end station id',\n",
       "       'end station name', 'usertype', 'birth year', 'gender',\n",
       "       'start_station_geoid', 'end_station_geoid'],\n",
       "      dtype='object')"
      ]
     },
     "execution_count": 89,
     "metadata": {},
     "output_type": "execute_result"
    }
   ],
   "source": [
    "result.columns"
   ]
  },
  {
   "cell_type": "code",
   "execution_count": 93,
   "metadata": {},
   "outputs": [
    {
     "data": {
      "text/plain": [
       "Unnamed: 0                                     NaN\n",
       "tripduration                                   881\n",
       "starttime                      2017-09-29 07:56:25\n",
       "stoptime                       2017-09-29 08:11:06\n",
       "start station id                               NaN\n",
       "start station name           Pershing Square South\n",
       "end station id                                 NaN\n",
       "end station name       Greenwich St & W Houston St\n",
       "usertype                                Subscriber\n",
       "birth year                                    1966\n",
       "gender                                           1\n",
       "start_station_geoid                     3.6061e+10\n",
       "end_station_geoid                       3.6061e+10\n",
       "Name: 10790070, dtype: object"
      ]
     },
     "execution_count": 93,
     "metadata": {},
     "output_type": "execute_result"
    }
   ],
   "source": [
    "result.loc[10790070]"
   ]
  },
  {
   "cell_type": "code",
   "execution_count": 91,
   "metadata": {},
   "outputs": [
    {
     "data": {
      "text/plain": [
       "Unnamed: 0                            238237\n",
       "tripduration                            1004\n",
       "starttime                2017-08-04 19:59:25\n",
       "stoptime                 2017-08-04 20:16:09\n",
       "start station id                         284\n",
       "start station name     Greenwich Ave & 8 Ave\n",
       "end station id                           426\n",
       "end station name       West St & Chambers St\n",
       "usertype                            Customer\n",
       "birth year                               NaN\n",
       "gender                                     0\n",
       "start_station_geoid               3.6061e+10\n",
       "end_station_geoid                 3.6061e+10\n",
       "Name: 8790090, dtype: object"
      ]
     },
     "execution_count": 91,
     "metadata": {},
     "output_type": "execute_result"
    }
   ],
   "source": [
    "result.loc[8790090]"
   ]
  },
  {
   "cell_type": "code",
   "execution_count": 92,
   "metadata": {},
   "outputs": [
    {
     "data": {
      "text/plain": [
       "Unnamed: 0                          100091\n",
       "tripduration                           737\n",
       "starttime              2017-01-05 21:06:47\n",
       "stoptime               2017-01-05 21:19:04\n",
       "start station id                       280\n",
       "start station name         E 10 St & 5 Ave\n",
       "end station id                         394\n",
       "end station name         E 9 St & Avenue C\n",
       "usertype                        Subscriber\n",
       "birth year                            1961\n",
       "gender                                   2\n",
       "start_station_geoid             3.6061e+10\n",
       "end_station_geoid               3.6061e+10\n",
       "Name: 100091, dtype: object"
      ]
     },
     "execution_count": 92,
     "metadata": {},
     "output_type": "execute_result"
    }
   ],
   "source": [
    "result.loc[100091]"
   ]
  },
  {
   "cell_type": "markdown",
   "metadata": {},
   "source": [
    "Because we did the data cleaning separately, we made a mistake in removing the start, end station ids . \n",
    "Fortunately we won't be using them for this project"
   ]
  },
  {
   "cell_type": "markdown",
   "metadata": {},
   "source": [
    "#### Drop start,end station ids"
   ]
  },
  {
   "cell_type": "code",
   "execution_count": 97,
   "metadata": {},
   "outputs": [],
   "source": [
    "result = result.drop(['start station id','end station id'], axis = 1).copy()"
   ]
  },
  {
   "cell_type": "markdown",
   "metadata": {},
   "source": [
    "#### Save to csv  and upload to our google drive"
   ]
  },
  {
   "cell_type": "markdown",
   "metadata": {},
   "source": [
    "Saving the csv file and uploading to google drive so we can use for later"
   ]
  },
  {
   "cell_type": "code",
   "execution_count": 99,
   "metadata": {},
   "outputs": [],
   "source": [
    "final_trip_data = result.to_csv('./final_trip_data.csv')"
   ]
  },
  {
   "cell_type": "code",
   "execution_count": 94,
   "metadata": {},
   "outputs": [
    {
     "data": {
      "text/plain": [
       "Unnamed: 0             float64\n",
       "tripduration             int64\n",
       "starttime               object\n",
       "stoptime                object\n",
       "start station id       float64\n",
       "start station name      object\n",
       "end station id         float64\n",
       "end station name        object\n",
       "usertype                object\n",
       "birth year             float64\n",
       "gender                   int64\n",
       "start_station_geoid    float64\n",
       "end_station_geoid      float64\n",
       "dtype: object"
      ]
     },
     "execution_count": 94,
     "metadata": {},
     "output_type": "execute_result"
    }
   ],
   "source": [
    "result.dtypes"
   ]
  },
  {
   "cell_type": "markdown",
   "metadata": {},
   "source": [
    "These are the datatypes of the columns"
   ]
  }
 ],
 "metadata": {
  "kernelspec": {
   "display_name": "Python 3",
   "language": "python",
   "name": "python3"
  },
  "language_info": {
   "codemirror_mode": {
    "name": "ipython",
    "version": 3
   },
   "file_extension": ".py",
   "mimetype": "text/x-python",
   "name": "python",
   "nbconvert_exporter": "python",
   "pygments_lexer": "ipython3",
   "version": "3.8.5"
  }
 },
 "nbformat": 4,
 "nbformat_minor": 4
}
