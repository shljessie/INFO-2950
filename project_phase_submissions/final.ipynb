{
 "cells": [
  {
   "cell_type": "markdown",
   "metadata": {},
   "source": [
    "# Project Phase 5: Citibike Distribution in NYC\n",
    "\n",
    "<img src=\"../../e.png\" width=\"1000\" height=\"60\"></img>\n",
    "\n",
    "This project aims to answer the question **How is citibike representing NYC demographics? (in 2017)**. \n",
    "\n",
    "#### Team Members \n",
    "- Seonghee Lee (sl994) \n",
    "- Nicholas Rahardja (nmr73)\n",
    "- Chelsea Choi (cc2583)\n",
    "\n",
    "#### Team Github\n",
    "- https://github.com/shljessie/citibike-nyc\n",
    "\n",
    "#### Team Raw Data Google Drive \n",
    "- https://drive.google.com/drive/folders/197_d1BwPHXmVuyKA6I7UEyEw4Nqo8dAk \n",
    "\n",
    "#### Team Final Data Google Drive \n",
    "- https://drive.google.com/drive/folders/1glgD5ly1ABej2GDXzc-iUMjpu4HkItwa?usp=sharing\n",
    "<br/> \n",
    "\n",
    "_______________"
   ]
  },
  {
   "cell_type": "markdown",
   "metadata": {},
   "source": [
    "\n",
    "## Contents of this Notebook\n",
    "\n",
    "1. Introduction\n",
    "2. Data Description \n",
    "3. Pre Registration Statement \n",
    "4. Data Analysis \n",
    "5. Evaluation of Significance \n",
    "   a1 = permutation \n",
    "6. Interpretation and Conclusion\n",
    "7. Limitations \n",
    "8. Source Code\n",
    "9. Acknowledgement \n",
    "10. Appendix \n",
    "<br/> \n",
    "\n",
    "wed --> seonghee\n",
    "thurs --> chelsea\n",
    "fri --> nicholas\n",
    "\n",
    "- next week\n",
    ": check with TA or prof \n",
    ": add more text, proofread\n",
    ": go through rubric\n",
    "\n",
    "sat 1pm kst\n",
    "_______________"
   ]
  },
  {
   "cell_type": "markdown",
   "metadata": {},
   "source": [
    "## 1) Introduction\n",
    "\n",
    "1. Context of Work\n",
    "2. Research Question\n",
    "3. Main Findings\n",
    "4. Summary of Results"
   ]
  },
  {
   "cell_type": "markdown",
   "metadata": {},
   "source": [
    "\n",
    "#### 1. Context of Work\n",
    "\n",
    "Bike Sharing comes with many benefits such as providing free or affordable access to bicycles for short-distance trips. By doing so in an urban area, this reduces congestion, noise, and air pollution. \n",
    "\n",
    "However **whether or not these bike sharing systems are truly accessible for all is questionable.** Since the accessibility of these bike sharing systems depend heavily on where the stations are located, it is very likely that where you live becomes the deciding factor in whether or not you will be able to use these bikes. In addition to this, other factors such as the condition of roads and price of usage may be factors that prohibit people from actively using citibikes.\n",
    "\n",
    "In coming up with our research question, we looked at many research papers on bike sharing system equity. \n",
    "For example, a [study done by Portland State University](https://trec.pdx.edu/research/project/884) suggests that significant portions of the population are underrepresented among bike share users, including people of color, along with lower-income, female, older adults and less-educated groups. An [article in 2017](https://usa.streetsblog.org/2017/07/05/whats-keeping-people-from-using-bike-share-new-study-breaks-it-down-by-race-and-income/) finds that this may be due to the fact that these low-income communities and people of color view traffic risk, high prices, and the potential for crime and harassment as the biggest barriers to bicycling and using bike-share in their neighborhoods. There has also been [data visualization research at MIT](https://aberke.github.io/income-race-bikes/) about how bikes are being distributed in NYC throughout the years in accordance to race&income.\n",
    "\n",
    "In this project, we are looking closer into how these findings on bike sharing this applies to New York City. We have chosen to look at citibike. In this project, **we look into how citibike stations are distributed in NYC** and how that relates to the following factors: 1) race&income and  2) citibike usage. Are there more stations in areas of higher usage regardless of race and income? Does race and income seem to have an unignorable correlation with how citibike stations are being distributed? How much of these factors play into the distribution of citibike? How might citibike station distribution be improved? These are the questions we will ask and attempt to answer throughout this project.\n",
    " \n",
    "Through gaining insight on how citibike stations are distributed in NYC, we will attempt to gain insight into what NYC can do to improve the distribution of citibike to reflect the race/income and usage demographics. \n",
    "\n",
    "#### 2. Research Question\n",
    "\n",
    "How is citibike representing NYC demographics? (in 2017).\n",
    "\n",
    "Here **NYC demographics** will refer to **Race&Income of NYC** and the **usages of citibike trips**.\n",
    "\n",
    "On the other hand, **citibike representation** will refer to the the distribution of stations and distribution of usage.\n",
    "\n",
    "#### 3. Project Design + Limitations \n",
    "\n",
    "We are specificially looking at **NYC citibike trip data in 2017 as a sample** of the representation of NYC bike stations around New York. We chose New York City's citibike system since New York City is an area where there are widely varying levels of income. \n",
    "We chose 2017 for two reasons,    1) NYC's race and income data was available for the years 2013 -2018 and 2) 2017 was a year when many new stations of citibike where added to represent its overall usage.\n",
    "We decided that 2017 would be a fair representation of how citibike stations were distributed throughout NYC.\n",
    "\n",
    "We chose geoid as our standard for breaking up NYC into different geographical areas, since a geoid is the unique indentifier for a census tract, and a census tract is the smallest geographic region which the US goverment collects race and income data on during its annual Census. A census tract is roughly equivealnt to a neighborhood, and they generally encompass a population between 2500 to 8000 people. \n",
    "<a href=\"https://popfactfinder.planning.nyc.gov/#11.77/40.7438/-73.99\">This link </a> has more information on geoids and the visual size of them on a map.\n",
    "\n",
    "#### 4. Main Findings\n",
    "We found that as of 2017, Citibike has primarily placed bike stations in areas that are predominantly white and wealthy. In doing so, Citibike has neglected to account for the needs of predominantly asian and black neighborhoods in NYC.\n",
    "\n",
    "#### 5. Summary of Results\n",
    "- We found that census tracts with a high number of stations actually had a lower number of trips. \n",
    "- We found that white and high income areas had a high number of stations\n",
    "- We found that white areas have a high number of stations to meet demand\n",
    "- We found that asian and black neighborhoods do not have enough stations to meet their current demand.\n",
    "<br/> \n",
    "\n",
    "_______________"
   ]
  },
  {
   "cell_type": "code",
   "execution_count": 31,
   "metadata": {},
   "outputs": [],
   "source": [
    "import pandas as pd \n",
    "import numpy as np \n",
    "import seaborn as sns \n",
    "import matplotlib.pyplot as plt \n",
    "import datetime as dt\n",
    "from sklearn.linear_model import LinearRegression\n",
    "from sklearn.linear_model import LogisticRegression\n",
    "from sklearn.metrics import r2_score"
   ]
  },
  {
   "cell_type": "markdown",
   "metadata": {},
   "source": [
    "## 2) Data Description \n",
    "\n",
    "For this project we used 3 different data sets. \n",
    "1. Citibike Trip Data\n",
    "2. Citibike Station Data\n",
    "3. NYC Race and Income Data\n",
    "\n",
    "The data cleaning process of these data are <a href=\"https://github.com/shljessie/citibike-nyc/tree/master/data_cleaning\">linked here</a>"
   ]
  },
  {
   "cell_type": "markdown",
   "metadata": {},
   "source": [
    "### Dataset 1: Citibike Trip Data"
   ]
  },
  {
   "cell_type": "code",
   "execution_count": 32,
   "metadata": {},
   "outputs": [
    {
     "name": "stdout",
     "output_type": "stream",
     "text": [
      "Number of Rows: 14049057\n",
      "Number of Columns: 9\n"
     ]
    },
    {
     "data": {
      "text/html": [
       "<div>\n",
       "<style scoped>\n",
       "    .dataframe tbody tr th:only-of-type {\n",
       "        vertical-align: middle;\n",
       "    }\n",
       "\n",
       "    .dataframe tbody tr th {\n",
       "        vertical-align: top;\n",
       "    }\n",
       "\n",
       "    .dataframe thead th {\n",
       "        text-align: right;\n",
       "    }\n",
       "</style>\n",
       "<table border=\"1\" class=\"dataframe\">\n",
       "  <thead>\n",
       "    <tr style=\"text-align: right;\">\n",
       "      <th></th>\n",
       "      <th>start_time</th>\n",
       "      <th>stop_time</th>\n",
       "      <th>start_station_name</th>\n",
       "      <th>end_station_name</th>\n",
       "      <th>birth_year</th>\n",
       "      <th>gender</th>\n",
       "      <th>start_station_geoid</th>\n",
       "      <th>end_station_geoid</th>\n",
       "      <th>trip_minutes</th>\n",
       "    </tr>\n",
       "  </thead>\n",
       "  <tbody>\n",
       "    <tr>\n",
       "      <th>0</th>\n",
       "      <td>2017-01-01 00:00:21</td>\n",
       "      <td>2017-01-01 00:11:41</td>\n",
       "      <td>W 82 St &amp; Central Park West</td>\n",
       "      <td>Central Park West &amp; W 72 St</td>\n",
       "      <td>1965.0</td>\n",
       "      <td>2</td>\n",
       "      <td>3.606102e+10</td>\n",
       "      <td>3.606101e+10</td>\n",
       "      <td>11</td>\n",
       "    </tr>\n",
       "    <tr>\n",
       "      <th>1</th>\n",
       "      <td>2017-01-01 00:00:45</td>\n",
       "      <td>2017-01-01 00:22:08</td>\n",
       "      <td>Cooper Square &amp; E 7 St</td>\n",
       "      <td>Broadway &amp; W 32 St</td>\n",
       "      <td>1987.0</td>\n",
       "      <td>2</td>\n",
       "      <td>3.606100e+10</td>\n",
       "      <td>3.606101e+10</td>\n",
       "      <td>21</td>\n",
       "    </tr>\n",
       "    <tr>\n",
       "      <th>2</th>\n",
       "      <td>2017-01-01 00:05:00</td>\n",
       "      <td>2017-01-01 00:14:20</td>\n",
       "      <td>Broadway &amp; W 60 St</td>\n",
       "      <td>9 Ave &amp; W 45 St</td>\n",
       "      <td>1973.0</td>\n",
       "      <td>1</td>\n",
       "      <td>3.606101e+10</td>\n",
       "      <td>3.606101e+10</td>\n",
       "      <td>9</td>\n",
       "    </tr>\n",
       "    <tr>\n",
       "      <th>3</th>\n",
       "      <td>2017-01-01 00:05:37</td>\n",
       "      <td>2017-01-01 00:19:24</td>\n",
       "      <td>Broadway &amp; W 37 St</td>\n",
       "      <td>E 10 St &amp; Avenue A</td>\n",
       "      <td>1977.0</td>\n",
       "      <td>2</td>\n",
       "      <td>3.606101e+10</td>\n",
       "      <td>3.606100e+10</td>\n",
       "      <td>13</td>\n",
       "    </tr>\n",
       "    <tr>\n",
       "      <th>4</th>\n",
       "      <td>2017-01-01 00:05:47</td>\n",
       "      <td>2017-01-01 00:10:02</td>\n",
       "      <td>York St &amp; Jay St</td>\n",
       "      <td>Carlton Ave &amp; Flushing Ave</td>\n",
       "      <td>1989.0</td>\n",
       "      <td>1</td>\n",
       "      <td>3.604700e+10</td>\n",
       "      <td>3.604702e+10</td>\n",
       "      <td>4</td>\n",
       "    </tr>\n",
       "  </tbody>\n",
       "</table>\n",
       "</div>"
      ],
      "text/plain": [
       "            start_time            stop_time           start_station_name  \\\n",
       "0  2017-01-01 00:00:21  2017-01-01 00:11:41  W 82 St & Central Park West   \n",
       "1  2017-01-01 00:00:45  2017-01-01 00:22:08       Cooper Square & E 7 St   \n",
       "2  2017-01-01 00:05:00  2017-01-01 00:14:20           Broadway & W 60 St   \n",
       "3  2017-01-01 00:05:37  2017-01-01 00:19:24           Broadway & W 37 St   \n",
       "4  2017-01-01 00:05:47  2017-01-01 00:10:02             York St & Jay St   \n",
       "\n",
       "              end_station_name  birth_year  gender  start_station_geoid  \\\n",
       "0  Central Park West & W 72 St      1965.0       2         3.606102e+10   \n",
       "1           Broadway & W 32 St      1987.0       2         3.606100e+10   \n",
       "2              9 Ave & W 45 St      1973.0       1         3.606101e+10   \n",
       "3           E 10 St & Avenue A      1977.0       2         3.606101e+10   \n",
       "4   Carlton Ave & Flushing Ave      1989.0       1         3.604700e+10   \n",
       "\n",
       "   end_station_geoid  trip_minutes  \n",
       "0       3.606101e+10            11  \n",
       "1       3.606101e+10            21  \n",
       "2       3.606101e+10             9  \n",
       "3       3.606100e+10            13  \n",
       "4       3.604702e+10             4  "
      ]
     },
     "execution_count": 32,
     "metadata": {},
     "output_type": "execute_result"
    }
   ],
   "source": [
    "trips_df = pd.read_csv('../data/citibike_trip_final.csv')\n",
    "print('Number of Rows: {}'.format(trips_df.shape[0]))\n",
    "print('Number of Columns: {}'.format(trips_df.shape[1]))\n",
    "trips_df.head()"
   ]
  },
  {
   "cell_type": "markdown",
   "metadata": {},
   "source": [
    "##### 1. What are the observations (rows) and the attributes (columns)?\n",
    "Each observation in this data set corresponds to a trip taken on Citibike in 2017. The following are the features that are recorded for each trip: \n",
    "- start_time: Datetime object for the start time and date of the trip\n",
    "- stop_time: Datetime object for the end time and date of the trip\n",
    "- start_station_name: Name of starting station of the trip, a string\n",
    "- end_station_name: Name of ending station of the trip, a string\n",
    "- birth_year: Year user was born, an integer\n",
    "- gender: (Zero=unknown; 1=male; 2=female)\n",
    "- trip_minutes: Duration of the trip in minutes, an integer\n",
    "- start_station_geoid: Unique identifier for the census tract that the trip started in, an integer\n",
    "- end_station_geoid: Unique identifier for the census tract that the trip ended in, an integer. \n",
    "\n",
    "##### 2. Why was this dataset created?\n",
    "\n",
    "This dataset was created to help developers, engineers, statisticians, artists, academics and the local public to explore the usage of citi bike around New York City. Insights from these findings would help citibike officials find answers to questions like where citibike users ride, how far they go,and what stations are the most popular. It is an open dataset on the public bike sharing system of New York City. It is open to the public to help people find insights about this system.\n",
    "\n",
    "##### 3. Who funded the creation of the dataset?\n",
    "\n",
    "This citibike data was funded by citibike in New York. Lyft is the operator of the Citi Bike program in New York City and Jersey City. The raw dataset was collected from this source https://www.citibikenyc.com/system-data \n",
    "\n",
    "##### 4.What processes might have influenced what data was observed and recorded and what was not?\n",
    "\n",
    "Trips that may have been taken by staff who are managing citibike throughout the city are not good representations of citibikes trips by users only. Bikes may have been relocated overnight so that the distribution of bikes around the city are evenly distributed. Also bikes that may have been broken may lead to a loss of data.  Also citibike usage trip data is not a complete representation of all bike rider data in New York. \n",
    "\n",
    "##### 5. What preprocessing was done, and how did the data come to be in the form that you are using?\n",
    "\n",
    "We dropped columns that we would not be using in our analysis, and also removed rows that had NaN values in them. Furthermore, since the original trips dataset was very large we chose to only consider trips taken by users who are citibike subscribers, in order to reduce the size of the dataset. Deciding to only keep trip data for subscribers also makes sense since, more then 90% of the original trips were taken by subscribers, so removing trips taken by non-subscribers (tourists and onetime users) should not have resulted in any significant loss of data. We have also dropped trips that were over 3 hours. The reason for this is because we wanted to be looking at regular users of citibike. If you keep a bike out for longer than 30 minutes at a time, regardless of the type, it's $0.18 per minute. According to citibike website in 2017 (https://www.citibikenyc.com/pricing/single-ride). Therefore using a citibike for unreasonably long hours of time even if you are a subscriber would be unreasonable since you are being charged. For this analysis we decided to set 3 hours as the limit to a reasonable amount of time,  a person who regularly uses a citibike would ride.  The original table has spaces in its column names, so we decided to change these with underscores to make the more friendly for computation. \n",
    "\n",
    "##### 6. If people are involved, were they aware of the data collection and if so, what purpose did they expect the data to be used for?\n",
    "\n",
    "In signing up for using citibike, these users are allowing for citibike to take data of their usage. \n",
    "Citibike releases information about the user’s ride and trip duration  including their start station, usertype(Subscriber, one time user), gender, and year of birth. Citibike plans on using this data to understand citi bike users and the overall trend of citi bike users in new york city. Though many citibike users might not have been aware of this, they could have assumed that the data was collected to understand the citibike users for business related reasons.\n",
    "\n",
    "##### 7. Where can your raw source data be found, if applicable? Provide a link to the raw data (hosted in a Cornell Google Drive or Cornell Box). \n",
    "\n",
    "https://drive.google.com/drive/folders/11YUr4yiiFKCNlN2MnGPGpCeXyrq92A0Z?usp=sharing\n",
    "\n"
   ]
  },
  {
   "cell_type": "markdown",
   "metadata": {},
   "source": [
    "### Dataset 2 : Citibike Stations Data"
   ]
  },
  {
   "cell_type": "code",
   "execution_count": 33,
   "metadata": {},
   "outputs": [
    {
     "name": "stdout",
     "output_type": "stream",
     "text": [
      "Number of Rows: 839\n",
      "Number of Columns: 10\n"
     ]
    },
    {
     "data": {
      "text/html": [
       "<div>\n",
       "<style scoped>\n",
       "    .dataframe tbody tr th:only-of-type {\n",
       "        vertical-align: middle;\n",
       "    }\n",
       "\n",
       "    .dataframe tbody tr th {\n",
       "        vertical-align: top;\n",
       "    }\n",
       "\n",
       "    .dataframe thead th {\n",
       "        text-align: right;\n",
       "    }\n",
       "</style>\n",
       "<table border=\"1\" class=\"dataframe\">\n",
       "  <thead>\n",
       "    <tr style=\"text-align: right;\">\n",
       "      <th></th>\n",
       "      <th>station_id</th>\n",
       "      <th>station_name</th>\n",
       "      <th>lat</th>\n",
       "      <th>lon</th>\n",
       "      <th>first_trip</th>\n",
       "      <th>last_trip</th>\n",
       "      <th>geoid</th>\n",
       "      <th>trips_starting_here_2017</th>\n",
       "      <th>trips_ending_here_2017</th>\n",
       "      <th>total_trips_2017</th>\n",
       "    </tr>\n",
       "  </thead>\n",
       "  <tbody>\n",
       "    <tr>\n",
       "      <th>0</th>\n",
       "      <td>254.0</td>\n",
       "      <td>W 11 St &amp; 6 Ave</td>\n",
       "      <td>40.735324</td>\n",
       "      <td>-73.998004</td>\n",
       "      <td>2013-06-01</td>\n",
       "      <td>2019-07-31</td>\n",
       "      <td>36061006300</td>\n",
       "      <td>141183</td>\n",
       "      <td>143935</td>\n",
       "      <td>285118</td>\n",
       "    </tr>\n",
       "    <tr>\n",
       "      <th>1</th>\n",
       "      <td>252.0</td>\n",
       "      <td>MacDougal St &amp; Washington Sq</td>\n",
       "      <td>40.732264</td>\n",
       "      <td>-73.998522</td>\n",
       "      <td>2013-06-01</td>\n",
       "      <td>2019-07-31</td>\n",
       "      <td>36061006300</td>\n",
       "      <td>141183</td>\n",
       "      <td>143935</td>\n",
       "      <td>285118</td>\n",
       "    </tr>\n",
       "    <tr>\n",
       "      <th>2</th>\n",
       "      <td>253.0</td>\n",
       "      <td>W 13 St &amp; 5 Ave</td>\n",
       "      <td>40.735439</td>\n",
       "      <td>-73.994539</td>\n",
       "      <td>2013-06-01</td>\n",
       "      <td>2018-10-31</td>\n",
       "      <td>36061006300</td>\n",
       "      <td>141183</td>\n",
       "      <td>143935</td>\n",
       "      <td>285118</td>\n",
       "    </tr>\n",
       "    <tr>\n",
       "      <th>3</th>\n",
       "      <td>345.0</td>\n",
       "      <td>W 13 St &amp; 6 Ave</td>\n",
       "      <td>40.736494</td>\n",
       "      <td>-73.997044</td>\n",
       "      <td>2013-06-01</td>\n",
       "      <td>2018-10-31</td>\n",
       "      <td>36061006300</td>\n",
       "      <td>141183</td>\n",
       "      <td>143935</td>\n",
       "      <td>285118</td>\n",
       "    </tr>\n",
       "    <tr>\n",
       "      <th>4</th>\n",
       "      <td>151.0</td>\n",
       "      <td>Cleveland Pl &amp; Spring St</td>\n",
       "      <td>40.721816</td>\n",
       "      <td>-73.997203</td>\n",
       "      <td>2013-06-01</td>\n",
       "      <td>2019-07-31</td>\n",
       "      <td>36061004100</td>\n",
       "      <td>121704</td>\n",
       "      <td>118537</td>\n",
       "      <td>240241</td>\n",
       "    </tr>\n",
       "  </tbody>\n",
       "</table>\n",
       "</div>"
      ],
      "text/plain": [
       "   station_id                  station_name        lat        lon  first_trip  \\\n",
       "0       254.0               W 11 St & 6 Ave  40.735324 -73.998004  2013-06-01   \n",
       "1       252.0  MacDougal St & Washington Sq  40.732264 -73.998522  2013-06-01   \n",
       "2       253.0               W 13 St & 5 Ave  40.735439 -73.994539  2013-06-01   \n",
       "3       345.0               W 13 St & 6 Ave  40.736494 -73.997044  2013-06-01   \n",
       "4       151.0      Cleveland Pl & Spring St  40.721816 -73.997203  2013-06-01   \n",
       "\n",
       "    last_trip        geoid  trips_starting_here_2017  trips_ending_here_2017  \\\n",
       "0  2019-07-31  36061006300                    141183                  143935   \n",
       "1  2019-07-31  36061006300                    141183                  143935   \n",
       "2  2018-10-31  36061006300                    141183                  143935   \n",
       "3  2018-10-31  36061006300                    141183                  143935   \n",
       "4  2019-07-31  36061004100                    121704                  118537   \n",
       "\n",
       "   total_trips_2017  \n",
       "0            285118  \n",
       "1            285118  \n",
       "2            285118  \n",
       "3            285118  \n",
       "4            240241  "
      ]
     },
     "execution_count": 33,
     "metadata": {},
     "output_type": "execute_result"
    }
   ],
   "source": [
    "stations_df = pd.read_csv('../data/citibike_stations_final.csv')\n",
    "print('Number of Rows: {}'.format(stations_df.shape[0]))\n",
    "print('Number of Columns: {}'.format(stations_df.shape[1]))\n",
    "stations_df.head()"
   ]
  },
  {
   "cell_type": "markdown",
   "metadata": {},
   "source": [
    "##### 1. What are the observations (rows) and the attributes (columns)?\n",
    "\n",
    "Each observation in this data set corresponds to a unique Citi Bike station in NYC. The following are the features for each station that is collected in this dataset: \n",
    "\n",
    "- station_id: Unique identifier for a station, an integer\n",
    "- station_name: Name of the station, a string \n",
    "- lat: Latitude of the station, a float\n",
    "- lon: Longitude of the station, a float \n",
    "- first_trip: Date of the first trip ever taken from the station, DateTime object \n",
    "- last_trip: Date of the last trip taken from the station (at the time this data set was downloaded), DateTime object\n",
    "- geoid: Unique identifier for the NYC census tract that the station is located in, an integer \n",
    "- trips_starting_here_2017: number of trips taken from this station in 2017, an integer \n",
    "- trips_ending_here_2017: number of trips ending at this station in 2017, an integer\n",
    "- total_trips_2017: total number of trips taken to and from this station in 2017, an integer\n",
    "\n",
    "##### 2. Why was this dataset created?\n",
    "\n",
    "The base dataset for this table came from the same source as the Citbike trip data set described above. However, more processing was done to this data to obtain this station dataset by a team of MIT researchers who were trying to map out the locations of Citi Bike stations in NYC for their research purposes. \n",
    "\n",
    "##### 3. Who funded the creation of the dataset?\n",
    "\n",
    "This table uses as its base table the Cibike trip data set that was funded by citibike in New York. However, the processing that was done to this raw citi bike data was done by MIT researchers, so it can be assumed that MIT indirectly funded the creation of this Citibike trip data set. MIT Media Lab research: https://github.com/aberke/income-race-bikes/tree/master/data/nyc-bike\n",
    "\n",
    "\n",
    "##### 4.What processes might have influenced what data was observed and recorded and what was not?\n",
    "\n",
    "A small number of stations are located on the boundary between two census tracts, in which case we decided to select the first census tract returned by the API. \n",
    "\n",
    "##### 5. What preprocessing was done, and how did the data come to be in the form that you are using?\n",
    "\n",
    "The original citibike station data, was already well formatted, but did not include the geoid which we needed to identify, which geographic location does the station belong to. To obtain this geoid for each station, we used an API to obtain the geoid corresponding to the census tract that the station is located in. Next since our project focuses on 2017, we removed all stations that had its first trip after 2017 since this means that these stations were made after 2017, and thus are not relevant to our analysis. Furthermore, the original dataset had the number of trips from each station calculated up to 2019, thus we removed this column and used the trip dataset to calculate the number of trips taken to and from each station in 2017. We also renamed a few columns to make their names more intuitive such as renaming ‘id’ to ‘station_id’ and ‘name’ to ‘station_name’. \n",
    "Currently this station dataset doesn't exclude stations that are located in parks. But when we use this data alongside the race/income data of NYC the geoids of the parks (so the stations that are located in parks)are naturally removed because the census data of race/income does not look at a census of a park. \n",
    "\n",
    "##### 6. If people are involved, were they aware of the data collection and if so, what purpose did they expect the data to be used for?\n",
    "\n",
    "Since this data set is derived from the citi bike trips dataset, citi bike users were made aware that citibike would be tracking their usage data, when users signed up for the application. \n",
    "\n",
    "The expected usage of this data is the same as for the Citi Bike trip data above. \n",
    "\n",
    "\n",
    "##### 7. Where can your raw source data be found, if applicable? Provide a link to the raw data (hosted in a Cornell Google Drive or Cornell Box). \n",
    "\n",
    "https://drive.google.com/file/d/1pATvzg-PTpPvs_8x5pKIs_jqlbKrWyat/view?usp=sharing\n"
   ]
  },
  {
   "cell_type": "markdown",
   "metadata": {},
   "source": [
    "### Dataset 3 : NYC Race and Income Data in 2017"
   ]
  },
  {
   "cell_type": "code",
   "execution_count": 34,
   "metadata": {},
   "outputs": [
    {
     "name": "stdout",
     "output_type": "stream",
     "text": [
      "Number of Rows: 4787\n",
      "Number of Columns: 8\n"
     ]
    },
    {
     "data": {
      "text/html": [
       "<div>\n",
       "<style scoped>\n",
       "    .dataframe tbody tr th:only-of-type {\n",
       "        vertical-align: middle;\n",
       "    }\n",
       "\n",
       "    .dataframe tbody tr th {\n",
       "        vertical-align: top;\n",
       "    }\n",
       "\n",
       "    .dataframe thead th {\n",
       "        text-align: right;\n",
       "    }\n",
       "</style>\n",
       "<table border=\"1\" class=\"dataframe\">\n",
       "  <thead>\n",
       "    <tr style=\"text-align: right;\">\n",
       "      <th></th>\n",
       "      <th>geoid</th>\n",
       "      <th>2017_median_income</th>\n",
       "      <th>2017_population</th>\n",
       "      <th>2017_white_population</th>\n",
       "      <th>2017_black_population</th>\n",
       "      <th>2017_asian_population</th>\n",
       "      <th>2017_other_population</th>\n",
       "      <th>2017_2_or_more_races</th>\n",
       "    </tr>\n",
       "  </thead>\n",
       "  <tbody>\n",
       "    <tr>\n",
       "      <th>0</th>\n",
       "      <td>36001000100</td>\n",
       "      <td>27250</td>\n",
       "      <td>1939</td>\n",
       "      <td>502</td>\n",
       "      <td>1142</td>\n",
       "      <td>16</td>\n",
       "      <td>112</td>\n",
       "      <td>167</td>\n",
       "    </tr>\n",
       "    <tr>\n",
       "      <th>1</th>\n",
       "      <td>36001000200</td>\n",
       "      <td>24091</td>\n",
       "      <td>4731</td>\n",
       "      <td>710</td>\n",
       "      <td>3474</td>\n",
       "      <td>104</td>\n",
       "      <td>32</td>\n",
       "      <td>411</td>\n",
       "    </tr>\n",
       "    <tr>\n",
       "      <th>2</th>\n",
       "      <td>36001000300</td>\n",
       "      <td>33454</td>\n",
       "      <td>5558</td>\n",
       "      <td>2589</td>\n",
       "      <td>1539</td>\n",
       "      <td>559</td>\n",
       "      <td>291</td>\n",
       "      <td>580</td>\n",
       "    </tr>\n",
       "    <tr>\n",
       "      <th>3</th>\n",
       "      <td>36001000401</td>\n",
       "      <td>74255</td>\n",
       "      <td>2459</td>\n",
       "      <td>2183</td>\n",
       "      <td>131</td>\n",
       "      <td>92</td>\n",
       "      <td>28</td>\n",
       "      <td>25</td>\n",
       "    </tr>\n",
       "    <tr>\n",
       "      <th>4</th>\n",
       "      <td>36001000403</td>\n",
       "      <td>70815</td>\n",
       "      <td>4695</td>\n",
       "      <td>3256</td>\n",
       "      <td>714</td>\n",
       "      <td>416</td>\n",
       "      <td>79</td>\n",
       "      <td>230</td>\n",
       "    </tr>\n",
       "  </tbody>\n",
       "</table>\n",
       "</div>"
      ],
      "text/plain": [
       "         geoid  2017_median_income  2017_population  2017_white_population  \\\n",
       "0  36001000100               27250             1939                    502   \n",
       "1  36001000200               24091             4731                    710   \n",
       "2  36001000300               33454             5558                   2589   \n",
       "3  36001000401               74255             2459                   2183   \n",
       "4  36001000403               70815             4695                   3256   \n",
       "\n",
       "   2017_black_population  2017_asian_population  2017_other_population  \\\n",
       "0                   1142                     16                    112   \n",
       "1                   3474                    104                     32   \n",
       "2                   1539                    559                    291   \n",
       "3                    131                     92                     28   \n",
       "4                    714                    416                     79   \n",
       "\n",
       "   2017_2_or_more_races  \n",
       "0                   167  \n",
       "1                   411  \n",
       "2                   580  \n",
       "3                    25  \n",
       "4                   230  "
      ]
     },
     "execution_count": 34,
     "metadata": {},
     "output_type": "execute_result"
    }
   ],
   "source": [
    "race_income_df = pd.read_csv('../data/race_and_income_final.csv')\n",
    "print('Number of Rows: {}'.format(race_income_df.shape[0]))\n",
    "print('Number of Columns: {}'.format(race_income_df.shape[1]))\n",
    "race_income_df.head()"
   ]
  },
  {
   "cell_type": "markdown",
   "metadata": {},
   "source": [
    "##### 1. What are the observations (rows) and the attributes (columns)?\n",
    "\n",
    "Each observation in this data set corresponds to a different census tract in NYC. A census tract is the smallest geographical area, defined by the US goverment, which census data is collected on. For each census tract the following are the attributes in the dataset. \n",
    "\n",
    "- geoid: Unique identifier for the census tract that the station is located in, an integer \n",
    "- 2017_median_income: Median income (dollars) in the census tract in 2017, an integer\n",
    "- 2017_population: Total population in the census tract in 2017, an integer\n",
    "- 2017_white_population: Total number of White individuals in the census tract, an integer\n",
    "- 2017_black_population: Total number of Black individuals in the census tract, an integer\n",
    "- 2017_asian_population: Total number of Asian individuals in the census tract, an integer\n",
    "- 2017_2_or_more_races : Total number of individuals who identify as two or more races in the census tract, an integer\n",
    "\n",
    "##### 2. Why was this dataset created?\n",
    "\n",
    "This dataset was created in order to study the census tract data along with the associated race and income in that tract from 2017. This was done by extracting the household median income and household race from the American Community Survey. \n",
    "\n",
    "##### 3. Who funded the creation of the dataset?\n",
    "\n",
    "This data was created and funded by the United States Census bureau. ACS: https://data.census.gov/cedsci/The creation of this dataset was funded by the MIT Media Lab. MIT Media Lab : https://github.com/aberke/income-race-bikes/blob/master/data/ny/race_and_income_data.csv.\n",
    "\n",
    "##### 4. What processes might have influenced what data was observed and recorded and what was not?\n",
    "\n",
    "The American Community Survey’s data collection process is performed by randomly selecting 3.5 million addresses to reply to the survey in order to represent the entire population. Because this survey is limited to those with addresses, there may be households and individuals who are not recorded in the census. For example, the homeless population is difficult to track and therefore could influence the data as well. \n",
    "\n",
    "##### 5. What preprocessing was done, and how did the data come to be in the form that you are using?\n",
    "Because the original data from the American Community Survey was downloaded as a shapefile, the data had to be extracted and transformed into a dataframe. After extracting the race, income, and renaming the columns, the data set was created. \n",
    "\n",
    "Next, we dropped rows where the median income was missing or had NaN values. Furthermore for census tracts that had median income values of '$250,000+' we changed the median income value to '250,000' so that they can be treated as a numeric value. Laslty, we only kept the race and income data for 2017 and dropped all the other columns which correspond to the other years. \n",
    "\n",
    "##### 6. If people are involved, were they aware of the data collection and if so, what purpose did they expect the data to be used for?\n",
    "The individuals contacted were aware of the data collection. In the constitution, it states that a census must be taken every 10 years. People likely understand the main purpose of the census as determining where federal and state funding should be spent. Moreover, their data is protected from being shared and used by any other government agency. \n",
    "\n",
    "##### 7. Where can your raw source data be found, if applicable? Provide a link to the raw data (hosted in a Cornell Google Drive or Cornell Box). \n",
    "https://drive.google.com/file/d/1obfrrDul07XDXEvyK6kf-N66_2K5-g88/view?usp=sharing\n",
    "<br> \n",
    "\n",
    "_________"
   ]
  },
  {
   "cell_type": "markdown",
   "metadata": {},
   "source": [
    "## 3) Preregistration Statement "
   ]
  },
  {
   "cell_type": "markdown",
   "metadata": {},
   "source": [
    "#### Research Question: How is citibike representing NYC demographics?\n",
    "\n",
    ">In our research question NYC demographics refers to  **1) the usage of citibike** and **2) the race and income of NYC**\n",
    "\n",
    "\n",
    "#### Analysis 1: What is the relationship between Citibike trips and number of stations in a census tract?\n",
    "\n",
    ">This analysis idea is intended to explore the relationship between citibike usage (trips) and the number of stations in a geoid. Here we are mainly attempting to answer the question **\"Are there more stations in areas of higher usage?\"**\n",
    "We will check through graphs to explore what the relationship between trips and stations look like and confirm the relationship/absence of a relationship through **Linear Regression** and statistical findings.\n",
    "Additionally we will be looking more closely at geoids with many stations but low amount of trips to see what may have caused an increased amount of stations in those areas.\n",
    "\n",
    "       \n",
    "#### Analysis 2: How is station placement by geoid representing NYC race & income demographics? (Stations vs Race/Income) \n",
    "\n",
    ">To further our understanding of whether citibike is fairly distributing its stations, we will look into whether the race and income of a census tract has a relationship with the number of stations located in the area.\n",
    "\n",
    "- Look into the anomalies from analysis 1 (areas with high demand and low station and vice versa). \n",
    "- Look into which race and income level is the most well represented by citibike stations and which ones are the least well represented. \n",
    "- Look into which race and income level has the highest amount of citibike trips and which ones use citibikes the least. Compare this with the distribution of stations between the same categories. \n",
    "- Use **multivariable regression** to see how strongly race and income plays a role in determining the number of stations in a given census tract. Does the coefficients of the model align with what we expected? \n",
    "\n",
    "\n",
    "##### Additional Analysis\n",
    "\n",
    "- \n",
    "\n"
   ]
  },
  {
   "cell_type": "markdown",
   "metadata": {},
   "source": [
    "## 4) Data Analysis "
   ]
  },
  {
   "cell_type": "markdown",
   "metadata": {},
   "source": [
    "### Analysis 1: What is the relationship between Citibike trips and number of stations in a census tract?\n",
    "\n",
    ">##### Trips vs Number of Stations in a Census Tract\n",
    "We first want to look into whether citibike stations are distributed mainly based on demand. Here we start off by understanding the relationship between citibike trips and the number of stations in a census tract."
   ]
  },
  {
   "cell_type": "markdown",
   "metadata": {},
   "source": [
    "\n",
    "In the code below we show the process of grouping the stations by geoid, and linking the number of trips taken at each of the stations."
   ]
  },
  {
   "cell_type": "markdown",
   "metadata": {},
   "source": [
    "#### Trips and Stations by Geoid"
   ]
  },
  {
   "cell_type": "code",
   "execution_count": 139,
   "metadata": {},
   "outputs": [
    {
     "data": {
      "image/png": "[encoded data removed]",
      "text/plain": [
       "<Figure size 1152x576 with 2 Axes>"
      ]
     },
     "metadata": {
      "needs_background": "light"
     },
     "output_type": "display_data"
    }
   ],
   "source": [
    "#group by geoid and count number of stations\n",
    "stations_geoid = stations_df.groupby(['geoid']).size().reset_index(name = 'Number of Stations')\n",
    "stations_geoid = stations_geoid.sort_values('Number of Stations', ascending=False)\n",
    "\n",
    "#remove park geoids\n",
    "geoids_remove=['36061014300','36047017700','36061000500','36081009900','36061031703','36047001800','36081003700']\n",
    "stations_geoid = stations_geoid[~stations_geoid['geoid'].isin(geoids_remove)]\n",
    "\n",
    "## Number of Start Stations at each geoid\n",
    "trips_start_df = trips_df.groupby(['start_station_geoid']).size().reset_index(name = 'Number of Trips')\n",
    "trips_start_df = trips_start_df.sort_values('Number of Trips', ascending=False)\n",
    "trips_start_df = trips_start_df.rename(columns={'start_station_geoid': 'geoid'})\n",
    "trips_start_df= pd.merge(stations_geoid,trips_start_df,  on=['geoid'], how='inner')\n",
    "\n",
    "## Number of End Stations at each geoid\n",
    "trips_end_df = trips_df.groupby(['end_station_geoid']).size().reset_index(name = 'Number of Trips')\n",
    "trips_end_df = trips_end_df.sort_values('Number of Trips', ascending=False)\n",
    "trips_end_df = trips_end_df.rename(columns={'end_station_geoid': 'geoid'})\n",
    "trips_end_df= pd.merge(stations_geoid,trips_end_df,  on=['geoid'], how='inner')\n",
    "\n",
    "fig, (ax1, ax2) = plt.subplots(nrows=1, ncols=2, figsize=(16,8), sharey=True)\n",
    "\n",
    "## Start Stations\n",
    "sns.scatterplot(x=\"Number of Stations\", y=\"Number of Trips\", data=trips_start_df,ax=ax1, alpha=0.5)\n",
    "ax1.set_title(\"Geoids where Trips Started\")\n",
    "## End stations \n",
    "sns.scatterplot(x=\"Number of Stations\", y=\"Number of Trips\", data=trips_end_df,ax=ax2, alpha=0.5)\n",
    "ax2.set_title(\"Geoids where Trips Ended\")\n",
    "plt.show()"
   ]
  },
  {
   "cell_type": "markdown",
   "metadata": {},
   "source": [
    "Here we have created a two scatterplots. Each of the points in the scatterplot refer to a unique geoid in New York City. These two scatterplots show the number of stations in that geoid and the number of trips taken in that geoid. \n",
    "\n",
    "Looking at the scatterplot, **there seems to be no linear relationship between the number of stations and the number of trips in a geoid**. For stations in the range 1-5, as the number of stations increases, there seems to be a wider range of number of trips. As the number of stations increases there is more variability in the number of trips in the data. However, as we look at the geoids with 6,7,9 stations we can see that some of these places, despite having a significantly lower amount of trips have more stations compared to other geoids. For the geoid with 9 stations, there is very low usage. Other geoids with similar usage have only 1 or 2 stations. This goes the same for places with 5,6,7,9 stations. Though some places have a lot of usage, there seems to be a oversupply of stations in these areas.\n",
    "\n",
    "We were able to see through this scatterplot that places more trips did not lead directly to having more stations. This means that there must be other factors that are influencing the amount of stations that are placed in a geoid.\n",
    "For our next step, we will be looking at geoids with more stations than the average , specifically geoids with 6,7,9 stations. We will first take a look to see where these areas are located on a map.\n",
    "We have decided to first check the location because disregarding race/income one thing we think may have influenced a larger ais location. If it is close to a dock area or if the place has more parks this may influence the number of stations in that area. \n",
    "Now for our next step we will see if the places with a greater amount of stations are influenced by location and check where each of the geoids are located.\n",
    "\n",
    "But first we will compute the average number of trips taken from all the geoids to use as a metric to compare against amount of trips taken at geoids with the most stations"
   ]
  },
  {
   "cell_type": "markdown",
   "metadata": {},
   "source": [
    "#### Average Number of Trips Computation & Visualization"
   ]
  },
  {
   "cell_type": "code",
   "execution_count": 116,
   "metadata": {},
   "outputs": [
    {
     "data": {
      "image/png": "[encoded data removed]",
      "text/plain": [
       "<Figure size 1080x288 with 2 Axes>"
      ]
     },
     "metadata": {
      "needs_background": "light"
     },
     "output_type": "display_data"
    },
    {
     "name": "stdout",
     "output_type": "stream",
     "text": [
      "Average Number of Trips (Start) :  36322\n",
      "Min Number of Trips (Start) :  47\n",
      "Max Number of Trips (Start) :  266800\n",
      "\n",
      "\n",
      "Average Number of Trips (End) :  36373\n",
      "Min Number of Trips (End) :  41\n",
      "Max Number of Trips (End) :  262553\n"
     ]
    }
   ],
   "source": [
    "# Average Calculation \n",
    "mean_start= np.mean(trips_start_df['Number of Trips'])\n",
    "mean_end= np.mean(trips_end_df['Number of Trips'])\n",
    "\n",
    "# Max and Min Trips Calculation\n",
    "min_start=np.min(trips_start_df['Number of Trips'])\n",
    "max_start=np.max(trips_start_df['Number of Trips'])\n",
    "min_end=np.min(trips_end_df['Number of Trips'])\n",
    "max_end=np.max(trips_end_df['Number of Trips'])\n",
    "\n",
    "# Draw the Number of Trips plot\n",
    "fig, (ax1, ax2) = plt.subplots(nrows=1, ncols=2, figsize=(15,4),sharey=True)\n",
    "sns.histplot(data=trips_start_df,x=\"Number of Trips\",bins=50,ax=ax1)\n",
    "ax1.axvline(mean_start, color=\"green\", linestyle=\"dashed\")\n",
    "ax1.text(40000,85,'Mean: 36322', fontsize=10, color='green')\n",
    "ax1.set_title(\"Geoids where Trips Started\")\n",
    "\n",
    "sns.histplot(data=trips_end_df,x=\"Number of Trips\",bins=50,ax=ax2)\n",
    "ax2.axvline(mean_end, color=\"green\", linestyle=\"dashed\")\n",
    "ax2.text(40000,85,'Mean: 36372', fontsize=10, color='green')\n",
    "ax2.set_title(\"Geoids where Trips Ended\")\n",
    "ax2.set(ylabel='Count')\n",
    "plt.show()\n",
    "\n",
    "print(\"Average Number of Trips (Start) : \",\"{:.0f}\".format(mean_start))\n",
    "print(\"Min Number of Trips (Start) : \",\"{:.0f}\".format(min_start))\n",
    "print(\"Max Number of Trips (Start) : \",\"{:.0f}\".format(max_start))\n",
    "print(\"\\n\")\n",
    "print(\"Average Number of Trips (End) : \",\"{:.0f}\".format(mean_end))\n",
    "print(\"Min Number of Trips (End) : \",\"{:.0f}\".format(min_end))\n",
    "print(\"Max Number of Trips (End) : \",\"{:.0f}\".format(max_end))"
   ]
  },
  {
   "cell_type": "markdown",
   "metadata": {},
   "source": [
    "In geoids where trips started, the average number of trips is 36322. The minimum number of trips is 47 and the maximum number of trips is  266800.\n",
    "In geoids where trips ended, the average number of trips is 36373. The minimum number of trips is 41 and the maximum number of trips is 262553.\n",
    "\n",
    "From this we can see that the average number of trips taken for both of these cases are very similar. From the distribution bar graph, we can also see that the graph is right-skewed. "
   ]
  },
  {
   "cell_type": "markdown",
   "metadata": {},
   "source": [
    "#### Where are the geoids with greater amount of stations located?\n",
    "\n",
    ">Now we will look more closely at where the geoids with more stations are located. Though location wasn't an initial preregistered analysis or part of the \"NYC demographics\" in our research question, we believe that it may be an important factor as to explaining the distribution of stations so we will be looking into it in this step.\n"
   ]
  },
  {
   "cell_type": "code",
   "execution_count": 36,
   "metadata": {},
   "outputs": [
    {
     "name": "stdout",
     "output_type": "stream",
     "text": [
      "         geoid  Number of Stations  Number of Trips\n",
      "3  36061009900                   6           228036\n",
      "4  36061008300                   6           180253\n",
      "5  36047003500                   6            69406\n",
      "6  36047051500                   6            35621\n",
      "7  36061010300                   6           181434\n",
      "8  36061004400                   6           178200\n",
      "9  36061002100                   6           145449\n",
      "         geoid  Number of Stations  Number of Trips\n",
      "1  36061000700                   7           159969\n",
      "2  36081001900                   7            15514\n",
      "         geoid  Number of Stations  Number of Trips\n",
      "0  36047005300                   9            23110\n"
     ]
    }
   ],
   "source": [
    "print(trips_start_df.loc[trips_start_df['Number of Stations'] == 6])\n",
    "print(trips_start_df.loc[trips_start_df['Number of Stations'] == 7 ])\n",
    "print(trips_start_df.loc[trips_start_df['Number of Stations'] == 9 ])"
   ]
  },
  {
   "cell_type": "markdown",
   "metadata": {},
   "source": [
    "#### Geoid with 7 stations location"
   ]
  },
  {
   "cell_type": "markdown",
   "metadata": {},
   "source": [
    "#### Geoids with 6,7,9 stations \n",
    "<img src=\"../../4.png\" width=\"700\">"
   ]
  },
  {
   "cell_type": "markdown",
   "metadata": {},
   "source": [
    "The colored map above shows the geoids with 6,7,9 stations. These geoids were found by finding the unique geoids in the dataset with 6,7,9 stations and then locating them through the <a href=\"https://popfactfinder.planning.nyc.gov/#13.72/40.7213/-73.95609\"> NYC dot</a>. (We can locate the geoids by inserting the geoid into the search box). Then we created a graph that looks at the marked geoids, their number of stations and the trips taken from that geoid.\n",
    "\n",
    "Below we have made estimates as to why there are so many stations in these geoids depending on location. The information listed below are all estimates we have made as to why there are so many stations in these geoids.\n",
    "\n",
    "##### Geoids with 6 stations\n",
    "The geoids labeled A,B,C on the map are located near a dock area. These areas tend to have open space for bike riding. We can also see that these places (A,B,C) also have a large amount of trips taken which serves as a reason to why there are more stations in those geoids compared to other areas. \n",
    "\n",
    "For the geoid locations D and E, they are located near the dock areas of Manhattan too. Also they seem to have 145449 and 178200 number of trips taken in those areas which is within the 10th percentile of most trips taken. We can check the quantiles of the Number of Trips through the dataframe below.\n",
    "\n",
    "The distribution of 6 stations in geoid F doesn't seem to have a significant relationship with location or number of trips. It is not located in a dock area and there are no parks nearby. Also, the number of trips taken at this geoid is above the 60% percentile but below the 90th percentile. There may be more reasons as to why there are 6 stations in this location. \n",
    "\n",
    "Geoid G seems to have a park located within that geoid. Though the number of trips taken at this point is below the 60% percentile, the presense of a park may be what is influencing the number of stations in this area."
   ]
  },
  {
   "cell_type": "code",
   "execution_count": 144,
   "metadata": {},
   "outputs": [
    {
     "name": "stdout",
     "output_type": "stream",
     "text": [
      "Quantile of Number of Trips\n"
     ]
    },
    {
     "data": {
      "text/html": [
       "<div>\n",
       "<style scoped>\n",
       "    .dataframe tbody tr th:only-of-type {\n",
       "        vertical-align: middle;\n",
       "    }\n",
       "\n",
       "    .dataframe tbody tr th {\n",
       "        vertical-align: top;\n",
       "    }\n",
       "\n",
       "    .dataframe thead th {\n",
       "        text-align: right;\n",
       "    }\n",
       "</style>\n",
       "<table border=\"1\" class=\"dataframe\">\n",
       "  <thead>\n",
       "    <tr style=\"text-align: right;\">\n",
       "      <th></th>\n",
       "      <th>Number of Trips</th>\n",
       "    </tr>\n",
       "  </thead>\n",
       "  <tbody>\n",
       "    <tr>\n",
       "      <th>0.50</th>\n",
       "      <td>18126.0</td>\n",
       "    </tr>\n",
       "    <tr>\n",
       "      <th>0.60</th>\n",
       "      <td>26840.8</td>\n",
       "    </tr>\n",
       "    <tr>\n",
       "      <th>0.90</th>\n",
       "      <td>101431.6</td>\n",
       "    </tr>\n",
       "    <tr>\n",
       "      <th>0.95</th>\n",
       "      <td>138472.4</td>\n",
       "    </tr>\n",
       "  </tbody>\n",
       "</table>\n",
       "</div>"
      ],
      "text/plain": [
       "      Number of Trips\n",
       "0.50          18126.0\n",
       "0.60          26840.8\n",
       "0.90         101431.6\n",
       "0.95         138472.4"
      ]
     },
     "execution_count": 144,
     "metadata": {},
     "output_type": "execute_result"
    }
   ],
   "source": [
    "print(\"Quantile of Number of Trips\")\n",
    "trips_start_df[['Number of Trips']].quantile([.5,.6,.90, .95])"
   ]
  },
  {
   "cell_type": "markdown",
   "metadata": {},
   "source": [
    "##### Geoids with 7 stations\n",
    "For geoids with 7 stations, the geoid labeled H is located in the dock area and 159969 trips where taken in those stations. The amount of trips taken in geoid H is above the 95% percentile. So both the location and the significant amount of trips taken at that location seems to have contributed to 7 stations in that location.\n",
    "\n",
    "The geoid I is located somewhat near the dock area but has 15514 number of trips taken which is below the 50 percentile of trips taken. There maybe additional reasons as to why there are so many stations in this area too. \n",
    "\n",
    "##### Geoids with 9 stations\n",
    "Geoid J with 9 stations is located in the dock area. The number of trips taken at this place is very low. However, despite this fact, there are 9 stations placed in this location which is the largest number of stations among all the geoids.\n",
    "\n",
    "An overall pattern we can see here is that most many of the stations are placed in places that are in dock areas or have a park within it. Along the dock areas, though they are not parks, there seems to be more station placement. Places that have more stations but less a usage tend to have such a distribution because there is a nearby park or it is located in a dock area.\n",
    "\n",
    "Also these areas with more stations don't always seem to have a greater amount of trips taken as many of them have trips taken between the 50% percentile and the 60% percentile of total amounts of trips. In looking through this data we have also found that the reason behind why there are so many stations is unclear for places like geoid F or geoid I.\n",
    "\n",
    "Looking at the location and the amount of trips of these geoids we found that,\n",
    " - Many of the stations are placed in places that are in dock areas or have a park within it but this is not always the case. \n",
    " - Approximately 40% (4 out of the top 10 geoids with most stations) have trips taken that lie between the 50% percentile and the 60% percentile of total amounts of trips."
   ]
  },
  {
   "cell_type": "markdown",
   "metadata": {},
   "source": [
    "From these analyses above, we can estimate that **there doesn't seem to be a clear relationship between the number of trips and the number of stations**. The scatterplot we drew earlier also shows that **for geoids with 1,2,3,4,5 stations there isn't a strong relationship between the number of trips and the number of stations**. Also by taking a closer look at the geoids with 6,7,9 stations we could also see that this wasn't the case.\n",
    "\n",
    "Now we will be conducting **Linear Regression** to evaluate that what we estimate is true from our scatterplot **(there is no relationship between the number of trips and the number of stations)** holds true nummerically. "
   ]
  },
  {
   "cell_type": "markdown",
   "metadata": {},
   "source": [
    "### Linear Regression of Trips vs Stations"
   ]
  },
  {
   "cell_type": "markdown",
   "metadata": {},
   "source": [
    "Now we will be conducting **Linear Regression** to evaluate that what we estimate is true from our scatterplot holds true nummerically. \n",
    "\n",
    "#### Hypothesis\n",
    "We expect that places geoids with more trips will have more stations. \n",
    "\n",
    ">##### H0: There is no relationship between the number of trips and the number of stations in a geoid\n",
    ">##### Ha: There is a relationship between the number of trips and the number of stations in a geoid\n",
    "\n",
    "The significance level will be 0.05. We will conduct this for both the start station data and the end station data.\n",
    "We will use the number of stations as the predictor and the number of trips as the response variable\n",
    "\n",
    "- check if setting hypothesis this way is correct\n",
    "- trips and stations setting is this okay?"
   ]
  },
  {
   "cell_type": "code",
   "execution_count": 62,
   "metadata": {},
   "outputs": [
    {
     "data": {
      "text/html": [
       "<div>\n",
       "<style scoped>\n",
       "    .dataframe tbody tr th:only-of-type {\n",
       "        vertical-align: middle;\n",
       "    }\n",
       "\n",
       "    .dataframe tbody tr th {\n",
       "        vertical-align: top;\n",
       "    }\n",
       "\n",
       "    .dataframe thead th {\n",
       "        text-align: right;\n",
       "    }\n",
       "</style>\n",
       "<table border=\"1\" class=\"dataframe\">\n",
       "  <thead>\n",
       "    <tr style=\"text-align: right;\">\n",
       "      <th></th>\n",
       "      <th>geoid</th>\n",
       "      <th>Number of Stations</th>\n",
       "      <th>Number of Trips</th>\n",
       "    </tr>\n",
       "  </thead>\n",
       "  <tbody>\n",
       "    <tr>\n",
       "      <th>0</th>\n",
       "      <td>36047005300</td>\n",
       "      <td>9</td>\n",
       "      <td>23110</td>\n",
       "    </tr>\n",
       "    <tr>\n",
       "      <th>1</th>\n",
       "      <td>36061000700</td>\n",
       "      <td>7</td>\n",
       "      <td>159969</td>\n",
       "    </tr>\n",
       "    <tr>\n",
       "      <th>2</th>\n",
       "      <td>36081001900</td>\n",
       "      <td>7</td>\n",
       "      <td>15514</td>\n",
       "    </tr>\n",
       "    <tr>\n",
       "      <th>3</th>\n",
       "      <td>36061009900</td>\n",
       "      <td>6</td>\n",
       "      <td>228036</td>\n",
       "    </tr>\n",
       "    <tr>\n",
       "      <th>4</th>\n",
       "      <td>36061002100</td>\n",
       "      <td>6</td>\n",
       "      <td>145449</td>\n",
       "    </tr>\n",
       "  </tbody>\n",
       "</table>\n",
       "</div>"
      ],
      "text/plain": [
       "         geoid  Number of Stations  Number of Trips\n",
       "0  36047005300                   9            23110\n",
       "1  36061000700                   7           159969\n",
       "2  36081001900                   7            15514\n",
       "3  36061009900                   6           228036\n",
       "4  36061002100                   6           145449"
      ]
     },
     "execution_count": 62,
     "metadata": {},
     "output_type": "execute_result"
    }
   ],
   "source": [
    "trips_start_df.head()"
   ]
  },
  {
   "cell_type": "markdown",
   "metadata": {},
   "source": [
    "#### I. Start Station Data"
   ]
  },
  {
   "cell_type": "code",
   "execution_count": 79,
   "metadata": {},
   "outputs": [
    {
     "data": {
      "image/png": "[encoded data removed]",
      "text/plain": [
       "<Figure size 432x288 with 1 Axes>"
      ]
     },
     "metadata": {
      "needs_background": "light"
     },
     "output_type": "display_data"
    },
    {
     "name": "stdout",
     "output_type": "stream",
     "text": [
      "Coefficient of Linear Regression: 1.51e-05\n",
      "Intercept of Linear Regression : 1.608\n",
      "Pearson Correlation:  0.53\n",
      "Spearman Correlation:  0.48\n",
      "coefficient of determination (r2): 0.28\n"
     ]
    }
   ],
   "source": [
    "X = trips_start_df.iloc[:, 2].values.reshape(-1, 1) \n",
    "Y = trips_start_df.iloc[:, 1].values.reshape(-1, 1)  \n",
    "linear_regressor = LinearRegression() \n",
    "lr=linear_regressor.fit(X, Y)\n",
    "Y_pred = linear_regressor.predict(X) \n",
    "plt.scatter(X, Y)\n",
    "plt.plot(X, Y_pred, color='red')\n",
    "plt.show()\n",
    "\n",
    "print(\"Coefficient of Linear Regression: {:.3g}\".format(lr.coef_[0][0]))\n",
    "print(\"Intercept of Linear Regression : {:.3f}\".format(lr.intercept_[0]))\n",
    "\n",
    "# pearson and spearman correlation calculation\n",
    "pear_corr=trips_start_df['Number of Stations'].corr(trips_start_df['Number of Trips'])\n",
    "sp_corr= trips_start_df['Number of Stations'].corr(trips_start_df['Number of Trips'],method='spearman')\n",
    "\n",
    "print('Pearson Correlation: ',\"{:.2f}\".format(pear_corr))\n",
    "print('Spearman Correlation: ',\"{:.2f}\".format(sp_corr))\n",
    "\n",
    "residual = Y-Y_pred\n",
    "mean_Y= np.mean(Y)\n",
    "\n",
    "#find the sum of residual squared\n",
    "rsq=residual *residual\n",
    "ssr =sum(rsq)\n",
    "\n",
    "#find sum of total sqaured\n",
    "sst = sum((Y-mean_Y)**2)\n",
    "\n",
    "#coefficient of determination\n",
    "deter=ssr/sst\n",
    "print(\"coefficient of determination (r2): {:.2f}\".format(1-deter[0]))"
   ]
  },
  {
   "cell_type": "markdown",
   "metadata": {},
   "source": [
    "For a linear regression with input start station, the slope is 18389.900. It tells us that when the number of stations increases by 1 in a geoid, the trips will change(increase) by 18389.900.\n",
    "We can interpret 𝑟2 as the fraction of the variation in the output variable that can be explained (or predicted) by variation in the input variable(s). Therefore our r2 score of 0.28 means that approximately 28% (0.28) of the variation in Y can be explained(predicted) by X. In other words, the number of trips is explained well by the number of trips by approxmately 28% (0.28). \n",
    "Additionally we have also computed the correlation variables. Here the Correlation variables show that the \n"
   ]
  },
  {
   "cell_type": "markdown",
   "metadata": {},
   "source": [
    "#### II. End Station Data"
   ]
  },
  {
   "cell_type": "code",
   "execution_count": 81,
   "metadata": {},
   "outputs": [
    {
     "data": {
      "image/png": "[encoded data removed]",
      "text/plain": [
       "<Figure size 432x288 with 1 Axes>"
      ]
     },
     "metadata": {
      "needs_background": "light"
     },
     "output_type": "display_data"
    },
    {
     "name": "stdout",
     "output_type": "stream",
     "text": [
      "Coefficient of Linear Regression: 1.49e-05\n",
      "Intercept of Linear Regression : 1.615\n",
      "r2 Score : 0.276\n",
      "Pearson Correlation:  0.53\n",
      "Spearman Correlation:  0.48\n",
      "coefficient of determination (r2): 0.28\n"
     ]
    }
   ],
   "source": [
    "X = trips_end_df.iloc[:, 2].values.reshape(-1, 1) \n",
    "Y = trips_end_df.iloc[:, 1].values.reshape(-1, 1)  \n",
    "linear_regressor = LinearRegression() \n",
    "lr=linear_regressor.fit(X, Y)\n",
    "Y_pred = linear_regressor.predict(X) \n",
    "plt.scatter(X, Y)\n",
    "plt.plot(X, Y_pred, color='red')\n",
    "plt.show()\n",
    "\n",
    "r2=r2_score(Y, Y_pred)\n",
    "print(\"Coefficient of Linear Regression: {:.3g}\".format(lr.coef_[0][0]))\n",
    "print(\"Intercept of Linear Regression : {:.3f}\".format(lr.intercept_[0]))\n",
    "print(\"r2 Score : {:.3f}\".format(r2))\n",
    "\n",
    "# pearson and spearman correlation calculation\n",
    "pear_corr=trips_end_df['Number of Stations'].corr(trips_end_df['Number of Trips'])\n",
    "sp_corr= trips_end_df['Number of Stations'].corr(trips_end_df['Number of Trips'],method='spearman')\n",
    "\n",
    "print('Pearson Correlation: ',\"{:.2f}\".format(pear_corr))\n",
    "print('Spearman Correlation: ',\"{:.2f}\".format(sp_corr))\n",
    "\n",
    "residual = Y-Y_pred\n",
    "mean_Y= np.mean(Y)\n",
    "\n",
    "#find the sum of residual squared\n",
    "rsq=residual *residual\n",
    "ssr =sum(rsq)\n",
    "\n",
    "#find sum of total sqaured\n",
    "sst = sum((Y-mean_Y)**2)\n",
    "\n",
    "#coefficient of determination\n",
    "deter=ssr/sst\n",
    "print(\"coefficient of determination (r2): {:.2f}\".format(1-deter[0]))"
   ]
  },
  {
   "cell_type": "markdown",
   "metadata": {},
   "source": [
    "\n",
    "\n",
    "Thus, since usage doesn't appear to be the only factor that influences where citibike stations are located, we next want to analyze the race and income distribution of the census tracts with seven, eight, and nine stations. This is to see whether they indicate any trends in their race and income distribution that can explain the reason why Citibike decided to place a large number of stations in these areas where there is little usage. "
   ]
  },
  {
   "cell_type": "markdown",
   "metadata": {},
   "source": [
    "#### Analysis 2: How is station placement by geoid representing NYC race & income demographics? (Stations vs Race/Income) \n",
    "\n",
    "To further our understanding of whether citibike is fairly distributing its stations, we will look into whether the race and income of a census tract has a relationship with the number of stations located in the area.\n",
    "\n",
    "- Use **multivariable regression** to see how strongly race and income plays a role in determining the number of stations in a given census tract. Does the coefficients of the model align with what we expected? \n"
   ]
  },
  {
   "cell_type": "code",
   "execution_count": 6,
   "metadata": {},
   "outputs": [
    {
     "data": {
      "image/png": "[encoded data removed]",
      "text/plain": [
       "<Figure size 432x288 with 1 Axes>"
      ]
     },
     "metadata": {
      "needs_background": "light"
     },
     "output_type": "display_data"
    },
    {
     "data": {
      "image/png": "[encoded data removed]",
      "text/plain": [
       "<Figure size 432x288 with 1 Axes>"
      ]
     },
     "metadata": {
      "needs_background": "light"
     },
     "output_type": "display_data"
    }
   ],
   "source": [
    "#obtaining the proportion of each racial category in the census tracts \n",
    "race_income_df['white_pct'] = 100*(race_income_df['2017_white_population'] / race_income_df['2017_population'])\n",
    "race_income_df['black_pct'] = 100*(race_income_df['2017_black_population'] / race_income_df['2017_population'])\n",
    "race_income_df['asian_pct'] = 100*(race_income_df['2017_asian_population'] / race_income_df['2017_population'])\n",
    "#Selecting the race and income information for census tracts that have 7, 8, and 9 stations\n",
    "selector = trip_station_geoid[trip_station_geoid['num_stations'].apply(lambda x: x in [7,8,9])]['geoid']\n",
    "most_stations_ri = race_income_df[race_income_df['geoid'].apply(lambda x: x in list(selector))]\n",
    "most_stations_race_means = np.array(most_stations_ri.mean(axis=0).loc[['white_pct','black_pct','asian_pct']])\n",
    "most_stations_income_mean = np.array(most_stations_ri.mean(axis=0).loc['2017_median_income'])\n",
    "#selecting race and income rows for all census tracts that have at least one station\n",
    "race_income_w_stations_df = race_income_df[race_income_df['geoid'].apply(lambda x: x in list(stations_df['geoid'].unique()))]\n",
    "stations_census_tracts_race_means = race_income_w_stations_df.mean(axis=0).loc[['white_pct','black_pct','asian_pct']]\n",
    "stations_census_tracts_income_mean = race_income_w_stations_df.mean(axis=0).loc['2017_median_income']\n",
    "\n",
    "def plot_bar(labels,data1,data2,ylabel,title,fontsize):\n",
    "    x = np.arange(len(labels))  # the label locations\n",
    "    width = 0.35  # the width of the bars\n",
    "    fig, ax = plt.subplots()\n",
    "    rects1 = ax.bar(x - width/2, data1, width, label='Census Tracts with 7,8,and 9 stations')\n",
    "    rects2 = ax.bar(x + width/2, data2 , width, label='All Census Tracts')\n",
    "    ax.set_ylabel(ylabel)\n",
    "    ax.set_title(title)\n",
    "    ax.set_xticks(x)\n",
    "    ax.set_xticklabels(labels)\n",
    "    ax.legend(fontsize= fontsize)\n",
    "    fig.tight_layout()\n",
    "    plt.show()\n",
    "\n",
    "#plotting the grouped bar chart for racial ethnicities\n",
    "labels = ['avg white percentage', 'avg black percentage','average asian percentage']\n",
    "plot_bar(labels,most_stations_race_means,stations_census_tracts_race_means,'Average % of population in ethincity group','Average Racial Distribution in Census Tracts with 7, 8, and 9 Stations vs All Census Tracts','medium')\n",
    "#plotting the grouped bar chart for racial ethnicities\n",
    "labels = ['avg median income']\n",
    "plot_bar(labels,most_stations_income_mean,stations_census_tracts_income_mean,'Average Median Income','Average Median Income in Census Tracts with 7, 8, and 9 Stations vs All Census Tracts','x-small')"
   ]
  },
  {
   "cell_type": "markdown",
   "metadata": {},
   "source": [
    "From these bar charts, we can see that the census tracts that had seven, eight, and nine stations have a much higher average median income, close to \\\\$120,000, compared to the average median income of \\\\$85,000 across all the other census tracts that had at least one station. Furthermore, we see that the census tracts that had an unexpectedly high number of stations compared to their number of trips are predominantly white neighborhoods. The average proportion of white individuals in these neighborhoods is close to 70%, which is high compared to the average white proportion across all the census tracts, 60%. Furthermore, these neighborhoods that appear to have too many stations also appear to have a very low number of black individuals. In these neighborhoods, black individuals only make up, on average, 5% of the population. These results seem to indiciate that some of Citibike's stations are placed not according to demand, but due to race and income factors. However, to see whether Citibike station placement is truly influenced by race and income rather than sorely based on demand, we next will look into the relationship between station placement, race, and income across all of the Citibike stations. "
   ]
  },
  {
   "cell_type": "markdown",
   "metadata": {},
   "source": [
    "### Main Statements\n",
    "\n",
    "rq : how is citibike representing NYC demographics? \n",
    "\n",
    "\n",
    "a1 : trips vs stations\n",
    "\n",
    "Trips cannot predict stations! Station placement is affected by sth else! \n",
    "\n",
    "\n",
    "a2: race/income vs stations\n",
    "\n",
    "There is a relationship between race/income and stations! \n",
    "\n",
    "\n",
    "after a1, a2 we need to answer the question of where citibike should be distributed more. \n",
    "\n",
    "\n",
    "A3: trips vs race/income\n",
    "→ white/high income take more trips? (check) \n",
    "→ bar graph: looking at both trips and stations  checking fairness by race\n",
    "\n",
    "→ population normalizaiton\n",
    "\n",
    "\n",
    "\n",
    "\n",
    "(evalsig)\n",
    "- A1: permutation trips vs stations really no relationship!\n",
    "- A2: (sth) to say there is a significant relationship btw race/income and stations\n",
    "        - could be the lineargraph but should be more straight forward. \n",
    "\n",
    "\n",
    "(conclusion)\n",
    "- interms of race/income not representing NYC demographics well (explain nummerically with graphs)\n",
    "- in terms of trips not representing NYC demographics well(explain nummerically with graphs)\n",
    "- seems to be stations located in parks. But the usage of those stations are not that high at all so there isn't a fair distribution (explain nummerically with graphs)\n",
    "\n",
    "(proposal)\n",
    "- in what geoids should there be more stations? \n",
    "    - single out places that have minority race/incoem and \n",
    "- other things citibike can do\n",
    "    - shrink cost of usage\n",
    "    - ~~~ safer roads"
   ]
  },
  {
   "cell_type": "markdown",
   "metadata": {},
   "source": [
    "## Evaluation of Significance "
   ]
  },
  {
   "cell_type": "markdown",
   "metadata": {},
   "source": [
    "#### Trips vs Stations"
   ]
  },
  {
   "cell_type": "code",
   "execution_count": 40,
   "metadata": {},
   "outputs": [
    {
     "data": {
      "image/png": "[encoded data removed]",
      "text/plain": [
       "<Figure size 360x360 with 1 Axes>"
      ]
     },
     "metadata": {
      "needs_background": "light"
     },
     "output_type": "display_data"
    }
   ],
   "source": [
    "## Your solution here\n",
    "sns.relplot(x=\"Number of Stations\", y=\"Number of Trips\", data=trips_start_df)\n",
    "plt.xlabel(\"Number of Stations\")\n",
    "plt.ylabel(\"Number of Trips\")\n",
    "plt.title(\"Number of Stations vs Number of Trips Scatterplot\")\n",
    "plt.show()\n"
   ]
  },
  {
   "cell_type": "markdown",
   "metadata": {},
   "source": [
    "When we compute a scatterplot based on the relationship between stations and the number of trips, we were able to see that it is unclear whether there is a direct relationship between the number of stations and the number of trips. Overall we can see that that more trips tend to have more stations but there are instance where this is not true. "
   ]
  },
  {
   "cell_type": "markdown",
   "metadata": {},
   "source": [
    "To address this issue, we will set a hypothesis and conduct permutation to test whether the pattern of having more trips in places with more stations is outside the range of values we might reasonably expect to get by chance. "
   ]
  },
  {
   "cell_type": "markdown",
   "metadata": {},
   "source": [
    "#### Permutation Testing"
   ]
  },
  {
   "cell_type": "code",
   "execution_count": 14,
   "metadata": {},
   "outputs": [
    {
     "data": {
      "text/html": [
       "<div>\n",
       "<style scoped>\n",
       "    .dataframe tbody tr th:only-of-type {\n",
       "        vertical-align: middle;\n",
       "    }\n",
       "\n",
       "    .dataframe tbody tr th {\n",
       "        vertical-align: top;\n",
       "    }\n",
       "\n",
       "    .dataframe thead th {\n",
       "        text-align: right;\n",
       "    }\n",
       "</style>\n",
       "<table border=\"1\" class=\"dataframe\">\n",
       "  <thead>\n",
       "    <tr style=\"text-align: right;\">\n",
       "      <th></th>\n",
       "      <th>start_time</th>\n",
       "      <th>stop_time</th>\n",
       "      <th>start_station_name</th>\n",
       "      <th>end_station_name</th>\n",
       "      <th>birth_year</th>\n",
       "      <th>gender</th>\n",
       "      <th>start_station_geoid</th>\n",
       "      <th>end_station_geoid</th>\n",
       "      <th>trip_minutes</th>\n",
       "    </tr>\n",
       "  </thead>\n",
       "  <tbody>\n",
       "    <tr>\n",
       "      <th>0</th>\n",
       "      <td>2017-01-01 00:00:21</td>\n",
       "      <td>2017-01-01 00:11:41</td>\n",
       "      <td>W 82 St &amp; Central Park West</td>\n",
       "      <td>Central Park West &amp; W 72 St</td>\n",
       "      <td>1965.0</td>\n",
       "      <td>2</td>\n",
       "      <td>3.606102e+10</td>\n",
       "      <td>3.606101e+10</td>\n",
       "      <td>11</td>\n",
       "    </tr>\n",
       "    <tr>\n",
       "      <th>1</th>\n",
       "      <td>2017-01-01 00:00:45</td>\n",
       "      <td>2017-01-01 00:22:08</td>\n",
       "      <td>Cooper Square &amp; E 7 St</td>\n",
       "      <td>Broadway &amp; W 32 St</td>\n",
       "      <td>1987.0</td>\n",
       "      <td>2</td>\n",
       "      <td>3.606100e+10</td>\n",
       "      <td>3.606101e+10</td>\n",
       "      <td>21</td>\n",
       "    </tr>\n",
       "    <tr>\n",
       "      <th>2</th>\n",
       "      <td>2017-01-01 00:05:00</td>\n",
       "      <td>2017-01-01 00:14:20</td>\n",
       "      <td>Broadway &amp; W 60 St</td>\n",
       "      <td>9 Ave &amp; W 45 St</td>\n",
       "      <td>1973.0</td>\n",
       "      <td>1</td>\n",
       "      <td>3.606101e+10</td>\n",
       "      <td>3.606101e+10</td>\n",
       "      <td>9</td>\n",
       "    </tr>\n",
       "    <tr>\n",
       "      <th>3</th>\n",
       "      <td>2017-01-01 00:05:37</td>\n",
       "      <td>2017-01-01 00:19:24</td>\n",
       "      <td>Broadway &amp; W 37 St</td>\n",
       "      <td>E 10 St &amp; Avenue A</td>\n",
       "      <td>1977.0</td>\n",
       "      <td>2</td>\n",
       "      <td>3.606101e+10</td>\n",
       "      <td>3.606100e+10</td>\n",
       "      <td>13</td>\n",
       "    </tr>\n",
       "    <tr>\n",
       "      <th>4</th>\n",
       "      <td>2017-01-01 00:05:47</td>\n",
       "      <td>2017-01-01 00:10:02</td>\n",
       "      <td>York St &amp; Jay St</td>\n",
       "      <td>Carlton Ave &amp; Flushing Ave</td>\n",
       "      <td>1989.0</td>\n",
       "      <td>1</td>\n",
       "      <td>3.604700e+10</td>\n",
       "      <td>3.604702e+10</td>\n",
       "      <td>4</td>\n",
       "    </tr>\n",
       "  </tbody>\n",
       "</table>\n",
       "</div>"
      ],
      "text/plain": [
       "            start_time            stop_time           start_station_name  \\\n",
       "0  2017-01-01 00:00:21  2017-01-01 00:11:41  W 82 St & Central Park West   \n",
       "1  2017-01-01 00:00:45  2017-01-01 00:22:08       Cooper Square & E 7 St   \n",
       "2  2017-01-01 00:05:00  2017-01-01 00:14:20           Broadway & W 60 St   \n",
       "3  2017-01-01 00:05:37  2017-01-01 00:19:24           Broadway & W 37 St   \n",
       "4  2017-01-01 00:05:47  2017-01-01 00:10:02             York St & Jay St   \n",
       "\n",
       "              end_station_name  birth_year  gender  start_station_geoid  \\\n",
       "0  Central Park West & W 72 St      1965.0       2         3.606102e+10   \n",
       "1           Broadway & W 32 St      1987.0       2         3.606100e+10   \n",
       "2              9 Ave & W 45 St      1973.0       1         3.606101e+10   \n",
       "3           E 10 St & Avenue A      1977.0       2         3.606101e+10   \n",
       "4   Carlton Ave & Flushing Ave      1989.0       1         3.604700e+10   \n",
       "\n",
       "   end_station_geoid  trip_minutes  \n",
       "0       3.606101e+10            11  \n",
       "1       3.606101e+10            21  \n",
       "2       3.606101e+10             9  \n",
       "3       3.606100e+10            13  \n",
       "4       3.604702e+10             4  "
      ]
     },
     "execution_count": 14,
     "metadata": {},
     "output_type": "execute_result"
    }
   ],
   "source": [
    "trips_df.head()"
   ]
  },
  {
   "cell_type": "code",
   "execution_count": 43,
   "metadata": {},
   "outputs": [
    {
     "data": {
      "text/html": [
       "<div>\n",
       "<style scoped>\n",
       "    .dataframe tbody tr th:only-of-type {\n",
       "        vertical-align: middle;\n",
       "    }\n",
       "\n",
       "    .dataframe tbody tr th {\n",
       "        vertical-align: top;\n",
       "    }\n",
       "\n",
       "    .dataframe thead th {\n",
       "        text-align: right;\n",
       "    }\n",
       "</style>\n",
       "<table border=\"1\" class=\"dataframe\">\n",
       "  <thead>\n",
       "    <tr style=\"text-align: right;\">\n",
       "      <th></th>\n",
       "      <th>geoid</th>\n",
       "      <th>num_trips</th>\n",
       "    </tr>\n",
       "  </thead>\n",
       "  <tbody>\n",
       "    <tr>\n",
       "      <th>209</th>\n",
       "      <td>3.606101e+10</td>\n",
       "      <td>266800</td>\n",
       "    </tr>\n",
       "    <tr>\n",
       "      <th>269</th>\n",
       "      <td>3.606101e+10</td>\n",
       "      <td>248055</td>\n",
       "    </tr>\n",
       "    <tr>\n",
       "      <th>227</th>\n",
       "      <td>3.606101e+10</td>\n",
       "      <td>228036</td>\n",
       "    </tr>\n",
       "    <tr>\n",
       "      <th>242</th>\n",
       "      <td>3.606101e+10</td>\n",
       "      <td>224960</td>\n",
       "    </tr>\n",
       "    <tr>\n",
       "      <th>191</th>\n",
       "      <td>3.606101e+10</td>\n",
       "      <td>201694</td>\n",
       "    </tr>\n",
       "  </tbody>\n",
       "</table>\n",
       "</div>"
      ],
      "text/plain": [
       "            geoid  num_trips\n",
       "209  3.606101e+10     266800\n",
       "269  3.606101e+10     248055\n",
       "227  3.606101e+10     228036\n",
       "242  3.606101e+10     224960\n",
       "191  3.606101e+10     201694"
      ]
     },
     "execution_count": 43,
     "metadata": {},
     "output_type": "execute_result"
    }
   ],
   "source": [
    "# group by start stations and count number of trips\n",
    "trips_start_df = trips_df.groupby(['start_station_geoid']).size().reset_index(name = 'num_trips')\n",
    "trips_start_df = trips_start_df.sort_values('num_trips', ascending=False)\n",
    "trips_start_df = trips_start_df.rename(columns={'start_station_geoid': 'geoid'})\n",
    "trips_start_df.head()"
   ]
  },
  {
   "cell_type": "code",
   "execution_count": 44,
   "metadata": {},
   "outputs": [
    {
     "data": {
      "text/html": [
       "<div>\n",
       "<style scoped>\n",
       "    .dataframe tbody tr th:only-of-type {\n",
       "        vertical-align: middle;\n",
       "    }\n",
       "\n",
       "    .dataframe tbody tr th {\n",
       "        vertical-align: top;\n",
       "    }\n",
       "\n",
       "    .dataframe thead th {\n",
       "        text-align: right;\n",
       "    }\n",
       "</style>\n",
       "<table border=\"1\" class=\"dataframe\">\n",
       "  <thead>\n",
       "    <tr style=\"text-align: right;\">\n",
       "      <th></th>\n",
       "      <th>geoid</th>\n",
       "      <th>num_stations</th>\n",
       "      <th>num_trips</th>\n",
       "    </tr>\n",
       "  </thead>\n",
       "  <tbody>\n",
       "    <tr>\n",
       "      <th>0</th>\n",
       "      <td>36061014300</td>\n",
       "      <td>14</td>\n",
       "      <td>248055</td>\n",
       "    </tr>\n",
       "    <tr>\n",
       "      <th>1</th>\n",
       "      <td>36047005300</td>\n",
       "      <td>9</td>\n",
       "      <td>23110</td>\n",
       "    </tr>\n",
       "    <tr>\n",
       "      <th>2</th>\n",
       "      <td>36061000700</td>\n",
       "      <td>7</td>\n",
       "      <td>159969</td>\n",
       "    </tr>\n",
       "    <tr>\n",
       "      <th>3</th>\n",
       "      <td>36081001900</td>\n",
       "      <td>7</td>\n",
       "      <td>15514</td>\n",
       "    </tr>\n",
       "    <tr>\n",
       "      <th>4</th>\n",
       "      <td>36061009900</td>\n",
       "      <td>6</td>\n",
       "      <td>228036</td>\n",
       "    </tr>\n",
       "  </tbody>\n",
       "</table>\n",
       "</div>"
      ],
      "text/plain": [
       "         geoid  num_stations  num_trips\n",
       "0  36061014300            14     248055\n",
       "1  36047005300             9      23110\n",
       "2  36061000700             7     159969\n",
       "3  36081001900             7      15514\n",
       "4  36061009900             6     228036"
      ]
     },
     "execution_count": 44,
     "metadata": {},
     "output_type": "execute_result"
    }
   ],
   "source": [
    "stations = pd.read_csv('../data/citibike_stations_final.csv')\n",
    "\n",
    "#group by geoid and count number of stations\n",
    "stations_geoid = stations.groupby(['geoid']).size().reset_index(name = 'num_stations')\n",
    "stations_geoid = stations_geoid.sort_values('num_stations', ascending=False)\n",
    "\n",
    "## Number of Stations at each geoid\n",
    "trips_start_df= pd.merge(stations_geoid,trips_start_df,  on=['geoid'], how='inner')\n",
    "trips_start_df.head()"
   ]
  },
  {
   "cell_type": "markdown",
   "metadata": {},
   "source": [
    "1. x = num_stations\n",
    "2. y = num_trips"
   ]
  },
  {
   "cell_type": "code",
   "execution_count": 47,
   "metadata": {},
   "outputs": [],
   "source": [
    "def permute(input_array):\n",
    "    # shuffle is inplace, so copy to preserve input\n",
    "    permuted = input_array.copy()\n",
    "    np.random.shuffle(permuted)\n",
    "    return permuted"
   ]
  },
  {
   "cell_type": "code",
   "execution_count": 48,
   "metadata": {},
   "outputs": [
    {
     "data": {
      "text/plain": [
       "0       8362\n",
       "1      23518\n",
       "2      41912\n",
       "3      37192\n",
       "4      23428\n",
       "       ...  \n",
       "377    99145\n",
       "378    15007\n",
       "379    25783\n",
       "380    16910\n",
       "381      310\n",
       "Name: num_trips, Length: 382, dtype: int64"
      ]
     },
     "execution_count": 48,
     "metadata": {},
     "output_type": "execute_result"
    }
   ],
   "source": [
    "permute(trips_start_df['num_trips'])"
   ]
  },
  {
   "cell_type": "code",
   "execution_count": 51,
   "metadata": {},
   "outputs": [
    {
     "data": {
      "image/png": "[encoded data removed]",
      "text/plain": [
       "<Figure size 864x432 with 2 Axes>"
      ]
     },
     "metadata": {
      "needs_background": "light"
     },
     "output_type": "display_data"
    }
   ],
   "source": [
    "# plot one instance of permuted data\n",
    "fig, (ax1, ax2) = plt.subplots(nrows=1, ncols=2, figsize=(12,6), sharey=True)\n",
    "sns.regplot(x=trips_start_df.num_stations, y=trips_start_df.num_trips, ax=ax1)\n",
    "ax1.set_title('True data')\n",
    "sns.regplot(x=trips_start_df.num_stations, y=permute(trips_start_df.num_trips), ax=ax2)\n",
    "ax2.set_title('Permuted data')\n",
    "plt.show()"
   ]
  },
  {
   "cell_type": "code",
   "execution_count": 55,
   "metadata": {},
   "outputs": [],
   "source": [
    "def plot_model_line(df, model, is_resampled=True):\n",
    "    '''\n",
    "    Takes a dataframe and a fitted model\n",
    "    Plots a line of best fit to the data\n",
    "    '''\n",
    "    if is_resampled:\n",
    "        color=\"grey\"\n",
    "        alpha=0.1\n",
    "    else:\n",
    "        color=\"steelblue\"\n",
    "        alpha=0.7\n",
    "    plt.plot(df['num_stations'], df['num_stations'] * model.coef_[0] + model.intercept_, color=color, alpha=alpha)"
   ]
  },
  {
   "cell_type": "code",
   "execution_count": 57,
   "metadata": {},
   "outputs": [
    {
     "data": {
      "image/png": "[encoded data removed]",
      "text/plain": [
       "<Figure size 432x288 with 1 Axes>"
      ]
     },
     "metadata": {
      "needs_background": "light"
     },
     "output_type": "display_data"
    }
   ],
   "source": [
    "# plot true data\n",
    "plt.scatter(trips_start_df['num_stations'], trips_start_df['num_trips'])\n",
    "\n",
    "# plot 100 iterations of models on permuted data\n",
    "for i in range(100):\n",
    "    fake_model = LinearRegression().fit(trips_start_df[['num_stations']], permute(trips_start_df['num_trips']))\n",
    "    plot_model_line(trips_start_df, fake_model)\n",
    "\n",
    "# model true data and plot\n",
    "model = LinearRegression().fit(trips_start_df[['num_stations']], trips_start_df['num_trips'])\n",
    "plot_model_line(trips_start_df, model, is_resampled=False)\n",
    "    \n",
    "plt.xlabel('num_stations')\n",
    "plt.ylabel('num_trips')\n",
    "    \n",
    "plt.show()\n"
   ]
  },
  {
   "cell_type": "code",
   "execution_count": 59,
   "metadata": {},
   "outputs": [
    {
     "name": "stdout",
     "output_type": "stream",
     "text": [
      "2.196335078534031 36777.53664921466\n"
     ]
    }
   ],
   "source": [
    "# what's up with the point of convergence in all the models?\n",
    "print(trips_start_df.num_stations.mean(), trips_start_df.num_trips.mean())"
   ]
  },
  {
   "cell_type": "code",
   "execution_count": 61,
   "metadata": {},
   "outputs": [
    {
     "name": "stdout",
     "output_type": "stream",
     "text": [
      "0.0\n",
      "CPU times: user 4min 31s, sys: 1.73 s, total: 4min 32s\n",
      "Wall time: 1min 8s\n"
     ]
    }
   ],
   "source": [
    "%%time\n",
    "# how many permuted (null hyopthesis) slopes are greater than our observed slope?\n",
    "steeper_slopes = 0\n",
    "n_permutations = 10000\n",
    "permuted_slopes = np.zeros(n_permutations)\n",
    "\n",
    "for i in range(n_permutations):\n",
    "    fake_model = LinearRegression().fit(trips_start_df[['num_stations']], permute(trips_start_df.num_trips))\n",
    "    \n",
    "    permuted_slopes[i] = fake_model.coef_[0]\n",
    "    \n",
    "    if np.abs(fake_model.coef_[0]) > np.abs(model.coef_):\n",
    "        steeper_slopes += 1\n",
    "    \n",
    "print(steeper_slopes / n_permutations)"
   ]
  },
  {
   "cell_type": "code",
   "execution_count": 71,
   "metadata": {},
   "outputs": [
    {
     "data": {
      "text/plain": [
       "0"
      ]
     },
     "execution_count": 71,
     "metadata": {},
     "output_type": "execute_result"
    }
   ],
   "source": [
    "steeper_slopes"
   ]
  },
  {
   "cell_type": "markdown",
   "metadata": {},
   "source": [
    "The result of our permutation shows that there are no steeper slopes that are greater than our observed slope. This means that it is impossible to conclude that having more trips in places with more stations is outside the range of values we might reasonably expect to get by chance. \n",
    "We can visualize this again by creating a graph."
   ]
  },
  {
   "cell_type": "code",
   "execution_count": 62,
   "metadata": {},
   "outputs": [
    {
     "data": {
      "image/png": "[encoded data removed]",
      "text/plain": [
       "<Figure size 432x288 with 1 Axes>"
      ]
     },
     "metadata": {
      "needs_background": "light"
     },
     "output_type": "display_data"
    }
   ],
   "source": [
    "# plot where our observed slope falls in the distribution \n",
    "#  of slopes under the null hypothesis\n",
    "binsizes, _, _ = plt.hist(permuted_slopes, bins=50)\n",
    "plt.vlines(model.coef_[0], ymin=0, ymax=np.max(binsizes), color='red')\n",
    "plt.show()"
   ]
  },
  {
   "cell_type": "code",
   "execution_count": 64,
   "metadata": {},
   "outputs": [],
   "source": [
    "from   sklearn.model_selection import train_test_split\n",
    "import statsmodels.formula.api as smf"
   ]
  },
  {
   "cell_type": "code",
   "execution_count": 67,
   "metadata": {},
   "outputs": [
    {
     "data": {
      "text/html": [
       "<table class=\"simpletable\">\n",
       "<caption>OLS Regression Results</caption>\n",
       "<tr>\n",
       "  <th>Dep. Variable:</th>        <td>num_trips</td>    <th>  R-squared:         </th> <td>   0.306</td>\n",
       "</tr>\n",
       "<tr>\n",
       "  <th>Model:</th>                   <td>OLS</td>       <th>  Adj. R-squared:    </th> <td>   0.304</td>\n",
       "</tr>\n",
       "<tr>\n",
       "  <th>Method:</th>             <td>Least Squares</td>  <th>  F-statistic:       </th> <td>   167.3</td>\n",
       "</tr>\n",
       "<tr>\n",
       "  <th>Date:</th>             <td>Wed, 28 Apr 2021</td> <th>  Prob (F-statistic):</th> <td>5.76e-32</td>\n",
       "</tr>\n",
       "<tr>\n",
       "  <th>Time:</th>                 <td>07:38:46</td>     <th>  Log-Likelihood:    </th> <td> -4580.4</td>\n",
       "</tr>\n",
       "<tr>\n",
       "  <th>No. Observations:</th>      <td>   382</td>      <th>  AIC:               </th> <td>   9165.</td>\n",
       "</tr>\n",
       "<tr>\n",
       "  <th>Df Residuals:</th>          <td>   380</td>      <th>  BIC:               </th> <td>   9173.</td>\n",
       "</tr>\n",
       "<tr>\n",
       "  <th>Df Model:</th>              <td>     1</td>      <th>                     </th>     <td> </td>   \n",
       "</tr>\n",
       "<tr>\n",
       "  <th>Covariance Type:</th>      <td>nonrobust</td>    <th>                     </th>     <td> </td>   \n",
       "</tr>\n",
       "</table>\n",
       "<table class=\"simpletable\">\n",
       "<tr>\n",
       "        <td></td>          <th>coef</th>     <th>std err</th>      <th>t</th>      <th>P>|t|</th>  <th>[0.025</th>    <th>0.975]</th>  \n",
       "</tr>\n",
       "<tr>\n",
       "  <th>Intercept</th>    <td>-2701.9439</td> <td> 3649.780</td> <td>   -0.740</td> <td> 0.460</td> <td>-9878.239</td> <td> 4474.351</td>\n",
       "</tr>\n",
       "<tr>\n",
       "  <th>num_stations</th> <td> 1.798e+04</td> <td> 1389.659</td> <td>   12.935</td> <td> 0.000</td> <td> 1.52e+04</td> <td> 2.07e+04</td>\n",
       "</tr>\n",
       "</table>\n",
       "<table class=\"simpletable\">\n",
       "<tr>\n",
       "  <th>Omnibus:</th>       <td>95.758</td> <th>  Durbin-Watson:     </th> <td>   1.688</td>\n",
       "</tr>\n",
       "<tr>\n",
       "  <th>Prob(Omnibus):</th> <td> 0.000</td> <th>  Jarque-Bera (JB):  </th> <td> 239.249</td>\n",
       "</tr>\n",
       "<tr>\n",
       "  <th>Skew:</th>          <td> 1.219</td> <th>  Prob(JB):          </th> <td>1.12e-52</td>\n",
       "</tr>\n",
       "<tr>\n",
       "  <th>Kurtosis:</th>      <td> 6.015</td> <th>  Cond. No.          </th> <td>    5.30</td>\n",
       "</tr>\n",
       "</table><br/><br/>Notes:<br/>[1] Standard Errors assume that the covariance matrix of the errors is correctly specified."
      ],
      "text/plain": [
       "<class 'statsmodels.iolib.summary.Summary'>\n",
       "\"\"\"\n",
       "                            OLS Regression Results                            \n",
       "==============================================================================\n",
       "Dep. Variable:              num_trips   R-squared:                       0.306\n",
       "Model:                            OLS   Adj. R-squared:                  0.304\n",
       "Method:                 Least Squares   F-statistic:                     167.3\n",
       "Date:                Wed, 28 Apr 2021   Prob (F-statistic):           5.76e-32\n",
       "Time:                        07:38:46   Log-Likelihood:                -4580.4\n",
       "No. Observations:                 382   AIC:                             9165.\n",
       "Df Residuals:                     380   BIC:                             9173.\n",
       "Df Model:                           1                                         \n",
       "Covariance Type:            nonrobust                                         \n",
       "================================================================================\n",
       "                   coef    std err          t      P>|t|      [0.025      0.975]\n",
       "--------------------------------------------------------------------------------\n",
       "Intercept    -2701.9439   3649.780     -0.740      0.460   -9878.239    4474.351\n",
       "num_stations  1.798e+04   1389.659     12.935      0.000    1.52e+04    2.07e+04\n",
       "==============================================================================\n",
       "Omnibus:                       95.758   Durbin-Watson:                   1.688\n",
       "Prob(Omnibus):                  0.000   Jarque-Bera (JB):              239.249\n",
       "Skew:                           1.219   Prob(JB):                     1.12e-52\n",
       "Kurtosis:                       6.015   Cond. No.                         5.30\n",
       "==============================================================================\n",
       "\n",
       "Notes:\n",
       "[1] Standard Errors assume that the covariance matrix of the errors is correctly specified.\n",
       "\"\"\""
      ]
     },
     "execution_count": 67,
     "metadata": {},
     "output_type": "execute_result"
    }
   ],
   "source": [
    "sm_model = smf.ols(\"num_trips ~ num_stations\", data=trips_start_df)\n",
    "result = sm_model.fit()\n",
    "result.summary()"
   ]
  },
  {
   "cell_type": "markdown",
   "metadata": {},
   "source": [
    "Overall, from the linear regression too, we can see that there is a very small p-value. This means we reject the null hypothesis that more stations will lead to more trips. In our next step, we will look at permutation by the each number of stations with relation to the number of trips"
   ]
  },
  {
   "cell_type": "markdown",
   "metadata": {},
   "source": [
    "**Additional things to look at**\n",
    "- How race/income and citibike stations placement is changing throughout the years. \n",
    "- permutation by columns. with race/income included."
   ]
  },
  {
   "cell_type": "markdown",
   "metadata": {},
   "source": [
    "## Interpretation and Conclusion "
   ]
  },
  {
   "cell_type": "markdown",
   "metadata": {},
   "source": [
    "Over the course of our project, we've found several pieces of evidence that indicate the complexity of factors that are involved in citibike placement in NYC. First, we found evidence that geoids with a high number of stations had lower numbers of trips. \n",
    "\n",
    "This led us to investigating the specific demographics of those areas and researching more into the specific demographics of NYC in conjunction with station placement based on geoid. We found that census tracts with majority white households had a consistently high number of stations when compared to other racial groups. This is consistent with what we found for the geo ids with seven or more stations. Moreover, we found that census tracts with higher income also consistently had a high number of stations. This indicates a racial and income disparity in Citibike station placement. In order to confirm this trend, we looked further into the demographics of citibike users based on trip data. \n",
    "\n",
    "From this trip data, we found that Citibike's placement in predominantly white area is logical given the fact that it would appear that predominantly black census tracts are less likely to utilize Citibike. However, because this could be due simply to the higher number of Citibike stations in these areas, we decided to normalize the data. We normalized the data by dividing the number of trips by the number of stations. When using this normalized data, we found that predominantly asian areas had a high number of trips per station. This indicates that Citibike's placement is not meeting the demand of these Asian census tracts. \n",
    "\n",
    "Moreover, our research in Citibike creation indicates that while Citibike does address the need for Citibike stations in white areas, they are not doing as well for black and asian areas. Specifically, areas with a predominantly asian population indicate that Citibike is not meeting the needs of these areas. \n",
    "\n",
    "These findings indicate that as of 2017 Citibike has needed to make a substantial effort in building more stations in poor and non-white areas. This has been supported by Citibike's recent expansion in 2020, which has added 36 new stations. \n",
    "\n"
   ]
  },
  {
   "cell_type": "markdown",
   "metadata": {},
   "source": [
    "## Limitations"
   ]
  },
  {
   "cell_type": "markdown",
   "metadata": {},
   "source": [
    "### Overall Limitations\n",
    "\n",
    "- We acknowledge that race and income are not the only factors that contribute to the distribution of citibike stations around NYC. We are trying to see if there is a correlations for race and income with the distribution of citibike stations. \n",
    "\n",
    "- Since our data is based off of citibikes in 2017, our results are limited to that year only. That being said, they may be an indicator of how citibike stations are distributed for other years as well."
   ]
  },
  {
   "cell_type": "markdown",
   "metadata": {},
   "source": [
    "### Citi Bike Trip Data Limitations\n",
    "\n",
    "- The trip data **only includes the 'Subscribers' of the users**. Though there may be some one-time-customer passes from NYC residents, due to the large amount of data we decided to settle on subscribers only because there was a higher chance that these people were actually new york city residents. So our data may not be representative of other NYC residents that may have only used one-time passes. \n",
    "\n",
    "- We dropped rows where start station = end station. When the start station = end station we assumed that there would probably we a majority of cases where people where having trouble with using citibike in the inital process. However, **there may be cases where people would have been able to make complete round trips and returned them back to the same location in for some of the trips where the start station = end station**"
   ]
  },
  {
   "cell_type": "markdown",
   "metadata": {},
   "source": [
    "### Citi Bike Stations Data Limitations\n",
    "\n",
    "- One possible limitation of this station data set is that the **count of the number of trips taken from a station is actually the count up to the end of 2019, whereas our project focuses on 2017**. However, there is a workaround for this problem since we also have the trip data, we can just recalculate the number of trips taken from each station up to the end of 2017. \n",
    "\n",
    "- Another limitation is that **the station start date is not actually the date the station was added to the network but is instead the date at which the first trip was taken from the station**, which might not always be the same."
   ]
  },
  {
   "cell_type": "markdown",
   "metadata": {},
   "source": [
    "### Race and Income Data Limitations"
   ]
  },
  {
   "cell_type": "markdown",
   "metadata": {},
   "source": [
    "- One possible limitation of this data set is that **it only looks at survey data from 2017**. However, this is also consistent with the current data available on the American Community Survey website. Currently, the survey website data is only updated up until 2017. Because of this limitation, there may not be potential inaccuracies with representation in the data.\n",
    "\n",
    "- Moreover, populations like the homeless or digital nomads may not be recorded in the data. That being said, the survey itself was collected using this method in order to avoid bias in the data. "
   ]
  },
  {
   "cell_type": "markdown",
   "metadata": {},
   "source": [
    "## Source Code \n",
    "\n",
    "\n",
    "1) Lecture Notes: https://colab.research.google.com/drive/1pMK18-DQoBDA_9rSzio6LJtkCJWxJF1g?usp=drive_open#scrollTo=6p2-tZKgM4He\n",
    "\n",
    "2) Stack Overflow, Pandas, Matplotlib Documentation  : \n",
    "\n",
    "    -  https://matplotlib.org/3.1.1/api/_as_gen/matplotlib.pyplot.xlabel.html\n",
    "    -  https://stackoverflow.com/questions/11346283/renaming-columns-in-pandas"
   ]
  },
  {
   "cell_type": "markdown",
   "metadata": {},
   "source": [
    "## Acknowledgements\n",
    "\n",
    "1) MIT Citibike study :  https://aberke.github.io/income-race-bikes/\n",
    "\n",
    "2) Equity in Citibike study : https://trec.pdx.edu/research/project/884 \n",
    "\n",
    "<em>Special Thanks to Professor Wilkens, Head TA Stephen Cowpar, TA ... in helping us answer our research question properly, find methods to solve our problems, and focus on the direction of our study</em>"
   ]
  },
  {
   "cell_type": "markdown",
   "metadata": {},
   "source": [
    "## Appendix\n",
    "\n",
    "1) Citibike Trip data Data Cleaning Notebooks : https://github.com/shljessie/citibike-nyc/tree/master/data_cleaning/citibike\n",
    "\n",
    "2) NYC Race & Income Data Cleaning Notebooks : https://github.com/shljessie/citibike-nyc/tree/master/data_cleaning/race_and_income \n",
    "\n",
    "3) Citibike Stations Data Cleaning Notebook : https://github.com/shljessie/citibike-nyc/tree/master/data_cleaning/stations\n",
    "\n",
    "4) Citibike Data Cleaning process Phase 2 : https://github.com/shljessie/citibike-nyc/blob/master/project_phase_submissions/phase2_final_notebook.ipynb\n",
    "\n",
    "<!-- 5) Citibike Trip Data Additional Cleaning :  -->"
   ]
  },
  {
   "cell_type": "code",
   "execution_count": null,
   "metadata": {},
   "outputs": [],
   "source": []
  },
  {
   "cell_type": "code",
   "execution_count": null,
   "metadata": {},
   "outputs": [],
   "source": []
  }
 ],
 "metadata": {
  "kernelspec": {
   "display_name": "Python 3",
   "language": "python",
   "name": "python3"
  },
  "language_info": {
   "codemirror_mode": {
    "name": "ipython",
    "version": 3
   },
   "file_extension": ".py",
   "mimetype": "text/x-python",
   "name": "python",
   "nbconvert_exporter": "python",
   "pygments_lexer": "ipython3",
   "version": "3.8.5"
  }
 },
 "nbformat": 4,
 "nbformat_minor": 4
}
