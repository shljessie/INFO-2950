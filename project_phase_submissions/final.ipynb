{
 "cells": [
  {
   "cell_type": "markdown",
   "metadata": {},
   "source": [
    "# Project Phase 5: Citi Bike Distribution in New York City \n",
    "\n",
    "<img src=\"../images/e.png\" width=\"1000\" height=\"60\"></img>\n",
    "\n",
    "This project aims to answer the question **How well does Citi Bike represent NYC demographics? (in 2017)**. \n",
    "\n",
    "#### Team Members \n",
    "- Seonghee Lee (sl994) \n",
    "- Nicholas Rahardja (nmr73)\n",
    "- Chelsea Choi (cc2583)\n",
    "\n",
    "#### Team Github\n",
    "- https://github.com/shljessie/citibike-nyc\n",
    "\n",
    "#### Team Raw Data Google Drive \n",
    "- https://drive.google.com/drive/folders/197_d1BwPHXmVuyKA6I7UEyEw4Nqo8dAk \n",
    "\n",
    "#### Team Final Data Google Drive \n",
    "- https://drive.google.com/drive/folders/1glgD5ly1ABej2GDXzc-iUMjpu4HkItwa?usp=sharing\n",
    "<br/> \n",
    "\n",
    "_______________"
   ]
  },
  {
   "cell_type": "markdown",
   "metadata": {},
   "source": [
    "\n",
    "## Contents of this Notebook\n",
    "\n",
    "1. Introduction\n",
    "2. Data Description \n",
    "3. Pre Registration Statement \n",
    "4. Data Analysis \n",
    "5. Evaluation of Significance \n",
    "6. Interpretation and Conclusion\n",
    "7. Limitations \n",
    "8. Source Code\n",
    "9. Acknowledgement \n",
    "10. Appendix \n",
    "<br/> \n",
    "\n",
    "_______________"
   ]
  },
  {
   "cell_type": "markdown",
   "metadata": {},
   "source": [
    "## 1) Introduction\n",
    "\n",
    "1. Context of Work\n",
    "2. Research Question\n",
    "3. Main Findings\n",
    "4. Summary of Results"
   ]
  },
  {
   "cell_type": "markdown",
   "metadata": {},
   "source": [
    "\n",
    "#### 1. Context of Work\n",
    "\n",
    "Bike sharing comes with many benefits such as providing free or affordable access to bicycles for short-distance trips. By doing so in an urban area, this reduces congestion, noise, and air pollution. \n",
    "\n",
    "However **whether or not these bike sharing systems are truly accessible for all is questionable.** Since the accessibility of these bike sharing systems depend heavily on where the stations are located, it is very likely that where you live becomes the deciding factor in whether or not you will be able to use these bikes. In addition to this, other factors such as the condition of roads and price of usage may be factors that prohibit people from actively using Citi Bikes.\n",
    "\n",
    "In coming up with our research question, we looked at many research papers on bike sharing system equity. \n",
    "For example, a [study done by Portland State University](https://trec.pdx.edu/research/project/884) suggests that significant portions of the population are underrepresented among bike share users, including people of color, along with lower-income, female, older adults and less-educated groups. An [article in 2017](https://usa.streetsblog.org/2017/07/05/whats-keeping-people-from-using-bike-share-new-study-breaks-it-down-by-race-and-income/) finds that this may be due to the fact that these low-income communities and people of color view traffic risk, high prices, and the potential for crime and harassment as the biggest barriers to cycling and using bike-share in their neighborhoods. There has also been [data visualization research at MIT](https://aberke.github.io/income-race-bikes/) about how bikes are being distributed in NYC throughout the years in accordance to race&income.\n",
    "\n",
    "In this project, we are looking closer into how these findings on bike sharing applies to New York City. We have chosen Citi Bike as the bike sharing platform which we will analyze since Citi Bike is the predominant bike sharing platform in NYC. In this project, **we look into how Citi Bike stations are distributed in NYC** and how that relates to the following factors: 1) race & income and  2) Citi Bike usage. Are there more stations in areas of higher usage regardless of race and income? Does race and income seem to have an unignorable correlation with how Citi Bike stations are being distributed? How much of these factors play into the distribution of Citi Bike? How might Citi Bike station distribution be improved? These are the questions we will ask and attempt to answer throughout this project.\n",
    " \n",
    "Through gaining insight on how Citi Bike stations are distributed in NYC, we will also attempt to reccommend ways in which Citi Bike can improve there distribution of stations to better reflect usage in NYC across all of the race and income demographics. \n",
    "\n",
    "#### 2. Research Question\n",
    "\n",
    "How is Citi Bike representing NYC demographics? (in 2017).\n",
    "\n",
    "Here **NYC demographics** will refer to **Race&Income of NYC** and the **usages of Citi Bike trips**.\n",
    "\n",
    "On the other hand, **Citi Bike representation** will refer to the the distribution of stations.\n",
    "\n",
    "#### 3. Project Design + Limitations \n",
    "\n",
    "We are specificially looking at **NYC Citi Bike trip data in 2017 as a sample** of the representation of NYC bike stations around New York. We chose New York City's Citi Bike system since New York City is an area where there are widely varying levels of income. \n",
    "We chose 2017 for two reasons,    1) NYC's race and income data was available for the years 2013 -2018 and 2) 2017 was a year when many new stations of Citi Bike where added to represent its overall usage.\n",
    "We decided that 2017 would be a fair representation of how Citi Bike stations were distributed throughout NYC.\n",
    "\n",
    "We chose geoid as our standard for breaking up NYC into different geographical areas, since a geoid is the unique indentifier for a census tract, and a census tract is the smallest geographic region which the US goverment collects race and income data on during its annual Census. A census tract is roughly equivalent to a neighborhood, and they generally encompass a population between 2500 to 8000 people. \n",
    "<a href=\"https://popfactfinder.planning.nyc.gov/#11.77/40.7438/-73.99\">This link </a> has more information on geoids and the visual size of them on a map.\n",
    "\n",
    "#### 4. Main Findings\n",
    "\n",
    "##### Are Citi Bike Stations distributed by Demand?\n",
    "> To study\n",
    "\n",
    "We found that as of 2017, Citi Bike has primarily placed bike stations in areas that are predominantly white and wealthy. In doing so, Citi Bike has neglected to account for the needs of predominantly asian and black neighborhoods in NYC.\n",
    "\n",
    "#### 5. Summary of Results\n",
    "- We found that census tracts with a high number of stations actually had a lower number of trips. \n",
    "- We found that white and high income areas had a high number of stations\n",
    "- We found that white areas have a high number of stations to meet demand\n",
    "- We found that asian and black neighborhoods do not have enough stations to meet their current demand.\n",
    "<br/> \n",
    "\n",
    "_______________"
   ]
  },
  {
   "cell_type": "code",
   "execution_count": 1,
   "metadata": {},
   "outputs": [],
   "source": [
    "import pandas as pd \n",
    "import numpy as np \n",
    "import seaborn as sns \n",
    "import matplotlib.pyplot as plt \n",
    "import datetime as dt\n",
    "from sklearn.linear_model import LinearRegression\n",
    "from sklearn.linear_model import LogisticRegression\n",
    "from sklearn.metrics import r2_score\n",
    "import statsmodels.api as sm\n",
    "import statsmodels.formula.api as smf"
   ]
  },
  {
   "cell_type": "markdown",
   "metadata": {},
   "source": [
    "## 2) Data Description \n",
    "\n",
    "For this project we used 3 different data sets. \n",
    "1. Citibike Trip Data\n",
    "2. Citibike Station Data\n",
    "3. NYC Race and Income Data\n",
    "\n",
    "The data cleaning process of these data are <a href=\"https://github.com/shljessie/citibike-nyc/tree/master/data_cleaning\">linked here</a>"
   ]
  },
  {
   "cell_type": "markdown",
   "metadata": {},
   "source": [
    "### Dataset 1: Citibike Trip Data"
   ]
  },
  {
   "cell_type": "code",
   "execution_count": 2,
   "metadata": {},
   "outputs": [],
   "source": [
    "# trips_df = pd.read_csv('../data/citibike_trip_final.csv')\n",
    "# print('Number of Rows: {}'.format(trips_df.shape[0]))\n",
    "# print('Number of Columns: {}'.format(trips_df.shape[1]))\n",
    "# trips_df.head()"
   ]
  },
  {
   "cell_type": "markdown",
   "metadata": {},
   "source": [
    "##### 1. What are the observations (rows) and the attributes (columns)?\n",
    "Each observation in this data set corresponds to a trip taken on Citibike in 2017. The following are the features that are recorded for each trip: \n",
    "- start_time: Datetime object for the start time and date of the trip\n",
    "- stop_time: Datetime object for the end time and date of the trip\n",
    "- start_station_name: Name of starting station of the trip, a string\n",
    "- end_station_name: Name of ending station of the trip, a string\n",
    "- birth_year: Year user was born, an integer\n",
    "- gender: (Zero=unknown; 1=male; 2=female)\n",
    "- trip_minutes: Duration of the trip in minutes, an integer\n",
    "- start_station_geoid: Unique identifier for the census tract that the trip started in, an integer\n",
    "- end_station_geoid: Unique identifier for the census tract that the trip ended in, an integer. \n",
    "\n",
    "##### 2. Why was this dataset created?\n",
    "\n",
    "This dataset was created to help developers, engineers, statisticians, artists, academics and the local public to explore the usage of citi bike around New York City. Insights from these findings would help citibike officials find answers to questions like where citibike users ride, how far they go,and what stations are the most popular. It is an open dataset on the public bike sharing system of New York City. It is open to the public to help people find insights about this system.\n",
    "\n",
    "##### 3. Who funded the creation of the dataset?\n",
    "\n",
    "This citibike data was funded by citibike in New York. Lyft is the operator of the Citi Bike program in New York City and Jersey City. The raw dataset was collected from this source https://www.citibikenyc.com/system-data \n",
    "\n",
    "##### 4.What processes might have influenced what data was observed and recorded and what was not?\n",
    "\n",
    "Trips that may have been taken by staff who are managing citibike throughout the city are not good representations of citibikes trips by users only. Bikes may have been relocated overnight so that the distribution of bikes around the city are evenly distributed. Also bikes that may have been broken may lead to a loss of data.  Also citibike usage trip data is not a complete representation of all bike rider data in New York. \n",
    "\n",
    "##### 5. What preprocessing was done, and how did the data come to be in the form that you are using?\n",
    "\n",
    "We dropped columns that we would not be using in our analysis, and also removed rows that had NaN values in them. Furthermore, since the original trips dataset was very large we chose to only consider trips taken by users who are citibike subscribers, in order to reduce the size of the dataset. Deciding to only keep trip data for subscribers also makes sense since, more then 90% of the original trips were taken by subscribers, so removing trips taken by non-subscribers (tourists and onetime users) should not have resulted in any significant loss of data. We have also dropped trips that were over 3 hours. The reason for this is because we wanted to be looking at regular users of citibike. If you keep a bike out for longer than 30 minutes at a time, regardless of the type, it's $0.18 per minute. According to citibike website in 2017 (https://www.citibikenyc.com/pricing/single-ride). Therefore using a citibike for unreasonably long hours of time even if you are a subscriber would be unreasonable since you are being charged. For this analysis we decided to set 3 hours as the limit to a reasonable amount of time,  a person who regularly uses a citibike would ride.  The original table has spaces in its column names, so we decided to change these with underscores to make the more friendly for computation. \n",
    "\n",
    "##### 6. If people are involved, were they aware of the data collection and if so, what purpose did they expect the data to be used for?\n",
    "\n",
    "In signing up for using citibike, these users are allowing for citibike to take data of their usage. \n",
    "Citibike releases information about the user’s ride and trip duration  including their start station, usertype(Subscriber, one time user), gender, and year of birth. Citibike plans on using this data to understand citi bike users and the overall trend of citi bike users in new york city. Though many citibike users might not have been aware of this, they could have assumed that the data was collected to understand the citibike users for business related reasons.\n",
    "\n",
    "##### 7. Where can your raw source data be found, if applicable? Provide a link to the raw data (hosted in a Cornell Google Drive or Cornell Box). \n",
    "\n",
    "https://drive.google.com/drive/folders/11YUr4yiiFKCNlN2MnGPGpCeXyrq92A0Z?usp=sharing\n",
    "\n"
   ]
  },
  {
   "cell_type": "markdown",
   "metadata": {},
   "source": [
    "### Dataset 2 : Citibike Stations Data"
   ]
  },
  {
   "cell_type": "code",
   "execution_count": 3,
   "metadata": {},
   "outputs": [
    {
     "name": "stdout",
     "output_type": "stream",
     "text": [
      "Number of Rows: 839\n",
      "Number of Columns: 10\n"
     ]
    },
    {
     "data": {
      "text/html": [
       "<div>\n",
       "<style scoped>\n",
       "    .dataframe tbody tr th:only-of-type {\n",
       "        vertical-align: middle;\n",
       "    }\n",
       "\n",
       "    .dataframe tbody tr th {\n",
       "        vertical-align: top;\n",
       "    }\n",
       "\n",
       "    .dataframe thead th {\n",
       "        text-align: right;\n",
       "    }\n",
       "</style>\n",
       "<table border=\"1\" class=\"dataframe\">\n",
       "  <thead>\n",
       "    <tr style=\"text-align: right;\">\n",
       "      <th></th>\n",
       "      <th>station_id</th>\n",
       "      <th>station_name</th>\n",
       "      <th>lat</th>\n",
       "      <th>lon</th>\n",
       "      <th>first_trip</th>\n",
       "      <th>last_trip</th>\n",
       "      <th>geoid</th>\n",
       "      <th>trips_starting_here_2017</th>\n",
       "      <th>trips_ending_here_2017</th>\n",
       "      <th>total_trips_2017</th>\n",
       "    </tr>\n",
       "  </thead>\n",
       "  <tbody>\n",
       "    <tr>\n",
       "      <th>0</th>\n",
       "      <td>254.0</td>\n",
       "      <td>W 11 St &amp; 6 Ave</td>\n",
       "      <td>40.735324</td>\n",
       "      <td>-73.998004</td>\n",
       "      <td>2013-06-01</td>\n",
       "      <td>2019-07-31</td>\n",
       "      <td>36061006300</td>\n",
       "      <td>141183</td>\n",
       "      <td>143935</td>\n",
       "      <td>285118</td>\n",
       "    </tr>\n",
       "    <tr>\n",
       "      <th>1</th>\n",
       "      <td>252.0</td>\n",
       "      <td>MacDougal St &amp; Washington Sq</td>\n",
       "      <td>40.732264</td>\n",
       "      <td>-73.998522</td>\n",
       "      <td>2013-06-01</td>\n",
       "      <td>2019-07-31</td>\n",
       "      <td>36061006300</td>\n",
       "      <td>141183</td>\n",
       "      <td>143935</td>\n",
       "      <td>285118</td>\n",
       "    </tr>\n",
       "    <tr>\n",
       "      <th>2</th>\n",
       "      <td>253.0</td>\n",
       "      <td>W 13 St &amp; 5 Ave</td>\n",
       "      <td>40.735439</td>\n",
       "      <td>-73.994539</td>\n",
       "      <td>2013-06-01</td>\n",
       "      <td>2018-10-31</td>\n",
       "      <td>36061006300</td>\n",
       "      <td>141183</td>\n",
       "      <td>143935</td>\n",
       "      <td>285118</td>\n",
       "    </tr>\n",
       "    <tr>\n",
       "      <th>3</th>\n",
       "      <td>345.0</td>\n",
       "      <td>W 13 St &amp; 6 Ave</td>\n",
       "      <td>40.736494</td>\n",
       "      <td>-73.997044</td>\n",
       "      <td>2013-06-01</td>\n",
       "      <td>2018-10-31</td>\n",
       "      <td>36061006300</td>\n",
       "      <td>141183</td>\n",
       "      <td>143935</td>\n",
       "      <td>285118</td>\n",
       "    </tr>\n",
       "    <tr>\n",
       "      <th>4</th>\n",
       "      <td>151.0</td>\n",
       "      <td>Cleveland Pl &amp; Spring St</td>\n",
       "      <td>40.721816</td>\n",
       "      <td>-73.997203</td>\n",
       "      <td>2013-06-01</td>\n",
       "      <td>2019-07-31</td>\n",
       "      <td>36061004100</td>\n",
       "      <td>121704</td>\n",
       "      <td>118537</td>\n",
       "      <td>240241</td>\n",
       "    </tr>\n",
       "  </tbody>\n",
       "</table>\n",
       "</div>"
      ],
      "text/plain": [
       "   station_id                  station_name        lat        lon  first_trip  \\\n",
       "0       254.0               W 11 St & 6 Ave  40.735324 -73.998004  2013-06-01   \n",
       "1       252.0  MacDougal St & Washington Sq  40.732264 -73.998522  2013-06-01   \n",
       "2       253.0               W 13 St & 5 Ave  40.735439 -73.994539  2013-06-01   \n",
       "3       345.0               W 13 St & 6 Ave  40.736494 -73.997044  2013-06-01   \n",
       "4       151.0      Cleveland Pl & Spring St  40.721816 -73.997203  2013-06-01   \n",
       "\n",
       "    last_trip        geoid  trips_starting_here_2017  trips_ending_here_2017  \\\n",
       "0  2019-07-31  36061006300                    141183                  143935   \n",
       "1  2019-07-31  36061006300                    141183                  143935   \n",
       "2  2018-10-31  36061006300                    141183                  143935   \n",
       "3  2018-10-31  36061006300                    141183                  143935   \n",
       "4  2019-07-31  36061004100                    121704                  118537   \n",
       "\n",
       "   total_trips_2017  \n",
       "0            285118  \n",
       "1            285118  \n",
       "2            285118  \n",
       "3            285118  \n",
       "4            240241  "
      ]
     },
     "execution_count": 3,
     "metadata": {},
     "output_type": "execute_result"
    }
   ],
   "source": [
    "stations_df = pd.read_csv('../data/citibike_stations_final.csv')\n",
    "print('Number of Rows: {}'.format(stations_df.shape[0]))\n",
    "print('Number of Columns: {}'.format(stations_df.shape[1]))\n",
    "stations_df.head()"
   ]
  },
  {
   "cell_type": "markdown",
   "metadata": {},
   "source": [
    "##### 1. What are the observations (rows) and the attributes (columns)?\n",
    "\n",
    "Each observation in this data set corresponds to a unique Citi Bike station in NYC. The following are the features for each station that is collected in this dataset: \n",
    "\n",
    "- station_id: Unique identifier for a station, an integer\n",
    "- station_name: Name of the station, a string \n",
    "- lat: Latitude of the station, a float\n",
    "- lon: Longitude of the station, a float \n",
    "- first_trip: Date of the first trip ever taken from the station, DateTime object \n",
    "- last_trip: Date of the last trip taken from the station (at the time this data set was downloaded), DateTime object\n",
    "- geoid: Unique identifier for the NYC census tract that the station is located in, an integer \n",
    "- trips_starting_here_2017: number of trips taken from this station in 2017, an integer \n",
    "- trips_ending_here_2017: number of trips ending at this station in 2017, an integer\n",
    "- total_trips_2017: total number of trips taken to and from this station in 2017, an integer\n",
    "\n",
    "##### 2. Why was this dataset created?\n",
    "\n",
    "The base dataset for this table came from the same source as the Citbike trip data set described above. However, more processing was done to this data to obtain this station dataset by a team of MIT researchers who were trying to map out the locations of Citi Bike stations in NYC for their research purposes. \n",
    "\n",
    "##### 3. Who funded the creation of the dataset?\n",
    "\n",
    "This table uses as its base table the Cibike trip data set that was funded by citibike in New York. However, the processing that was done to this raw citi bike data was done by MIT researchers, so it can be assumed that MIT indirectly funded the creation of this Citibike trip data set. MIT Media Lab research: https://github.com/aberke/income-race-bikes/tree/master/data/nyc-bike\n",
    "\n",
    "\n",
    "##### 4.What processes might have influenced what data was observed and recorded and what was not?\n",
    "\n",
    "A small number of stations are located on the boundary between two census tracts, in which case we decided to select the first census tract returned by the API. \n",
    "\n",
    "##### 5. What preprocessing was done, and how did the data come to be in the form that you are using?\n",
    "\n",
    "The original citibike station data, was already well formatted, but did not include the geoid which we needed to identify, which geographic location does the station belong to. To obtain this geoid for each station, we used an API to obtain the geoid corresponding to the census tract that the station is located in. Next since our project focuses on 2017, we removed all stations that had its first trip after 2017 since this means that these stations were made after 2017, and thus are not relevant to our analysis. Furthermore, the original dataset had the number of trips from each station calculated up to 2019, thus we removed this column and used the trip dataset to calculate the number of trips taken to and from each station in 2017. We also renamed a few columns to make their names more intuitive such as renaming ‘id’ to ‘station_id’ and ‘name’ to ‘station_name’. \n",
    "Currently this station dataset doesn't exclude stations that are located in parks. But when we use this data alongside the race/income data of NYC the geoids of the parks (so the stations that are located in parks)are naturally removed because the census data of race/income does not look at a census of a park. \n",
    "\n",
    "##### 6. If people are involved, were they aware of the data collection and if so, what purpose did they expect the data to be used for?\n",
    "\n",
    "Since this data set is derived from the citi bike trips dataset, citi bike users were made aware that citibike would be tracking their usage data, when users signed up for the application. \n",
    "\n",
    "The expected usage of this data is the same as for the Citi Bike trip data above. \n",
    "\n",
    "\n",
    "##### 7. Where can your raw source data be found, if applicable? Provide a link to the raw data (hosted in a Cornell Google Drive or Cornell Box). \n",
    "\n",
    "https://drive.google.com/file/d/1pATvzg-PTpPvs_8x5pKIs_jqlbKrWyat/view?usp=sharing\n"
   ]
  },
  {
   "cell_type": "markdown",
   "metadata": {},
   "source": [
    "### Dataset 3 : NYC Race and Income Data in 2017"
   ]
  },
  {
   "cell_type": "code",
   "execution_count": 4,
   "metadata": {},
   "outputs": [
    {
     "name": "stdout",
     "output_type": "stream",
     "text": [
      "Number of Rows: 4787\n",
      "Number of Columns: 8\n"
     ]
    },
    {
     "data": {
      "text/html": [
       "<div>\n",
       "<style scoped>\n",
       "    .dataframe tbody tr th:only-of-type {\n",
       "        vertical-align: middle;\n",
       "    }\n",
       "\n",
       "    .dataframe tbody tr th {\n",
       "        vertical-align: top;\n",
       "    }\n",
       "\n",
       "    .dataframe thead th {\n",
       "        text-align: right;\n",
       "    }\n",
       "</style>\n",
       "<table border=\"1\" class=\"dataframe\">\n",
       "  <thead>\n",
       "    <tr style=\"text-align: right;\">\n",
       "      <th></th>\n",
       "      <th>geoid</th>\n",
       "      <th>2017_median_income</th>\n",
       "      <th>2017_population</th>\n",
       "      <th>2017_white_population</th>\n",
       "      <th>2017_black_population</th>\n",
       "      <th>2017_asian_population</th>\n",
       "      <th>2017_other_population</th>\n",
       "      <th>2017_2_or_more_races</th>\n",
       "    </tr>\n",
       "  </thead>\n",
       "  <tbody>\n",
       "    <tr>\n",
       "      <th>0</th>\n",
       "      <td>36001000100</td>\n",
       "      <td>27250</td>\n",
       "      <td>1939</td>\n",
       "      <td>502</td>\n",
       "      <td>1142</td>\n",
       "      <td>16</td>\n",
       "      <td>112</td>\n",
       "      <td>167</td>\n",
       "    </tr>\n",
       "    <tr>\n",
       "      <th>1</th>\n",
       "      <td>36001000200</td>\n",
       "      <td>24091</td>\n",
       "      <td>4731</td>\n",
       "      <td>710</td>\n",
       "      <td>3474</td>\n",
       "      <td>104</td>\n",
       "      <td>32</td>\n",
       "      <td>411</td>\n",
       "    </tr>\n",
       "    <tr>\n",
       "      <th>2</th>\n",
       "      <td>36001000300</td>\n",
       "      <td>33454</td>\n",
       "      <td>5558</td>\n",
       "      <td>2589</td>\n",
       "      <td>1539</td>\n",
       "      <td>559</td>\n",
       "      <td>291</td>\n",
       "      <td>580</td>\n",
       "    </tr>\n",
       "    <tr>\n",
       "      <th>3</th>\n",
       "      <td>36001000401</td>\n",
       "      <td>74255</td>\n",
       "      <td>2459</td>\n",
       "      <td>2183</td>\n",
       "      <td>131</td>\n",
       "      <td>92</td>\n",
       "      <td>28</td>\n",
       "      <td>25</td>\n",
       "    </tr>\n",
       "    <tr>\n",
       "      <th>4</th>\n",
       "      <td>36001000403</td>\n",
       "      <td>70815</td>\n",
       "      <td>4695</td>\n",
       "      <td>3256</td>\n",
       "      <td>714</td>\n",
       "      <td>416</td>\n",
       "      <td>79</td>\n",
       "      <td>230</td>\n",
       "    </tr>\n",
       "  </tbody>\n",
       "</table>\n",
       "</div>"
      ],
      "text/plain": [
       "         geoid  2017_median_income  2017_population  2017_white_population  \\\n",
       "0  36001000100               27250             1939                    502   \n",
       "1  36001000200               24091             4731                    710   \n",
       "2  36001000300               33454             5558                   2589   \n",
       "3  36001000401               74255             2459                   2183   \n",
       "4  36001000403               70815             4695                   3256   \n",
       "\n",
       "   2017_black_population  2017_asian_population  2017_other_population  \\\n",
       "0                   1142                     16                    112   \n",
       "1                   3474                    104                     32   \n",
       "2                   1539                    559                    291   \n",
       "3                    131                     92                     28   \n",
       "4                    714                    416                     79   \n",
       "\n",
       "   2017_2_or_more_races  \n",
       "0                   167  \n",
       "1                   411  \n",
       "2                   580  \n",
       "3                    25  \n",
       "4                   230  "
      ]
     },
     "execution_count": 4,
     "metadata": {},
     "output_type": "execute_result"
    }
   ],
   "source": [
    "race_income_df = pd.read_csv('../data/race_and_income_final.csv')\n",
    "print('Number of Rows: {}'.format(race_income_df.shape[0]))\n",
    "print('Number of Columns: {}'.format(race_income_df.shape[1]))\n",
    "race_income_df.head()"
   ]
  },
  {
   "cell_type": "markdown",
   "metadata": {},
   "source": [
    "##### 1. What are the observations (rows) and the attributes (columns)?\n",
    "\n",
    "Each observation in this data set corresponds to a different census tract in NYC. A census tract is the smallest geographical area, defined by the US goverment, which census data is collected on. For each census tract the following are the attributes in the dataset. \n",
    "\n",
    "- geoid: Unique identifier for the census tract that the station is located in, an integer \n",
    "- 2017_median_income: Median income (dollars) in the census tract in 2017, an integer\n",
    "- 2017_population: Total population in the census tract in 2017, an integer\n",
    "- 2017_white_population: Total number of White individuals in the census tract, an integer\n",
    "- 2017_black_population: Total number of Black individuals in the census tract, an integer\n",
    "- 2017_asian_population: Total number of Asian individuals in the census tract, an integer\n",
    "- 2017_2_or_more_races : Total number of individuals who identify as two or more races in the census tract, an integer\n",
    "\n",
    "##### 2. Why was this dataset created?\n",
    "\n",
    "This dataset was created in order to study the census tract data along with the associated race and income in that tract from 2017. This was done by extracting the household median income and household race from the American Community Survey. \n",
    "\n",
    "##### 3. Who funded the creation of the dataset?\n",
    "\n",
    "This data was created and funded by the United States Census bureau. ACS: https://data.census.gov/cedsci/The creation of this dataset was funded by the MIT Media Lab. MIT Media Lab : https://github.com/aberke/income-race-bikes/blob/master/data/ny/race_and_income_data.csv.\n",
    "\n",
    "##### 4. What processes might have influenced what data was observed and recorded and what was not?\n",
    "\n",
    "The American Community Survey’s data collection process is performed by randomly selecting 3.5 million addresses to reply to the survey in order to represent the entire population. Because this survey is limited to those with addresses, there may be households and individuals who are not recorded in the census. For example, the homeless population is difficult to track and therefore could influence the data as well. \n",
    "\n",
    "##### 5. What preprocessing was done, and how did the data come to be in the form that you are using?\n",
    "Because the original data from the American Community Survey was downloaded as a shapefile, the data had to be extracted and transformed into a dataframe. After extracting the race, income, and renaming the columns, the data set was created. \n",
    "\n",
    "Next, we dropped rows where the median income was missing or had NaN values. Furthermore for census tracts that had median income values of '$250,000+' we changed the median income value to '250,000' so that they can be treated as a numeric value. Laslty, we only kept the race and income data for 2017 and dropped all the other columns which correspond to the other years. \n",
    "\n",
    "##### 6. If people are involved, were they aware of the data collection and if so, what purpose did they expect the data to be used for?\n",
    "The individuals contacted were aware of the data collection. In the constitution, it states that a census must be taken every 10 years. People likely understand the main purpose of the census as determining where federal and state funding should be spent. Moreover, their data is protected from being shared and used by any other government agency. \n",
    "\n",
    "##### 7. Where can your raw source data be found, if applicable? Provide a link to the raw data (hosted in a Cornell Google Drive or Cornell Box). \n",
    "https://drive.google.com/file/d/1obfrrDul07XDXEvyK6kf-N66_2K5-g88/view?usp=sharing\n",
    "<br> \n",
    "\n",
    "_________"
   ]
  },
  {
   "cell_type": "markdown",
   "metadata": {},
   "source": [
    "## 3) Preregistration Statement "
   ]
  },
  {
   "cell_type": "markdown",
   "metadata": {},
   "source": [
    "#### Research Question: How is citibike representing NYC demographics?\n",
    "\n",
    ">In our research question NYC demographics refers to  **1) the usage of citibike** and **2) the race and income of NYC**\n",
    "\n",
    "\n",
    "#### Analysis 1: What is the relationship between Citibike trips and number of stations in a census tract?\n",
    "\n",
    ">This analysis idea is intended to explore the relationship between citibike usage (trips) and the number of stations in a geoid. Here we are mainly attempting to answer the question **\"Are there more stations in areas of higher usage?\"**\n",
    "We will check through graphs to explore what the relationship between trips and stations look like and confirm the relationship/absence of a relationship through **Linear Regression** and statistical findings.\n",
    "Additionally we will be looking more closely at geoids with many stations but low amount of trips to see what may have caused an increased amount of stations in those areas.\n",
    "\n",
    "       \n",
    "#### Analysis 2: How is station placement by geoid representing NYC race & income demographics? (Stations vs Race/Income) \n",
    "\n",
    ">To further our understanding of whether citibike is fairly distributing its stations, we will look into whether the race and income of a census tract has a relationship with the number of stations located in the area.\n",
    " \n",
    "\n",
    "\n",
    "##### Additional Analysis\n",
    "\n",
    "- \n",
    "\n"
   ]
  },
  {
   "cell_type": "markdown",
   "metadata": {},
   "source": [
    "## 4) Data Analysis "
   ]
  },
  {
   "cell_type": "markdown",
   "metadata": {},
   "source": [
    "### Analysis 1: What is the relationship between Citibike trips and number of stations in a census tract?\n",
    "\n",
    ">##### Trips vs Number of Stations in a Census Tract\n",
    "We first want to look into whether citibike stations are distributed mainly based on demand. Here we start off by understanding the relationship between citibike trips and the number of stations in a census tract."
   ]
  },
  {
   "cell_type": "markdown",
   "metadata": {},
   "source": [
    "\n",
    "In the code below we show the process of grouping the stations by geoid, and linking the number of trips taken at each of the stations."
   ]
  },
  {
   "cell_type": "markdown",
   "metadata": {},
   "source": [
    "#### Trips and Stations by Geoid"
   ]
  },
  {
   "cell_type": "code",
   "execution_count": 5,
   "metadata": {},
   "outputs": [
    {
     "ename": "NameError",
     "evalue": "name 'trips_df' is not defined",
     "output_type": "error",
     "traceback": [
      "\u001b[0;31m---------------------------------------------------------------------------\u001b[0m",
      "\u001b[0;31mNameError\u001b[0m                                 Traceback (most recent call last)",
      "\u001b[0;32m<ipython-input-5-ecde47ce8e7b>\u001b[0m in \u001b[0;36m<module>\u001b[0;34m\u001b[0m\n\u001b[1;32m      8\u001b[0m \u001b[0;34m\u001b[0m\u001b[0m\n\u001b[1;32m      9\u001b[0m \u001b[0;31m## Number of Start Stations at each geoid\u001b[0m\u001b[0;34m\u001b[0m\u001b[0;34m\u001b[0m\u001b[0;34m\u001b[0m\u001b[0m\n\u001b[0;32m---> 10\u001b[0;31m \u001b[0mtrips_start_df\u001b[0m \u001b[0;34m=\u001b[0m \u001b[0mtrips_df\u001b[0m\u001b[0;34m.\u001b[0m\u001b[0mgroupby\u001b[0m\u001b[0;34m(\u001b[0m\u001b[0;34m[\u001b[0m\u001b[0;34m'start_station_geoid'\u001b[0m\u001b[0;34m]\u001b[0m\u001b[0;34m)\u001b[0m\u001b[0;34m.\u001b[0m\u001b[0msize\u001b[0m\u001b[0;34m(\u001b[0m\u001b[0;34m)\u001b[0m\u001b[0;34m.\u001b[0m\u001b[0mreset_index\u001b[0m\u001b[0;34m(\u001b[0m\u001b[0mname\u001b[0m \u001b[0;34m=\u001b[0m \u001b[0;34m'Number of Trips'\u001b[0m\u001b[0;34m)\u001b[0m\u001b[0;34m\u001b[0m\u001b[0;34m\u001b[0m\u001b[0m\n\u001b[0m\u001b[1;32m     11\u001b[0m \u001b[0mtrips_start_df\u001b[0m \u001b[0;34m=\u001b[0m \u001b[0mtrips_start_df\u001b[0m\u001b[0;34m.\u001b[0m\u001b[0msort_values\u001b[0m\u001b[0;34m(\u001b[0m\u001b[0;34m'Number of Trips'\u001b[0m\u001b[0;34m,\u001b[0m \u001b[0mascending\u001b[0m\u001b[0;34m=\u001b[0m\u001b[0;32mFalse\u001b[0m\u001b[0;34m)\u001b[0m\u001b[0;34m\u001b[0m\u001b[0;34m\u001b[0m\u001b[0m\n\u001b[1;32m     12\u001b[0m \u001b[0mtrips_start_df\u001b[0m \u001b[0;34m=\u001b[0m \u001b[0mtrips_start_df\u001b[0m\u001b[0;34m.\u001b[0m\u001b[0mrename\u001b[0m\u001b[0;34m(\u001b[0m\u001b[0mcolumns\u001b[0m\u001b[0;34m=\u001b[0m\u001b[0;34m{\u001b[0m\u001b[0;34m'start_station_geoid'\u001b[0m\u001b[0;34m:\u001b[0m \u001b[0;34m'geoid'\u001b[0m\u001b[0;34m}\u001b[0m\u001b[0;34m)\u001b[0m\u001b[0;34m\u001b[0m\u001b[0;34m\u001b[0m\u001b[0m\n",
      "\u001b[0;31mNameError\u001b[0m: name 'trips_df' is not defined"
     ]
    }
   ],
   "source": [
    "#group by geoid and count number of stations\n",
    "stations_geoid = stations_df.groupby(['geoid']).size().reset_index(name = 'Number of Stations')\n",
    "stations_geoid = stations_geoid.sort_values('Number of Stations', ascending=False)\n",
    "\n",
    "#remove park geoids\n",
    "geoids_remove=['36061014300','36047017700','36061000500','36081009900','36061031703','36047001800','36081003700']\n",
    "stations_geoid = stations_geoid[~stations_geoid['geoid'].isin(geoids_remove)]\n",
    "\n",
    "## Number of Start Stations at each geoid\n",
    "trips_start_df = trips_df.groupby(['start_station_geoid']).size().reset_index(name = 'Number of Trips')\n",
    "trips_start_df = trips_start_df.sort_values('Number of Trips', ascending=False)\n",
    "trips_start_df = trips_start_df.rename(columns={'start_station_geoid': 'geoid'})\n",
    "trips_start_df= pd.merge(stations_geoid,trips_start_df,  on=['geoid'], how='inner')\n",
    "\n",
    "## Number of End Stations at each geoid\n",
    "trips_end_df = trips_df.groupby(['end_station_geoid']).size().reset_index(name = 'Number of Trips')\n",
    "trips_end_df = trips_end_df.sort_values('Number of Trips', ascending=False)\n",
    "trips_end_df = trips_end_df.rename(columns={'end_station_geoid': 'geoid'})\n",
    "trips_end_df= pd.merge(stations_geoid,trips_end_df,  on=['geoid'], how='inner')\n",
    "\n",
    "fig, (ax1, ax2) = plt.subplots(nrows=1, ncols=2, figsize=(16,8), sharey=True)\n",
    "\n",
    "## Start Stations\n",
    "sns.scatterplot(x=\"Number of Stations\", y=\"Number of Trips\", data=trips_start_df,ax=ax1, alpha=0.5)\n",
    "ax1.set_title(\"Geoids where Trips Started\")\n",
    "## End stations \n",
    "sns.scatterplot(x=\"Number of Stations\", y=\"Number of Trips\", data=trips_end_df,ax=ax2, alpha=0.5)\n",
    "ax2.set_title(\"Geoids where Trips Ended\")\n",
    "plt.show()"
   ]
  },
  {
   "cell_type": "markdown",
   "metadata": {},
   "source": [
    "Here we have created a two scatterplots. Each of the points in the scatterplot refer to a unique geoid in New York City. These two scatterplots show the number of stations in that geoid and the number of trips taken in that geoid. \n",
    "\n",
    "Looking at the scatterplot, **there seems to be no linear relationship between the number of stations and the number of trips in a geoid**. For stations in the range 1-5, as the number of stations increases, there seems to be a wider range of number of trips. As the number of stations increases there is more variability in the number of trips in the data. However, as we look at the geoids with 6,7,9 stations we can see that some of these places, despite having a significantly lower amount of trips have more stations compared to other geoids. For the geoid with 9 stations, there is very low usage. Other geoids with similar usage have only 1 or 2 stations. This goes the same for places with 5,6,7,9 stations. Though some places have a lot of usage, there seems to be a oversupply of stations in these areas.\n",
    "\n",
    "We were able to see through this scatterplot that places with more trips did not lead directly to having more stations. This means that there must be other factors that are influencing the amount of stations that are placed in a geoid.\n",
    "For our next step, we will be looking at geoids with more stations than the average , specifically geoids with 6,7,9 stations. We will first take a look to see where these areas are located on a map.\n",
    "We have decided to first check the location because disregarding race/income one thing we think may have influenced a larger number of stations is location. For example, If it is close to a dock area or if the place has more parks this may influence the number of stations in that area. \n",
    "Now for our next step we will see if the places with a greater amount of stations are influenced by location and check where each of the geoids are located.\n",
    "\n",
    "But first we will compute the average number of trips taken from all the geoids to use as a metric in the next steps of our analysis"
   ]
  },
  {
   "cell_type": "markdown",
   "metadata": {},
   "source": [
    "#### Average Number of Trips Computation & Visualization"
   ]
  },
  {
   "cell_type": "code",
   "execution_count": null,
   "metadata": {},
   "outputs": [],
   "source": [
    "# Average Calculation \n",
    "mean_start= np.mean(trips_start_df['Number of Trips'])\n",
    "mean_end= np.mean(trips_end_df['Number of Trips'])\n",
    "\n",
    "# Max and Min Trips Calculation\n",
    "min_start=np.min(trips_start_df['Number of Trips'])\n",
    "max_start=np.max(trips_start_df['Number of Trips'])\n",
    "min_end=np.min(trips_end_df['Number of Trips'])\n",
    "max_end=np.max(trips_end_df['Number of Trips'])\n",
    "\n",
    "# Draw the Number of Trips plot\n",
    "fig, (ax1, ax2) = plt.subplots(nrows=1, ncols=2, figsize=(15,4),sharey=True)\n",
    "sns.histplot(data=trips_start_df,x=\"Number of Trips\",bins=50,ax=ax1)\n",
    "ax1.axvline(mean_start, color=\"green\", linestyle=\"dashed\")\n",
    "ax1.text(40000,85,'Mean: 36322', fontsize=10, color='green')\n",
    "ax1.set_title(\"Geoids where Trips Started\")\n",
    "\n",
    "sns.histplot(data=trips_end_df,x=\"Number of Trips\",bins=50,ax=ax2)\n",
    "ax2.axvline(mean_end, color=\"green\", linestyle=\"dashed\")\n",
    "ax2.text(40000,85,'Mean: 36372', fontsize=10, color='green')\n",
    "ax2.set_title(\"Geoids where Trips Ended\")\n",
    "ax2.set(ylabel='Count')\n",
    "plt.show()\n",
    "\n",
    "print(\"Average Number of Trips (Start) : \",\"{:.0f}\".format(mean_start))\n",
    "print(\"Min Number of Trips (Start) : \",\"{:.0f}\".format(min_start))\n",
    "print(\"Max Number of Trips (Start) : \",\"{:.0f}\".format(max_start))\n",
    "print(\"\\n\")\n",
    "print(\"Average Number of Trips (End) : \",\"{:.0f}\".format(mean_end))\n",
    "print(\"Min Number of Trips (End) : \",\"{:.0f}\".format(min_end))\n",
    "print(\"Max Number of Trips (End) : \",\"{:.0f}\".format(max_end))"
   ]
  },
  {
   "cell_type": "markdown",
   "metadata": {},
   "source": [
    "In geoids where trips started, the average number of trips is 36322. The minimum number of trips is 47 and the maximum number of trips is  266800.\n",
    "\n",
    "In geoids where trips ended, the average number of trips is 36373. The minimum number of trips is 41 and the maximum number of trips is 262553.\n",
    "\n",
    "From this we can see that the average number of trips taken for both of these cases are very similar. From the distribution bar graph, we can also see that the two graphs are right-skewed. A majority of the trips taken lie within the 0-50000 range for both of the two distributions."
   ]
  },
  {
   "cell_type": "markdown",
   "metadata": {},
   "source": [
    "#### Where are the geoids with greater amount of stations located?\n",
    "\n",
    ">Now we will look more closely at where the geoids with more stations are located. Though location wasn't an initial preregistered analysis or part of the \"NYC demographics\" in our research question, we believe that it may be an important factor as to explaining the distribution of stations so we will be looking into it in this step.\n"
   ]
  },
  {
   "cell_type": "code",
   "execution_count": null,
   "metadata": {
    "scrolled": true
   },
   "outputs": [],
   "source": [
    "print(trips_start_df.loc[trips_start_df['Number of Stations'].apply(lambda x: True if x in [6,7,9] else False)].sort_values(by=['Number of Stations']))"
   ]
  },
  {
   "cell_type": "markdown",
   "metadata": {},
   "source": [
    "#### Geoids with 6,7,9 stations \n",
    "<img src=\"../images/4.png\" width=\"700\">"
   ]
  },
  {
   "cell_type": "markdown",
   "metadata": {},
   "source": [
    "The colored map above shows the geoids with 6,7,9 stations. These geoids were found by finding the unique geoids in the dataset with 6,7,9 stations and then locating them through the <a href=\"https://popfactfinder.planning.nyc.gov/#13.72/40.7213/-73.95609\"> NYC dot</a>. (We can locate the geoids by inserting the geoid into the search box). Then we created a graph that looks at the marked geoids, their number of stations and the trips taken from that geoid.\n",
    "\n",
    "Below we have made estimates as to why there are so many stations in these geoids depending on location. The information listed below are all estimates we have made as to why there are so many stations in these geoids.\n",
    "\n",
    "##### Geoids with 6 stations\n",
    "The geoids labeled A,B,C on the map are located near a dock area. These areas tend to have open space for bike riding. We can also see that these places (A,B,C) also have a large amount of trips taken which serves as a reason to why there are more stations in those geoids compared to other areas. \n",
    "\n",
    "For the geoid locations D and E, they are located near the dock areas of Manhattan too. Also they seem to have 145449 and 178200 number of trips taken in those areas which is within the 90th percentile of most trips taken. We can check the quantiles of the Number of Trips through the dataframe below.\n",
    "\n",
    "The distribution of 6 stations in geoid F doesn't seem to have a significant relationship with location or number of trips. It is not located in a dock area and there are no parks nearby. Also, the number of trips taken at this geoid is above the 60% percentile but below the 90th percentile. There may be more reasons as to why there are 6 stations in this location. \n",
    "\n",
    "Geoid G seems to have a park located within that geoid. Though the number of trips taken at this point is below the 60% percentile, the presense of a park may be what is influencing the number of stations in this area."
   ]
  },
  {
   "cell_type": "code",
   "execution_count": null,
   "metadata": {},
   "outputs": [],
   "source": [
    "print(\"Quantile of Number of Trips\")\n",
    "trips_start_df[['Number of Trips']].quantile([.5,.6,.90, .95])"
   ]
  },
  {
   "cell_type": "markdown",
   "metadata": {},
   "source": [
    "##### Geoids with 7 stations\n",
    "For geoids with 7 stations, the geoid labeled H is located in the dock area and 159969 trips where taken in those stations. The amount of trips taken in geoid H is above the 95% percentile. So both the location and the significant amount of trips taken at that location seems to have contributed to 7 stations in that location.\n",
    "\n",
    "The geoid I is located somewhat near the dock area but has 15514 number of trips taken which is below the 50 percentile of trips taken. There maybe additional reasons as to why there are so many stations in this area too. \n",
    "\n",
    "<br/>\n",
    "\n",
    "##### Geoids with 9 stations\n",
    "Geoid J with 9 stations is located in the dock area. The number of trips taken at this place is very low. However, despite this fact, there are 9 stations placed in this location which is the largest number of stations among all the geoids.\n",
    "\n",
    "An overall pattern we can see here is that most many of the stations are placed in places that are in dock areas or have a park within it. Along the dock areas, though they are not parks, there seems to be more station placement. Places that have more stations but less a usage tend to have such a distribution because there is a nearby park or it is located in a dock area.\n",
    "\n",
    "Also these areas with more stations don't always seem to have a greater amount of trips taken as many of them have trips taken between the 50% percentile and the 60% percentile of total amounts of trips. In looking through this data we have also found that the reason behind why there are so many stations is unclear for places like geoid F or geoid I.\n",
    "\n",
    "<br/>\n",
    "\n",
    "Looking at the location and the amount of trips of these geoids we found that,\n",
    " - Many of the stations are placed in places that are in dock areas or have a park within it but this is not always the case. \n",
    " - Approximately 40% (4 out of the top 10 geoids with most stations) have trips taken that lie between the 50% percentile and the 60% percentile of total amounts of trips."
   ]
  },
  {
   "cell_type": "markdown",
   "metadata": {},
   "source": [
    "From these analyses above, we can estimate that **there doesn't seem to be a clear relationship between the number of trips and the number of stations**. The scatterplot we drew earlier also shows that **for geoids with 1,2,3,4,5 stations there isn't a strong relationship between the number of trips and the number of stations**. Also by taking a closer look at the geoids with 6,7,9 stations we could also see that this wasn't the case.\n",
    "\n",
    "Now we will be conducting **Linear Regression** to evaluate and confirm that what we estimate is true from our scatterplot **(there is no relationship between the number of trips and the number of stations)** holds true nummerically. "
   ]
  },
  {
   "cell_type": "markdown",
   "metadata": {},
   "source": [
    "### Linear Regression of Trips vs Stations"
   ]
  },
  {
   "cell_type": "markdown",
   "metadata": {},
   "source": [
    "\"Now we will be conducting **Linear Regression** to evaluate that what we estimate is true from our scatterplot holds true nummerically.\n",
    "##### Formula: \n",
    ">$y_i = \\alpha + \\beta_1 Trips$ \n",
    "\n",
    "#### Hypothesis\n",
    "We expect that places geoids with more trips will have more stations.\n",
    "\n",
    ">##### H0: There is no relationship between the number of trips and the number of stations in a geoid\n",
    ">##### Ha: There is a relationship between the number of trips and the number of stations in a geoid\n",
    "\n",
    "\"The significance level will be 0.05. We will conduct this for both the start station data and the end station data.\",\n",
    "\"We will use the number of stations as the predictor and the number of trips as the response variable\",\n",
    "\n",
    "Predictor: Number of Trips\n",
    "\n",
    "Response: Number of Stations"
   ]
  },
  {
   "cell_type": "code",
   "execution_count": null,
   "metadata": {},
   "outputs": [],
   "source": [
    "# Draw the Number of Trips plot\n",
    "fig, (ax1, ax2) = plt.subplots(nrows=1, ncols=2, figsize=(15,4),sharey=True)\n",
    "sns.histplot(data=trips_start_df,x=\"Number of Trips\",bins=50,ax=ax1)\n",
    "ax1.axvline(mean_start, color=\"green\", linestyle=\"dashed\")\n",
    "ax1.text(40000,85,'Mean: 36322', fontsize=10, color='green')\n",
    "ax1.set_title(\"Geoids where Trips Started\")\n",
    "\n",
    "sns.histplot(data=trips_end_df,x=\"Number of Trips\",bins=50,ax=ax2)\n",
    "ax2.axvline(mean_end, color=\"green\", linestyle=\"dashed\")\n",
    "ax2.text(40000,85,'Mean: 36372', fontsize=10, color='green')\n",
    "ax2.set_title(\"Geoids where Trips Ended\")\n",
    "ax2.set(ylabel='Count')\n",
    "plt.show()"
   ]
  },
  {
   "cell_type": "markdown",
   "metadata": {},
   "source": [
    "#### I. Start Station Data"
   ]
  },
  {
   "cell_type": "code",
   "execution_count": null,
   "metadata": {},
   "outputs": [],
   "source": [
    "X = trips_start_df.iloc[:, 1].values.reshape(-1, 1) \n",
    "Y = trips_start_df.iloc[:, 2].values.reshape(-1, 1)  \n",
    "linear_regressor = LinearRegression() \n",
    "lr=linear_regressor.fit(X, Y)\n",
    "Y_pred = linear_regressor.predict(X) \n",
    "\n",
    "X_2 = trips_end_df.iloc[:, 1].values.reshape(-1, 1) \n",
    "Y_2 = trips_end_df.iloc[:, 2].values.reshape(-1, 1)  \n",
    "lr_2=linear_regressor.fit(X_2, Y_2)\n",
    "Y_pred_2 = linear_regressor.predict(X_2) \n",
    "\n",
    "fig, (ax1, ax2) = plt.subplots(nrows=1, ncols=2, figsize=(15,6),sharey=True)\n",
    "sns.regplot(X, Y, ax=ax1)\n",
    "ax1.set_title('Linear Regression of Trips and Stations (Start)')\n",
    "ax1.set(ylabel='Number of Trips',xlabel=\"'Number of Stations\")\n",
    "sns.regplot(X_2, Y_2, ax=ax2)\n",
    "ax2.set_title('Linear Regression of Trips and Stations (End)')\n",
    "ax2.set(ylabel='Number of Trips',xlabel=\"'Number of Stations\")\n",
    "plt.show()\n",
    "\n",
    "print(\"Coefficient of Linear Regression (StartStations): {:.3g}\".format(lr.coef_[0][0]))\n",
    "print(\"Coefficient of Linear Regression (EndStations): {:.3g}\".format(lr_2.coef_[0][0]))\n",
    "\n",
    "# pear_corr=trips_start_df['Stations'].corr(trips_start_df['Trips'])\n",
    "# sp_corr= trips_start_df['Stations'].corr(trips_start_df['Trips'],method='spearman')\n",
    "\n",
    "# print('Pearson Correlation: ',\"{:.2f}\".format(pear_corr))\n",
    "# print('Spearman Correlation: ',\"{:.2f}\".format(sp_corr))\n",
    "\n",
    "residual = Y-Y_pred\n",
    "mean_Y= np.mean(Y)\n",
    "rsq=residual *residual\n",
    "ssr =sum(rsq)\n",
    "sst = sum((Y-mean_Y)**2)\n",
    "deter=ssr/sst\n",
    "\n",
    "residual_2 = Y_2-Y_pred_2\n",
    "mean_Y_2= np.mean(Y_2)\n",
    "rsq_2=residual_2 *residual_2\n",
    "ssr_2 =sum(rsq_2)\n",
    "sst_2 = sum((Y_2-mean_Y_2)**2)\n",
    "deter_2=ssr_2/sst_2\n",
    "print(\"coefficient of determination (r2) for Start Stations: {:.2f}\".format(1-deter[0]))\n",
    "print(\"coefficient of determination (r2) for End Stations: {:.2f}\".format(1-deter_2[0]))"
   ]
  },
  {
   "cell_type": "markdown",
   "metadata": {},
   "source": [
    "Above we have computed a sns reglot. The blue line refers to the lienar regression line. The translucent band lines, however, describe a bootstrap confidence interval generated for the estimate. Here we can see that as the number of Stations increases the range of the bootstrap confidence interval increases too. **This means as the number of stations increases, the size of the confidence interval for the regression estimate increases accordingly making it harder to estimate the number of trips with the number of stations. ** \n",
    "\n",
    "##### Interpertation of the Linear Regression\n",
    "\n",
    "For a linear regression with the stations as a predictor, the slope is 1.84e+04. It tells us that when the number of stations increases by 1 in a geoid, the trips will change(increase) by 1.84e+04. This is a very small value signifying that the change in the number of stations will only result in a small change in the number of trips.\n",
    "\n",
    "We can interpret 𝑟2 as the fraction of the variation in the output variable that can be explained (or predicted) by variation in the input variable(s). Therefore our r2 score of 0.28 means that approximately 28% (0.28) of the variation in Y can be explained(predicted) by X. In other words, the number of trips is explained well by the number of trips by approxmately 28% (0.28).\n",
    "\n",
    "Now we will test this linear regression and compute additional statistics."
   ]
  },
  {
   "cell_type": "code",
   "execution_count": null,
   "metadata": {},
   "outputs": [],
   "source": [
    "trips_start_df.head()"
   ]
  },
  {
   "cell_type": "code",
   "execution_count": null,
   "metadata": {},
   "outputs": [],
   "source": [
    "#rename columns\n",
    "trips_start_df = trips_start_df.rename(columns={'Number of Trips': 'Trips', 'Number of Stations': 'Stations'})\n",
    "trips_end_df = trips_end_df.rename(columns={'Number of Trips': 'Trips', 'Number of Stations': 'Stations'})\n",
    "\n",
    "sm_model = smf.ols(\"Trips ~ Stations\", data=trips_start_df)\n",
    "result = sm_model.fit()\n",
    "print(\"Start Stations\",result.summary(),\"\\n\")\n",
    "\n",
    "sm_model_2 = smf.ols(\"Trips ~ Stations\", data=trips_end_df)\n",
    "result_2 = sm_model_2.fit()\n",
    "print(\"End Stations\",result_2.summary())"
   ]
  },
  {
   "cell_type": "markdown",
   "metadata": {},
   "source": [
    "Here we can see that the p-value is 0 for the Stations. The p-value is the probability that, absent any link between trips and stations, an effect (or relationship) as large or larger than the observed effect would be measured. \n",
    "Here this means that assuming that there is no relationship between the trips and stations the probability that we would observe a relationship like this. That probability according to our findings is near 0. So we reject the null hypothesis that there is no relationship between the trips and stations.\n",
    "\n",
    "However, just because we rejected the null does not automatically mean that there is a significant relationship between the trips and stations. To see if the relationship between trips and stations is significant enough, we will have to look at the r2 value. Here the r2 value is 0.279 (as we have found before). In scholarly research that focuses on marketing issues, R2 values of 0.75, 0.50, or 0.25 can, as a rough rule of thumb, be respectively described as substantial, moderate, or weak. Sarstedt, M., & Mooi, E. (2014,p.211). Therefore according to  Sarstedt, M., & Mooi, E. (2014,p.211), we can also say that the value of r2 of 0.297 signifies a weak relationship between the number of stations and the number of trips.\n",
    "\n",
    "Overall, through our p-value we reject the null hypothesis that \"There is no relationship between the number of trips and the number of stations in a geoid\". However, through our r2 score of 0.279 we can conclude that the relationship between the trips and stations is weak. Therefore through these analysis we can conclude that **there is a weak relationship between the Trips and Station**. **It seems that the placement of stations in geoids is affected by other factors than on soley the demand of citibike usage** \n",
    "\n",
    "In our analysis above we have found that the distribution of citibike stations in NYC is somehow influenced by location. In our next step of our analysis, we will see how representitive citibike is of different race and income groups. In this step, we will be looking at the Race/Income distribution of NYC census data alongside the distribution of stations to understand the distribution of citibike with accordance to different race and income groups of NYC."
   ]
  },
  {
   "cell_type": "markdown",
   "metadata": {},
   "source": [
    "### Analysis 2: How is station placement by geoid representing NYC race & income demographics? (Stations vs Race/Income) \n",
    "\n",
    "To further our understanding of whether citibike is fairly distributing its stations, we will look into whether the race and income of a census tract has a relationship with the number of stations located in the area.\n",
    "\n",
    "- Use **multivariable regression** to see how strongly race and income plays a role in determining the number of stations in a given census tract. Does the coefficients of the model align with what we expected? \n"
   ]
  },
  {
   "cell_type": "markdown",
   "metadata": {},
   "source": [
    "### Stations vs Race and Income "
   ]
  },
  {
   "cell_type": "code",
   "execution_count": 7,
   "metadata": {},
   "outputs": [],
   "source": [
    "race_income_df['white_pct'] = 100*(race_income_df['2017_white_population'] / race_income_df['2017_population'])\n",
    "race_income_df['black_pct'] = 100*(race_income_df['2017_black_population'] / race_income_df['2017_population'])\n",
    "race_income_df['asian_pct'] = 100*(race_income_df['2017_asian_population'] / race_income_df['2017_population'])\n",
    "race_income_df['other_pct'] = 100*(race_income_df['2017_other_population'] / race_income_df['2017_population'])\n",
    "# Combining the race and stations\n",
    "race_st_df = (race_income_df.set_index('geoid')).join((stations_df.set_index('geoid')),how='inner')\n",
    "race_st_df['geoid'] = race_st_df.index\n",
    "race_st_df.reset_index(drop=True,inplace=True)\n",
    "# Counting the number of stations per geoid\n",
    "stations =race_st_df.groupby('geoid')[['station_id']].count()\n",
    "stations.rename(columns={'station_id':'num_stations'},inplace=True)\n",
    "stations.reset_index(inplace=True)\n",
    "race_st_df = race_st_df.set_index('geoid').join(stations.set_index('geoid'),how='inner')\n",
    "race_st_df.reset_index()\n",
    "race_st_df[:1]\n",
    "race_st_df.shape\n",
    "# assigning the majority race based on the max percentage race in each geoid\n",
    "race_st_df['majority_race'] = race_st_df[['white_pct','black_pct','asian_pct', 'other_pct']].idxmax(axis=1)\n",
    "# Only returns the census tracts where that race is the majority\n",
    "w_major = race_st_df[race_st_df['majority_race'] == 'white_pct']\n",
    "b_major = race_st_df[race_st_df['majority_race'] == 'black_pct']\n",
    "a_major = race_st_df[race_st_df['majority_race'] == 'asian_pct']\n",
    "o_major = race_st_df[race_st_df['majority_race'] == 'other_pct']"
   ]
  },
  {
   "cell_type": "markdown",
   "metadata": {},
   "source": [
    "Because NYC is a fairly multicultural city, race may be an important factor in Citi Bike station placement. Morever, NYC is known to have uneven distribution of races where certain ethnic groups are known to congregate in neighborhoods, such as in Chinatown. Because of this, it would make sense to first categorize the geoids by their majority race. This is executed in order to study the specific relationship between these census tracts and their number of stations. This will allow us to parse out what the specific dynamics are between each race and station placement.\n",
    "\n",
    "Because we want to focus on the specific relationships between different race groups and station placement, we will also not be including the \"other\" race category in our analysis. This is because the term \"other\" is ambiguous and potentially misleading since it could encompass many other races. "
   ]
  },
  {
   "cell_type": "code",
   "execution_count": 9,
   "metadata": {},
   "outputs": [],
   "source": [
    "from pandas import DataFrame"
   ]
  },
  {
   "cell_type": "code",
   "execution_count": 10,
   "metadata": {},
   "outputs": [],
   "source": [
    "w_list = []\n",
    "b_list = []\n",
    "a_list = []\n",
    "o_list = []\n",
    "for i  in range(10):\n",
    "    w_list = w_list + [race_st_df[race_st_df['num_stations'] == i].white_pct.mean()]\n",
    "    b_list = b_list + [race_st_df[race_st_df['num_stations'] == i].black_pct.mean()]\n",
    "    a_list = a_list + [race_st_df[race_st_df['num_stations'] == i].asian_pct.mean()]\n",
    "    o_list = o_list + [race_st_df[race_st_df['num_stations'] == i].other_pct.mean()]\n",
    "    i +=1\n",
    "\n",
    "df = DataFrame (w_list,columns=['White Percentage'])\n",
    "df['Black Percentage'] = b_list\n",
    "df['Asian Percentage'] = a_list\n",
    "df['Other Percentage'] = o_list\n",
    "df= df[1:]\n",
    "df = df.fillna(0)"
   ]
  },
  {
   "cell_type": "code",
   "execution_count": 11,
   "metadata": {},
   "outputs": [
    {
     "data": {
      "image/png": "[encoded data removed]",
      "text/plain": [
       "<Figure size 432x288 with 1 Axes>"
      ]
     },
     "metadata": {
      "needs_background": "light"
     },
     "output_type": "display_data"
    }
   ],
   "source": [
    "fig = plt.figure()\n",
    "ax = fig.add_axes([0,0,1,1])\n",
    "y = ['Majority White', 'Majority Black', 'Majority Asian']\n",
    "x = [w_major.num_stations.sum(), b_major.num_stations.sum(), a_major.num_stations.sum()]\n",
    "plt.bar(y,x)\n",
    "plt.title('Number of Stations in Majority Race GeoIds')\n",
    "plt.xlabel('Majority Race in Census Tract')\n",
    "plt.ylabel('Total Number of Stations')\n",
    "plt.show()"
   ]
  },
  {
   "cell_type": "markdown",
   "metadata": {},
   "source": [
    "This graph studies the total number of stations in all of the majority race census tracts. From what we can see here, there is a far larger number of stations in majority white census tracts at around 2000 stations. On the other hand, the total number of stations for majority black and majority asian geoids are signficantly smaller in comparison. \n",
    "\n",
    "While useful in providing an initial picture of stations in race-specific census tracts, it doesn't give us a good look at the relationship between white, asian, and black populations with number of stations individually. Since from this graph it would seem that majority white geoids are much more prevalant, let's first study the dynamics between each race group with white percentage in conjunction with number of stations.  "
   ]
  },
  {
   "cell_type": "code",
   "execution_count": 12,
   "metadata": {},
   "outputs": [
    {
     "data": {
      "image/png": "[encoded data removed]",
      "text/plain": [
       "<Figure size 720x360 with 1 Axes>"
      ]
     },
     "metadata": {
      "needs_background": "light"
     },
     "output_type": "display_data"
    },
    {
     "data": {
      "text/html": [
       "<div>\n",
       "<style scoped>\n",
       "    .dataframe tbody tr th:only-of-type {\n",
       "        vertical-align: middle;\n",
       "    }\n",
       "\n",
       "    .dataframe tbody tr th {\n",
       "        vertical-align: top;\n",
       "    }\n",
       "\n",
       "    .dataframe thead th {\n",
       "        text-align: right;\n",
       "    }\n",
       "</style>\n",
       "<table border=\"1\" class=\"dataframe\">\n",
       "  <thead>\n",
       "    <tr style=\"text-align: right;\">\n",
       "      <th></th>\n",
       "      <th>white vs black</th>\n",
       "      <th>white vs asian</th>\n",
       "    </tr>\n",
       "  </thead>\n",
       "  <tbody>\n",
       "    <tr>\n",
       "      <th>1</th>\n",
       "      <td>37.577707</td>\n",
       "      <td>45.459511</td>\n",
       "    </tr>\n",
       "    <tr>\n",
       "      <th>2</th>\n",
       "      <td>47.531978</td>\n",
       "      <td>50.015528</td>\n",
       "    </tr>\n",
       "    <tr>\n",
       "      <th>3</th>\n",
       "      <td>47.314306</td>\n",
       "      <td>45.193113</td>\n",
       "    </tr>\n",
       "    <tr>\n",
       "      <th>4</th>\n",
       "      <td>49.936631</td>\n",
       "      <td>48.018711</td>\n",
       "    </tr>\n",
       "    <tr>\n",
       "      <th>5</th>\n",
       "      <td>70.860847</td>\n",
       "      <td>61.509097</td>\n",
       "    </tr>\n",
       "    <tr>\n",
       "      <th>6</th>\n",
       "      <td>51.924545</td>\n",
       "      <td>52.594756</td>\n",
       "    </tr>\n",
       "    <tr>\n",
       "      <th>7</th>\n",
       "      <td>72.222256</td>\n",
       "      <td>56.228695</td>\n",
       "    </tr>\n",
       "    <tr>\n",
       "      <th>8</th>\n",
       "      <td>0.000000</td>\n",
       "      <td>0.000000</td>\n",
       "    </tr>\n",
       "    <tr>\n",
       "      <th>9</th>\n",
       "      <td>49.090909</td>\n",
       "      <td>57.892562</td>\n",
       "    </tr>\n",
       "  </tbody>\n",
       "</table>\n",
       "</div>"
      ],
      "text/plain": [
       "   white vs black  white vs asian\n",
       "1       37.577707       45.459511\n",
       "2       47.531978       50.015528\n",
       "3       47.314306       45.193113\n",
       "4       49.936631       48.018711\n",
       "5       70.860847       61.509097\n",
       "6       51.924545       52.594756\n",
       "7       72.222256       56.228695\n",
       "8        0.000000        0.000000\n",
       "9       49.090909       57.892562"
      ]
     },
     "execution_count": 12,
     "metadata": {},
     "output_type": "execute_result"
    }
   ],
   "source": [
    "df['white vs black'] = df['White Percentage'] - df['Black Percentage']\n",
    "df['white vs asian'] = df['White Percentage'] - df['Asian Percentage']\n",
    "df['station_number'] = [1,2,3,4,5,6,7,8,9]\n",
    "df.plot.bar(x = 'station_number', y = ['white vs black','white vs asian'],figsize=(10,5), fontsize = 12, rot = 0)\n",
    "\n",
    "plt.legend(fontsize =12)\n",
    "plt.xlabel('Number of Stations', fontsize = 12)\n",
    "plt.ylabel('Difference Between Percentages', fontsize = 12)\n",
    "plt.title('Difference between White and Black Percentages vs White and Asian Percentages as Stations in GeoId Increase', fontsize = 14)\n",
    "plt.show()\n",
    "df.loc[:,'white vs black':'white vs asian']"
   ]
  },
  {
   "cell_type": "markdown",
   "metadata": {},
   "source": [
    "The earlier graph focused on number of stations by majority race. In order to study the racial dynamics more clearly, we will take the difference between the white vs asian and black percentages to see whether white percentages do increase as the number of stations in a geoid increases. This would imply that higher white percentages and lower asian and black percentages in a geoid are more likely to have more stations. \n",
    "\n",
    "From what we can see here, there is a general trend that the difference between white versus asian and white vs black populations increases as the number of stations in the geoid increases. That being said, the difference between percentages are not as high for asian percentages. For example, at 7 stations, the difference between the average white percentage and asian percentage is 56 percent. On the other hand, the difference between black and white percentages is 72 percent. \n",
    "\n",
    "Because we can see here that the difference between white and other races hovers around 40 percent, we did not look at the difference between asian vs black populations. This likely would have yielded very small numbers. Moreover, we wanted specifically to look at further into white percentage and number of stations.\n",
    "\n",
    "This graph would imply that larger numbers of stations are generally placed in areas with higher white percentages. However, because this relationship cannot be confirmed through this graph alone, let's model the relationship."
   ]
  },
  {
   "cell_type": "code",
   "execution_count": 13,
   "metadata": {},
   "outputs": [],
   "source": [
    "num_stations = race_st_df['num_stations']\n",
    "percentile = np.percentile(num_stations, 50)\n",
    "race_st_df['above_median_station'] = np.where(race_st_df['num_stations']>= percentile, True, False)"
   ]
  },
  {
   "cell_type": "code",
   "execution_count": 14,
   "metadata": {},
   "outputs": [
    {
     "data": {
      "image/png": "[encoded data removed]",
      "text/plain": [
       "<Figure size 720x360 with 1 Axes>"
      ]
     },
     "metadata": {
      "needs_background": "light"
     },
     "output_type": "display_data"
    },
    {
     "data": {
      "image/png": "[encoded data removed]",
      "text/plain": [
       "<Figure size 720x360 with 1 Axes>"
      ]
     },
     "metadata": {
      "needs_background": "light"
     },
     "output_type": "display_data"
    },
    {
     "data": {
      "image/png": "[encoded data removed]",
      "text/plain": [
       "<Figure size 720x360 with 1 Axes>"
      ]
     },
     "metadata": {
      "needs_background": "light"
     },
     "output_type": "display_data"
    },
    {
     "name": "stdout",
     "output_type": "stream",
     "text": [
      "R^2 value of Black Percentage and Above Median Stations: 0.56\n",
      "R^2 value of White Percentage and Above Median Stations: 0.54\n",
      "R^2 value of Asian Percentage and Above Median Stations: 0.53\n"
     ]
    }
   ],
   "source": [
    "racevsstations_w = LogisticRegression().fit(race_st_df[['white_pct']],race_st_df['above_median_station'])\n",
    "predict_num_stations_w = racevsstations_w.predict(race_st_df[['white_pct']])\n",
    "\n",
    "racevsstations_w.predict_proba(np.array([[50]]))\n",
    "racevsstations_w.predict(np.array([[50]]))\n",
    "# Logistic Regression for Black Percentages and Above Median Number Stations\n",
    "fig = plt.figure(figsize = (10,5))\n",
    "\n",
    "plt.scatter(\n",
    "    race_st_df.white_pct, \n",
    "    race_st_df.above_median_station, \n",
    "    alpha = 0.3,\n",
    "    label='White Percentage'\n",
    ")\n",
    "plt.scatter(\n",
    "    race_st_df.white_pct, \n",
    "    racevsstations_w.predict_proba(race_st_df[['white_pct']])[:,1], \n",
    "    alpha = 0.3,\n",
    "    label='Predicted Probability of Above Median Number of Stations'\n",
    ")\n",
    "plt.legend(loc='upper center', bbox_to_anchor=(1.45, 0.8), shadow=True, ncol=1, fontsize = 14)\n",
    "plt.xlabel(\"Percentage of White Households\", fontsize = 14)\n",
    "plt.ylabel(\"Probability\", fontsize = 14)\n",
    "plt.suptitle('Percentage White Households And Probability of Having Above Median Number Stations', size=16, y=1);      \n",
    "plt.show()\n",
    "# Logistic Regression for Black Percentages and Above Median Number Stations\n",
    "\n",
    "racevsstations_b = LogisticRegression().fit(race_st_df[['black_pct']],race_st_df['above_median_station'])\n",
    "predict_num_stations_b = racevsstations_b.predict(race_st_df[['black_pct']])\n",
    "fig = plt.figure(figsize = (10,5))\n",
    "\n",
    "plt.scatter(\n",
    "    race_st_df.black_pct, \n",
    "    race_st_df.above_median_station, \n",
    "    alpha = 0.3,\n",
    "    label='Black Percentage'\n",
    ")\n",
    "plt.scatter(\n",
    "    race_st_df.black_pct, \n",
    "    racevsstations_b.predict_proba(race_st_df[['black_pct']])[:,1], \n",
    "    alpha = 0.3,\n",
    "    label='Predicted Probability of Above Median Number of Stations'\n",
    ")\n",
    "plt.legend(loc='upper center', bbox_to_anchor=(1.45, 0.8), shadow=True, ncol=1 ,fontsize = 14)\n",
    "plt.xlabel(\"Percentage\", fontsize = 14)\n",
    "plt.ylabel(\"Probability\", fontsize = 14)\n",
    "plt.suptitle('Percentage Black Households And Probability of Having Above Median Number Stations', size=16, y=1);      \n",
    "plt.show()\n",
    "\n",
    "#Logistic Regression for Asian Percentages and Above Median Number Stations\n",
    "racevsstations_a = LogisticRegression().fit(race_st_df[['asian_pct']],race_st_df['above_median_station'])\n",
    "predict_num_stations_a = racevsstations_a.predict(race_st_df[['asian_pct']])\n",
    "fig = plt.figure(figsize = (10,5))\n",
    "\n",
    "plt.scatter(\n",
    "    race_st_df.asian_pct, \n",
    "    race_st_df.above_median_station, \n",
    "    alpha = 0.3,\n",
    "    label='Asian Percentage'\n",
    ")\n",
    "plt.scatter(\n",
    "    race_st_df.asian_pct, \n",
    "    racevsstations_b.predict_proba(race_st_df[['asian_pct']])[:,1], \n",
    "    alpha = 0.3,\n",
    "    label='Predicted Probability of Above Median Number of Stations'\n",
    ")\n",
    "plt.legend(loc='upper center', bbox_to_anchor=(1.45, 0.8), shadow=True, ncol=1 ,fontsize = 14)\n",
    "plt.xlabel(\"Percentage\", fontsize = 14)\n",
    "plt.ylabel(\"Probability\", fontsize = 14)\n",
    "plt.suptitle('Percentage Asian Households And Probability of Having Above Median Number Stations', size=16, y=1);      \n",
    "plt.show()\n",
    "\n",
    "\n",
    "b_r_sqr = racevsstations_b.score(race_st_df[['black_pct']],race_st_df['above_median_station'])\n",
    "print('R^2 value of Black Percentage and Above Median Stations:', round(b_r_sqr,2))\n",
    "\n",
    "w_r_sqr = racevsstations_w.score(race_st_df[['white_pct']],race_st_df['above_median_station'])\n",
    "print('R^2 value of White Percentage and Above Median Stations:', round(w_r_sqr,2))\n",
    "\n",
    "a_r_sqr = racevsstations_a.score(race_st_df[['asian_pct']],race_st_df['above_median_station'])\n",
    "print('R^2 value of Asian Percentage and Above Median Stations:', round(a_r_sqr,2))"
   ]
  },
  {
   "cell_type": "markdown",
   "metadata": {},
   "source": [
    "Because the number of stations is discrete data and not continous data, we decided to utilize logistic regression instead of linear regression. In order to prepare for the logistic regression, we added a column to the dataframe that classifies whether the geoid had above the median number of stations or not. In these three graphs, we're looking at the percentage of each race, asian, white, and black, in a census tract and the probability of that census tract having above the median, 3, number of stations. \n",
    "\n",
    "In the first graph, the predicted probability seems to have a positive slope. This indicates that census tracts with higher white percentages have a greater probability of having more than 3 stations. On the other hand, the second graph shows a decreasing probability as the black percentage in a geoid increases. These graphs confirm what we've seen before where white populations have a positive relationship with the number of stations. \n",
    "\n",
    "In the third graph, the asian percentage also displays a similar relationship as the black percentage in the second graph. That being said, it would seem that the asian population composes a very small percentage of NYC as a whole. Therefore, there are not as many geoids with a majority asian population as there are for black and white populations as indicated by the sparse dots in the third graph.\n",
    "\n",
    "Both predictor models are fairly good since they explain around 54 percent of the data. These three graphs confirm the trend that we've seen so far. The lower the percentage the white population is in a census tract, the less likely it is that there is a high number of stations. Therefore, it is likely that more stations are being placed in white areas."
   ]
  },
  {
   "cell_type": "markdown",
   "metadata": {},
   "source": [
    "Since we've now confirmed that there is a relationship between race and number of stations, we should look into other factors that may play a role. One such component that could affect station placement is the income of a geoid.\n",
    "\n",
    "## Income"
   ]
  },
  {
   "cell_type": "markdown",
   "metadata": {},
   "source": [
    "During Citi Bike's initial expansion into NYC, it was placed in relatively high income areas to ensure its usage <cite>[Wenya et. al.][1]</cite>. This is because an annual membership to Citi Bike costs an annual amount of 169 dollars<cite> [NYTimes] [2]</cite>. This cost can be prohibitive to many communities.\n",
    "\n",
    "However, Citi Bike also has a program that allows public housing residents and food stamp users to buy a membership at 60 dollars a year <cite>[2]</cite>. With these two factors regarding cost in mind, it's important to study whether station placement allows residents from different income brackets to utilize Citi Bike.\n",
    "\n",
    "[1]:https://www.researchgate.net/publication/328756164_The_Cost-Effectiveness_of_Bike_Share_Expansion_to_Low-Income_Communities_in_New_York_City\n",
    "[2]:https://www.nytimes.com/2019/07/16/nyregion/citi-bike-nyc-bronx.html"
   ]
  },
  {
   "cell_type": "code",
   "execution_count": 19,
   "metadata": {},
   "outputs": [],
   "source": [
    "income = race_st_df['2017_median_income']\n",
    "race_st_df['2017_median_income'].describe()\n",
    "df_income = DataFrame (w_list,columns=['White Percentage'])"
   ]
  },
  {
   "cell_type": "code",
   "execution_count": 20,
   "metadata": {},
   "outputs": [
    {
     "data": {
      "image/png": "[encoded data removed]",
      "text/plain": [
       "<Figure size 576x360 with 1 Axes>"
      ]
     },
     "metadata": {
      "needs_background": "light"
     },
     "output_type": "display_data"
    }
   ],
   "source": [
    "tenth = race_st_df[(race_st_df['2017_median_income']> 13207) & (race_st_df['2017_median_income']<np.percentile(income, 10))].num_stations.sum()\n",
    "bw_10_20 = race_st_df[(race_st_df['2017_median_income']> np.percentile(income, 10)) & (race_st_df['2017_median_income']<=np.percentile(income, 20))].num_stations.sum()\n",
    "bw_20_30 = race_st_df[(race_st_df['2017_median_income']> np.percentile(income, 20)) & (race_st_df['2017_median_income']<=np.percentile(income, 30))].num_stations.sum()\n",
    "bw_30_40 = race_st_df[(race_st_df['2017_median_income']> np.percentile(income, 30)) & (race_st_df['2017_median_income']<=np.percentile(income, 40))].num_stations.sum()\n",
    "bw_40_50 = race_st_df[(race_st_df['2017_median_income']> np.percentile(income, 40)) & (race_st_df['2017_median_income']<=np.percentile(income, 50))].num_stations.sum()\n",
    "bw_50_60 = race_st_df[(race_st_df['2017_median_income']> np.percentile(income, 50)) & (race_st_df['2017_median_income']<=np.percentile(income, 60))].num_stations.sum()\n",
    "bw_60_70 = race_st_df[(race_st_df['2017_median_income']> np.percentile(income, 60)) & (race_st_df['2017_median_income']<=np.percentile(income, 70))].num_stations.sum()\n",
    "bw_70_80 = race_st_df[(race_st_df['2017_median_income']> np.percentile(income, 70)) & (race_st_df['2017_median_income']<=np.percentile(income, 80))].num_stations.sum()\n",
    "bw_80_90 = race_st_df[(race_st_df['2017_median_income']> np.percentile(income, 80)) & (race_st_df['2017_median_income']<=np.percentile(income, 90))].num_stations.sum()\n",
    "bw_90_100 = race_st_df[(race_st_df['2017_median_income']> np.percentile(income, 90)) & (race_st_df['2017_median_income']<=np.percentile(income, 100))].num_stations.sum()\n",
    "fig = plt.figure(figsize = (8,5))\n",
    "ax = fig.add_axes([0,0,1,1])\n",
    "y = ['0-10','10-20', '20-30', '30-40','40-50','50-60','60-70','70-80','80-90','90-100']\n",
    "x = [tenth, bw_10_20, bw_20_30, bw_30_40, bw_40_50, bw_50_60, bw_60_70, bw_70_80, bw_80_90, bw_90_100]\n",
    "plt.bar(y,x)\n",
    "plt.title('Number of Stations vs Income', fontsize = 14)\n",
    "plt.xlabel('Percentile Income', fontsize = 12)\n",
    "plt.ylabel('Number of Stations', fontsize = 12)\n",
    "plt.show()"
   ]
  },
  {
   "cell_type": "markdown",
   "metadata": {},
   "source": [
    "This graph studies the total number of stations based on the census tract's percentile of median income. By looking at each 10th percentile of income, we can look at whether there is an overall relationship between income percentile and station placement in census tracts. \n",
    "\n",
    "In this graph, it would seem that there's a general trend of increasing number of stations at higher percentiles of income. At the zero to 10 percentile, the total number of stations is around 175. On the other hand, at the 70 to 80 percentile income level, the number of stations is around 300. That being said, there are a few anomolies, which do not allow us to definitively conclude that higher income and higher number of stations have a positive relationship. In order to further analyze and to confirm this trend, we will be using a model."
   ]
  },
  {
   "cell_type": "markdown",
   "metadata": {},
   "source": [
    "## Logistic Regression"
   ]
  },
  {
   "cell_type": "code",
   "execution_count": null,
   "metadata": {},
   "outputs": [],
   "source": [
    "incomevsstations = LogisticRegression().fit(race_st_df[['2017_median_income']],race_st_df['above_median_station'])\n",
    "predict_num_stations_income = incomevsstations.predict(race_st_df[['2017_median_income']])\n",
    "\n",
    "incomevsstations.predict_proba(np.array([[50]]))\n",
    "incomevsstations.predict(np.array([[50]]))\n",
    "fig = plt.figure(figsize = (10,8))\n",
    "\n",
    "# Plotting the probability of above median stations vs. income\n",
    "plt.scatter(\n",
    "    race_st_df['2017_median_income'], \n",
    "    race_st_df.above_median_station, \n",
    "    alpha = 0.3,\n",
    "    label='Above Median Number of Stations'\n",
    ")\n",
    "plt.scatter(\n",
    "    race_st_df['2017_median_income'], \n",
    "    incomevsstations.predict_proba(race_st_df[['2017_median_income']])[:,1], \n",
    "    alpha = 0.3,\n",
    "    label='Predicted above average number of stations'\n",
    ")\n",
    "plt.legend(loc='upper center', bbox_to_anchor=(1.45, 0.5),fontsize = 16, shadow=True, ncol=1)\n",
    "plt.xlabel(\"Income\", fontsize = 20)\n",
    "plt.ylabel(\"Probability\", fontsize = 20)\n",
    "plt.suptitle('2017 Median Income and And Probability of Above 50th Percentile Stations', size=20, y=1);      \n",
    "plt.show()\n",
    "income_sqr = incomevsstations.score(race_st_df[['2017_median_income']],race_st_df['above_median_station'])\n",
    "print('The r^2 value of median income and number of stations:', round(income_sqr,2))"
   ]
  },
  {
   "cell_type": "markdown",
   "metadata": {},
   "source": [
    "In order to further study and confirm the relationship we've observed between income and number of stations, we decided to do a logistic regression. This is because, as with studying race and number of stations, the number of stations are descrete values, which prevents us from utilizing linear regression. Moreover, the number of stations is not dependent on income just on its own, so a linear model would not be applicable here. \n",
    "\n",
    "This graph looks at the median income of census tracts and their predicted probability of having an above median number of stations. It would seem that at the lower levels of income, the probability of having an above median number of stations is around .5. However, as the income within a census tract increases, the probability slowly increases as well. This indicates that at higher income levels, there is a greater probability of having larger number of stations. And because the r^2 value is .53, the prediction model explains 53% of the data which is fairly good.\n",
    "\n",
    "Now that we've seen race and income separately, we should look at their relationship in conjunction with stations. "
   ]
  },
  {
   "cell_type": "code",
   "execution_count": null,
   "metadata": {},
   "outputs": [],
   "source": [
    "from sklearn.metrics import classification_report\n",
    "X = race_st_df[['2017_median_income','white_pct','black_pct','asian_pct']]\n",
    "income_race_stations = LogisticRegression().fit(X,race_st_df['above_median_station'])\n",
    "predict_race_income = income_race_stations.predict(race_st_df[['2017_median_income','white_pct','black_pct','asian_pct']])\n",
    "print('R^2:',round(income_race_stations.score(X, race_st_df['above_median_station']),2))\n",
    "print('Coefficients:', income_race_stations.coef_)\n",
    "print('Intercept:', income_race_stations.intercept_)\n",
    "class_report=classification_report(race_st_df['above_median_station'], predict_race_income)\n",
    "print(class_report)"
   ]
  },
  {
   "cell_type": "markdown",
   "metadata": {},
   "source": [
    "### Main Statements\n",
    "\n",
    "rq : how is citibike representing NYC demographics? \n",
    "\n",
    "\n",
    "a1 : trips vs stations\n",
    "\n",
    "Trips cannot predict stations! Station placement is affected by sth else! \n",
    "\n",
    "\n",
    "a2: race/income vs stations\n",
    "\n",
    "There is a relationship between race/income and stations! \n",
    "\n",
    "\n",
    "after a1, a2 we need to answer the question of where citibike should be distributed more. \n",
    "\n",
    "\n",
    "A3: trips vs race/income\n",
    "→ white/high income take more trips? (check) \n",
    "→ bar graph: looking at both trips and stations  checking fairness by race\n",
    "\n",
    "→ population normalizaiton\n",
    "\n",
    "\n",
    "\n",
    "\n",
    "(evalsig)\n",
    "- A1: permutation trips vs stations really no relationship!\n",
    "- A2: (sth) to say there is a significant relationship btw race/income and stations\n",
    "        - could be the lineargraph but should be more straight forward. \n",
    "\n",
    "\n",
    "(conclusion)\n",
    "- interms of race/income not representing NYC demographics well (explain nummerically with graphs)\n",
    "- in terms of trips not representing NYC demographics well(explain nummerically with graphs)\n",
    "- seems to be stations located in parks. But the usage of those stations are not that high at all so there isn't a fair distribution (explain nummerically with graphs)\n",
    "\n",
    "(proposal)\n",
    "- in what geoids should there be more stations? \n",
    "    - single out places that have minority race/incoem and \n",
    "- other things citibike can do\n",
    "    - shrink cost of usage\n",
    "    - ~~~ safer roads"
   ]
  },
  {
   "cell_type": "markdown",
   "metadata": {},
   "source": [
    "## Evaluation of Significance "
   ]
  },
  {
   "cell_type": "markdown",
   "metadata": {},
   "source": [
    "#### Trips vs Stations"
   ]
  },
  {
   "cell_type": "code",
   "execution_count": null,
   "metadata": {},
   "outputs": [],
   "source": [
    "## Your solution here\n",
    "sns.relplot(x=\"Number of Stations\", y=\"Number of Trips\", data=trips_start_df)\n",
    "plt.xlabel(\"Number of Stations\")\n",
    "plt.ylabel(\"Number of Trips\")\n",
    "plt.title(\"Number of Stations vs Number of Trips Scatterplot\")\n",
    "plt.show()\n"
   ]
  },
  {
   "cell_type": "markdown",
   "metadata": {},
   "source": [
    "When we compute a scatterplot based on the relationship between stations and the number of trips, we were able to see that it is unclear whether there is a direct relationship between the number of stations and the number of trips. Overall we can see that that more trips tend to have more stations but there are instance where this is not true. "
   ]
  },
  {
   "cell_type": "markdown",
   "metadata": {},
   "source": [
    "To address this issue, we will set a hypothesis and conduct permutation to test whether the pattern of having more trips in places with more stations is outside the range of values we might reasonably expect to get by chance. "
   ]
  },
  {
   "cell_type": "markdown",
   "metadata": {},
   "source": [
    "#### Permutation Testing"
   ]
  },
  {
   "cell_type": "code",
   "execution_count": null,
   "metadata": {},
   "outputs": [],
   "source": [
    "trips_df.head()"
   ]
  },
  {
   "cell_type": "code",
   "execution_count": null,
   "metadata": {},
   "outputs": [],
   "source": [
    "# group by start stations and count number of trips\n",
    "trips_start_df = trips_df.groupby(['start_station_geoid']).size().reset_index(name = 'num_trips')\n",
    "trips_start_df = trips_start_df.sort_values('num_trips', ascending=False)\n",
    "trips_start_df = trips_start_df.rename(columns={'start_station_geoid': 'geoid'})\n",
    "trips_start_df.head()"
   ]
  },
  {
   "cell_type": "code",
   "execution_count": null,
   "metadata": {},
   "outputs": [],
   "source": [
    "stations = pd.read_csv('../data/citibike_stations_final.csv')\n",
    "\n",
    "#group by geoid and count number of stations\n",
    "stations_geoid = stations.groupby(['geoid']).size().reset_index(name = 'num_stations')\n",
    "stations_geoid = stations_geoid.sort_values('num_stations', ascending=False)\n",
    "\n",
    "## Number of Stations at each geoid\n",
    "trips_start_df= pd.merge(stations_geoid,trips_start_df,  on=['geoid'], how='inner')\n",
    "trips_start_df.head()"
   ]
  },
  {
   "cell_type": "markdown",
   "metadata": {},
   "source": [
    "1. x = num_stations\n",
    "2. y = num_trips"
   ]
  },
  {
   "cell_type": "code",
   "execution_count": null,
   "metadata": {},
   "outputs": [],
   "source": [
    "def permute(input_array):\n",
    "    # shuffle is inplace, so copy to preserve input\n",
    "    permuted = input_array.copy()\n",
    "    np.random.shuffle(permuted)\n",
    "    return permuted"
   ]
  },
  {
   "cell_type": "code",
   "execution_count": null,
   "metadata": {},
   "outputs": [],
   "source": [
    "permute(trips_start_df['num_trips'])"
   ]
  },
  {
   "cell_type": "code",
   "execution_count": null,
   "metadata": {},
   "outputs": [],
   "source": [
    "# plot one instance of permuted data\n",
    "fig, (ax1, ax2) = plt.subplots(nrows=1, ncols=2, figsize=(12,6), sharey=True)\n",
    "sns.regplot(x=trips_start_df.num_stations, y=trips_start_df.num_trips, ax=ax1)\n",
    "ax1.set_title('True data')\n",
    "sns.regplot(x=trips_start_df.num_stations, y=permute(trips_start_df.num_trips), ax=ax2)\n",
    "ax2.set_title('Permuted data')\n",
    "plt.show()"
   ]
  },
  {
   "cell_type": "code",
   "execution_count": null,
   "metadata": {},
   "outputs": [],
   "source": [
    "def plot_model_line(df, model, is_resampled=True):\n",
    "    '''\n",
    "    Takes a dataframe and a fitted model\n",
    "    Plots a line of best fit to the data\n",
    "    '''\n",
    "    if is_resampled:\n",
    "        color=\"grey\"\n",
    "        alpha=0.1\n",
    "    else:\n",
    "        color=\"steelblue\"\n",
    "        alpha=0.7\n",
    "    plt.plot(df['num_stations'], df['num_stations'] * model.coef_[0] + model.intercept_, color=color, alpha=alpha)"
   ]
  },
  {
   "cell_type": "code",
   "execution_count": null,
   "metadata": {},
   "outputs": [],
   "source": [
    "# plot true data\n",
    "plt.scatter(trips_start_df['num_stations'], trips_start_df['num_trips'])\n",
    "\n",
    "# plot 100 iterations of models on permuted data\n",
    "for i in range(100):\n",
    "    fake_model = LinearRegression().fit(trips_start_df[['num_stations']], permute(trips_start_df['num_trips']))\n",
    "    plot_model_line(trips_start_df, fake_model)\n",
    "\n",
    "# model true data and plot\n",
    "model = LinearRegression().fit(trips_start_df[['num_stations']], trips_start_df['num_trips'])\n",
    "plot_model_line(trips_start_df, model, is_resampled=False)\n",
    "    \n",
    "plt.xlabel('num_stations')\n",
    "plt.ylabel('num_trips')\n",
    "    \n",
    "plt.show()\n"
   ]
  },
  {
   "cell_type": "code",
   "execution_count": null,
   "metadata": {},
   "outputs": [],
   "source": [
    "# what's up with the point of convergence in all the models?\n",
    "print(trips_start_df.num_stations.mean(), trips_start_df.num_trips.mean())"
   ]
  },
  {
   "cell_type": "code",
   "execution_count": null,
   "metadata": {},
   "outputs": [],
   "source": [
    "%%time\n",
    "# how many permuted (null hyopthesis) slopes are greater than our observed slope?\n",
    "steeper_slopes = 0\n",
    "n_permutations = 10000\n",
    "permuted_slopes = np.zeros(n_permutations)\n",
    "\n",
    "for i in range(n_permutations):\n",
    "    fake_model = LinearRegression().fit(trips_start_df[['num_stations']], permute(trips_start_df.num_trips))\n",
    "    \n",
    "    permuted_slopes[i] = fake_model.coef_[0]\n",
    "    \n",
    "    if np.abs(fake_model.coef_[0]) > np.abs(model.coef_):\n",
    "        steeper_slopes += 1\n",
    "    \n",
    "print(steeper_slopes / n_permutations)"
   ]
  },
  {
   "cell_type": "code",
   "execution_count": null,
   "metadata": {},
   "outputs": [],
   "source": [
    "steeper_slopes"
   ]
  },
  {
   "cell_type": "markdown",
   "metadata": {},
   "source": [
    "The result of our permutation shows that there are no steeper slopes that are greater than our observed slope. This means that it is impossible to conclude that having more trips in places with more stations is outside the range of values we might reasonably expect to get by chance. \n",
    "We can visualize this again by creating a graph."
   ]
  },
  {
   "cell_type": "code",
   "execution_count": null,
   "metadata": {},
   "outputs": [],
   "source": [
    "# plot where our observed slope falls in the distribution \n",
    "#  of slopes under the null hypothesis\n",
    "binsizes, _, _ = plt.hist(permuted_slopes, bins=50)\n",
    "plt.vlines(model.coef_[0], ymin=0, ymax=np.max(binsizes), color='red')\n",
    "plt.show()"
   ]
  },
  {
   "cell_type": "code",
   "execution_count": null,
   "metadata": {},
   "outputs": [],
   "source": [
    "from   sklearn.model_selection import train_test_split\n",
    "import statsmodels.formula.api as smf"
   ]
  },
  {
   "cell_type": "code",
   "execution_count": null,
   "metadata": {},
   "outputs": [],
   "source": [
    "sm_model = smf.ols(\"num_trips ~ num_stations\", data=trips_start_df)\n",
    "result = sm_model.fit()\n",
    "result.summary()"
   ]
  },
  {
   "cell_type": "markdown",
   "metadata": {},
   "source": [
    "Overall, from the linear regression too, we can see that there is a very small p-value. This means we reject the null hypothesis that more stations will lead to more trips. In our next step, we will look at permutation by the each number of stations with relation to the number of trips"
   ]
  },
  {
   "cell_type": "markdown",
   "metadata": {},
   "source": [
    "**Additional things to look at**\n",
    "- How race/income and citibike stations placement is changing throughout the years. \n",
    "- permutation by columns. with race/income included."
   ]
  },
  {
   "cell_type": "markdown",
   "metadata": {},
   "source": [
    "## Interpretation and Conclusion "
   ]
  },
  {
   "cell_type": "markdown",
   "metadata": {},
   "source": [
    "Over the course of our project, we've found several pieces of evidence that indicate the complexity of factors that are involved in citibike placement in NYC. First, we found evidence that geoids with a high number of stations had lower numbers of trips. \n",
    "\n",
    "This led us to investigating the specific demographics of those areas and researching more into the specific demographics of NYC in conjunction with station placement based on geoid. We found that census tracts with majority white households had a consistently high number of stations when compared to other racial groups. This is consistent with what we found for the geo ids with seven or more stations. Moreover, we found that census tracts with higher income also consistently had a high number of stations. This indicates a racial and income disparity in Citibike station placement. In order to confirm this trend, we looked further into the demographics of citibike users based on trip data. \n",
    "\n",
    "From this trip data, we found that Citibike's placement in predominantly white area is logical given the fact that it would appear that predominantly black census tracts are less likely to utilize Citibike. However, because this could be due simply to the higher number of Citibike stations in these areas, we decided to normalize the data. We normalized the data by dividing the number of trips by the number of stations. When using this normalized data, we found that predominantly asian areas had a high number of trips per station. This indicates that Citibike's placement is not meeting the demand of these Asian census tracts. \n",
    "\n",
    "Moreover, our research in Citibike creation indicates that while Citibike does address the need for Citibike stations in white areas, they are not doing as well for black and asian areas. Specifically, areas with a predominantly asian population indicate that Citibike is not meeting the needs of these areas. \n",
    "\n",
    "These findings indicate that as of 2017 Citibike has needed to make a substantial effort in building more stations in poor and non-white areas. This has been supported by Citibike's recent expansion in 2020, which has added 36 new stations. \n",
    "\n"
   ]
  },
  {
   "cell_type": "markdown",
   "metadata": {},
   "source": [
    "## Limitations"
   ]
  },
  {
   "cell_type": "markdown",
   "metadata": {},
   "source": [
    "### Overall Limitations\n",
    "\n",
    "- We acknowledge that race and income are not the only factors that contribute to the distribution of citibike stations around NYC. We are trying to see if there is a correlations for race and income with the distribution of citibike stations. \n",
    "\n",
    "- Since our data is based off of citibikes in 2017, our results are limited to that year only. That being said, they may be an indicator of how citibike stations are distributed for other years as well."
   ]
  },
  {
   "cell_type": "markdown",
   "metadata": {},
   "source": [
    "### Citi Bike Trip Data Limitations\n",
    "\n",
    "- The trip data **only includes the 'Subscribers' of the users**. Though there may be some one-time-customer passes from NYC residents, due to the large amount of data we decided to settle on subscribers only because there was a higher chance that these people were actually new york city residents. So our data may not be representative of other NYC residents that may have only used one-time passes. \n",
    "\n",
    "- We dropped rows where start station = end station. When the start station = end station we assumed that there would probably we a majority of cases where people where having trouble with using citibike in the inital process. However, **there may be cases where people would have been able to make complete round trips and returned them back to the same location in for some of the trips where the start station = end station**"
   ]
  },
  {
   "cell_type": "markdown",
   "metadata": {},
   "source": [
    "### Citi Bike Stations Data Limitations\n",
    "\n",
    "- One possible limitation of this station data set is that the **count of the number of trips taken from a station is actually the count up to the end of 2019, whereas our project focuses on 2017**. However, there is a workaround for this problem since we also have the trip data, we can just recalculate the number of trips taken from each station up to the end of 2017. \n",
    "\n",
    "- Another limitation is that **the station start date is not actually the date the station was added to the network but is instead the date at which the first trip was taken from the station**, which might not always be the same."
   ]
  },
  {
   "cell_type": "markdown",
   "metadata": {},
   "source": [
    "### Race and Income Data Limitations"
   ]
  },
  {
   "cell_type": "markdown",
   "metadata": {},
   "source": [
    "- One possible limitation of this data set is that **it only looks at survey data from 2017**. However, this is also consistent with the current data available on the American Community Survey website. Currently, the survey website data is only updated up until 2017. Because of this limitation, there may not be potential inaccuracies with representation in the data.\n",
    "\n",
    "- Moreover, populations like the homeless or digital nomads may not be recorded in the data. That being said, the survey itself was collected using this method in order to avoid bias in the data. "
   ]
  },
  {
   "cell_type": "markdown",
   "metadata": {},
   "source": [
    "## Source Code \n",
    "\n",
    "\n",
    "1) Lecture Notes: https://colab.research.google.com/drive/1pMK18-DQoBDA_9rSzio6LJtkCJWxJF1g?usp=drive_open#scrollTo=6p2-tZKgM4He\n",
    "\n",
    "2) Stack Overflow, Pandas, Matplotlib Documentation  : \n",
    "\n",
    "    -  https://matplotlib.org/3.1.1/api/_as_gen/matplotlib.pyplot.xlabel.html\n",
    "    -  https://stackoverflow.com/questions/11346283/renaming-columns-in-pandas"
   ]
  },
  {
   "cell_type": "markdown",
   "metadata": {},
   "source": [
    "## Acknowledgements\n",
    "\n",
    "1) MIT Citibike study :  https://aberke.github.io/income-race-bikes/\n",
    "\n",
    "2) Equity in Citibike study : https://trec.pdx.edu/research/project/884 \n",
    "\n",
    "<em>Special Thanks to Professor Wilkens, Head TA Stephen Cowpar, TA ... in helping us answer our research question properly, find methods to solve our problems, and focus on the direction of our study</em>"
   ]
  },
  {
   "cell_type": "markdown",
   "metadata": {},
   "source": [
    "## Appendix\n",
    "\n",
    "1) Citibike Trip data Data Cleaning Notebooks : https://github.com/shljessie/citibike-nyc/tree/master/data_cleaning/citibike\n",
    "\n",
    "2) NYC Race & Income Data Cleaning Notebooks : https://github.com/shljessie/citibike-nyc/tree/master/data_cleaning/race_and_income \n",
    "\n",
    "3) Citibike Stations Data Cleaning Notebook : https://github.com/shljessie/citibike-nyc/tree/master/data_cleaning/stations\n",
    "\n",
    "4) Citibike Data Cleaning process Phase 2 : https://github.com/shljessie/citibike-nyc/blob/master/project_phase_submissions/phase2_final_notebook.ipynb\n",
    "\n",
    "<!-- 5) Citibike Trip Data Additional Cleaning :  -->"
   ]
  },
  {
   "cell_type": "code",
   "execution_count": null,
   "metadata": {},
   "outputs": [],
   "source": []
  },
  {
   "cell_type": "code",
   "execution_count": null,
   "metadata": {},
   "outputs": [],
   "source": []
  }
 ],
 "metadata": {
  "kernelspec": {
   "display_name": "Python 3",
   "language": "python",
   "name": "python3"
  },
  "language_info": {
   "codemirror_mode": {
    "name": "ipython",
    "version": 3
   },
   "file_extension": ".py",
   "mimetype": "text/x-python",
   "name": "python",
   "nbconvert_exporter": "python",
   "pygments_lexer": "ipython3",
   "version": "3.8.5"
  }
 },
 "nbformat": 4,
 "nbformat_minor": 4
}
