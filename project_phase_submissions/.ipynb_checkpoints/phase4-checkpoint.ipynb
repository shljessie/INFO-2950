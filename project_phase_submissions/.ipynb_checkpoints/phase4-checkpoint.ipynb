{
 "cells": [
  {
   "cell_type": "markdown",
   "metadata": {},
   "source": [
    "# Project Phase IV :  Citibike Project Final Draft\n",
    "\n",
    "\n",
    "This project aims to answer the question \n",
    " **How is citibike representing NYC demographics? (in 2017)** in answering this question we look at three datasets. This notebook contains the initial **Data Collecting & Cleaning & Exploratory Analysis**\n",
    "\n",
    "#### Team Members \n",
    "- Seonghee Lee (sl994) \n",
    "- Nicholas Rahardja (nmr73)\n",
    "- Chelsea Choi (cc2583)\n",
    "\n",
    "#### Team Github\n",
    "- https://github.com/shljessie/citibike-nyc\n",
    "\n",
    "#### Team Raw Data Google Drive \n",
    "- https://drive.google.com/drive/folders/197_d1BwPHXmVuyKA6I7UEyEw4Nqo8dAk\n",
    "\n",
    " \n",
    " \n",
    "<br/> \n",
    "\n",
    "_______________"
   ]
  },
  {
   "cell_type": "markdown",
   "metadata": {},
   "source": [
    "\n",
    "## Contents of this Notebook\n",
    "\n",
    "1. Introduction\n",
    "2. Data Description\n",
    "3. Pre Registration Statement\n",
    "4. Data Analysis\n",
    "5. Evaluation of Significance\n",
    "6. Interpretation and Conclusion\n",
    "7. Limitation\n",
    "8. Source Code\n",
    "9. Acknowledgement\n",
    "10. Appendix\n",
    "11. Questions for Reviewers\n",
    "\n",
    "\n"
   ]
  },
  {
   "cell_type": "markdown",
   "metadata": {},
   "source": [
    "<br/>\n",
    "\n",
    "_______________\n",
    "\n",
    "# 1) Introduction\n",
    "\n",
    "1. Context of Work\n",
    "2. Research Question\n",
    "3. Main Findings\n",
    "4. Summary of Results\n",
    "\n",
    "What is the context of the work? What research question are you trying to answer? What are your main findings? Include a brief summary of your results."
   ]
  },
  {
   "cell_type": "markdown",
   "metadata": {},
   "source": [
    "\n",
    "#### 1. Context of Work\n",
    "\n",
    "Bike Sharing comes with many benefits such as providing free or affordable access to bicycles for short-distance trips. By doing so in an urban area, this reduces congestion, noise, and air pollution. \n",
    "\n",
    "However whether or not these bike sharing systems are truly accessible for all is questionable. Since the accessibility of these bike sharing systems depend heavily on where the stations are located, it is very likely that where you live becomes the deciding factor in whether or not you will be able to use these bikes. \n",
    "\n",
    "In coming up with our research question, we looked at many research papers on bike sharing system equity. \n",
    "For example, a [study done by Portland State University](https://trec.pdx.edu/research/project/884) suggests that significant portions of the population are underrepresented among bike share users, including people of color, along with lower-income, female, older adults and less-educated groups. An [article in 2017](https://usa.streetsblog.org/2017/07/05/whats-keeping-people-from-using-bike-share-new-study-breaks-it-down-by-race-and-income/) finds that this may be due to the fact that these low-income communities and people of color view traffic risk, high prices, and the potential for crime and harassment as the biggest barriers to bicycling and using bike-share in their neighborhoods. There has also been [data visualization research at MIT](https://aberke.github.io/income-race-bikes/) about how bikes are being distributed in NYC throughout the years in accordance to race&income.\n",
    "\n",
    "In this project, we look into how citibike stations are distributed in NYC and how that relates to the following factors: 1) race&income and  2) citibike usage. Are there more stations in areas of higher usage regardless of race and income? Does race and income seem to have an unignorable correlation with how citibike stations are being distributed? How much of these factors play into the distribution of citibike? How might citibike station distribution be improved? These are the questions we will ask and attempt to answer throughout this project.\n",
    " \n",
    "We are specificially looking at **NYC citibike trip data in 2017 as a sample** of the representation of NYC bike stations around New York. We chose New York City's citibike system since New York City is an area where there are widely varying levels of income. We chose 2017 for two reasons,    1) NYC's race and income data was avaiable for the years 2013 -2018 and 2) 2017 was a year when many new stations of citibike where added to represent its overall usage.\n",
    "We decided that 2017 would be a fair representation of how citibike stations were distributed throughout NYC.\n",
    "\n",
    "#### 2. Research Question\n",
    "\n",
    "##### How inclusive / representative is Citi Bike of New York City Demographics? \n",
    "\n",
    "    - How inclusive are Citbike stations in NYC? \n",
    "    - How well does citbike station locations correspond with usage? \n",
    "    - Who does Citibike actually serve?\n",
    "    \n",
    "**Limitations/Disclaimer:** \n",
    "This project was done on NYC citibike trip data in 2017 \n",
    "\n",
    "    \n",
    "#### 3. Main Findings\n",
    "\n",
    "\n",
    "#### 4. Summary of Results\n",
    "\n"
   ]
  },
  {
   "cell_type": "markdown",
   "metadata": {},
   "source": [
    "<br/>\n",
    "<br/>\n",
    "<br/>\n",
    "\n",
    "_______________\n",
    "\n",
    "# 2) Data Description \n",
    "\n",
    "For this project we used 3 types of data \n",
    "1. Citibike Trip Data\n",
    "2. Citibike Station Data\n",
    "3. NYC Race and Income Data"
   ]
  },
  {
   "cell_type": "markdown",
   "metadata": {},
   "source": [
    "### Data 1 : Citibike Trip Data\n",
    "\n",
    "##### 1. What are the observations (rows) and the attributes (columns)?\n",
    "\n",
    "[Original Data]\n",
    "\n",
    "- Trip Duration (seconds)\n",
    "- Start Time and Date\n",
    "- Stop Time and Date\n",
    "- Start Station Name\n",
    "- End Station Name\n",
    "- Station ID\n",
    "- Station Lat/Long\n",
    "- Bike ID\n",
    "- User Type (Customer = 24-hour pass or 3-day pass user; Subscriber = Annual Member)\n",
    "- Gender (Zero=unknown; 1=male; 2=female)\n",
    "- Year of Birth\n",
    "\n",
    "[Cleaned Data]\n",
    "\n",
    "- Start Time and Date (datetime)\n",
    "- Stop Time and Date (datetime)\n",
    "- Start Station Name\n",
    "- End Station Name\n",
    "- User Type (Subscriber Only)\n",
    "- Gender (Zero=unknown; 1=male; 2=female)\n",
    "- Year of Birth\n",
    "- Trip Minutes\n",
    "\n",
    "##### 2. Why was this dataset created?\n",
    "\n",
    "This dataset was created to help developers, engineers, statisticians, artists, academics and the local public to explore the usage of citi bike around New York City. Insights from these findings would help citibike officials find answers to questions like where citibike users ride, how far they go,and what stations are the most popular.  It is an open dataset on the public bike sharing system of New York City. It is open to the public to help people find insights about this system.\n",
    "\n",
    "##### 3. Who funded the creation of the dataset?\n",
    "\n",
    "This citibike data was funded by citibike in New York. Lyft is the operator of the Citi Bike program in New York City and Jersey City. The raw dataset was collected from this source https://www.citibikenyc.com/system-data \n",
    "\n",
    "##### 4.What processes might have influenced what data was observed and recorded and what was not?\n",
    "\n",
    "Trips that may have been taken by staff who are managing citibike throughout the city are not good representations of citibikes trips by users only. Bikes may have been relocated overnight so that the distribution of bikes around the city are evenly distributed. Also bikes that may have been broken may lead to a loss of data.  Also citibike usage trip data is not a complete representation of all bike rider data in New York. \n",
    "\n",
    "##### 5. If people are involved, were they aware of the data collection and if so, what purpose did they expect the data to be used for?\n",
    "\n",
    "In signing up for using citibike, these users are allowing for citibike to take data of their usage. \n",
    "Citibike releases information about the user’s ride and trip duration  including their start station, usertype(Subscriber, one time user), gender, and year of birth. Citibike plans on using this data to understand citi bike users and the overall trend of citi bike users in new york city. Though many citibike users might not have been aware of this, they could have assumed that the data was collected to understand the citibike users for business related reasons.\n",
    "\n",
    "##### 6. Where can your raw source data be found, if applicable? Provide a link to the raw data (hosted in a Cornell Google Drive or Cornell Box). \n",
    "\n",
    "https://drive.google.com/drive/folders/11YUr4yiiFKCNlN2MnGPGpCeXyrq92A0Z?usp=sharing\n"
   ]
  },
  {
   "cell_type": "markdown",
   "metadata": {},
   "source": [
    "### Data 2 : Citibike Stations Data\n",
    "\n",
    "##### 1. What are the observations (rows) and the attributes (columns)?\n",
    "\n",
    "Each row in this data set corresponds to a unique Citi Bike station in NYC. \n",
    "The following is the meaning of each column in this data set: \n",
    "- Station_id: integer that uniquely identifies a station \n",
    "- Station_name: name of the station \n",
    "- Lat: latitude of the station \n",
    "- Long: longitude of the station \n",
    "- First_trip: Date of the first trip ever taken from the station \n",
    "- Last_trip: Data of the last trip taken from the station (at the time this data was downloaded) \n",
    "- Rides: total number of rides taken from the station \n",
    "- Geoid: geographical identifier for the NYC census tract that the station is located in \n",
    "\n",
    "\n",
    "##### 2. Why was this dataset created?\n",
    "\n",
    "The base dataset for this table came from the same source as the Citbike trip data set described above. However, more processing was done to this data to obtain this station dataset by a team of MIT researchers who were trying to map out the locations of Citi Bike stations in NYC for their research purposes. \n",
    "\n",
    "##### 3. Who funded the creation of the dataset?\n",
    "\n",
    "This table uses as its base table the Cibike trip data set that was funded by citibike in New York. However, the processing that was done to this raw citi bike data was done by MIT researchers, so it can be assumed that MIT indirectly funded the creation of this Citibike trip data set. MIT Media Lab research: https://github.com/aberke/income-race-bikes/tree/master/data/nyc-bike\n",
    "\n",
    "\n",
    "##### 4.What processes might have influenced what data was observed and recorded and what was not?\n",
    "\n",
    "To get the station data to the current form, we first used an API to obtain the geoid (unique census tract identification number) from the longitude and latitude of each Citibike station. This data was then added as the ‘Geoid’ column in the data set. Next since our project focuses on 2017, I removed all stations that had its first trip after 2017 since they are not relevant to our analysis. Lastly, I renamed a few columns to make their names more intuitive. Such as renaming ‘id’ to ‘station_id’ and ‘name’ to ‘station_name’. \n",
    "\n",
    "##### 5. If people are involved, were they aware of the data collection and if so, what purpose did they expect the data to be used for?\n",
    "\n",
    "Since this data set is derived from the citi bike trips dataset, citi bike users were made aware that citibike would be tracking their usage data, when users signed up for the application. \n",
    "\n",
    "The expected usage of this data is the same as for the Citi Bike trip data above. \n",
    "\n",
    "\n",
    "##### 6. Where can your raw source data be found, if applicable? Provide a link to the raw data (hosted in a Cornell Google Drive or Cornell Box). \n",
    "\n",
    "https://drive.google.com/file/d/1pATvzg-PTpPvs_8x5pKIs_jqlbKrWyat/view?usp=sharing\n"
   ]
  },
  {
   "cell_type": "markdown",
   "metadata": {},
   "source": [
    "### Data 3 : Race and Income Data in 2017\n",
    "##### 1. What are the observations (rows) and the attributes (columns)?\n",
    "Each row in this data set corresponds to a different census tract in NYC. A census tract is a geographical area, defined by the US government when they collect their census data. \n",
    "The following are the columns in this table: \n",
    "Geoid \n",
    "2017 median income\n",
    "2017 median income margin of error\n",
    "2017 race : total households\n",
    "2017 race : total households margin of error\n",
    "2017 race: white\n",
    "2017 race: black\n",
    "2017 race : asian\n",
    "2017 race : other\n",
    "2017 race : 2 or more races\n",
    "\n",
    "##### 2. Why was this dataset created?\n",
    "This dataset was created in order to study the census tract data along with the associated race and income in that tract from 2017. This was done by extracting the household median income and household race from the American Community Survey. \n",
    "\n",
    "##### 3. Who funded the creation of the dataset?\n",
    "This data was created and funded by the United States Census bureau. The creation of this dataset was funded by the MIT Media Lab. This data was created and funded by the United States Census bureau. ACS: https://data.census.gov/cedsci/The creation of this dataset was funded by the MIT Media Lab. MIT Media Lab : https://github.com/aberke/income-race-bikes/blob/master/data/ny/race_and_income_data.csv.\n",
    "\n",
    "##### 4. What processes might have influenced what data was observed and recorded and what was not?\n",
    "The American Community Survey’s data collection process is performed by randomly selecting 3.5 million addresses to reply to the survey in order to represent the entire population. Because this survey is limited to those with addresses, there may be households and individuals who are not recorded in the census. For example, the homeless population is difficult to track and therefore could influence the data as well. \n",
    "\n",
    "##### 5. What preprocessing was done, and how did the data come to be in the form that you are using?\n",
    "Because the original data from the American Community Survey was downloaded as a shapefile, the data had to be extracted and transformed into a dataframe. After extracting the race, income, and renaming the columns, the data set was created. \n",
    "\n",
    "Next, rows where the median income was not a numeric integer were dropped except for rows that contain the value ‘$250,000+’ as their median income which were changed to ‘250,000’ so that they can be treated as numeric values. Next only the 2017, income and race columns were selected since our project focuses on 2017.\n",
    "\n"
   ]
  },
  {
   "cell_type": "markdown",
   "metadata": {},
   "source": [
    "##### 6. If people are involved, were they aware of the data collection and if so, what purpose did they expect the data to be used for?\n",
    "The individuals contacted were aware of the data collection. In the constitution, it states that a census must be taken every 10 years. People likely understand the main purpose of the census as determining where federal and state funding should be spent. Moreover, their data is protected from being shared and used by any other government agency. \n",
    "\n",
    "##### 7. Where can your raw source data be found, if applicable? Provide a link to the raw data (hosted in a Cornell Google Drive or Cornell Box). \n",
    "https://drive.google.com/file/d/1obfrrDul07XDXEvyK6kf-N66_2K5-g88/view?usp=sharing"
   ]
  },
  {
   "cell_type": "markdown",
   "metadata": {},
   "source": [
    "## 3) Preregistration Statement "
   ]
  },
  {
   "cell_type": "markdown",
   "metadata": {},
   "source": [
    "#### Two analyses\n",
    "\n",
    "1. What is the relationship between usage and number of stations? (Trips vs Stations)\n",
    "    - compute usage by geoid and stations by geoid. \n",
    "    - see how citibike usage & number of stations differ between geoid. \n",
    "    - look at the overall population in a geoid and normalize\n",
    "    - Thinking of computiung linear regression to see of the number of stations correlate with the usage(this might change depending on what we find in the data)\n",
    "    - compare this to overall population. \n",
    "    - choose a few geoid's of interest to look further into\n",
    "       \n",
    "2. How is station placement by geoid representing NYC race & income demographics? (Stations vs Race/Income) \n",
    "      - After question 1, looking at geoid ares of interest, we could look in to race & income demographics of those areas? \n",
    "      - Thinking of trying out multiple linear regression with different geoids, race, and income factors included. (this might change depending on what we find in the data)\n"
   ]
  },
  {
   "cell_type": "markdown",
   "metadata": {},
   "source": [
    "## 4) Data Analysis "
   ]
  },
  {
   "cell_type": "markdown",
   "metadata": {},
   "source": [
    "#### Team planning Storyline\n",
    "\n",
    "1) Originally we wanted to know does more stations in a geoid lead to more trips? No!\n",
    "\n",
    "2) So what else could be predicting more trips? So we now want to look into wether the race and income of a geoid can predict the number of trips? \n",
    "\n",
    "3) Now that we know the relationship between trips and race, then we can look into the relationship between the number of stations in each geoid and race. \n",
    "\n",
    "\n",
    "\"How is citibike representing NYC demographics? (in 2017)\"\n",
    "1. Understanding distribution of citibike\n",
    "- Trips by Geoid\n",
    "- Stations by Geoid \n",
    "- Race+ Income by Geoid\n",
    "- Grouping… dataframe\n",
    "\n",
    "2. The relationship between each other \n",
    "- Trips vs Stations (seonghee)\n",
    "- Trips vs Race/income (nicholas) \n",
    "- Stations vs Race/income (chelsea)\n",
    "\n",
    "3. Evaluation of Significance\n",
    "- 9pm KST Tuesday \n",
    "\n"
   ]
  },
  {
   "cell_type": "markdown",
   "metadata": {},
   "source": [
    "### 1. Understanding Distribution of Citibike Around NYC\n"
   ]
  },
  {
   "cell_type": "markdown",
   "metadata": {},
   "source": [
    "Our research question is \"How is citibike representing NYC demographics? (in 2017)\" \n",
    "\n",
    "The first step that we find crucial in answering our research question is understanding how citibike trips, stations , and race+income are distributed around NYC by each geodistrict. \n",
    "After we figure out how the citibike trips and stations are distributed around NYC, we will be able find abnormalities or patterns with in the distrubution that we can take a closer look at.\n",
    "\n",
    "##### Steps for Grouping by Geoid\n",
    "\n",
    "Here we attempted to look at geoid 's which are measure ments stated by NYC census.\n",
    "We did not need to do more for grouping race+income by geoid because that was already in our dataset.\n",
    "**We specifically chose to look at geoid's as the standard of grouping because?**\n",
    "\n",
    "\n",
    "So the first initial steps that i will go through are\n",
    "\n",
    "1. Grouping trips by Geoid\n",
    "2. Grouping stations by Geoid\n"
   ]
  },
  {
   "cell_type": "code",
   "execution_count": 35,
   "metadata": {},
   "outputs": [],
   "source": [
    "trip = pd.read_csv('../../Desktop/citibike-nyc/data_exploration/clean_trip_data.csv')"
   ]
  },
  {
   "cell_type": "code",
   "execution_count": 22,
   "metadata": {},
   "outputs": [],
   "source": [
    "stations = pd.read_csv('../../Desktop/citibike-nyc/data_cleaning/citbike_stations/citibike_stations_geoid_final.csv')\n",
    "ri = pd.read_csv('../../Desktop/citibike-nyc/data_cleaning/race_and_income/race_and_income_final.csv')"
   ]
  },
  {
   "cell_type": "markdown",
   "metadata": {},
   "source": [
    "### 1. Group Trips by Geoid "
   ]
  },
  {
   "cell_type": "markdown",
   "metadata": {},
   "source": [
    "##### Issues\n",
    "\n",
    "- start station end station divide"
   ]
  },
  {
   "cell_type": "code",
   "execution_count": 4,
   "metadata": {},
   "outputs": [
    {
     "data": {
      "text/html": [
       "<div>\n",
       "<style scoped>\n",
       "    .dataframe tbody tr th:only-of-type {\n",
       "        vertical-align: middle;\n",
       "    }\n",
       "\n",
       "    .dataframe tbody tr th {\n",
       "        vertical-align: top;\n",
       "    }\n",
       "\n",
       "    .dataframe thead th {\n",
       "        text-align: right;\n",
       "    }\n",
       "</style>\n",
       "<table border=\"1\" class=\"dataframe\">\n",
       "  <thead>\n",
       "    <tr style=\"text-align: right;\">\n",
       "      <th></th>\n",
       "      <th>Unnamed: 0</th>\n",
       "      <th>starttime</th>\n",
       "      <th>stoptime</th>\n",
       "      <th>start station name</th>\n",
       "      <th>end station name</th>\n",
       "      <th>usertype</th>\n",
       "      <th>birth year</th>\n",
       "      <th>gender</th>\n",
       "      <th>start_station_geoid</th>\n",
       "      <th>end_station_geoid</th>\n",
       "      <th>tripminutes</th>\n",
       "    </tr>\n",
       "  </thead>\n",
       "  <tbody>\n",
       "    <tr>\n",
       "      <th>0</th>\n",
       "      <td>0</td>\n",
       "      <td>2017-01-01 00:00:21</td>\n",
       "      <td>2017-01-01 00:11:41</td>\n",
       "      <td>W 82 St &amp; Central Park West</td>\n",
       "      <td>Central Park West &amp; W 72 St</td>\n",
       "      <td>Subscriber</td>\n",
       "      <td>1965.0</td>\n",
       "      <td>2</td>\n",
       "      <td>3.606102e+10</td>\n",
       "      <td>3.606101e+10</td>\n",
       "      <td>11</td>\n",
       "    </tr>\n",
       "    <tr>\n",
       "      <th>1</th>\n",
       "      <td>1</td>\n",
       "      <td>2017-01-01 00:00:45</td>\n",
       "      <td>2017-01-01 00:22:08</td>\n",
       "      <td>Cooper Square &amp; E 7 St</td>\n",
       "      <td>Broadway &amp; W 32 St</td>\n",
       "      <td>Subscriber</td>\n",
       "      <td>1987.0</td>\n",
       "      <td>2</td>\n",
       "      <td>3.606100e+10</td>\n",
       "      <td>3.606101e+10</td>\n",
       "      <td>21</td>\n",
       "    </tr>\n",
       "    <tr>\n",
       "      <th>2</th>\n",
       "      <td>6</td>\n",
       "      <td>2017-01-01 00:05:00</td>\n",
       "      <td>2017-01-01 00:14:20</td>\n",
       "      <td>Broadway &amp; W 60 St</td>\n",
       "      <td>9 Ave &amp; W 45 St</td>\n",
       "      <td>Subscriber</td>\n",
       "      <td>1973.0</td>\n",
       "      <td>1</td>\n",
       "      <td>3.606101e+10</td>\n",
       "      <td>3.606101e+10</td>\n",
       "      <td>9</td>\n",
       "    </tr>\n",
       "    <tr>\n",
       "      <th>3</th>\n",
       "      <td>7</td>\n",
       "      <td>2017-01-01 00:05:37</td>\n",
       "      <td>2017-01-01 00:19:24</td>\n",
       "      <td>Broadway &amp; W 37 St</td>\n",
       "      <td>E 10 St &amp; Avenue A</td>\n",
       "      <td>Subscriber</td>\n",
       "      <td>1977.0</td>\n",
       "      <td>2</td>\n",
       "      <td>3.606101e+10</td>\n",
       "      <td>3.606100e+10</td>\n",
       "      <td>13</td>\n",
       "    </tr>\n",
       "    <tr>\n",
       "      <th>4</th>\n",
       "      <td>8</td>\n",
       "      <td>2017-01-01 00:05:47</td>\n",
       "      <td>2017-01-01 00:10:02</td>\n",
       "      <td>York St &amp; Jay St</td>\n",
       "      <td>Carlton Ave &amp; Flushing Ave</td>\n",
       "      <td>Subscriber</td>\n",
       "      <td>1989.0</td>\n",
       "      <td>1</td>\n",
       "      <td>3.604700e+10</td>\n",
       "      <td>3.604702e+10</td>\n",
       "      <td>4</td>\n",
       "    </tr>\n",
       "  </tbody>\n",
       "</table>\n",
       "</div>"
      ],
      "text/plain": [
       "   Unnamed: 0            starttime             stoptime  \\\n",
       "0           0  2017-01-01 00:00:21  2017-01-01 00:11:41   \n",
       "1           1  2017-01-01 00:00:45  2017-01-01 00:22:08   \n",
       "2           6  2017-01-01 00:05:00  2017-01-01 00:14:20   \n",
       "3           7  2017-01-01 00:05:37  2017-01-01 00:19:24   \n",
       "4           8  2017-01-01 00:05:47  2017-01-01 00:10:02   \n",
       "\n",
       "            start station name             end station name    usertype  \\\n",
       "0  W 82 St & Central Park West  Central Park West & W 72 St  Subscriber   \n",
       "1       Cooper Square & E 7 St           Broadway & W 32 St  Subscriber   \n",
       "2           Broadway & W 60 St              9 Ave & W 45 St  Subscriber   \n",
       "3           Broadway & W 37 St           E 10 St & Avenue A  Subscriber   \n",
       "4             York St & Jay St   Carlton Ave & Flushing Ave  Subscriber   \n",
       "\n",
       "   birth year  gender  start_station_geoid  end_station_geoid  tripminutes  \n",
       "0      1965.0       2         3.606102e+10       3.606101e+10           11  \n",
       "1      1987.0       2         3.606100e+10       3.606101e+10           21  \n",
       "2      1973.0       1         3.606101e+10       3.606101e+10            9  \n",
       "3      1977.0       2         3.606101e+10       3.606100e+10           13  \n",
       "4      1989.0       1         3.604700e+10       3.604702e+10            4  "
      ]
     },
     "execution_count": 4,
     "metadata": {},
     "output_type": "execute_result"
    }
   ],
   "source": [
    "trip.head()"
   ]
  },
  {
   "cell_type": "markdown",
   "metadata": {},
   "source": [
    "As you can see here, the trips have start stations and end stations. In the data cleaning process, we linked unique geoids to the start and end stations. **Now we will count the number of trips taken at each unique geoid.**"
   ]
  },
  {
   "cell_type": "markdown",
   "metadata": {},
   "source": [
    "### Start Stations"
   ]
  },
  {
   "cell_type": "code",
   "execution_count": 4,
   "metadata": {},
   "outputs": [
    {
     "data": {
      "text/html": [
       "<div>\n",
       "<style scoped>\n",
       "    .dataframe tbody tr th:only-of-type {\n",
       "        vertical-align: middle;\n",
       "    }\n",
       "\n",
       "    .dataframe tbody tr th {\n",
       "        vertical-align: top;\n",
       "    }\n",
       "\n",
       "    .dataframe thead th {\n",
       "        text-align: right;\n",
       "    }\n",
       "</style>\n",
       "<table border=\"1\" class=\"dataframe\">\n",
       "  <thead>\n",
       "    <tr style=\"text-align: right;\">\n",
       "      <th></th>\n",
       "      <th>start_station_geoid</th>\n",
       "      <th>Number of Trips</th>\n",
       "    </tr>\n",
       "  </thead>\n",
       "  <tbody>\n",
       "    <tr>\n",
       "      <th>209</th>\n",
       "      <td>3.606101e+10</td>\n",
       "      <td>269945</td>\n",
       "    </tr>\n",
       "    <tr>\n",
       "      <th>269</th>\n",
       "      <td>3.606101e+10</td>\n",
       "      <td>257733</td>\n",
       "    </tr>\n",
       "    <tr>\n",
       "      <th>227</th>\n",
       "      <td>3.606101e+10</td>\n",
       "      <td>230264</td>\n",
       "    </tr>\n",
       "    <tr>\n",
       "      <th>242</th>\n",
       "      <td>3.606101e+10</td>\n",
       "      <td>228497</td>\n",
       "    </tr>\n",
       "    <tr>\n",
       "      <th>191</th>\n",
       "      <td>3.606101e+10</td>\n",
       "      <td>203787</td>\n",
       "    </tr>\n",
       "  </tbody>\n",
       "</table>\n",
       "</div>"
      ],
      "text/plain": [
       "     start_station_geoid  Number of Trips\n",
       "209         3.606101e+10           269945\n",
       "269         3.606101e+10           257733\n",
       "227         3.606101e+10           230264\n",
       "242         3.606101e+10           228497\n",
       "191         3.606101e+10           203787"
      ]
     },
     "execution_count": 4,
     "metadata": {},
     "output_type": "execute_result"
    }
   ],
   "source": [
    "# group by start stations and count number of trips\n",
    "trips_start_df = trip.groupby(['start_station_geoid']).size().reset_index(name = 'Number of Trips')\n",
    "trips_start_df = trips_start_df.sort_values('Number of Trips', ascending=False)\n",
    "trips_start_df.head()"
   ]
  },
  {
   "cell_type": "code",
   "execution_count": 5,
   "metadata": {},
   "outputs": [
    {
     "data": {
      "text/html": [
       "<div>\n",
       "<style scoped>\n",
       "    .dataframe tbody tr th:only-of-type {\n",
       "        vertical-align: middle;\n",
       "    }\n",
       "\n",
       "    .dataframe tbody tr th {\n",
       "        vertical-align: top;\n",
       "    }\n",
       "\n",
       "    .dataframe thead th {\n",
       "        text-align: right;\n",
       "    }\n",
       "</style>\n",
       "<table border=\"1\" class=\"dataframe\">\n",
       "  <thead>\n",
       "    <tr style=\"text-align: right;\">\n",
       "      <th></th>\n",
       "      <th>geoid</th>\n",
       "      <th>Number of Trips</th>\n",
       "    </tr>\n",
       "  </thead>\n",
       "  <tbody>\n",
       "    <tr>\n",
       "      <th>209</th>\n",
       "      <td>3.606101e+10</td>\n",
       "      <td>269945</td>\n",
       "    </tr>\n",
       "    <tr>\n",
       "      <th>269</th>\n",
       "      <td>3.606101e+10</td>\n",
       "      <td>257733</td>\n",
       "    </tr>\n",
       "    <tr>\n",
       "      <th>227</th>\n",
       "      <td>3.606101e+10</td>\n",
       "      <td>230264</td>\n",
       "    </tr>\n",
       "    <tr>\n",
       "      <th>242</th>\n",
       "      <td>3.606101e+10</td>\n",
       "      <td>228497</td>\n",
       "    </tr>\n",
       "    <tr>\n",
       "      <th>191</th>\n",
       "      <td>3.606101e+10</td>\n",
       "      <td>203787</td>\n",
       "    </tr>\n",
       "  </tbody>\n",
       "</table>\n",
       "</div>"
      ],
      "text/plain": [
       "            geoid  Number of Trips\n",
       "209  3.606101e+10           269945\n",
       "269  3.606101e+10           257733\n",
       "227  3.606101e+10           230264\n",
       "242  3.606101e+10           228497\n",
       "191  3.606101e+10           203787"
      ]
     },
     "execution_count": 5,
     "metadata": {},
     "output_type": "execute_result"
    }
   ],
   "source": [
    "trips_start_df = trips_start_df.rename(columns={'start_station_geoid': 'geoid'})\n",
    "trips_start_df.head()"
   ]
  },
  {
   "cell_type": "code",
   "execution_count": 8,
   "metadata": {},
   "outputs": [
    {
     "data": {
      "text/plain": [
       "382"
      ]
     },
     "execution_count": 8,
     "metadata": {},
     "output_type": "execute_result"
    }
   ],
   "source": [
    "len(trips_start_df)"
   ]
  },
  {
   "cell_type": "code",
   "execution_count": 14,
   "metadata": {},
   "outputs": [
    {
     "data": {
      "text/plain": [
       "382"
      ]
     },
     "execution_count": 14,
     "metadata": {},
     "output_type": "execute_result"
    }
   ],
   "source": [
    "trips_start_df['geoid'].nunique()"
   ]
  },
  {
   "cell_type": "markdown",
   "metadata": {},
   "source": [
    "Here we grouped the trips by the start station geoid and found the number of trips taken at each of the unique start stations in 2017. \n",
    "\n"
   ]
  },
  {
   "cell_type": "markdown",
   "metadata": {},
   "source": [
    "We will plot a histogram to get a better idea of how the trips are distributed by geoid."
   ]
  },
  {
   "cell_type": "code",
   "execution_count": 7,
   "metadata": {},
   "outputs": [
    {
     "data": {
      "image/png": "[encoded data removed]",
      "text/plain": [
       "<Figure size 432x288 with 1 Axes>"
      ]
     },
     "metadata": {
      "needs_background": "light"
     },
     "output_type": "display_data"
    }
   ],
   "source": [
    "plt.hist(trips_start_df['Number of Trips'], bins=100)\n",
    "plt.title(\" Start Station Number of Trips \")\n",
    "plt.show()"
   ]
  },
  {
   "cell_type": "markdown",
   "metadata": {},
   "source": [
    "As you can see from the graph above, you can observe a very uneven distribution of start stations trips taken by geoid"
   ]
  },
  {
   "cell_type": "markdown",
   "metadata": {},
   "source": [
    "### End Stations"
   ]
  },
  {
   "cell_type": "code",
   "execution_count": 6,
   "metadata": {},
   "outputs": [
    {
     "data": {
      "text/html": [
       "<div>\n",
       "<style scoped>\n",
       "    .dataframe tbody tr th:only-of-type {\n",
       "        vertical-align: middle;\n",
       "    }\n",
       "\n",
       "    .dataframe tbody tr th {\n",
       "        vertical-align: top;\n",
       "    }\n",
       "\n",
       "    .dataframe thead th {\n",
       "        text-align: right;\n",
       "    }\n",
       "</style>\n",
       "<table border=\"1\" class=\"dataframe\">\n",
       "  <thead>\n",
       "    <tr style=\"text-align: right;\">\n",
       "      <th></th>\n",
       "      <th>end_station_geoid</th>\n",
       "      <th>Number of Trips</th>\n",
       "    </tr>\n",
       "  </thead>\n",
       "  <tbody>\n",
       "    <tr>\n",
       "      <th>209</th>\n",
       "      <td>3.606101e+10</td>\n",
       "      <td>264950</td>\n",
       "    </tr>\n",
       "    <tr>\n",
       "      <th>227</th>\n",
       "      <td>3.606101e+10</td>\n",
       "      <td>236628</td>\n",
       "    </tr>\n",
       "    <tr>\n",
       "      <th>269</th>\n",
       "      <td>3.606101e+10</td>\n",
       "      <td>236408</td>\n",
       "    </tr>\n",
       "    <tr>\n",
       "      <th>242</th>\n",
       "      <td>3.606101e+10</td>\n",
       "      <td>226033</td>\n",
       "    </tr>\n",
       "    <tr>\n",
       "      <th>191</th>\n",
       "      <td>3.606101e+10</td>\n",
       "      <td>208123</td>\n",
       "    </tr>\n",
       "  </tbody>\n",
       "</table>\n",
       "</div>"
      ],
      "text/plain": [
       "     end_station_geoid  Number of Trips\n",
       "209       3.606101e+10           264950\n",
       "227       3.606101e+10           236628\n",
       "269       3.606101e+10           236408\n",
       "242       3.606101e+10           226033\n",
       "191       3.606101e+10           208123"
      ]
     },
     "execution_count": 6,
     "metadata": {},
     "output_type": "execute_result"
    }
   ],
   "source": [
    "#group by end stations and count number of trips\n",
    "trips_end_df = trip.groupby(['end_station_geoid']).size().reset_index(name = 'Number of Trips')\n",
    "trips_end_df = trips_end_df.sort_values('Number of Trips', ascending=False)\n",
    "trips_end_df.head()"
   ]
  },
  {
   "cell_type": "code",
   "execution_count": 7,
   "metadata": {},
   "outputs": [
    {
     "data": {
      "text/html": [
       "<div>\n",
       "<style scoped>\n",
       "    .dataframe tbody tr th:only-of-type {\n",
       "        vertical-align: middle;\n",
       "    }\n",
       "\n",
       "    .dataframe tbody tr th {\n",
       "        vertical-align: top;\n",
       "    }\n",
       "\n",
       "    .dataframe thead th {\n",
       "        text-align: right;\n",
       "    }\n",
       "</style>\n",
       "<table border=\"1\" class=\"dataframe\">\n",
       "  <thead>\n",
       "    <tr style=\"text-align: right;\">\n",
       "      <th></th>\n",
       "      <th>geoid</th>\n",
       "      <th>Number of Trips</th>\n",
       "    </tr>\n",
       "  </thead>\n",
       "  <tbody>\n",
       "    <tr>\n",
       "      <th>209</th>\n",
       "      <td>3.606101e+10</td>\n",
       "      <td>264950</td>\n",
       "    </tr>\n",
       "    <tr>\n",
       "      <th>227</th>\n",
       "      <td>3.606101e+10</td>\n",
       "      <td>236628</td>\n",
       "    </tr>\n",
       "    <tr>\n",
       "      <th>269</th>\n",
       "      <td>3.606101e+10</td>\n",
       "      <td>236408</td>\n",
       "    </tr>\n",
       "    <tr>\n",
       "      <th>242</th>\n",
       "      <td>3.606101e+10</td>\n",
       "      <td>226033</td>\n",
       "    </tr>\n",
       "    <tr>\n",
       "      <th>191</th>\n",
       "      <td>3.606101e+10</td>\n",
       "      <td>208123</td>\n",
       "    </tr>\n",
       "  </tbody>\n",
       "</table>\n",
       "</div>"
      ],
      "text/plain": [
       "            geoid  Number of Trips\n",
       "209  3.606101e+10           264950\n",
       "227  3.606101e+10           236628\n",
       "269  3.606101e+10           236408\n",
       "242  3.606101e+10           226033\n",
       "191  3.606101e+10           208123"
      ]
     },
     "execution_count": 7,
     "metadata": {},
     "output_type": "execute_result"
    }
   ],
   "source": [
    "# rename column\n",
    "# trips_end_df['geoid']=trips_end_df[]\n",
    "trips_end_df = trips_end_df.rename(columns={'end_station_geoid': 'geoid'})\n",
    "trips_end_df.head()"
   ]
  },
  {
   "cell_type": "code",
   "execution_count": 23,
   "metadata": {},
   "outputs": [
    {
     "data": {
      "text/plain": [
       "382"
      ]
     },
     "execution_count": 23,
     "metadata": {},
     "output_type": "execute_result"
    }
   ],
   "source": [
    "len(trips_end_df)\n"
   ]
  },
  {
   "cell_type": "code",
   "execution_count": 24,
   "metadata": {},
   "outputs": [
    {
     "data": {
      "text/plain": [
       "382"
      ]
     },
     "execution_count": 24,
     "metadata": {},
     "output_type": "execute_result"
    }
   ],
   "source": [
    "trips_end_df['geoid'].nunique()"
   ]
  },
  {
   "cell_type": "markdown",
   "metadata": {},
   "source": [
    "Here we grouped the trips by the start station geoid and found the number of trips taken at each of the unique start stations in 2017. \n",
    "\n"
   ]
  },
  {
   "cell_type": "markdown",
   "metadata": {},
   "source": [
    "We will plot a histogram to get a better idea of how the trips are distributed by geoid."
   ]
  },
  {
   "cell_type": "code",
   "execution_count": 11,
   "metadata": {},
   "outputs": [
    {
     "data": {
      "image/png": "[encoded data removed]",
      "text/plain": [
       "<Figure size 432x288 with 1 Axes>"
      ]
     },
     "metadata": {
      "needs_background": "light"
     },
     "output_type": "display_data"
    }
   ],
   "source": [
    "plt.hist(trips_start_df['Number of Trips'], bins=100)\n",
    "plt.title(\" End Station Number of Trips \")\n",
    "plt.show()"
   ]
  },
  {
   "cell_type": "markdown",
   "metadata": {},
   "source": [
    "As you can see from the graph above, you can observe a very uneven distribution of start stations trips taken by geoid"
   ]
  },
  {
   "cell_type": "markdown",
   "metadata": {},
   "source": [
    "- How to compare how much start and end stations align with each other? Is the highest start station the highest end station?\n",
    "- Normalization by Population"
   ]
  },
  {
   "cell_type": "code",
   "execution_count": 12,
   "metadata": {},
   "outputs": [
    {
     "data": {
      "text/html": [
       "<div>\n",
       "<style scoped>\n",
       "    .dataframe tbody tr th:only-of-type {\n",
       "        vertical-align: middle;\n",
       "    }\n",
       "\n",
       "    .dataframe tbody tr th {\n",
       "        vertical-align: top;\n",
       "    }\n",
       "\n",
       "    .dataframe thead th {\n",
       "        text-align: right;\n",
       "    }\n",
       "</style>\n",
       "<table border=\"1\" class=\"dataframe\">\n",
       "  <thead>\n",
       "    <tr style=\"text-align: right;\">\n",
       "      <th></th>\n",
       "      <th>geoid</th>\n",
       "      <th>2017 median income</th>\n",
       "      <th>2017 median income margin of error</th>\n",
       "      <th>2017 race: total households</th>\n",
       "      <th>2017 race: total households margin of error</th>\n",
       "      <th>2017 race: White</th>\n",
       "      <th>2017 race: Black</th>\n",
       "      <th>2017 race: Asian</th>\n",
       "      <th>2017 race: Other</th>\n",
       "      <th>2017 race: 2 or more races</th>\n",
       "    </tr>\n",
       "  </thead>\n",
       "  <tbody>\n",
       "    <tr>\n",
       "      <th>0</th>\n",
       "      <td>36001000100</td>\n",
       "      <td>27250</td>\n",
       "      <td>10262</td>\n",
       "      <td>1939</td>\n",
       "      <td>260</td>\n",
       "      <td>502</td>\n",
       "      <td>1142</td>\n",
       "      <td>16</td>\n",
       "      <td>112</td>\n",
       "      <td>167</td>\n",
       "    </tr>\n",
       "    <tr>\n",
       "      <th>1</th>\n",
       "      <td>36001000200</td>\n",
       "      <td>24091</td>\n",
       "      <td>6623</td>\n",
       "      <td>4731</td>\n",
       "      <td>676</td>\n",
       "      <td>710</td>\n",
       "      <td>3474</td>\n",
       "      <td>104</td>\n",
       "      <td>32</td>\n",
       "      <td>411</td>\n",
       "    </tr>\n",
       "    <tr>\n",
       "      <th>2</th>\n",
       "      <td>36001000300</td>\n",
       "      <td>33454</td>\n",
       "      <td>15095</td>\n",
       "      <td>5558</td>\n",
       "      <td>646</td>\n",
       "      <td>2589</td>\n",
       "      <td>1539</td>\n",
       "      <td>559</td>\n",
       "      <td>291</td>\n",
       "      <td>580</td>\n",
       "    </tr>\n",
       "    <tr>\n",
       "      <th>3</th>\n",
       "      <td>36001000401</td>\n",
       "      <td>74255</td>\n",
       "      <td>7279</td>\n",
       "      <td>2459</td>\n",
       "      <td>266</td>\n",
       "      <td>2183</td>\n",
       "      <td>131</td>\n",
       "      <td>92</td>\n",
       "      <td>28</td>\n",
       "      <td>25</td>\n",
       "    </tr>\n",
       "    <tr>\n",
       "      <th>4</th>\n",
       "      <td>36001000403</td>\n",
       "      <td>70815</td>\n",
       "      <td>10428</td>\n",
       "      <td>4695</td>\n",
       "      <td>456</td>\n",
       "      <td>3256</td>\n",
       "      <td>714</td>\n",
       "      <td>416</td>\n",
       "      <td>79</td>\n",
       "      <td>230</td>\n",
       "    </tr>\n",
       "  </tbody>\n",
       "</table>\n",
       "</div>"
      ],
      "text/plain": [
       "         geoid  2017 median income  2017 median income margin of error  \\\n",
       "0  36001000100               27250                               10262   \n",
       "1  36001000200               24091                                6623   \n",
       "2  36001000300               33454                               15095   \n",
       "3  36001000401               74255                                7279   \n",
       "4  36001000403               70815                               10428   \n",
       "\n",
       "   2017 race: total households  2017 race: total households margin of error  \\\n",
       "0                         1939                                          260   \n",
       "1                         4731                                          676   \n",
       "2                         5558                                          646   \n",
       "3                         2459                                          266   \n",
       "4                         4695                                          456   \n",
       "\n",
       "   2017 race: White  2017 race: Black  2017 race: Asian  2017 race: Other  \\\n",
       "0               502              1142                16               112   \n",
       "1               710              3474               104                32   \n",
       "2              2589              1539               559               291   \n",
       "3              2183               131                92                28   \n",
       "4              3256               714               416                79   \n",
       "\n",
       "   2017 race: 2 or more races  \n",
       "0                         167  \n",
       "1                         411  \n",
       "2                         580  \n",
       "3                          25  \n",
       "4                         230  "
      ]
     },
     "execution_count": 12,
     "metadata": {},
     "output_type": "execute_result"
    }
   ],
   "source": [
    "ri.head()"
   ]
  },
  {
   "cell_type": "markdown",
   "metadata": {},
   "source": [
    "### 2. Group Stations by Geoid "
   ]
  },
  {
   "cell_type": "code",
   "execution_count": 8,
   "metadata": {},
   "outputs": [
    {
     "data": {
      "text/html": [
       "<div>\n",
       "<style scoped>\n",
       "    .dataframe tbody tr th:only-of-type {\n",
       "        vertical-align: middle;\n",
       "    }\n",
       "\n",
       "    .dataframe tbody tr th {\n",
       "        vertical-align: top;\n",
       "    }\n",
       "\n",
       "    .dataframe thead th {\n",
       "        text-align: right;\n",
       "    }\n",
       "</style>\n",
       "<table border=\"1\" class=\"dataframe\">\n",
       "  <thead>\n",
       "    <tr style=\"text-align: right;\">\n",
       "      <th></th>\n",
       "      <th>geoid</th>\n",
       "      <th>Number of Stations</th>\n",
       "    </tr>\n",
       "  </thead>\n",
       "  <tbody>\n",
       "    <tr>\n",
       "      <th>269</th>\n",
       "      <td>36061014300</td>\n",
       "      <td>14</td>\n",
       "    </tr>\n",
       "    <tr>\n",
       "      <th>24</th>\n",
       "      <td>36047005300</td>\n",
       "      <td>9</td>\n",
       "    </tr>\n",
       "    <tr>\n",
       "      <th>140</th>\n",
       "      <td>36061000700</td>\n",
       "      <td>7</td>\n",
       "    </tr>\n",
       "    <tr>\n",
       "      <th>344</th>\n",
       "      <td>36081001900</td>\n",
       "      <td>7</td>\n",
       "    </tr>\n",
       "    <tr>\n",
       "      <th>227</th>\n",
       "      <td>36061009900</td>\n",
       "      <td>6</td>\n",
       "    </tr>\n",
       "  </tbody>\n",
       "</table>\n",
       "</div>"
      ],
      "text/plain": [
       "           geoid  Number of Stations\n",
       "269  36061014300                  14\n",
       "24   36047005300                   9\n",
       "140  36061000700                   7\n",
       "344  36081001900                   7\n",
       "227  36061009900                   6"
      ]
     },
     "execution_count": 8,
     "metadata": {},
     "output_type": "execute_result"
    }
   ],
   "source": [
    "#group by geoid and count number of stations\n",
    "stations_geoid = stations.groupby(['geoid']).size().reset_index(name = 'Number of Stations')\n",
    "stations_geoid = stations_geoid.sort_values('Number of Stations', ascending=False)\n",
    "stations_geoid.head()"
   ]
  },
  {
   "cell_type": "code",
   "execution_count": 9,
   "metadata": {},
   "outputs": [
    {
     "data": {
      "text/html": [
       "<div>\n",
       "<style scoped>\n",
       "    .dataframe tbody tr th:only-of-type {\n",
       "        vertical-align: middle;\n",
       "    }\n",
       "\n",
       "    .dataframe tbody tr th {\n",
       "        vertical-align: top;\n",
       "    }\n",
       "\n",
       "    .dataframe thead th {\n",
       "        text-align: right;\n",
       "    }\n",
       "</style>\n",
       "<table border=\"1\" class=\"dataframe\">\n",
       "  <thead>\n",
       "    <tr style=\"text-align: right;\">\n",
       "      <th></th>\n",
       "      <th>geoid</th>\n",
       "      <th>Number of Stations</th>\n",
       "    </tr>\n",
       "  </thead>\n",
       "  <tbody>\n",
       "  </tbody>\n",
       "</table>\n",
       "</div>"
      ],
      "text/plain": [
       "Empty DataFrame\n",
       "Columns: [geoid, Number of Stations]\n",
       "Index: []"
      ]
     },
     "execution_count": 9,
     "metadata": {},
     "output_type": "execute_result"
    }
   ],
   "source": [
    "stations_geoid.loc[stations_geoid['geoid'] == 36047010000]"
   ]
  },
  {
   "cell_type": "code",
   "execution_count": 26,
   "metadata": {},
   "outputs": [
    {
     "data": {
      "text/plain": [
       "382"
      ]
     },
     "execution_count": 26,
     "metadata": {},
     "output_type": "execute_result"
    }
   ],
   "source": [
    "stations['geoid'].nunique()"
   ]
  },
  {
   "cell_type": "code",
   "execution_count": 27,
   "metadata": {},
   "outputs": [
    {
     "data": {
      "text/plain": [
       "382"
      ]
     },
     "execution_count": 27,
     "metadata": {},
     "output_type": "execute_result"
    }
   ],
   "source": [
    "stations_geoid['geoid'].nunique()"
   ]
  },
  {
   "cell_type": "code",
   "execution_count": 52,
   "metadata": {},
   "outputs": [
    {
     "data": {
      "text/plain": [
       "(array([266.,  61.,  30.,  21.,   2.,   0.,   1.,   0.,   0.,   1.]),\n",
       " array([ 1. ,  2.3,  3.6,  4.9,  6.2,  7.5,  8.8, 10.1, 11.4, 12.7, 14. ]),\n",
       " <BarContainer object of 10 artists>)"
      ]
     },
     "execution_count": 52,
     "metadata": {},
     "output_type": "execute_result"
    },
    {
     "data": {
      "image/png": "[encoded data removed]",
      "text/plain": [
       "<Figure size 432x288 with 1 Axes>"
      ]
     },
     "metadata": {
      "needs_background": "light"
     },
     "output_type": "display_data"
    }
   ],
   "source": [
    "plt.hist(stations_geoid['Number of Stations'], bins=10)"
   ]
  },
  {
   "cell_type": "markdown",
   "metadata": {},
   "source": [
    "Here we can see that there is a very uneven distribution of stations across geo ids. \n",
    "While some geoid's have 14 stations, a striking majority of geoids have 1 station."
   ]
  },
  {
   "cell_type": "code",
   "execution_count": 54,
   "metadata": {},
   "outputs": [
    {
     "data": {
      "text/plain": [
       "1     145\n",
       "2     121\n",
       "3      61\n",
       "4      30\n",
       "5      14\n",
       "6       7\n",
       "7       2\n",
       "14      1\n",
       "9       1\n",
       "Name: Number of Stations, dtype: int64"
      ]
     },
     "execution_count": 54,
     "metadata": {},
     "output_type": "execute_result"
    }
   ],
   "source": [
    "stations_geoid['Number of Stations'].value_counts()"
   ]
  },
  {
   "cell_type": "code",
   "execution_count": 29,
   "metadata": {},
   "outputs": [
    {
     "data": {
      "text/plain": [
       "375"
      ]
     },
     "execution_count": 29,
     "metadata": {},
     "output_type": "execute_result"
    }
   ],
   "source": [
    "#remove park geoids\n",
    "\n",
    "geoids_remove=['36061014300','36047017700','36061000500','36081009900','36061031703','36047001800','36081003700']\n",
    "\n",
    "stations_geoid = stations_geoid[~stations_geoid['geoid'].isin(geoids_remove)]\n",
    "len(stations_geoid)"
   ]
  },
  {
   "cell_type": "code",
   "execution_count": 30,
   "metadata": {},
   "outputs": [
    {
     "data": {
      "text/plain": [
       "Text(0, 0.5, 'Count')"
      ]
     },
     "execution_count": 30,
     "metadata": {},
     "output_type": "execute_result"
    },
    {
     "data": {
      "image/png": "[encoded data removed]",
      "text/plain": [
       "<Figure size 432x288 with 1 Axes>"
      ]
     },
     "metadata": {
      "needs_background": "light"
     },
     "output_type": "display_data"
    }
   ],
   "source": [
    "plt.hist(stations_geoid['Number of Stations'], bins=10)\n",
    "plt.title('All Stations by Geoids (excluding parks)')\n",
    "plt.xlabel('Number of Stations')\n",
    "plt.ylabel('Count')"
   ]
  },
  {
   "cell_type": "code",
   "execution_count": 31,
   "metadata": {},
   "outputs": [
    {
     "data": {
      "text/plain": [
       "array([9, 7, 6, 5, 4, 3, 2, 1])"
      ]
     },
     "execution_count": 31,
     "metadata": {},
     "output_type": "execute_result"
    }
   ],
   "source": [
    "stations_geoid['Number of Stations'].unique()"
   ]
  },
  {
   "cell_type": "code",
   "execution_count": 32,
   "metadata": {},
   "outputs": [
    {
     "data": {
      "text/plain": [
       "1    144\n",
       "2    118\n",
       "3     61\n",
       "4     29\n",
       "5     13\n",
       "6      7\n",
       "7      2\n",
       "9      1\n",
       "Name: Number of Stations, dtype: int64"
      ]
     },
     "execution_count": 32,
     "metadata": {},
     "output_type": "execute_result"
    }
   ],
   "source": [
    "stations_geoid['Number of Stations'].value_counts()"
   ]
  },
  {
   "cell_type": "markdown",
   "metadata": {},
   "source": [
    "Here we can see that there is a very uneven distribution of stations across geo ids. \n",
    "While some geoid's have 9 stations, a striking majority of geoids have 1 station."
   ]
  },
  {
   "cell_type": "markdown",
   "metadata": {},
   "source": [
    "Here, we can confirm and get a nummerical value of how the number of stations differ by geoid. \n",
    "A majority of the geoids have just 1 or 2 stations. \n",
    "However a few sect geoids hace 7, 9  stations.\n",
    "\n",
    "Overall, we can see a very uneven distribution of stations per geoid"
   ]
  },
  {
   "cell_type": "markdown",
   "metadata": {},
   "source": [
    "### 3. Race by Geoid \n"
   ]
  },
  {
   "cell_type": "markdown",
   "metadata": {},
   "source": [
    "## 2. Relationship between Trips and Stations"
   ]
  },
  {
   "cell_type": "markdown",
   "metadata": {},
   "source": [
    "### Add number of stations at each geoid "
   ]
  },
  {
   "cell_type": "markdown",
   "metadata": {},
   "source": [
    "#### Start Station with Parks"
   ]
  },
  {
   "cell_type": "code",
   "execution_count": 10,
   "metadata": {},
   "outputs": [
    {
     "data": {
      "text/html": [
       "<div>\n",
       "<style scoped>\n",
       "    .dataframe tbody tr th:only-of-type {\n",
       "        vertical-align: middle;\n",
       "    }\n",
       "\n",
       "    .dataframe tbody tr th {\n",
       "        vertical-align: top;\n",
       "    }\n",
       "\n",
       "    .dataframe thead th {\n",
       "        text-align: right;\n",
       "    }\n",
       "</style>\n",
       "<table border=\"1\" class=\"dataframe\">\n",
       "  <thead>\n",
       "    <tr style=\"text-align: right;\">\n",
       "      <th></th>\n",
       "      <th>geoid</th>\n",
       "      <th>Number of Stations</th>\n",
       "      <th>Number of Trips</th>\n",
       "    </tr>\n",
       "  </thead>\n",
       "  <tbody>\n",
       "    <tr>\n",
       "      <th>0</th>\n",
       "      <td>36061014300</td>\n",
       "      <td>14</td>\n",
       "      <td>257733</td>\n",
       "    </tr>\n",
       "    <tr>\n",
       "      <th>1</th>\n",
       "      <td>36047005300</td>\n",
       "      <td>9</td>\n",
       "      <td>24112</td>\n",
       "    </tr>\n",
       "    <tr>\n",
       "      <th>2</th>\n",
       "      <td>36061000700</td>\n",
       "      <td>7</td>\n",
       "      <td>161347</td>\n",
       "    </tr>\n",
       "    <tr>\n",
       "      <th>3</th>\n",
       "      <td>36081001900</td>\n",
       "      <td>7</td>\n",
       "      <td>16798</td>\n",
       "    </tr>\n",
       "    <tr>\n",
       "      <th>4</th>\n",
       "      <td>36061009900</td>\n",
       "      <td>6</td>\n",
       "      <td>230264</td>\n",
       "    </tr>\n",
       "  </tbody>\n",
       "</table>\n",
       "</div>"
      ],
      "text/plain": [
       "         geoid  Number of Stations  Number of Trips\n",
       "0  36061014300                  14           257733\n",
       "1  36047005300                   9            24112\n",
       "2  36061000700                   7           161347\n",
       "3  36081001900                   7            16798\n",
       "4  36061009900                   6           230264"
      ]
     },
     "execution_count": 10,
     "metadata": {},
     "output_type": "execute_result"
    }
   ],
   "source": [
    "## Number of Stations at each geoid\n",
    "trips_start_df= pd.merge(stations_geoid,trips_start_df,  on=['geoid'], how='inner')\n",
    "trips_start_df.head()"
   ]
  },
  {
   "cell_type": "markdown",
   "metadata": {},
   "source": [
    "#### Start Station without Parks"
   ]
  },
  {
   "cell_type": "code",
   "execution_count": 36,
   "metadata": {},
   "outputs": [
    {
     "data": {
      "text/html": [
       "<div>\n",
       "<style scoped>\n",
       "    .dataframe tbody tr th:only-of-type {\n",
       "        vertical-align: middle;\n",
       "    }\n",
       "\n",
       "    .dataframe tbody tr th {\n",
       "        vertical-align: top;\n",
       "    }\n",
       "\n",
       "    .dataframe thead th {\n",
       "        text-align: right;\n",
       "    }\n",
       "</style>\n",
       "<table border=\"1\" class=\"dataframe\">\n",
       "  <thead>\n",
       "    <tr style=\"text-align: right;\">\n",
       "      <th></th>\n",
       "      <th>geoid</th>\n",
       "      <th>Number of Stations</th>\n",
       "      <th>Number of Trips</th>\n",
       "    </tr>\n",
       "  </thead>\n",
       "  <tbody>\n",
       "    <tr>\n",
       "      <th>0</th>\n",
       "      <td>36047005300</td>\n",
       "      <td>9</td>\n",
       "      <td>24112</td>\n",
       "    </tr>\n",
       "    <tr>\n",
       "      <th>1</th>\n",
       "      <td>36061000700</td>\n",
       "      <td>7</td>\n",
       "      <td>161347</td>\n",
       "    </tr>\n",
       "    <tr>\n",
       "      <th>2</th>\n",
       "      <td>36081001900</td>\n",
       "      <td>7</td>\n",
       "      <td>16798</td>\n",
       "    </tr>\n",
       "    <tr>\n",
       "      <th>3</th>\n",
       "      <td>36061009900</td>\n",
       "      <td>6</td>\n",
       "      <td>230264</td>\n",
       "    </tr>\n",
       "    <tr>\n",
       "      <th>4</th>\n",
       "      <td>36061008300</td>\n",
       "      <td>6</td>\n",
       "      <td>181099</td>\n",
       "    </tr>\n",
       "  </tbody>\n",
       "</table>\n",
       "</div>"
      ],
      "text/plain": [
       "         geoid  Number of Stations  Number of Trips\n",
       "0  36047005300                   9            24112\n",
       "1  36061000700                   7           161347\n",
       "2  36081001900                   7            16798\n",
       "3  36061009900                   6           230264\n",
       "4  36061008300                   6           181099"
      ]
     },
     "execution_count": 36,
     "metadata": {},
     "output_type": "execute_result"
    }
   ],
   "source": [
    "## Number of Stations at each geoid\n",
    "trips_start_df= pd.merge(stations_geoid,trips_start_df,  on=['geoid'], how='inner')\n",
    "trips_start_df.head()"
   ]
  },
  {
   "cell_type": "markdown",
   "metadata": {},
   "source": [
    "#### End Station"
   ]
  },
  {
   "cell_type": "code",
   "execution_count": 14,
   "metadata": {},
   "outputs": [
    {
     "data": {
      "text/html": [
       "<div>\n",
       "<style scoped>\n",
       "    .dataframe tbody tr th:only-of-type {\n",
       "        vertical-align: middle;\n",
       "    }\n",
       "\n",
       "    .dataframe tbody tr th {\n",
       "        vertical-align: top;\n",
       "    }\n",
       "\n",
       "    .dataframe thead th {\n",
       "        text-align: right;\n",
       "    }\n",
       "</style>\n",
       "<table border=\"1\" class=\"dataframe\">\n",
       "  <thead>\n",
       "    <tr style=\"text-align: right;\">\n",
       "      <th></th>\n",
       "      <th>geoid</th>\n",
       "      <th>Number of Stations</th>\n",
       "      <th>Number of Trips</th>\n",
       "    </tr>\n",
       "  </thead>\n",
       "  <tbody>\n",
       "    <tr>\n",
       "      <th>0</th>\n",
       "      <td>36061014300</td>\n",
       "      <td>14</td>\n",
       "      <td>236408</td>\n",
       "    </tr>\n",
       "    <tr>\n",
       "      <th>1</th>\n",
       "      <td>36047005300</td>\n",
       "      <td>9</td>\n",
       "      <td>26498</td>\n",
       "    </tr>\n",
       "    <tr>\n",
       "      <th>2</th>\n",
       "      <td>36061000700</td>\n",
       "      <td>7</td>\n",
       "      <td>167929</td>\n",
       "    </tr>\n",
       "    <tr>\n",
       "      <th>3</th>\n",
       "      <td>36081001900</td>\n",
       "      <td>7</td>\n",
       "      <td>17109</td>\n",
       "    </tr>\n",
       "    <tr>\n",
       "      <th>4</th>\n",
       "      <td>36061009900</td>\n",
       "      <td>6</td>\n",
       "      <td>236628</td>\n",
       "    </tr>\n",
       "  </tbody>\n",
       "</table>\n",
       "</div>"
      ],
      "text/plain": [
       "         geoid  Number of Stations  Number of Trips\n",
       "0  36061014300                  14           236408\n",
       "1  36047005300                   9            26498\n",
       "2  36061000700                   7           167929\n",
       "3  36081001900                   7            17109\n",
       "4  36061009900                   6           236628"
      ]
     },
     "execution_count": 14,
     "metadata": {},
     "output_type": "execute_result"
    }
   ],
   "source": [
    "## Number of Stations at each geoid\n",
    "trips_end_df= pd.merge(stations_geoid,trips_end_df,  on=['geoid'], how='inner')\n",
    "trips_end_df.head()"
   ]
  },
  {
   "cell_type": "markdown",
   "metadata": {},
   "source": [
    "#### End Station without Parks"
   ]
  },
  {
   "cell_type": "code",
   "execution_count": 39,
   "metadata": {},
   "outputs": [
    {
     "data": {
      "text/html": [
       "<div>\n",
       "<style scoped>\n",
       "    .dataframe tbody tr th:only-of-type {\n",
       "        vertical-align: middle;\n",
       "    }\n",
       "\n",
       "    .dataframe tbody tr th {\n",
       "        vertical-align: top;\n",
       "    }\n",
       "\n",
       "    .dataframe thead th {\n",
       "        text-align: right;\n",
       "    }\n",
       "</style>\n",
       "<table border=\"1\" class=\"dataframe\">\n",
       "  <thead>\n",
       "    <tr style=\"text-align: right;\">\n",
       "      <th></th>\n",
       "      <th>geoid</th>\n",
       "      <th>Number of Stations</th>\n",
       "      <th>Number of Trips</th>\n",
       "    </tr>\n",
       "  </thead>\n",
       "  <tbody>\n",
       "    <tr>\n",
       "      <th>0</th>\n",
       "      <td>36047005300</td>\n",
       "      <td>9</td>\n",
       "      <td>26498</td>\n",
       "    </tr>\n",
       "    <tr>\n",
       "      <th>1</th>\n",
       "      <td>36061000700</td>\n",
       "      <td>7</td>\n",
       "      <td>167929</td>\n",
       "    </tr>\n",
       "    <tr>\n",
       "      <th>2</th>\n",
       "      <td>36081001900</td>\n",
       "      <td>7</td>\n",
       "      <td>17109</td>\n",
       "    </tr>\n",
       "    <tr>\n",
       "      <th>3</th>\n",
       "      <td>36061009900</td>\n",
       "      <td>6</td>\n",
       "      <td>236628</td>\n",
       "    </tr>\n",
       "    <tr>\n",
       "      <th>4</th>\n",
       "      <td>36061008300</td>\n",
       "      <td>6</td>\n",
       "      <td>183029</td>\n",
       "    </tr>\n",
       "  </tbody>\n",
       "</table>\n",
       "</div>"
      ],
      "text/plain": [
       "         geoid  Number of Stations  Number of Trips\n",
       "0  36047005300                   9            26498\n",
       "1  36061000700                   7           167929\n",
       "2  36081001900                   7            17109\n",
       "3  36061009900                   6           236628\n",
       "4  36061008300                   6           183029"
      ]
     },
     "execution_count": 39,
     "metadata": {},
     "output_type": "execute_result"
    }
   ],
   "source": [
    "## Number of Stations at each geoid\n",
    "trips_end_df= pd.merge(stations_geoid,trips_end_df,  on=['geoid'], how='inner')\n",
    "trips_end_df.head()"
   ]
  },
  {
   "cell_type": "markdown",
   "metadata": {},
   "source": [
    "## Plot number of stations by number of trips"
   ]
  },
  {
   "cell_type": "markdown",
   "metadata": {},
   "source": [
    "### Start Stations"
   ]
  },
  {
   "cell_type": "code",
   "execution_count": 15,
   "metadata": {},
   "outputs": [
    {
     "data": {
      "image/png": "[encoded data removed]",
      "text/plain": [
       "<Figure size 360x360 with 1 Axes>"
      ]
     },
     "metadata": {
      "needs_background": "light"
     },
     "output_type": "display_data"
    }
   ],
   "source": [
    "## Your solution here\n",
    "sns.relplot(x=\"Number of Stations\", y=\"Number of Trips\", data=trips_start_df)\n",
    "plt.xlabel(\"Number of Stations\")\n",
    "plt.ylabel(\"Number of Trips\")\n",
    "plt.title(\"Number of Stations vs Number of Trips Scatterplot\")\n",
    "plt.show()"
   ]
  },
  {
   "cell_type": "code",
   "execution_count": 36,
   "metadata": {},
   "outputs": [
    {
     "data": {
      "image/png": "[encoded data removed]",
      "text/plain": [
       "<Figure size 432x288 with 1 Axes>"
      ]
     },
     "metadata": {
      "needs_background": "light"
     },
     "output_type": "display_data"
    }
   ],
   "source": [
    "sns.lineplot(x=\"Number of Stations\", y=\"Number of Trips\", data=trips_start_df)\n",
    "plt.xlabel(\"Number of Stations\")\n",
    "plt.ylabel(\"Number of Trips\")\n",
    "plt.title(\"Number of Stations vs Number of Trips Scatterplot\")\n",
    "plt.show()"
   ]
  },
  {
   "cell_type": "markdown",
   "metadata": {},
   "source": [
    "### Start Stations without Parks"
   ]
  },
  {
   "cell_type": "code",
   "execution_count": 40,
   "metadata": {},
   "outputs": [
    {
     "data": {
      "image/png": "[encoded data removed]",
      "text/plain": [
       "<Figure size 360x360 with 1 Axes>"
      ]
     },
     "metadata": {
      "needs_background": "light"
     },
     "output_type": "display_data"
    }
   ],
   "source": [
    "## Your solution here\n",
    "sns.relplot(x=\"Number of Stations\", y=\"Number of Trips\", data=trips_start_df)\n",
    "plt.xlabel(\"Number of Stations\")\n",
    "plt.ylabel(\"Number of Trips\")\n",
    "plt.title(\"Number of Stations vs Number of Trips Scatterplot\")\n",
    "plt.show()\n"
   ]
  },
  {
   "cell_type": "code",
   "execution_count": 41,
   "metadata": {},
   "outputs": [
    {
     "data": {
      "image/png": "[encoded data removed]",
      "text/plain": [
       "<Figure size 432x288 with 1 Axes>"
      ]
     },
     "metadata": {
      "needs_background": "light"
     },
     "output_type": "display_data"
    }
   ],
   "source": [
    "sns.lineplot(x=\"Number of Stations\", y=\"Number of Trips\", data=trips_start_df)\n",
    "plt.xlabel(\"Number of Stations\")\n",
    "plt.ylabel(\"Number of Trips\")\n",
    "plt.title(\"Number of Stations vs Number of Trips Scatterplot\")\n",
    "plt.show()"
   ]
  },
  {
   "cell_type": "markdown",
   "metadata": {},
   "source": [
    "### End Stations with parks"
   ]
  },
  {
   "cell_type": "code",
   "execution_count": 37,
   "metadata": {},
   "outputs": [
    {
     "data": {
      "image/png": "[encoded data removed]",
      "text/plain": [
       "<Figure size 360x360 with 1 Axes>"
      ]
     },
     "metadata": {
      "needs_background": "light"
     },
     "output_type": "display_data"
    }
   ],
   "source": [
    "## Your solution here\n",
    "sns.relplot(x=\"Number of Stations\", y=\"Number of Trips\", data=trips_end_df)\n",
    "plt.xlabel(\"Number of Stations\")\n",
    "plt.ylabel(\"Number of Trips\")\n",
    "plt.title(\"Number of Stations vs Number of Trips Scatterplot\")\n",
    "plt.show()"
   ]
  },
  {
   "cell_type": "code",
   "execution_count": 40,
   "metadata": {},
   "outputs": [
    {
     "data": {
      "text/plain": [
       "<seaborn.axisgrid.FacetGrid at 0x7fe611835c70>"
      ]
     },
     "execution_count": 40,
     "metadata": {},
     "output_type": "execute_result"
    },
    {
     "data": {
      "image/png": "[encoded data removed]",
      "text/plain": [
       "<Figure size 360x360 with 1 Axes>"
      ]
     },
     "metadata": {
      "needs_background": "light"
     },
     "output_type": "display_data"
    }
   ],
   "source": [
    "sns.lmplot(x=\"Number of Stations\", y=\"Number of Trips\",  data=trips_end_df)"
   ]
  },
  {
   "cell_type": "code",
   "execution_count": 38,
   "metadata": {},
   "outputs": [
    {
     "data": {
      "image/png": "[encoded data removed]",
      "text/plain": [
       "<Figure size 432x288 with 1 Axes>"
      ]
     },
     "metadata": {
      "needs_background": "light"
     },
     "output_type": "display_data"
    }
   ],
   "source": [
    "sns.lineplot(x=\"Number of Stations\", y=\"Number of Trips\", data=trips_end_df)\n",
    "plt.xlabel(\"Number of Stations\")\n",
    "plt.ylabel(\"Number of Trips\")\n",
    "plt.title(\"Number of Stations vs Number of Trips Scatterplot\")\n",
    "plt.show()"
   ]
  },
  {
   "cell_type": "code",
   "execution_count": 43,
   "metadata": {},
   "outputs": [
    {
     "data": {
      "image/png": "[encoded data removed]",
      "text/plain": [
       "<Figure size 432x288 with 1 Axes>"
      ]
     },
     "metadata": {
      "needs_background": "light"
     },
     "output_type": "display_data"
    }
   ],
   "source": [
    "sns.scatterplot(x=\"Number of Trips\", y=\"Number of Stations\", data=trips_end_df)\n",
    "plt.xlabel(\"Number of Trips\")\n",
    "plt.ylabel(\"Number of Stations\")\n",
    "plt.title(\"Number of Stations vs Number of Trips Scatterplot\")\n",
    "plt.show()"
   ]
  },
  {
   "cell_type": "markdown",
   "metadata": {},
   "source": [
    "### End Stations without parks"
   ]
  },
  {
   "cell_type": "code",
   "execution_count": 42,
   "metadata": {},
   "outputs": [
    {
     "data": {
      "image/png": "[encoded data removed]",
      "text/plain": [
       "<Figure size 360x360 with 1 Axes>"
      ]
     },
     "metadata": {
      "needs_background": "light"
     },
     "output_type": "display_data"
    }
   ],
   "source": [
    "## Your solution here\n",
    "sns.relplot(x=\"Number of Stations\", y=\"Number of Trips\", data=trips_end_df)\n",
    "plt.xlabel(\"Number of Stations\")\n",
    "plt.ylabel(\"Number of Trips\")\n",
    "plt.title(\"Number of Stations vs Number of Trips Scatterplot\")\n",
    "plt.show()"
   ]
  },
  {
   "cell_type": "code",
   "execution_count": 43,
   "metadata": {},
   "outputs": [
    {
     "data": {
      "text/plain": [
       "<seaborn.axisgrid.FacetGrid at 0x7ff6f323aee0>"
      ]
     },
     "execution_count": 43,
     "metadata": {},
     "output_type": "execute_result"
    },
    {
     "data": {
      "image/png": "[encoded data removed]",
      "text/plain": [
       "<Figure size 360x360 with 1 Axes>"
      ]
     },
     "metadata": {
      "needs_background": "light"
     },
     "output_type": "display_data"
    }
   ],
   "source": [
    "sns.lmplot(x=\"Number of Stations\", y=\"Number of Trips\",  data=trips_end_df)"
   ]
  },
  {
   "cell_type": "code",
   "execution_count": 44,
   "metadata": {},
   "outputs": [
    {
     "data": {
      "image/png": "[encoded data removed]",
      "text/plain": [
       "<Figure size 432x288 with 1 Axes>"
      ]
     },
     "metadata": {
      "needs_background": "light"
     },
     "output_type": "display_data"
    }
   ],
   "source": [
    "sns.lineplot(x=\"Number of Stations\", y=\"Number of Trips\", data=trips_end_df)\n",
    "plt.xlabel(\"Number of Stations\")\n",
    "plt.ylabel(\"Number of Trips\")\n",
    "plt.title(\"Number of Stations vs Number of Trips Scatterplot\")\n",
    "plt.show()"
   ]
  },
  {
   "cell_type": "markdown",
   "metadata": {},
   "source": [
    "From the two graphs of the relationship between number of stations and the number of trips, we can't conclude that more stations will necesscarily correlate with more trips.\n",
    "\n",
    "\n",
    "- not a linear relationship... \n",
    "- what can we use in this case? \n",
    "\n",
    "- no trips between 10-13\n",
    "- why are there 9 stations in a place with almost no trips at all...? \n",
    "- there is a very disproportionate place ment of the number of trips.\n",
    "- what could be the reason for this? \n"
   ]
  },
  {
   "cell_type": "markdown",
   "metadata": {},
   "source": [
    "Overall, there doesn't seem to be a pattern with Trips and Stations.\n",
    "We should look further into each of the geoid's to see what characteristics each of the geoid's have.\n",
    "Though there is some sort of bell shaped curve, we can't conclude that stations are good predictors of the number of trips.\n",
    "Just because there are more trips doesn't mean that there are more stations in that area. Also just becuase there are more stations that doesn't mean that there are more trips in that area.\n",
    "Like we researched in different articles, what could be influencing the number of trips in a geodistrict area is not the amount of stations but other factors such as race and income differences across different geoids. \n",
    "People in less wealthier areas may be less likely to use public bikes due to concerns such as prices, safety , work commuting areas ...etc. \n",
    "\n",
    "Could there be sth else that is influencing number of trips? What characteristics does a geoid district have and can a certain race/income distribution of a geoid be a good predictor of the number of trips taken from that place?\n",
    "\n",
    "**Trips**\n",
    "-  Across different number of trips, is there a difference in race/income distribution?\n",
    "-  Is there a difference between geoids with more trips and geoids with less trips? \n",
    "- Can we observe a pattern btw trips and race/income by geoid?\n",
    "\n",
    "**Stations**\n",
    "- Across different number of stations, Is there a difference in race/income distribution?\n",
    "- Within a group of geoid with a certain num of stations (ex geoid with 1 station) what is the race/income distributionlike? What is the population like? "
   ]
  },
  {
   "cell_type": "code",
   "execution_count": null,
   "metadata": {},
   "outputs": [],
   "source": [
    "trips + race/ income"
   ]
  },
  {
   "cell_type": "markdown",
   "metadata": {},
   "source": [
    "## Evaluation of Significance "
   ]
  },
  {
   "cell_type": "markdown",
   "metadata": {},
   "source": [
    "## Interpretation and Conclusion "
   ]
  },
  {
   "cell_type": "markdown",
   "metadata": {},
   "source": [
    "## Limitations"
   ]
  },
  {
   "cell_type": "markdown",
   "metadata": {},
   "source": [
    "## Source Code "
   ]
  },
  {
   "cell_type": "markdown",
   "metadata": {},
   "source": [
    "## Acknowledgements"
   ]
  },
  {
   "cell_type": "markdown",
   "metadata": {},
   "source": [
    "## Questions for Reviewers"
   ]
  },
  {
   "cell_type": "code",
   "execution_count": null,
   "metadata": {},
   "outputs": [],
   "source": []
  }
 ],
 "metadata": {
  "kernelspec": {
   "display_name": "Python 3",
   "language": "python",
   "name": "python3"
  },
  "language_info": {
   "codemirror_mode": {
    "name": "ipython",
    "version": 3
   },
   "file_extension": ".py",
   "mimetype": "text/x-python",
   "name": "python",
   "nbconvert_exporter": "python",
   "pygments_lexer": "ipython3",
   "version": "3.8.5"
  }
 },
 "nbformat": 4,
 "nbformat_minor": 4
}
