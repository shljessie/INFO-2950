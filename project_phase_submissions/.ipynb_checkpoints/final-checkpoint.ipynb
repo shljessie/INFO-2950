{
 "cells": [
  {
   "cell_type": "markdown",
   "metadata": {},
   "source": [
    "# Citibike Project\n",
    "\n",
    "\n",
    "This project aims to answer the question **How is citibike representing NYC demographics? (in 2017)**. \n",
    "\n",
    "#### Team Members \n",
    "- Seonghee Lee (sl994) \n",
    "- Nicholas Rahardja (nmr73)\n",
    "- Chelsea Choi (cc2583)\n",
    "\n",
    "#### Team Github\n",
    "- https://github.com/shljessie/citibike-nyc\n",
    "\n",
    "#### Team Raw Data Google Drive \n",
    "- https://drive.google.com/drive/folders/197_d1BwPHXmVuyKA6I7UEyEw4Nqo8dAk \n",
    "\n",
    "#### Team Final Data Google Drive \n",
    "- https://drive.google.com/drive/folders/1glgD5ly1ABej2GDXzc-iUMjpu4HkItwa?usp=sharing\n",
    "<br/> \n",
    "\n",
    "_______________"
   ]
  },
  {
   "cell_type": "markdown",
   "metadata": {},
   "source": [
    "\n",
    "## Contents of this Notebook\n",
    "\n",
    "1. Introduction\n",
    "2. Data Description \n",
    "3. Pre Registration Statement \n",
    "4. Data Analysis \n",
    "5. Evaluation of Significance \n",
    "6. Interpretation and Conclusion\n",
    "7. Limitations \n",
    "8. Source Code\n",
    "9. Acknowledgement \n",
    "10. Appendix \n",
    "<br/> \n",
    "_______________"
   ]
  },
  {
   "cell_type": "markdown",
   "metadata": {},
   "source": [
    "## 1) Introduction\n",
    "\n",
    "1. Context of Work\n",
    "2. Research Question\n",
    "3. Main Findings\n",
    "4. Summary of Results"
   ]
  },
  {
   "cell_type": "markdown",
   "metadata": {},
   "source": [
    "\n",
    "#### 1. Context of Work\n",
    "\n",
    "Bike Sharing comes with many benefits such as providing free or affordable access to bicycles for short-distance trips. By doing so in an urban area, this reduces congestion, noise, and air pollution. \n",
    "\n",
    "However **whether or not these bike sharing systems are truly accessible for all is questionable.** Since the accessibility of these bike sharing systems depend heavily on where the stations are located, it is very likely that where you live becomes the deciding factor in whether or not you will be able to use these bikes. In addition to this, other factors such as the condition of roads and price of usage may be factors that prohibit people from actively using citibikes.\n",
    "\n",
    "In coming up with our research question, we looked at many research papers on bike sharing system equity. \n",
    "For example, a [study done by Portland State University](https://trec.pdx.edu/research/project/884) suggests that significant portions of the population are underrepresented among bike share users, including people of color, along with lower-income, female, older adults and less-educated groups. An [article in 2017](https://usa.streetsblog.org/2017/07/05/whats-keeping-people-from-using-bike-share-new-study-breaks-it-down-by-race-and-income/) finds that this may be due to the fact that these low-income communities and people of color view traffic risk, high prices, and the potential for crime and harassment as the biggest barriers to bicycling and using bike-share in their neighborhoods. There has also been [data visualization research at MIT](https://aberke.github.io/income-race-bikes/) about how bikes are being distributed in NYC throughout the years in accordance to race&income.\n",
    "\n",
    "In this project, we are looking closer into how these findings on bike sharing this applies to New York City. We have chosen to look at citibike. In this project, **we look into how citibike stations are distributed in NYC** and how that relates to the following factors: 1) race&income and  2) citibike usage. Are there more stations in areas of higher usage regardless of race and income? Does race and income seem to have an unignorable correlation with how citibike stations are being distributed? How much of these factors play into the distribution of citibike? How might citibike station distribution be improved? These are the questions we will ask and attempt to answer throughout this project.\n",
    " \n",
    "Through gaining insight on how citibike stations are distributed in NYC, we will attempt to gain insight into what NYC can do to improve the distribution of citibike to reflect the race/income and usage demographics. \n",
    "\n",
    "#### 2. Research Question\n",
    "\n",
    "How is citibike representing NYC demographics? (in 2017).\n",
    "\n",
    "Here **NYC demographics** will refer to Race and Income of NYC and the usages of citibike trips.\n",
    "\n",
    "On the other hand, **citibike representation** will refer to the the distribution of stations and distribution of usage.\n",
    "\n",
    "#### 3. Project Design + Limitations \n",
    "\n",
    "We are specificially looking at **NYC citibike trip data in 2017 as a sample** of the representation of NYC bike stations around New York. We chose New York City's citibike system since New York City is an area where there are widely varying levels of income. \n",
    "We chose 2017 for two reasons,    1) NYC's race and income data was available for the years 2013 -2018 and 2) 2017 was a year when many new stations of citibike where added to represent its overall usage.\n",
    "We decided that 2017 would be a fair representation of how citibike stations were distributed throughout NYC.\n",
    "\n",
    "We chose geoid as our standard for breaking up NYC into different geographical areas, since a geoid is the unique indentifier for a census tract, and a census tract is the smallest geographic region which the US goverment collects race and income data on during its annual Census. A census tract is roughly equivealnt to a neighborhood, and they generally encompass a population between 2500 to 8000 people. \n",
    "<a href=\"https://popfactfinder.planning.nyc.gov/#11.77/40.7438/-73.99\">This link </a> has more information on geoids and the visual size of them on a map.\n",
    "\n",
    "#### 4. Main Findings\n",
    "We found that as of 2017, Citibike has primarily placed bike stations in areas that are predominantly white and wealthy. In doing so, Citibike has neglected to account for the needs of predominantly asian and black neighborhoods in NYC.\n",
    "\n",
    "#### 5. Summary of Results\n",
    "- We found that census tracts with a high number of stations actually had a lower number of trips. \n",
    "- We found that white and high income areas had a high number of stations\n",
    "- We found that white areas have a high number of stations to meet demand\n",
    "- We found that asian and black neighborhoods do not have enough stations to meet their current demand.\n",
    "<br/> \n",
    "\n",
    "_______________"
   ]
  },
  {
   "cell_type": "code",
   "execution_count": 2,
   "metadata": {},
   "outputs": [],
   "source": [
    "import pandas as pd \n",
    "import numpy as np \n",
    "import seaborn as sns \n",
    "import matplotlib.pyplot as plt \n",
    "import datetime as dt\n",
    "from sklearn.linear_model import LinearRegression\n",
    "from sklearn.linear_model import LogisticRegression"
   ]
  },
  {
   "cell_type": "markdown",
   "metadata": {},
   "source": [
    "## 2) Data Description \n",
    "\n",
    "For this project we used 3 different data sets. \n",
    "1. Citibike Trip Data\n",
    "2. Citibike Station Data\n",
    "3. NYC Race and Income Data\n",
    "\n",
    "The data cleaning process of these data are <a href=\"https://github.com/shljessie/citibike-nyc/tree/master/data_cleaning\">linked here</a>"
   ]
  },
  {
   "cell_type": "markdown",
   "metadata": {},
   "source": [
    "### Dataset 1: Citibike Trip Data"
   ]
  },
  {
   "cell_type": "code",
   "execution_count": 3,
   "metadata": {},
   "outputs": [
    {
     "name": "stdout",
     "output_type": "stream",
     "text": [
      "Number of Rows: 14049057\n",
      "Number of Columns: 9\n"
     ]
    },
    {
     "data": {
      "text/html": [
       "<div>\n",
       "<style scoped>\n",
       "    .dataframe tbody tr th:only-of-type {\n",
       "        vertical-align: middle;\n",
       "    }\n",
       "\n",
       "    .dataframe tbody tr th {\n",
       "        vertical-align: top;\n",
       "    }\n",
       "\n",
       "    .dataframe thead th {\n",
       "        text-align: right;\n",
       "    }\n",
       "</style>\n",
       "<table border=\"1\" class=\"dataframe\">\n",
       "  <thead>\n",
       "    <tr style=\"text-align: right;\">\n",
       "      <th></th>\n",
       "      <th>start_time</th>\n",
       "      <th>stop_time</th>\n",
       "      <th>start_station_name</th>\n",
       "      <th>end_station_name</th>\n",
       "      <th>birth_year</th>\n",
       "      <th>gender</th>\n",
       "      <th>start_station_geoid</th>\n",
       "      <th>end_station_geoid</th>\n",
       "      <th>trip_minutes</th>\n",
       "    </tr>\n",
       "  </thead>\n",
       "  <tbody>\n",
       "    <tr>\n",
       "      <th>0</th>\n",
       "      <td>2017-01-01 00:00:21</td>\n",
       "      <td>2017-01-01 00:11:41</td>\n",
       "      <td>W 82 St &amp; Central Park West</td>\n",
       "      <td>Central Park West &amp; W 72 St</td>\n",
       "      <td>1965.0</td>\n",
       "      <td>2</td>\n",
       "      <td>3.606102e+10</td>\n",
       "      <td>3.606101e+10</td>\n",
       "      <td>11</td>\n",
       "    </tr>\n",
       "    <tr>\n",
       "      <th>1</th>\n",
       "      <td>2017-01-01 00:00:45</td>\n",
       "      <td>2017-01-01 00:22:08</td>\n",
       "      <td>Cooper Square &amp; E 7 St</td>\n",
       "      <td>Broadway &amp; W 32 St</td>\n",
       "      <td>1987.0</td>\n",
       "      <td>2</td>\n",
       "      <td>3.606100e+10</td>\n",
       "      <td>3.606101e+10</td>\n",
       "      <td>21</td>\n",
       "    </tr>\n",
       "    <tr>\n",
       "      <th>2</th>\n",
       "      <td>2017-01-01 00:05:00</td>\n",
       "      <td>2017-01-01 00:14:20</td>\n",
       "      <td>Broadway &amp; W 60 St</td>\n",
       "      <td>9 Ave &amp; W 45 St</td>\n",
       "      <td>1973.0</td>\n",
       "      <td>1</td>\n",
       "      <td>3.606101e+10</td>\n",
       "      <td>3.606101e+10</td>\n",
       "      <td>9</td>\n",
       "    </tr>\n",
       "    <tr>\n",
       "      <th>3</th>\n",
       "      <td>2017-01-01 00:05:37</td>\n",
       "      <td>2017-01-01 00:19:24</td>\n",
       "      <td>Broadway &amp; W 37 St</td>\n",
       "      <td>E 10 St &amp; Avenue A</td>\n",
       "      <td>1977.0</td>\n",
       "      <td>2</td>\n",
       "      <td>3.606101e+10</td>\n",
       "      <td>3.606100e+10</td>\n",
       "      <td>13</td>\n",
       "    </tr>\n",
       "    <tr>\n",
       "      <th>4</th>\n",
       "      <td>2017-01-01 00:05:47</td>\n",
       "      <td>2017-01-01 00:10:02</td>\n",
       "      <td>York St &amp; Jay St</td>\n",
       "      <td>Carlton Ave &amp; Flushing Ave</td>\n",
       "      <td>1989.0</td>\n",
       "      <td>1</td>\n",
       "      <td>3.604700e+10</td>\n",
       "      <td>3.604702e+10</td>\n",
       "      <td>4</td>\n",
       "    </tr>\n",
       "  </tbody>\n",
       "</table>\n",
       "</div>"
      ],
      "text/plain": [
       "            start_time            stop_time           start_station_name  \\\n",
       "0  2017-01-01 00:00:21  2017-01-01 00:11:41  W 82 St & Central Park West   \n",
       "1  2017-01-01 00:00:45  2017-01-01 00:22:08       Cooper Square & E 7 St   \n",
       "2  2017-01-01 00:05:00  2017-01-01 00:14:20           Broadway & W 60 St   \n",
       "3  2017-01-01 00:05:37  2017-01-01 00:19:24           Broadway & W 37 St   \n",
       "4  2017-01-01 00:05:47  2017-01-01 00:10:02             York St & Jay St   \n",
       "\n",
       "              end_station_name  birth_year  gender  start_station_geoid  \\\n",
       "0  Central Park West & W 72 St      1965.0       2         3.606102e+10   \n",
       "1           Broadway & W 32 St      1987.0       2         3.606100e+10   \n",
       "2              9 Ave & W 45 St      1973.0       1         3.606101e+10   \n",
       "3           E 10 St & Avenue A      1977.0       2         3.606101e+10   \n",
       "4   Carlton Ave & Flushing Ave      1989.0       1         3.604700e+10   \n",
       "\n",
       "   end_station_geoid  trip_minutes  \n",
       "0       3.606101e+10            11  \n",
       "1       3.606101e+10            21  \n",
       "2       3.606101e+10             9  \n",
       "3       3.606100e+10            13  \n",
       "4       3.604702e+10             4  "
      ]
     },
     "execution_count": 3,
     "metadata": {},
     "output_type": "execute_result"
    }
   ],
   "source": [
    "trips_df = pd.read_csv('../data/citibike_trip_final.csv')\n",
    "print('Number of Rows: {}'.format(trips_df.shape[0]))\n",
    "print('Number of Columns: {}'.format(trips_df.shape[1]))\n",
    "trips_df.head()"
   ]
  },
  {
   "cell_type": "markdown",
   "metadata": {},
   "source": [
    "##### 1. What are the observations (rows) and the attributes (columns)?\n",
    "Each observation in this data set corresponds to a trip taken on Citibike in 2017. The following are the features that are recorded for each trip: \n",
    "- start_time: Datetime object for the start time and date of the trip\n",
    "- stop_time: Datetime object for the end time and date of the trip\n",
    "- start_station_name: Name of starting station of the trip, a string\n",
    "- end_station_name: Name of ending station of the trip, a string\n",
    "- birth_year: Year user was born, an integer\n",
    "- gender: (Zero=unknown; 1=male; 2=female)\n",
    "- trip_minutes: Duration of the trip in minutes, an integer\n",
    "- start_station_geoid: Unique identifier for the census tract that the trip started in, an integer\n",
    "- end_station_geoid: Unique identifier for the census tract that the trip ended in, an integer. \n",
    "\n",
    "##### 2. Why was this dataset created?\n",
    "\n",
    "This dataset was created to help developers, engineers, statisticians, artists, academics and the local public to explore the usage of citi bike around New York City. Insights from these findings would help citibike officials find answers to questions like where citibike users ride, how far they go,and what stations are the most popular. It is an open dataset on the public bike sharing system of New York City. It is open to the public to help people find insights about this system.\n",
    "\n",
    "##### 3. Who funded the creation of the dataset?\n",
    "\n",
    "This citibike data was funded by citibike in New York. Lyft is the operator of the Citi Bike program in New York City and Jersey City. The raw dataset was collected from this source https://www.citibikenyc.com/system-data \n",
    "\n",
    "##### 4.What processes might have influenced what data was observed and recorded and what was not?\n",
    "\n",
    "Trips that may have been taken by staff who are managing citibike throughout the city are not good representations of citibikes trips by users only. Bikes may have been relocated overnight so that the distribution of bikes around the city are evenly distributed. Also bikes that may have been broken may lead to a loss of data.  Also citibike usage trip data is not a complete representation of all bike rider data in New York. \n",
    "\n",
    "##### 5. What preprocessing was done, and how did the data come to be in the form that you are using?\n",
    "\n",
    "We dropped columns that we would not be using in our analysis, and also removed rows that had NaN values in them. Furthermore, since the original trips dataset was very large we chose to only consider trips taken by users who are citibike subscribers, in order to reduce the size of the dataset. Deciding to only keep trip data for subscribers also makes sense since, more then 90% of the original trips were taken by subscribers, so removing trips taken by non-subscribers (tourists and onetime users) should not have resulted in any significant loss of data. We have also dropped trips that were over 3 hours. The reason for this is because we wanted to be looking at regular users of citibike. If you keep a bike out for longer than 30 minutes at a time, regardless of the type, it's $0.18 per minute. According to citibike website in 2017 (https://www.citibikenyc.com/pricing/single-ride). Therefore using a citibike for unreasonably long hours of time even if you are a subscriber would be unreasonable since you are being charged. For this analysis we decided to set 3 hours as the limit to a reasonable amount of time,  a person who regularly uses a citibike would ride.  The original table has spaces in its column names, so we decided to change these with underscores to make the more friendly for computation. \n",
    "\n",
    "##### 6. If people are involved, were they aware of the data collection and if so, what purpose did they expect the data to be used for?\n",
    "\n",
    "In signing up for using citibike, these users are allowing for citibike to take data of their usage. \n",
    "Citibike releases information about the user’s ride and trip duration  including their start station, usertype(Subscriber, one time user), gender, and year of birth. Citibike plans on using this data to understand citi bike users and the overall trend of citi bike users in new york city. Though many citibike users might not have been aware of this, they could have assumed that the data was collected to understand the citibike users for business related reasons.\n",
    "\n",
    "##### 7. Where can your raw source data be found, if applicable? Provide a link to the raw data (hosted in a Cornell Google Drive or Cornell Box). \n",
    "\n",
    "https://drive.google.com/drive/folders/11YUr4yiiFKCNlN2MnGPGpCeXyrq92A0Z?usp=sharing\n",
    "\n"
   ]
  },
  {
   "cell_type": "markdown",
   "metadata": {},
   "source": [
    "### Dataset 2 : Citibike Stations Data"
   ]
  },
  {
   "cell_type": "code",
   "execution_count": 4,
   "metadata": {},
   "outputs": [
    {
     "name": "stdout",
     "output_type": "stream",
     "text": [
      "Number of Rows: 839\n",
      "Number of Columns: 10\n"
     ]
    },
    {
     "data": {
      "text/html": [
       "<div>\n",
       "<style scoped>\n",
       "    .dataframe tbody tr th:only-of-type {\n",
       "        vertical-align: middle;\n",
       "    }\n",
       "\n",
       "    .dataframe tbody tr th {\n",
       "        vertical-align: top;\n",
       "    }\n",
       "\n",
       "    .dataframe thead th {\n",
       "        text-align: right;\n",
       "    }\n",
       "</style>\n",
       "<table border=\"1\" class=\"dataframe\">\n",
       "  <thead>\n",
       "    <tr style=\"text-align: right;\">\n",
       "      <th></th>\n",
       "      <th>station_id</th>\n",
       "      <th>station_name</th>\n",
       "      <th>lat</th>\n",
       "      <th>lon</th>\n",
       "      <th>first_trip</th>\n",
       "      <th>last_trip</th>\n",
       "      <th>geoid</th>\n",
       "      <th>trips_starting_here_2017</th>\n",
       "      <th>trips_ending_here_2017</th>\n",
       "      <th>total_trips_2017</th>\n",
       "    </tr>\n",
       "  </thead>\n",
       "  <tbody>\n",
       "    <tr>\n",
       "      <th>0</th>\n",
       "      <td>254.0</td>\n",
       "      <td>W 11 St &amp; 6 Ave</td>\n",
       "      <td>40.735324</td>\n",
       "      <td>-73.998004</td>\n",
       "      <td>2013-06-01</td>\n",
       "      <td>2019-07-31</td>\n",
       "      <td>36061006300</td>\n",
       "      <td>141183</td>\n",
       "      <td>143935</td>\n",
       "      <td>285118</td>\n",
       "    </tr>\n",
       "    <tr>\n",
       "      <th>1</th>\n",
       "      <td>252.0</td>\n",
       "      <td>MacDougal St &amp; Washington Sq</td>\n",
       "      <td>40.732264</td>\n",
       "      <td>-73.998522</td>\n",
       "      <td>2013-06-01</td>\n",
       "      <td>2019-07-31</td>\n",
       "      <td>36061006300</td>\n",
       "      <td>141183</td>\n",
       "      <td>143935</td>\n",
       "      <td>285118</td>\n",
       "    </tr>\n",
       "    <tr>\n",
       "      <th>2</th>\n",
       "      <td>253.0</td>\n",
       "      <td>W 13 St &amp; 5 Ave</td>\n",
       "      <td>40.735439</td>\n",
       "      <td>-73.994539</td>\n",
       "      <td>2013-06-01</td>\n",
       "      <td>2018-10-31</td>\n",
       "      <td>36061006300</td>\n",
       "      <td>141183</td>\n",
       "      <td>143935</td>\n",
       "      <td>285118</td>\n",
       "    </tr>\n",
       "    <tr>\n",
       "      <th>3</th>\n",
       "      <td>345.0</td>\n",
       "      <td>W 13 St &amp; 6 Ave</td>\n",
       "      <td>40.736494</td>\n",
       "      <td>-73.997044</td>\n",
       "      <td>2013-06-01</td>\n",
       "      <td>2018-10-31</td>\n",
       "      <td>36061006300</td>\n",
       "      <td>141183</td>\n",
       "      <td>143935</td>\n",
       "      <td>285118</td>\n",
       "    </tr>\n",
       "    <tr>\n",
       "      <th>4</th>\n",
       "      <td>151.0</td>\n",
       "      <td>Cleveland Pl &amp; Spring St</td>\n",
       "      <td>40.721816</td>\n",
       "      <td>-73.997203</td>\n",
       "      <td>2013-06-01</td>\n",
       "      <td>2019-07-31</td>\n",
       "      <td>36061004100</td>\n",
       "      <td>121704</td>\n",
       "      <td>118537</td>\n",
       "      <td>240241</td>\n",
       "    </tr>\n",
       "  </tbody>\n",
       "</table>\n",
       "</div>"
      ],
      "text/plain": [
       "   station_id                  station_name        lat        lon  first_trip  \\\n",
       "0       254.0               W 11 St & 6 Ave  40.735324 -73.998004  2013-06-01   \n",
       "1       252.0  MacDougal St & Washington Sq  40.732264 -73.998522  2013-06-01   \n",
       "2       253.0               W 13 St & 5 Ave  40.735439 -73.994539  2013-06-01   \n",
       "3       345.0               W 13 St & 6 Ave  40.736494 -73.997044  2013-06-01   \n",
       "4       151.0      Cleveland Pl & Spring St  40.721816 -73.997203  2013-06-01   \n",
       "\n",
       "    last_trip        geoid  trips_starting_here_2017  trips_ending_here_2017  \\\n",
       "0  2019-07-31  36061006300                    141183                  143935   \n",
       "1  2019-07-31  36061006300                    141183                  143935   \n",
       "2  2018-10-31  36061006300                    141183                  143935   \n",
       "3  2018-10-31  36061006300                    141183                  143935   \n",
       "4  2019-07-31  36061004100                    121704                  118537   \n",
       "\n",
       "   total_trips_2017  \n",
       "0            285118  \n",
       "1            285118  \n",
       "2            285118  \n",
       "3            285118  \n",
       "4            240241  "
      ]
     },
     "execution_count": 4,
     "metadata": {},
     "output_type": "execute_result"
    }
   ],
   "source": [
    "stations_df = pd.read_csv('../data/citibike_stations_final.csv')\n",
    "print('Number of Rows: {}'.format(stations_df.shape[0]))\n",
    "print('Number of Columns: {}'.format(stations_df.shape[1]))\n",
    "stations_df.head()"
   ]
  },
  {
   "cell_type": "markdown",
   "metadata": {},
   "source": [
    "##### 1. What are the observations (rows) and the attributes (columns)?\n",
    "\n",
    "Each observation in this data set corresponds to a unique Citi Bike station in NYC. The following are the features for each station that is collected in this dataset: \n",
    "\n",
    "- station_id: Unique identifier for a station, an integer\n",
    "- station_name: Name of the station, a string \n",
    "- lat: Latitude of the station, a float\n",
    "- lon: Longitude of the station, a float \n",
    "- first_trip: Date of the first trip ever taken from the station, DateTime object \n",
    "- last_trip: Date of the last trip taken from the station (at the time this data set was downloaded), DateTime object\n",
    "- geoid: Unique identifier for the NYC census tract that the station is located in, an integer \n",
    "- trips_starting_here_2017: number of trips taken from this station in 2017, an integer \n",
    "- trips_ending_here_2017: number of trips ending at this station in 2017, an integer\n",
    "- total_trips_2017: total number of trips taken to and from this station in 2017, an integer\n",
    "\n",
    "##### 2. Why was this dataset created?\n",
    "\n",
    "The base dataset for this table came from the same source as the Citbike trip data set described above. However, more processing was done to this data to obtain this station dataset by a team of MIT researchers who were trying to map out the locations of Citi Bike stations in NYC for their research purposes. \n",
    "\n",
    "##### 3. Who funded the creation of the dataset?\n",
    "\n",
    "This table uses as its base table the Cibike trip data set that was funded by citibike in New York. However, the processing that was done to this raw citi bike data was done by MIT researchers, so it can be assumed that MIT indirectly funded the creation of this Citibike trip data set. MIT Media Lab research: https://github.com/aberke/income-race-bikes/tree/master/data/nyc-bike\n",
    "\n",
    "\n",
    "##### 4.What processes might have influenced what data was observed and recorded and what was not?\n",
    "\n",
    "A small number of stations are located on the boundary between two census tracts, in which case we decided to select the first census tract returned by the API. \n",
    "\n",
    "##### 5. What preprocessing was done, and how did the data come to be in the form that you are using?\n",
    "\n",
    "The original citibike station data, was already well formatted, but did not include the geoid which we needed to identify, which geographic location does the station belong to. To obtain this geoid for each station, we used an API to obtain the geoid corresponding to the census tract that the station is located in. Next since our project focuses on 2017, we removed all stations that had its first trip after 2017 since this means that these stations were made after 2017, and thus are not relevant to our analysis. Furthermore, the original dataset had the number of trips from each station calculated up to 2019, thus we removed this column and used the trip dataset to calculate the number of trips taken to and from each station in 2017. We also renamed a few columns to make their names more intuitive such as renaming ‘id’ to ‘station_id’ and ‘name’ to ‘station_name’. \n",
    "Currently this station dataset doesn't exclude stations that are located in parks. But when we use this data alongside the race/income data of NYC the geoids of the parks (so the stations that are located in parks)are naturally removed because the census data of race/income does not look at a census of a park. \n",
    "\n",
    "##### 6. If people are involved, were they aware of the data collection and if so, what purpose did they expect the data to be used for?\n",
    "\n",
    "Since this data set is derived from the citi bike trips dataset, citi bike users were made aware that citibike would be tracking their usage data, when users signed up for the application. \n",
    "\n",
    "The expected usage of this data is the same as for the Citi Bike trip data above. \n",
    "\n",
    "\n",
    "##### 7. Where can your raw source data be found, if applicable? Provide a link to the raw data (hosted in a Cornell Google Drive or Cornell Box). \n",
    "\n",
    "https://drive.google.com/file/d/1pATvzg-PTpPvs_8x5pKIs_jqlbKrWyat/view?usp=sharing\n"
   ]
  },
  {
   "cell_type": "markdown",
   "metadata": {},
   "source": [
    "### Dataset 3 : NYC Race and Income Data in 2017"
   ]
  },
  {
   "cell_type": "code",
   "execution_count": 4,
   "metadata": {},
   "outputs": [
    {
     "name": "stdout",
     "output_type": "stream",
     "text": [
      "Number of Rows: 4787\n",
      "Number of Columns: 8\n"
     ]
    },
    {
     "data": {
      "text/html": [
       "<div>\n",
       "<style scoped>\n",
       "    .dataframe tbody tr th:only-of-type {\n",
       "        vertical-align: middle;\n",
       "    }\n",
       "\n",
       "    .dataframe tbody tr th {\n",
       "        vertical-align: top;\n",
       "    }\n",
       "\n",
       "    .dataframe thead th {\n",
       "        text-align: right;\n",
       "    }\n",
       "</style>\n",
       "<table border=\"1\" class=\"dataframe\">\n",
       "  <thead>\n",
       "    <tr style=\"text-align: right;\">\n",
       "      <th></th>\n",
       "      <th>geoid</th>\n",
       "      <th>2017_median_income</th>\n",
       "      <th>2017_population</th>\n",
       "      <th>2017_white_population</th>\n",
       "      <th>2017_black_population</th>\n",
       "      <th>2017_asian_population</th>\n",
       "      <th>2017_other_population</th>\n",
       "      <th>2017_2_or_more_races</th>\n",
       "    </tr>\n",
       "  </thead>\n",
       "  <tbody>\n",
       "    <tr>\n",
       "      <th>0</th>\n",
       "      <td>36001000100</td>\n",
       "      <td>27250</td>\n",
       "      <td>1939</td>\n",
       "      <td>502</td>\n",
       "      <td>1142</td>\n",
       "      <td>16</td>\n",
       "      <td>112</td>\n",
       "      <td>167</td>\n",
       "    </tr>\n",
       "    <tr>\n",
       "      <th>1</th>\n",
       "      <td>36001000200</td>\n",
       "      <td>24091</td>\n",
       "      <td>4731</td>\n",
       "      <td>710</td>\n",
       "      <td>3474</td>\n",
       "      <td>104</td>\n",
       "      <td>32</td>\n",
       "      <td>411</td>\n",
       "    </tr>\n",
       "    <tr>\n",
       "      <th>2</th>\n",
       "      <td>36001000300</td>\n",
       "      <td>33454</td>\n",
       "      <td>5558</td>\n",
       "      <td>2589</td>\n",
       "      <td>1539</td>\n",
       "      <td>559</td>\n",
       "      <td>291</td>\n",
       "      <td>580</td>\n",
       "    </tr>\n",
       "    <tr>\n",
       "      <th>3</th>\n",
       "      <td>36001000401</td>\n",
       "      <td>74255</td>\n",
       "      <td>2459</td>\n",
       "      <td>2183</td>\n",
       "      <td>131</td>\n",
       "      <td>92</td>\n",
       "      <td>28</td>\n",
       "      <td>25</td>\n",
       "    </tr>\n",
       "    <tr>\n",
       "      <th>4</th>\n",
       "      <td>36001000403</td>\n",
       "      <td>70815</td>\n",
       "      <td>4695</td>\n",
       "      <td>3256</td>\n",
       "      <td>714</td>\n",
       "      <td>416</td>\n",
       "      <td>79</td>\n",
       "      <td>230</td>\n",
       "    </tr>\n",
       "  </tbody>\n",
       "</table>\n",
       "</div>"
      ],
      "text/plain": [
       "         geoid  2017_median_income  2017_population  2017_white_population  \\\n",
       "0  36001000100               27250             1939                    502   \n",
       "1  36001000200               24091             4731                    710   \n",
       "2  36001000300               33454             5558                   2589   \n",
       "3  36001000401               74255             2459                   2183   \n",
       "4  36001000403               70815             4695                   3256   \n",
       "\n",
       "   2017_black_population  2017_asian_population  2017_other_population  \\\n",
       "0                   1142                     16                    112   \n",
       "1                   3474                    104                     32   \n",
       "2                   1539                    559                    291   \n",
       "3                    131                     92                     28   \n",
       "4                    714                    416                     79   \n",
       "\n",
       "   2017_2_or_more_races  \n",
       "0                   167  \n",
       "1                   411  \n",
       "2                   580  \n",
       "3                    25  \n",
       "4                   230  "
      ]
     },
     "execution_count": 4,
     "metadata": {},
     "output_type": "execute_result"
    }
   ],
   "source": [
    "race_income_df = pd.read_csv('../data/race_and_income_final.csv')\n",
    "print('Number of Rows: {}'.format(race_income_df.shape[0]))\n",
    "print('Number of Columns: {}'.format(race_income_df.shape[1]))\n",
    "race_income_df.head()"
   ]
  },
  {
   "cell_type": "markdown",
   "metadata": {},
   "source": [
    "##### 1. What are the observations (rows) and the attributes (columns)?\n",
    "\n",
    "Each observation in this data set corresponds to a different census tract in NYC. A census tract is the smallest geographical area, defined by the US goverment, which census data is collected on. For each census tract the following are the attributes in the dataset. \n",
    "\n",
    "- geoid: Unique identifier for the census tract that the station is located in, an integer \n",
    "- 2017_median_income: Median income (dollars) in the census tract in 2017, an integer\n",
    "- 2017_population: Total population in the census tract in 2017, an integer\n",
    "- 2017_white_population: Total number of White individuals in the census tract, an integer\n",
    "- 2017_black_population: Total number of Black individuals in the census tract, an integer\n",
    "- 2017_asian_population: Total number of Asian individuals in the census tract, an integer\n",
    "- 2017_2_or_more_races : Total number of individuals who identify as two or more races in the census tract, an integer\n",
    "\n",
    "##### 2. Why was this dataset created?\n",
    "\n",
    "This dataset was created in order to study the census tract data along with the associated race and income in that tract from 2017. This was done by extracting the household median income and household race from the American Community Survey. \n",
    "\n",
    "##### 3. Who funded the creation of the dataset?\n",
    "\n",
    "This data was created and funded by the United States Census bureau. ACS: https://data.census.gov/cedsci/The creation of this dataset was funded by the MIT Media Lab. MIT Media Lab : https://github.com/aberke/income-race-bikes/blob/master/data/ny/race_and_income_data.csv.\n",
    "\n",
    "##### 4. What processes might have influenced what data was observed and recorded and what was not?\n",
    "\n",
    "The American Community Survey’s data collection process is performed by randomly selecting 3.5 million addresses to reply to the survey in order to represent the entire population. Because this survey is limited to those with addresses, there may be households and individuals who are not recorded in the census. For example, the homeless population is difficult to track and therefore could influence the data as well. \n",
    "\n",
    "##### 5. What preprocessing was done, and how did the data come to be in the form that you are using?\n",
    "Because the original data from the American Community Survey was downloaded as a shapefile, the data had to be extracted and transformed into a dataframe. After extracting the race, income, and renaming the columns, the data set was created. \n",
    "\n",
    "Next, we dropped rows where the median income was missing or had NaN values. Furthermore for census tracts that had median income values of '$250,000+' we changed the median income value to '250,000' so that they can be treated as a numeric value. Laslty, we only kept the race and income data for 2017 and dropped all the other columns which correspond to the other years. \n",
    "\n",
    "##### 6. If people are involved, were they aware of the data collection and if so, what purpose did they expect the data to be used for?\n",
    "The individuals contacted were aware of the data collection. In the constitution, it states that a census must be taken every 10 years. People likely understand the main purpose of the census as determining where federal and state funding should be spent. Moreover, their data is protected from being shared and used by any other government agency. \n",
    "\n",
    "##### 7. Where can your raw source data be found, if applicable? Provide a link to the raw data (hosted in a Cornell Google Drive or Cornell Box). \n",
    "https://drive.google.com/file/d/1obfrrDul07XDXEvyK6kf-N66_2K5-g88/view?usp=sharing\n",
    "<br> \n",
    "\n",
    "_________"
   ]
  },
  {
   "cell_type": "markdown",
   "metadata": {},
   "source": [
    "## 3) Preregistration Statement "
   ]
  },
  {
   "cell_type": "markdown",
   "metadata": {},
   "source": [
    "#### Research Question: How is citibike representing NYC demographics?\n",
    "\n",
    "#### Analysis 1: What is the relationship between Citibike trips and number of stations in a census tract?\n",
    "\n",
    "We first want to check if citibike is distributing its stations in areas of high demand regardless of the race/income distribution of NYC. Are there more stations in areas of higher usage regardless of race and income? \n",
    "\n",
    "- Compute the trips and number of stations in each geoid and see how this differs across geoid. \n",
    "- Compute **Linear Regression** to see how strongly the number of stations correlate with the number of trips taken from the census tract. The predictor variable is the number of stations and the thing we want to predict is the number of trips starting from that census tract. \n",
    "\n",
    "       \n",
    "#### Analysis 2: How is station placement by geoid representing NYC race & income demographics? (Stations vs Race/Income) \n",
    "\n",
    "To further our understanding of whether citibike is fairly distributing its stations, we will look into whether the race and income of a census tract has a relationship with the number of stations located in the area.\n",
    "\n",
    "- Look into the anomalies from analysis 1 (areas with high demand and low station and vice versa). \n",
    "- Look into which race and income level is the most well represented by citibike stations and which ones are the least well represented. \n",
    "- Look into which race and income level has the highest amount of citibike trips and which ones use citibikes the least. Compare this with the distribution of stations between the same categories. \n",
    "- Use **multivariable regression** to see how strongly race and income plays a role in determining the number of stations in a given census tract. Does the coefficients of the model align with what we expected? \n",
    "\n",
    "\n",
    "##### Additional Analysis\n",
    "\n",
    "- \n",
    "\n"
   ]
  },
  {
   "cell_type": "markdown",
   "metadata": {},
   "source": [
    "## 4) Data Analysis "
   ]
  },
  {
   "cell_type": "markdown",
   "metadata": {},
   "source": [
    "#### Analysis 1: What is the relationship between Citibike trips and number of stations in a census tract?\n",
    "\n",
    "##### Trips vs Number of Stations in a Census Tract"
   ]
  },
  {
   "cell_type": "markdown",
   "metadata": {},
   "source": [
    "In order to understand wether Citibike fairly distributes its stations in NYC, we first want to look into whether citibike stations are distributed purely based on demand. Here we start off by understanding the relationship between citibike trips and the number of stations in a census tract.\n",
    "\n",
    "- Compute the trips and number of stations in each geoid and see how this differs across geoid. \n",
    "- Compute **Linear Regression** to see how strongly the number of stations correlate with the number of trips taken from the census tract. The predictor variable is the number of stations and the thing we want to predict is the number of trips starting from that census tract. "
   ]
  },
  {
   "cell_type": "code",
   "execution_count": null,
   "metadata": {},
   "outputs": [],
   "source": [
    "#group by geoid and count number of stations\n",
    "stations_geoid = stations_df.groupby(['geoid']).size().reset_index(name = 'Number of Stations')\n",
    "stations_geoid = stations_geoid.sort_values('Number of Stations', ascending=False)\n",
    "\n",
    "#remove park geoids\n",
    "geoids_remove=['36061014300','36047017700','36061000500','36081009900','36061031703','36047001800','36081003700']\n",
    "stations_geoid = stations_geoid[~stations_geoid['geoid'].isin(geoids_remove)]\n",
    "\n",
    "## Number of Start Stations at each geoid\n",
    "trips_start_df = trips_df.groupby(['start_station_geoid']).size().reset_index(name = 'Number of Trips')\n",
    "trips_start_df = trips_start_df.sort_values('Number of Trips', ascending=False)\n",
    "trips_start_df = trips_start_df.rename(columns={'start_station_geoid': 'geoid'})\n",
    "trips_start_df= pd.merge(stations_geoid,trips_start_df,  on=['geoid'], how='inner')\n",
    "\n",
    "## Number of End Stations at each geoid\n",
    "trips_end_df = trips_df.groupby(['end_station_geoid']).size().reset_index(name = 'Number of Trips')\n",
    "trips_end_df = trips_end_df.sort_values('Number of Trips', ascending=False)\n",
    "trips_end_df = trips_end_df.rename(columns={'end_station_geoid': 'geoid'})\n",
    "trips_end_df= pd.merge(stations_geoid,trips_end_df,  on=['geoid'], how='inner')\n",
    "\n",
    "## Start Stations\n",
    "sns.relplot(x=\"Number of Stations\", y=\"Number of Trips\", data=trips_start_df)\n",
    "plt.title(\"Start Stations\")\n",
    "plt.show()\n",
    "\n",
    "## End stations \n",
    "sns.relplot(x=\"Number of Stations\", y=\"Number of Trips\", data=trips_end_df)\n",
    "plt.title(\"End stations\")\n",
    "plt.show()"
   ]
  },
  {
   "cell_type": "markdown",
   "metadata": {},
   "source": [
    "Looking at the scatterplot, we see that initially as the number of stations in a census tract increases, the number of trips taken from the census tract also increases. However, starting from locations that have seven stations, the number of trips taken decrease. Furthermore, these locations with seven, eight, and nine stations all have relatively low number of trips. This indicates that perhaps too many stations are being placed at these locations relative to their usage. This is suprising since we expected Citibike to distribute their stations more aligned with their usage. Thus, since usage doesn't appear to be the only factor that influences where citibike stations are located, we next want to analyze the race and income distribution of the census tracts with seven, eight, and nine stations. This is to see whether they indicate any trends in their race and income distribution that can explain the reason why Citibike decided to place a large number of stations in these areas where there is little usage. "
   ]
  },
  {
   "cell_type": "code",
   "execution_count": 6,
   "metadata": {},
   "outputs": [
    {
     "data": {
      "image/png": "[encoded data removed]",
      "text/plain": [
       "<Figure size 432x288 with 1 Axes>"
      ]
     },
     "metadata": {
      "needs_background": "light"
     },
     "output_type": "display_data"
    },
    {
     "data": {
      "image/png": "[encoded data removed]",
      "text/plain": [
       "<Figure size 432x288 with 1 Axes>"
      ]
     },
     "metadata": {
      "needs_background": "light"
     },
     "output_type": "display_data"
    }
   ],
   "source": [
    "#obtaining the proportion of each racial category in the census tracts \n",
    "race_income_df['white_pct'] = 100*(race_income_df['2017_white_population'] / race_income_df['2017_population'])\n",
    "race_income_df['black_pct'] = 100*(race_income_df['2017_black_population'] / race_income_df['2017_population'])\n",
    "race_income_df['asian_pct'] = 100*(race_income_df['2017_asian_population'] / race_income_df['2017_population'])\n",
    "#Selecting the race and income information for census tracts that have 7, 8, and 9 stations\n",
    "selector = trip_station_geoid[trip_station_geoid['num_stations'].apply(lambda x: x in [7,8,9])]['geoid']\n",
    "most_stations_ri = race_income_df[race_income_df['geoid'].apply(lambda x: x in list(selector))]\n",
    "most_stations_race_means = np.array(most_stations_ri.mean(axis=0).loc[['white_pct','black_pct','asian_pct']])\n",
    "most_stations_income_mean = np.array(most_stations_ri.mean(axis=0).loc['2017_median_income'])\n",
    "#selecting race and income rows for all census tracts that have at least one station\n",
    "race_income_w_stations_df = race_income_df[race_income_df['geoid'].apply(lambda x: x in list(stations_df['geoid'].unique()))]\n",
    "stations_census_tracts_race_means = race_income_w_stations_df.mean(axis=0).loc[['white_pct','black_pct','asian_pct']]\n",
    "stations_census_tracts_income_mean = race_income_w_stations_df.mean(axis=0).loc['2017_median_income']\n",
    "\n",
    "def plot_bar(labels,data1,data2,ylabel,title,fontsize):\n",
    "    x = np.arange(len(labels))  # the label locations\n",
    "    width = 0.35  # the width of the bars\n",
    "    fig, ax = plt.subplots()\n",
    "    rects1 = ax.bar(x - width/2, data1, width, label='Census Tracts with 7,8,and 9 stations')\n",
    "    rects2 = ax.bar(x + width/2, data2 , width, label='All Census Tracts')\n",
    "    ax.set_ylabel(ylabel)\n",
    "    ax.set_title(title)\n",
    "    ax.set_xticks(x)\n",
    "    ax.set_xticklabels(labels)\n",
    "    ax.legend(fontsize= fontsize)\n",
    "    fig.tight_layout()\n",
    "    plt.show()\n",
    "\n",
    "#plotting the grouped bar chart for racial ethnicities\n",
    "labels = ['avg white percentage', 'avg black percentage','average asian percentage']\n",
    "plot_bar(labels,most_stations_race_means,stations_census_tracts_race_means,'Average % of population in ethincity group','Average Racial Distribution in Census Tracts with 7, 8, and 9 Stations vs All Census Tracts','medium')\n",
    "#plotting the grouped bar chart for racial ethnicities\n",
    "labels = ['avg median income']\n",
    "plot_bar(labels,most_stations_income_mean,stations_census_tracts_income_mean,'Average Median Income','Average Median Income in Census Tracts with 7, 8, and 9 Stations vs All Census Tracts','x-small')"
   ]
  },
  {
   "cell_type": "markdown",
   "metadata": {},
   "source": [
    "From these bar charts, we can see that the census tracts that had seven, eight, and nine stations have a much higher average median income, close to \\\\$120,000, compared to the average median income of \\\\$85,000 across all the other census tracts that had at least one station. Furthermore, we see that the census tracts that had an unexpectedly high number of stations compared to their number of trips are predominantly white neighborhoods. The average proportion of white individuals in these neighborhoods is close to 70%, which is high compared to the average white proportion across all the census tracts, 60%. Furthermore, these neighborhoods that appear to have too many stations also appear to have a very low number of black individuals. In these neighborhoods, black individuals only make up, on average, 5% of the population. These results seem to indiciate that some of Citibike's stations are placed not according to demand, but due to race and income factors. However, to see whether Citibike station placement is truly influenced by race and income rather than sorely based on demand, we next will look into the relationship between station placement, race, and income across all of the Citibike stations. "
   ]
  },
  {
   "cell_type": "markdown",
   "metadata": {},
   "source": [
    "### Stations vs Race and Income "
   ]
  },
  {
   "cell_type": "code",
   "execution_count": 7,
   "metadata": {},
   "outputs": [],
   "source": [
    "race_income_df['other_pct'] = 100*(race_income_df['2017_other_population'] / race_income_df['2017_population'])\n",
    "# Combining the race and stations\n",
    "race_st_df = (race_income_df.set_index('geoid')).join((stations_df.set_index('geoid')),how='inner')\n",
    "race_st_df['geoid'] = race_st_df.index\n",
    "race_st_df.reset_index(drop=True,inplace=True)\n",
    "# Counting the number of stations per geoid\n",
    "stations =race_st_df.groupby('geoid')[['station_id']].count()\n",
    "stations.rename(columns={'station_id':'num_stations'},inplace=True)\n",
    "stations.reset_index(inplace=True)\n",
    "race_st_df = race_st_df.set_index('geoid').join(stations.set_index('geoid'),how='inner')\n",
    "race_st_df.reset_index()\n",
    "race_st_df[:1]\n",
    "race_st_df.shape\n",
    "# assigning the majority race based on the max percentage race in each geoid\n",
    "race_st_df['majority_race'] = race_st_df[['white_pct','black_pct','asian_pct', 'other_pct']].idxmax(axis=1)"
   ]
  },
  {
   "cell_type": "markdown",
   "metadata": {},
   "source": [
    " To begin, let's look at the number of stations per census tract vs. the percentage of race in each census tract to identify any patterns with numbers of stations and the percentage of race."
   ]
  },
  {
   "cell_type": "markdown",
   "metadata": {},
   "source": [
    "##### Race vs Number of Stations"
   ]
  },
  {
   "cell_type": "markdown",
   "metadata": {},
   "source": [
    "##### Black Population Percentage and White Population Percentage vs Number of Stations"
   ]
  },
  {
   "cell_type": "code",
   "execution_count": 8,
   "metadata": {},
   "outputs": [
    {
     "data": {
      "image/png": "[encoded data removed]",
      "text/plain": [
       "<Figure size 432x288 with 1 Axes>"
      ]
     },
     "metadata": {
      "needs_background": "light"
     },
     "output_type": "display_data"
    },
    {
     "data": {
      "image/png": "[encoded data removed]",
      "text/plain": [
       "<Figure size 432x288 with 1 Axes>"
      ]
     },
     "metadata": {
      "needs_background": "light"
     },
     "output_type": "display_data"
    }
   ],
   "source": [
    "plt.scatter(x = race_st_df['num_stations'], y = race_st_df['black_pct'], color = \"blue\", s = 80, alpha = .3, label = \"Black\")\n",
    "plt.xlabel(\"Number of Stations in Census Tract\")\n",
    "plt.ylabel(\"Percentage of Black Race in Census Tract\")\n",
    "plt.title(\"The Number of Stations in Census Tract vs. Percentage of Black Populations\")\n",
    "plt.legend()\n",
    "plt.show()\n",
    "plt.scatter(x = race_st_df['num_stations'], y = race_st_df['white_pct'], color = \"red\", s = 80, alpha= .3, label = \"White\") \n",
    "plt.xlabel(\"Number of Stations in Census Tract\")\n",
    "plt.ylabel(\"Percentage of White Race in Census Tract\")\n",
    "plt.title(\"The Number of Stations in Census Tract vs. Percentage of White Populations \")\n",
    "plt.legend()\n",
    "plt.show()"
   ]
  },
  {
   "cell_type": "markdown",
   "metadata": {},
   "source": [
    "From here we can see that at higher number of stations per census tract, there's a lower percentage of black households. We can also that at higher number of stations per census tract, there's a higher percentage of white households. At higher numbers of stations, the white population data points are generally centered at or above 50%. On the other hand, as the number of stations increase, black populations are centered at or below 30%. "
   ]
  },
  {
   "cell_type": "code",
   "execution_count": null,
   "metadata": {},
   "outputs": [],
   "source": []
  }
 ],
 "metadata": {
  "kernelspec": {
   "display_name": "Python 3",
   "language": "python",
   "name": "python3"
  },
  "language_info": {
   "codemirror_mode": {
    "name": "ipython",
    "version": 3
   },
   "file_extension": ".py",
   "mimetype": "text/x-python",
   "name": "python",
   "nbconvert_exporter": "python",
   "pygments_lexer": "ipython3",
   "version": "3.8.5"
  }
 },
 "nbformat": 4,
 "nbformat_minor": 4
}
