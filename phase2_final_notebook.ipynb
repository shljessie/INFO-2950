{
 "cells": [
  {
   "cell_type": "code",
   "execution_count": 1,
   "metadata": {},
   "outputs": [],
   "source": [
    "import pandas as pd \n",
    "import numpy as np\n",
    "import requests\n",
    "import urllib\n",
    "import matplotlib.pyplot as plt "
   ]
  },
  {
   "cell_type": "markdown",
   "metadata": {},
   "source": [
    "# Research Question "
   ]
  },
  {
   "cell_type": "markdown",
   "metadata": {},
   "source": [
    "How inclusive / representitive is Citi Bike of New York City Demographics in 2017? \n",
    "\n",
    "    - How inclusive are Citbike stations in NYC? \n",
    "    - How well does citbike station locations correspond with usage? "
   ]
  },
  {
   "cell_type": "markdown",
   "metadata": {},
   "source": [
    "# Data Collection and Cleaning "
   ]
  },
  {
   "cell_type": "markdown",
   "metadata": {},
   "source": [
    "### Stations Data"
   ]
  },
  {
   "cell_type": "markdown",
   "metadata": {},
   "source": [
    "I downloaded the raw station data from an online source which contained all of the citbike data. The first thing I did was to delete the row with latitidue = 45.506264191001186, since this station is not located in NYC. Perhaps it was a data entry error from Citibike. But this is not a concern as it is only one row out of a total of almost 1000 rows. "
   ]
  },
  {
   "cell_type": "code",
   "execution_count": 84,
   "metadata": {},
   "outputs": [],
   "source": [
    "#This is a table containing all of the stations owned by citibike in NYC. \n",
    "stations = pd.read_csv('stations.csv')\n",
    "stations = stations[stations['lat'] != 45.506264191001186] \n",
    "#remove this station since it is located in canada not NYC.\n",
    "#45.506264191001186, -73.56890559196472"
   ]
  },
  {
   "cell_type": "code",
   "execution_count": 85,
   "metadata": {},
   "outputs": [],
   "source": [
    "#This gets the (lat,lon) of all of the citibike stations in NYC \n",
    "stations_lat = list(stations['lat'])\n",
    "stations_lon = list(stations['lon'])\n",
    "stations_lat_lon = [(stations_lat[i],stations_lon[i]) for i in range(len(stations_lat))]"
   ]
  },
  {
   "cell_type": "markdown",
   "metadata": {},
   "source": [
    "To obtain the geoid which is the unique identifier of the census tract that the station is located in, I used the following online API. "
   ]
  },
  {
   "cell_type": "code",
   "execution_count": 88,
   "metadata": {},
   "outputs": [],
   "source": [
    "#This uses a freely available goverment API that allows us to get the geoid based on the (lat,lon) of each citibike sttaion.\n",
    "station_geoid = []\n",
    "for lat, lon in stations_lat_lon: \n",
    "    #Encode parameters \n",
    "    params = urllib.parse.urlencode({'latitude': lat, 'longitude':lon, 'format':'json'})\n",
    "    #Contruct request URL\n",
    "    url = 'https://geo.fcc.gov/api/census/block/find?' + params\n",
    "\n",
    "    #Get response from API\n",
    "    response = requests.get(url)\n",
    "\n",
    "    #Parse json in response\n",
    "    data = response.json()\n",
    "\n",
    "    #Print FIPS code\n",
    "    returned_FIPS = (data['Block']['FIPS'])\n",
    "    geoid = returned_FIPS[:11] \n",
    "    station_geoid.append(geoid)"
   ]
  },
  {
   "cell_type": "code",
   "execution_count": 89,
   "metadata": {},
   "outputs": [],
   "source": [
    "stations_geoid = [int(geoid) for geoid in station_geoid]"
   ]
  },
  {
   "cell_type": "code",
   "execution_count": 91,
   "metadata": {
    "scrolled": true
   },
   "outputs": [],
   "source": [
    "#add the geoid column to the stations table\n",
    "stations['geoid'] = stations_geoid"
   ]
  },
  {
   "cell_type": "markdown",
   "metadata": {},
   "source": [
    "Here I rename some columns to make their names more intuitive and also remove all stations made after 2017, as we are going to base our analysis on the year 2017, so any Citibike stations made after it is irrelevant"
   ]
  },
  {
   "cell_type": "code",
   "execution_count": 10,
   "metadata": {},
   "outputs": [],
   "source": [
    "stations = stations.drop('Unnamed: 0',axis=1)\n",
    "stations.rename(columns={'id':'station_id', 'name':'station_name','first':'first_trip','last':'last_trip'},inplace=True)\n",
    "stations['first_trip'] = pd.to_datetime(stations['first_trip'])\n",
    "stations['last_trip'] = pd.to_datetime(stations['last_trip'])\n",
    "#only select stations made during or before 2017 \n",
    "stations = stations[stations['first_trip'] <= datetime.datetime(2017,12,30)]"
   ]
  },
  {
   "cell_type": "code",
   "execution_count": 13,
   "metadata": {},
   "outputs": [],
   "source": [
    "stations_geoid.to_csv('citibike_stations_geoid_final.csv',index=False)"
   ]
  },
  {
   "cell_type": "markdown",
   "metadata": {},
   "source": [
    "### Race and Income Data "
   ]
  },
  {
   "cell_type": "markdown",
   "metadata": {},
   "source": [
    "I downloaded the raw race and income data from the internet and performed the following operations to clean it up. "
   ]
  },
  {
   "cell_type": "code",
   "execution_count": 2,
   "metadata": {},
   "outputs": [],
   "source": [
    "race_and_income = pd.read_csv('race_and_income_data.csv')"
   ]
  },
  {
   "cell_type": "markdown",
   "metadata": {},
   "source": [
    "Since our project will be focusing on the year 2017, we only require the race and income data from that year"
   ]
  },
  {
   "cell_type": "code",
   "execution_count": 3,
   "metadata": {},
   "outputs": [],
   "source": [
    "#only interested in 2017 data \n",
    "race_and_income = race_and_income[['geoid','2017 median income','2017 median income margin of error', \n",
    "     '2017 race: total households', '2017 race: total households margin of error', '2017 race: White',\n",
    "    '2017 race: Black', '2017 race: Asian', '2017 race: Other', '2017 race: 2 or more races']]"
   ]
  },
  {
   "cell_type": "markdown",
   "metadata": {},
   "source": [
    "Removing rows where the median income is not an integer. Also some median income values are '250,000+' and I changed these to '250,000' so that they can be treated as integers. "
   ]
  },
  {
   "cell_type": "code",
   "execution_count": 4,
   "metadata": {},
   "outputs": [],
   "source": [
    "#removing rows with non-integer median income values\n",
    "race_and_income = race_and_income[race_and_income['2017 median income'] != '-']\n",
    "race_and_income['2017 median income'] = race_and_income['2017 median income'].apply(lambda x: 250000 if x=='250,000+' else x)\n",
    "race_and_income = race_and_income[race_and_income['2017 median income margin of error'] != '***']\n",
    "race_and_income = race_and_income.astype({'2017 median income': 'int64', '2017 median income margin of error':'int64'})"
   ]
  },
  {
   "cell_type": "code",
   "execution_count": 5,
   "metadata": {},
   "outputs": [],
   "source": [
    "race_and_income.to_csv('race_and_income_final.csv',index=False)"
   ]
  },
  {
   "cell_type": "markdown",
   "metadata": {},
   "source": [
    "# Data Description "
   ]
  },
  {
   "cell_type": "code",
   "execution_count": null,
   "metadata": {},
   "outputs": [],
   "source": []
  },
  {
   "cell_type": "markdown",
   "metadata": {},
   "source": [
    "# Data Limitations "
   ]
  },
  {
   "cell_type": "code",
   "execution_count": null,
   "metadata": {},
   "outputs": [],
   "source": []
  },
  {
   "cell_type": "markdown",
   "metadata": {},
   "source": [
    "# Explaratory Data Analysis "
   ]
  },
  {
   "cell_type": "markdown",
   "metadata": {},
   "source": [
    "### Exploring Citi Bike Trip Data"
   ]
  },
  {
   "cell_type": "code",
   "execution_count": 73,
   "metadata": {},
   "outputs": [],
   "source": [
    "# read the csv file\n",
    "df = pd.read_csv('./final_trip_data.csv')"
   ]
  },
  {
   "cell_type": "code",
   "execution_count": 19,
   "metadata": {},
   "outputs": [
    {
     "data": {
      "text/plain": [
       "Unnamed: 0               int64\n",
       "Unnamed: 0.1           float64\n",
       "tripduration             int64\n",
       "starttime               object\n",
       "stoptime                object\n",
       "start station name      object\n",
       "end station name        object\n",
       "usertype                object\n",
       "birth year             float64\n",
       "gender                   int64\n",
       "start_station_geoid    float64\n",
       "end_station_geoid      float64\n",
       "dtype: object"
      ]
     },
     "execution_count": 19,
     "metadata": {},
     "output_type": "execute_result"
    }
   ],
   "source": [
    "df.dtypes"
   ]
  },
  {
   "cell_type": "code",
   "execution_count": 20,
   "metadata": {},
   "outputs": [],
   "source": [
    "#transform to datetime object\n",
    "df['starttime']=pd.to_datetime(df['starttime'], format='%Y-%m-%d %H:%M:%S')"
   ]
  },
  {
   "cell_type": "code",
   "execution_count": 22,
   "metadata": {},
   "outputs": [],
   "source": [
    "df['stoptime']=pd.to_datetime(df['stoptime'], format='%Y-%m-%d %H:%M:%S')"
   ]
  },
  {
   "cell_type": "code",
   "execution_count": 23,
   "metadata": {},
   "outputs": [
    {
     "data": {
      "text/plain": [
       "Unnamed: 0                      int64\n",
       "Unnamed: 0.1                  float64\n",
       "tripduration                    int64\n",
       "starttime              datetime64[ns]\n",
       "stoptime               datetime64[ns]\n",
       "start station name             object\n",
       "end station name               object\n",
       "usertype                       object\n",
       "birth year                    float64\n",
       "gender                          int64\n",
       "start_station_geoid           float64\n",
       "end_station_geoid             float64\n",
       "dtype: object"
      ]
     },
     "execution_count": 23,
     "metadata": {},
     "output_type": "execute_result"
    }
   ],
   "source": [
    "df.dtypes"
   ]
  },
  {
   "cell_type": "code",
   "execution_count": null,
   "metadata": {},
   "outputs": [],
   "source": [
    "#drop columns where user's are subs"
   ]
  },
  {
   "cell_type": "markdown",
   "metadata": {},
   "source": [
    "##### Trips by time "
   ]
  },
  {
   "cell_type": "code",
   "execution_count": 24,
   "metadata": {},
   "outputs": [],
   "source": [
    "df['start hour']=df['starttime'].dt.hour.astype('category')\n",
    "df['start day']=df['starttime'].dt.day.astype('category') \n",
    "df['weekday']=df['starttime'].dt.weekday.astype('category')"
   ]
  },
  {
   "cell_type": "code",
   "execution_count": 71,
   "metadata": {},
   "outputs": [
    {
     "data": {
      "image/png": "[encoded data removed]",
      "text/plain": [
       "<Figure size 864x360 with 1 Axes>"
      ]
     },
     "metadata": {
      "needs_background": "light"
     },
     "output_type": "display_data"
    }
   ],
   "source": [
    "plt.figure(figsize=(12,5))\n",
    "time= sns.countplot(data=df, x=\"start hour\")\n",
    "plt.ticklabel_format(style='plain', axis='y')\n",
    "time.set(xlabel='Start Time', ylabel='Count',title=\"Start Time for Bikes During the Day\")\n",
    "plt.show()"
   ]
  },
  {
   "cell_type": "markdown",
   "metadata": {},
   "source": [
    "From this graph we can see that people tend to ride bikes mostly at 8-9am, and 4-7pm usual times when people commute from and to work. This graph was made excluding the weekends. "
   ]
  },
  {
   "cell_type": "markdown",
   "metadata": {},
   "source": [
    "##### Number of Trips Per Month"
   ]
  },
  {
   "cell_type": "code",
   "execution_count": 31,
   "metadata": {},
   "outputs": [],
   "source": [
    "df['months']=df['starttime'].dt.month.astype('category')"
   ]
  },
  {
   "cell_type": "code",
   "execution_count": 42,
   "metadata": {},
   "outputs": [
    {
     "data": {
      "image/png": "[encoded data removed]",
      "text/plain": [
       "<Figure size 864x360 with 1 Axes>"
      ]
     },
     "metadata": {
      "needs_background": "light"
     },
     "output_type": "display_data"
    }
   ],
   "source": [
    "\n",
    "plt.figure(figsize=(12,5))\n",
    "time= sns.countplot(data=df, x=\"months\");\n",
    "plt.ticklabel_format(style='plain', axis='y')\n",
    "time.set(xlabel='Months', ylabel='Count',title=\"Bike Rides by Month\")\n",
    "plt.show()"
   ]
  },
  {
   "cell_type": "markdown",
   "metadata": {},
   "source": [
    "From this we can see that in 2017, people ride bikes the most at times from April to October when the weather is warm"
   ]
  },
  {
   "cell_type": "markdown",
   "metadata": {},
   "source": [
    "##### Trip Duration Plot"
   ]
  },
  {
   "cell_type": "code",
   "execution_count": 8,
   "metadata": {},
   "outputs": [
    {
     "data": {
      "image/png": "[encoded data removed]",
      "text/plain": [
       "<Figure size 720x360 with 1 Axes>"
      ]
     },
     "metadata": {
      "needs_background": "light"
     },
     "output_type": "display_data"
    }
   ],
   "source": [
    "df['tripminutes'] = df['tripduration'] // 60\n",
    "sns.displot(data=df,x=\"tripminutes\", bins=range(1,61), aspect=10/5);"
   ]
  },
  {
   "cell_type": "markdown",
   "metadata": {},
   "source": [
    "For trip duration by minutes we get a right-skewed graph where most of the trip times don't exceed 20minutes. \n",
    "From this we can see that New York City bike-riders don't travel very far distances."
   ]
  },
  {
   "cell_type": "markdown",
   "metadata": {},
   "source": [
    "### Exploring Race and Income data and Stations data"
   ]
  },
  {
   "cell_type": "code",
   "execution_count": 5,
   "metadata": {},
   "outputs": [],
   "source": [
    "stations_geoid = pd.read_csv('data_cleaning/citbike_stations/citibike_stations_geoid_final.csv')"
   ]
  },
  {
   "cell_type": "code",
   "execution_count": 6,
   "metadata": {},
   "outputs": [],
   "source": [
    "race_and_income = pd.read_csv('data_cleaning/race_and_income/race_and_income_final.csv')"
   ]
  },
  {
   "cell_type": "markdown",
   "metadata": {},
   "source": [
    "Here I join the race_and_income table with the stations table on the geoid column. (Geoid is the unique identifier of a given census tract (region in NYC))"
   ]
  },
  {
   "cell_type": "code",
   "execution_count": 7,
   "metadata": {},
   "outputs": [],
   "source": [
    "combined_table = (stations_geoid.set_index('geoid')).join((race_and_income.set_index('geoid')),how='inner')"
   ]
  },
  {
   "cell_type": "code",
   "execution_count": 8,
   "metadata": {},
   "outputs": [],
   "source": [
    "combined_table['geoid'] = combined_table.index\n",
    "combined_table.reset_index(drop=True,inplace=True)"
   ]
  },
  {
   "cell_type": "code",
   "execution_count": 9,
   "metadata": {},
   "outputs": [
    {
     "data": {
      "text/plain": [
       "Index(['station_id', 'station_name', 'lat', 'lon', 'first_trip', 'last_trip',\n",
       "       'rides', '2017 median income', '2017 median income margin of error',\n",
       "       '2017 race: total households',\n",
       "       '2017 race: total households margin of error', '2017 race: White',\n",
       "       '2017 race: Black', '2017 race: Asian', '2017 race: Other',\n",
       "       '2017 race: 2 or more races', 'geoid'],\n",
       "      dtype='object')"
      ]
     },
     "execution_count": 9,
     "metadata": {},
     "output_type": "execute_result"
    }
   ],
   "source": [
    "combined_table.columns"
   ]
  },
  {
   "cell_type": "markdown",
   "metadata": {},
   "source": [
    "##### Summary Satistics of the race_and_income table and the stations table"
   ]
  },
  {
   "cell_type": "code",
   "execution_count": 7,
   "metadata": {
    "scrolled": true
   },
   "outputs": [
    {
     "data": {
      "text/html": [
       "<div>\n",
       "<style scoped>\n",
       "    .dataframe tbody tr th:only-of-type {\n",
       "        vertical-align: middle;\n",
       "    }\n",
       "\n",
       "    .dataframe tbody tr th {\n",
       "        vertical-align: top;\n",
       "    }\n",
       "\n",
       "    .dataframe thead th {\n",
       "        text-align: right;\n",
       "    }\n",
       "</style>\n",
       "<table border=\"1\" class=\"dataframe\">\n",
       "  <thead>\n",
       "    <tr style=\"text-align: right;\">\n",
       "      <th></th>\n",
       "      <th>station_id</th>\n",
       "      <th>lat</th>\n",
       "      <th>lon</th>\n",
       "      <th>rides</th>\n",
       "      <th>geoid</th>\n",
       "    </tr>\n",
       "  </thead>\n",
       "  <tbody>\n",
       "    <tr>\n",
       "      <th>count</th>\n",
       "      <td>839.000000</td>\n",
       "      <td>839.000000</td>\n",
       "      <td>839.000000</td>\n",
       "      <td>839.000000</td>\n",
       "      <td>8.390000e+02</td>\n",
       "    </tr>\n",
       "    <tr>\n",
       "      <th>mean</th>\n",
       "      <td>2194.866508</td>\n",
       "      <td>40.732725</td>\n",
       "      <td>-73.972622</td>\n",
       "      <td>96824.084625</td>\n",
       "      <td>3.605797e+10</td>\n",
       "    </tr>\n",
       "    <tr>\n",
       "      <th>std</th>\n",
       "      <td>1445.801651</td>\n",
       "      <td>0.039650</td>\n",
       "      <td>0.023913</td>\n",
       "      <td>110102.215903</td>\n",
       "      <td>9.827592e+06</td>\n",
       "    </tr>\n",
       "    <tr>\n",
       "      <th>min</th>\n",
       "      <td>72.000000</td>\n",
       "      <td>40.646538</td>\n",
       "      <td>-74.025353</td>\n",
       "      <td>124.000000</td>\n",
       "      <td>3.604700e+10</td>\n",
       "    </tr>\n",
       "    <tr>\n",
       "      <th>25%</th>\n",
       "      <td>431.500000</td>\n",
       "      <td>40.697945</td>\n",
       "      <td>-73.991102</td>\n",
       "      <td>17642.500000</td>\n",
       "      <td>3.604703e+10</td>\n",
       "    </tr>\n",
       "    <tr>\n",
       "      <th>50%</th>\n",
       "      <td>3124.000000</td>\n",
       "      <td>40.732233</td>\n",
       "      <td>-73.975739</td>\n",
       "      <td>50612.000000</td>\n",
       "      <td>3.606101e+10</td>\n",
       "    </tr>\n",
       "    <tr>\n",
       "      <th>75%</th>\n",
       "      <td>3401.500000</td>\n",
       "      <td>40.763154</td>\n",
       "      <td>-73.953847</td>\n",
       "      <td>147736.500000</td>\n",
       "      <td>3.606101e+10</td>\n",
       "    </tr>\n",
       "    <tr>\n",
       "      <th>max</th>\n",
       "      <td>3654.000000</td>\n",
       "      <td>40.814394</td>\n",
       "      <td>-73.907744</td>\n",
       "      <td>801965.000000</td>\n",
       "      <td>3.608102e+10</td>\n",
       "    </tr>\n",
       "  </tbody>\n",
       "</table>\n",
       "</div>"
      ],
      "text/plain": [
       "        station_id         lat         lon          rides         geoid\n",
       "count   839.000000  839.000000  839.000000     839.000000  8.390000e+02\n",
       "mean   2194.866508   40.732725  -73.972622   96824.084625  3.605797e+10\n",
       "std    1445.801651    0.039650    0.023913  110102.215903  9.827592e+06\n",
       "min      72.000000   40.646538  -74.025353     124.000000  3.604700e+10\n",
       "25%     431.500000   40.697945  -73.991102   17642.500000  3.604703e+10\n",
       "50%    3124.000000   40.732233  -73.975739   50612.000000  3.606101e+10\n",
       "75%    3401.500000   40.763154  -73.953847  147736.500000  3.606101e+10\n",
       "max    3654.000000   40.814394  -73.907744  801965.000000  3.608102e+10"
      ]
     },
     "execution_count": 7,
     "metadata": {},
     "output_type": "execute_result"
    }
   ],
   "source": [
    "stations_geoid.describe()"
   ]
  },
  {
   "cell_type": "code",
   "execution_count": 8,
   "metadata": {},
   "outputs": [
    {
     "data": {
      "text/html": [
       "<div>\n",
       "<style scoped>\n",
       "    .dataframe tbody tr th:only-of-type {\n",
       "        vertical-align: middle;\n",
       "    }\n",
       "\n",
       "    .dataframe tbody tr th {\n",
       "        vertical-align: top;\n",
       "    }\n",
       "\n",
       "    .dataframe thead th {\n",
       "        text-align: right;\n",
       "    }\n",
       "</style>\n",
       "<table border=\"1\" class=\"dataframe\">\n",
       "  <thead>\n",
       "    <tr style=\"text-align: right;\">\n",
       "      <th></th>\n",
       "      <th>geoid</th>\n",
       "      <th>2017 median income</th>\n",
       "      <th>2017 median income margin of error</th>\n",
       "      <th>2017 race: total households</th>\n",
       "      <th>2017 race: total households margin of error</th>\n",
       "      <th>2017 race: White</th>\n",
       "      <th>2017 race: Black</th>\n",
       "      <th>2017 race: Asian</th>\n",
       "      <th>2017 race: Other</th>\n",
       "      <th>2017 race: 2 or more races</th>\n",
       "    </tr>\n",
       "  </thead>\n",
       "  <tbody>\n",
       "    <tr>\n",
       "      <th>count</th>\n",
       "      <td>4.787000e+03</td>\n",
       "      <td>4787.000000</td>\n",
       "      <td>4787.000000</td>\n",
       "      <td>4787.000000</td>\n",
       "      <td>4787.000000</td>\n",
       "      <td>4787.000000</td>\n",
       "      <td>4787.000000</td>\n",
       "      <td>4787.000000</td>\n",
       "      <td>4787.000000</td>\n",
       "      <td>4787.000000</td>\n",
       "    </tr>\n",
       "    <tr>\n",
       "      <th>mean</th>\n",
       "      <td>3.606167e+10</td>\n",
       "      <td>68452.919783</td>\n",
       "      <td>12274.519323</td>\n",
       "      <td>4110.058283</td>\n",
       "      <td>361.894715</td>\n",
       "      <td>2623.683309</td>\n",
       "      <td>642.620639</td>\n",
       "      <td>343.286818</td>\n",
       "      <td>378.091289</td>\n",
       "      <td>122.376227</td>\n",
       "    </tr>\n",
       "    <tr>\n",
       "      <th>std</th>\n",
       "      <td>3.150101e+07</td>\n",
       "      <td>33577.801513</td>\n",
       "      <td>8163.393942</td>\n",
       "      <td>1919.727188</td>\n",
       "      <td>205.322620</td>\n",
       "      <td>1804.265041</td>\n",
       "      <td>1040.428579</td>\n",
       "      <td>607.656810</td>\n",
       "      <td>700.859938</td>\n",
       "      <td>148.342969</td>\n",
       "    </tr>\n",
       "    <tr>\n",
       "      <th>min</th>\n",
       "      <td>3.600100e+10</td>\n",
       "      <td>9053.000000</td>\n",
       "      <td>1034.000000</td>\n",
       "      <td>19.000000</td>\n",
       "      <td>10.000000</td>\n",
       "      <td>0.000000</td>\n",
       "      <td>0.000000</td>\n",
       "      <td>0.000000</td>\n",
       "      <td>0.000000</td>\n",
       "      <td>0.000000</td>\n",
       "    </tr>\n",
       "    <tr>\n",
       "      <th>25%</th>\n",
       "      <td>3.604702e+10</td>\n",
       "      <td>45774.000000</td>\n",
       "      <td>7009.500000</td>\n",
       "      <td>2711.500000</td>\n",
       "      <td>230.500000</td>\n",
       "      <td>1154.000000</td>\n",
       "      <td>44.000000</td>\n",
       "      <td>28.000000</td>\n",
       "      <td>29.000000</td>\n",
       "      <td>34.000000</td>\n",
       "    </tr>\n",
       "    <tr>\n",
       "      <th>50%</th>\n",
       "      <td>3.606101e+10</td>\n",
       "      <td>61951.000000</td>\n",
       "      <td>10399.000000</td>\n",
       "      <td>3844.000000</td>\n",
       "      <td>321.000000</td>\n",
       "      <td>2415.000000</td>\n",
       "      <td>178.000000</td>\n",
       "      <td>119.000000</td>\n",
       "      <td>114.000000</td>\n",
       "      <td>82.000000</td>\n",
       "    </tr>\n",
       "    <tr>\n",
       "      <th>75%</th>\n",
       "      <td>3.608110e+10</td>\n",
       "      <td>84862.500000</td>\n",
       "      <td>15224.000000</td>\n",
       "      <td>5154.000000</td>\n",
       "      <td>457.000000</td>\n",
       "      <td>3786.500000</td>\n",
       "      <td>792.500000</td>\n",
       "      <td>377.500000</td>\n",
       "      <td>374.000000</td>\n",
       "      <td>160.500000</td>\n",
       "    </tr>\n",
       "    <tr>\n",
       "      <th>max</th>\n",
       "      <td>3.612315e+10</td>\n",
       "      <td>248438.000000</td>\n",
       "      <td>119997.000000</td>\n",
       "      <td>28937.000000</td>\n",
       "      <td>2225.000000</td>\n",
       "      <td>14516.000000</td>\n",
       "      <td>17020.000000</td>\n",
       "      <td>7822.000000</td>\n",
       "      <td>7375.000000</td>\n",
       "      <td>3000.000000</td>\n",
       "    </tr>\n",
       "  </tbody>\n",
       "</table>\n",
       "</div>"
      ],
      "text/plain": [
       "              geoid  2017 median income  2017 median income margin of error  \\\n",
       "count  4.787000e+03         4787.000000                         4787.000000   \n",
       "mean   3.606167e+10        68452.919783                        12274.519323   \n",
       "std    3.150101e+07        33577.801513                         8163.393942   \n",
       "min    3.600100e+10         9053.000000                         1034.000000   \n",
       "25%    3.604702e+10        45774.000000                         7009.500000   \n",
       "50%    3.606101e+10        61951.000000                        10399.000000   \n",
       "75%    3.608110e+10        84862.500000                        15224.000000   \n",
       "max    3.612315e+10       248438.000000                       119997.000000   \n",
       "\n",
       "       2017 race: total households  \\\n",
       "count                  4787.000000   \n",
       "mean                   4110.058283   \n",
       "std                    1919.727188   \n",
       "min                      19.000000   \n",
       "25%                    2711.500000   \n",
       "50%                    3844.000000   \n",
       "75%                    5154.000000   \n",
       "max                   28937.000000   \n",
       "\n",
       "       2017 race: total households margin of error  2017 race: White  \\\n",
       "count                                  4787.000000       4787.000000   \n",
       "mean                                    361.894715       2623.683309   \n",
       "std                                     205.322620       1804.265041   \n",
       "min                                      10.000000          0.000000   \n",
       "25%                                     230.500000       1154.000000   \n",
       "50%                                     321.000000       2415.000000   \n",
       "75%                                     457.000000       3786.500000   \n",
       "max                                    2225.000000      14516.000000   \n",
       "\n",
       "       2017 race: Black  2017 race: Asian  2017 race: Other  \\\n",
       "count       4787.000000       4787.000000       4787.000000   \n",
       "mean         642.620639        343.286818        378.091289   \n",
       "std         1040.428579        607.656810        700.859938   \n",
       "min            0.000000          0.000000          0.000000   \n",
       "25%           44.000000         28.000000         29.000000   \n",
       "50%          178.000000        119.000000        114.000000   \n",
       "75%          792.500000        377.500000        374.000000   \n",
       "max        17020.000000       7822.000000       7375.000000   \n",
       "\n",
       "       2017 race: 2 or more races  \n",
       "count                 4787.000000  \n",
       "mean                   122.376227  \n",
       "std                    148.342969  \n",
       "min                      0.000000  \n",
       "25%                     34.000000  \n",
       "50%                     82.000000  \n",
       "75%                    160.500000  \n",
       "max                   3000.000000  "
      ]
     },
     "execution_count": 8,
     "metadata": {},
     "output_type": "execute_result"
    }
   ],
   "source": [
    "race_and_income.describe()"
   ]
  },
  {
   "cell_type": "markdown",
   "metadata": {},
   "source": [
    "##### Comaparing average income and race  between census tracts with the 10 most citibike stations vs census tracts with 1 station"
   ]
  },
  {
   "cell_type": "code",
   "execution_count": 9,
   "metadata": {
    "scrolled": true
   },
   "outputs": [],
   "source": [
    "geoid_top_10_most_stations = combined_table.groupby('geoid')['station_id']\n",
    "geoid_top_10_most_stations = geoid_top_10_most_stations.count().sort_values(ascending=False)[0:10].index #list of geoids containing the top 10 most stations"
   ]
  },
  {
   "cell_type": "code",
   "execution_count": 10,
   "metadata": {},
   "outputs": [],
   "source": [
    "geoid_one_station = combined_table.groupby('geoid')['station_id'].count() == 1\n",
    "geoid_one_station = geoid_one_station[geoid_one_station==True].index #list of geoids containing 1 station"
   ]
  },
  {
   "cell_type": "code",
   "execution_count": 11,
   "metadata": {},
   "outputs": [],
   "source": [
    "#data frame for race and income with only entries for geoids that have the top 10 most stations \n",
    "top_10_stations_geoid_race_income_df = race_and_income[race_and_income['geoid'].isin(geoid_top_10_most_stations)]\n",
    "#data frame for race and income with only entries for geoids that have one station\n",
    "one_station_geoid_race_income_df = race_and_income[race_and_income['geoid'].isin(geoid_one_station)]"
   ]
  },
  {
   "cell_type": "code",
   "execution_count": 12,
   "metadata": {},
   "outputs": [],
   "source": [
    "mean_income_in_top_10_locations = top_10_stations_geoid_race_income_df['2017 median income'].mean()\n",
    "mean_income_in_locations_w_one_station = one_station_geoid_race_income_df['2017 median income'].mean()"
   ]
  },
  {
   "cell_type": "code",
   "execution_count": 13,
   "metadata": {
    "scrolled": true
   },
   "outputs": [
    {
     "data": {
      "image/png": "[encoded data removed]",
      "text/plain": [
       "<Figure size 432x288 with 1 Axes>"
      ]
     },
     "metadata": {
      "needs_background": "light"
     },
     "output_type": "display_data"
    }
   ],
   "source": [
    "plt.bar(['census tracts with top 10 most stations','census tracts with 1 station'],[mean_income_in_top_10_locations,mean_income_in_locations_w_one_station])\n",
    "plt.ylabel('average income')\n",
    "plt.title('Average income in census tract locations with the 10 most stations vs locations with only one station')\n",
    "plt.tight_layout()\n",
    "plt.show()"
   ]
  },
  {
   "cell_type": "code",
   "execution_count": 14,
   "metadata": {
    "scrolled": false
   },
   "outputs": [
    {
     "data": {
      "image/png": "[encoded data removed]",
      "text/plain": [
       "<Figure size 432x288 with 1 Axes>"
      ]
     },
     "metadata": {},
     "output_type": "display_data"
    }
   ],
   "source": [
    "top_10_race_sum = top_10_stations_geoid_race_income_df[['2017 race: White','2017 race: Black','2017 race: Asian','2017 race: Other','2017 race: 2 or more races']].sum()\n",
    "mylabels = top_10_race_sum.index\n",
    "plt.pie(top_10_race_sum,labels=mylabels)\n",
    "plt.title('Racial distribution of households in the 10 census tracts with the most citibike stations')\n",
    "plt.show()"
   ]
  },
  {
   "cell_type": "code",
   "execution_count": 15,
   "metadata": {
    "scrolled": false
   },
   "outputs": [
    {
     "data": {
      "image/png": "[encoded data removed]",
      "text/plain": [
       "<Figure size 432x288 with 1 Axes>"
      ]
     },
     "metadata": {},
     "output_type": "display_data"
    }
   ],
   "source": [
    "one_station_geoid_race_sum = one_station_geoid_race_income_df[['2017 race: White','2017 race: Black','2017 race: Asian','2017 race: Other','2017 race: 2 or more races']].sum()\n",
    "mylabels = one_station_geoid_race_sum.index\n",
    "plt.pie(one_station_geoid_race_sum,labels=mylabels)\n",
    "plt.title('Racial distribution of households in the census tracts with only one citibike station')\n",
    "plt.show()"
   ]
  },
  {
   "cell_type": "markdown",
   "metadata": {},
   "source": [
    "From these results we see that the 10 locations with the most Citibike stations has a higher average income compared to the locations with only one citibike station. We also see that the locations that have a higher number of stations also have a much smaller proportion of Black households as seen by the much smaller Orange segment in the first piechart. Thus, we will explore this relationship between the number of stations in a given area and the race and income distribution of the area further in our project. "
   ]
  },
  {
   "cell_type": "markdown",
   "metadata": {},
   "source": [
    "##### Corelation between number of stations in a census tract, income, and race"
   ]
  },
  {
   "cell_type": "code",
   "execution_count": 16,
   "metadata": {},
   "outputs": [],
   "source": [
    "#produce a data frame with columns geoid, and the number of stations in that geoid\n",
    "geoid_station_count_df = combined_table.groupby('geoid')[['station_id']].count()\n",
    "geoid_station_count_df.rename(columns={'station_id':'num_stations_in_census_tract'},inplace=True)\n",
    "geoid_station_count_df.reset_index(inplace=True)"
   ]
  },
  {
   "cell_type": "code",
   "execution_count": 17,
   "metadata": {
    "scrolled": false
   },
   "outputs": [
    {
     "name": "stdout",
     "output_type": "stream",
     "text": [
      "Correlation between the number of stations in the census tract with the race and income data in that census tract \n",
      "\n"
     ]
    },
    {
     "data": {
      "text/html": [
       "<div>\n",
       "<style scoped>\n",
       "    .dataframe tbody tr th:only-of-type {\n",
       "        vertical-align: middle;\n",
       "    }\n",
       "\n",
       "    .dataframe tbody tr th {\n",
       "        vertical-align: top;\n",
       "    }\n",
       "\n",
       "    .dataframe thead th {\n",
       "        text-align: right;\n",
       "    }\n",
       "</style>\n",
       "<table border=\"1\" class=\"dataframe\">\n",
       "  <thead>\n",
       "    <tr style=\"text-align: right;\">\n",
       "      <th></th>\n",
       "      <th>num_stations_in_census_tract</th>\n",
       "    </tr>\n",
       "  </thead>\n",
       "  <tbody>\n",
       "    <tr>\n",
       "      <th>2017 median income</th>\n",
       "      <td>0.170209</td>\n",
       "    </tr>\n",
       "    <tr>\n",
       "      <th>2017 race: total households</th>\n",
       "      <td>0.068914</td>\n",
       "    </tr>\n",
       "    <tr>\n",
       "      <th>2017 race: White</th>\n",
       "      <td>0.110627</td>\n",
       "    </tr>\n",
       "    <tr>\n",
       "      <th>2017 race: Black</th>\n",
       "      <td>-0.128923</td>\n",
       "    </tr>\n",
       "    <tr>\n",
       "      <th>2017 race: Asian</th>\n",
       "      <td>0.105689</td>\n",
       "    </tr>\n",
       "    <tr>\n",
       "      <th>2017 race: Other</th>\n",
       "      <td>-0.052208</td>\n",
       "    </tr>\n",
       "    <tr>\n",
       "      <th>2017 race: 2 or more races</th>\n",
       "      <td>0.080225</td>\n",
       "    </tr>\n",
       "    <tr>\n",
       "      <th>num_stations_in_census_tract</th>\n",
       "      <td>1.000000</td>\n",
       "    </tr>\n",
       "  </tbody>\n",
       "</table>\n",
       "</div>"
      ],
      "text/plain": [
       "                              num_stations_in_census_tract\n",
       "2017 median income                                0.170209\n",
       "2017 race: total households                       0.068914\n",
       "2017 race: White                                  0.110627\n",
       "2017 race: Black                                 -0.128923\n",
       "2017 race: Asian                                  0.105689\n",
       "2017 race: Other                                 -0.052208\n",
       "2017 race: 2 or more races                        0.080225\n",
       "num_stations_in_census_tract                      1.000000"
      ]
     },
     "execution_count": 17,
     "metadata": {},
     "output_type": "execute_result"
    }
   ],
   "source": [
    "race_and_income_station_count_df= race_and_income.set_index('geoid').join(geoid_station_count_df.set_index('geoid'),how='inner')\n",
    "print('Correlation between the number of stations in the census tract with the race and income data in that census tract \\n')\n",
    "race_and_income_station_count_df[['2017 median income','2017 race: total households','2017 race: White',\n",
    "       '2017 race: Black', '2017 race: Asian', '2017 race: Other',\n",
    "       '2017 race: 2 or more races', 'num_stations_in_census_tract']].corr()[['num_stations_in_census_tract']]"
   ]
  },
  {
   "cell_type": "markdown",
   "metadata": {},
   "source": [
    "From these results we see that there is a positive corelation of 0.17 between the number of stations in a census tract and the median income in the census tract. This means that as the number of stations in a given area increases, the median income of the area also seems to increase. Furthermore, there is a negative correlation between the number of black households in a given area and the number of Citibike stations in this area. These two findings relate well to the findings above, as it indicates that the greater the number of Citibike stations in a given area the higher the avaerage income in the area and the lower the number of Black households. "
   ]
  },
  {
   "cell_type": "markdown",
   "metadata": {},
   "source": [
    "# Questions for Reviewers"
   ]
  },
  {
   "cell_type": "code",
   "execution_count": null,
   "metadata": {},
   "outputs": [],
   "source": []
  }
 ],
 "metadata": {
  "kernelspec": {
   "display_name": "Python 3",
   "language": "python",
   "name": "python3"
  },
  "language_info": {
   "codemirror_mode": {
    "name": "ipython",
    "version": 3
   },
   "file_extension": ".py",
   "mimetype": "text/x-python",
   "name": "python",
   "nbconvert_exporter": "python",
   "pygments_lexer": "ipython3",
   "version": "3.8.5"
  }
 },
 "nbformat": 4,
 "nbformat_minor": 4
}
