{
 "cells": [
  {
   "cell_type": "markdown",
   "metadata": {},
   "source": [
    "# Project Phase II :  Citibike Data Analysis \n",
    "\n",
    "\n",
    "This project aims to answer the question \n",
    " **\"How inclusive / representitive is Citi Bike of New York City Demographics?\"** in answering this question we look at three datasets. This notebook contains the initial **Data Collecting & Cleaning & Exploratory Analysis**\n",
    "\n",
    "#### Team Members \n",
    "- Seonghee Lee (sl994) \n",
    "- Nicholas Rahardja (nmr73)\n",
    "- Chelsea Choi (cc2583)\n",
    "\n",
    "#### Team Github\n",
    "- https://github.com/shljessie/citibike-nyc\n",
    "\n",
    "#### Team Raw Data Google Drive \n",
    "- https://drive.google.com/drive/folders/197_d1BwPHXmVuyKA6I7UEyEw4Nqo8dAk\n",
    "\n",
    " \n",
    " \n",
    "<br/> \n",
    "\n",
    "_______________"
   ]
  },
  {
   "cell_type": "markdown",
   "metadata": {},
   "source": [
    "\n",
    "## Contents of this Notebook\n",
    "\n",
    "1. Research Questions\n",
    "2. Data Collecting & Cleaning\n",
    "3. Data Description\n",
    "4. Data Limitations\n",
    "5. Data Exploratory Analysis\n",
    "6. Questions for Reviewers\n",
    "\n"
   ]
  },
  {
   "cell_type": "markdown",
   "metadata": {},
   "source": [
    "<br/>\n",
    "\n",
    "_______________\n",
    "\n",
    "# Research Question "
   ]
  },
  {
   "cell_type": "markdown",
   "metadata": {},
   "source": [
    "\n",
    "\n",
    "#### How inclusive / representative is Citi Bike of New York City Demographics? \n",
    "\n",
    "    - How inclusive are Citbike stations in NYC? \n",
    "    - How well does citbike station locations correspond with usage? \n",
    "    - Who does Citibike actually serve?\n",
    "    \n",
    "**Limitations/Disclaimer:** \n",
    "This project was done on NYC citibike trip data in 2017 \n",
    "\n",
    "    \n",
    "#### Explanation    \n",
    "\n",
    "Bike Sharing comes with many benefits such as providing free or affordable access to bicycles for short-distance trips in an urban area and reducing congestion, noise, and air pollution. \n",
    "\n",
    "However whether or not these bike sharing systems are truly accessible for all is questionable. Since the accessibility of these bike sharing systems depend heavily on where the stations are located, it is very likely that where you live becomes the deciding factor in whether or not you will be able to use these bikes. \n",
    "\n",
    "In coming up with our research question looked at many research papers on bike sharing system equity. \n",
    "For example, in a [research done by Portland State University](https://trec.pdx.edu/research/project/884) suggests that there is evidence that significant portions of the population are underrepresented among bike share users, including people of color, along with lower-income, female, older adults and less-educated groups. A [article in 2017](https://usa.streetsblog.org/2017/07/05/whats-keeping-people-from-using-bike-share-new-study-breaks-it-down-by-race-and-income/) finds that this may be due to the fact that these low-income communities and people of color view traffic risk, high prices, and the potential for crime and harassment are the biggest barriers to bicycling and using bike-share in their neighborhoods. There has also been [data visualization research in MIT](https://aberke.github.io/income-race-bikes/) about how bikes are being distributed in NYC throughout the years in accordance to race&income.\n",
    "\n",
    "In this project we look into how citibike stations are distributed in NYC and how that relates to factors: 1) race&income and  2) citibike usage. Is there more stations in areas of higher usage regardless of race and income? Or does race and income seem to have an unignorable correlation to how citibike stations are being distributed? How much of these factors play into the distribution of citibike? How might citibike station distribution be improved? These are the questions we will ask and attempt to answer throughout this project.\n",
    " \n",
    "We are specificially looking at **NYC citibike trip data in 2017 as a sample** of the representation of NYC bike stations around New York. We chose New York City's citibike system since New York City is an area where there are widely varying levels of income. We chose 2017 for two reasons,    1) NYC's race and income data was avaiable for the years 2013 -2018 and 2) 2017 was a year when many new stations of citibike where added to represent its overall usage.\n",
    "We decided that 2017 would be a fair representation of how citibike stations were distributed throughout NYC.\n"
   ]
  },
  {
   "cell_type": "markdown",
   "metadata": {},
   "source": [
    "<br/>\n",
    "\n",
    "_______________\n",
    "\n",
    "# Data Collection and Cleaning "
   ]
  },
  {
   "cell_type": "markdown",
   "metadata": {},
   "source": [
    "## Citibike Trip Data"
   ]
  },
  {
   "cell_type": "markdown",
   "metadata": {},
   "source": [
    "We collected our 2017 citibike trip data from https://s3.amazonaws.com/tripdata/index.html . \n",
    "Our Citibike Trip data cleaning consisted of 2 steps.\n",
    "\n",
    "#### Part 1.  Cleaning Raw Trip data by Month\n",
    "\n",
    "- We divided the 12 months into 3 and analyzed 4months each. In this step, we added the geoid to the citibike month data.\n",
    "- How we divided the months: [Jan - April], [May- August], [Sep- December]\n",
    "- We also dropped the columns : \n",
    "[ 'start station latitude','start station longitude','end station latitude', 'end station longitude', 'bikeid'] \n",
    "\n",
    "#### Part 2.  Combining the Months Together\n",
    "\n",
    "- In this step we combined all the trip data together and cleaned up the data as below\n",
    "\n",
    "\n",
    "1. Filtering mistakes we made in the Part 1 Process (Cleaning Raw Trip data by Month)\n",
    "\n",
    "2. Combinined all the Months together\n",
    "\n",
    "3. Coverting starttime+ stoptime to datetime objects \n",
    "\n",
    "4. User Filtering to Include only Subscribers\n",
    "\n",
    "5. Dropping rows where start and end stations are the same \n",
    "\n",
    "6. Dropping rows where trip durations exceed 3 hours\n",
    "\n",
    "7. Checking Missing values in columns\n",
    "\n",
    "\n",
    "\n",
    "### Part 1 - Cleaning Raw Trip data by Month\n",
    "\n",
    "Since the code we used to clean the data is mostly the same, \n",
    "**we will display the june cleaning as a representive for the initial process of the cleaning data.**"
   ]
  },
  {
   "cell_type": "code",
   "execution_count": 1,
   "metadata": {},
   "outputs": [],
   "source": [
    "import pandas as pd \n",
    "import numpy as np\n",
    "import requests\n",
    "import urllib\n",
    "import matplotlib.pyplot as plt \n",
    "import datetime as dt"
   ]
  },
  {
   "cell_type": "markdown",
   "metadata": {},
   "source": [
    "### June"
   ]
  },
  {
   "cell_type": "code",
   "execution_count": 12,
   "metadata": {},
   "outputs": [],
   "source": [
    "#June\n",
    "june_raw = pd.read_csv('./201706-citibike-tripdata.csv')"
   ]
  },
  {
   "cell_type": "code",
   "execution_count": 41,
   "metadata": {},
   "outputs": [
    {
     "data": {
      "text/plain": [
       "Index(['tripduration', 'starttime', 'stoptime', 'start station id',\n",
       "       'start station name', 'start station latitude',\n",
       "       'start station longitude', 'end station id', 'end station name',\n",
       "       'end station latitude', 'end station longitude', 'bikeid', 'usertype',\n",
       "       'birth year', 'gender'],\n",
       "      dtype='object')"
      ]
     },
     "execution_count": 41,
     "metadata": {},
     "output_type": "execute_result"
    }
   ],
   "source": [
    "june_raw.columns"
   ]
  },
  {
   "cell_type": "markdown",
   "metadata": {},
   "source": [
    "#### Read Stations csv file"
   ]
  },
  {
   "cell_type": "code",
   "execution_count": 42,
   "metadata": {},
   "outputs": [
    {
     "data": {
      "text/html": [
       "<div>\n",
       "<style scoped>\n",
       "    .dataframe tbody tr th:only-of-type {\n",
       "        vertical-align: middle;\n",
       "    }\n",
       "\n",
       "    .dataframe tbody tr th {\n",
       "        vertical-align: top;\n",
       "    }\n",
       "\n",
       "    .dataframe thead th {\n",
       "        text-align: right;\n",
       "    }\n",
       "</style>\n",
       "<table border=\"1\" class=\"dataframe\">\n",
       "  <thead>\n",
       "    <tr style=\"text-align: right;\">\n",
       "      <th></th>\n",
       "      <th>Unnamed: 0</th>\n",
       "      <th>id</th>\n",
       "      <th>name</th>\n",
       "      <th>lat</th>\n",
       "      <th>lon</th>\n",
       "      <th>first</th>\n",
       "      <th>last</th>\n",
       "      <th>rides</th>\n",
       "      <th>geoid</th>\n",
       "    </tr>\n",
       "  </thead>\n",
       "  <tbody>\n",
       "    <tr>\n",
       "      <th>0</th>\n",
       "      <td>0</td>\n",
       "      <td>254.0</td>\n",
       "      <td>W 11 St &amp; 6 Ave</td>\n",
       "      <td>40.735324</td>\n",
       "      <td>-73.998004</td>\n",
       "      <td>2013-06-01</td>\n",
       "      <td>2019-07-31</td>\n",
       "      <td>168076</td>\n",
       "      <td>36061006300</td>\n",
       "    </tr>\n",
       "    <tr>\n",
       "      <th>1</th>\n",
       "      <td>1</td>\n",
       "      <td>151.0</td>\n",
       "      <td>Cleveland Pl &amp; Spring St</td>\n",
       "      <td>40.721816</td>\n",
       "      <td>-73.997203</td>\n",
       "      <td>2013-06-01</td>\n",
       "      <td>2019-07-31</td>\n",
       "      <td>445639</td>\n",
       "      <td>36061004100</td>\n",
       "    </tr>\n",
       "    <tr>\n",
       "      <th>2</th>\n",
       "      <td>2</td>\n",
       "      <td>352.0</td>\n",
       "      <td>W 56 St &amp; 6 Ave</td>\n",
       "      <td>40.763406</td>\n",
       "      <td>-73.977225</td>\n",
       "      <td>2013-06-01</td>\n",
       "      <td>2016-12-31</td>\n",
       "      <td>122203</td>\n",
       "      <td>36061010400</td>\n",
       "    </tr>\n",
       "    <tr>\n",
       "      <th>3</th>\n",
       "      <td>3</td>\n",
       "      <td>490.0</td>\n",
       "      <td>8 Ave &amp; W 33 St</td>\n",
       "      <td>40.751551</td>\n",
       "      <td>-73.993934</td>\n",
       "      <td>2013-06-01</td>\n",
       "      <td>2019-07-31</td>\n",
       "      <td>480463</td>\n",
       "      <td>36061010300</td>\n",
       "    </tr>\n",
       "    <tr>\n",
       "      <th>4</th>\n",
       "      <td>4</td>\n",
       "      <td>236.0</td>\n",
       "      <td>St Marks Pl &amp; 2 Ave</td>\n",
       "      <td>40.728419</td>\n",
       "      <td>-73.987140</td>\n",
       "      <td>2013-06-01</td>\n",
       "      <td>2019-07-31</td>\n",
       "      <td>292217</td>\n",
       "      <td>36061003800</td>\n",
       "    </tr>\n",
       "  </tbody>\n",
       "</table>\n",
       "</div>"
      ],
      "text/plain": [
       "   Unnamed: 0     id                      name        lat        lon  \\\n",
       "0           0  254.0           W 11 St & 6 Ave  40.735324 -73.998004   \n",
       "1           1  151.0  Cleveland Pl & Spring St  40.721816 -73.997203   \n",
       "2           2  352.0           W 56 St & 6 Ave  40.763406 -73.977225   \n",
       "3           3  490.0           8 Ave & W 33 St  40.751551 -73.993934   \n",
       "4           4  236.0       St Marks Pl & 2 Ave  40.728419 -73.987140   \n",
       "\n",
       "        first        last   rides        geoid  \n",
       "0  2013-06-01  2019-07-31  168076  36061006300  \n",
       "1  2013-06-01  2019-07-31  445639  36061004100  \n",
       "2  2013-06-01  2016-12-31  122203  36061010400  \n",
       "3  2013-06-01  2019-07-31  480463  36061010300  \n",
       "4  2013-06-01  2019-07-31  292217  36061003800  "
      ]
     },
     "execution_count": 42,
     "metadata": {},
     "output_type": "execute_result"
    }
   ],
   "source": [
    "st_geo_id = pd.read_csv('../citbike stations/citibike_stations_geoid.csv')\n",
    "st_geo_id.head()"
   ]
  },
  {
   "cell_type": "markdown",
   "metadata": {},
   "source": [
    "We are calling in the station_geo_id data to join the geo id from the station data to raw may data"
   ]
  },
  {
   "cell_type": "code",
   "execution_count": 43,
   "metadata": {},
   "outputs": [
    {
     "data": {
      "text/plain": [
       "(1523268, 12)"
      ]
     },
     "execution_count": 43,
     "metadata": {},
     "output_type": "execute_result"
    }
   ],
   "source": [
    "# Matching the geoids to the start station ID \n",
    "new_data = june_raw.join(st_geo_id.set_index(['id']), on=['start station id'], how='left').copy()\n",
    "\n",
    "# Changing the column to start station geo ID\n",
    "new_data.rename(columns = {'geoid': 'start_station_geoid'}, inplace = True)\n",
    "\n",
    "# Dropping the columns carried over from station ID\n",
    "new_data = new_data.drop(['Unnamed: 0', 'name', 'lat', 'lon', 'first', 'last', 'rides'], axis = 1).copy()\n",
    "\n",
    "# Matching the geoids to the end station ID\n",
    "new_data = new_data.join(st_geo_id.set_index(['id']), on=['end station id'], how='left').copy()\n",
    "new_data = new_data.drop(['Unnamed: 0', 'name', 'lat', 'lon', 'first', 'last', 'rides'], axis = 1).copy()\n",
    "new_data.rename(columns = {'geoid': 'end_station_geoid'}, inplace = True)\n",
    "\n",
    "# Making all columns lower case\n",
    "new_data.columns = map(str.lower, new_data.columns)\n",
    "\n",
    "# Dropping columns we're not going to use\n",
    "new_data = new_data.drop(['start station latitude','start station longitude','end station latitude', 'end station longitude', 'bikeid'], axis = 1).copy()\n",
    "new_data.shape"
   ]
  },
  {
   "cell_type": "code",
   "execution_count": 45,
   "metadata": {},
   "outputs": [
    {
     "data": {
      "text/plain": [
       "Index(['tripduration', 'starttime', 'stoptime', 'start station id',\n",
       "       'start station name', 'end station id', 'end station name', 'usertype',\n",
       "       'birth year', 'gender', 'start_station_geoid', 'end_station_geoid'],\n",
       "      dtype='object')"
      ]
     },
     "execution_count": 45,
     "metadata": {},
     "output_type": "execute_result"
    }
   ],
   "source": [
    "june_final = new_data\n",
    "june_final.columns"
   ]
  },
  {
   "cell_type": "code",
   "execution_count": 51,
   "metadata": {},
   "outputs": [
    {
     "data": {
      "text/html": [
       "<div>\n",
       "<style scoped>\n",
       "    .dataframe tbody tr th:only-of-type {\n",
       "        vertical-align: middle;\n",
       "    }\n",
       "\n",
       "    .dataframe tbody tr th {\n",
       "        vertical-align: top;\n",
       "    }\n",
       "\n",
       "    .dataframe thead th {\n",
       "        text-align: right;\n",
       "    }\n",
       "</style>\n",
       "<table border=\"1\" class=\"dataframe\">\n",
       "  <thead>\n",
       "    <tr style=\"text-align: right;\">\n",
       "      <th></th>\n",
       "      <th>tripduration</th>\n",
       "      <th>starttime</th>\n",
       "      <th>stoptime</th>\n",
       "      <th>start station id</th>\n",
       "      <th>start station name</th>\n",
       "      <th>end station id</th>\n",
       "      <th>end station name</th>\n",
       "      <th>usertype</th>\n",
       "      <th>birth year</th>\n",
       "      <th>gender</th>\n",
       "      <th>start_station_geoid</th>\n",
       "      <th>end_station_geoid</th>\n",
       "    </tr>\n",
       "  </thead>\n",
       "  <tbody>\n",
       "    <tr>\n",
       "      <th>0</th>\n",
       "      <td>1397</td>\n",
       "      <td>2017-06-01 00:00:02</td>\n",
       "      <td>2017-06-01 00:23:19</td>\n",
       "      <td>515</td>\n",
       "      <td>W 43 St &amp; 10 Ave</td>\n",
       "      <td>3285</td>\n",
       "      <td>W 87 St  &amp; Amsterdam Ave</td>\n",
       "      <td>Subscriber</td>\n",
       "      <td>1967.0</td>\n",
       "      <td>1</td>\n",
       "      <td>3.606101e+10</td>\n",
       "      <td>3.606102e+10</td>\n",
       "    </tr>\n",
       "    <tr>\n",
       "      <th>1</th>\n",
       "      <td>1103</td>\n",
       "      <td>2017-06-01 00:00:13</td>\n",
       "      <td>2017-06-01 00:18:37</td>\n",
       "      <td>488</td>\n",
       "      <td>W 39 St &amp; 9 Ave</td>\n",
       "      <td>297</td>\n",
       "      <td>E 15 St &amp; 3 Ave</td>\n",
       "      <td>Subscriber</td>\n",
       "      <td>1981.0</td>\n",
       "      <td>1</td>\n",
       "      <td>3.606101e+10</td>\n",
       "      <td>3.606100e+10</td>\n",
       "    </tr>\n",
       "    <tr>\n",
       "      <th>2</th>\n",
       "      <td>1810</td>\n",
       "      <td>2017-06-01 00:00:20</td>\n",
       "      <td>2017-06-01 00:30:31</td>\n",
       "      <td>461</td>\n",
       "      <td>E 20 St &amp; 2 Ave</td>\n",
       "      <td>465</td>\n",
       "      <td>Broadway &amp; W 41 St</td>\n",
       "      <td>Subscriber</td>\n",
       "      <td>1982.0</td>\n",
       "      <td>1</td>\n",
       "      <td>3.606101e+10</td>\n",
       "      <td>3.606101e+10</td>\n",
       "    </tr>\n",
       "    <tr>\n",
       "      <th>3</th>\n",
       "      <td>1760</td>\n",
       "      <td>2017-06-01 00:00:24</td>\n",
       "      <td>2017-06-01 00:29:45</td>\n",
       "      <td>2009</td>\n",
       "      <td>Catherine St &amp; Monroe St</td>\n",
       "      <td>527</td>\n",
       "      <td>E 33 St &amp; 2 Ave</td>\n",
       "      <td>Subscriber</td>\n",
       "      <td>1973.0</td>\n",
       "      <td>2</td>\n",
       "      <td>3.606100e+10</td>\n",
       "      <td>3.606101e+10</td>\n",
       "    </tr>\n",
       "    <tr>\n",
       "      <th>4</th>\n",
       "      <td>2165</td>\n",
       "      <td>2017-06-01 00:00:33</td>\n",
       "      <td>2017-06-01 00:36:38</td>\n",
       "      <td>360</td>\n",
       "      <td>William St &amp; Pine St</td>\n",
       "      <td>474</td>\n",
       "      <td>5 Ave &amp; E 29 St</td>\n",
       "      <td>Subscriber</td>\n",
       "      <td>1985.0</td>\n",
       "      <td>1</td>\n",
       "      <td>3.606100e+10</td>\n",
       "      <td>3.606101e+10</td>\n",
       "    </tr>\n",
       "  </tbody>\n",
       "</table>\n",
       "</div>"
      ],
      "text/plain": [
       "   tripduration            starttime             stoptime  start station id  \\\n",
       "0          1397  2017-06-01 00:00:02  2017-06-01 00:23:19               515   \n",
       "1          1103  2017-06-01 00:00:13  2017-06-01 00:18:37               488   \n",
       "2          1810  2017-06-01 00:00:20  2017-06-01 00:30:31               461   \n",
       "3          1760  2017-06-01 00:00:24  2017-06-01 00:29:45              2009   \n",
       "4          2165  2017-06-01 00:00:33  2017-06-01 00:36:38               360   \n",
       "\n",
       "         start station name  end station id          end station name  \\\n",
       "0          W 43 St & 10 Ave            3285  W 87 St  & Amsterdam Ave   \n",
       "1           W 39 St & 9 Ave             297           E 15 St & 3 Ave   \n",
       "2           E 20 St & 2 Ave             465        Broadway & W 41 St   \n",
       "3  Catherine St & Monroe St             527           E 33 St & 2 Ave   \n",
       "4      William St & Pine St             474           5 Ave & E 29 St   \n",
       "\n",
       "     usertype  birth year  gender  start_station_geoid  end_station_geoid  \n",
       "0  Subscriber      1967.0       1         3.606101e+10       3.606102e+10  \n",
       "1  Subscriber      1981.0       1         3.606101e+10       3.606100e+10  \n",
       "2  Subscriber      1982.0       1         3.606101e+10       3.606101e+10  \n",
       "3  Subscriber      1973.0       2         3.606100e+10       3.606101e+10  \n",
       "4  Subscriber      1985.0       1         3.606100e+10       3.606101e+10  "
      ]
     },
     "execution_count": 51,
     "metadata": {},
     "output_type": "execute_result"
    }
   ],
   "source": [
    "june_final.head()"
   ]
  },
  {
   "cell_type": "markdown",
   "metadata": {},
   "source": [
    "#### Save to csv"
   ]
  },
  {
   "cell_type": "code",
   "execution_count": 46,
   "metadata": {},
   "outputs": [],
   "source": [
    "june_final = june_final.to_csv('./june_final.csv')"
   ]
  },
  {
   "cell_type": "markdown",
   "metadata": {},
   "source": [
    "**For this step we repeated this process for all the 12 months.**"
   ]
  },
  {
   "cell_type": "markdown",
   "metadata": {},
   "source": [
    "### Part 2. Combining the citibike data by month\n"
   ]
  },
  {
   "cell_type": "markdown",
   "metadata": {},
   "source": [
    "In this step, we called in all the citibike data by month and combined the 12 months together"
   ]
  },
  {
   "cell_type": "code",
   "execution_count": 71,
   "metadata": {},
   "outputs": [],
   "source": [
    "# call in all the citibike data by month\n",
    "jan_raw = pd.read_csv('./final/jan_final.csv')\n",
    "feb_raw = pd.read_csv('./final/feb_final.csv')\n",
    "march_raw = pd.read_csv('./final/march_final.csv')\n",
    "april_raw = pd.read_csv('./final/april_final.csv')\n",
    "may_raw = pd.read_csv('./final/may_final.csv')\n",
    "june_raw = pd.read_csv('./final/june_final.csv')\n",
    "july_raw = pd.read_csv('./final/july_final.csv')\n",
    "august_raw = pd.read_csv('./final/august_final.csv')\n",
    "sep_raw = pd.read_csv('./final/sep.csv')\n",
    "oct_raw = pd.read_csv('./final/oct.csv')\n",
    "nov_raw = pd.read_csv('./final/nov.csv')\n",
    "dec_raw = pd.read_csv('./final/dec.csv')"
   ]
  },
  {
   "cell_type": "markdown",
   "metadata": {},
   "source": [
    "<br/>\n",
    "\n",
    "#### 1. Filtering mistakes we made in the Part 1 Process (Cleaning Raw Trip data by Month)"
   ]
  },
  {
   "cell_type": "markdown",
   "metadata": {},
   "source": [
    "##### Checking we did the separate data cleaning process identically"
   ]
  },
  {
   "cell_type": "code",
   "execution_count": 81,
   "metadata": {},
   "outputs": [
    {
     "data": {
      "text/plain": [
       "Index(['Unnamed: 0', 'tripduration', 'starttime', 'stoptime',\n",
       "       'start station id', 'start station name', 'end station id',\n",
       "       'end station name', 'usertype', 'birth year', 'gender',\n",
       "       'start_station_geoid', 'end_station_geoid'],\n",
       "      dtype='object')"
      ]
     },
     "execution_count": 81,
     "metadata": {},
     "output_type": "execute_result"
    }
   ],
   "source": [
    "#looking at the columns for jan-april group jan representative\n",
    "jan_raw.columns"
   ]
  },
  {
   "cell_type": "code",
   "execution_count": 82,
   "metadata": {},
   "outputs": [
    {
     "data": {
      "text/plain": [
       "Index(['Unnamed: 0', 'tripduration', 'starttime', 'stoptime',\n",
       "       'start station id', 'start station name', 'end station id',\n",
       "       'end station name', 'usertype', 'birth year', 'gender',\n",
       "       'start_station_geoid', 'end_station_geoid'],\n",
       "      dtype='object')"
      ]
     },
     "execution_count": 82,
     "metadata": {},
     "output_type": "execute_result"
    }
   ],
   "source": [
    "#looking at the columns for may-august group may representative\n",
    "may_raw.columns"
   ]
  },
  {
   "cell_type": "code",
   "execution_count": 83,
   "metadata": {},
   "outputs": [
    {
     "data": {
      "text/plain": [
       "Index(['tripduration', 'starttime', 'stoptime', 'start station name',\n",
       "       'end station name', 'usertype', 'birth year', 'gender',\n",
       "       'start_station_geoid', 'end_station_geoid'],\n",
       "      dtype='object')"
      ]
     },
     "execution_count": 83,
     "metadata": {},
     "output_type": "execute_result"
    }
   ],
   "source": [
    "#looking at the columns for sep-dec group December representative\n",
    "dec_raw.columns"
   ]
  },
  {
   "cell_type": "markdown",
   "metadata": {},
   "source": [
    "\n",
    "\n",
    "<br/>\n",
    "\n",
    "**Different Column Names Found**\n",
    "\n",
    "For Jan - April the columns are named ['start time' 'stop time' 'trip duration''user type'] while for May-Dec the columns are named ['starttime' 'stoptime''tripduration''usertype'].\n",
    "I will clean the Jan-April data so that the columns are ['starttime' 'stoptime' 'tripduration'' usertype'].  \n",
    "(Without the space in between)"
   ]
  },
  {
   "cell_type": "code",
   "execution_count": 84,
   "metadata": {},
   "outputs": [],
   "source": [
    "# renaming the columns for jan-april months\n",
    "jan_raw = jan_raw.rename(columns={'start time': 'starttime', 'stop time': 'stoptime', 'trip duration': 'tripduration','user type': 'usertype'})"
   ]
  },
  {
   "cell_type": "code",
   "execution_count": 85,
   "metadata": {},
   "outputs": [],
   "source": [
    "feb_raw = feb_raw.rename(columns={'start time': 'starttime', 'stop time': 'stoptime', 'trip duration': 'tripduration','user type': 'usertype'})"
   ]
  },
  {
   "cell_type": "code",
   "execution_count": 86,
   "metadata": {},
   "outputs": [],
   "source": [
    "march_raw = march_raw.rename(columns={'start time': 'starttime', 'stop time': 'stoptime', 'trip duration': 'tripduration','user type': 'usertype'})"
   ]
  },
  {
   "cell_type": "code",
   "execution_count": 87,
   "metadata": {},
   "outputs": [],
   "source": [
    "april_raw = april_raw.rename(columns={'start time': 'starttime', 'stop time': 'stoptime', 'trip duration': 'tripduration','user type': 'usertype'})"
   ]
  },
  {
   "cell_type": "markdown",
   "metadata": {},
   "source": [
    "<br/>\n",
    "\n",
    "#### 2. Combine all the months together"
   ]
  },
  {
   "cell_type": "markdown",
   "metadata": {},
   "source": [
    "In this step we will combine all of the citibike trip data together. \n",
    "We cleaned and added geoid data of 4months each. "
   ]
  },
  {
   "cell_type": "code",
   "execution_count": 88,
   "metadata": {},
   "outputs": [],
   "source": [
    "# concatenating the list of dataframes together\n",
    "frames = [jan_raw,feb_raw, march_raw, april_raw, may_raw, june_raw ,july_raw,august_raw ,sep_raw ,oct_raw,nov_raw,dec_raw]\n",
    "result = pd.concat(frames,ignore_index=True)"
   ]
  },
  {
   "cell_type": "code",
   "execution_count": 89,
   "metadata": {},
   "outputs": [
    {
     "data": {
      "text/plain": [
       "Index(['Unnamed: 0', 'tripduration', 'starttime', 'stoptime',\n",
       "       'start station id', 'start station name', 'end station id',\n",
       "       'end station name', 'usertype', 'birth year', 'gender',\n",
       "       'start_station_geoid', 'end_station_geoid'],\n",
       "      dtype='object')"
      ]
     },
     "execution_count": 89,
     "metadata": {},
     "output_type": "execute_result"
    }
   ],
   "source": [
    "result.columns"
   ]
  },
  {
   "cell_type": "code",
   "execution_count": 93,
   "metadata": {},
   "outputs": [
    {
     "data": {
      "text/plain": [
       "Unnamed: 0                                     NaN\n",
       "tripduration                                   881\n",
       "starttime                      2017-09-29 07:56:25\n",
       "stoptime                       2017-09-29 08:11:06\n",
       "start station id                               NaN\n",
       "start station name           Pershing Square South\n",
       "end station id                                 NaN\n",
       "end station name       Greenwich St & W Houston St\n",
       "usertype                                Subscriber\n",
       "birth year                                    1966\n",
       "gender                                           1\n",
       "start_station_geoid                     3.6061e+10\n",
       "end_station_geoid                       3.6061e+10\n",
       "Name: 10790070, dtype: object"
      ]
     },
     "execution_count": 93,
     "metadata": {},
     "output_type": "execute_result"
    }
   ],
   "source": [
    "# printing out random rows in the result data\n",
    "#sep-dec months\n",
    "result.loc[10790070]"
   ]
  },
  {
   "cell_type": "code",
   "execution_count": 91,
   "metadata": {},
   "outputs": [
    {
     "data": {
      "text/plain": [
       "Unnamed: 0                            238237\n",
       "tripduration                            1004\n",
       "starttime                2017-08-04 19:59:25\n",
       "stoptime                 2017-08-04 20:16:09\n",
       "start station id                         284\n",
       "start station name     Greenwich Ave & 8 Ave\n",
       "end station id                           426\n",
       "end station name       West St & Chambers St\n",
       "usertype                            Customer\n",
       "birth year                               NaN\n",
       "gender                                     0\n",
       "start_station_geoid               3.6061e+10\n",
       "end_station_geoid                 3.6061e+10\n",
       "Name: 8790090, dtype: object"
      ]
     },
     "execution_count": 91,
     "metadata": {},
     "output_type": "execute_result"
    }
   ],
   "source": [
    "#may-august months\n",
    "result.loc[8790090]"
   ]
  },
  {
   "cell_type": "code",
   "execution_count": 92,
   "metadata": {},
   "outputs": [
    {
     "data": {
      "text/plain": [
       "Unnamed: 0                          100091\n",
       "tripduration                           737\n",
       "starttime              2017-01-05 21:06:47\n",
       "stoptime               2017-01-05 21:19:04\n",
       "start station id                       280\n",
       "start station name         E 10 St & 5 Ave\n",
       "end station id                         394\n",
       "end station name         E 9 St & Avenue C\n",
       "usertype                        Subscriber\n",
       "birth year                            1961\n",
       "gender                                   2\n",
       "start_station_geoid             3.6061e+10\n",
       "end_station_geoid               3.6061e+10\n",
       "Name: 100091, dtype: object"
      ]
     },
     "execution_count": 92,
     "metadata": {},
     "output_type": "execute_result"
    }
   ],
   "source": [
    "#jan-april months\n",
    "result.loc[100091]"
   ]
  },
  {
   "cell_type": "markdown",
   "metadata": {},
   "source": [
    "\n",
    "<br/>\n",
    "\n",
    "**Additional Start/End Stations Removed for Sep-Dec**\n",
    "\n",
    "Because we did the data cleaning separately, we made a mistake in removing the start, end station ids . \n",
    "\n",
    "For months in September- December we don't have the the start and end station ids.\n",
    "\n",
    "Fortunately we won't be using them for this project. So we will drop these columns\n",
    "\n",
    "Checking out random rows like this makes sense because we divided the months by 4 months each and checking one month within the ranges would be representative of how that person did the data cleaning for the respective 4 months"
   ]
  },
  {
   "cell_type": "markdown",
   "metadata": {},
   "source": [
    "#### Drop start,end station ids\n",
    "\n",
    "Dropping the start,end station id errors we made in the previous process"
   ]
  },
  {
   "cell_type": "code",
   "execution_count": 97,
   "metadata": {},
   "outputs": [],
   "source": [
    "result = result.drop(['start station id','end station id'], axis = 1).copy()"
   ]
  },
  {
   "cell_type": "markdown",
   "metadata": {},
   "source": [
    "#### Save to csv\n",
    "Saving the csv file and uploading to google drive so we can use for later"
   ]
  },
  {
   "cell_type": "code",
   "execution_count": 99,
   "metadata": {},
   "outputs": [],
   "source": [
    "final_trip_data = result.to_csv('./final_trip_data.csv')"
   ]
  },
  {
   "cell_type": "markdown",
   "metadata": {},
   "source": [
    "#### Additional Data Cleaning"
   ]
  },
  {
   "cell_type": "markdown",
   "metadata": {},
   "source": [
    "After starting the data exploration we realized we needed to comeback and do addtional data cleaning.\n",
    "We will be using this final cleaned data in our exploration process\n"
   ]
  },
  {
   "cell_type": "code",
   "execution_count": 2,
   "metadata": {},
   "outputs": [],
   "source": [
    "df = pd.read_csv('../../data_exploration/final_trip_data.csv')"
   ]
  },
  {
   "cell_type": "code",
   "execution_count": 3,
   "metadata": {},
   "outputs": [
    {
     "data": {
      "text/plain": [
       "Unnamed: 0               int64\n",
       "Unnamed: 0.1           float64\n",
       "tripduration             int64\n",
       "starttime               object\n",
       "stoptime                object\n",
       "start station name      object\n",
       "end station name        object\n",
       "usertype                object\n",
       "birth year             float64\n",
       "gender                   int64\n",
       "start_station_geoid    float64\n",
       "end_station_geoid      float64\n",
       "dtype: object"
      ]
     },
     "execution_count": 3,
     "metadata": {},
     "output_type": "execute_result"
    }
   ],
   "source": [
    "df.dtypes"
   ]
  },
  {
   "cell_type": "markdown",
   "metadata": {},
   "source": [
    "<br/>\n",
    "\n",
    "#### 3. Convert to datetime objects\n",
    "\n",
    "We will be converting the starttime and stoptime columns to datetime objects"
   ]
  },
  {
   "cell_type": "code",
   "execution_count": 3,
   "metadata": {},
   "outputs": [],
   "source": [
    "df['starttime']=pd.to_datetime(df['starttime'], format='%Y-%m-%d %H:%M:%S')"
   ]
  },
  {
   "cell_type": "code",
   "execution_count": 4,
   "metadata": {},
   "outputs": [],
   "source": [
    "df['stoptime']=pd.to_datetime(df['stoptime'], format='%Y-%m-%d %H:%M:%S')"
   ]
  },
  {
   "cell_type": "code",
   "execution_count": 5,
   "metadata": {},
   "outputs": [
    {
     "data": {
      "text/plain": [
       "Unnamed: 0                      int64\n",
       "Unnamed: 0.1                  float64\n",
       "tripduration                    int64\n",
       "starttime              datetime64[ns]\n",
       "stoptime               datetime64[ns]\n",
       "start station name             object\n",
       "end station name               object\n",
       "usertype                       object\n",
       "birth year                    float64\n",
       "gender                          int64\n",
       "start_station_geoid           float64\n",
       "end_station_geoid             float64\n",
       "dtype: object"
      ]
     },
     "execution_count": 5,
     "metadata": {},
     "output_type": "execute_result"
    }
   ],
   "source": [
    "df.dtypes"
   ]
  },
  {
   "cell_type": "markdown",
   "metadata": {},
   "source": [
    "<br/>\n",
    "\n",
    "#### 4. User Filtering\n",
    "\n",
    "Though many Citi Bike customers that are (1-day pass or 3-day pass) are often tourists and may not put in their birth year in a rush or due to other reasons. Also there are some Nan values for usertypes so we will be dropping those too"
   ]
  },
  {
   "cell_type": "code",
   "execution_count": 6,
   "metadata": {},
   "outputs": [
    {
     "data": {
      "text/plain": [
       "array(['Subscriber', 'Customer', nan], dtype=object)"
      ]
     },
     "execution_count": 6,
     "metadata": {},
     "output_type": "execute_result"
    }
   ],
   "source": [
    "df['usertype'].unique()"
   ]
  },
  {
   "cell_type": "code",
   "execution_count": 7,
   "metadata": {},
   "outputs": [],
   "source": [
    "#getting dataframe usertypes for Subscribers only\n",
    "df= df.loc[df['usertype']=='Subscriber']"
   ]
  },
  {
   "cell_type": "code",
   "execution_count": 8,
   "metadata": {},
   "outputs": [
    {
     "data": {
      "text/plain": [
       "array(['Subscriber'], dtype=object)"
      ]
     },
     "execution_count": 8,
     "metadata": {},
     "output_type": "execute_result"
    }
   ],
   "source": [
    "df['usertype'].unique()"
   ]
  },
  {
   "cell_type": "code",
   "execution_count": 9,
   "metadata": {},
   "outputs": [
    {
     "data": {
      "text/plain": [
       "(14578993, 12)"
      ]
     },
     "execution_count": 9,
     "metadata": {},
     "output_type": "execute_result"
    }
   ],
   "source": [
    "df.shape"
   ]
  },
  {
   "cell_type": "markdown",
   "metadata": {},
   "source": [
    "<br/>\n",
    "\n",
    "#### 5. Drop rows where start station and end stations are the same\n",
    "\n",
    "Citi Bike riders often come across broken bikes. We will drop any trips where the start station = end station. This is an arbitrary choice based on how long it would take a rider to realize a bike isn’t working properly and coming back to the station to return it and take a new on. \n",
    "\n",
    "When the start station = end station we assumed that there would probably we a majority of cases where people where having trouble with using citibike in the inital process."
   ]
  },
  {
   "cell_type": "code",
   "execution_count": 10,
   "metadata": {},
   "outputs": [],
   "source": [
    "df= df.loc[df['start station name']!= df['end station name']]"
   ]
  },
  {
   "cell_type": "code",
   "execution_count": 11,
   "metadata": {},
   "outputs": [
    {
     "data": {
      "text/plain": [
       "(14367769, 12)"
      ]
     },
     "execution_count": 11,
     "metadata": {},
     "output_type": "execute_result"
    }
   ],
   "source": [
    "df.shape"
   ]
  },
  {
   "cell_type": "code",
   "execution_count": 12,
   "metadata": {},
   "outputs": [
    {
     "data": {
      "text/plain": [
       "Index(['Unnamed: 0', 'Unnamed: 0.1', 'tripduration', 'starttime', 'stoptime',\n",
       "       'start station name', 'end station name', 'usertype', 'birth year',\n",
       "       'gender', 'start_station_geoid', 'end_station_geoid'],\n",
       "      dtype='object')"
      ]
     },
     "execution_count": 12,
     "metadata": {},
     "output_type": "execute_result"
    }
   ],
   "source": [
    "df.columns"
   ]
  },
  {
   "cell_type": "code",
   "execution_count": 13,
   "metadata": {},
   "outputs": [
    {
     "data": {
      "text/html": [
       "<div>\n",
       "<style scoped>\n",
       "    .dataframe tbody tr th:only-of-type {\n",
       "        vertical-align: middle;\n",
       "    }\n",
       "\n",
       "    .dataframe tbody tr th {\n",
       "        vertical-align: top;\n",
       "    }\n",
       "\n",
       "    .dataframe thead th {\n",
       "        text-align: right;\n",
       "    }\n",
       "</style>\n",
       "<table border=\"1\" class=\"dataframe\">\n",
       "  <thead>\n",
       "    <tr style=\"text-align: right;\">\n",
       "      <th></th>\n",
       "      <th>tripduration</th>\n",
       "      <th>starttime</th>\n",
       "      <th>stoptime</th>\n",
       "      <th>start station name</th>\n",
       "      <th>end station name</th>\n",
       "      <th>usertype</th>\n",
       "      <th>birth year</th>\n",
       "      <th>gender</th>\n",
       "      <th>start_station_geoid</th>\n",
       "      <th>end_station_geoid</th>\n",
       "    </tr>\n",
       "  </thead>\n",
       "  <tbody>\n",
       "    <tr>\n",
       "      <th>0</th>\n",
       "      <td>680</td>\n",
       "      <td>2017-01-01 00:00:21</td>\n",
       "      <td>2017-01-01 00:11:41</td>\n",
       "      <td>W 82 St &amp; Central Park West</td>\n",
       "      <td>Central Park West &amp; W 72 St</td>\n",
       "      <td>Subscriber</td>\n",
       "      <td>1965.0</td>\n",
       "      <td>2</td>\n",
       "      <td>3.606102e+10</td>\n",
       "      <td>3.606101e+10</td>\n",
       "    </tr>\n",
       "    <tr>\n",
       "      <th>1</th>\n",
       "      <td>1282</td>\n",
       "      <td>2017-01-01 00:00:45</td>\n",
       "      <td>2017-01-01 00:22:08</td>\n",
       "      <td>Cooper Square &amp; E 7 St</td>\n",
       "      <td>Broadway &amp; W 32 St</td>\n",
       "      <td>Subscriber</td>\n",
       "      <td>1987.0</td>\n",
       "      <td>2</td>\n",
       "      <td>3.606100e+10</td>\n",
       "      <td>3.606101e+10</td>\n",
       "    </tr>\n",
       "    <tr>\n",
       "      <th>6</th>\n",
       "      <td>559</td>\n",
       "      <td>2017-01-01 00:05:00</td>\n",
       "      <td>2017-01-01 00:14:20</td>\n",
       "      <td>Broadway &amp; W 60 St</td>\n",
       "      <td>9 Ave &amp; W 45 St</td>\n",
       "      <td>Subscriber</td>\n",
       "      <td>1973.0</td>\n",
       "      <td>1</td>\n",
       "      <td>3.606101e+10</td>\n",
       "      <td>3.606101e+10</td>\n",
       "    </tr>\n",
       "    <tr>\n",
       "      <th>7</th>\n",
       "      <td>826</td>\n",
       "      <td>2017-01-01 00:05:37</td>\n",
       "      <td>2017-01-01 00:19:24</td>\n",
       "      <td>Broadway &amp; W 37 St</td>\n",
       "      <td>E 10 St &amp; Avenue A</td>\n",
       "      <td>Subscriber</td>\n",
       "      <td>1977.0</td>\n",
       "      <td>2</td>\n",
       "      <td>3.606101e+10</td>\n",
       "      <td>3.606100e+10</td>\n",
       "    </tr>\n",
       "    <tr>\n",
       "      <th>8</th>\n",
       "      <td>255</td>\n",
       "      <td>2017-01-01 00:05:47</td>\n",
       "      <td>2017-01-01 00:10:02</td>\n",
       "      <td>York St &amp; Jay St</td>\n",
       "      <td>Carlton Ave &amp; Flushing Ave</td>\n",
       "      <td>Subscriber</td>\n",
       "      <td>1989.0</td>\n",
       "      <td>1</td>\n",
       "      <td>3.604700e+10</td>\n",
       "      <td>3.604702e+10</td>\n",
       "    </tr>\n",
       "  </tbody>\n",
       "</table>\n",
       "</div>"
      ],
      "text/plain": [
       "   tripduration           starttime            stoptime  \\\n",
       "0           680 2017-01-01 00:00:21 2017-01-01 00:11:41   \n",
       "1          1282 2017-01-01 00:00:45 2017-01-01 00:22:08   \n",
       "6           559 2017-01-01 00:05:00 2017-01-01 00:14:20   \n",
       "7           826 2017-01-01 00:05:37 2017-01-01 00:19:24   \n",
       "8           255 2017-01-01 00:05:47 2017-01-01 00:10:02   \n",
       "\n",
       "            start station name             end station name    usertype  \\\n",
       "0  W 82 St & Central Park West  Central Park West & W 72 St  Subscriber   \n",
       "1       Cooper Square & E 7 St           Broadway & W 32 St  Subscriber   \n",
       "6           Broadway & W 60 St              9 Ave & W 45 St  Subscriber   \n",
       "7           Broadway & W 37 St           E 10 St & Avenue A  Subscriber   \n",
       "8             York St & Jay St   Carlton Ave & Flushing Ave  Subscriber   \n",
       "\n",
       "   birth year  gender  start_station_geoid  end_station_geoid  \n",
       "0      1965.0       2         3.606102e+10       3.606101e+10  \n",
       "1      1987.0       2         3.606100e+10       3.606101e+10  \n",
       "6      1973.0       1         3.606101e+10       3.606101e+10  \n",
       "7      1977.0       2         3.606101e+10       3.606100e+10  \n",
       "8      1989.0       1         3.604700e+10       3.604702e+10  "
      ]
     },
     "execution_count": 13,
     "metadata": {},
     "output_type": "execute_result"
    }
   ],
   "source": [
    "#drop columns that were added in this process by default\n",
    "df=df.drop(columns=['Unnamed: 0', 'Unnamed: 0.1'])\n",
    "df.head()"
   ]
  },
  {
   "cell_type": "markdown",
   "metadata": {},
   "source": [
    "<br/>\n",
    "\n",
    "#### 6. Check max Trip Duration"
   ]
  },
  {
   "cell_type": "code",
   "execution_count": 14,
   "metadata": {},
   "outputs": [
    {
     "data": {
      "text/plain": [
       "9735948"
      ]
     },
     "execution_count": 14,
     "metadata": {},
     "output_type": "execute_result"
    }
   ],
   "source": [
    "max=df['tripduration'].max()\n",
    "max"
   ]
  },
  {
   "cell_type": "code",
   "execution_count": 15,
   "metadata": {},
   "outputs": [
    {
     "data": {
      "text/html": [
       "<div>\n",
       "<style scoped>\n",
       "    .dataframe tbody tr th:only-of-type {\n",
       "        vertical-align: middle;\n",
       "    }\n",
       "\n",
       "    .dataframe tbody tr th {\n",
       "        vertical-align: top;\n",
       "    }\n",
       "\n",
       "    .dataframe thead th {\n",
       "        text-align: right;\n",
       "    }\n",
       "</style>\n",
       "<table border=\"1\" class=\"dataframe\">\n",
       "  <thead>\n",
       "    <tr style=\"text-align: right;\">\n",
       "      <th></th>\n",
       "      <th>tripduration</th>\n",
       "      <th>starttime</th>\n",
       "      <th>stoptime</th>\n",
       "      <th>start station name</th>\n",
       "      <th>end station name</th>\n",
       "      <th>usertype</th>\n",
       "      <th>birth year</th>\n",
       "      <th>gender</th>\n",
       "      <th>start_station_geoid</th>\n",
       "      <th>end_station_geoid</th>\n",
       "    </tr>\n",
       "  </thead>\n",
       "  <tbody>\n",
       "    <tr>\n",
       "      <th>2313658</th>\n",
       "      <td>9735948</td>\n",
       "      <td>2017-04-03 07:50:27</td>\n",
       "      <td>2017-07-25 00:16:16</td>\n",
       "      <td>Fulton St &amp; Rockwell Pl</td>\n",
       "      <td>NYCBS Depot - GOW</td>\n",
       "      <td>Subscriber</td>\n",
       "      <td>1983.0</td>\n",
       "      <td>1</td>\n",
       "      <td>3.604700e+10</td>\n",
       "      <td>3.604701e+10</td>\n",
       "    </tr>\n",
       "  </tbody>\n",
       "</table>\n",
       "</div>"
      ],
      "text/plain": [
       "         tripduration           starttime            stoptime  \\\n",
       "2313658       9735948 2017-04-03 07:50:27 2017-07-25 00:16:16   \n",
       "\n",
       "              start station name   end station name    usertype  birth year  \\\n",
       "2313658  Fulton St & Rockwell Pl  NYCBS Depot - GOW  Subscriber      1983.0   \n",
       "\n",
       "         gender  start_station_geoid  end_station_geoid  \n",
       "2313658       1         3.604700e+10       3.604701e+10  "
      ]
     },
     "execution_count": 15,
     "metadata": {},
     "output_type": "execute_result"
    }
   ],
   "source": [
    "dfd= df.loc[df['tripduration']==9735948]\n",
    "dfd"
   ]
  },
  {
   "cell_type": "markdown",
   "metadata": {},
   "source": [
    "The tripduration is in seconds so the max trip lasted 9735948/60 which is 162265.8 minutes which is 2704 hours, an unreasonable amount of time. This kind of data could result from a lost bike or a stolen one that was not reported. In 2017 for subscribers, 45minutes of unlimited citibike use was allowed. Sp we decided to include citibike data that was only used for under 3 hours. For additional hours of citibike usage, citibike charged its users $0.18 dollars for each additional minute.\n",
    "\n",
    "**If you keep a bike out for longer than 30 minutes at a time, regardless of the type, it's $0.18 per minute.**\n",
    "--According to citibike website in 2017 (https://www.citibikenyc.com/pricing/single-ride)\n",
    "\n",
    "Therefore using a citibike for unreasonably long hours of time even if you are a subscriber would be unreasonable since you are being charged. \n",
    "For this analysis we decided to set 3hours as the limit to a reasonable amount of time a person uses a citibike. "
   ]
  },
  {
   "cell_type": "code",
   "execution_count": 16,
   "metadata": {},
   "outputs": [
    {
     "data": {
      "text/plain": [
       "10798"
      ]
     },
     "execution_count": 16,
     "metadata": {},
     "output_type": "execute_result"
    }
   ],
   "source": [
    "## drop trip durations over 3hours\n",
    "df= df.loc[df['tripduration']<10800]\n",
    "max=df['tripduration'].max()\n",
    "max"
   ]
  },
  {
   "cell_type": "code",
   "execution_count": 17,
   "metadata": {},
   "outputs": [
    {
     "data": {
      "text/plain": [
       "(14356739, 10)"
      ]
     },
     "execution_count": 17,
     "metadata": {},
     "output_type": "execute_result"
    }
   ],
   "source": [
    "df.shape"
   ]
  },
  {
   "cell_type": "markdown",
   "metadata": {},
   "source": [
    "**Deleting Trip Duration Column and adding Trip Minutes Column**\n",
    "\n",
    "For data analysis, we concluded that looking at trip durations in minutes instead of seconds was a better way to understand the data and easier to explain. We create a column in the data frame called trip minutes. We will delete the trip duration"
   ]
  },
  {
   "cell_type": "code",
   "execution_count": 18,
   "metadata": {},
   "outputs": [
    {
     "data": {
      "image/png": "[encoded data removed]",
      "text/plain": [
       "<Figure size 720x360 with 1 Axes>"
      ]
     },
     "metadata": {
      "needs_background": "light"
     },
     "output_type": "display_data"
    }
   ],
   "source": [
    "#create a plot to understand the trip duration\n",
    "df['tripminutes'] = df['tripduration'] // 60\n",
    "sns.displot(data=df,x=\"tripminutes\", bins=range(1,61), aspect=10/5);\n",
    "plt.ticklabel_format(style='plain', axis='y')"
   ]
  },
  {
   "cell_type": "code",
   "execution_count": 19,
   "metadata": {},
   "outputs": [],
   "source": [
    "#drop trip duration column\n",
    "df=df.drop(columns=['tripduration'])"
   ]
  },
  {
   "cell_type": "code",
   "execution_count": 20,
   "metadata": {},
   "outputs": [
    {
     "data": {
      "text/html": [
       "<div>\n",
       "<style scoped>\n",
       "    .dataframe tbody tr th:only-of-type {\n",
       "        vertical-align: middle;\n",
       "    }\n",
       "\n",
       "    .dataframe tbody tr th {\n",
       "        vertical-align: top;\n",
       "    }\n",
       "\n",
       "    .dataframe thead th {\n",
       "        text-align: right;\n",
       "    }\n",
       "</style>\n",
       "<table border=\"1\" class=\"dataframe\">\n",
       "  <thead>\n",
       "    <tr style=\"text-align: right;\">\n",
       "      <th></th>\n",
       "      <th>starttime</th>\n",
       "      <th>stoptime</th>\n",
       "      <th>start station name</th>\n",
       "      <th>end station name</th>\n",
       "      <th>usertype</th>\n",
       "      <th>birth year</th>\n",
       "      <th>gender</th>\n",
       "      <th>start_station_geoid</th>\n",
       "      <th>end_station_geoid</th>\n",
       "      <th>tripminutes</th>\n",
       "    </tr>\n",
       "  </thead>\n",
       "  <tbody>\n",
       "    <tr>\n",
       "      <th>0</th>\n",
       "      <td>2017-01-01 00:00:21</td>\n",
       "      <td>2017-01-01 00:11:41</td>\n",
       "      <td>W 82 St &amp; Central Park West</td>\n",
       "      <td>Central Park West &amp; W 72 St</td>\n",
       "      <td>Subscriber</td>\n",
       "      <td>1965.0</td>\n",
       "      <td>2</td>\n",
       "      <td>3.606102e+10</td>\n",
       "      <td>3.606101e+10</td>\n",
       "      <td>11</td>\n",
       "    </tr>\n",
       "    <tr>\n",
       "      <th>1</th>\n",
       "      <td>2017-01-01 00:00:45</td>\n",
       "      <td>2017-01-01 00:22:08</td>\n",
       "      <td>Cooper Square &amp; E 7 St</td>\n",
       "      <td>Broadway &amp; W 32 St</td>\n",
       "      <td>Subscriber</td>\n",
       "      <td>1987.0</td>\n",
       "      <td>2</td>\n",
       "      <td>3.606100e+10</td>\n",
       "      <td>3.606101e+10</td>\n",
       "      <td>21</td>\n",
       "    </tr>\n",
       "    <tr>\n",
       "      <th>6</th>\n",
       "      <td>2017-01-01 00:05:00</td>\n",
       "      <td>2017-01-01 00:14:20</td>\n",
       "      <td>Broadway &amp; W 60 St</td>\n",
       "      <td>9 Ave &amp; W 45 St</td>\n",
       "      <td>Subscriber</td>\n",
       "      <td>1973.0</td>\n",
       "      <td>1</td>\n",
       "      <td>3.606101e+10</td>\n",
       "      <td>3.606101e+10</td>\n",
       "      <td>9</td>\n",
       "    </tr>\n",
       "    <tr>\n",
       "      <th>7</th>\n",
       "      <td>2017-01-01 00:05:37</td>\n",
       "      <td>2017-01-01 00:19:24</td>\n",
       "      <td>Broadway &amp; W 37 St</td>\n",
       "      <td>E 10 St &amp; Avenue A</td>\n",
       "      <td>Subscriber</td>\n",
       "      <td>1977.0</td>\n",
       "      <td>2</td>\n",
       "      <td>3.606101e+10</td>\n",
       "      <td>3.606100e+10</td>\n",
       "      <td>13</td>\n",
       "    </tr>\n",
       "    <tr>\n",
       "      <th>8</th>\n",
       "      <td>2017-01-01 00:05:47</td>\n",
       "      <td>2017-01-01 00:10:02</td>\n",
       "      <td>York St &amp; Jay St</td>\n",
       "      <td>Carlton Ave &amp; Flushing Ave</td>\n",
       "      <td>Subscriber</td>\n",
       "      <td>1989.0</td>\n",
       "      <td>1</td>\n",
       "      <td>3.604700e+10</td>\n",
       "      <td>3.604702e+10</td>\n",
       "      <td>4</td>\n",
       "    </tr>\n",
       "  </tbody>\n",
       "</table>\n",
       "</div>"
      ],
      "text/plain": [
       "            starttime            stoptime           start station name  \\\n",
       "0 2017-01-01 00:00:21 2017-01-01 00:11:41  W 82 St & Central Park West   \n",
       "1 2017-01-01 00:00:45 2017-01-01 00:22:08       Cooper Square & E 7 St   \n",
       "6 2017-01-01 00:05:00 2017-01-01 00:14:20           Broadway & W 60 St   \n",
       "7 2017-01-01 00:05:37 2017-01-01 00:19:24           Broadway & W 37 St   \n",
       "8 2017-01-01 00:05:47 2017-01-01 00:10:02             York St & Jay St   \n",
       "\n",
       "              end station name    usertype  birth year  gender  \\\n",
       "0  Central Park West & W 72 St  Subscriber      1965.0       2   \n",
       "1           Broadway & W 32 St  Subscriber      1987.0       2   \n",
       "6              9 Ave & W 45 St  Subscriber      1973.0       1   \n",
       "7           E 10 St & Avenue A  Subscriber      1977.0       2   \n",
       "8   Carlton Ave & Flushing Ave  Subscriber      1989.0       1   \n",
       "\n",
       "   start_station_geoid  end_station_geoid  tripminutes  \n",
       "0         3.606102e+10       3.606101e+10           11  \n",
       "1         3.606100e+10       3.606101e+10           21  \n",
       "6         3.606101e+10       3.606101e+10            9  \n",
       "7         3.606101e+10       3.606100e+10           13  \n",
       "8         3.604700e+10       3.604702e+10            4  "
      ]
     },
     "execution_count": 20,
     "metadata": {},
     "output_type": "execute_result"
    }
   ],
   "source": [
    "df.head()"
   ]
  },
  {
   "cell_type": "markdown",
   "metadata": {},
   "source": [
    "Our final data now looks like this with columns: \n",
    "\n",
    "[starttime, stoptime, startstationname, endstationname, usertype, birthyear, gender, start_station_geoid, end_station_geoid, tripminutes]"
   ]
  },
  {
   "cell_type": "markdown",
   "metadata": {},
   "source": [
    "<br/>\n",
    "\n",
    "#### 7. Check rows of Column values that are missing"
   ]
  },
  {
   "cell_type": "code",
   "execution_count": 22,
   "metadata": {},
   "outputs": [
    {
     "data": {
      "text/plain": [
       "array([False])"
      ]
     },
     "execution_count": 22,
     "metadata": {},
     "output_type": "execute_result"
    }
   ],
   "source": [
    "(df['start station name']== None).unique()"
   ]
  },
  {
   "cell_type": "code",
   "execution_count": 23,
   "metadata": {},
   "outputs": [
    {
     "data": {
      "text/plain": [
       "array([False])"
      ]
     },
     "execution_count": 23,
     "metadata": {},
     "output_type": "execute_result"
    }
   ],
   "source": [
    "(df['end station name']== None).unique()"
   ]
  },
  {
   "cell_type": "code",
   "execution_count": 24,
   "metadata": {},
   "outputs": [
    {
     "data": {
      "text/plain": [
       "array([False])"
      ]
     },
     "execution_count": 24,
     "metadata": {},
     "output_type": "execute_result"
    }
   ],
   "source": [
    "(df['gender']== None).unique()"
   ]
  },
  {
   "cell_type": "code",
   "execution_count": 25,
   "metadata": {},
   "outputs": [
    {
     "data": {
      "text/plain": [
       "array([False])"
      ]
     },
     "execution_count": 25,
     "metadata": {},
     "output_type": "execute_result"
    }
   ],
   "source": [
    "(df['birth year']== None).unique()"
   ]
  },
  {
   "cell_type": "code",
   "execution_count": 26,
   "metadata": {},
   "outputs": [
    {
     "data": {
      "text/plain": [
       "array([False])"
      ]
     },
     "execution_count": 26,
     "metadata": {},
     "output_type": "execute_result"
    }
   ],
   "source": [
    "(df['starttime']== None).unique()"
   ]
  },
  {
   "cell_type": "code",
   "execution_count": 27,
   "metadata": {},
   "outputs": [
    {
     "data": {
      "text/plain": [
       "array([False])"
      ]
     },
     "execution_count": 27,
     "metadata": {},
     "output_type": "execute_result"
    }
   ],
   "source": [
    "(df['stoptime']== None).unique()"
   ]
  },
  {
   "cell_type": "markdown",
   "metadata": {},
   "source": [
    "There seems to be no missing values"
   ]
  },
  {
   "cell_type": "markdown",
   "metadata": {},
   "source": [
    "### Save final data to csv"
   ]
  },
  {
   "cell_type": "code",
   "execution_count": 29,
   "metadata": {},
   "outputs": [],
   "source": [
    "final_trip_data = df.to_csv('./clean_trip_data.csv')"
   ]
  },
  {
   "cell_type": "markdown",
   "metadata": {},
   "source": [
    "<br/>\n",
    "<br/>\n",
    "\n",
    "## Stations Data "
   ]
  },
  {
   "cell_type": "markdown",
   "metadata": {},
   "source": [
    "We downloaded the raw station data from an [MIT study that created data for stations](https://github.com/aberke/income-race-bikes) from citibike trip data  which contained all of the citbike data. The first thing we did was to delete the row with latitidue = 45.506264191001186, since this station is not located in NYC. Perhaps it was a data entry error from Citibike. But this is not a concern as it is only one row out of a total of almost 1000 rows. "
   ]
  },
  {
   "cell_type": "code",
   "execution_count": 84,
   "metadata": {},
   "outputs": [],
   "source": [
    "#This is a table containing all of the stations owned by citibike in NYC. \n",
    "stations = pd.read_csv('stations.csv')\n",
    "stations = stations[stations['lat'] != 45.506264191001186] \n",
    "#remove this station since it is located in canada not NYC.\n",
    "#45.506264191001186, -73.56890559196472"
   ]
  },
  {
   "cell_type": "code",
   "execution_count": 85,
   "metadata": {},
   "outputs": [],
   "source": [
    "#This gets the (lat,lon) of all of the citibike stations in NYC \n",
    "stations_lat = list(stations['lat'])\n",
    "stations_lon = list(stations['lon'])\n",
    "stations_lat_lon = [(stations_lat[i],stations_lon[i]) for i in range(len(stations_lat))]"
   ]
  },
  {
   "cell_type": "markdown",
   "metadata": {},
   "source": [
    "To obtain the geoid which is the unique identifier of the census tract that the station is located in, I used the following online API. "
   ]
  },
  {
   "cell_type": "code",
   "execution_count": 88,
   "metadata": {},
   "outputs": [],
   "source": [
    "#This uses a freely available goverment API that allows us to get the geoid based on the (lat,lon) of each citibike sttaion.\n",
    "station_geoid = []\n",
    "for lat, lon in stations_lat_lon: \n",
    "    #Encode parameters \n",
    "    params = urllib.parse.urlencode({'latitude': lat, 'longitude':lon, 'format':'json'})\n",
    "    #Contruct request URL\n",
    "    url = 'https://geo.fcc.gov/api/census/block/find?' + params\n",
    "\n",
    "    #Get response from API\n",
    "    response = requests.get(url)\n",
    "\n",
    "    #Parse json in response\n",
    "    data = response.json()\n",
    "\n",
    "    #Print FIPS code\n",
    "    returned_FIPS = (data['Block']['FIPS'])\n",
    "    geoid = returned_FIPS[:11] \n",
    "    station_geoid.append(geoid)"
   ]
  },
  {
   "cell_type": "code",
   "execution_count": 89,
   "metadata": {},
   "outputs": [],
   "source": [
    "stations_geoid = [int(geoid) for geoid in station_geoid]"
   ]
  },
  {
   "cell_type": "code",
   "execution_count": 91,
   "metadata": {
    "scrolled": true
   },
   "outputs": [],
   "source": [
    "#add the geoid column to the stations table\n",
    "stations['geoid'] = stations_geoid"
   ]
  },
  {
   "cell_type": "markdown",
   "metadata": {},
   "source": [
    "Here I rename some columns to make their names more intuitive and also remove all stations made after 2017, as we are going to base our analysis on the year 2017, so any Citibike stations made after it is irrelevant"
   ]
  },
  {
   "cell_type": "code",
   "execution_count": 10,
   "metadata": {},
   "outputs": [],
   "source": [
    "stations = stations.drop('Unnamed: 0',axis=1)\n",
    "stations.rename(columns={'id':'station_id', 'name':'station_name','first':'first_trip','last':'last_trip'},inplace=True)\n",
    "stations['first_trip'] = pd.to_datetime(stations['first_trip'])\n",
    "stations['last_trip'] = pd.to_datetime(stations['last_trip'])\n",
    "#only select stations made during or before 2017 \n",
    "stations = stations[stations['first_trip'] <= datetime.datetime(2017,12,30)]"
   ]
  },
  {
   "cell_type": "code",
   "execution_count": 13,
   "metadata": {},
   "outputs": [],
   "source": [
    "stations_geoid.to_csv('citibike_stations_geoid_final.csv',index=False)"
   ]
  },
  {
   "cell_type": "markdown",
   "metadata": {},
   "source": [
    "\n",
    "<br/>\n",
    "<br/>\n",
    "\n",
    "## Race and Income Data "
   ]
  },
  {
   "cell_type": "markdown",
   "metadata": {},
   "source": [
    "I downloaded the raw race and income data from the  and performed the following operations to clean it up. "
   ]
  },
  {
   "cell_type": "code",
   "execution_count": 2,
   "metadata": {},
   "outputs": [],
   "source": [
    "race_and_income = pd.read_csv('race_and_income_data.csv')"
   ]
  },
  {
   "cell_type": "markdown",
   "metadata": {},
   "source": [
    "#### 1. Extracting year 2017 only"
   ]
  },
  {
   "cell_type": "markdown",
   "metadata": {},
   "source": [
    "Since our project will be focusing on the year 2017, we only require the race and income data from that year"
   ]
  },
  {
   "cell_type": "code",
   "execution_count": 3,
   "metadata": {},
   "outputs": [],
   "source": [
    "#only interested in 2017 data \n",
    "race_and_income = race_and_income[['geoid','2017 median income','2017 median income margin of error', \n",
    "     '2017 race: total households', '2017 race: total households margin of error', '2017 race: White',\n",
    "    '2017 race: Black', '2017 race: Asian', '2017 race: Other', '2017 race: 2 or more races']]"
   ]
  },
  {
   "cell_type": "markdown",
   "metadata": {},
   "source": [
    "#### 2. Data Cleaning of median income values"
   ]
  },
  {
   "cell_type": "markdown",
   "metadata": {},
   "source": [
    "Removing rows where the median income is not an integer. Also some median income values are '250,000+' and I changed these to '250,000' so that they can be treated as integers. "
   ]
  },
  {
   "cell_type": "code",
   "execution_count": 4,
   "metadata": {},
   "outputs": [],
   "source": [
    "#removing rows with non-integer median income values\n",
    "race_and_income = race_and_income[race_and_income['2017 median income'] != '-']\n",
    "race_and_income['2017 median income'] = race_and_income['2017 median income'].apply(lambda x: 250000 if x=='250,000+' else x)\n",
    "race_and_income = race_and_income[race_and_income['2017 median income margin of error'] != '***']\n",
    "race_and_income = race_and_income.astype({'2017 median income': 'int64', '2017 median income margin of error':'int64'})"
   ]
  },
  {
   "cell_type": "code",
   "execution_count": 5,
   "metadata": {},
   "outputs": [],
   "source": [
    "race_and_income.to_csv('race_and_income_final.csv',index=False)"
   ]
  },
  {
   "cell_type": "markdown",
   "metadata": {},
   "source": [
    "<br/>\n",
    "<br/>\n",
    "<br/>\n",
    "\n",
    "_______________\n",
    "\n",
    "# Data Description \n",
    "\n",
    "For this project we used 3 types of data \n",
    "1. Citibike Trip Data\n",
    "2. Citibike Station Data\n",
    "3. NYC Race and Income Data"
   ]
  },
  {
   "cell_type": "markdown",
   "metadata": {},
   "source": [
    "### Data 1 : Citibike Trip Data\n",
    "\n",
    "##### 1. What are the observations (rows) and the attributes (columns)?\n",
    "\n",
    "[Original Data]\n",
    "\n",
    "- Trip Duration (seconds)\n",
    "- Start Time and Date\n",
    "- Stop Time and Date\n",
    "- Start Station Name\n",
    "- End Station Name\n",
    "- Station ID\n",
    "- Station Lat/Long\n",
    "- Bike ID\n",
    "- User Type (Customer = 24-hour pass or 3-day pass user; Subscriber = Annual Member)\n",
    "- Gender (Zero=unknown; 1=male; 2=female)\n",
    "- Year of Birth\n",
    "\n",
    "[Cleaned Data]\n",
    "\n",
    "- Start Time and Date (datetime)\n",
    "- Stop Time and Date (datetime)\n",
    "- Start Station Name\n",
    "- End Station Name\n",
    "- User Type (Subscriber Only)\n",
    "- Gender (Zero=unknown; 1=male; 2=female)\n",
    "- Year of Birth\n",
    "- Trip Minutes\n",
    "\n",
    "##### 2. Why was this dataset created?\n",
    "\n",
    "This dataset was created to help developers, engineers, statisticians, artists, academics and the local public to explore the usage of citi bike around New York City. Insights from these findings would help citibike officials find answers to questions like where citibike users ride, how far they go,and what stations are the most popular.  It is an open dataset on the public bike sharing system of New York City. It is open to the public to help people find insights about this system.\n",
    "\n",
    "##### 3. Who funded the creation of the dataset?\n",
    "\n",
    "This citibike data was funded by citibike in New York. Lyft is the operator of the Citi Bike program in New York City and Jersey City. The raw dataset was collected from this source https://www.citibikenyc.com/system-data \n",
    "\n",
    "##### 4.What processes might have influenced what data was observed and recorded and what was not?\n",
    "\n",
    "Trips that may have been taken by staff who are managing citibike throughout the city are not good representations of citibikes trips by users only. Bikes may have been relocated overnight so that the distribution of bikes around the city are evenly distributed. Also bikes that may have been broken may lead to a loss of data.  Also citibike usage trip data is not a complete representation of all bike rider data in New York. \n",
    "\n",
    "##### 5. If people are involved, were they aware of the data collection and if so, what purpose did they expect the data to be used for?\n",
    "\n",
    "In signing up for using citibike, these users are allowing for citibike to take data of their usage. \n",
    "Citibike releases information about the user’s ride and trip duration  including their start station, usertype(Subscriber, one time user), gender, and year of birth. Citibike plans on using this data to understand citi bike users and the overall trend of citi bike users in new york city. Though many citibike users might not have been aware of this, they could have assumed that the data was collected to understand the citibike users for business related reasons.\n",
    "\n",
    "##### 6. Where can your raw source data be found, if applicable? Provide a link to the raw data (hosted in a Cornell Google Drive or Cornell Box). \n",
    "\n",
    "https://drive.google.com/drive/folders/11YUr4yiiFKCNlN2MnGPGpCeXyrq92A0Z?usp=sharing\n"
   ]
  },
  {
   "cell_type": "markdown",
   "metadata": {},
   "source": [
    "### Data 2 : Citibike Stations Data\n",
    "\n",
    "##### 1. What are the observations (rows) and the attributes (columns)?\n",
    "\n",
    "Each row in this data set corresponds to a unique Citi Bike station in NYC. \n",
    "The following is the meaning of each column in this data set: \n",
    "- Station_id: integer that uniquely identifies a station \n",
    "- Station_name: name of the station \n",
    "- Lat: latitude of the station \n",
    "- Long: longitude of the station \n",
    "- First_trip: Date of the first trip ever taken from the station \n",
    "- Last_trip: Data of the last trip taken from the station (at the time this data was downloaded) \n",
    "- Rides: total number of rides taken from the station \n",
    "- Geoid: geographical identifier for the NYC census tract that the station is located in \n",
    "\n",
    "\n",
    "##### 2. Why was this dataset created?\n",
    "\n",
    "The base dataset for this table came from the same source as the Citbike trip data set described above. However, more processing was done to this data to obtain this station dataset by a team of MIT researchers who were trying to map out the locations of Citi Bike stations in NYC for their research purposes. \n",
    "\n",
    "##### 3. Who funded the creation of the dataset?\n",
    "\n",
    "This table uses as its base table the Cibike trip data set that was funded by citibike in New York. However, the processing that was done to this raw citi bike data was done by MIT researchers, so it can be assumed that MIT indirectly funded the creation of this Citibike trip data set. \n",
    "\n",
    "##### 4.What processes might have influenced what data was observed and recorded and what was not?\n",
    "\n",
    "To get the station data to the current form, we first used an API to obtain the geoid (unique census tract identification number) from the longitude and latitude of each Citibike station. This data was then added as the ‘Geoid’ column in the data set. Next since our project focuses on 2017, I removed all stations that had its first trip after 2017 since they are not relevant to our analysis. Lastly, I renamed a few columns to make their names more intuitive. Such as renaming ‘id’ to ‘station_id’ and ‘name’ to ‘station_name’. \n",
    "\n",
    "##### 5. If people are involved, were they aware of the data collection and if so, what purpose did they expect the data to be used for?\n",
    "\n",
    "Since this data set is derived from the citi bike trips dataset, citi bike users were made aware that citibike would be tracking their usage data, when users signed up for the application. \n",
    "\n",
    "The expected usage of this data is the same as for the Citi Bike trip data above. \n",
    "\n",
    "\n",
    "##### 6. Where can your raw source data be found, if applicable? Provide a link to the raw data (hosted in a Cornell Google Drive or Cornell Box). \n",
    "\n",
    "https://drive.google.com/file/d/1pATvzg-PTpPvs_8x5pKIs_jqlbKrWyat/view?usp=sharing\n"
   ]
  },
  {
   "cell_type": "markdown",
   "metadata": {},
   "source": [
    "### Data 3 : Race and Income Data in 2017\n",
    "##### 1. What are the observations (rows) and the attributes (columns)?\n",
    "Each row in this data set corresponds to a different census tract in NYC. A census tract is a geographical area, defined by the US government when they collect their census data. \n",
    "The following are the columns in this table: \n",
    "Geoid \n",
    "2017 median income\n",
    "2017 median income margin of error\n",
    "2017 race : total households\n",
    "2017 race : total households margin of error\n",
    "2017 race: white\n",
    "2017 race: black\n",
    "2017 race : asian\n",
    "2017 race : other\n",
    "2017 race : 2 or more races\n",
    "\n",
    "##### 2. Why was this dataset created?\n",
    "This dataset was created in order to study the census tract data along with the associated race and income in that tract from 2017. This was done by extracting the household median income and household race from the American Community Survey. \n",
    "\n",
    "##### 3. Who funded the creation of the dataset?\n",
    "This data was created and funded by the United States Census bureau. The creation of this dataset was funded by the MIT Media Lab. \n",
    "\n",
    "##### 4. What processes might have influenced what data was observed and recorded and what was not?\n",
    "The American Community Survey’s data collection process is performed by randomly selecting 3.5 million addresses to reply to the survey in order to represent the entire population. Because this survey is limited to those with addresses, there may be households and individuals who are not recorded in the census. For example, the homeless population is difficult to track and therefore could influence the data as well. \n",
    "\n",
    "##### 5. What preprocessing was done, and how did the data come to be in the form that you are using?\n",
    "Because the original data from the American Community Survey was downloaded as a shapefile, the data had to be extracted and transformed into a dataframe. After extracting the race, income, and renaming the columns, the data set was created. \n",
    "\n",
    "Next, rows where the median income was not a numeric integer were dropped except for rows that contain the value ‘$250,000+’ as their median income which were changed to ‘250,000’ so that they can be treated as numeric values. Next only the 2017, income and race columns were selected since our project focuses on 2017.\n",
    "\n"
   ]
  },
  {
   "cell_type": "markdown",
   "metadata": {},
   "source": [
    "##### 6. If people are involved, were they aware of the data collection and if so, what purpose did they expect the data to be used for?\n",
    "The individuals contacted were aware of the data collection. In the constitution, it states that a census must be taken every 10 years. People likely understand the main purpose of the census as determining where federal and state funding should be spent. Moreover, their data is protected from being shared and used by any other government agency. \n",
    "\n",
    "##### 7. Where can your raw source data be found, if applicable? Provide a link to the raw data (hosted in a Cornell Google Drive or Cornell Box). \n",
    "https://drive.google.com/file/d/1obfrrDul07XDXEvyK6kf-N66_2K5-g88/view?usp=sharing"
   ]
  },
  {
   "cell_type": "markdown",
   "metadata": {},
   "source": [
    "<br/>\n",
    "<br/>\n",
    "\n",
    "_______________\n",
    "\n",
    "# Data Limitations "
   ]
  },
  {
   "cell_type": "markdown",
   "metadata": {},
   "source": [
    "### Citi Bike Trip Data Limitations\n",
    "\n",
    "- The trip data **only includes the 'Subscribers' of the users**. Though there may be some one-time-customer passes from NYC residents, due to the large amount of data we decided to settle on subscribers only because there was a higher chance that these people were actually new york city residents. So our data may not be representative of other NYC residents that may have only used one-time passes. \n",
    "\n",
    "- We dropped rows where start station = end station. When the start station = end station we assumed that there would probably we a majority of cases where people where having trouble with using citibike in the inital process. However, **there may be cases where people would have been able to make complete round trips and returned them back to the same location in for some of the trips where the start station = end station**"
   ]
  },
  {
   "cell_type": "markdown",
   "metadata": {},
   "source": [
    "### Citi Bike Stations Data Limitations\n",
    "\n",
    "- One possible limitation of this station data set is that the **count of the number of trips taken from a station is actually the count up to the end of 2019, whereas our project focuses on 2017**. However, there is a workaround for this problem since we also have the trip data, we can just recalculate the number of trips taken from each station up to the end of 2017. \n",
    "\n",
    "- Another limitation is that **the station start date is not actually the date the station was added to the network but is instead the date at which the first trip was taken from the station**, which might not always be the same."
   ]
  },
  {
   "cell_type": "markdown",
   "metadata": {},
   "source": [
    "### Race and Income Data Limitations"
   ]
  },
  {
   "cell_type": "markdown",
   "metadata": {},
   "source": [
    "- One possible limitation of this data set is that **it only looks at survey data from 2017**. However, this is also consistent with the current data available on the American Community Survey website. Currently, the survey website data is only updated up until 2017. Because of this limitation, there may not be potential inaccuracies with representation in the data.\n",
    "- Moreover, populations like the homeless or digital nomads may not be recorded in the data. That being said, the survey itself was collected using this method in order to avoid bias in the data. "
   ]
  },
  {
   "cell_type": "markdown",
   "metadata": {},
   "source": [
    "_______________\n",
    "\n",
    "<br/>\n",
    "\n",
    "# Exploratory Data Analysis "
   ]
  },
  {
   "cell_type": "markdown",
   "metadata": {},
   "source": [
    "<br/>\n",
    "\n",
    "### Exploring Race and Income data and Stations data"
   ]
  },
  {
   "cell_type": "code",
   "execution_count": 5,
   "metadata": {},
   "outputs": [],
   "source": [
    "stations_geoid = pd.read_csv('data_cleaning/citbike_stations/citibike_stations_geoid_final.csv')"
   ]
  },
  {
   "cell_type": "code",
   "execution_count": 6,
   "metadata": {},
   "outputs": [],
   "source": [
    "race_and_income = pd.read_csv('data_cleaning/race_and_income/race_and_income_final.csv')"
   ]
  },
  {
   "cell_type": "markdown",
   "metadata": {},
   "source": [
    "Here I join the race_and_income table with the stations table on the geoid column. (Geoid is the unique identifier of a given census tract (region in NYC))"
   ]
  },
  {
   "cell_type": "code",
   "execution_count": 7,
   "metadata": {},
   "outputs": [],
   "source": [
    "combined_table = (stations_geoid.set_index('geoid')).join((race_and_income.set_index('geoid')),how='inner')"
   ]
  },
  {
   "cell_type": "code",
   "execution_count": 8,
   "metadata": {},
   "outputs": [],
   "source": [
    "combined_table['geoid'] = combined_table.index\n",
    "combined_table.reset_index(drop=True,inplace=True)"
   ]
  },
  {
   "cell_type": "code",
   "execution_count": 9,
   "metadata": {},
   "outputs": [
    {
     "data": {
      "text/plain": [
       "Index(['station_id', 'station_name', 'lat', 'lon', 'first_trip', 'last_trip',\n",
       "       'rides', '2017 median income', '2017 median income margin of error',\n",
       "       '2017 race: total households',\n",
       "       '2017 race: total households margin of error', '2017 race: White',\n",
       "       '2017 race: Black', '2017 race: Asian', '2017 race: Other',\n",
       "       '2017 race: 2 or more races', 'geoid'],\n",
       "      dtype='object')"
      ]
     },
     "execution_count": 9,
     "metadata": {},
     "output_type": "execute_result"
    }
   ],
   "source": [
    "combined_table.columns"
   ]
  },
  {
   "cell_type": "markdown",
   "metadata": {},
   "source": [
    "##### Summary Satistics of the race_and_income table and the stations table"
   ]
  },
  {
   "cell_type": "code",
   "execution_count": 7,
   "metadata": {
    "scrolled": true
   },
   "outputs": [
    {
     "data": {
      "text/html": [
       "<div>\n",
       "<style scoped>\n",
       "    .dataframe tbody tr th:only-of-type {\n",
       "        vertical-align: middle;\n",
       "    }\n",
       "\n",
       "    .dataframe tbody tr th {\n",
       "        vertical-align: top;\n",
       "    }\n",
       "\n",
       "    .dataframe thead th {\n",
       "        text-align: right;\n",
       "    }\n",
       "</style>\n",
       "<table border=\"1\" class=\"dataframe\">\n",
       "  <thead>\n",
       "    <tr style=\"text-align: right;\">\n",
       "      <th></th>\n",
       "      <th>station_id</th>\n",
       "      <th>lat</th>\n",
       "      <th>lon</th>\n",
       "      <th>rides</th>\n",
       "      <th>geoid</th>\n",
       "    </tr>\n",
       "  </thead>\n",
       "  <tbody>\n",
       "    <tr>\n",
       "      <th>count</th>\n",
       "      <td>839.000000</td>\n",
       "      <td>839.000000</td>\n",
       "      <td>839.000000</td>\n",
       "      <td>839.000000</td>\n",
       "      <td>8.390000e+02</td>\n",
       "    </tr>\n",
       "    <tr>\n",
       "      <th>mean</th>\n",
       "      <td>2194.866508</td>\n",
       "      <td>40.732725</td>\n",
       "      <td>-73.972622</td>\n",
       "      <td>96824.084625</td>\n",
       "      <td>3.605797e+10</td>\n",
       "    </tr>\n",
       "    <tr>\n",
       "      <th>std</th>\n",
       "      <td>1445.801651</td>\n",
       "      <td>0.039650</td>\n",
       "      <td>0.023913</td>\n",
       "      <td>110102.215903</td>\n",
       "      <td>9.827592e+06</td>\n",
       "    </tr>\n",
       "    <tr>\n",
       "      <th>min</th>\n",
       "      <td>72.000000</td>\n",
       "      <td>40.646538</td>\n",
       "      <td>-74.025353</td>\n",
       "      <td>124.000000</td>\n",
       "      <td>3.604700e+10</td>\n",
       "    </tr>\n",
       "    <tr>\n",
       "      <th>25%</th>\n",
       "      <td>431.500000</td>\n",
       "      <td>40.697945</td>\n",
       "      <td>-73.991102</td>\n",
       "      <td>17642.500000</td>\n",
       "      <td>3.604703e+10</td>\n",
       "    </tr>\n",
       "    <tr>\n",
       "      <th>50%</th>\n",
       "      <td>3124.000000</td>\n",
       "      <td>40.732233</td>\n",
       "      <td>-73.975739</td>\n",
       "      <td>50612.000000</td>\n",
       "      <td>3.606101e+10</td>\n",
       "    </tr>\n",
       "    <tr>\n",
       "      <th>75%</th>\n",
       "      <td>3401.500000</td>\n",
       "      <td>40.763154</td>\n",
       "      <td>-73.953847</td>\n",
       "      <td>147736.500000</td>\n",
       "      <td>3.606101e+10</td>\n",
       "    </tr>\n",
       "    <tr>\n",
       "      <th>max</th>\n",
       "      <td>3654.000000</td>\n",
       "      <td>40.814394</td>\n",
       "      <td>-73.907744</td>\n",
       "      <td>801965.000000</td>\n",
       "      <td>3.608102e+10</td>\n",
       "    </tr>\n",
       "  </tbody>\n",
       "</table>\n",
       "</div>"
      ],
      "text/plain": [
       "        station_id         lat         lon          rides         geoid\n",
       "count   839.000000  839.000000  839.000000     839.000000  8.390000e+02\n",
       "mean   2194.866508   40.732725  -73.972622   96824.084625  3.605797e+10\n",
       "std    1445.801651    0.039650    0.023913  110102.215903  9.827592e+06\n",
       "min      72.000000   40.646538  -74.025353     124.000000  3.604700e+10\n",
       "25%     431.500000   40.697945  -73.991102   17642.500000  3.604703e+10\n",
       "50%    3124.000000   40.732233  -73.975739   50612.000000  3.606101e+10\n",
       "75%    3401.500000   40.763154  -73.953847  147736.500000  3.606101e+10\n",
       "max    3654.000000   40.814394  -73.907744  801965.000000  3.608102e+10"
      ]
     },
     "execution_count": 7,
     "metadata": {},
     "output_type": "execute_result"
    }
   ],
   "source": [
    "stations_geoid.describe()"
   ]
  },
  {
   "cell_type": "code",
   "execution_count": 8,
   "metadata": {},
   "outputs": [
    {
     "data": {
      "text/html": [
       "<div>\n",
       "<style scoped>\n",
       "    .dataframe tbody tr th:only-of-type {\n",
       "        vertical-align: middle;\n",
       "    }\n",
       "\n",
       "    .dataframe tbody tr th {\n",
       "        vertical-align: top;\n",
       "    }\n",
       "\n",
       "    .dataframe thead th {\n",
       "        text-align: right;\n",
       "    }\n",
       "</style>\n",
       "<table border=\"1\" class=\"dataframe\">\n",
       "  <thead>\n",
       "    <tr style=\"text-align: right;\">\n",
       "      <th></th>\n",
       "      <th>geoid</th>\n",
       "      <th>2017 median income</th>\n",
       "      <th>2017 median income margin of error</th>\n",
       "      <th>2017 race: total households</th>\n",
       "      <th>2017 race: total households margin of error</th>\n",
       "      <th>2017 race: White</th>\n",
       "      <th>2017 race: Black</th>\n",
       "      <th>2017 race: Asian</th>\n",
       "      <th>2017 race: Other</th>\n",
       "      <th>2017 race: 2 or more races</th>\n",
       "    </tr>\n",
       "  </thead>\n",
       "  <tbody>\n",
       "    <tr>\n",
       "      <th>count</th>\n",
       "      <td>4.787000e+03</td>\n",
       "      <td>4787.000000</td>\n",
       "      <td>4787.000000</td>\n",
       "      <td>4787.000000</td>\n",
       "      <td>4787.000000</td>\n",
       "      <td>4787.000000</td>\n",
       "      <td>4787.000000</td>\n",
       "      <td>4787.000000</td>\n",
       "      <td>4787.000000</td>\n",
       "      <td>4787.000000</td>\n",
       "    </tr>\n",
       "    <tr>\n",
       "      <th>mean</th>\n",
       "      <td>3.606167e+10</td>\n",
       "      <td>68452.919783</td>\n",
       "      <td>12274.519323</td>\n",
       "      <td>4110.058283</td>\n",
       "      <td>361.894715</td>\n",
       "      <td>2623.683309</td>\n",
       "      <td>642.620639</td>\n",
       "      <td>343.286818</td>\n",
       "      <td>378.091289</td>\n",
       "      <td>122.376227</td>\n",
       "    </tr>\n",
       "    <tr>\n",
       "      <th>std</th>\n",
       "      <td>3.150101e+07</td>\n",
       "      <td>33577.801513</td>\n",
       "      <td>8163.393942</td>\n",
       "      <td>1919.727188</td>\n",
       "      <td>205.322620</td>\n",
       "      <td>1804.265041</td>\n",
       "      <td>1040.428579</td>\n",
       "      <td>607.656810</td>\n",
       "      <td>700.859938</td>\n",
       "      <td>148.342969</td>\n",
       "    </tr>\n",
       "    <tr>\n",
       "      <th>min</th>\n",
       "      <td>3.600100e+10</td>\n",
       "      <td>9053.000000</td>\n",
       "      <td>1034.000000</td>\n",
       "      <td>19.000000</td>\n",
       "      <td>10.000000</td>\n",
       "      <td>0.000000</td>\n",
       "      <td>0.000000</td>\n",
       "      <td>0.000000</td>\n",
       "      <td>0.000000</td>\n",
       "      <td>0.000000</td>\n",
       "    </tr>\n",
       "    <tr>\n",
       "      <th>25%</th>\n",
       "      <td>3.604702e+10</td>\n",
       "      <td>45774.000000</td>\n",
       "      <td>7009.500000</td>\n",
       "      <td>2711.500000</td>\n",
       "      <td>230.500000</td>\n",
       "      <td>1154.000000</td>\n",
       "      <td>44.000000</td>\n",
       "      <td>28.000000</td>\n",
       "      <td>29.000000</td>\n",
       "      <td>34.000000</td>\n",
       "    </tr>\n",
       "    <tr>\n",
       "      <th>50%</th>\n",
       "      <td>3.606101e+10</td>\n",
       "      <td>61951.000000</td>\n",
       "      <td>10399.000000</td>\n",
       "      <td>3844.000000</td>\n",
       "      <td>321.000000</td>\n",
       "      <td>2415.000000</td>\n",
       "      <td>178.000000</td>\n",
       "      <td>119.000000</td>\n",
       "      <td>114.000000</td>\n",
       "      <td>82.000000</td>\n",
       "    </tr>\n",
       "    <tr>\n",
       "      <th>75%</th>\n",
       "      <td>3.608110e+10</td>\n",
       "      <td>84862.500000</td>\n",
       "      <td>15224.000000</td>\n",
       "      <td>5154.000000</td>\n",
       "      <td>457.000000</td>\n",
       "      <td>3786.500000</td>\n",
       "      <td>792.500000</td>\n",
       "      <td>377.500000</td>\n",
       "      <td>374.000000</td>\n",
       "      <td>160.500000</td>\n",
       "    </tr>\n",
       "    <tr>\n",
       "      <th>max</th>\n",
       "      <td>3.612315e+10</td>\n",
       "      <td>248438.000000</td>\n",
       "      <td>119997.000000</td>\n",
       "      <td>28937.000000</td>\n",
       "      <td>2225.000000</td>\n",
       "      <td>14516.000000</td>\n",
       "      <td>17020.000000</td>\n",
       "      <td>7822.000000</td>\n",
       "      <td>7375.000000</td>\n",
       "      <td>3000.000000</td>\n",
       "    </tr>\n",
       "  </tbody>\n",
       "</table>\n",
       "</div>"
      ],
      "text/plain": [
       "              geoid  2017 median income  2017 median income margin of error  \\\n",
       "count  4.787000e+03         4787.000000                         4787.000000   \n",
       "mean   3.606167e+10        68452.919783                        12274.519323   \n",
       "std    3.150101e+07        33577.801513                         8163.393942   \n",
       "min    3.600100e+10         9053.000000                         1034.000000   \n",
       "25%    3.604702e+10        45774.000000                         7009.500000   \n",
       "50%    3.606101e+10        61951.000000                        10399.000000   \n",
       "75%    3.608110e+10        84862.500000                        15224.000000   \n",
       "max    3.612315e+10       248438.000000                       119997.000000   \n",
       "\n",
       "       2017 race: total households  \\\n",
       "count                  4787.000000   \n",
       "mean                   4110.058283   \n",
       "std                    1919.727188   \n",
       "min                      19.000000   \n",
       "25%                    2711.500000   \n",
       "50%                    3844.000000   \n",
       "75%                    5154.000000   \n",
       "max                   28937.000000   \n",
       "\n",
       "       2017 race: total households margin of error  2017 race: White  \\\n",
       "count                                  4787.000000       4787.000000   \n",
       "mean                                    361.894715       2623.683309   \n",
       "std                                     205.322620       1804.265041   \n",
       "min                                      10.000000          0.000000   \n",
       "25%                                     230.500000       1154.000000   \n",
       "50%                                     321.000000       2415.000000   \n",
       "75%                                     457.000000       3786.500000   \n",
       "max                                    2225.000000      14516.000000   \n",
       "\n",
       "       2017 race: Black  2017 race: Asian  2017 race: Other  \\\n",
       "count       4787.000000       4787.000000       4787.000000   \n",
       "mean         642.620639        343.286818        378.091289   \n",
       "std         1040.428579        607.656810        700.859938   \n",
       "min            0.000000          0.000000          0.000000   \n",
       "25%           44.000000         28.000000         29.000000   \n",
       "50%          178.000000        119.000000        114.000000   \n",
       "75%          792.500000        377.500000        374.000000   \n",
       "max        17020.000000       7822.000000       7375.000000   \n",
       "\n",
       "       2017 race: 2 or more races  \n",
       "count                 4787.000000  \n",
       "mean                   122.376227  \n",
       "std                    148.342969  \n",
       "min                      0.000000  \n",
       "25%                     34.000000  \n",
       "50%                     82.000000  \n",
       "75%                    160.500000  \n",
       "max                   3000.000000  "
      ]
     },
     "execution_count": 8,
     "metadata": {},
     "output_type": "execute_result"
    }
   ],
   "source": [
    "race_and_income.describe()"
   ]
  },
  {
   "cell_type": "markdown",
   "metadata": {},
   "source": [
    "##### Comparing average income and race  between census tracts with the 10 most citibike stations vs census tracts with 1 station"
   ]
  },
  {
   "cell_type": "code",
   "execution_count": 9,
   "metadata": {
    "scrolled": true
   },
   "outputs": [],
   "source": [
    "geoid_top_10_most_stations = combined_table.groupby('geoid')['station_id']\n",
    "geoid_top_10_most_stations = geoid_top_10_most_stations.count().sort_values(ascending=False)[0:10].index #list of geoids containing the top 10 most stations"
   ]
  },
  {
   "cell_type": "code",
   "execution_count": 10,
   "metadata": {},
   "outputs": [],
   "source": [
    "geoid_one_station = combined_table.groupby('geoid')['station_id'].count() == 1\n",
    "geoid_one_station = geoid_one_station[geoid_one_station==True].index #list of geoids containing 1 station"
   ]
  },
  {
   "cell_type": "code",
   "execution_count": 11,
   "metadata": {},
   "outputs": [],
   "source": [
    "#data frame for race and income with only entries for geoids that have the top 10 most stations \n",
    "top_10_stations_geoid_race_income_df = race_and_income[race_and_income['geoid'].isin(geoid_top_10_most_stations)]\n",
    "#data frame for race and income with only entries for geoids that have one station\n",
    "one_station_geoid_race_income_df = race_and_income[race_and_income['geoid'].isin(geoid_one_station)]"
   ]
  },
  {
   "cell_type": "code",
   "execution_count": 12,
   "metadata": {},
   "outputs": [],
   "source": [
    "mean_income_in_top_10_locations = top_10_stations_geoid_race_income_df['2017 median income'].mean()\n",
    "mean_income_in_locations_w_one_station = one_station_geoid_race_income_df['2017 median income'].mean()"
   ]
  },
  {
   "cell_type": "code",
   "execution_count": 13,
   "metadata": {
    "scrolled": true
   },
   "outputs": [
    {
     "data": {
      "image/png": "[encoded data removed]",
      "text/plain": [
       "<Figure size 432x288 with 1 Axes>"
      ]
     },
     "metadata": {
      "needs_background": "light"
     },
     "output_type": "display_data"
    }
   ],
   "source": [
    "plt.bar(['census tracts with top 10 most stations','census tracts with 1 station'],[mean_income_in_top_10_locations,mean_income_in_locations_w_one_station])\n",
    "plt.ylabel('average income')\n",
    "plt.title('Average income in census tract locations with the 10 most stations vs locations with only one station')\n",
    "plt.tight_layout()\n",
    "plt.show()"
   ]
  },
  {
   "cell_type": "code",
   "execution_count": 14,
   "metadata": {},
   "outputs": [
    {
     "data": {
      "image/png": "[encoded data removed]",
      "text/plain": [
       "<Figure size 432x288 with 1 Axes>"
      ]
     },
     "metadata": {},
     "output_type": "display_data"
    }
   ],
   "source": [
    "top_10_race_sum = top_10_stations_geoid_race_income_df[['2017 race: White','2017 race: Black','2017 race: Asian','2017 race: Other','2017 race: 2 or more races']].sum()\n",
    "mylabels = top_10_race_sum.index\n",
    "plt.pie(top_10_race_sum,labels=mylabels)\n",
    "plt.title('Racial distribution of households in the 10 census tracts with the most citibike stations')\n",
    "plt.show()"
   ]
  },
  {
   "cell_type": "code",
   "execution_count": 15,
   "metadata": {},
   "outputs": [
    {
     "data": {
      "image/png": "[encoded data removed]",
      "text/plain": [
       "<Figure size 432x288 with 1 Axes>"
      ]
     },
     "metadata": {},
     "output_type": "display_data"
    }
   ],
   "source": [
    "one_station_geoid_race_sum = one_station_geoid_race_income_df[['2017 race: White','2017 race: Black','2017 race: Asian','2017 race: Other','2017 race: 2 or more races']].sum()\n",
    "mylabels = one_station_geoid_race_sum.index\n",
    "plt.pie(one_station_geoid_race_sum,labels=mylabels)\n",
    "plt.title('Racial distribution of households in the census tracts with only one citibike station')\n",
    "plt.show()"
   ]
  },
  {
   "cell_type": "markdown",
   "metadata": {},
   "source": [
    "From these results we see that the 10 locations with the most Citibike stations has a higher average income compared to the locations with only one citibike station. We also see that the locations that have a higher number of stations also have a much smaller proportion of Black households as seen by the much smaller Orange segment in the first piechart. Thus, we will explore this relationship between the number of stations in a given area and the race and income distribution of the area further in our project. "
   ]
  },
  {
   "cell_type": "markdown",
   "metadata": {},
   "source": [
    "##### Corelation between number of stations in a census tract, income, and race"
   ]
  },
  {
   "cell_type": "code",
   "execution_count": 16,
   "metadata": {},
   "outputs": [],
   "source": [
    "#produce a data frame with columns geoid, and the number of stations in that geoid\n",
    "geoid_station_count_df = combined_table.groupby('geoid')[['station_id']].count()\n",
    "geoid_station_count_df.rename(columns={'station_id':'num_stations_in_census_tract'},inplace=True)\n",
    "geoid_station_count_df.reset_index(inplace=True)"
   ]
  },
  {
   "cell_type": "code",
   "execution_count": 17,
   "metadata": {},
   "outputs": [
    {
     "name": "stdout",
     "output_type": "stream",
     "text": [
      "Correlation between the number of stations in the census tract with the race and income data in that census tract \n",
      "\n"
     ]
    },
    {
     "data": {
      "text/html": [
       "<div>\n",
       "<style scoped>\n",
       "    .dataframe tbody tr th:only-of-type {\n",
       "        vertical-align: middle;\n",
       "    }\n",
       "\n",
       "    .dataframe tbody tr th {\n",
       "        vertical-align: top;\n",
       "    }\n",
       "\n",
       "    .dataframe thead th {\n",
       "        text-align: right;\n",
       "    }\n",
       "</style>\n",
       "<table border=\"1\" class=\"dataframe\">\n",
       "  <thead>\n",
       "    <tr style=\"text-align: right;\">\n",
       "      <th></th>\n",
       "      <th>num_stations_in_census_tract</th>\n",
       "    </tr>\n",
       "  </thead>\n",
       "  <tbody>\n",
       "    <tr>\n",
       "      <th>2017 median income</th>\n",
       "      <td>0.170209</td>\n",
       "    </tr>\n",
       "    <tr>\n",
       "      <th>2017 race: total households</th>\n",
       "      <td>0.068914</td>\n",
       "    </tr>\n",
       "    <tr>\n",
       "      <th>2017 race: White</th>\n",
       "      <td>0.110627</td>\n",
       "    </tr>\n",
       "    <tr>\n",
       "      <th>2017 race: Black</th>\n",
       "      <td>-0.128923</td>\n",
       "    </tr>\n",
       "    <tr>\n",
       "      <th>2017 race: Asian</th>\n",
       "      <td>0.105689</td>\n",
       "    </tr>\n",
       "    <tr>\n",
       "      <th>2017 race: Other</th>\n",
       "      <td>-0.052208</td>\n",
       "    </tr>\n",
       "    <tr>\n",
       "      <th>2017 race: 2 or more races</th>\n",
       "      <td>0.080225</td>\n",
       "    </tr>\n",
       "    <tr>\n",
       "      <th>num_stations_in_census_tract</th>\n",
       "      <td>1.000000</td>\n",
       "    </tr>\n",
       "  </tbody>\n",
       "</table>\n",
       "</div>"
      ],
      "text/plain": [
       "                              num_stations_in_census_tract\n",
       "2017 median income                                0.170209\n",
       "2017 race: total households                       0.068914\n",
       "2017 race: White                                  0.110627\n",
       "2017 race: Black                                 -0.128923\n",
       "2017 race: Asian                                  0.105689\n",
       "2017 race: Other                                 -0.052208\n",
       "2017 race: 2 or more races                        0.080225\n",
       "num_stations_in_census_tract                      1.000000"
      ]
     },
     "execution_count": 17,
     "metadata": {},
     "output_type": "execute_result"
    }
   ],
   "source": [
    "race_and_income_station_count_df= race_and_income.set_index('geoid').join(geoid_station_count_df.set_index('geoid'),how='inner')\n",
    "print('Correlation between the number of stations in the census tract with the race and income data in that census tract \\n')\n",
    "race_and_income_station_count_df[['2017 median income','2017 race: total households','2017 race: White',\n",
    "       '2017 race: Black', '2017 race: Asian', '2017 race: Other',\n",
    "       '2017 race: 2 or more races', 'num_stations_in_census_tract']].corr()[['num_stations_in_census_tract']]"
   ]
  },
  {
   "cell_type": "markdown",
   "metadata": {},
   "source": [
    "From these results we see that there is a positive corelation of 0.17 between the number of stations in a census tract and the median income in the census tract. This means that as the number of stations in a given area increases, the median income of the area also seems to increase. Furthermore, there is a negative correlation between the number of black households in a given area and the number of Citibike stations in this area. These two findings relate well to the findings above, as it indicates that the greater the number of Citibike stations in a given area the higher the avaerage income in the area and the lower the number of Black households. "
   ]
  },
  {
   "cell_type": "markdown",
   "metadata": {},
   "source": [
    "<br/>\n",
    "\n",
    "### Citi Bike Trip Data\n"
   ]
  },
  {
   "cell_type": "code",
   "execution_count": 73,
   "metadata": {},
   "outputs": [],
   "source": [
    "# read the csv file\n",
    "df = pd.read_csv('./final_trip_data.csv')"
   ]
  },
  {
   "cell_type": "markdown",
   "metadata": {},
   "source": [
    "#### 1. General Analysis of Citibike Trip Data"
   ]
  },
  {
   "cell_type": "markdown",
   "metadata": {},
   "source": [
    "#### Trips by time \n",
    "\n",
    "Here we look at citbike bike trips by time of day."
   ]
  },
  {
   "cell_type": "code",
   "execution_count": 24,
   "metadata": {},
   "outputs": [],
   "source": [
    "df['start hour']=df['starttime'].dt.hour.astype('category')\n",
    "df['start day']=df['starttime'].dt.day.astype('category') \n",
    "df['weekday']=df['starttime'].dt.weekday.astype('category')"
   ]
  },
  {
   "cell_type": "code",
   "execution_count": 71,
   "metadata": {},
   "outputs": [
    {
     "data": {
      "image/png": "[encoded data removed]",
      "text/plain": [
       "<Figure size 864x360 with 1 Axes>"
      ]
     },
     "metadata": {
      "needs_background": "light"
     },
     "output_type": "display_data"
    }
   ],
   "source": [
    "plt.figure(figsize=(12,5))\n",
    "time= sns.countplot(data=df, x=\"start hour\")\n",
    "plt.ticklabel_format(style='plain', axis='y')\n",
    "time.set(xlabel='Start Time', ylabel='Count',title=\"Start Time for Bikes During the Day\")\n",
    "plt.show()"
   ]
  },
  {
   "cell_type": "markdown",
   "metadata": {},
   "source": [
    "From this graph we can see that people's start time for riding bikes are mostly at 8-9am, and 4-7pm usual times when people commute to and from work. "
   ]
  },
  {
   "cell_type": "markdown",
   "metadata": {},
   "source": [
    "#### Number of Trips Per Month"
   ]
  },
  {
   "cell_type": "code",
   "execution_count": 31,
   "metadata": {},
   "outputs": [],
   "source": [
    "df['months']=df['starttime'].dt.month.astype('category')"
   ]
  },
  {
   "cell_type": "code",
   "execution_count": 42,
   "metadata": {},
   "outputs": [
    {
     "data": {
      "image/png": "[encoded data removed]",
      "text/plain": [
       "<Figure size 864x360 with 1 Axes>"
      ]
     },
     "metadata": {
      "needs_background": "light"
     },
     "output_type": "display_data"
    }
   ],
   "source": [
    "plt.figure(figsize=(12,5))\n",
    "time= sns.countplot(data=df, x=\"months\");\n",
    "plt.ticklabel_format(style='plain', axis='y')\n",
    "time.set(xlabel='Months', ylabel='Count',title=\"Bike Rides by Month\")\n",
    "plt.show()"
   ]
  },
  {
   "cell_type": "markdown",
   "metadata": {},
   "source": [
    "From this we can see that in 2017, people ride bikes are mostly at times from April to October when the weather is warm. "
   ]
  },
  {
   "cell_type": "markdown",
   "metadata": {},
   "source": [
    "#### Trip Duration Plot"
   ]
  },
  {
   "cell_type": "code",
   "execution_count": 8,
   "metadata": {},
   "outputs": [
    {
     "data": {
      "image/png": "[encoded data removed]",
      "text/plain": [
       "<Figure size 720x360 with 1 Axes>"
      ]
     },
     "metadata": {
      "needs_background": "light"
     },
     "output_type": "display_data"
    }
   ],
   "source": [
    "sns.displot(data=df,x=\"tripminutes\", bins=range(1,61), aspect=10/5);"
   ]
  },
  {
   "cell_type": "markdown",
   "metadata": {},
   "source": [
    "For trip duration by minutes we get a right-skewed graph where most of the trip times don't exceed 20minutes. \n",
    "From this we can see that New York City bike-riders don't travel very far distances."
   ]
  },
  {
   "cell_type": "markdown",
   "metadata": {},
   "source": [
    "#### Indentifying Popular Trips"
   ]
  },
  {
   "cell_type": "code",
   "execution_count": 6,
   "metadata": {},
   "outputs": [],
   "source": [
    "#Identify the 10 most popular trips\n",
    "trips_df = pd.DataFrame()\n",
    "trips_df = df.groupby(['start station name','end station name']).size().reset_index(name = 'Number of Trips')\n",
    "trips_df = trips_df.sort_values('Number of Trips', ascending = False)\n",
    "trips_df['start station name'] = trips_df[\"start station name\"].astype(str)\n",
    "trips_df[\"end station name\"] = trips_df[\"end station name\"].astype(str)\n",
    "trips_df[\"Trip\"] = trips_df[\"start station name\"] + \" to \" + trips_df[\"end station name\"]\n",
    "trips_df = trips_df[:10]\n",
    "trips_df = trips_df.drop(['start station name', \"end station name\"], axis = 1)\n",
    "trips_df = trips_df.reset_index()"
   ]
  },
  {
   "cell_type": "code",
   "execution_count": 9,
   "metadata": {},
   "outputs": [
    {
     "name": "stderr",
     "output_type": "stream",
     "text": [
      "/Users/seongheelee/opt/anaconda3/lib/python3.8/site-packages/seaborn/_decorators.py:36: FutureWarning: Pass the following variables as keyword args: x, y. From version 0.12, the only valid positional argument will be `data`, and passing other arguments without an explicit keyword will result in an error or misinterpretation.\n",
      "  warnings.warn(\n"
     ]
    },
    {
     "data": {
      "image/png": "[encoded data removed]",
      "text/plain": [
       "<Figure size 864x360 with 1 Axes>"
      ]
     },
     "metadata": {
      "needs_background": "light"
     },
     "output_type": "display_data"
    }
   ],
   "source": [
    "plt.figure(figsize=(12,5))\n",
    "ax4 = sns.barplot('Number of Trips','Trip', data = trips_df, palette=\"deep\")\n",
    "ax4.set_title('Most Popular Trips', fontsize = 20)\n",
    "ax4.set_ylabel(\"Trip\",fontsize=16)\n",
    "ax4.set_xlabel(\"Number of Trips\",fontsize=16)\n",
    "for index, row in trips_df.iterrows():\n",
    "    ax4.text(row['Number of Trips']-220,index,row['Number of Trips'], \n",
    "             color='white', ha=\"center\",fontsize = 10)\n",
    "plt.show()"
   ]
  },
  {
   "cell_type": "markdown",
   "metadata": {},
   "source": [
    "Here we can see what the 10 most popular station to station trips are.\n",
    "The station routes with the most trips are \"E 7St & Avenue A\" to \"Cooper Square & E7St\" are the most popular trips with 5915 trips in total for 2017.\n"
   ]
  },
  {
   "cell_type": "markdown",
   "metadata": {},
   "source": [
    "#### Create and save data of count of trips "
   ]
  },
  {
   "cell_type": "code",
   "execution_count": 39,
   "metadata": {},
   "outputs": [],
   "source": [
    "count_trips_df = pd.DataFrame()\n",
    "count_trips_df = df.groupby(['start station name','end station name']).size().reset_index(name = 'Number of Trips')\n",
    "count_trips_df = count_trips_df.sort_values('Number of Trips', ascending = False)\n",
    "count_trips_df['start station name'] = count_trips_df[\"start station name\"].astype(str)\n",
    "count_trips_df[\"end station name\"] = count_trips_df[\"end station name\"].astype(str)"
   ]
  },
  {
   "cell_type": "code",
   "execution_count": 40,
   "metadata": {},
   "outputs": [
    {
     "data": {
      "text/html": [
       "<div>\n",
       "<style scoped>\n",
       "    .dataframe tbody tr th:only-of-type {\n",
       "        vertical-align: middle;\n",
       "    }\n",
       "\n",
       "    .dataframe tbody tr th {\n",
       "        vertical-align: top;\n",
       "    }\n",
       "\n",
       "    .dataframe thead th {\n",
       "        text-align: right;\n",
       "    }\n",
       "</style>\n",
       "<table border=\"1\" class=\"dataframe\">\n",
       "  <thead>\n",
       "    <tr style=\"text-align: right;\">\n",
       "      <th></th>\n",
       "      <th>start station name</th>\n",
       "      <th>end station name</th>\n",
       "      <th>Number of Trips</th>\n",
       "    </tr>\n",
       "  </thead>\n",
       "  <tbody>\n",
       "    <tr>\n",
       "      <th>137522</th>\n",
       "      <td>E 7 St &amp; Avenue A</td>\n",
       "      <td>Cooper Square &amp; E 7 St</td>\n",
       "      <td>5915</td>\n",
       "    </tr>\n",
       "    <tr>\n",
       "      <th>261528</th>\n",
       "      <td>W 21 St &amp; 6 Ave</td>\n",
       "      <td>9 Ave &amp; W 22 St</td>\n",
       "      <td>4772</td>\n",
       "    </tr>\n",
       "    <tr>\n",
       "      <th>218418</th>\n",
       "      <td>Pershing Square North</td>\n",
       "      <td>Broadway &amp; W 32 St</td>\n",
       "      <td>4450</td>\n",
       "    </tr>\n",
       "    <tr>\n",
       "      <th>218551</th>\n",
       "      <td>Pershing Square North</td>\n",
       "      <td>E 24 St &amp; Park Ave S</td>\n",
       "      <td>4304</td>\n",
       "    </tr>\n",
       "    <tr>\n",
       "      <th>218882</th>\n",
       "      <td>Pershing Square North</td>\n",
       "      <td>W 33 St &amp; 7 Ave</td>\n",
       "      <td>4188</td>\n",
       "    </tr>\n",
       "  </tbody>\n",
       "</table>\n",
       "</div>"
      ],
      "text/plain": [
       "           start station name        end station name  Number of Trips\n",
       "137522      E 7 St & Avenue A  Cooper Square & E 7 St             5915\n",
       "261528        W 21 St & 6 Ave         9 Ave & W 22 St             4772\n",
       "218418  Pershing Square North      Broadway & W 32 St             4450\n",
       "218551  Pershing Square North    E 24 St & Park Ave S             4304\n",
       "218882  Pershing Square North         W 33 St & 7 Ave             4188"
      ]
     },
     "execution_count": 40,
     "metadata": {},
     "output_type": "execute_result"
    }
   ],
   "source": [
    "count_trips_df.head()"
   ]
  },
  {
   "cell_type": "code",
   "execution_count": 41,
   "metadata": {},
   "outputs": [
    {
     "data": {
      "text/plain": [
       "(299340, 3)"
      ]
     },
     "execution_count": 41,
     "metadata": {},
     "output_type": "execute_result"
    }
   ],
   "source": [
    "count_trips_df.shape"
   ]
  },
  {
   "cell_type": "code",
   "execution_count": 43,
   "metadata": {},
   "outputs": [],
   "source": [
    "#save to csv\n",
    "count_trips_df = count_trips_df.to_csv('./count_trips.csv')"
   ]
  },
  {
   "cell_type": "markdown",
   "metadata": {},
   "source": [
    "\n",
    "#### Indentifying Most Unpopular Trips"
   ]
  },
  {
   "cell_type": "code",
   "execution_count": 21,
   "metadata": {},
   "outputs": [],
   "source": [
    "#Identify the 10 most unpopular trips\n",
    "trips_df = pd.DataFrame()\n",
    "trips_df = df.groupby(['start station name','end station name']).size().reset_index(name = 'Number of Trips')\n",
    "trips_df = trips_df.sort_values('Number of Trips', ascending = True)\n",
    "trips_df['start station name'] = trips_df[\"start station name\"].astype(str)\n",
    "trips_df[\"end station name\"] = trips_df[\"end station name\"].astype(str)\n",
    "trips_df[\"Trip\"] = trips_df[\"start station name\"] + \" to \" + trips_df[\"end station name\"]\n",
    "trips_df = trips_df[:10]\n",
    "trips_df = trips_df.drop(['start station name', \"end station name\"], axis = 1)\n",
    "trips_df = trips_df.reset_index()"
   ]
  },
  {
   "cell_type": "code",
   "execution_count": 34,
   "metadata": {},
   "outputs": [
    {
     "name": "stderr",
     "output_type": "stream",
     "text": [
      "/Users/seongheelee/opt/anaconda3/lib/python3.8/site-packages/seaborn/_decorators.py:36: FutureWarning: Pass the following variables as keyword args: x, y. From version 0.12, the only valid positional argument will be `data`, and passing other arguments without an explicit keyword will result in an error or misinterpretation.\n",
      "  warnings.warn(\n"
     ]
    },
    {
     "data": {
      "image/png": "[encoded data removed]",
      "text/plain": [
       "<Figure size 864x360 with 1 Axes>"
      ]
     },
     "metadata": {
      "needs_background": "light"
     },
     "output_type": "display_data"
    }
   ],
   "source": [
    "plt.figure(figsize=(12,5))\n",
    "ax4 = sns.barplot('Number of Trips','Trip', data = trips_df, palette=\"deep\")\n",
    "ax4.set_title('Most UnPopular Trips')\n",
    "ax4.set_ylabel(\"Trip\")\n",
    "ax4.set_xlabel(\"Number of Trips\")\n",
    "for index, row in trips_df.iterrows():\n",
    "    ax4.text(row['Number of Trips'],index,row['Number of Trips'], \n",
    "             color='white', ha=\"center\")\n",
    "plt.show()"
   ]
  },
  {
   "cell_type": "markdown",
   "metadata": {},
   "source": [
    "Here the numbers don't have much significance (since they are all 1), but we can check to see what the geoid of the the ten most unpopular stations are. "
   ]
  },
  {
   "cell_type": "markdown",
   "metadata": {},
   "source": [
    "In the next step of our data analysis here, we will look at the ten most popular and unpopular trip geo data."
   ]
  },
  {
   "cell_type": "markdown",
   "metadata": {},
   "source": [
    "<br/>\n",
    "\n",
    "### Exploring Trip Data for Start Station Geoids and End Station Geoids"
   ]
  },
  {
   "cell_type": "code",
   "execution_count": 2,
   "metadata": {},
   "outputs": [],
   "source": [
    "# read the csv file that contains only the start station geoid and end station geoids\n",
    "geo_id_df = pd.read_csv('start_end_geoid.csv')"
   ]
  },
  {
   "cell_type": "markdown",
   "metadata": {},
   "source": [
    "Removing NaN values from df "
   ]
  },
  {
   "cell_type": "code",
   "execution_count": 4,
   "metadata": {},
   "outputs": [],
   "source": [
    "geo_id_df.dropna(inplace = True)\n",
    "geo_id_df.shape"
   ]
  },
  {
   "cell_type": "markdown",
   "metadata": {},
   "source": [
    "#### Counting the Number of Trips Starting at Each Geoid "
   ]
  },
  {
   "cell_type": "code",
   "execution_count": 5,
   "metadata": {},
   "outputs": [],
   "source": [
    "start_counts = geo_id_df['start_station_geoid'].value_counts().rename_axis('start_station').to_frame('trips')\n",
    "## resetting the index so it's now subscriptable \n",
    "start_counts = start_counts.reset_index()"
   ]
  },
  {
   "cell_type": "code",
   "execution_count": 218,
   "metadata": {},
   "outputs": [
    {
     "data": {
      "image/png": "[encoded data removed]",
      "text/plain": [
       "<Figure size 432x288 with 1 Axes>"
      ]
     },
     "metadata": {},
     "output_type": "display_data"
    }
   ],
   "source": [
    "# Due to large size, going to only graph the top ten stations for both start and end \n",
    "sliced_start = start_counts.iloc[:10]\n",
    "sliced_start.plot(x='start_station', y='trips', kind='bar', legend=False)\n",
    "plt.title('Start Station GeoID counts')\n",
    "plt.xlabel('Start Station GeoID')\n",
    "plt.ylabel('Counts')\n",
    "plt.show()"
   ]
  },
  {
   "cell_type": "markdown",
   "metadata": {},
   "source": [
    "From this chart, we can see that the geoid, 36061014300, had the most trips starting from a station in that area. This geoid corresponds to the Central park area, which, as found above, is the census tract with the most citibike stations."
   ]
  },
  {
   "cell_type": "markdown",
   "metadata": {},
   "source": [
    "### Counting the number of trips that ended at each geo_station_id"
   ]
  },
  {
   "cell_type": "code",
   "execution_count": 6,
   "metadata": {},
   "outputs": [],
   "source": [
    "end_counts = geo_id_df['end_station_geoid'].value_counts().rename_axis('end_station').to_frame('trips')\n",
    "#resetting index so now subscriptable\n",
    "end_counts = end_counts.reset_index()"
   ]
  },
  {
   "cell_type": "code",
   "execution_count": 217,
   "metadata": {},
   "outputs": [
    {
     "data": {
      "image/png": "[encoded data removed]",
      "text/plain": [
       "<Figure size 432x288 with 1 Axes>"
      ]
     },
     "metadata": {},
     "output_type": "display_data"
    }
   ],
   "source": [
    "#Due to large size, going to only graph the top ten stations\n",
    "sliced_end = end_counts.iloc[:10]\n",
    "sliced_end.plot(x='end_station', y='trips', kind='bar', legend=False)\n",
    "plt.title('End Station GeoID Counts')\n",
    "plt.xlabel('End Station GeoID')\n",
    "plt.ylabel('Counts')\n",
    "plt.show()"
   ]
  },
  {
   "cell_type": "markdown",
   "metadata": {},
   "source": [
    "From this chart, we can see that most Citibike trips end at the same geo id that was found to be the highest for start geoid. This is consistent with the popularity of Manhattan and Central park. "
   ]
  },
  {
   "cell_type": "markdown",
   "metadata": {},
   "source": [
    "## Plotting most popular start and end station routes"
   ]
  },
  {
   "cell_type": "code",
   "execution_count": 7,
   "metadata": {},
   "outputs": [],
   "source": [
    "#Using groupby to find the unique counts of each route from start station x to end station y\n",
    "routes = geo_id_df.groupby(['start_station_geoid', 'end_station_geoid']).count()\n",
    "#resetting index so that it's subscriptable\n",
    "routes = routes.reset_index()\n",
    "#renaming column to counts\n",
    "routes = routes.rename(columns = {'Unnamed: 0': 'counts'})\n",
    "routes = routes.drop(columns = ['route_count']) #dropping random added col"
   ]
  },
  {
   "cell_type": "markdown",
   "metadata": {},
   "source": [
    "### Sorting values by counts column to see the most popular trip routes"
   ]
  },
  {
   "cell_type": "code",
   "execution_count": 8,
   "metadata": {},
   "outputs": [],
   "source": [
    "# sorting the values by descending count values\n",
    "routes_for_slice = routes.sort_values(by = ['counts'], ascending = False)\n",
    "routes_for_slice = routes_for_slice.reset_index()\n",
    "# show the entire geo_id\n",
    "pd.set_option('float_format', '{:0}'.format)\n",
    "#adding a column with start and end geo id as a pair\n",
    "routes_for_slice['pair'] = list(zip(routes_for_slice['start_station_geoid'],routes_for_slice['end_station_geoid']))"
   ]
  },
  {
   "cell_type": "code",
   "execution_count": 220,
   "metadata": {},
   "outputs": [
    {
     "data": {
      "image/png": "[encoded data removed]",
      "text/plain": [
       "<Figure size 432x288 with 1 Axes>"
      ]
     },
     "metadata": {},
     "output_type": "display_data"
    }
   ],
   "source": [
    "# slicing the top ten routes from the data frame\n",
    "# Removed first row since it seemed abnormally high and from the same station \n",
    "routes_sliced = routes_for_slice.iloc[1:10]\n",
    "routes_sliced.plot(x = 'pair',y = 'counts', kind = 'bar', legend = False)\n",
    "plt.ylabel ('Trip Counts')\n",
    "plt.title('Most Popular Trip Routes')\n",
    "plt.xlabel('Routes between geoids')\n",
    "plt.show()"
   ]
  },
  {
   "cell_type": "markdown",
   "metadata": {},
   "source": [
    "The highest route before removal was from 36061014300 to 36061014300. The number of trips was much higher compared to the next 9 highest routes at almost 200,000. The high usage of Citibikes in this area is even supported by the next highest count route which ends at 36061014300. "
   ]
  },
  {
   "cell_type": "markdown",
   "metadata": {},
   "source": [
    "<br/>\n",
    "\n",
    "\n",
    "\n",
    "### Additional Data Cleaning & Combining:  Connecting Start Station and End Station Geo Ids with Neighborhood"
   ]
  },
  {
   "cell_type": "markdown",
   "metadata": {},
   "source": [
    "Though we have the geoid, lat&long of our current station data, we wanted to add another measurement of dividing NYC locations. We decided to add neighborhood locations to the trip data since using the census tract from the geoid to divide locations would end up dividing the locations of nyc into smaller regions. We wanted to have a larger region just in case the dividing by smaller census tract would end up being more complicated.\n",
    "For our next step, we plan on connecting the geoid to its corresponding neighborhood. This is done in order to accurately track which routes stay within each neighborhood. "
   ]
  },
  {
   "cell_type": "markdown",
   "metadata": {},
   "source": [
    "##### Citibike Trips by Neighborhood,Borough, and CountyCode"
   ]
  },
  {
   "cell_type": "markdown",
   "metadata": {},
   "source": [
    "We have linked the citibike stations to unique geoids, we also labeled the geoids for the start stations and end stations.\n",
    "So we can have an overall idea of wher people are traveling.\n",
    "\n",
    "With the geoids, we can also know the neighborhoods that the citibike trips are occurring in. \n",
    "This notebook will attach the start and end neighborhoods of the trips to the end of the final trip data.\n"
   ]
  },
  {
   "cell_type": "code",
   "execution_count": 5,
   "metadata": {},
   "outputs": [],
   "source": [
    "# read csv\n",
    "trips= pd.read_csv('../../../clean_trip_data.csv')\n",
    "#read excel file of census tracts to neighborhood\n",
    "neigh= pd.read_excel('../nyc_census_tracts/nyc2010census_tabulation_equiv.xlsx')"
   ]
  },
  {
   "cell_type": "code",
   "execution_count": 7,
   "metadata": {},
   "outputs": [
    {
     "data": {
      "text/html": [
       "<div>\n",
       "<style scoped>\n",
       "    .dataframe tbody tr th:only-of-type {\n",
       "        vertical-align: middle;\n",
       "    }\n",
       "\n",
       "    .dataframe tbody tr th {\n",
       "        vertical-align: top;\n",
       "    }\n",
       "\n",
       "    .dataframe thead th {\n",
       "        text-align: right;\n",
       "    }\n",
       "</style>\n",
       "<table border=\"1\" class=\"dataframe\">\n",
       "  <thead>\n",
       "    <tr style=\"text-align: right;\">\n",
       "      <th></th>\n",
       "      <th>Unnamed: 0</th>\n",
       "      <th>starttime</th>\n",
       "      <th>stoptime</th>\n",
       "      <th>start station name</th>\n",
       "      <th>end station name</th>\n",
       "      <th>usertype</th>\n",
       "      <th>birth year</th>\n",
       "      <th>gender</th>\n",
       "      <th>start_station_geoid</th>\n",
       "      <th>end_station_geoid</th>\n",
       "      <th>tripminutes</th>\n",
       "    </tr>\n",
       "  </thead>\n",
       "  <tbody>\n",
       "    <tr>\n",
       "      <th>0</th>\n",
       "      <td>0</td>\n",
       "      <td>2017-01-01 00:00:21</td>\n",
       "      <td>2017-01-01 00:11:41</td>\n",
       "      <td>W 82 St &amp; Central Park West</td>\n",
       "      <td>Central Park West &amp; W 72 St</td>\n",
       "      <td>Subscriber</td>\n",
       "      <td>1965.0</td>\n",
       "      <td>2</td>\n",
       "      <td>3.606102e+10</td>\n",
       "      <td>3.606101e+10</td>\n",
       "      <td>11</td>\n",
       "    </tr>\n",
       "    <tr>\n",
       "      <th>1</th>\n",
       "      <td>1</td>\n",
       "      <td>2017-01-01 00:00:45</td>\n",
       "      <td>2017-01-01 00:22:08</td>\n",
       "      <td>Cooper Square &amp; E 7 St</td>\n",
       "      <td>Broadway &amp; W 32 St</td>\n",
       "      <td>Subscriber</td>\n",
       "      <td>1987.0</td>\n",
       "      <td>2</td>\n",
       "      <td>3.606100e+10</td>\n",
       "      <td>3.606101e+10</td>\n",
       "      <td>21</td>\n",
       "    </tr>\n",
       "    <tr>\n",
       "      <th>2</th>\n",
       "      <td>6</td>\n",
       "      <td>2017-01-01 00:05:00</td>\n",
       "      <td>2017-01-01 00:14:20</td>\n",
       "      <td>Broadway &amp; W 60 St</td>\n",
       "      <td>9 Ave &amp; W 45 St</td>\n",
       "      <td>Subscriber</td>\n",
       "      <td>1973.0</td>\n",
       "      <td>1</td>\n",
       "      <td>3.606101e+10</td>\n",
       "      <td>3.606101e+10</td>\n",
       "      <td>9</td>\n",
       "    </tr>\n",
       "    <tr>\n",
       "      <th>3</th>\n",
       "      <td>7</td>\n",
       "      <td>2017-01-01 00:05:37</td>\n",
       "      <td>2017-01-01 00:19:24</td>\n",
       "      <td>Broadway &amp; W 37 St</td>\n",
       "      <td>E 10 St &amp; Avenue A</td>\n",
       "      <td>Subscriber</td>\n",
       "      <td>1977.0</td>\n",
       "      <td>2</td>\n",
       "      <td>3.606101e+10</td>\n",
       "      <td>3.606100e+10</td>\n",
       "      <td>13</td>\n",
       "    </tr>\n",
       "    <tr>\n",
       "      <th>4</th>\n",
       "      <td>8</td>\n",
       "      <td>2017-01-01 00:05:47</td>\n",
       "      <td>2017-01-01 00:10:02</td>\n",
       "      <td>York St &amp; Jay St</td>\n",
       "      <td>Carlton Ave &amp; Flushing Ave</td>\n",
       "      <td>Subscriber</td>\n",
       "      <td>1989.0</td>\n",
       "      <td>1</td>\n",
       "      <td>3.604700e+10</td>\n",
       "      <td>3.604702e+10</td>\n",
       "      <td>4</td>\n",
       "    </tr>\n",
       "  </tbody>\n",
       "</table>\n",
       "</div>"
      ],
      "text/plain": [
       "   Unnamed: 0            starttime             stoptime  \\\n",
       "0           0  2017-01-01 00:00:21  2017-01-01 00:11:41   \n",
       "1           1  2017-01-01 00:00:45  2017-01-01 00:22:08   \n",
       "2           6  2017-01-01 00:05:00  2017-01-01 00:14:20   \n",
       "3           7  2017-01-01 00:05:37  2017-01-01 00:19:24   \n",
       "4           8  2017-01-01 00:05:47  2017-01-01 00:10:02   \n",
       "\n",
       "            start station name             end station name    usertype  \\\n",
       "0  W 82 St & Central Park West  Central Park West & W 72 St  Subscriber   \n",
       "1       Cooper Square & E 7 St           Broadway & W 32 St  Subscriber   \n",
       "2           Broadway & W 60 St              9 Ave & W 45 St  Subscriber   \n",
       "3           Broadway & W 37 St           E 10 St & Avenue A  Subscriber   \n",
       "4             York St & Jay St   Carlton Ave & Flushing Ave  Subscriber   \n",
       "\n",
       "   birth year  gender  start_station_geoid  end_station_geoid  tripminutes  \n",
       "0      1965.0       2         3.606102e+10       3.606101e+10           11  \n",
       "1      1987.0       2         3.606100e+10       3.606101e+10           21  \n",
       "2      1973.0       1         3.606101e+10       3.606101e+10            9  \n",
       "3      1977.0       2         3.606101e+10       3.606100e+10           13  \n",
       "4      1989.0       1         3.604700e+10       3.604702e+10            4  "
      ]
     },
     "execution_count": 7,
     "metadata": {},
     "output_type": "execute_result"
    }
   ],
   "source": [
    "trips.head()"
   ]
  },
  {
   "cell_type": "code",
   "execution_count": 7,
   "metadata": {},
   "outputs": [
    {
     "data": {
      "text/html": [
       "<div>\n",
       "<style scoped>\n",
       "    .dataframe tbody tr th:only-of-type {\n",
       "        vertical-align: middle;\n",
       "    }\n",
       "\n",
       "    .dataframe tbody tr th {\n",
       "        vertical-align: top;\n",
       "    }\n",
       "\n",
       "    .dataframe thead th {\n",
       "        text-align: right;\n",
       "    }\n",
       "</style>\n",
       "<table border=\"1\" class=\"dataframe\">\n",
       "  <thead>\n",
       "    <tr style=\"text-align: right;\">\n",
       "      <th></th>\n",
       "      <th>Unnamed: 0</th>\n",
       "      <th>Unnamed: 1</th>\n",
       "      <th>Unnamed: 2</th>\n",
       "      <th>Unnamed: 3</th>\n",
       "      <th>Unnamed: 4</th>\n",
       "      <th>Unnamed: 5</th>\n",
       "      <th>Unnamed: 6</th>\n",
       "    </tr>\n",
       "  </thead>\n",
       "  <tbody>\n",
       "    <tr>\n",
       "      <th>0</th>\n",
       "      <td>New York City 2010 Census Tract to Neighborhoo...</td>\n",
       "      <td>NaN</td>\n",
       "      <td>NaN</td>\n",
       "      <td>NaN</td>\n",
       "      <td>NaN</td>\n",
       "      <td>NaN</td>\n",
       "      <td>NaN</td>\n",
       "    </tr>\n",
       "    <tr>\n",
       "      <th>1</th>\n",
       "      <td>NaN</td>\n",
       "      <td>NaN</td>\n",
       "      <td>NaN</td>\n",
       "      <td>NaN</td>\n",
       "      <td>NaN</td>\n",
       "      <td>NaN</td>\n",
       "      <td>NaN</td>\n",
       "    </tr>\n",
       "    <tr>\n",
       "      <th>2</th>\n",
       "      <td>Borough</td>\n",
       "      <td>2010 Census Bureau FIPS County Code</td>\n",
       "      <td>2010 NYC Borough Code</td>\n",
       "      <td>2010 Census Tract</td>\n",
       "      <td>PUMA</td>\n",
       "      <td>Neighborhood Tabulation Area (NTA)</td>\n",
       "      <td>NaN</td>\n",
       "    </tr>\n",
       "    <tr>\n",
       "      <th>3</th>\n",
       "      <td>NaN</td>\n",
       "      <td>NaN</td>\n",
       "      <td>NaN</td>\n",
       "      <td>NaN</td>\n",
       "      <td>NaN</td>\n",
       "      <td>Code</td>\n",
       "      <td>Name</td>\n",
       "    </tr>\n",
       "    <tr>\n",
       "      <th>4</th>\n",
       "      <td>Bronx</td>\n",
       "      <td>005</td>\n",
       "      <td>2</td>\n",
       "      <td>031000</td>\n",
       "      <td>3704</td>\n",
       "      <td>BX31</td>\n",
       "      <td>Allerton-Pelham Gardens</td>\n",
       "    </tr>\n",
       "  </tbody>\n",
       "</table>\n",
       "</div>"
      ],
      "text/plain": [
       "                                          Unnamed: 0  \\\n",
       "0  New York City 2010 Census Tract to Neighborhoo...   \n",
       "1                                                NaN   \n",
       "2                                            Borough   \n",
       "3                                                NaN   \n",
       "4                                              Bronx   \n",
       "\n",
       "                            Unnamed: 1             Unnamed: 2  \\\n",
       "0                                  NaN                    NaN   \n",
       "1                                  NaN                    NaN   \n",
       "2  2010 Census Bureau FIPS County Code  2010 NYC Borough Code   \n",
       "3                                  NaN                    NaN   \n",
       "4                                  005                      2   \n",
       "\n",
       "          Unnamed: 3 Unnamed: 4                          Unnamed: 5  \\\n",
       "0                NaN        NaN                                 NaN   \n",
       "1                NaN        NaN                                 NaN   \n",
       "2  2010 Census Tract       PUMA  Neighborhood Tabulation Area (NTA)   \n",
       "3                NaN        NaN                                Code   \n",
       "4             031000       3704                                BX31   \n",
       "\n",
       "                Unnamed: 6  \n",
       "0                      NaN  \n",
       "1                      NaN  \n",
       "2                      NaN  \n",
       "3                     Name  \n",
       "4  Allerton-Pelham Gardens  "
      ]
     },
     "execution_count": 7,
     "metadata": {},
     "output_type": "execute_result"
    }
   ],
   "source": [
    "neigh.head()"
   ]
  },
  {
   "cell_type": "markdown",
   "metadata": {},
   "source": [
    "It seems that the neighborhood data  starts at the 2nd. row we will drop the first two rows"
   ]
  },
  {
   "cell_type": "code",
   "execution_count": 4,
   "metadata": {},
   "outputs": [
    {
     "data": {
      "text/html": [
       "<div>\n",
       "<style scoped>\n",
       "    .dataframe tbody tr th:only-of-type {\n",
       "        vertical-align: middle;\n",
       "    }\n",
       "\n",
       "    .dataframe tbody tr th {\n",
       "        vertical-align: top;\n",
       "    }\n",
       "\n",
       "    .dataframe thead th {\n",
       "        text-align: right;\n",
       "    }\n",
       "</style>\n",
       "<table border=\"1\" class=\"dataframe\">\n",
       "  <thead>\n",
       "    <tr style=\"text-align: right;\">\n",
       "      <th></th>\n",
       "      <th>Unnamed: 0</th>\n",
       "      <th>Unnamed: 1</th>\n",
       "      <th>Unnamed: 2</th>\n",
       "      <th>Unnamed: 3</th>\n",
       "      <th>Unnamed: 4</th>\n",
       "      <th>Unnamed: 5</th>\n",
       "      <th>Unnamed: 6</th>\n",
       "    </tr>\n",
       "  </thead>\n",
       "  <tbody>\n",
       "    <tr>\n",
       "      <th>2</th>\n",
       "      <td>Borough</td>\n",
       "      <td>2010 Census Bureau FIPS County Code</td>\n",
       "      <td>2010 NYC Borough Code</td>\n",
       "      <td>2010 Census Tract</td>\n",
       "      <td>PUMA</td>\n",
       "      <td>Neighborhood Tabulation Area (NTA)</td>\n",
       "      <td>NaN</td>\n",
       "    </tr>\n",
       "    <tr>\n",
       "      <th>3</th>\n",
       "      <td>NaN</td>\n",
       "      <td>NaN</td>\n",
       "      <td>NaN</td>\n",
       "      <td>NaN</td>\n",
       "      <td>NaN</td>\n",
       "      <td>Code</td>\n",
       "      <td>Name</td>\n",
       "    </tr>\n",
       "    <tr>\n",
       "      <th>4</th>\n",
       "      <td>Bronx</td>\n",
       "      <td>005</td>\n",
       "      <td>2</td>\n",
       "      <td>031000</td>\n",
       "      <td>3704</td>\n",
       "      <td>BX31</td>\n",
       "      <td>Allerton-Pelham Gardens</td>\n",
       "    </tr>\n",
       "    <tr>\n",
       "      <th>5</th>\n",
       "      <td>Bronx</td>\n",
       "      <td>005</td>\n",
       "      <td>2</td>\n",
       "      <td>031200</td>\n",
       "      <td>3704</td>\n",
       "      <td>BX31</td>\n",
       "      <td>Allerton-Pelham Gardens</td>\n",
       "    </tr>\n",
       "    <tr>\n",
       "      <th>6</th>\n",
       "      <td>Bronx</td>\n",
       "      <td>005</td>\n",
       "      <td>2</td>\n",
       "      <td>031400</td>\n",
       "      <td>3704</td>\n",
       "      <td>BX31</td>\n",
       "      <td>Allerton-Pelham Gardens</td>\n",
       "    </tr>\n",
       "  </tbody>\n",
       "</table>\n",
       "</div>"
      ],
      "text/plain": [
       "  Unnamed: 0                           Unnamed: 1             Unnamed: 2  \\\n",
       "2    Borough  2010 Census Bureau FIPS County Code  2010 NYC Borough Code   \n",
       "3        NaN                                  NaN                    NaN   \n",
       "4      Bronx                                  005                      2   \n",
       "5      Bronx                                  005                      2   \n",
       "6      Bronx                                  005                      2   \n",
       "\n",
       "          Unnamed: 3 Unnamed: 4                          Unnamed: 5  \\\n",
       "2  2010 Census Tract       PUMA  Neighborhood Tabulation Area (NTA)   \n",
       "3                NaN        NaN                                Code   \n",
       "4             031000       3704                                BX31   \n",
       "5             031200       3704                                BX31   \n",
       "6             031400       3704                                BX31   \n",
       "\n",
       "                Unnamed: 6  \n",
       "2                      NaN  \n",
       "3                     Name  \n",
       "4  Allerton-Pelham Gardens  \n",
       "5  Allerton-Pelham Gardens  \n",
       "6  Allerton-Pelham Gardens  "
      ]
     },
     "execution_count": 4,
     "metadata": {},
     "output_type": "execute_result"
    }
   ],
   "source": [
    "neigh=neigh.drop([0, 1])\n",
    "neigh.head()"
   ]
  },
  {
   "cell_type": "code",
   "execution_count": 5,
   "metadata": {},
   "outputs": [],
   "source": [
    "neigh.columns = neigh.iloc[0]\n",
    "neigh = neigh[1:]"
   ]
  },
  {
   "cell_type": "code",
   "execution_count": 10,
   "metadata": {},
   "outputs": [
    {
     "data": {
      "text/html": [
       "<div>\n",
       "<style scoped>\n",
       "    .dataframe tbody tr th:only-of-type {\n",
       "        vertical-align: middle;\n",
       "    }\n",
       "\n",
       "    .dataframe tbody tr th {\n",
       "        vertical-align: top;\n",
       "    }\n",
       "\n",
       "    .dataframe thead th {\n",
       "        text-align: right;\n",
       "    }\n",
       "</style>\n",
       "<table border=\"1\" class=\"dataframe\">\n",
       "  <thead>\n",
       "    <tr style=\"text-align: right;\">\n",
       "      <th>2</th>\n",
       "      <th>Borough</th>\n",
       "      <th>2010 Census Bureau FIPS County Code</th>\n",
       "      <th>2010 NYC Borough Code</th>\n",
       "      <th>2010 Census Tract</th>\n",
       "      <th>PUMA</th>\n",
       "      <th>Neighborhood Tabulation Area (NTA)</th>\n",
       "      <th>NaN</th>\n",
       "    </tr>\n",
       "  </thead>\n",
       "  <tbody>\n",
       "    <tr>\n",
       "      <th>3</th>\n",
       "      <td>NaN</td>\n",
       "      <td>NaN</td>\n",
       "      <td>NaN</td>\n",
       "      <td>NaN</td>\n",
       "      <td>NaN</td>\n",
       "      <td>Code</td>\n",
       "      <td>Name</td>\n",
       "    </tr>\n",
       "    <tr>\n",
       "      <th>4</th>\n",
       "      <td>Bronx</td>\n",
       "      <td>005</td>\n",
       "      <td>2</td>\n",
       "      <td>031000</td>\n",
       "      <td>3704</td>\n",
       "      <td>BX31</td>\n",
       "      <td>Allerton-Pelham Gardens</td>\n",
       "    </tr>\n",
       "    <tr>\n",
       "      <th>5</th>\n",
       "      <td>Bronx</td>\n",
       "      <td>005</td>\n",
       "      <td>2</td>\n",
       "      <td>031200</td>\n",
       "      <td>3704</td>\n",
       "      <td>BX31</td>\n",
       "      <td>Allerton-Pelham Gardens</td>\n",
       "    </tr>\n",
       "    <tr>\n",
       "      <th>6</th>\n",
       "      <td>Bronx</td>\n",
       "      <td>005</td>\n",
       "      <td>2</td>\n",
       "      <td>031400</td>\n",
       "      <td>3704</td>\n",
       "      <td>BX31</td>\n",
       "      <td>Allerton-Pelham Gardens</td>\n",
       "    </tr>\n",
       "    <tr>\n",
       "      <th>7</th>\n",
       "      <td>Bronx</td>\n",
       "      <td>005</td>\n",
       "      <td>2</td>\n",
       "      <td>031600</td>\n",
       "      <td>3704</td>\n",
       "      <td>BX31</td>\n",
       "      <td>Allerton-Pelham Gardens</td>\n",
       "    </tr>\n",
       "  </tbody>\n",
       "</table>\n",
       "</div>"
      ],
      "text/plain": [
       "2 Borough 2010 Census Bureau FIPS County Code 2010 NYC Borough Code  \\\n",
       "3     NaN                                 NaN                   NaN   \n",
       "4   Bronx                                 005                     2   \n",
       "5   Bronx                                 005                     2   \n",
       "6   Bronx                                 005                     2   \n",
       "7   Bronx                                 005                     2   \n",
       "\n",
       "2 2010 Census Tract  PUMA Neighborhood Tabulation Area (NTA)  \\\n",
       "3               NaN   NaN                               Code   \n",
       "4            031000  3704                               BX31   \n",
       "5            031200  3704                               BX31   \n",
       "6            031400  3704                               BX31   \n",
       "7            031600  3704                               BX31   \n",
       "\n",
       "2                      NaN  \n",
       "3                     Name  \n",
       "4  Allerton-Pelham Gardens  \n",
       "5  Allerton-Pelham Gardens  \n",
       "6  Allerton-Pelham Gardens  \n",
       "7  Allerton-Pelham Gardens  "
      ]
     },
     "execution_count": 10,
     "metadata": {},
     "output_type": "execute_result"
    }
   ],
   "source": [
    "neigh.head()"
   ]
  },
  {
   "cell_type": "code",
   "execution_count": 6,
   "metadata": {},
   "outputs": [
    {
     "data": {
      "text/html": [
       "<div>\n",
       "<style scoped>\n",
       "    .dataframe tbody tr th:only-of-type {\n",
       "        vertical-align: middle;\n",
       "    }\n",
       "\n",
       "    .dataframe tbody tr th {\n",
       "        vertical-align: top;\n",
       "    }\n",
       "\n",
       "    .dataframe thead th {\n",
       "        text-align: right;\n",
       "    }\n",
       "</style>\n",
       "<table border=\"1\" class=\"dataframe\">\n",
       "  <thead>\n",
       "    <tr style=\"text-align: right;\">\n",
       "      <th>2</th>\n",
       "      <th>index</th>\n",
       "      <th>Borough</th>\n",
       "      <th>2010 Census Bureau FIPS County Code</th>\n",
       "      <th>2010 NYC Borough Code</th>\n",
       "      <th>2010 Census Tract</th>\n",
       "      <th>PUMA</th>\n",
       "      <th>Neighborhood Tabulation Area (NTA)</th>\n",
       "      <th>NaN</th>\n",
       "    </tr>\n",
       "  </thead>\n",
       "  <tbody>\n",
       "    <tr>\n",
       "      <th>0</th>\n",
       "      <td>3</td>\n",
       "      <td>NaN</td>\n",
       "      <td>NaN</td>\n",
       "      <td>NaN</td>\n",
       "      <td>NaN</td>\n",
       "      <td>NaN</td>\n",
       "      <td>Code</td>\n",
       "      <td>Name</td>\n",
       "    </tr>\n",
       "    <tr>\n",
       "      <th>1</th>\n",
       "      <td>4</td>\n",
       "      <td>Bronx</td>\n",
       "      <td>005</td>\n",
       "      <td>2</td>\n",
       "      <td>031000</td>\n",
       "      <td>3704</td>\n",
       "      <td>BX31</td>\n",
       "      <td>Allerton-Pelham Gardens</td>\n",
       "    </tr>\n",
       "    <tr>\n",
       "      <th>2</th>\n",
       "      <td>5</td>\n",
       "      <td>Bronx</td>\n",
       "      <td>005</td>\n",
       "      <td>2</td>\n",
       "      <td>031200</td>\n",
       "      <td>3704</td>\n",
       "      <td>BX31</td>\n",
       "      <td>Allerton-Pelham Gardens</td>\n",
       "    </tr>\n",
       "    <tr>\n",
       "      <th>3</th>\n",
       "      <td>6</td>\n",
       "      <td>Bronx</td>\n",
       "      <td>005</td>\n",
       "      <td>2</td>\n",
       "      <td>031400</td>\n",
       "      <td>3704</td>\n",
       "      <td>BX31</td>\n",
       "      <td>Allerton-Pelham Gardens</td>\n",
       "    </tr>\n",
       "    <tr>\n",
       "      <th>4</th>\n",
       "      <td>7</td>\n",
       "      <td>Bronx</td>\n",
       "      <td>005</td>\n",
       "      <td>2</td>\n",
       "      <td>031600</td>\n",
       "      <td>3704</td>\n",
       "      <td>BX31</td>\n",
       "      <td>Allerton-Pelham Gardens</td>\n",
       "    </tr>\n",
       "  </tbody>\n",
       "</table>\n",
       "</div>"
      ],
      "text/plain": [
       "2  index Borough 2010 Census Bureau FIPS County Code 2010 NYC Borough Code  \\\n",
       "0      3     NaN                                 NaN                   NaN   \n",
       "1      4   Bronx                                 005                     2   \n",
       "2      5   Bronx                                 005                     2   \n",
       "3      6   Bronx                                 005                     2   \n",
       "4      7   Bronx                                 005                     2   \n",
       "\n",
       "2 2010 Census Tract  PUMA Neighborhood Tabulation Area (NTA)  \\\n",
       "0               NaN   NaN                               Code   \n",
       "1            031000  3704                               BX31   \n",
       "2            031200  3704                               BX31   \n",
       "3            031400  3704                               BX31   \n",
       "4            031600  3704                               BX31   \n",
       "\n",
       "2                      NaN  \n",
       "0                     Name  \n",
       "1  Allerton-Pelham Gardens  \n",
       "2  Allerton-Pelham Gardens  \n",
       "3  Allerton-Pelham Gardens  \n",
       "4  Allerton-Pelham Gardens  "
      ]
     },
     "execution_count": 6,
     "metadata": {},
     "output_type": "execute_result"
    }
   ],
   "source": [
    "#reset the index\n",
    "neigh=neigh.reset_index()\n",
    "neigh.head()"
   ]
  },
  {
   "cell_type": "code",
   "execution_count": 7,
   "metadata": {},
   "outputs": [],
   "source": [
    "#rename last column\n",
    "neigh.columns = neigh.columns.fillna('neighborhood')"
   ]
  },
  {
   "cell_type": "code",
   "execution_count": 13,
   "metadata": {},
   "outputs": [
    {
     "data": {
      "text/html": [
       "<div>\n",
       "<style scoped>\n",
       "    .dataframe tbody tr th:only-of-type {\n",
       "        vertical-align: middle;\n",
       "    }\n",
       "\n",
       "    .dataframe tbody tr th {\n",
       "        vertical-align: top;\n",
       "    }\n",
       "\n",
       "    .dataframe thead th {\n",
       "        text-align: right;\n",
       "    }\n",
       "</style>\n",
       "<table border=\"1\" class=\"dataframe\">\n",
       "  <thead>\n",
       "    <tr style=\"text-align: right;\">\n",
       "      <th>2</th>\n",
       "      <th>index</th>\n",
       "      <th>Borough</th>\n",
       "      <th>2010 Census Bureau FIPS County Code</th>\n",
       "      <th>2010 NYC Borough Code</th>\n",
       "      <th>2010 Census Tract</th>\n",
       "      <th>PUMA</th>\n",
       "      <th>Neighborhood Tabulation Area (NTA)</th>\n",
       "      <th>neighborhood</th>\n",
       "    </tr>\n",
       "  </thead>\n",
       "  <tbody>\n",
       "    <tr>\n",
       "      <th>0</th>\n",
       "      <td>3</td>\n",
       "      <td>NaN</td>\n",
       "      <td>NaN</td>\n",
       "      <td>NaN</td>\n",
       "      <td>NaN</td>\n",
       "      <td>NaN</td>\n",
       "      <td>Code</td>\n",
       "      <td>Name</td>\n",
       "    </tr>\n",
       "    <tr>\n",
       "      <th>1</th>\n",
       "      <td>4</td>\n",
       "      <td>Bronx</td>\n",
       "      <td>005</td>\n",
       "      <td>2</td>\n",
       "      <td>031000</td>\n",
       "      <td>3704</td>\n",
       "      <td>BX31</td>\n",
       "      <td>Allerton-Pelham Gardens</td>\n",
       "    </tr>\n",
       "    <tr>\n",
       "      <th>2</th>\n",
       "      <td>5</td>\n",
       "      <td>Bronx</td>\n",
       "      <td>005</td>\n",
       "      <td>2</td>\n",
       "      <td>031200</td>\n",
       "      <td>3704</td>\n",
       "      <td>BX31</td>\n",
       "      <td>Allerton-Pelham Gardens</td>\n",
       "    </tr>\n",
       "    <tr>\n",
       "      <th>3</th>\n",
       "      <td>6</td>\n",
       "      <td>Bronx</td>\n",
       "      <td>005</td>\n",
       "      <td>2</td>\n",
       "      <td>031400</td>\n",
       "      <td>3704</td>\n",
       "      <td>BX31</td>\n",
       "      <td>Allerton-Pelham Gardens</td>\n",
       "    </tr>\n",
       "    <tr>\n",
       "      <th>4</th>\n",
       "      <td>7</td>\n",
       "      <td>Bronx</td>\n",
       "      <td>005</td>\n",
       "      <td>2</td>\n",
       "      <td>031600</td>\n",
       "      <td>3704</td>\n",
       "      <td>BX31</td>\n",
       "      <td>Allerton-Pelham Gardens</td>\n",
       "    </tr>\n",
       "  </tbody>\n",
       "</table>\n",
       "</div>"
      ],
      "text/plain": [
       "2  index Borough 2010 Census Bureau FIPS County Code 2010 NYC Borough Code  \\\n",
       "0      3     NaN                                 NaN                   NaN   \n",
       "1      4   Bronx                                 005                     2   \n",
       "2      5   Bronx                                 005                     2   \n",
       "3      6   Bronx                                 005                     2   \n",
       "4      7   Bronx                                 005                     2   \n",
       "\n",
       "2 2010 Census Tract  PUMA Neighborhood Tabulation Area (NTA)  \\\n",
       "0               NaN   NaN                               Code   \n",
       "1            031000  3704                               BX31   \n",
       "2            031200  3704                               BX31   \n",
       "3            031400  3704                               BX31   \n",
       "4            031600  3704                               BX31   \n",
       "\n",
       "2             neighborhood  \n",
       "0                     Name  \n",
       "1  Allerton-Pelham Gardens  \n",
       "2  Allerton-Pelham Gardens  \n",
       "3  Allerton-Pelham Gardens  \n",
       "4  Allerton-Pelham Gardens  "
      ]
     },
     "execution_count": 13,
     "metadata": {},
     "output_type": "execute_result"
    }
   ],
   "source": [
    "neigh.head()"
   ]
  },
  {
   "cell_type": "code",
   "execution_count": 15,
   "metadata": {},
   "outputs": [
    {
     "data": {
      "text/plain": [
       "Index(['index', 'Borough', '2010 Census Bureau FIPS County Code',\n",
       "       '2010 NYC Borough Code', '2010 Census Tract', 'PUMA',\n",
       "       'Neighborhood Tabulation Area (NTA)', 'neighborhood'],\n",
       "      dtype='object', name=2)"
      ]
     },
     "execution_count": 15,
     "metadata": {},
     "output_type": "execute_result"
    }
   ],
   "source": [
    "neigh.columns"
   ]
  },
  {
   "cell_type": "code",
   "execution_count": 16,
   "metadata": {},
   "outputs": [
    {
     "data": {
      "text/html": [
       "<div>\n",
       "<style scoped>\n",
       "    .dataframe tbody tr th:only-of-type {\n",
       "        vertical-align: middle;\n",
       "    }\n",
       "\n",
       "    .dataframe tbody tr th {\n",
       "        vertical-align: top;\n",
       "    }\n",
       "\n",
       "    .dataframe thead th {\n",
       "        text-align: right;\n",
       "    }\n",
       "</style>\n",
       "<table border=\"1\" class=\"dataframe\">\n",
       "  <thead>\n",
       "    <tr style=\"text-align: right;\">\n",
       "      <th></th>\n",
       "      <th>Unnamed: 0</th>\n",
       "      <th>starttime</th>\n",
       "      <th>stoptime</th>\n",
       "      <th>start station name</th>\n",
       "      <th>end station name</th>\n",
       "      <th>usertype</th>\n",
       "      <th>birth year</th>\n",
       "      <th>gender</th>\n",
       "      <th>start_station_geoid</th>\n",
       "      <th>end_station_geoid</th>\n",
       "      <th>tripminutes</th>\n",
       "    </tr>\n",
       "  </thead>\n",
       "  <tbody>\n",
       "    <tr>\n",
       "      <th>0</th>\n",
       "      <td>0</td>\n",
       "      <td>2017-01-01 00:00:21</td>\n",
       "      <td>2017-01-01 00:11:41</td>\n",
       "      <td>W 82 St &amp; Central Park West</td>\n",
       "      <td>Central Park West &amp; W 72 St</td>\n",
       "      <td>Subscriber</td>\n",
       "      <td>1965.0</td>\n",
       "      <td>2</td>\n",
       "      <td>3.606102e+10</td>\n",
       "      <td>3.606101e+10</td>\n",
       "      <td>11</td>\n",
       "    </tr>\n",
       "    <tr>\n",
       "      <th>1</th>\n",
       "      <td>1</td>\n",
       "      <td>2017-01-01 00:00:45</td>\n",
       "      <td>2017-01-01 00:22:08</td>\n",
       "      <td>Cooper Square &amp; E 7 St</td>\n",
       "      <td>Broadway &amp; W 32 St</td>\n",
       "      <td>Subscriber</td>\n",
       "      <td>1987.0</td>\n",
       "      <td>2</td>\n",
       "      <td>3.606100e+10</td>\n",
       "      <td>3.606101e+10</td>\n",
       "      <td>21</td>\n",
       "    </tr>\n",
       "    <tr>\n",
       "      <th>2</th>\n",
       "      <td>6</td>\n",
       "      <td>2017-01-01 00:05:00</td>\n",
       "      <td>2017-01-01 00:14:20</td>\n",
       "      <td>Broadway &amp; W 60 St</td>\n",
       "      <td>9 Ave &amp; W 45 St</td>\n",
       "      <td>Subscriber</td>\n",
       "      <td>1973.0</td>\n",
       "      <td>1</td>\n",
       "      <td>3.606101e+10</td>\n",
       "      <td>3.606101e+10</td>\n",
       "      <td>9</td>\n",
       "    </tr>\n",
       "    <tr>\n",
       "      <th>3</th>\n",
       "      <td>7</td>\n",
       "      <td>2017-01-01 00:05:37</td>\n",
       "      <td>2017-01-01 00:19:24</td>\n",
       "      <td>Broadway &amp; W 37 St</td>\n",
       "      <td>E 10 St &amp; Avenue A</td>\n",
       "      <td>Subscriber</td>\n",
       "      <td>1977.0</td>\n",
       "      <td>2</td>\n",
       "      <td>3.606101e+10</td>\n",
       "      <td>3.606100e+10</td>\n",
       "      <td>13</td>\n",
       "    </tr>\n",
       "    <tr>\n",
       "      <th>4</th>\n",
       "      <td>8</td>\n",
       "      <td>2017-01-01 00:05:47</td>\n",
       "      <td>2017-01-01 00:10:02</td>\n",
       "      <td>York St &amp; Jay St</td>\n",
       "      <td>Carlton Ave &amp; Flushing Ave</td>\n",
       "      <td>Subscriber</td>\n",
       "      <td>1989.0</td>\n",
       "      <td>1</td>\n",
       "      <td>3.604700e+10</td>\n",
       "      <td>3.604702e+10</td>\n",
       "      <td>4</td>\n",
       "    </tr>\n",
       "  </tbody>\n",
       "</table>\n",
       "</div>"
      ],
      "text/plain": [
       "   Unnamed: 0            starttime             stoptime  \\\n",
       "0           0  2017-01-01 00:00:21  2017-01-01 00:11:41   \n",
       "1           1  2017-01-01 00:00:45  2017-01-01 00:22:08   \n",
       "2           6  2017-01-01 00:05:00  2017-01-01 00:14:20   \n",
       "3           7  2017-01-01 00:05:37  2017-01-01 00:19:24   \n",
       "4           8  2017-01-01 00:05:47  2017-01-01 00:10:02   \n",
       "\n",
       "            start station name             end station name    usertype  \\\n",
       "0  W 82 St & Central Park West  Central Park West & W 72 St  Subscriber   \n",
       "1       Cooper Square & E 7 St           Broadway & W 32 St  Subscriber   \n",
       "2           Broadway & W 60 St              9 Ave & W 45 St  Subscriber   \n",
       "3           Broadway & W 37 St           E 10 St & Avenue A  Subscriber   \n",
       "4             York St & Jay St   Carlton Ave & Flushing Ave  Subscriber   \n",
       "\n",
       "   birth year  gender  start_station_geoid  end_station_geoid  tripminutes  \n",
       "0      1965.0       2         3.606102e+10       3.606101e+10           11  \n",
       "1      1987.0       2         3.606100e+10       3.606101e+10           21  \n",
       "2      1973.0       1         3.606101e+10       3.606101e+10            9  \n",
       "3      1977.0       2         3.606101e+10       3.606100e+10           13  \n",
       "4      1989.0       1         3.604700e+10       3.604702e+10            4  "
      ]
     },
     "execution_count": 16,
     "metadata": {},
     "output_type": "execute_result"
    }
   ],
   "source": [
    "trips.head()"
   ]
  },
  {
   "cell_type": "code",
   "execution_count": 18,
   "metadata": {},
   "outputs": [],
   "source": [
    "trips=trips.drop(columns=['Unnamed: 0'])"
   ]
  },
  {
   "cell_type": "code",
   "execution_count": 19,
   "metadata": {},
   "outputs": [
    {
     "data": {
      "text/plain": [
       "Index(['starttime', 'stoptime', 'start station name', 'end station name',\n",
       "       'usertype', 'birth year', 'gender', 'start_station_geoid',\n",
       "       'end_station_geoid', 'tripminutes'],\n",
       "      dtype='object')"
      ]
     },
     "execution_count": 19,
     "metadata": {},
     "output_type": "execute_result"
    }
   ],
   "source": [
    "trips.columns"
   ]
  },
  {
   "cell_type": "markdown",
   "metadata": {},
   "source": [
    "**The last 6 digits of the geoid in the trip data can be used to find the neighborhood data. \n",
    "The last 6 digits are the 2010 Census Tract Numbers we will use them to match the neighborhood name**"
   ]
  },
  {
   "cell_type": "markdown",
   "metadata": {},
   "source": [
    "## Add citibike neighborhoods to start and end stations of tripdata"
   ]
  },
  {
   "cell_type": "code",
   "execution_count": 20,
   "metadata": {},
   "outputs": [],
   "source": [
    "# get last 6 digits of start_station_geoid\n",
    "trips['n_start_id']=trips['start_station_geoid'].astype(str).str[5:-2]"
   ]
  },
  {
   "cell_type": "code",
   "execution_count": 21,
   "metadata": {},
   "outputs": [],
   "source": [
    "# get last 6 digits of end_station_geoid\n",
    "trips['n_stop_id']=trips['end_station_geoid'].astype(str).str[5:-2]"
   ]
  },
  {
   "cell_type": "code",
   "execution_count": 22,
   "metadata": {},
   "outputs": [
    {
     "data": {
      "text/html": [
       "<div>\n",
       "<style scoped>\n",
       "    .dataframe tbody tr th:only-of-type {\n",
       "        vertical-align: middle;\n",
       "    }\n",
       "\n",
       "    .dataframe tbody tr th {\n",
       "        vertical-align: top;\n",
       "    }\n",
       "\n",
       "    .dataframe thead th {\n",
       "        text-align: right;\n",
       "    }\n",
       "</style>\n",
       "<table border=\"1\" class=\"dataframe\">\n",
       "  <thead>\n",
       "    <tr style=\"text-align: right;\">\n",
       "      <th></th>\n",
       "      <th>starttime</th>\n",
       "      <th>stoptime</th>\n",
       "      <th>start station name</th>\n",
       "      <th>end station name</th>\n",
       "      <th>usertype</th>\n",
       "      <th>birth year</th>\n",
       "      <th>gender</th>\n",
       "      <th>start_station_geoid</th>\n",
       "      <th>end_station_geoid</th>\n",
       "      <th>tripminutes</th>\n",
       "      <th>n_start_id</th>\n",
       "      <th>n_stop_id</th>\n",
       "    </tr>\n",
       "  </thead>\n",
       "  <tbody>\n",
       "    <tr>\n",
       "      <th>0</th>\n",
       "      <td>2017-01-01 00:00:21</td>\n",
       "      <td>2017-01-01 00:11:41</td>\n",
       "      <td>W 82 St &amp; Central Park West</td>\n",
       "      <td>Central Park West &amp; W 72 St</td>\n",
       "      <td>Subscriber</td>\n",
       "      <td>1965.0</td>\n",
       "      <td>2</td>\n",
       "      <td>3.606102e+10</td>\n",
       "      <td>3.606101e+10</td>\n",
       "      <td>11</td>\n",
       "      <td>016500</td>\n",
       "      <td>014300</td>\n",
       "    </tr>\n",
       "    <tr>\n",
       "      <th>1</th>\n",
       "      <td>2017-01-01 00:00:45</td>\n",
       "      <td>2017-01-01 00:22:08</td>\n",
       "      <td>Cooper Square &amp; E 7 St</td>\n",
       "      <td>Broadway &amp; W 32 St</td>\n",
       "      <td>Subscriber</td>\n",
       "      <td>1987.0</td>\n",
       "      <td>2</td>\n",
       "      <td>3.606100e+10</td>\n",
       "      <td>3.606101e+10</td>\n",
       "      <td>21</td>\n",
       "      <td>004200</td>\n",
       "      <td>007600</td>\n",
       "    </tr>\n",
       "    <tr>\n",
       "      <th>2</th>\n",
       "      <td>2017-01-01 00:05:00</td>\n",
       "      <td>2017-01-01 00:14:20</td>\n",
       "      <td>Broadway &amp; W 60 St</td>\n",
       "      <td>9 Ave &amp; W 45 St</td>\n",
       "      <td>Subscriber</td>\n",
       "      <td>1973.0</td>\n",
       "      <td>1</td>\n",
       "      <td>3.606101e+10</td>\n",
       "      <td>3.606101e+10</td>\n",
       "      <td>9</td>\n",
       "      <td>014500</td>\n",
       "      <td>012100</td>\n",
       "    </tr>\n",
       "    <tr>\n",
       "      <th>3</th>\n",
       "      <td>2017-01-01 00:05:37</td>\n",
       "      <td>2017-01-01 00:19:24</td>\n",
       "      <td>Broadway &amp; W 37 St</td>\n",
       "      <td>E 10 St &amp; Avenue A</td>\n",
       "      <td>Subscriber</td>\n",
       "      <td>1977.0</td>\n",
       "      <td>2</td>\n",
       "      <td>3.606101e+10</td>\n",
       "      <td>3.606100e+10</td>\n",
       "      <td>13</td>\n",
       "      <td>010900</td>\n",
       "      <td>003200</td>\n",
       "    </tr>\n",
       "    <tr>\n",
       "      <th>4</th>\n",
       "      <td>2017-01-01 00:05:47</td>\n",
       "      <td>2017-01-01 00:10:02</td>\n",
       "      <td>York St &amp; Jay St</td>\n",
       "      <td>Carlton Ave &amp; Flushing Ave</td>\n",
       "      <td>Subscriber</td>\n",
       "      <td>1989.0</td>\n",
       "      <td>1</td>\n",
       "      <td>3.604700e+10</td>\n",
       "      <td>3.604702e+10</td>\n",
       "      <td>4</td>\n",
       "      <td>002100</td>\n",
       "      <td>021100</td>\n",
       "    </tr>\n",
       "  </tbody>\n",
       "</table>\n",
       "</div>"
      ],
      "text/plain": [
       "             starttime             stoptime           start station name  \\\n",
       "0  2017-01-01 00:00:21  2017-01-01 00:11:41  W 82 St & Central Park West   \n",
       "1  2017-01-01 00:00:45  2017-01-01 00:22:08       Cooper Square & E 7 St   \n",
       "2  2017-01-01 00:05:00  2017-01-01 00:14:20           Broadway & W 60 St   \n",
       "3  2017-01-01 00:05:37  2017-01-01 00:19:24           Broadway & W 37 St   \n",
       "4  2017-01-01 00:05:47  2017-01-01 00:10:02             York St & Jay St   \n",
       "\n",
       "              end station name    usertype  birth year  gender  \\\n",
       "0  Central Park West & W 72 St  Subscriber      1965.0       2   \n",
       "1           Broadway & W 32 St  Subscriber      1987.0       2   \n",
       "2              9 Ave & W 45 St  Subscriber      1973.0       1   \n",
       "3           E 10 St & Avenue A  Subscriber      1977.0       2   \n",
       "4   Carlton Ave & Flushing Ave  Subscriber      1989.0       1   \n",
       "\n",
       "   start_station_geoid  end_station_geoid  tripminutes n_start_id n_stop_id  \n",
       "0         3.606102e+10       3.606101e+10           11     016500    014300  \n",
       "1         3.606100e+10       3.606101e+10           21     004200    007600  \n",
       "2         3.606101e+10       3.606101e+10            9     014500    012100  \n",
       "3         3.606101e+10       3.606100e+10           13     010900    003200  \n",
       "4         3.604700e+10       3.604702e+10            4     002100    021100  "
      ]
     },
     "execution_count": 22,
     "metadata": {},
     "output_type": "execute_result"
    }
   ],
   "source": [
    "trips.head()"
   ]
  },
  {
   "cell_type": "code",
   "execution_count": 23,
   "metadata": {},
   "outputs": [
    {
     "data": {
      "text/plain": [
       "starttime               object\n",
       "stoptime                object\n",
       "start station name      object\n",
       "end station name        object\n",
       "usertype                object\n",
       "birth year             float64\n",
       "gender                   int64\n",
       "start_station_geoid    float64\n",
       "end_station_geoid      float64\n",
       "tripminutes              int64\n",
       "n_start_id              object\n",
       "n_stop_id               object\n",
       "dtype: object"
      ]
     },
     "execution_count": 23,
     "metadata": {},
     "output_type": "execute_result"
    }
   ],
   "source": [
    "trips.dtypes"
   ]
  },
  {
   "cell_type": "code",
   "execution_count": 24,
   "metadata": {},
   "outputs": [
    {
     "data": {
      "text/plain": [
       "2\n",
       "index                                   int64\n",
       "Borough                                object\n",
       "2010 Census Bureau FIPS County Code    object\n",
       "2010 NYC Borough Code                  object\n",
       "2010 Census Tract                      object\n",
       "PUMA                                   object\n",
       "Neighborhood Tabulation Area (NTA)     object\n",
       "neighborhood                           object\n",
       "dtype: object"
      ]
     },
     "execution_count": 24,
     "metadata": {},
     "output_type": "execute_result"
    }
   ],
   "source": [
    "neigh.dtypes"
   ]
  },
  {
   "cell_type": "markdown",
   "metadata": {},
   "source": [
    "The two datatypes of the n_start_id and n_stop_id and the 2010 Census Tracts are same datatypes that we can use to compare"
   ]
  },
  {
   "cell_type": "code",
   "execution_count": 25,
   "metadata": {},
   "outputs": [],
   "source": [
    "# Matching the geoids to the start station ID \n",
    "new_data =trips.join(neigh.set_index(['2010 Census Tract']), on=['n_start_id'], how='left').copy()"
   ]
  },
  {
   "cell_type": "code",
   "execution_count": 26,
   "metadata": {},
   "outputs": [
    {
     "data": {
      "text/html": [
       "<div>\n",
       "<style scoped>\n",
       "    .dataframe tbody tr th:only-of-type {\n",
       "        vertical-align: middle;\n",
       "    }\n",
       "\n",
       "    .dataframe tbody tr th {\n",
       "        vertical-align: top;\n",
       "    }\n",
       "\n",
       "    .dataframe thead th {\n",
       "        text-align: right;\n",
       "    }\n",
       "</style>\n",
       "<table border=\"1\" class=\"dataframe\">\n",
       "  <thead>\n",
       "    <tr style=\"text-align: right;\">\n",
       "      <th></th>\n",
       "      <th>starttime</th>\n",
       "      <th>stoptime</th>\n",
       "      <th>start station name</th>\n",
       "      <th>end station name</th>\n",
       "      <th>usertype</th>\n",
       "      <th>birth year</th>\n",
       "      <th>gender</th>\n",
       "      <th>start_station_geoid</th>\n",
       "      <th>end_station_geoid</th>\n",
       "      <th>tripminutes</th>\n",
       "      <th>n_start_id</th>\n",
       "      <th>n_stop_id</th>\n",
       "      <th>index</th>\n",
       "      <th>Borough</th>\n",
       "      <th>2010 Census Bureau FIPS County Code</th>\n",
       "      <th>2010 NYC Borough Code</th>\n",
       "      <th>PUMA</th>\n",
       "      <th>Neighborhood Tabulation Area (NTA)</th>\n",
       "      <th>neighborhood</th>\n",
       "    </tr>\n",
       "  </thead>\n",
       "  <tbody>\n",
       "    <tr>\n",
       "      <th>0</th>\n",
       "      <td>2017-01-01 00:00:21</td>\n",
       "      <td>2017-01-01 00:11:41</td>\n",
       "      <td>W 82 St &amp; Central Park West</td>\n",
       "      <td>Central Park West &amp; W 72 St</td>\n",
       "      <td>Subscriber</td>\n",
       "      <td>1965.0</td>\n",
       "      <td>2</td>\n",
       "      <td>3.606102e+10</td>\n",
       "      <td>3.606101e+10</td>\n",
       "      <td>11</td>\n",
       "      <td>016500</td>\n",
       "      <td>014300</td>\n",
       "      <td>42.0</td>\n",
       "      <td>Bronx</td>\n",
       "      <td>005</td>\n",
       "      <td>2</td>\n",
       "      <td>3705</td>\n",
       "      <td>BX01</td>\n",
       "      <td>Claremont-Bathgate</td>\n",
       "    </tr>\n",
       "    <tr>\n",
       "      <th>0</th>\n",
       "      <td>2017-01-01 00:00:21</td>\n",
       "      <td>2017-01-01 00:11:41</td>\n",
       "      <td>W 82 St &amp; Central Park West</td>\n",
       "      <td>Central Park West &amp; W 72 St</td>\n",
       "      <td>Subscriber</td>\n",
       "      <td>1965.0</td>\n",
       "      <td>2</td>\n",
       "      <td>3.606102e+10</td>\n",
       "      <td>3.606101e+10</td>\n",
       "      <td>11</td>\n",
       "      <td>016500</td>\n",
       "      <td>014300</td>\n",
       "      <td>955.0</td>\n",
       "      <td>Brooklyn</td>\n",
       "      <td>047</td>\n",
       "      <td>3</td>\n",
       "      <td>4005</td>\n",
       "      <td>BK37</td>\n",
       "      <td>Park Slope-Gowanus</td>\n",
       "    </tr>\n",
       "    <tr>\n",
       "      <th>0</th>\n",
       "      <td>2017-01-01 00:00:21</td>\n",
       "      <td>2017-01-01 00:11:41</td>\n",
       "      <td>W 82 St &amp; Central Park West</td>\n",
       "      <td>Central Park West &amp; W 72 St</td>\n",
       "      <td>Subscriber</td>\n",
       "      <td>1965.0</td>\n",
       "      <td>2</td>\n",
       "      <td>3.606102e+10</td>\n",
       "      <td>3.606101e+10</td>\n",
       "      <td>11</td>\n",
       "      <td>016500</td>\n",
       "      <td>014300</td>\n",
       "      <td>1332.0</td>\n",
       "      <td>Manhattan</td>\n",
       "      <td>061</td>\n",
       "      <td>1</td>\n",
       "      <td>3806</td>\n",
       "      <td>MN12</td>\n",
       "      <td>Upper West Side</td>\n",
       "    </tr>\n",
       "    <tr>\n",
       "      <th>1</th>\n",
       "      <td>2017-01-01 00:00:45</td>\n",
       "      <td>2017-01-01 00:22:08</td>\n",
       "      <td>Cooper Square &amp; E 7 St</td>\n",
       "      <td>Broadway &amp; W 32 St</td>\n",
       "      <td>Subscriber</td>\n",
       "      <td>1987.0</td>\n",
       "      <td>2</td>\n",
       "      <td>3.606100e+10</td>\n",
       "      <td>3.606101e+10</td>\n",
       "      <td>21</td>\n",
       "      <td>004200</td>\n",
       "      <td>007600</td>\n",
       "      <td>237.0</td>\n",
       "      <td>Bronx</td>\n",
       "      <td>005</td>\n",
       "      <td>2</td>\n",
       "      <td>3709</td>\n",
       "      <td>BX09</td>\n",
       "      <td>Soundview-Castle Hill-Clason Point-Harding Park</td>\n",
       "    </tr>\n",
       "    <tr>\n",
       "      <th>1</th>\n",
       "      <td>2017-01-01 00:00:45</td>\n",
       "      <td>2017-01-01 00:22:08</td>\n",
       "      <td>Cooper Square &amp; E 7 St</td>\n",
       "      <td>Broadway &amp; W 32 St</td>\n",
       "      <td>Subscriber</td>\n",
       "      <td>1987.0</td>\n",
       "      <td>2</td>\n",
       "      <td>3.606100e+10</td>\n",
       "      <td>3.606101e+10</td>\n",
       "      <td>21</td>\n",
       "      <td>004200</td>\n",
       "      <td>007600</td>\n",
       "      <td>1180.0</td>\n",
       "      <td>Manhattan</td>\n",
       "      <td>061</td>\n",
       "      <td>1</td>\n",
       "      <td>3809</td>\n",
       "      <td>MN22</td>\n",
       "      <td>East Village</td>\n",
       "    </tr>\n",
       "  </tbody>\n",
       "</table>\n",
       "</div>"
      ],
      "text/plain": [
       "             starttime             stoptime           start station name  \\\n",
       "0  2017-01-01 00:00:21  2017-01-01 00:11:41  W 82 St & Central Park West   \n",
       "0  2017-01-01 00:00:21  2017-01-01 00:11:41  W 82 St & Central Park West   \n",
       "0  2017-01-01 00:00:21  2017-01-01 00:11:41  W 82 St & Central Park West   \n",
       "1  2017-01-01 00:00:45  2017-01-01 00:22:08       Cooper Square & E 7 St   \n",
       "1  2017-01-01 00:00:45  2017-01-01 00:22:08       Cooper Square & E 7 St   \n",
       "\n",
       "              end station name    usertype  birth year  gender  \\\n",
       "0  Central Park West & W 72 St  Subscriber      1965.0       2   \n",
       "0  Central Park West & W 72 St  Subscriber      1965.0       2   \n",
       "0  Central Park West & W 72 St  Subscriber      1965.0       2   \n",
       "1           Broadway & W 32 St  Subscriber      1987.0       2   \n",
       "1           Broadway & W 32 St  Subscriber      1987.0       2   \n",
       "\n",
       "   start_station_geoid  end_station_geoid  tripminutes n_start_id n_stop_id  \\\n",
       "0         3.606102e+10       3.606101e+10           11     016500    014300   \n",
       "0         3.606102e+10       3.606101e+10           11     016500    014300   \n",
       "0         3.606102e+10       3.606101e+10           11     016500    014300   \n",
       "1         3.606100e+10       3.606101e+10           21     004200    007600   \n",
       "1         3.606100e+10       3.606101e+10           21     004200    007600   \n",
       "\n",
       "    index    Borough 2010 Census Bureau FIPS County Code  \\\n",
       "0    42.0      Bronx                                 005   \n",
       "0   955.0   Brooklyn                                 047   \n",
       "0  1332.0  Manhattan                                 061   \n",
       "1   237.0      Bronx                                 005   \n",
       "1  1180.0  Manhattan                                 061   \n",
       "\n",
       "  2010 NYC Borough Code  PUMA Neighborhood Tabulation Area (NTA)  \\\n",
       "0                     2  3705                               BX01   \n",
       "0                     3  4005                               BK37   \n",
       "0                     1  3806                               MN12   \n",
       "1                     2  3709                               BX09   \n",
       "1                     1  3809                               MN22   \n",
       "\n",
       "                                      neighborhood  \n",
       "0                               Claremont-Bathgate  \n",
       "0                               Park Slope-Gowanus  \n",
       "0                                  Upper West Side  \n",
       "1  Soundview-Castle Hill-Clason Point-Harding Park  \n",
       "1                                     East Village  "
      ]
     },
     "execution_count": 26,
     "metadata": {},
     "output_type": "execute_result"
    }
   ],
   "source": [
    "new_data.head()"
   ]
  },
  {
   "cell_type": "code",
   "execution_count": 27,
   "metadata": {},
   "outputs": [],
   "source": [
    "# Changing the column to start station geo ID\n",
    "new_data.rename(columns = {'neighborhood': 'start_station_neighborhood'}, inplace = True)"
   ]
  },
  {
   "cell_type": "code",
   "execution_count": 28,
   "metadata": {},
   "outputs": [
    {
     "data": {
      "text/plain": [
       "2\n",
       "index                                   int64\n",
       "Borough                                object\n",
       "2010 Census Bureau FIPS County Code    object\n",
       "2010 NYC Borough Code                  object\n",
       "2010 Census Tract                      object\n",
       "PUMA                                   object\n",
       "Neighborhood Tabulation Area (NTA)     object\n",
       "neighborhood                           object\n",
       "dtype: object"
      ]
     },
     "execution_count": 28,
     "metadata": {},
     "output_type": "execute_result"
    }
   ],
   "source": [
    "neigh.dtypes"
   ]
  },
  {
   "cell_type": "code",
   "execution_count": 30,
   "metadata": {},
   "outputs": [],
   "source": [
    "# Dropping the columns carried over from station ID\n",
    "new_data = new_data.drop(['index', 'PUMA', 'Neighborhood Tabulation Area (NTA)','2010 NYC Borough Code'], axis = 1)"
   ]
  },
  {
   "cell_type": "code",
   "execution_count": 31,
   "metadata": {},
   "outputs": [
    {
     "data": {
      "text/html": [
       "<div>\n",
       "<style scoped>\n",
       "    .dataframe tbody tr th:only-of-type {\n",
       "        vertical-align: middle;\n",
       "    }\n",
       "\n",
       "    .dataframe tbody tr th {\n",
       "        vertical-align: top;\n",
       "    }\n",
       "\n",
       "    .dataframe thead th {\n",
       "        text-align: right;\n",
       "    }\n",
       "</style>\n",
       "<table border=\"1\" class=\"dataframe\">\n",
       "  <thead>\n",
       "    <tr style=\"text-align: right;\">\n",
       "      <th></th>\n",
       "      <th>starttime</th>\n",
       "      <th>stoptime</th>\n",
       "      <th>start station name</th>\n",
       "      <th>end station name</th>\n",
       "      <th>usertype</th>\n",
       "      <th>birth year</th>\n",
       "      <th>gender</th>\n",
       "      <th>start_station_geoid</th>\n",
       "      <th>end_station_geoid</th>\n",
       "      <th>tripminutes</th>\n",
       "      <th>n_start_id</th>\n",
       "      <th>n_stop_id</th>\n",
       "      <th>Borough</th>\n",
       "      <th>2010 Census Bureau FIPS County Code</th>\n",
       "      <th>start_station_neighborhood</th>\n",
       "    </tr>\n",
       "  </thead>\n",
       "  <tbody>\n",
       "    <tr>\n",
       "      <th>0</th>\n",
       "      <td>2017-01-01 00:00:21</td>\n",
       "      <td>2017-01-01 00:11:41</td>\n",
       "      <td>W 82 St &amp; Central Park West</td>\n",
       "      <td>Central Park West &amp; W 72 St</td>\n",
       "      <td>Subscriber</td>\n",
       "      <td>1965.0</td>\n",
       "      <td>2</td>\n",
       "      <td>3.606102e+10</td>\n",
       "      <td>3.606101e+10</td>\n",
       "      <td>11</td>\n",
       "      <td>016500</td>\n",
       "      <td>014300</td>\n",
       "      <td>Bronx</td>\n",
       "      <td>005</td>\n",
       "      <td>Claremont-Bathgate</td>\n",
       "    </tr>\n",
       "    <tr>\n",
       "      <th>0</th>\n",
       "      <td>2017-01-01 00:00:21</td>\n",
       "      <td>2017-01-01 00:11:41</td>\n",
       "      <td>W 82 St &amp; Central Park West</td>\n",
       "      <td>Central Park West &amp; W 72 St</td>\n",
       "      <td>Subscriber</td>\n",
       "      <td>1965.0</td>\n",
       "      <td>2</td>\n",
       "      <td>3.606102e+10</td>\n",
       "      <td>3.606101e+10</td>\n",
       "      <td>11</td>\n",
       "      <td>016500</td>\n",
       "      <td>014300</td>\n",
       "      <td>Brooklyn</td>\n",
       "      <td>047</td>\n",
       "      <td>Park Slope-Gowanus</td>\n",
       "    </tr>\n",
       "    <tr>\n",
       "      <th>0</th>\n",
       "      <td>2017-01-01 00:00:21</td>\n",
       "      <td>2017-01-01 00:11:41</td>\n",
       "      <td>W 82 St &amp; Central Park West</td>\n",
       "      <td>Central Park West &amp; W 72 St</td>\n",
       "      <td>Subscriber</td>\n",
       "      <td>1965.0</td>\n",
       "      <td>2</td>\n",
       "      <td>3.606102e+10</td>\n",
       "      <td>3.606101e+10</td>\n",
       "      <td>11</td>\n",
       "      <td>016500</td>\n",
       "      <td>014300</td>\n",
       "      <td>Manhattan</td>\n",
       "      <td>061</td>\n",
       "      <td>Upper West Side</td>\n",
       "    </tr>\n",
       "    <tr>\n",
       "      <th>1</th>\n",
       "      <td>2017-01-01 00:00:45</td>\n",
       "      <td>2017-01-01 00:22:08</td>\n",
       "      <td>Cooper Square &amp; E 7 St</td>\n",
       "      <td>Broadway &amp; W 32 St</td>\n",
       "      <td>Subscriber</td>\n",
       "      <td>1987.0</td>\n",
       "      <td>2</td>\n",
       "      <td>3.606100e+10</td>\n",
       "      <td>3.606101e+10</td>\n",
       "      <td>21</td>\n",
       "      <td>004200</td>\n",
       "      <td>007600</td>\n",
       "      <td>Bronx</td>\n",
       "      <td>005</td>\n",
       "      <td>Soundview-Castle Hill-Clason Point-Harding Park</td>\n",
       "    </tr>\n",
       "    <tr>\n",
       "      <th>1</th>\n",
       "      <td>2017-01-01 00:00:45</td>\n",
       "      <td>2017-01-01 00:22:08</td>\n",
       "      <td>Cooper Square &amp; E 7 St</td>\n",
       "      <td>Broadway &amp; W 32 St</td>\n",
       "      <td>Subscriber</td>\n",
       "      <td>1987.0</td>\n",
       "      <td>2</td>\n",
       "      <td>3.606100e+10</td>\n",
       "      <td>3.606101e+10</td>\n",
       "      <td>21</td>\n",
       "      <td>004200</td>\n",
       "      <td>007600</td>\n",
       "      <td>Manhattan</td>\n",
       "      <td>061</td>\n",
       "      <td>East Village</td>\n",
       "    </tr>\n",
       "  </tbody>\n",
       "</table>\n",
       "</div>"
      ],
      "text/plain": [
       "             starttime             stoptime           start station name  \\\n",
       "0  2017-01-01 00:00:21  2017-01-01 00:11:41  W 82 St & Central Park West   \n",
       "0  2017-01-01 00:00:21  2017-01-01 00:11:41  W 82 St & Central Park West   \n",
       "0  2017-01-01 00:00:21  2017-01-01 00:11:41  W 82 St & Central Park West   \n",
       "1  2017-01-01 00:00:45  2017-01-01 00:22:08       Cooper Square & E 7 St   \n",
       "1  2017-01-01 00:00:45  2017-01-01 00:22:08       Cooper Square & E 7 St   \n",
       "\n",
       "              end station name    usertype  birth year  gender  \\\n",
       "0  Central Park West & W 72 St  Subscriber      1965.0       2   \n",
       "0  Central Park West & W 72 St  Subscriber      1965.0       2   \n",
       "0  Central Park West & W 72 St  Subscriber      1965.0       2   \n",
       "1           Broadway & W 32 St  Subscriber      1987.0       2   \n",
       "1           Broadway & W 32 St  Subscriber      1987.0       2   \n",
       "\n",
       "   start_station_geoid  end_station_geoid  tripminutes n_start_id n_stop_id  \\\n",
       "0         3.606102e+10       3.606101e+10           11     016500    014300   \n",
       "0         3.606102e+10       3.606101e+10           11     016500    014300   \n",
       "0         3.606102e+10       3.606101e+10           11     016500    014300   \n",
       "1         3.606100e+10       3.606101e+10           21     004200    007600   \n",
       "1         3.606100e+10       3.606101e+10           21     004200    007600   \n",
       "\n",
       "     Borough 2010 Census Bureau FIPS County Code  \\\n",
       "0      Bronx                                 005   \n",
       "0   Brooklyn                                 047   \n",
       "0  Manhattan                                 061   \n",
       "1      Bronx                                 005   \n",
       "1  Manhattan                                 061   \n",
       "\n",
       "                        start_station_neighborhood  \n",
       "0                               Claremont-Bathgate  \n",
       "0                               Park Slope-Gowanus  \n",
       "0                                  Upper West Side  \n",
       "1  Soundview-Castle Hill-Clason Point-Harding Park  \n",
       "1                                     East Village  "
      ]
     },
     "execution_count": 31,
     "metadata": {},
     "output_type": "execute_result"
    }
   ],
   "source": [
    "new_data.head()"
   ]
  },
  {
   "cell_type": "code",
   "execution_count": 32,
   "metadata": {},
   "outputs": [],
   "source": [
    "# Rename columns\n",
    "new_data.rename(columns = {'Borough': 'start_borough','2010 Census Bureau FIPS County Code':'start_county_code'}, inplace = True)"
   ]
  },
  {
   "cell_type": "code",
   "execution_count": 33,
   "metadata": {},
   "outputs": [
    {
     "data": {
      "text/html": [
       "<div>\n",
       "<style scoped>\n",
       "    .dataframe tbody tr th:only-of-type {\n",
       "        vertical-align: middle;\n",
       "    }\n",
       "\n",
       "    .dataframe tbody tr th {\n",
       "        vertical-align: top;\n",
       "    }\n",
       "\n",
       "    .dataframe thead th {\n",
       "        text-align: right;\n",
       "    }\n",
       "</style>\n",
       "<table border=\"1\" class=\"dataframe\">\n",
       "  <thead>\n",
       "    <tr style=\"text-align: right;\">\n",
       "      <th></th>\n",
       "      <th>starttime</th>\n",
       "      <th>stoptime</th>\n",
       "      <th>start station name</th>\n",
       "      <th>end station name</th>\n",
       "      <th>usertype</th>\n",
       "      <th>birth year</th>\n",
       "      <th>gender</th>\n",
       "      <th>start_station_geoid</th>\n",
       "      <th>end_station_geoid</th>\n",
       "      <th>tripminutes</th>\n",
       "      <th>n_start_id</th>\n",
       "      <th>n_stop_id</th>\n",
       "      <th>start_borough</th>\n",
       "      <th>start_county_code</th>\n",
       "      <th>start_station_neighborhood</th>\n",
       "    </tr>\n",
       "  </thead>\n",
       "  <tbody>\n",
       "    <tr>\n",
       "      <th>0</th>\n",
       "      <td>2017-01-01 00:00:21</td>\n",
       "      <td>2017-01-01 00:11:41</td>\n",
       "      <td>W 82 St &amp; Central Park West</td>\n",
       "      <td>Central Park West &amp; W 72 St</td>\n",
       "      <td>Subscriber</td>\n",
       "      <td>1965.0</td>\n",
       "      <td>2</td>\n",
       "      <td>3.606102e+10</td>\n",
       "      <td>3.606101e+10</td>\n",
       "      <td>11</td>\n",
       "      <td>016500</td>\n",
       "      <td>014300</td>\n",
       "      <td>Bronx</td>\n",
       "      <td>005</td>\n",
       "      <td>Claremont-Bathgate</td>\n",
       "    </tr>\n",
       "    <tr>\n",
       "      <th>0</th>\n",
       "      <td>2017-01-01 00:00:21</td>\n",
       "      <td>2017-01-01 00:11:41</td>\n",
       "      <td>W 82 St &amp; Central Park West</td>\n",
       "      <td>Central Park West &amp; W 72 St</td>\n",
       "      <td>Subscriber</td>\n",
       "      <td>1965.0</td>\n",
       "      <td>2</td>\n",
       "      <td>3.606102e+10</td>\n",
       "      <td>3.606101e+10</td>\n",
       "      <td>11</td>\n",
       "      <td>016500</td>\n",
       "      <td>014300</td>\n",
       "      <td>Brooklyn</td>\n",
       "      <td>047</td>\n",
       "      <td>Park Slope-Gowanus</td>\n",
       "    </tr>\n",
       "    <tr>\n",
       "      <th>0</th>\n",
       "      <td>2017-01-01 00:00:21</td>\n",
       "      <td>2017-01-01 00:11:41</td>\n",
       "      <td>W 82 St &amp; Central Park West</td>\n",
       "      <td>Central Park West &amp; W 72 St</td>\n",
       "      <td>Subscriber</td>\n",
       "      <td>1965.0</td>\n",
       "      <td>2</td>\n",
       "      <td>3.606102e+10</td>\n",
       "      <td>3.606101e+10</td>\n",
       "      <td>11</td>\n",
       "      <td>016500</td>\n",
       "      <td>014300</td>\n",
       "      <td>Manhattan</td>\n",
       "      <td>061</td>\n",
       "      <td>Upper West Side</td>\n",
       "    </tr>\n",
       "    <tr>\n",
       "      <th>1</th>\n",
       "      <td>2017-01-01 00:00:45</td>\n",
       "      <td>2017-01-01 00:22:08</td>\n",
       "      <td>Cooper Square &amp; E 7 St</td>\n",
       "      <td>Broadway &amp; W 32 St</td>\n",
       "      <td>Subscriber</td>\n",
       "      <td>1987.0</td>\n",
       "      <td>2</td>\n",
       "      <td>3.606100e+10</td>\n",
       "      <td>3.606101e+10</td>\n",
       "      <td>21</td>\n",
       "      <td>004200</td>\n",
       "      <td>007600</td>\n",
       "      <td>Bronx</td>\n",
       "      <td>005</td>\n",
       "      <td>Soundview-Castle Hill-Clason Point-Harding Park</td>\n",
       "    </tr>\n",
       "    <tr>\n",
       "      <th>1</th>\n",
       "      <td>2017-01-01 00:00:45</td>\n",
       "      <td>2017-01-01 00:22:08</td>\n",
       "      <td>Cooper Square &amp; E 7 St</td>\n",
       "      <td>Broadway &amp; W 32 St</td>\n",
       "      <td>Subscriber</td>\n",
       "      <td>1987.0</td>\n",
       "      <td>2</td>\n",
       "      <td>3.606100e+10</td>\n",
       "      <td>3.606101e+10</td>\n",
       "      <td>21</td>\n",
       "      <td>004200</td>\n",
       "      <td>007600</td>\n",
       "      <td>Manhattan</td>\n",
       "      <td>061</td>\n",
       "      <td>East Village</td>\n",
       "    </tr>\n",
       "  </tbody>\n",
       "</table>\n",
       "</div>"
      ],
      "text/plain": [
       "             starttime             stoptime           start station name  \\\n",
       "0  2017-01-01 00:00:21  2017-01-01 00:11:41  W 82 St & Central Park West   \n",
       "0  2017-01-01 00:00:21  2017-01-01 00:11:41  W 82 St & Central Park West   \n",
       "0  2017-01-01 00:00:21  2017-01-01 00:11:41  W 82 St & Central Park West   \n",
       "1  2017-01-01 00:00:45  2017-01-01 00:22:08       Cooper Square & E 7 St   \n",
       "1  2017-01-01 00:00:45  2017-01-01 00:22:08       Cooper Square & E 7 St   \n",
       "\n",
       "              end station name    usertype  birth year  gender  \\\n",
       "0  Central Park West & W 72 St  Subscriber      1965.0       2   \n",
       "0  Central Park West & W 72 St  Subscriber      1965.0       2   \n",
       "0  Central Park West & W 72 St  Subscriber      1965.0       2   \n",
       "1           Broadway & W 32 St  Subscriber      1987.0       2   \n",
       "1           Broadway & W 32 St  Subscriber      1987.0       2   \n",
       "\n",
       "   start_station_geoid  end_station_geoid  tripminutes n_start_id n_stop_id  \\\n",
       "0         3.606102e+10       3.606101e+10           11     016500    014300   \n",
       "0         3.606102e+10       3.606101e+10           11     016500    014300   \n",
       "0         3.606102e+10       3.606101e+10           11     016500    014300   \n",
       "1         3.606100e+10       3.606101e+10           21     004200    007600   \n",
       "1         3.606100e+10       3.606101e+10           21     004200    007600   \n",
       "\n",
       "  start_borough start_county_code  \\\n",
       "0         Bronx               005   \n",
       "0      Brooklyn               047   \n",
       "0     Manhattan               061   \n",
       "1         Bronx               005   \n",
       "1     Manhattan               061   \n",
       "\n",
       "                        start_station_neighborhood  \n",
       "0                               Claremont-Bathgate  \n",
       "0                               Park Slope-Gowanus  \n",
       "0                                  Upper West Side  \n",
       "1  Soundview-Castle Hill-Clason Point-Harding Park  \n",
       "1                                     East Village  "
      ]
     },
     "execution_count": 33,
     "metadata": {},
     "output_type": "execute_result"
    }
   ],
   "source": [
    "new_data.head()"
   ]
  },
  {
   "cell_type": "markdown",
   "metadata": {},
   "source": [
    "#### Save to csv \n",
    "The data was getting very big so I'm stopping it midway and saving it to a csv.\n",
    "After reloading the jupyter notebook I will add the end neighborhoods"
   ]
  },
  {
   "cell_type": "code",
   "execution_count": 35,
   "metadata": {},
   "outputs": [],
   "source": [
    "start_neigh = new_data.to_csv('./startneigh.csv')"
   ]
  },
  {
   "cell_type": "markdown",
   "metadata": {},
   "source": [
    "## Adding end station Neighborhoods\n",
    "\n",
    "Since the data is really large I am adding the endstation data here. After reloading the jupyternotebook"
   ]
  },
  {
   "cell_type": "code",
   "execution_count": 2,
   "metadata": {},
   "outputs": [],
   "source": [
    "# read csv\n",
    "new_data= pd.read_csv('../../../startneigh.csv')"
   ]
  },
  {
   "cell_type": "code",
   "execution_count": 3,
   "metadata": {},
   "outputs": [],
   "source": [
    "#read excel file\n",
    "neigh= pd.read_excel('../nyc_census_tracts/nyc2010census_tabulation_equiv.xlsx')"
   ]
  },
  {
   "cell_type": "code",
   "execution_count": 6,
   "metadata": {},
   "outputs": [
    {
     "data": {
      "text/html": [
       "<div>\n",
       "<style scoped>\n",
       "    .dataframe tbody tr th:only-of-type {\n",
       "        vertical-align: middle;\n",
       "    }\n",
       "\n",
       "    .dataframe tbody tr th {\n",
       "        vertical-align: top;\n",
       "    }\n",
       "\n",
       "    .dataframe thead th {\n",
       "        text-align: right;\n",
       "    }\n",
       "</style>\n",
       "<table border=\"1\" class=\"dataframe\">\n",
       "  <thead>\n",
       "    <tr style=\"text-align: right;\">\n",
       "      <th></th>\n",
       "      <th>Unnamed: 0</th>\n",
       "      <th>Unnamed: 1</th>\n",
       "      <th>Unnamed: 2</th>\n",
       "      <th>Unnamed: 3</th>\n",
       "      <th>Unnamed: 4</th>\n",
       "      <th>Unnamed: 5</th>\n",
       "      <th>Unnamed: 6</th>\n",
       "    </tr>\n",
       "  </thead>\n",
       "  <tbody>\n",
       "    <tr>\n",
       "      <th>0</th>\n",
       "      <td>New York City 2010 Census Tract to Neighborhoo...</td>\n",
       "      <td>NaN</td>\n",
       "      <td>NaN</td>\n",
       "      <td>NaN</td>\n",
       "      <td>NaN</td>\n",
       "      <td>NaN</td>\n",
       "      <td>NaN</td>\n",
       "    </tr>\n",
       "    <tr>\n",
       "      <th>1</th>\n",
       "      <td>NaN</td>\n",
       "      <td>NaN</td>\n",
       "      <td>NaN</td>\n",
       "      <td>NaN</td>\n",
       "      <td>NaN</td>\n",
       "      <td>NaN</td>\n",
       "      <td>NaN</td>\n",
       "    </tr>\n",
       "    <tr>\n",
       "      <th>2</th>\n",
       "      <td>Borough</td>\n",
       "      <td>2010 Census Bureau FIPS County Code</td>\n",
       "      <td>2010 NYC Borough Code</td>\n",
       "      <td>2010 Census Tract</td>\n",
       "      <td>PUMA</td>\n",
       "      <td>Neighborhood Tabulation Area (NTA)</td>\n",
       "      <td>NaN</td>\n",
       "    </tr>\n",
       "    <tr>\n",
       "      <th>3</th>\n",
       "      <td>NaN</td>\n",
       "      <td>NaN</td>\n",
       "      <td>NaN</td>\n",
       "      <td>NaN</td>\n",
       "      <td>NaN</td>\n",
       "      <td>Code</td>\n",
       "      <td>Name</td>\n",
       "    </tr>\n",
       "    <tr>\n",
       "      <th>4</th>\n",
       "      <td>Bronx</td>\n",
       "      <td>005</td>\n",
       "      <td>2</td>\n",
       "      <td>031000</td>\n",
       "      <td>3704</td>\n",
       "      <td>BX31</td>\n",
       "      <td>Allerton-Pelham Gardens</td>\n",
       "    </tr>\n",
       "  </tbody>\n",
       "</table>\n",
       "</div>"
      ],
      "text/plain": [
       "                                          Unnamed: 0  \\\n",
       "0  New York City 2010 Census Tract to Neighborhoo...   \n",
       "1                                                NaN   \n",
       "2                                            Borough   \n",
       "3                                                NaN   \n",
       "4                                              Bronx   \n",
       "\n",
       "                            Unnamed: 1             Unnamed: 2  \\\n",
       "0                                  NaN                    NaN   \n",
       "1                                  NaN                    NaN   \n",
       "2  2010 Census Bureau FIPS County Code  2010 NYC Borough Code   \n",
       "3                                  NaN                    NaN   \n",
       "4                                  005                      2   \n",
       "\n",
       "          Unnamed: 3 Unnamed: 4                          Unnamed: 5  \\\n",
       "0                NaN        NaN                                 NaN   \n",
       "1                NaN        NaN                                 NaN   \n",
       "2  2010 Census Tract       PUMA  Neighborhood Tabulation Area (NTA)   \n",
       "3                NaN        NaN                                Code   \n",
       "4             031000       3704                                BX31   \n",
       "\n",
       "                Unnamed: 6  \n",
       "0                      NaN  \n",
       "1                      NaN  \n",
       "2                      NaN  \n",
       "3                     Name  \n",
       "4  Allerton-Pelham Gardens  "
      ]
     },
     "execution_count": 6,
     "metadata": {},
     "output_type": "execute_result"
    }
   ],
   "source": [
    "neigh.head()"
   ]
  },
  {
   "cell_type": "code",
   "execution_count": 8,
   "metadata": {},
   "outputs": [],
   "source": [
    "#convert census tract to float\n",
    "neigh['2010 Census Tract']=neigh['2010 Census Tract'].astype(float)"
   ]
  },
  {
   "cell_type": "code",
   "execution_count": 22,
   "metadata": {},
   "outputs": [
    {
     "data": {
      "text/plain": [
       "0    14300.0\n",
       "1    14300.0\n",
       "2    14300.0\n",
       "3     7600.0\n",
       "4     7600.0\n",
       "Name: n_stop_id, dtype: float64"
      ]
     },
     "execution_count": 22,
     "metadata": {},
     "output_type": "execute_result"
    }
   ],
   "source": [
    "new_data['n_stop_id'].head()"
   ]
  },
  {
   "cell_type": "code",
   "execution_count": 9,
   "metadata": {},
   "outputs": [],
   "source": [
    "# Matching the geoids to the start station ID \n",
    "new_data =new_data.join(neigh.set_index(['2010 Census Tract']), on=['n_stop_id'], how='left')"
   ]
  },
  {
   "cell_type": "code",
   "execution_count": 11,
   "metadata": {},
   "outputs": [],
   "source": [
    "new_data = new_data.drop(['index', 'PUMA', 'Neighborhood Tabulation Area (NTA)','Borough'], axis = 1)"
   ]
  },
  {
   "cell_type": "code",
   "execution_count": 10,
   "metadata": {},
   "outputs": [],
   "source": [
    "new_data.rename(columns = {'neighborhood': 'end_station_neighborhood','2010 Census Bureau FIPS County Code':'end_county_code','2010 NYC Borough Code':'end_borough_code'}, inplace = True)"
   ]
  },
  {
   "cell_type": "code",
   "execution_count": 11,
   "metadata": {},
   "outputs": [
    {
     "data": {
      "text/html": [
       "<div>\n",
       "<style scoped>\n",
       "    .dataframe tbody tr th:only-of-type {\n",
       "        vertical-align: middle;\n",
       "    }\n",
       "\n",
       "    .dataframe tbody tr th {\n",
       "        vertical-align: top;\n",
       "    }\n",
       "\n",
       "    .dataframe thead th {\n",
       "        text-align: right;\n",
       "    }\n",
       "</style>\n",
       "<table border=\"1\" class=\"dataframe\">\n",
       "  <thead>\n",
       "    <tr style=\"text-align: right;\">\n",
       "      <th></th>\n",
       "      <th>Unnamed: 0</th>\n",
       "      <th>starttime</th>\n",
       "      <th>stoptime</th>\n",
       "      <th>start station name</th>\n",
       "      <th>end station name</th>\n",
       "      <th>usertype</th>\n",
       "      <th>birth year</th>\n",
       "      <th>gender</th>\n",
       "      <th>start_station_geoid</th>\n",
       "      <th>end_station_geoid</th>\n",
       "      <th>...</th>\n",
       "      <th>start_borough</th>\n",
       "      <th>start_county_code</th>\n",
       "      <th>start_station_neighborhood</th>\n",
       "      <th>index</th>\n",
       "      <th>Borough</th>\n",
       "      <th>end_county_code</th>\n",
       "      <th>end_borough_code</th>\n",
       "      <th>PUMA</th>\n",
       "      <th>Neighborhood Tabulation Area (NTA)</th>\n",
       "      <th>end_station_neighborhood</th>\n",
       "    </tr>\n",
       "  </thead>\n",
       "  <tbody>\n",
       "    <tr>\n",
       "      <th>0</th>\n",
       "      <td>0</td>\n",
       "      <td>2017-01-01 00:00:21</td>\n",
       "      <td>2017-01-01 00:11:41</td>\n",
       "      <td>W 82 St &amp; Central Park West</td>\n",
       "      <td>Central Park West &amp; W 72 St</td>\n",
       "      <td>Subscriber</td>\n",
       "      <td>1965.0</td>\n",
       "      <td>2</td>\n",
       "      <td>3.606102e+10</td>\n",
       "      <td>3.606101e+10</td>\n",
       "      <td>...</td>\n",
       "      <td>Bronx</td>\n",
       "      <td>5.0</td>\n",
       "      <td>Claremont-Bathgate</td>\n",
       "      <td>58</td>\n",
       "      <td>Bronx</td>\n",
       "      <td>005</td>\n",
       "      <td>2</td>\n",
       "      <td>3708</td>\n",
       "      <td>BX14</td>\n",
       "      <td>East Concourse-Concourse Village</td>\n",
       "    </tr>\n",
       "    <tr>\n",
       "      <th>0</th>\n",
       "      <td>0</td>\n",
       "      <td>2017-01-01 00:00:21</td>\n",
       "      <td>2017-01-01 00:11:41</td>\n",
       "      <td>W 82 St &amp; Central Park West</td>\n",
       "      <td>Central Park West &amp; W 72 St</td>\n",
       "      <td>Subscriber</td>\n",
       "      <td>1965.0</td>\n",
       "      <td>2</td>\n",
       "      <td>3.606102e+10</td>\n",
       "      <td>3.606101e+10</td>\n",
       "      <td>...</td>\n",
       "      <td>Bronx</td>\n",
       "      <td>5.0</td>\n",
       "      <td>Claremont-Bathgate</td>\n",
       "      <td>948</td>\n",
       "      <td>Brooklyn</td>\n",
       "      <td>047</td>\n",
       "      <td>3</td>\n",
       "      <td>4005</td>\n",
       "      <td>BK37</td>\n",
       "      <td>Park Slope-Gowanus</td>\n",
       "    </tr>\n",
       "    <tr>\n",
       "      <th>0</th>\n",
       "      <td>0</td>\n",
       "      <td>2017-01-01 00:00:21</td>\n",
       "      <td>2017-01-01 00:11:41</td>\n",
       "      <td>W 82 St &amp; Central Park West</td>\n",
       "      <td>Central Park West &amp; W 72 St</td>\n",
       "      <td>Subscriber</td>\n",
       "      <td>1965.0</td>\n",
       "      <td>2</td>\n",
       "      <td>3.606102e+10</td>\n",
       "      <td>3.606101e+10</td>\n",
       "      <td>...</td>\n",
       "      <td>Bronx</td>\n",
       "      <td>5.0</td>\n",
       "      <td>Claremont-Bathgate</td>\n",
       "      <td>1288</td>\n",
       "      <td>Manhattan</td>\n",
       "      <td>061</td>\n",
       "      <td>1</td>\n",
       "      <td>3806</td>\n",
       "      <td>MN99</td>\n",
       "      <td>park-cemetery-etc-Manhattan</td>\n",
       "    </tr>\n",
       "    <tr>\n",
       "      <th>0</th>\n",
       "      <td>0</td>\n",
       "      <td>2017-01-01 00:00:21</td>\n",
       "      <td>2017-01-01 00:11:41</td>\n",
       "      <td>W 82 St &amp; Central Park West</td>\n",
       "      <td>Central Park West &amp; W 72 St</td>\n",
       "      <td>Subscriber</td>\n",
       "      <td>1965.0</td>\n",
       "      <td>2</td>\n",
       "      <td>3.606102e+10</td>\n",
       "      <td>3.606101e+10</td>\n",
       "      <td>...</td>\n",
       "      <td>Bronx</td>\n",
       "      <td>5.0</td>\n",
       "      <td>Claremont-Bathgate</td>\n",
       "      <td>1406</td>\n",
       "      <td>Queens</td>\n",
       "      <td>081</td>\n",
       "      <td>4</td>\n",
       "      <td>4101</td>\n",
       "      <td>QN70</td>\n",
       "      <td>Astoria</td>\n",
       "    </tr>\n",
       "    <tr>\n",
       "      <th>1</th>\n",
       "      <td>0</td>\n",
       "      <td>2017-01-01 00:00:21</td>\n",
       "      <td>2017-01-01 00:11:41</td>\n",
       "      <td>W 82 St &amp; Central Park West</td>\n",
       "      <td>Central Park West &amp; W 72 St</td>\n",
       "      <td>Subscriber</td>\n",
       "      <td>1965.0</td>\n",
       "      <td>2</td>\n",
       "      <td>3.606102e+10</td>\n",
       "      <td>3.606101e+10</td>\n",
       "      <td>...</td>\n",
       "      <td>Brooklyn</td>\n",
       "      <td>47.0</td>\n",
       "      <td>Park Slope-Gowanus</td>\n",
       "      <td>58</td>\n",
       "      <td>Bronx</td>\n",
       "      <td>005</td>\n",
       "      <td>2</td>\n",
       "      <td>3708</td>\n",
       "      <td>BX14</td>\n",
       "      <td>East Concourse-Concourse Village</td>\n",
       "    </tr>\n",
       "  </tbody>\n",
       "</table>\n",
       "<p>5 rows × 23 columns</p>\n",
       "</div>"
      ],
      "text/plain": [
       "   Unnamed: 0            starttime             stoptime  \\\n",
       "0           0  2017-01-01 00:00:21  2017-01-01 00:11:41   \n",
       "0           0  2017-01-01 00:00:21  2017-01-01 00:11:41   \n",
       "0           0  2017-01-01 00:00:21  2017-01-01 00:11:41   \n",
       "0           0  2017-01-01 00:00:21  2017-01-01 00:11:41   \n",
       "1           0  2017-01-01 00:00:21  2017-01-01 00:11:41   \n",
       "\n",
       "            start station name             end station name    usertype  \\\n",
       "0  W 82 St & Central Park West  Central Park West & W 72 St  Subscriber   \n",
       "0  W 82 St & Central Park West  Central Park West & W 72 St  Subscriber   \n",
       "0  W 82 St & Central Park West  Central Park West & W 72 St  Subscriber   \n",
       "0  W 82 St & Central Park West  Central Park West & W 72 St  Subscriber   \n",
       "1  W 82 St & Central Park West  Central Park West & W 72 St  Subscriber   \n",
       "\n",
       "   birth year  gender  start_station_geoid  end_station_geoid  ...  \\\n",
       "0      1965.0       2         3.606102e+10       3.606101e+10  ...   \n",
       "0      1965.0       2         3.606102e+10       3.606101e+10  ...   \n",
       "0      1965.0       2         3.606102e+10       3.606101e+10  ...   \n",
       "0      1965.0       2         3.606102e+10       3.606101e+10  ...   \n",
       "1      1965.0       2         3.606102e+10       3.606101e+10  ...   \n",
       "\n",
       "   start_borough  start_county_code  start_station_neighborhood index  \\\n",
       "0          Bronx                5.0          Claremont-Bathgate    58   \n",
       "0          Bronx                5.0          Claremont-Bathgate   948   \n",
       "0          Bronx                5.0          Claremont-Bathgate  1288   \n",
       "0          Bronx                5.0          Claremont-Bathgate  1406   \n",
       "1       Brooklyn               47.0          Park Slope-Gowanus    58   \n",
       "\n",
       "     Borough end_county_code  end_borough_code  PUMA  \\\n",
       "0      Bronx             005                 2  3708   \n",
       "0   Brooklyn             047                 3  4005   \n",
       "0  Manhattan             061                 1  3806   \n",
       "0     Queens             081                 4  4101   \n",
       "1      Bronx             005                 2  3708   \n",
       "\n",
       "  Neighborhood Tabulation Area (NTA)          end_station_neighborhood  \n",
       "0                               BX14  East Concourse-Concourse Village  \n",
       "0                               BK37                Park Slope-Gowanus  \n",
       "0                               MN99       park-cemetery-etc-Manhattan  \n",
       "0                               QN70                           Astoria  \n",
       "1                               BX14  East Concourse-Concourse Village  \n",
       "\n",
       "[5 rows x 23 columns]"
      ]
     },
     "execution_count": 11,
     "metadata": {},
     "output_type": "execute_result"
    }
   ],
   "source": [
    "new_data.head()"
   ]
  },
  {
   "cell_type": "code",
   "execution_count": 12,
   "metadata": {},
   "outputs": [],
   "source": [
    "#save data\n",
    "trip_neigh = new_data.to_csv('./tripneigh.csv')\n"
   ]
  },
  {
   "cell_type": "markdown",
   "metadata": {},
   "source": [
    "<br/>"
   ]
  },
  {
   "cell_type": "markdown",
   "metadata": {},
   "source": [
    "_______________\n",
    "\n",
    "<br/>\n",
    "\n",
    "\n",
    "# Questions for Reviewers"
   ]
  },
  {
   "cell_type": "markdown",
   "metadata": {},
   "source": [
    "- "
   ]
  },
  {
   "cell_type": "markdown",
   "metadata": {},
   "source": [
    "_______________"
   ]
  },
  {
   "cell_type": "markdown",
   "metadata": {},
   "source": [
    "## Brief Plan of Next Steps \n",
    "\n",
    "- Look into creating a geomap plot for the station locations and race & income distribution with the number of trips"
   ]
  }
 ],
 "metadata": {
  "kernelspec": {
   "display_name": "Python 3",
   "language": "python",
   "name": "python3"
  },
  "language_info": {
   "codemirror_mode": {
    "name": "ipython",
    "version": 3
   },
   "file_extension": ".py",
   "mimetype": "text/x-python",
   "name": "python",
   "nbconvert_exporter": "python",
   "pygments_lexer": "ipython3",
   "version": "3.8.5"
  }
 },
 "nbformat": 4,
 "nbformat_minor": 4
}
