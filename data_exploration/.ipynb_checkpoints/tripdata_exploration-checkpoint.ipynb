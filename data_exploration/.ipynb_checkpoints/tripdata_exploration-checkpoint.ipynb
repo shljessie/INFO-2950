{
 "cells": [
  {
   "cell_type": "markdown",
   "metadata": {},
   "source": [
    " ## Citibike Tripdata Exploration"
   ]
  },
  {
   "cell_type": "markdown",
   "metadata": {},
   "source": [
    "This is a notebook about the results of citibike tripdata exploration.\n",
    "We are looking at citibike trips in 2017. \n",
    "Here I will analyze the user types, and citibike tripdata trends I found."
   ]
  },
  {
   "cell_type": "code",
   "execution_count": 1,
   "metadata": {},
   "outputs": [],
   "source": [
    "import pandas as pd \n",
    "import numpy as np\n",
    "import matplotlib.pyplot as plt\n",
    "import seaborn as sns"
   ]
  },
  {
   "cell_type": "code",
   "execution_count": 73,
   "metadata": {},
   "outputs": [],
   "source": [
    "# read the csv file\n",
    "df = pd.read_csv('./final_trip_data.csv')"
   ]
  },
  {
   "cell_type": "code",
   "execution_count": 19,
   "metadata": {},
   "outputs": [
    {
     "data": {
      "text/plain": [
       "Unnamed: 0               int64\n",
       "Unnamed: 0.1           float64\n",
       "tripduration             int64\n",
       "starttime               object\n",
       "stoptime                object\n",
       "start station name      object\n",
       "end station name        object\n",
       "usertype                object\n",
       "birth year             float64\n",
       "gender                   int64\n",
       "start_station_geoid    float64\n",
       "end_station_geoid      float64\n",
       "dtype: object"
      ]
     },
     "execution_count": 19,
     "metadata": {},
     "output_type": "execute_result"
    }
   ],
   "source": [
    "df.dtypes"
   ]
  },
  {
   "cell_type": "code",
   "execution_count": 20,
   "metadata": {},
   "outputs": [],
   "source": [
    "#transform to datetime object\n",
    "df['starttime']=pd.to_datetime(df['starttime'], format='%Y-%m-%d %H:%M:%S')"
   ]
  },
  {
   "cell_type": "code",
   "execution_count": 22,
   "metadata": {},
   "outputs": [],
   "source": [
    "df['stoptime']=pd.to_datetime(df['stoptime'], format='%Y-%m-%d %H:%M:%S')"
   ]
  },
  {
   "cell_type": "code",
   "execution_count": 23,
   "metadata": {},
   "outputs": [
    {
     "data": {
      "text/plain": [
       "Unnamed: 0                      int64\n",
       "Unnamed: 0.1                  float64\n",
       "tripduration                    int64\n",
       "starttime              datetime64[ns]\n",
       "stoptime               datetime64[ns]\n",
       "start station name             object\n",
       "end station name               object\n",
       "usertype                       object\n",
       "birth year                    float64\n",
       "gender                          int64\n",
       "start_station_geoid           float64\n",
       "end_station_geoid             float64\n",
       "dtype: object"
      ]
     },
     "execution_count": 23,
     "metadata": {},
     "output_type": "execute_result"
    }
   ],
   "source": [
    "df.dtypes"
   ]
  },
  {
   "cell_type": "code",
   "execution_count": null,
   "metadata": {},
   "outputs": [],
   "source": [
    "#drop columns where user's are subs"
   ]
  },
  {
   "cell_type": "markdown",
   "metadata": {},
   "source": [
    "### Trips by time "
   ]
  },
  {
   "cell_type": "code",
   "execution_count": 24,
   "metadata": {},
   "outputs": [],
   "source": [
    "df['start hour']=df['starttime'].dt.hour.astype('category')\n",
    "df['start day']=df['starttime'].dt.day.astype('category') \n",
    "df['weekday']=df['starttime'].dt.weekday.astype('category')"
   ]
  },
  {
   "cell_type": "code",
   "execution_count": 71,
   "metadata": {},
   "outputs": [
    {
     "data": {
      "image/png": "[encoded data removed]",
      "text/plain": [
       "<Figure size 864x360 with 1 Axes>"
      ]
     },
     "metadata": {
      "needs_background": "light"
     },
     "output_type": "display_data"
    }
   ],
   "source": [
    "plt.figure(figsize=(12,5))\n",
    "time= sns.countplot(data=df, x=\"start hour\")\n",
    "plt.ticklabel_format(style='plain', axis='y')\n",
    "time.set(xlabel='Start Time', ylabel='Count',title=\"Start Time for Bikes During the Day\")\n",
    "plt.show()"
   ]
  },
  {
   "cell_type": "markdown",
   "metadata": {},
   "source": [
    "From this graph we can see that people tend to ride bikes mostly at 8-9am, and 4-7pm usual times when people commute from and to work. This graph was made excluding the weekends. "
   ]
  },
  {
   "cell_type": "markdown",
   "metadata": {},
   "source": [
    "### Number of Trips Per Month"
   ]
  },
  {
   "cell_type": "code",
   "execution_count": 31,
   "metadata": {},
   "outputs": [],
   "source": [
    "df['months']=df['starttime'].dt.month.astype('category')"
   ]
  },
  {
   "cell_type": "code",
   "execution_count": 42,
   "metadata": {},
   "outputs": [
    {
     "data": {
      "image/png": "[encoded data removed]",
      "text/plain": [
       "<Figure size 864x360 with 1 Axes>"
      ]
     },
     "metadata": {
      "needs_background": "light"
     },
     "output_type": "display_data"
    }
   ],
   "source": [
    "\n",
    "plt.figure(figsize=(12,5))\n",
    "time= sns.countplot(data=df, x=\"months\");\n",
    "plt.ticklabel_format(style='plain', axis='y')\n",
    "time.set(xlabel='Months', ylabel='Count',title=\"Bike Rides by Month\")\n",
    "plt.show()"
   ]
  },
  {
   "cell_type": "markdown",
   "metadata": {},
   "source": [
    "From this we can see that in 2017, people ride bikes the most at times from April to October when the weather is warm"
   ]
  },
  {
   "cell_type": "markdown",
   "metadata": {},
   "source": [
    "### Trip Duration Plot"
   ]
  },
  {
   "cell_type": "code",
   "execution_count": 8,
   "metadata": {},
   "outputs": [
    {
     "data": {
      "image/png": "[encoded data removed]",
      "text/plain": [
       "<Figure size 720x360 with 1 Axes>"
      ]
     },
     "metadata": {
      "needs_background": "light"
     },
     "output_type": "display_data"
    }
   ],
   "source": [
    "df['tripminutes'] = df['tripduration'] // 60\n",
    "sns.displot(data=df,x=\"tripminutes\", bins=range(1,61), aspect=10/5);"
   ]
  },
  {
   "cell_type": "markdown",
   "metadata": {},
   "source": [
    "For trip duration by minutes we get a right-skewed graph where most of the trip times don't exceed 20minutes. \n",
    "From this we can see that New York City bike-riders don't travel very far distances."
   ]
  },
  {
   "cell_type": "code",
   "execution_count": null,
   "metadata": {},
   "outputs": [],
   "source": []
  },
  {
   "cell_type": "code",
   "execution_count": null,
   "metadata": {},
   "outputs": [],
   "source": []
  },
  {
   "cell_type": "code",
   "execution_count": null,
   "metadata": {},
   "outputs": [],
   "source": []
  },
  {
   "cell_type": "code",
   "execution_count": 2,
   "metadata": {},
   "outputs": [],
   "source": [
    "# read the csv file\n",
    "df = pd.read_csv('./clean_trip_data.csv')"
   ]
  },
  {
   "cell_type": "code",
   "execution_count": 3,
   "metadata": {},
   "outputs": [
    {
     "data": {
      "text/html": [
       "<div>\n",
       "<style scoped>\n",
       "    .dataframe tbody tr th:only-of-type {\n",
       "        vertical-align: middle;\n",
       "    }\n",
       "\n",
       "    .dataframe tbody tr th {\n",
       "        vertical-align: top;\n",
       "    }\n",
       "\n",
       "    .dataframe thead th {\n",
       "        text-align: right;\n",
       "    }\n",
       "</style>\n",
       "<table border=\"1\" class=\"dataframe\">\n",
       "  <thead>\n",
       "    <tr style=\"text-align: right;\">\n",
       "      <th></th>\n",
       "      <th>Unnamed: 0</th>\n",
       "      <th>starttime</th>\n",
       "      <th>stoptime</th>\n",
       "      <th>start station name</th>\n",
       "      <th>end station name</th>\n",
       "      <th>usertype</th>\n",
       "      <th>birth year</th>\n",
       "      <th>gender</th>\n",
       "      <th>start_station_geoid</th>\n",
       "      <th>end_station_geoid</th>\n",
       "      <th>tripminutes</th>\n",
       "    </tr>\n",
       "  </thead>\n",
       "  <tbody>\n",
       "    <tr>\n",
       "      <th>0</th>\n",
       "      <td>0</td>\n",
       "      <td>2017-01-01 00:00:21</td>\n",
       "      <td>2017-01-01 00:11:41</td>\n",
       "      <td>W 82 St &amp; Central Park West</td>\n",
       "      <td>Central Park West &amp; W 72 St</td>\n",
       "      <td>Subscriber</td>\n",
       "      <td>1965.0</td>\n",
       "      <td>2</td>\n",
       "      <td>3.606102e+10</td>\n",
       "      <td>3.606101e+10</td>\n",
       "      <td>11</td>\n",
       "    </tr>\n",
       "    <tr>\n",
       "      <th>1</th>\n",
       "      <td>1</td>\n",
       "      <td>2017-01-01 00:00:45</td>\n",
       "      <td>2017-01-01 00:22:08</td>\n",
       "      <td>Cooper Square &amp; E 7 St</td>\n",
       "      <td>Broadway &amp; W 32 St</td>\n",
       "      <td>Subscriber</td>\n",
       "      <td>1987.0</td>\n",
       "      <td>2</td>\n",
       "      <td>3.606100e+10</td>\n",
       "      <td>3.606101e+10</td>\n",
       "      <td>21</td>\n",
       "    </tr>\n",
       "    <tr>\n",
       "      <th>2</th>\n",
       "      <td>6</td>\n",
       "      <td>2017-01-01 00:05:00</td>\n",
       "      <td>2017-01-01 00:14:20</td>\n",
       "      <td>Broadway &amp; W 60 St</td>\n",
       "      <td>9 Ave &amp; W 45 St</td>\n",
       "      <td>Subscriber</td>\n",
       "      <td>1973.0</td>\n",
       "      <td>1</td>\n",
       "      <td>3.606101e+10</td>\n",
       "      <td>3.606101e+10</td>\n",
       "      <td>9</td>\n",
       "    </tr>\n",
       "    <tr>\n",
       "      <th>3</th>\n",
       "      <td>7</td>\n",
       "      <td>2017-01-01 00:05:37</td>\n",
       "      <td>2017-01-01 00:19:24</td>\n",
       "      <td>Broadway &amp; W 37 St</td>\n",
       "      <td>E 10 St &amp; Avenue A</td>\n",
       "      <td>Subscriber</td>\n",
       "      <td>1977.0</td>\n",
       "      <td>2</td>\n",
       "      <td>3.606101e+10</td>\n",
       "      <td>3.606100e+10</td>\n",
       "      <td>13</td>\n",
       "    </tr>\n",
       "    <tr>\n",
       "      <th>4</th>\n",
       "      <td>8</td>\n",
       "      <td>2017-01-01 00:05:47</td>\n",
       "      <td>2017-01-01 00:10:02</td>\n",
       "      <td>York St &amp; Jay St</td>\n",
       "      <td>Carlton Ave &amp; Flushing Ave</td>\n",
       "      <td>Subscriber</td>\n",
       "      <td>1989.0</td>\n",
       "      <td>1</td>\n",
       "      <td>3.604700e+10</td>\n",
       "      <td>3.604702e+10</td>\n",
       "      <td>4</td>\n",
       "    </tr>\n",
       "  </tbody>\n",
       "</table>\n",
       "</div>"
      ],
      "text/plain": [
       "   Unnamed: 0            starttime             stoptime  \\\n",
       "0           0  2017-01-01 00:00:21  2017-01-01 00:11:41   \n",
       "1           1  2017-01-01 00:00:45  2017-01-01 00:22:08   \n",
       "2           6  2017-01-01 00:05:00  2017-01-01 00:14:20   \n",
       "3           7  2017-01-01 00:05:37  2017-01-01 00:19:24   \n",
       "4           8  2017-01-01 00:05:47  2017-01-01 00:10:02   \n",
       "\n",
       "            start station name             end station name    usertype  \\\n",
       "0  W 82 St & Central Park West  Central Park West & W 72 St  Subscriber   \n",
       "1       Cooper Square & E 7 St           Broadway & W 32 St  Subscriber   \n",
       "2           Broadway & W 60 St              9 Ave & W 45 St  Subscriber   \n",
       "3           Broadway & W 37 St           E 10 St & Avenue A  Subscriber   \n",
       "4             York St & Jay St   Carlton Ave & Flushing Ave  Subscriber   \n",
       "\n",
       "   birth year  gender  start_station_geoid  end_station_geoid  tripminutes  \n",
       "0      1965.0       2         3.606102e+10       3.606101e+10           11  \n",
       "1      1987.0       2         3.606100e+10       3.606101e+10           21  \n",
       "2      1973.0       1         3.606101e+10       3.606101e+10            9  \n",
       "3      1977.0       2         3.606101e+10       3.606100e+10           13  \n",
       "4      1989.0       1         3.604700e+10       3.604702e+10            4  "
      ]
     },
     "execution_count": 3,
     "metadata": {},
     "output_type": "execute_result"
    }
   ],
   "source": [
    "df.head()"
   ]
  },
  {
   "cell_type": "code",
   "execution_count": 4,
   "metadata": {},
   "outputs": [
    {
     "data": {
      "text/plain": [
       "Index(['Unnamed: 0', 'starttime', 'stoptime', 'start station name',\n",
       "       'end station name', 'usertype', 'birth year', 'gender',\n",
       "       'start_station_geoid', 'end_station_geoid', 'tripminutes'],\n",
       "      dtype='object')"
      ]
     },
     "execution_count": 4,
     "metadata": {},
     "output_type": "execute_result"
    }
   ],
   "source": [
    "df.columns"
   ]
  },
  {
   "cell_type": "code",
   "execution_count": 35,
   "metadata": {},
   "outputs": [],
   "source": [
    "#Identify the 10 most popular trips\n",
    "trips_df = pd.DataFrame()\n",
    "trips_df = df.groupby(['start station name','end station name']).size().reset_index(name = 'Number of Trips')\n",
    "trips_df = trips_df.sort_values('Number of Trips', ascending = False)\n",
    "trips_df['start station name'] = trips_df[\"start station name\"].astype(str)\n",
    "trips_df[\"end station name\"] = trips_df[\"end station name\"].astype(str)\n",
    "trips_df[\"Trip\"] = trips_df[\"start station name\"] + \" to \" + trips_df[\"end station name\"]\n",
    "trips_df = trips_df[:10]\n",
    "trips_df = trips_df.drop(['start station name', \"end station name\"], axis = 1)\n",
    "trips_df = trips_df.reset_index()"
   ]
  },
  {
   "cell_type": "code",
   "execution_count": 36,
   "metadata": {},
   "outputs": [
    {
     "name": "stderr",
     "output_type": "stream",
     "text": [
      "/Users/seongheelee/opt/anaconda3/lib/python3.8/site-packages/seaborn/_decorators.py:36: FutureWarning: Pass the following variables as keyword args: x, y. From version 0.12, the only valid positional argument will be `data`, and passing other arguments without an explicit keyword will result in an error or misinterpretation.\n",
      "  warnings.warn(\n"
     ]
    },
    {
     "data": {
      "image/png": "[encoded data removed]",
      "text/plain": [
       "<Figure size 864x360 with 1 Axes>"
      ]
     },
     "metadata": {
      "needs_background": "light"
     },
     "output_type": "display_data"
    }
   ],
   "source": [
    "plt.figure(figsize=(12,5))\n",
    "ax4 = sns.barplot('Number of Trips','Trip', data = trips_df, palette=\"deep\")\n",
    "ax4.set_title('Top 10 Most Popular Trips')\n",
    "ax4.set_ylabel(\"Start Station & End Station\")\n",
    "ax4.set_xlabel(\"Number of Trips\")\n",
    "for index, row in trips_df.iterrows():\n",
    "    ax4.text(row['Number of Trips']-220,index,row['Number of Trips'], \n",
    "             color='white', ha=\"center\")\n",
    "plt.show()"
   ]
  },
  {
   "cell_type": "code",
   "execution_count": 37,
   "metadata": {},
   "outputs": [
    {
     "data": {
      "text/html": [
       "<div>\n",
       "<style scoped>\n",
       "    .dataframe tbody tr th:only-of-type {\n",
       "        vertical-align: middle;\n",
       "    }\n",
       "\n",
       "    .dataframe tbody tr th {\n",
       "        vertical-align: top;\n",
       "    }\n",
       "\n",
       "    .dataframe thead th {\n",
       "        text-align: right;\n",
       "    }\n",
       "</style>\n",
       "<table border=\"1\" class=\"dataframe\">\n",
       "  <thead>\n",
       "    <tr style=\"text-align: right;\">\n",
       "      <th></th>\n",
       "      <th>index</th>\n",
       "      <th>Number of Trips</th>\n",
       "      <th>Trip</th>\n",
       "    </tr>\n",
       "  </thead>\n",
       "  <tbody>\n",
       "    <tr>\n",
       "      <th>0</th>\n",
       "      <td>137522</td>\n",
       "      <td>5915</td>\n",
       "      <td>E 7 St &amp; Avenue A to Cooper Square &amp; E 7 St</td>\n",
       "    </tr>\n",
       "    <tr>\n",
       "      <th>1</th>\n",
       "      <td>261528</td>\n",
       "      <td>4772</td>\n",
       "      <td>W 21 St &amp; 6 Ave to 9 Ave &amp; W 22 St</td>\n",
       "    </tr>\n",
       "    <tr>\n",
       "      <th>2</th>\n",
       "      <td>218418</td>\n",
       "      <td>4450</td>\n",
       "      <td>Pershing Square North to Broadway &amp; W 32 St</td>\n",
       "    </tr>\n",
       "    <tr>\n",
       "      <th>3</th>\n",
       "      <td>218551</td>\n",
       "      <td>4304</td>\n",
       "      <td>Pershing Square North to E 24 St &amp; Park Ave S</td>\n",
       "    </tr>\n",
       "    <tr>\n",
       "      <th>4</th>\n",
       "      <td>218882</td>\n",
       "      <td>4188</td>\n",
       "      <td>Pershing Square North to W 33 St &amp; 7 Ave</td>\n",
       "    </tr>\n",
       "  </tbody>\n",
       "</table>\n",
       "</div>"
      ],
      "text/plain": [
       "    index  Number of Trips                                           Trip\n",
       "0  137522             5915    E 7 St & Avenue A to Cooper Square & E 7 St\n",
       "1  261528             4772             W 21 St & 6 Ave to 9 Ave & W 22 St\n",
       "2  218418             4450    Pershing Square North to Broadway & W 32 St\n",
       "3  218551             4304  Pershing Square North to E 24 St & Park Ave S\n",
       "4  218882             4188       Pershing Square North to W 33 St & 7 Ave"
      ]
     },
     "execution_count": 37,
     "metadata": {},
     "output_type": "execute_result"
    }
   ],
   "source": []
  },
  {
   "cell_type": "code",
   "execution_count": 21,
   "metadata": {},
   "outputs": [],
   "source": [
    "#Identify the 10 most unpopular trips\n",
    "trips_df = pd.DataFrame()\n",
    "trips_df = df.groupby(['start station name','end station name']).size().reset_index(name = 'Number of Trips')\n",
    "trips_df = trips_df.sort_values('Number of Trips', ascending = True)\n",
    "trips_df['start station name'] = trips_df[\"start station name\"].astype(str)\n",
    "trips_df[\"end station name\"] = trips_df[\"end station name\"].astype(str)\n",
    "trips_df[\"Trip\"] = trips_df[\"start station name\"] + \" to \" + trips_df[\"end station name\"]\n",
    "trips_df = trips_df[:10]\n",
    "trips_df = trips_df.drop(['start station name', \"end station name\"], axis = 1)\n",
    "trips_df = trips_df.reset_index()"
   ]
  },
  {
   "cell_type": "code",
   "execution_count": 34,
   "metadata": {},
   "outputs": [
    {
     "name": "stderr",
     "output_type": "stream",
     "text": [
      "/Users/seongheelee/opt/anaconda3/lib/python3.8/site-packages/seaborn/_decorators.py:36: FutureWarning: Pass the following variables as keyword args: x, y. From version 0.12, the only valid positional argument will be `data`, and passing other arguments without an explicit keyword will result in an error or misinterpretation.\n",
      "  warnings.warn(\n"
     ]
    },
    {
     "data": {
      "image/png": "[encoded data removed]",
      "text/plain": [
       "<Figure size 864x360 with 1 Axes>"
      ]
     },
     "metadata": {
      "needs_background": "light"
     },
     "output_type": "display_data"
    }
   ],
   "source": [
    "plt.figure(figsize=(12,5))\n",
    "ax4 = sns.barplot('Number of Trips','Trip', data = trips_df, palette=\"deep\")\n",
    "ax4.set_title('Most UnPopular Trips')\n",
    "ax4.set_ylabel(\"Trip\")\n",
    "ax4.set_xlabel(\"Number of Trips\")\n",
    "for index, row in trips_df.iterrows():\n",
    "    ax4.text(row['Number of Trips'],index,row['Number of Trips'], \n",
    "             color='white', ha=\"center\")\n",
    "plt.show()"
   ]
  },
  {
   "cell_type": "code",
   "execution_count": 39,
   "metadata": {},
   "outputs": [],
   "source": [
    "count_trips_df = pd.DataFrame()\n",
    "count_trips_df = df.groupby(['start station name','end station name']).size().reset_index(name = 'Number of Trips')\n",
    "count_trips_df = count_trips_df.sort_values('Number of Trips', ascending = False)\n",
    "count_trips_df['start station name'] = count_trips_df[\"start station name\"].astype(str)\n",
    "count_trips_df[\"end station name\"] = count_trips_df[\"end station name\"].astype(str)"
   ]
  },
  {
   "cell_type": "code",
   "execution_count": 40,
   "metadata": {},
   "outputs": [
    {
     "data": {
      "text/html": [
       "<div>\n",
       "<style scoped>\n",
       "    .dataframe tbody tr th:only-of-type {\n",
       "        vertical-align: middle;\n",
       "    }\n",
       "\n",
       "    .dataframe tbody tr th {\n",
       "        vertical-align: top;\n",
       "    }\n",
       "\n",
       "    .dataframe thead th {\n",
       "        text-align: right;\n",
       "    }\n",
       "</style>\n",
       "<table border=\"1\" class=\"dataframe\">\n",
       "  <thead>\n",
       "    <tr style=\"text-align: right;\">\n",
       "      <th></th>\n",
       "      <th>start station name</th>\n",
       "      <th>end station name</th>\n",
       "      <th>Number of Trips</th>\n",
       "    </tr>\n",
       "  </thead>\n",
       "  <tbody>\n",
       "    <tr>\n",
       "      <th>137522</th>\n",
       "      <td>E 7 St &amp; Avenue A</td>\n",
       "      <td>Cooper Square &amp; E 7 St</td>\n",
       "      <td>5915</td>\n",
       "    </tr>\n",
       "    <tr>\n",
       "      <th>261528</th>\n",
       "      <td>W 21 St &amp; 6 Ave</td>\n",
       "      <td>9 Ave &amp; W 22 St</td>\n",
       "      <td>4772</td>\n",
       "    </tr>\n",
       "    <tr>\n",
       "      <th>218418</th>\n",
       "      <td>Pershing Square North</td>\n",
       "      <td>Broadway &amp; W 32 St</td>\n",
       "      <td>4450</td>\n",
       "    </tr>\n",
       "    <tr>\n",
       "      <th>218551</th>\n",
       "      <td>Pershing Square North</td>\n",
       "      <td>E 24 St &amp; Park Ave S</td>\n",
       "      <td>4304</td>\n",
       "    </tr>\n",
       "    <tr>\n",
       "      <th>218882</th>\n",
       "      <td>Pershing Square North</td>\n",
       "      <td>W 33 St &amp; 7 Ave</td>\n",
       "      <td>4188</td>\n",
       "    </tr>\n",
       "  </tbody>\n",
       "</table>\n",
       "</div>"
      ],
      "text/plain": [
       "           start station name        end station name  Number of Trips\n",
       "137522      E 7 St & Avenue A  Cooper Square & E 7 St             5915\n",
       "261528        W 21 St & 6 Ave         9 Ave & W 22 St             4772\n",
       "218418  Pershing Square North      Broadway & W 32 St             4450\n",
       "218551  Pershing Square North    E 24 St & Park Ave S             4304\n",
       "218882  Pershing Square North         W 33 St & 7 Ave             4188"
      ]
     },
     "execution_count": 40,
     "metadata": {},
     "output_type": "execute_result"
    }
   ],
   "source": [
    "count_trips_df.head()"
   ]
  },
  {
   "cell_type": "code",
   "execution_count": 41,
   "metadata": {},
   "outputs": [
    {
     "data": {
      "text/plain": [
       "(299340, 3)"
      ]
     },
     "execution_count": 41,
     "metadata": {},
     "output_type": "execute_result"
    }
   ],
   "source": [
    "count_trips_df.shape"
   ]
  },
  {
   "cell_type": "code",
   "execution_count": 43,
   "metadata": {},
   "outputs": [],
   "source": [
    "#save to csv\n",
    "count_trips_df = count_trips_df.to_csv('./count_trips.csv')"
   ]
  },
  {
   "cell_type": "code",
   "execution_count": null,
   "metadata": {},
   "outputs": [],
   "source": [
    "#plot number of trips variation\n",
    "\n"
   ]
  }
 ],
 "metadata": {
  "kernelspec": {
   "display_name": "Python 3",
   "language": "python",
   "name": "python3"
  },
  "language_info": {
   "codemirror_mode": {
    "name": "ipython",
    "version": 3
   },
   "file_extension": ".py",
   "mimetype": "text/x-python",
   "name": "python",
   "nbconvert_exporter": "python",
   "pygments_lexer": "ipython3",
   "version": "3.8.5"
  }
 },
 "nbformat": 4,
 "nbformat_minor": 4
}
